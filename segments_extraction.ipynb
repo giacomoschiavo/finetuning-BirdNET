{
 "cells": [
  {
   "cell_type": "code",
   "execution_count": 1,
   "metadata": {},
   "outputs": [],
   "source": [
    "import scipy.io\n",
    "import numpy as np\n",
    "import librosa\n",
    "import librosa.display\n",
    "import matplotlib.pyplot as plt\n",
    "import math\n",
    "import soundfile as sf\n",
    "import os\n",
    "from pydub import AudioSegment\n",
    "from tqdm import tqdm\n",
    "import random\n",
    "random.seed(4)\n"
   ]
  },
  {
   "cell_type": "code",
   "execution_count": 2,
   "metadata": {},
   "outputs": [
    {
     "data": {
      "text/plain": [
       "['20190601_000000.WAV',\n",
       " '20190601_010000.WAV',\n",
       " '20190601_020000.WAV',\n",
       " '20190601_030000.WAV',\n",
       " '20190601_040000.WAV']"
      ]
     },
     "execution_count": 2,
     "metadata": {},
     "output_type": "execute_result"
    }
   ],
   "source": [
    "# prendi il nome di tutti i files\n",
    "audio_path = \"D:\\\\Giacomo\\\\Tovanella-20241110T120546Z-001\\\\Tovanella\"\n",
    "audio_names = os.listdir(audio_path)\n",
    "audio_names[:5]"
   ]
  },
  {
   "cell_type": "code",
   "execution_count": 3,
   "metadata": {},
   "outputs": [],
   "source": [
    "import json\n",
    "\n",
    "category_info = {}\n",
    "audio_info = {}\n",
    "with open('utils\\coords.json') as f:\n",
    "    category_info = json.load(f)\n",
    "with open('utils\\inverted_coords.json') as f:\n",
    "    audio_info = json.load(f)\n"
   ]
  },
  {
   "cell_type": "code",
   "execution_count": 4,
   "metadata": {},
   "outputs": [],
   "source": [
    "des_segm_path = \"D:\\\\Giacomo\\\\Tovanella-20241110T120546Z-001\\\\segments_2\"\n",
    "os.makedirs(des_segm_path, exist_ok=True)\n",
    "os.makedirs(os.path.join(des_segm_path, \"train\"), exist_ok=True)\n",
    "os.makedirs(os.path.join(des_segm_path, \"test\"), exist_ok=True)"
   ]
  },
  {
   "cell_type": "code",
   "execution_count": 5,
   "metadata": {},
   "outputs": [],
   "source": [
    "# per ogni categoria, prende tutti i file associati\n",
    "# per ogni file, ne prende la durata\n",
    "# se troppo corto (<3s) viene ignorato\n",
    "# altrimenti viene salvato il time_frame da cui estrarre il segmento da 3s\n",
    "# ogni segmento viene salvato sotto la categoria a cui appartiene\n",
    "# tutti gli audio della stessa categoria vengono mescolati\n",
    "\n",
    "target_dir = \"D:\\\\Giacomo\\\\Tovanella-20241110T120546Z-001\\\\Tovanella\"\n",
    "extracted_info = {}\n",
    "for category in category_info:\n",
    "    files_info = category_info[category]\n",
    "    extracted_info[category] = []\n",
    "    for file in files_info:\n",
    "        duration = file[\"duration\"]\n",
    "        if file[\"file_name\"] not in audio_names or duration < 3:\n",
    "            continue\n",
    "        segments_start_time = [ file[\"start_time\"] + i*3 for i in range(duration // 3) ]\n",
    "        full_path = os.path.join(target_dir, file[\"file_name\"])\n",
    "        for segment in segments_start_time:\n",
    "            extracted_info[category].append({\"file_name\": full_path, \"start_time\": segment})\n",
    "    random.shuffle(extracted_info[category])"
   ]
  },
  {
   "cell_type": "code",
   "execution_count": 6,
   "metadata": {},
   "outputs": [
    {
     "name": "stdout",
     "output_type": "stream",
     "text": [
      "Loading Wind_ category... 0/26\n"
     ]
    },
    {
     "name": "stderr",
     "output_type": "stream",
     "text": [
      "100%|██████████| 126/126 [00:10<00:00, 12.20it/s]\n"
     ]
    },
    {
     "name": "stdout",
     "output_type": "stream",
     "text": [
      "Loading Regulus ignicapilla_Common Firecrest category... 1/26\n"
     ]
    },
    {
     "name": "stderr",
     "output_type": "stream",
     "text": [
      "100%|██████████| 296/296 [00:22<00:00, 13.32it/s]\n"
     ]
    },
    {
     "name": "stdout",
     "output_type": "stream",
     "text": [
      "Loading Sylvia atricapilla_Eurasian Blackcap category... 2/26\n"
     ]
    },
    {
     "name": "stderr",
     "output_type": "stream",
     "text": [
      "100%|██████████| 931/931 [01:25<00:00, 10.94it/s]\n"
     ]
    },
    {
     "name": "stdout",
     "output_type": "stream",
     "text": [
      "Loading Fringilla coelebs_Common Chaffinch category... 3/26\n"
     ]
    },
    {
     "name": "stderr",
     "output_type": "stream",
     "text": [
      "100%|██████████| 1134/1134 [04:56<00:00,  3.82it/s]\n"
     ]
    },
    {
     "name": "stdout",
     "output_type": "stream",
     "text": [
      "Loading Troglodytes troglodytes_Eurasian Wren category... 4/26\n"
     ]
    },
    {
     "name": "stderr",
     "output_type": "stream",
     "text": [
      "100%|██████████| 303/303 [00:30<00:00,  9.79it/s]\n"
     ]
    },
    {
     "name": "stdout",
     "output_type": "stream",
     "text": [
      "Loading Muscicapa striata_Spotted Flycatcher category... 5/26\n"
     ]
    },
    {
     "name": "stderr",
     "output_type": "stream",
     "text": [
      "100%|██████████| 112/112 [00:07<00:00, 14.98it/s]\n"
     ]
    },
    {
     "name": "stdout",
     "output_type": "stream",
     "text": [
      "Loading Phylloscopus collybita_Common Chiffchaff category... 6/26\n"
     ]
    },
    {
     "name": "stderr",
     "output_type": "stream",
     "text": [
      "100%|██████████| 412/412 [00:36<00:00, 11.32it/s]\n"
     ]
    },
    {
     "name": "stdout",
     "output_type": "stream",
     "text": [
      "Loading Turdus viscivorus_Mistle Thrush category... 7/26\n"
     ]
    },
    {
     "name": "stderr",
     "output_type": "stream",
     "text": [
      "100%|██████████| 26/26 [00:02<00:00, 10.13it/s]\n"
     ]
    },
    {
     "name": "stdout",
     "output_type": "stream",
     "text": [
      "Loading Glaucidium passerinum_Eurasian Pygmy-Owl category... 8/26\n"
     ]
    },
    {
     "name": "stderr",
     "output_type": "stream",
     "text": [
      "100%|██████████| 10/10 [00:00<00:00, 12.35it/s]\n"
     ]
    },
    {
     "name": "stdout",
     "output_type": "stream",
     "text": [
      "Loading Pecking_ category... 9/26\n"
     ]
    },
    {
     "name": "stderr",
     "output_type": "stream",
     "text": [
      "100%|██████████| 46/46 [00:04<00:00,  9.85it/s]\n"
     ]
    },
    {
     "name": "stdout",
     "output_type": "stream",
     "text": [
      "Loading Lophophanes cristatus_Crested Tit category... 10/26\n"
     ]
    },
    {
     "name": "stderr",
     "output_type": "stream",
     "text": [
      "100%|██████████| 15/15 [00:03<00:00,  4.42it/s]\n"
     ]
    },
    {
     "name": "stdout",
     "output_type": "stream",
     "text": [
      "Loading Pyrrhula pyrrhula_Eurasian Bullfinch category... 11/26\n"
     ]
    },
    {
     "name": "stderr",
     "output_type": "stream",
     "text": [
      "100%|██████████| 6/6 [00:00<00:00, 10.82it/s]\n"
     ]
    },
    {
     "name": "stdout",
     "output_type": "stream",
     "text": [
      "Loading Insect_ category... 12/26\n"
     ]
    },
    {
     "name": "stderr",
     "output_type": "stream",
     "text": [
      "100%|██████████| 2/2 [00:00<00:00, 12.55it/s]\n"
     ]
    },
    {
     "name": "stdout",
     "output_type": "stream",
     "text": [
      "Loading Aeroplane_ category... 13/26\n"
     ]
    },
    {
     "name": "stderr",
     "output_type": "stream",
     "text": [
      "100%|██████████| 18/18 [00:01<00:00, 10.69it/s]\n"
     ]
    },
    {
     "name": "stdout",
     "output_type": "stream",
     "text": [
      "Loading Vegetation_ category... 14/26\n"
     ]
    },
    {
     "name": "stderr",
     "output_type": "stream",
     "text": [
      "100%|██████████| 26/26 [00:02<00:00, 10.02it/s]\n"
     ]
    },
    {
     "name": "stdout",
     "output_type": "stream",
     "text": [
      "Loading Rain_ category... 15/26\n"
     ]
    },
    {
     "name": "stderr",
     "output_type": "stream",
     "text": [
      "100%|██████████| 199/199 [00:18<00:00, 10.90it/s]\n"
     ]
    },
    {
     "name": "stdout",
     "output_type": "stream",
     "text": [
      "Loading Turdus merula_Eurasian Blackbird category... 16/26\n"
     ]
    },
    {
     "name": "stderr",
     "output_type": "stream",
     "text": [
      "100%|██████████| 21/21 [00:02<00:00,  7.01it/s]\n"
     ]
    },
    {
     "name": "stdout",
     "output_type": "stream",
     "text": [
      "Loading Certhia familiaris_Eurasian Treecreeper category... 17/26\n"
     ]
    },
    {
     "name": "stderr",
     "output_type": "stream",
     "text": [
      "100%|██████████| 29/29 [00:05<00:00,  5.05it/s]\n"
     ]
    },
    {
     "name": "stdout",
     "output_type": "stream",
     "text": [
      "Loading Erithacus rubecula_European Robin category... 18/26\n"
     ]
    },
    {
     "name": "stderr",
     "output_type": "stream",
     "text": [
      "100%|██████████| 117/117 [00:13<00:00,  8.48it/s]\n"
     ]
    },
    {
     "name": "stdout",
     "output_type": "stream",
     "text": [
      "Loading Turdus philomelos_Song Thrush category... 19/26\n"
     ]
    },
    {
     "name": "stderr",
     "output_type": "stream",
     "text": [
      "100%|██████████| 472/472 [00:52<00:00,  8.96it/s]\n"
     ]
    },
    {
     "name": "stdout",
     "output_type": "stream",
     "text": [
      "Loading Loxia curvirostra_Common Crossbill category... 20/26\n"
     ]
    },
    {
     "name": "stderr",
     "output_type": "stream",
     "text": [
      "100%|██████████| 74/74 [00:08<00:00,  8.81it/s]\n"
     ]
    },
    {
     "name": "stdout",
     "output_type": "stream",
     "text": [
      "Loading Periparus ater_Coal Tit category... 21/26\n"
     ]
    },
    {
     "name": "stderr",
     "output_type": "stream",
     "text": [
      "100%|██████████| 43/43 [00:05<00:00,  8.19it/s]\n"
     ]
    },
    {
     "name": "stdout",
     "output_type": "stream",
     "text": [
      "Loading Dendrocopos major_Great Spotted Woodpecker category... 22/26\n"
     ]
    },
    {
     "name": "stderr",
     "output_type": "stream",
     "text": [
      "100%|██████████| 11/11 [00:01<00:00,  7.94it/s]\n"
     ]
    },
    {
     "name": "stdout",
     "output_type": "stream",
     "text": [
      "Loading Regulus regulus_Goldcrest category... 23/26\n"
     ]
    },
    {
     "name": "stderr",
     "output_type": "stream",
     "text": [
      "100%|██████████| 40/40 [00:04<00:00,  8.50it/s]\n"
     ]
    },
    {
     "name": "stdout",
     "output_type": "stream",
     "text": [
      "Loading Dryocopus martius_Black Woodpecker category... 24/26\n"
     ]
    },
    {
     "name": "stderr",
     "output_type": "stream",
     "text": [
      "100%|██████████| 15/15 [00:02<00:00,  7.18it/s]\n"
     ]
    },
    {
     "name": "stdout",
     "output_type": "stream",
     "text": [
      "Loading Phylloscopus trochilus_Willow Warbler category... 25/26\n"
     ]
    },
    {
     "name": "stderr",
     "output_type": "stream",
     "text": [
      "100%|██████████| 1/1 [00:00<00:00,  7.92it/s]\n"
     ]
    }
   ],
   "source": [
    "# impiega 7 minuti\n",
    "categories = list(extracted_info.keys())\n",
    "for i in range(len(categories)):\n",
    "    category = categories[i]\n",
    "    os.makedirs(os.path.join(des_segm_path, \"train\", category), exist_ok=True)\n",
    "    os.makedirs(os.path.join(des_segm_path, \"test\", category), exist_ok=True)\n",
    "    all_category_audio = extracted_info[category]\n",
    "    total_length = len(all_category_audio)\n",
    "    threshold = 0.2\n",
    "    train_length = int(total_length * 0.7)\n",
    "    test_length = total_length - train_length\n",
    "    print(f\"Loading {category} category... {i}/{len(categories)}\")\n",
    "    for i in tqdm(range(total_length)):\n",
    "        split = \"train\" if i < train_length else \"test\"\n",
    "        full_path = all_category_audio[i][\"file_name\"]\n",
    "        file_name = full_path.split(\"\\\\\")[-1]\n",
    "        file_name = file_name[:-4]\n",
    "        export_path = os.path.join(des_segm_path, split, category, file_name+f\"_{i}\"+\".wav\")\n",
    "        if os.path.exists(export_path):\n",
    "            continue\n",
    "        audio = AudioSegment.from_file(full_path, format=\"wav\")\n",
    "        start_time = int(all_category_audio[i][\"start_time\"])\n",
    "        segment = audio[start_time:start_time + 3000]\n",
    "        segment.export(export_path, format=\"wav\")\n"
   ]
  }
 ],
 "metadata": {
  "kernelspec": {
   "display_name": "Python 3",
   "language": "python",
   "name": "python3"
  },
  "language_info": {
   "codemirror_mode": {
    "name": "ipython",
    "version": 3
   },
   "file_extension": ".py",
   "mimetype": "text/x-python",
   "name": "python",
   "nbconvert_exporter": "python",
   "pygments_lexer": "ipython3",
   "version": "3.10.0"
  }
 },
 "nbformat": 4,
 "nbformat_minor": 2
}
