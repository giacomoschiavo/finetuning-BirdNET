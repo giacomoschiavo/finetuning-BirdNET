{
 "cells": [
  {
   "cell_type": "code",
   "execution_count": 5,
   "metadata": {},
   "outputs": [],
   "source": [
    "import scipy.io\n",
    "import numpy as np\n",
    "import librosa\n",
    "import librosa.display\n",
    "import matplotlib.pyplot as plt\n",
    "import math\n",
    "import soundfile as sf\n",
    "import os\n",
    "from pydub import AudioSegment\n",
    "from tqdm import tqdm\n",
    "import random\n",
    "random.seed(4)\n"
   ]
  },
  {
   "cell_type": "code",
   "execution_count": 7,
   "metadata": {},
   "outputs": [
    {
     "data": {
      "text/plain": [
       "['20190601_000000.WAV',\n",
       " '20190601_010000.WAV',\n",
       " '20190601_020000.WAV',\n",
       " '20190601_030000.WAV',\n",
       " '20190601_040000.WAV']"
      ]
     },
     "execution_count": 7,
     "metadata": {},
     "output_type": "execute_result"
    }
   ],
   "source": [
    "# prendi il nome di tutti i files\n",
    "audio_path = \"D:\\\\Giacomo\\\\Tovanella-20241110T120546Z-001\\\\Tovanella\"\n",
    "audio_names = os.listdir(audio_path)\n",
    "audio_names[:5]"
   ]
  },
  {
   "cell_type": "code",
   "execution_count": 11,
   "metadata": {},
   "outputs": [],
   "source": [
    "import json\n",
    "\n",
    "category_info = {}\n",
    "audio_info = {}\n",
    "with open('utils\\coords.json') as f:\n",
    "    category_info = json.load(f)\n",
    "with open('utils\\inverted_coords.json') as f:\n",
    "    audio_info = json.load(f)\n"
   ]
  },
  {
   "cell_type": "code",
   "execution_count": 6,
   "metadata": {},
   "outputs": [],
   "source": [
    "des_segm_path = \"D:\\\\Giacomo\\\\Tovanella-20241110T120546Z-001\\\\segments_1\"\n",
    "os.makedirs(des_segm_path, exist_ok=True)\n",
    "os.makedirs(os.path.join(des_segm_path, \"train\"), exist_ok=True)\n",
    "os.makedirs(os.path.join(des_segm_path, \"test\"), exist_ok=True)"
   ]
  },
  {
   "cell_type": "code",
   "execution_count": 8,
   "metadata": {},
   "outputs": [],
   "source": [
    "# per ogni categoria, prende tutti i file associati\n",
    "# per ogni file, ne prende la durata\n",
    "# se troppo corto (<3s) viene ignorato\n",
    "# altrimenti viene salvato il time_frame da cui estrarre il segmento da 3s\n",
    "# ogni segmento viene salvato sotto la categoria a cui appartiene\n",
    "# tutti gli audio della stessa categoria vengono mescolati\n",
    "\n",
    "target_dir = \"D:\\\\Giacomo\\\\Tovanella-20241110T120546Z-001\\\\Tovanella\"\n",
    "extracted_info = {}\n",
    "for category in category_info:\n",
    "    files_info = category_info[category]\n",
    "    extracted_info[category] = []\n",
    "    for file in files_info:\n",
    "        duration = file[\"duration\"]\n",
    "        if file[\"file_name\"] not in audio_names or duration < 3:\n",
    "            continue\n",
    "        segments_start_time = [ file[\"start_time\"] + i*3 for i in range(duration // 3) ]\n",
    "        full_path = os.path.join(target_dir, file[\"file_name\"])\n",
    "        for segment in segments_start_time:\n",
    "            extracted_info[category].append({\"file_name\": full_path, \"start_time\": segment})\n",
    "    random.shuffle(extracted_info[category])"
   ]
  },
  {
   "cell_type": "code",
   "execution_count": null,
   "metadata": {},
   "outputs": [
    {
     "name": "stdout",
     "output_type": "stream",
     "text": [
      "Loading Wind category... 0/28\n"
     ]
    },
    {
     "name": "stderr",
     "output_type": "stream",
     "text": [
      "100%|██████████| 126/126 [00:17<00:00,  7.08it/s]\n"
     ]
    },
    {
     "name": "stdout",
     "output_type": "stream",
     "text": [
      "Loading Regulus_ignicapilla category... 1/28\n"
     ]
    },
    {
     "name": "stderr",
     "output_type": "stream",
     "text": [
      "100%|██████████| 296/296 [00:27<00:00, 10.78it/s]\n"
     ]
    },
    {
     "name": "stdout",
     "output_type": "stream",
     "text": [
      "Loading Sylvia_atricapilla category... 2/28\n"
     ]
    },
    {
     "name": "stderr",
     "output_type": "stream",
     "text": [
      "100%|██████████| 931/931 [01:22<00:00, 11.24it/s]\n"
     ]
    },
    {
     "name": "stdout",
     "output_type": "stream",
     "text": [
      "Loading Fringilla_coelebs category... 3/28\n"
     ]
    },
    {
     "name": "stderr",
     "output_type": "stream",
     "text": [
      "100%|██████████| 1134/1134 [05:24<00:00,  3.49it/s]\n"
     ]
    },
    {
     "name": "stdout",
     "output_type": "stream",
     "text": [
      "Loading Troglodytes troglodytes category... 4/28\n"
     ]
    },
    {
     "name": "stderr",
     "output_type": "stream",
     "text": [
      "100%|██████████| 218/218 [00:16<00:00, 12.83it/s]\n"
     ]
    },
    {
     "name": "stdout",
     "output_type": "stream",
     "text": [
      "Loading Muscicapa_striata category... 5/28\n"
     ]
    },
    {
     "name": "stderr",
     "output_type": "stream",
     "text": [
      "100%|██████████| 112/112 [00:05<00:00, 20.04it/s]\n"
     ]
    },
    {
     "name": "stdout",
     "output_type": "stream",
     "text": [
      "Loading Phylloscopus_collybita category... 6/28\n"
     ]
    },
    {
     "name": "stderr",
     "output_type": "stream",
     "text": [
      "100%|██████████| 412/412 [00:22<00:00, 18.45it/s]\n"
     ]
    },
    {
     "name": "stdout",
     "output_type": "stream",
     "text": [
      "Loading Turdus_viscivorus category... 7/28\n"
     ]
    },
    {
     "name": "stderr",
     "output_type": "stream",
     "text": [
      "100%|██████████| 26/26 [00:01<00:00, 14.17it/s]\n"
     ]
    },
    {
     "name": "stdout",
     "output_type": "stream",
     "text": [
      "Loading Glaucidium_passerinum category... 8/28\n"
     ]
    },
    {
     "name": "stderr",
     "output_type": "stream",
     "text": [
      "100%|██████████| 10/10 [00:00<00:00, 17.58it/s]\n"
     ]
    },
    {
     "name": "stdout",
     "output_type": "stream",
     "text": [
      "Loading Pecking category... 9/28\n"
     ]
    },
    {
     "name": "stderr",
     "output_type": "stream",
     "text": [
      "100%|██████████| 46/46 [00:03<00:00, 13.46it/s]\n"
     ]
    },
    {
     "name": "stdout",
     "output_type": "stream",
     "text": [
      "Loading Lophophanes_cristatus category... 10/28\n"
     ]
    },
    {
     "name": "stderr",
     "output_type": "stream",
     "text": [
      "100%|██████████| 15/15 [00:03<00:00,  4.63it/s]\n"
     ]
    },
    {
     "name": "stdout",
     "output_type": "stream",
     "text": [
      "Loading Pyrrhula_pyrrhula category... 11/28\n"
     ]
    },
    {
     "name": "stderr",
     "output_type": "stream",
     "text": [
      "100%|██████████| 6/6 [00:00<00:00, 20.76it/s]\n"
     ]
    },
    {
     "name": "stdout",
     "output_type": "stream",
     "text": [
      "Loading Insect category... 12/28\n"
     ]
    },
    {
     "name": "stderr",
     "output_type": "stream",
     "text": [
      "100%|██████████| 2/2 [00:00<00:00, 20.40it/s]\n"
     ]
    },
    {
     "name": "stdout",
     "output_type": "stream",
     "text": [
      "Loading Aeroplane category... 13/28\n"
     ]
    },
    {
     "name": "stderr",
     "output_type": "stream",
     "text": [
      "100%|██████████| 18/18 [00:00<00:00, 18.96it/s]\n"
     ]
    },
    {
     "name": "stdout",
     "output_type": "stream",
     "text": [
      "Loading Vegetation category... 14/28\n"
     ]
    },
    {
     "name": "stderr",
     "output_type": "stream",
     "text": [
      "100%|██████████| 26/26 [00:01<00:00, 13.74it/s]\n"
     ]
    },
    {
     "name": "stdout",
     "output_type": "stream",
     "text": [
      "Loading Rain category... 15/28\n"
     ]
    },
    {
     "name": "stderr",
     "output_type": "stream",
     "text": [
      "100%|██████████| 199/199 [00:11<00:00, 17.78it/s]\n"
     ]
    },
    {
     "name": "stdout",
     "output_type": "stream",
     "text": [
      "Loading Turdus_merula category... 16/28\n"
     ]
    },
    {
     "name": "stderr",
     "output_type": "stream",
     "text": [
      "100%|██████████| 21/21 [00:03<00:00,  6.65it/s]\n"
     ]
    },
    {
     "name": "stdout",
     "output_type": "stream",
     "text": [
      "Loading Certhia_familiaris category... 17/28\n"
     ]
    },
    {
     "name": "stderr",
     "output_type": "stream",
     "text": [
      "100%|██████████| 29/29 [00:06<00:00,  4.63it/s]\n"
     ]
    },
    {
     "name": "stdout",
     "output_type": "stream",
     "text": [
      "Loading Erithacus_rubecula category... 18/28\n"
     ]
    },
    {
     "name": "stderr",
     "output_type": "stream",
     "text": [
      "100%|██████████| 117/117 [00:11<00:00, 10.63it/s]\n"
     ]
    },
    {
     "name": "stdout",
     "output_type": "stream",
     "text": [
      "Loading Turdus_philomelos category... 19/28\n"
     ]
    },
    {
     "name": "stderr",
     "output_type": "stream",
     "text": [
      "100%|██████████| 472/472 [01:05<00:00,  7.25it/s]\n"
     ]
    },
    {
     "name": "stdout",
     "output_type": "stream",
     "text": [
      "Loading Loxia_curvirostra category... 20/28\n"
     ]
    },
    {
     "name": "stderr",
     "output_type": "stream",
     "text": [
      "100%|██████████| 74/74 [00:05<00:00, 12.58it/s]\n"
     ]
    },
    {
     "name": "stdout",
     "output_type": "stream",
     "text": [
      "Loading Periparus ater category... 21/28\n"
     ]
    },
    {
     "name": "stderr",
     "output_type": "stream",
     "text": [
      "100%|██████████| 33/33 [00:02<00:00, 12.07it/s]\n"
     ]
    },
    {
     "name": "stdout",
     "output_type": "stream",
     "text": [
      "Loading Dendrocopos_major category... 22/28\n"
     ]
    },
    {
     "name": "stderr",
     "output_type": "stream",
     "text": [
      "100%|██████████| 11/11 [00:00<00:00, 11.14it/s]\n"
     ]
    },
    {
     "name": "stdout",
     "output_type": "stream",
     "text": [
      "Loading Regulus_regulus category... 23/28\n"
     ]
    },
    {
     "name": "stderr",
     "output_type": "stream",
     "text": [
      "100%|██████████| 40/40 [00:04<00:00,  8.50it/s]\n"
     ]
    },
    {
     "name": "stdout",
     "output_type": "stream",
     "text": [
      "Loading Dryocopus_martius category... 24/28\n"
     ]
    },
    {
     "name": "stderr",
     "output_type": "stream",
     "text": [
      "100%|██████████| 15/15 [00:02<00:00,  6.69it/s]\n"
     ]
    },
    {
     "name": "stdout",
     "output_type": "stream",
     "text": [
      "Loading Phylloscopus_trochilus category... 25/28\n"
     ]
    },
    {
     "name": "stderr",
     "output_type": "stream",
     "text": [
      "100%|██████████| 1/1 [00:00<00:00, 18.35it/s]\n"
     ]
    },
    {
     "name": "stdout",
     "output_type": "stream",
     "text": [
      "Loading Troglodytes_troglodytes category... 26/28\n"
     ]
    },
    {
     "name": "stderr",
     "output_type": "stream",
     "text": [
      "100%|██████████| 85/85 [00:08<00:00, 10.19it/s]\n"
     ]
    },
    {
     "name": "stdout",
     "output_type": "stream",
     "text": [
      "Loading Periparus_ater category... 27/28\n"
     ]
    },
    {
     "name": "stderr",
     "output_type": "stream",
     "text": [
      "100%|██████████| 10/10 [00:01<00:00,  5.41it/s]\n"
     ]
    }
   ],
   "source": [
    "# impiega 7 minuti\n",
    "categories = list(extracted_info.keys())\n",
    "# for i in range(len(categories)):\n",
    "#     category = categories[i]\n",
    "#     os.makedirs(os.path.join(des_segm_path, \"train\", category), exist_ok=True)\n",
    "#     os.makedirs(os.path.join(des_segm_path, \"test\", category), exist_ok=True)\n",
    "#     all_category_audio = extracted_info[category]\n",
    "#     total_length = len(all_category_audio)\n",
    "#     threshold = 0.2\n",
    "#     train_length = int(total_length * 0.7)\n",
    "#     test_length = total_length - train_length\n",
    "#     print(f\"Loading {category} category... {i}/{len(categories)}\")\n",
    "#     for i in tqdm(range(total_length)):\n",
    "#         full_path = all_category_audio[i][\"file_name\"]\n",
    "#         audio = AudioSegment.from_file(full_path, format=\"wav\")\n",
    "#         start_time = int(all_category_audio[i][\"start_time\"])\n",
    "#         segment = audio[start_time:start_time + 3000]\n",
    "#         split = \"train\" if i < train_length else \"test\"\n",
    "#         file_name = full_path.split(\"\\\\\")[-1]\n",
    "#         file_name = file_name.replace(\"_\", \" \")\n",
    "#         file_name = file_name[:-4]\n",
    "#         export_path = os.path.join(des_segm_path, split, category, file_name+f\"_{i}\"+\".wav\")\n",
    "#         segment.export(export_path, format=\"wav\")\n"
   ]
  }
 ],
 "metadata": {
  "kernelspec": {
   "display_name": "Python 3",
   "language": "python",
   "name": "python3"
  },
  "language_info": {
   "codemirror_mode": {
    "name": "ipython",
    "version": 3
   },
   "file_extension": ".py",
   "mimetype": "text/x-python",
   "name": "python",
   "nbconvert_exporter": "python",
   "pygments_lexer": "ipython3",
   "version": "3.10.0"
  }
 },
 "nbformat": 4,
 "nbformat_minor": 2
}
