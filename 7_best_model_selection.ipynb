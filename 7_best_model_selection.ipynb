{
 "cells": [
  {
   "cell_type": "code",
   "execution_count": 4,
   "id": "3cb48a31",
   "metadata": {},
   "outputs": [],
   "source": [
    "import os\n",
    "import csv\n",
    "import json"
   ]
  },
  {
   "cell_type": "code",
   "execution_count": 6,
   "id": "94599a92",
   "metadata": {},
   "outputs": [],
   "source": [
    "RESULTS_PATH = \"/home/giacomoschiavo/finetuning-BirdNET/models/CustomCNN/\"\n",
    "# load all csv file sin the results path\n",
    "def load_json_files(path):\n",
    "    csv_files = [f for f in os.listdir(path) if f.endswith('.json')]\n",
    "    data = []\n",
    "    for file in csv_files:\n",
    "        with open(os.path.join(path, file), 'r') as f:\n",
    "            data.append(json.load(f))\n",
    "    return data\n",
    "\n",
    "all_results = load_json_files(RESULTS_PATH)"
   ]
  },
  {
   "cell_type": "code",
   "execution_count": null,
   "id": "c4250a44",
   "metadata": {},
   "outputs": [],
   "source": [
    "best_results = [result[0] for result in all_results]\n",
    "best_results"
   ]
  },
  {
   "cell_type": "code",
   "execution_count": 23,
   "id": "e8a7e62a",
   "metadata": {},
   "outputs": [],
   "source": [
    "import pandas as pd\n",
    "def analyze_model_results(best_results):\n",
    "    # Lista per contenere i dati appiattiti per il DataFrame\n",
    "    processed_data = []\n",
    "\n",
    "    # Processa ogni elemento in all_results_data\n",
    "    for model in best_results:\n",
    "        row = {\n",
    "            'model_id': model.get('model_id'),\n",
    "            'micro_f1': model.get('micro_f1'),\n",
    "            'weighted_f1': model.get('weighted_f1'),\n",
    "            'samples_f1': model.get('samples_f1'),\n",
    "            'mean_f1': model.get('mean_f1')\n",
    "        }\n",
    "\n",
    "        config = model.get('config', {})\n",
    "        row['num_conv_layers'] = config.get('num_conv_layers')\n",
    "        row['kernel_sizes'] = str(config.get('kernel_sizes')) # Converti in stringa per display\n",
    "        row['channels'] = str(config.get('channels'))       # Converti in stringa per display\n",
    "        row['batch_size'] = config.get('batch_size')\n",
    "        row['dropout'] = config.get('dropout')\n",
    "        row['dense_hidden'] = config.get('dense_hidden')\n",
    "        \n",
    "        processed_data.append(row)\n",
    "\n",
    "    # Crea il DataFrame di Pandas\n",
    "    df = pd.DataFrame(processed_data)\n",
    "\n",
    "    # Riorganizza le colonne per una migliore leggibilità\n",
    "    df = df[['model_id', 'num_conv_layers', 'kernel_sizes', 'channels', \n",
    "             'batch_size', 'dropout', 'dense_hidden', \n",
    "             'micro_f1', 'weighted_f1', 'samples_f1', 'mean_f1']]\n",
    "\n",
    "    return df, df['mean_f1'].idxmax() # Restituisce il DataFrame e il miglior modello\n",
    "\n",
    "# Chiama la funzione per analizzare i risultati\n",
    "df_results, index = analyze_model_results(best_results)\n"
   ]
  },
  {
   "cell_type": "code",
   "execution_count": 27,
   "id": "a500bc2f",
   "metadata": {},
   "outputs": [
    {
     "data": {
      "text/html": [
       "<div>\n",
       "<style scoped>\n",
       "    .dataframe tbody tr th:only-of-type {\n",
       "        vertical-align: middle;\n",
       "    }\n",
       "\n",
       "    .dataframe tbody tr th {\n",
       "        vertical-align: top;\n",
       "    }\n",
       "\n",
       "    .dataframe thead th {\n",
       "        text-align: right;\n",
       "    }\n",
       "</style>\n",
       "<table border=\"1\" class=\"dataframe\">\n",
       "  <thead>\n",
       "    <tr style=\"text-align: right;\">\n",
       "      <th></th>\n",
       "      <th>model_id</th>\n",
       "      <th>num_conv_layers</th>\n",
       "      <th>kernel_sizes</th>\n",
       "      <th>channels</th>\n",
       "      <th>batch_size</th>\n",
       "      <th>dropout</th>\n",
       "      <th>dense_hidden</th>\n",
       "      <th>micro_f1</th>\n",
       "      <th>weighted_f1</th>\n",
       "      <th>samples_f1</th>\n",
       "      <th>mean_f1</th>\n",
       "    </tr>\n",
       "  </thead>\n",
       "  <tbody>\n",
       "    <tr>\n",
       "      <th>0</th>\n",
       "      <td>12</td>\n",
       "      <td>3</td>\n",
       "      <td>[2, 4, 4]</td>\n",
       "      <td>[16, 32, 64]</td>\n",
       "      <td>128</td>\n",
       "      <td>0.5</td>\n",
       "      <td>128</td>\n",
       "      <td>0.506678</td>\n",
       "      <td>0.535712</td>\n",
       "      <td>0.469147</td>\n",
       "      <td>0.503846</td>\n",
       "    </tr>\n",
       "    <tr>\n",
       "      <th>1</th>\n",
       "      <td>4</td>\n",
       "      <td>4</td>\n",
       "      <td>[2, 3, 3, 5]</td>\n",
       "      <td>[16, 32, 64, 128]</td>\n",
       "      <td>32</td>\n",
       "      <td>0.5</td>\n",
       "      <td>128</td>\n",
       "      <td>0.492267</td>\n",
       "      <td>0.543824</td>\n",
       "      <td>0.476277</td>\n",
       "      <td>0.504123</td>\n",
       "    </tr>\n",
       "    <tr>\n",
       "      <th>2</th>\n",
       "      <td>10</td>\n",
       "      <td>4</td>\n",
       "      <td>[5, 5, 6, 6]</td>\n",
       "      <td>[16, 32, 64, 128]</td>\n",
       "      <td>64</td>\n",
       "      <td>0.0</td>\n",
       "      <td>128</td>\n",
       "      <td>0.502586</td>\n",
       "      <td>0.551829</td>\n",
       "      <td>0.474092</td>\n",
       "      <td>0.509502</td>\n",
       "    </tr>\n",
       "    <tr>\n",
       "      <th>3</th>\n",
       "      <td>9</td>\n",
       "      <td>4</td>\n",
       "      <td>[4, 4, 6, 6]</td>\n",
       "      <td>[16, 32, 64, 128]</td>\n",
       "      <td>64</td>\n",
       "      <td>0.0</td>\n",
       "      <td>128</td>\n",
       "      <td>0.505211</td>\n",
       "      <td>0.528004</td>\n",
       "      <td>0.454078</td>\n",
       "      <td>0.495764</td>\n",
       "    </tr>\n",
       "    <tr>\n",
       "      <th>4</th>\n",
       "      <td>4</td>\n",
       "      <td>3</td>\n",
       "      <td>[5, 5, 6]</td>\n",
       "      <td>[16, 32, 64]</td>\n",
       "      <td>32</td>\n",
       "      <td>0.5</td>\n",
       "      <td>128</td>\n",
       "      <td>0.497059</td>\n",
       "      <td>0.526283</td>\n",
       "      <td>0.451572</td>\n",
       "      <td>0.491638</td>\n",
       "    </tr>\n",
       "  </tbody>\n",
       "</table>\n",
       "</div>"
      ],
      "text/plain": [
       "   model_id  num_conv_layers  kernel_sizes           channels  batch_size  \\\n",
       "0        12                3     [2, 4, 4]       [16, 32, 64]         128   \n",
       "1         4                4  [2, 3, 3, 5]  [16, 32, 64, 128]          32   \n",
       "2        10                4  [5, 5, 6, 6]  [16, 32, 64, 128]          64   \n",
       "3         9                4  [4, 4, 6, 6]  [16, 32, 64, 128]          64   \n",
       "4         4                3     [5, 5, 6]       [16, 32, 64]          32   \n",
       "\n",
       "   dropout  dense_hidden  micro_f1  weighted_f1  samples_f1   mean_f1  \n",
       "0      0.5           128  0.506678     0.535712    0.469147  0.503846  \n",
       "1      0.5           128  0.492267     0.543824    0.476277  0.504123  \n",
       "2      0.0           128  0.502586     0.551829    0.474092  0.509502  \n",
       "3      0.0           128  0.505211     0.528004    0.454078  0.495764  \n",
       "4      0.5           128  0.497059     0.526283    0.451572  0.491638  "
      ]
     },
     "execution_count": 27,
     "metadata": {},
     "output_type": "execute_result"
    }
   ],
   "source": [
    "df_results"
   ]
  },
  {
   "cell_type": "code",
   "execution_count": 28,
   "id": "2a547b0e",
   "metadata": {},
   "outputs": [
    {
     "data": {
      "text/plain": [
       "{'model_id': 10,\n",
       " 'config': {'num_conv_layers': 4,\n",
       "  'kernel_sizes': [5, 5, 6, 6],\n",
       "  'channels': [16, 32, 64, 128],\n",
       "  'batch_size': 64,\n",
       "  'dropout': 0.0,\n",
       "  'dense_hidden': 128},\n",
       " 'micro_f1': 0.5025856940185803,\n",
       " 'weighted_f1': 0.5518290926828024,\n",
       " 'samples_f1': 0.47409199260188783,\n",
       " 'mean_f1': 0.5095022597677569}"
      ]
     },
     "execution_count": 28,
     "metadata": {},
     "output_type": "execute_result"
    }
   ],
   "source": [
    "best_results[index]"
   ]
  },
  {
   "cell_type": "code",
   "execution_count": 30,
   "id": "40eed29b",
   "metadata": {},
   "outputs": [],
   "source": [
    "# export best model config to json file\n",
    "best_model = best_results[index]\n",
    "best_model_config = best_model.get('config', {})\n",
    "with open(os.path.join(RESULTS_PATH, 'best_model_config.json'), 'w') as f:\n",
    "    json.dump(best_model_config, f, indent=4)"
   ]
  }
 ],
 "metadata": {
  "kernelspec": {
   "display_name": "myenv",
   "language": "python",
   "name": "python3"
  },
  "language_info": {
   "codemirror_mode": {
    "name": "ipython",
    "version": 3
   },
   "file_extension": ".py",
   "mimetype": "text/x-python",
   "name": "python",
   "nbconvert_exporter": "python",
   "pygments_lexer": "ipython3",
   "version": "3.10.17"
  }
 },
 "nbformat": 4,
 "nbformat_minor": 5
}
