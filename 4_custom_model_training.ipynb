{
 "cells": [
  {
   "cell_type": "markdown",
   "metadata": {},
   "source": [
    "# Dataset Information Creation\n",
    "Create a json file to represent the files inside the dataset"
   ]
  },
  {
   "cell_type": "code",
   "execution_count": 1,
   "metadata": {},
   "outputs": [],
   "source": [
    "import matplotlib.pyplot as plt\n",
    "import torch\n",
    "import torch.optim as optim\n",
    "import numpy as np\n",
    "import json\n",
    "import torch.nn as nn\n",
    "import os\n",
    "from birdlib import utils"
   ]
  },
  {
   "cell_type": "code",
   "execution_count": 2,
   "metadata": {},
   "outputs": [
    {
     "data": {
      "text/plain": [
       "True"
      ]
     },
     "execution_count": 2,
     "metadata": {},
     "output_type": "execute_result"
    }
   ],
   "source": [
    "# sudo modprobe nvidia_uvm\n",
    "torch.cuda.is_available()"
   ]
  },
  {
   "cell_type": "code",
   "execution_count": 3,
   "metadata": {},
   "outputs": [],
   "source": [
    "DATASET_NAME = \"dataset\"\n",
    "MODEL_NAME = 'VanillaCNN'\n",
    "DATASET_VAR = 'augm_final_test'"
   ]
  },
  {
   "cell_type": "code",
   "execution_count": 4,
   "metadata": {},
   "outputs": [],
   "source": [
    "DATASET_PATH = f'../segments/{DATASET_NAME}'\n",
    "TRAIN_PATH = f\"{DATASET_PATH}/train\"\n",
    "VALID_PATH = f\"{DATASET_PATH}/valid\"\n",
    "TEST_PATH = f\"{DATASET_PATH}/test\"\n",
    "MODEL_PATH = f'./models/{MODEL_NAME}'"
   ]
  },
  {
   "cell_type": "markdown",
   "metadata": {},
   "source": [
    "# Create Dataset Config"
   ]
  },
  {
   "cell_type": "code",
   "execution_count": 5,
   "metadata": {},
   "outputs": [],
   "source": [
    "def create_dataset_config(dataset_name, config_file_name='dataset_config.json'):\n",
    "    saving_path = f\"utils/{dataset_name}/{config_file_name}\"\n",
    "    if os.path.exists(saving_path):\n",
    "        print(\"Dataset config already created!\")\n",
    "        with open(saving_path) as f:\n",
    "            return json.load(f)\n",
    "\n",
    "    mappings = utils.get_mappings(TRAIN_PATH)\n",
    "    samples = utils.collect_samples(TRAIN_PATH, VALID_PATH, TEST_PATH, mappings)\n",
    "\n",
    "    dataset_config = {\n",
    "        \"mappings\": mappings,\n",
    "        \"samples\": samples\n",
    "    }\n",
    "    with open(saving_path, \"w\") as f:\n",
    "        json.dump(dataset_config, f)\n",
    "    print(\"Saved new dataset config\")\n",
    "    return dataset_config"
   ]
  },
  {
   "cell_type": "code",
   "execution_count": 6,
   "metadata": {},
   "outputs": [
    {
     "name": "stdout",
     "output_type": "stream",
     "text": [
      "Dataset config already created!\n"
     ]
    }
   ],
   "source": [
    "dataset_config = create_dataset_config(DATASET_NAME, f'dataset_config_{DATASET_VAR}.json')\n",
    "mappings = dataset_config[\"mappings\"]"
   ]
  },
  {
   "cell_type": "markdown",
   "metadata": {},
   "source": [
    "## Load the model"
   ]
  },
  {
   "cell_type": "code",
   "execution_count": 7,
   "metadata": {},
   "outputs": [],
   "source": [
    "model_class = utils.load_model_class(MODEL_NAME)\n",
    "model = model_class(len(mappings))"
   ]
  },
  {
   "cell_type": "markdown",
   "metadata": {},
   "source": [
    "# Spectograms Creation"
   ]
  },
  {
   "cell_type": "code",
   "execution_count": 8,
   "metadata": {},
   "outputs": [
    {
     "name": "stdout",
     "output_type": "stream",
     "text": [
      "Processing: Aeroplane\n",
      "Processing: Muscicapa striata_Spotted Flycatcher\n",
      "Processing: Periparus ater_Coal Tit\n",
      "Processing: Regulus regulus_Goldcrest\n",
      "Processing: Anthus trivialis_Tree Pipit\n",
      "Processing: Vegetation\n",
      "Processing: Troglodytes troglodytes_Eurasian Wren\n",
      "Processing: Erithacus rubecula_European Robin\n",
      "Processing: None\n",
      "Processing: Parus major_Great Tit\n",
      "Processing: Certhia familiaris_Eurasian Treecreeper\n",
      "Processing: Phylloscopus collybita_Common Chiffchaff\n",
      "Processing: Coccothraustes coccothraustes_Hawfinch\n",
      "Processing: Wind\n",
      "Processing: Turdus merula_Eurasian Blackbird\n",
      "Processing: Loxia curvirostra_Common Crossbill\n",
      "Processing: Regulus ignicapilla_Common Firecrest\n",
      "Processing: Sylvia atricapilla_Eurasian Blackcap\n",
      "Processing: Lophophanes cristatus_Crested Tit\n",
      "Processing: Fringilla coelebs_Common Chaffinch\n",
      "Processing: Aeroplane\n",
      "Processing: Muscicapa striata_Spotted Flycatcher\n",
      "Processing: Periparus ater_Coal Tit\n",
      "Processing: Regulus regulus_Goldcrest\n",
      "Processing: Anthus trivialis_Tree Pipit\n",
      "Processing: Vegetation\n",
      "Processing: Troglodytes troglodytes_Eurasian Wren\n",
      "Processing: Erithacus rubecula_European Robin\n",
      "Processing: None\n",
      "Processing: Parus major_Great Tit\n",
      "Processing: Certhia familiaris_Eurasian Treecreeper\n",
      "Processing: Phylloscopus collybita_Common Chiffchaff\n",
      "Processing: Coccothraustes coccothraustes_Hawfinch\n",
      "Processing: Wind\n",
      "Processing: Turdus merula_Eurasian Blackbird\n",
      "Processing: Loxia curvirostra_Common Crossbill\n",
      "Processing: Regulus ignicapilla_Common Firecrest\n",
      "Processing: Sylvia atricapilla_Eurasian Blackcap\n",
      "Processing: Lophophanes cristatus_Crested Tit\n",
      "Processing: Fringilla coelebs_Common Chaffinch\n",
      "Processing: Aeroplane\n",
      "Processing: Muscicapa striata_Spotted Flycatcher\n",
      "Processing: Periparus ater_Coal Tit\n",
      "Processing: Regulus regulus_Goldcrest\n",
      "Processing: Anthus trivialis_Tree Pipit\n",
      "Processing: Vegetation\n",
      "Processing: Troglodytes troglodytes_Eurasian Wren\n",
      "Processing: Erithacus rubecula_European Robin\n",
      "Processing: None\n",
      "Processing: Parus major_Great Tit\n",
      "Processing: Certhia familiaris_Eurasian Treecreeper\n",
      "Processing: Phylloscopus collybita_Common Chiffchaff\n",
      "Processing: Coccothraustes coccothraustes_Hawfinch\n",
      "Processing: Wind\n",
      "Processing: Turdus merula_Eurasian Blackbird\n",
      "Processing: Loxia curvirostra_Common Crossbill\n",
      "Processing: Regulus ignicapilla_Common Firecrest\n",
      "Processing: Sylvia atricapilla_Eurasian Blackcap\n",
      "Processing: Lophophanes cristatus_Crested Tit\n",
      "Processing: Fringilla coelebs_Common Chaffinch\n"
     ]
    },
    {
     "data": {
      "text/plain": [
       "'✅ Spettrogrammi generati e salvati.'"
      ]
     },
     "execution_count": 8,
     "metadata": {},
     "output_type": "execute_result"
    }
   ],
   "source": [
    "SPECS_TRAIN_PATH = f\"{DATASET_PATH}/train_specs\"\n",
    "SPECS_VALID_PATH = f\"{DATASET_PATH}/valid_specs\"\n",
    "SPECS_TEST_PATH = f\"{DATASET_PATH}/test_specs\"\n",
    "os.makedirs(SPECS_TRAIN_PATH, exist_ok=True)\n",
    "os.makedirs(SPECS_VALID_PATH, exist_ok=True)\n",
    "os.makedirs(SPECS_TEST_PATH, exist_ok=True)\n",
    "utils.specs_generation(TRAIN_PATH, SPECS_TRAIN_PATH, dataset_config['mappings'])\n",
    "utils.specs_generation(VALID_PATH, SPECS_VALID_PATH, dataset_config['mappings'])\n",
    "utils.specs_generation(TEST_PATH, SPECS_TEST_PATH, dataset_config['mappings'])"
   ]
  },
  {
   "cell_type": "markdown",
   "metadata": {},
   "source": [
    "# Model"
   ]
  },
  {
   "cell_type": "code",
   "execution_count": 9,
   "metadata": {},
   "outputs": [],
   "source": [
    "def train_model(dataset_config, model, model_name, dataset_var, epochs=10, batch_size=100, lr=1e-5, patience=3, early_stop_patience=10, early_stop_tollerance=1e-5, print_freq=100, load_weights=False, checkpoint_name='checkpoint.pth'):\n",
    "    history_loss = []\n",
    "    device = torch.device(\"cuda\" if torch.cuda.is_available() else \"cpu\")\n",
    "    print(f\"Training {model_name} on: {device}\")\n",
    "\n",
    "    model.to(device)\n",
    "    criterion = nn.BCEWithLogitsLoss()\n",
    "    optimizer = optim.Adam(model.parameters(), lr=lr)\n",
    "    scheduler = torch.optim.lr_scheduler.ReduceLROnPlateau(\n",
    "        optimizer, mode=\"min\", factor=0.5, patience=patience\n",
    "    )\n",
    "    history_loss = []\n",
    "    history_valid_loss = []\n",
    "    best_loss = float(\"inf\")\n",
    "\n",
    "    saving_path = f'models/{model_name}/{dataset_var}/checkpoint.pth'\n",
    "    if load_weights:\n",
    "        if not os.path.exists(saving_path):\n",
    "            print(\"No weights found!\")\n",
    "            return None\n",
    "        checkpoint = torch.load(saving_path)\n",
    "        model.load_state_dict(checkpoint['model_state_dict'])\n",
    "        optimizer.load_state_dict(checkpoint['optimizer_state_dict'])\n",
    "        scheduler.load_state_dict(checkpoint['scheduler_state_dict'])\n",
    "        history_loss = checkpoint['history_loss']\n",
    "        history_valid_loss = checkpoint['history_valid_loss']\n",
    "        best_loss = checkpoint['best_loss']\n",
    "        starting_epoch = len(history_loss)\n",
    "        print(f\"Model Loaded!\")\n",
    "        \n",
    "    print(\"Loading training data...\")\n",
    "    train_loader = utils.get_dataloader(dataset_config, split=\"train\", batch_size=batch_size)\n",
    "    valid_loader = utils.get_dataloader(dataset_config, split=\"valid\", batch_size=batch_size)\n",
    "    print(\"Loaded!\")\n",
    "    \n",
    "    model.train()\n",
    "    early_stop_counter = 0\n",
    "    for epoch in range(epochs):\n",
    "        model.train()\n",
    "        running_loss = 0.0\n",
    "        print(f\"\\n🎯 Starting epoch {epoch + 1}/{epochs}\")\n",
    "\n",
    "        for batch_index, (mel_spec, labels, _) in enumerate(train_loader):\n",
    "            mel_spec = mel_spec.to(device)\n",
    "            labels = labels.to(device)\n",
    "            optimizer.zero_grad()\n",
    "            outputs = model(mel_spec)\n",
    "            loss = criterion(outputs, labels)\n",
    "            loss.backward()\n",
    "            optimizer.step()\n",
    "\n",
    "            running_loss += loss.item()\n",
    "            \n",
    "            if batch_index % print_freq == 0:\n",
    "                print('Epoch: [{0}][{1}/{2}], Loss: {loss:.5f}'.format(epoch, batch_index, len(train_loader), loss=loss))\n",
    "\n",
    "        train_loss = running_loss / len(train_loader)\n",
    "        print(f\"Epoch {epoch + 1} - Train Loss: {train_loss:.5f}\")\n",
    "\n",
    "        # Validation phase\n",
    "        model.eval()\n",
    "        with torch.no_grad():\n",
    "            valid_loss = 0.0\n",
    "            for mel_spec, labels, _ in valid_loader:\n",
    "                mel_spec = mel_spec.to(device)\n",
    "                labels = labels.to(device)\n",
    "                outputs = model(mel_spec)\n",
    "                loss = criterion(outputs, labels)\n",
    "                valid_loss += loss.item()\n",
    "\n",
    "            valid_loss /= len(valid_loader)\n",
    "        \n",
    "        history_loss.append(train_loss)\n",
    "        history_valid_loss.append(valid_loss)\n",
    "        scheduler.step(valid_loss)\n",
    "        \n",
    "        np.save(f'models/{model_name}/{dataset_var}/history_loss.npy', history_loss)\n",
    "        np.save(f'models/{model_name}/{dataset_var}/history_valid_loss.npy', history_valid_loss)\n",
    "        if valid_loss < best_loss:\n",
    "            best_loss = valid_loss\n",
    "            early_stop_counter = 0\n",
    "            print(f\"💾 Saving improved model at epoch {epoch+1} with Valid loss={valid_loss:.5f}\")\n",
    "            torch.save({\n",
    "                'model_state_dict': model.state_dict(),\n",
    "                'optimizer_state_dict': optimizer.state_dict(),\n",
    "                'scheduler_state_dict': scheduler.state_dict(),\n",
    "                'history_valid_loss': history_valid_loss,\n",
    "                'history_loss': history_loss,\n",
    "                'best_loss': best_loss,\n",
    "            }, saving_path)\n",
    "        else:\n",
    "            early_stop_counter += 1\n",
    "            print(f\"🛑 No improvement — early stop counter: {early_stop_counter}/{early_stop_patience}\")\n",
    "\n",
    "        print(f\"🔁 Epoch {epoch+1} completed - valid loss: {valid_loss:.7f} - LR: {optimizer.param_groups[0]['lr']:.1e}\")\n",
    "\n",
    "        if early_stop_counter >= early_stop_patience:\n",
    "            print(f\"\\n🚨 Early stopping triggered after {early_stop_patience} epochs without improvement.\")\n",
    "            break\n",
    "\n",
    "    torch.save(model.state_dict(), f\"models/{model_name}/{dataset_var}/final_weights.pth\")\n",
    "    print(\"✅ Training completed\")\n",
    "\n",
    "\n",
    "    return model\n"
   ]
  },
  {
   "cell_type": "code",
   "execution_count": 10,
   "metadata": {},
   "outputs": [
    {
     "name": "stdout",
     "output_type": "stream",
     "text": [
      "Training VanillaCNN on: cuda\n"
     ]
    },
    {
     "name": "stdout",
     "output_type": "stream",
     "text": [
      "Loading training data...\n",
      "Loaded!\n",
      "\n",
      "🎯 Starting epoch 1/200\n",
      "Epoch: [0][0/379], Loss: 0.69254\n",
      "Epoch: [0][100/379], Loss: 0.20469\n",
      "Epoch: [0][200/379], Loss: 0.17426\n",
      "Epoch: [0][300/379], Loss: 0.13846\n",
      "Epoch 1 - Train Loss: 0.17565\n",
      "💾 Saving improved model at epoch 1 with Valid loss=0.17235\n",
      "🔁 Epoch 1 completed - valid loss: 0.1723518 - LR: 1.0e-04\n",
      "\n",
      "🎯 Starting epoch 2/200\n",
      "Epoch: [1][0/379], Loss: 0.15303\n",
      "Epoch: [1][100/379], Loss: 0.12600\n",
      "Epoch: [1][200/379], Loss: 0.13858\n",
      "Epoch: [1][300/379], Loss: 0.13679\n",
      "Epoch 2 - Train Loss: 0.13693\n",
      "💾 Saving improved model at epoch 2 with Valid loss=0.15500\n",
      "🔁 Epoch 2 completed - valid loss: 0.1550001 - LR: 1.0e-04\n",
      "\n",
      "🎯 Starting epoch 3/200\n",
      "Epoch: [2][0/379], Loss: 0.11326\n",
      "Epoch: [2][100/379], Loss: 0.14395\n",
      "Epoch: [2][200/379], Loss: 0.11070\n",
      "Epoch: [2][300/379], Loss: 0.13729\n",
      "Epoch 3 - Train Loss: 0.12368\n",
      "💾 Saving improved model at epoch 3 with Valid loss=0.14563\n",
      "🔁 Epoch 3 completed - valid loss: 0.1456313 - LR: 1.0e-04\n",
      "\n",
      "🎯 Starting epoch 4/200\n",
      "Epoch: [3][0/379], Loss: 0.11622\n",
      "Epoch: [3][100/379], Loss: 0.12043\n",
      "Epoch: [3][200/379], Loss: 0.10145\n",
      "Epoch: [3][300/379], Loss: 0.12134\n",
      "Epoch 4 - Train Loss: 0.11513\n",
      "💾 Saving improved model at epoch 4 with Valid loss=0.14423\n",
      "🔁 Epoch 4 completed - valid loss: 0.1442300 - LR: 1.0e-04\n",
      "\n",
      "🎯 Starting epoch 5/200\n",
      "Epoch: [4][0/379], Loss: 0.13151\n",
      "Epoch: [4][100/379], Loss: 0.11322\n",
      "Epoch: [4][200/379], Loss: 0.10789\n",
      "Epoch: [4][300/379], Loss: 0.11198\n",
      "Epoch 5 - Train Loss: 0.10864\n",
      "💾 Saving improved model at epoch 5 with Valid loss=0.14206\n",
      "🔁 Epoch 5 completed - valid loss: 0.1420635 - LR: 1.0e-04\n",
      "\n",
      "🎯 Starting epoch 6/200\n",
      "Epoch: [5][0/379], Loss: 0.08152\n",
      "Epoch: [5][100/379], Loss: 0.12168\n",
      "Epoch: [5][200/379], Loss: 0.10607\n",
      "Epoch: [5][300/379], Loss: 0.09401\n",
      "Epoch 6 - Train Loss: 0.10324\n",
      "💾 Saving improved model at epoch 6 with Valid loss=0.13423\n",
      "🔁 Epoch 6 completed - valid loss: 0.1342299 - LR: 1.0e-04\n",
      "\n",
      "🎯 Starting epoch 7/200\n",
      "Epoch: [6][0/379], Loss: 0.08990\n",
      "Epoch: [6][100/379], Loss: 0.11289\n",
      "Epoch: [6][200/379], Loss: 0.10837\n",
      "Epoch: [6][300/379], Loss: 0.09442\n",
      "Epoch 7 - Train Loss: 0.09853\n",
      "💾 Saving improved model at epoch 7 with Valid loss=0.13248\n",
      "🔁 Epoch 7 completed - valid loss: 0.1324822 - LR: 1.0e-04\n",
      "\n",
      "🎯 Starting epoch 8/200\n",
      "Epoch: [7][0/379], Loss: 0.07398\n",
      "Epoch: [7][100/379], Loss: 0.08580\n",
      "Epoch: [7][200/379], Loss: 0.09128\n",
      "Epoch: [7][300/379], Loss: 0.07097\n",
      "Epoch 8 - Train Loss: 0.09452\n",
      "🛑 No improvement — early stop counter: 1/10\n",
      "🔁 Epoch 8 completed - valid loss: 0.1329892 - LR: 1.0e-04\n",
      "\n",
      "🎯 Starting epoch 9/200\n",
      "Epoch: [8][0/379], Loss: 0.09494\n",
      "Epoch: [8][100/379], Loss: 0.08815\n",
      "Epoch: [8][200/379], Loss: 0.09149\n",
      "Epoch: [8][300/379], Loss: 0.10127\n",
      "Epoch 9 - Train Loss: 0.09018\n",
      "💾 Saving improved model at epoch 9 with Valid loss=0.13080\n",
      "🔁 Epoch 9 completed - valid loss: 0.1308034 - LR: 1.0e-04\n",
      "\n",
      "🎯 Starting epoch 10/200\n",
      "Epoch: [9][0/379], Loss: 0.08891\n",
      "Epoch: [9][100/379], Loss: 0.09123\n",
      "Epoch: [9][200/379], Loss: 0.08731\n",
      "Epoch: [9][300/379], Loss: 0.08469\n",
      "Epoch 10 - Train Loss: 0.08625\n",
      "🛑 No improvement — early stop counter: 1/10\n",
      "🔁 Epoch 10 completed - valid loss: 0.1311923 - LR: 1.0e-04\n",
      "\n",
      "🎯 Starting epoch 11/200\n",
      "Epoch: [10][0/379], Loss: 0.07002\n",
      "Epoch: [10][100/379], Loss: 0.07507\n",
      "Epoch: [10][200/379], Loss: 0.09842\n",
      "Epoch: [10][300/379], Loss: 0.08746\n",
      "Epoch 11 - Train Loss: 0.08263\n",
      "🛑 No improvement — early stop counter: 2/10\n",
      "🔁 Epoch 11 completed - valid loss: 0.1319239 - LR: 1.0e-04\n",
      "\n",
      "🎯 Starting epoch 12/200\n",
      "Epoch: [11][0/379], Loss: 0.09857\n",
      "Epoch: [11][100/379], Loss: 0.07812\n",
      "Epoch: [11][200/379], Loss: 0.06882\n",
      "Epoch: [11][300/379], Loss: 0.08559\n",
      "Epoch 12 - Train Loss: 0.07832\n",
      "🛑 No improvement — early stop counter: 3/10\n",
      "🔁 Epoch 12 completed - valid loss: 0.1368008 - LR: 1.0e-04\n",
      "\n",
      "🎯 Starting epoch 13/200\n",
      "Epoch: [12][0/379], Loss: 0.07805\n",
      "Epoch: [12][100/379], Loss: 0.07355\n",
      "Epoch: [12][200/379], Loss: 0.08201\n",
      "Epoch: [12][300/379], Loss: 0.07290\n",
      "Epoch 13 - Train Loss: 0.07459\n",
      "🛑 No improvement — early stop counter: 4/10\n",
      "🔁 Epoch 13 completed - valid loss: 0.1359016 - LR: 5.0e-05\n",
      "\n",
      "🎯 Starting epoch 14/200\n",
      "Epoch: [13][0/379], Loss: 0.06100\n",
      "Epoch: [13][100/379], Loss: 0.06524\n",
      "Epoch: [13][200/379], Loss: 0.07571\n",
      "Epoch: [13][300/379], Loss: 0.09380\n",
      "Epoch 14 - Train Loss: 0.06850\n",
      "🛑 No improvement — early stop counter: 5/10\n",
      "🔁 Epoch 14 completed - valid loss: 0.1383390 - LR: 5.0e-05\n",
      "\n",
      "🎯 Starting epoch 15/200\n",
      "Epoch: [14][0/379], Loss: 0.07367\n",
      "Epoch: [14][100/379], Loss: 0.06241\n",
      "Epoch: [14][200/379], Loss: 0.05603\n",
      "Epoch: [14][300/379], Loss: 0.08217\n",
      "Epoch 15 - Train Loss: 0.06599\n",
      "🛑 No improvement — early stop counter: 6/10\n",
      "🔁 Epoch 15 completed - valid loss: 0.1404164 - LR: 5.0e-05\n",
      "\n",
      "🎯 Starting epoch 16/200\n",
      "Epoch: [15][0/379], Loss: 0.05081\n",
      "Epoch: [15][100/379], Loss: 0.06114\n",
      "Epoch: [15][200/379], Loss: 0.06571\n",
      "Epoch: [15][300/379], Loss: 0.07727\n",
      "Epoch 16 - Train Loss: 0.06416\n",
      "🛑 No improvement — early stop counter: 7/10\n",
      "🔁 Epoch 16 completed - valid loss: 0.1434908 - LR: 5.0e-05\n",
      "\n",
      "🎯 Starting epoch 17/200\n",
      "Epoch: [16][0/379], Loss: 0.05717\n",
      "Epoch: [16][100/379], Loss: 0.06636\n",
      "Epoch: [16][200/379], Loss: 0.04605\n",
      "Epoch: [16][300/379], Loss: 0.06558\n",
      "Epoch 17 - Train Loss: 0.06179\n",
      "🛑 No improvement — early stop counter: 8/10\n",
      "🔁 Epoch 17 completed - valid loss: 0.1464641 - LR: 2.5e-05\n",
      "\n",
      "🎯 Starting epoch 18/200\n",
      "Epoch: [17][0/379], Loss: 0.07378\n",
      "Epoch: [17][100/379], Loss: 0.05098\n",
      "Epoch: [17][200/379], Loss: 0.05973\n",
      "Epoch: [17][300/379], Loss: 0.06535\n",
      "Epoch 18 - Train Loss: 0.05845\n",
      "🛑 No improvement — early stop counter: 9/10\n",
      "🔁 Epoch 18 completed - valid loss: 0.1504917 - LR: 2.5e-05\n",
      "\n",
      "🎯 Starting epoch 19/200\n",
      "Epoch: [18][0/379], Loss: 0.04309\n",
      "Epoch: [18][100/379], Loss: 0.05382\n",
      "Epoch: [18][200/379], Loss: 0.04831\n",
      "Epoch: [18][300/379], Loss: 0.04749\n",
      "Epoch 19 - Train Loss: 0.05735\n",
      "🛑 No improvement — early stop counter: 10/10\n",
      "🔁 Epoch 19 completed - valid loss: 0.1503478 - LR: 2.5e-05\n",
      "\n",
      "🚨 Early stopping triggered after 10 epochs without improvement.\n",
      "✅ Training completed\n"
     ]
    }
   ],
   "source": [
    "os.makedirs(f'models/{MODEL_NAME}/{DATASET_VAR}', exist_ok=True)\n",
    "model = train_model(dataset_config, model, model_name=MODEL_NAME, dataset_var=DATASET_VAR, epochs=200, batch_size=64, lr=1e-4, load_weights=False)"
   ]
  },
  {
   "cell_type": "code",
   "execution_count": 11,
   "metadata": {},
   "outputs": [
    {
     "data": {
      "image/png": "[encoded data removed]",
      "text/plain": [
       "<Figure size 800x500 with 1 Axes>"
      ]
     },
     "metadata": {},
     "output_type": "display_data"
    }
   ],
   "source": [
    "import numpy as np\n",
    "history_loss = np.load(f'models/{MODEL_NAME}/{DATASET_VAR}/history_loss.npy')\n",
    "plt.figure(figsize=(8, 5))\n",
    "plt.plot(history_loss, linestyle='-', color='tomato', label=\"Loss\")\n",
    "# plt.title(title)\n",
    "plt.xlabel(\"Epoch\")\n",
    "# plt.ylabel(ylabel)\n",
    "plt.grid(True, linestyle='--', alpha=0.6)\n",
    "plt.legend()\n",
    "plt.tight_layout()\n",
    "plt.show()\n"
   ]
  },
  {
   "cell_type": "code",
   "execution_count": 12,
   "metadata": {},
   "outputs": [
    {
     "data": {
      "text/plain": [
       "27410"
      ]
     },
     "execution_count": 12,
     "metadata": {},
     "output_type": "execute_result"
    }
   ],
   "source": [
    "torch.cuda.empty_cache()\n",
    "os.getpid()"
   ]
  }
 ],
 "metadata": {
  "kernelspec": {
   "display_name": "myenv",
   "language": "python",
   "name": "python3"
  },
  "language_info": {
   "codemirror_mode": {
    "name": "ipython",
    "version": 3
   },
   "file_extension": ".py",
   "mimetype": "text/x-python",
   "name": "python",
   "nbconvert_exporter": "python",
   "pygments_lexer": "ipython3",
   "version": "3.10.17"
  }
 },
 "nbformat": 4,
 "nbformat_minor": 2
}
