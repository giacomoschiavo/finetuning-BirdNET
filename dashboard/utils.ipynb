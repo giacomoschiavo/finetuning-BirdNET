{
 "cells": [
  {
   "cell_type": "code",
   "execution_count": 2,
   "metadata": {},
   "outputs": [],
   "source": [
    "import os\n",
    "import json\n",
    "import pandas as pd\n"
   ]
  },
  {
   "cell_type": "code",
   "execution_count": 59,
   "metadata": {},
   "outputs": [],
   "source": [
    "with open(\"../utils/category_info.json\") as f:\n",
    "    category_info = json.load(f)"
   ]
  },
  {
   "cell_type": "code",
   "execution_count": 60,
   "metadata": {},
   "outputs": [],
   "source": [
    "dataset_name = \"NEW_DATASET\"\n",
    "dataset_path = f\"E:/Giacomo/Tovanella/{dataset_name}\""
   ]
  },
  {
   "cell_type": "code",
   "execution_count": 61,
   "metadata": {},
   "outputs": [],
   "source": [
    "with open(f\"../utils/{dataset_name}/train_test_division.json\") as f:\n",
    "    train_test_div = json.load(f)\n",
    "\n",
    "species_count = {}\n",
    "for species_name, dates in train_test_div.items():\n",
    "    species_count[species_name] = {\"train\": 0, \"test\": 0}\n",
    "    species_count[species_name][\"train\"] = sum([date[\"count\"] for date in dates.values() if date[\"is_training\"] == True])\n",
    "    species_count[species_name][\"test\"] = sum([date[\"count\"] for date in dates.values() if date[\"is_training\"] == False])"
   ]
  },
  {
   "cell_type": "code",
   "execution_count": 62,
   "metadata": {},
   "outputs": [],
   "source": [
    "species_count_df = pd.DataFrame(species_count).T\n",
    "species_count_df.to_csv(f\"../utils/{dataset_name}/species_count_df.csv\")"
   ]
  },
  {
   "cell_type": "code",
   "execution_count": 63,
   "metadata": {},
   "outputs": [],
   "source": [
    "species_split = {}\n",
    "species_list = list(category_info.keys())"
   ]
  },
  {
   "cell_type": "code",
   "execution_count": null,
   "metadata": {},
   "outputs": [],
   "source": [
    "split_count = \"train\"\n",
    "for species in species_list:\n",
    "    # check if removed\n",
    "    split_path = os.path.join(dataset_path, split_count, species)\n",
    "    removed_path = os.path.join(dataset_path, \"removed\", species)\n",
    "    if os.path.exists(split_path):\n",
    "        folder_path = split_path\n",
    "    elif os.path.exists(removed_path):\n",
    "        folder_path = removed_path\n",
    "    else:\n",
    "        print(\"Deleted species?\", species)\n",
    "        continue\n",
    "    if species not in species_split:\n",
    "        species_split[species] = {\"train\": [], \"test\": []}\n",
    "    for audio in os.listdir(folder_path):\n",
    "        # 20190608_070000_64.wav\n",
    "        date = audio.split(\"_\")[0]\n",
    "        is_training = train_test_div[species][date][\"is_training\"]\n",
    "        split = \"train\" if is_training else \"test\"\n",
    "        species_split[species][split].append(audio)"
   ]
  },
  {
   "cell_type": "code",
   "execution_count": 66,
   "metadata": {},
   "outputs": [
    {
     "name": "stdout",
     "output_type": "stream",
     "text": [
      "Deleted species? Prunella modularis_Dunnock\n",
      "Deleted species? Spinus spinus_Eurasian Siskin\n"
     ]
    }
   ],
   "source": [
    "split_count = \"test\"\n",
    "for species in species_list:\n",
    "    # check if removed\n",
    "    split_path = os.path.join(dataset_path, split_count, species)\n",
    "    removed_path = os.path.join(dataset_path, \"removed\", species)\n",
    "    if os.path.exists(split_path):\n",
    "        folder_path = split_path\n",
    "    elif os.path.exists(removed_path):\n",
    "        folder_path = removed_path\n",
    "    else:\n",
    "        print(\"Deleted species?\", species)\n",
    "        continue\n",
    "    if species not in species_split:\n",
    "        species_split[species] = {\"train\": [], \"test\": []}\n",
    "    for audio in os.listdir(folder_path):\n",
    "        # 20190608_070000_64.wav\n",
    "        date = audio.split(\"_\")[0]\n",
    "        is_training = train_test_div[species][date][\"is_training\"]\n",
    "        split = \"train\" if is_training else \"test\"\n",
    "        species_split[species][split].append(audio)\n"
   ]
  },
  {
   "cell_type": "code",
   "execution_count": 67,
   "metadata": {},
   "outputs": [],
   "source": [
    "with open(f\"../utils/{dataset_name}/species_split.json\", \"w\") as f:\n",
    "    json.dump(species_split, f)"
   ]
  }
 ],
 "metadata": {
  "kernelspec": {
   "display_name": "Python 3",
   "language": "python",
   "name": "python3"
  },
  "language_info": {
   "codemirror_mode": {
    "name": "ipython",
    "version": 3
   },
   "file_extension": ".py",
   "mimetype": "text/x-python",
   "name": "python",
   "nbconvert_exporter": "python",
   "pygments_lexer": "ipython3",
   "version": "3.10.0"
  }
 },
 "nbformat": 4,
 "nbformat_minor": 2
}
