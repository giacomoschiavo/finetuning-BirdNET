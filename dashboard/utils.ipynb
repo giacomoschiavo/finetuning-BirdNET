{
 "cells": [
  {
   "cell_type": "code",
   "execution_count": 1,
   "metadata": {},
   "outputs": [],
   "source": [
    "import os\n",
    "import json\n",
    "import pandas as pd"
   ]
  },
  {
   "cell_type": "code",
   "execution_count": 7,
   "metadata": {},
   "outputs": [],
   "source": [
    "with open(\"../utils/category_annots.json\") as f:\n",
    "    category_annots = json.load(f)"
   ]
  },
  {
   "cell_type": "code",
   "execution_count": 3,
   "metadata": {},
   "outputs": [],
   "source": [
    "DATASET_NAME = \"NEW_DATASET_1\"\n",
    "DATASET_PATH = f\"E:/Giacomo/Tovanella/{DATASET_NAME}\""
   ]
  },
  {
   "cell_type": "markdown",
   "metadata": {},
   "source": [
    "### Count samples divided in splits"
   ]
  },
  {
   "cell_type": "code",
   "execution_count": 4,
   "metadata": {},
   "outputs": [],
   "source": [
    "with open(f\"../utils/{DATASET_NAME}/train_test_division.json\") as f:\n",
    "    train_test_div = json.load(f)\n",
    "\n",
    "species_count = {}\n",
    "for species_name, dates in train_test_div.items():\n",
    "    species_count[species_name] = {\"train\": 0, \"test\": 0}\n",
    "    species_count[species_name][\"train\"] = sum([date[\"count\"] for date in dates.values() if date[\"is_training\"] == True])\n",
    "    species_count[species_name][\"test\"] = sum([date[\"count\"] for date in dates.values() if date[\"is_training\"] == False])"
   ]
  },
  {
   "cell_type": "code",
   "execution_count": 5,
   "metadata": {},
   "outputs": [],
   "source": [
    "species_count_df = pd.DataFrame(species_count).T\n",
    "species_count_df.to_csv(f\"../utils/{DATASET_NAME}/species_count_df.csv\")"
   ]
  },
  {
   "cell_type": "markdown",
   "metadata": {},
   "source": [
    "### Divides species audio path in \"train\" and \"test\""
   ]
  },
  {
   "cell_type": "code",
   "execution_count": 8,
   "metadata": {},
   "outputs": [],
   "source": [
    "species_split = {}\n",
    "species_list = list(category_annots.keys())\n",
    "for species in species_list:\n",
    "    species_split[species] = {\"train\": set(), \"test\": set()}"
   ]
  },
  {
   "cell_type": "code",
   "execution_count": 18,
   "metadata": {},
   "outputs": [
    {
     "ename": "KeyError",
     "evalue": "'20230601'",
     "output_type": "error",
     "traceback": [
      "\u001b[1;31m---------------------------------------------------------------------------\u001b[0m",
      "\u001b[1;31mKeyError\u001b[0m                                  Traceback (most recent call last)",
      "Cell \u001b[1;32mIn[18], line 20\u001b[0m\n\u001b[0;32m     18\u001b[0m \u001b[38;5;28;01mif\u001b[39;00m \u001b[38;5;28mlen\u001b[39m(date) \u001b[38;5;241m!=\u001b[39m \u001b[38;5;241m8\u001b[39m:\n\u001b[0;32m     19\u001b[0m     date \u001b[38;5;241m=\u001b[39m audio\u001b[38;5;241m.\u001b[39msplit(\u001b[38;5;124m\"\u001b[39m\u001b[38;5;124m_\u001b[39m\u001b[38;5;124m\"\u001b[39m)[\u001b[38;5;241m1\u001b[39m]\n\u001b[1;32m---> 20\u001b[0m is_training \u001b[38;5;241m=\u001b[39m \u001b[43mtrain_test_div\u001b[49m\u001b[43m[\u001b[49m\u001b[43mspecies\u001b[49m\u001b[43m]\u001b[49m\u001b[43m[\u001b[49m\u001b[43mdate\u001b[49m\u001b[43m]\u001b[49m[\u001b[38;5;124m\"\u001b[39m\u001b[38;5;124mis_training\u001b[39m\u001b[38;5;124m\"\u001b[39m]\n\u001b[0;32m     21\u001b[0m split \u001b[38;5;241m=\u001b[39m \u001b[38;5;124m\"\u001b[39m\u001b[38;5;124mtrain\u001b[39m\u001b[38;5;124m\"\u001b[39m \u001b[38;5;28;01mif\u001b[39;00m is_training \u001b[38;5;28;01melse\u001b[39;00m \u001b[38;5;124m\"\u001b[39m\u001b[38;5;124mtest\u001b[39m\u001b[38;5;124m\"\u001b[39m\n\u001b[0;32m     22\u001b[0m species_split[species][split]\u001b[38;5;241m.\u001b[39madd(audio)\n",
      "\u001b[1;31mKeyError\u001b[0m: '20230601'"
     ]
    }
   ],
   "source": [
    "split_count = \"train\"\n",
    "for species in species_list:\n",
    "    # check if removed\n",
    "    split_path = os.path.join(DATASET_PATH, split_count, species)\n",
    "    removed_path = os.path.join(DATASET_PATH, \"removed\", species)\n",
    "    if os.path.exists(split_path):\n",
    "        folder_path = split_path\n",
    "    elif os.path.exists(removed_path):\n",
    "        folder_path = removed_path\n",
    "    else:\n",
    "        print(\"Deleted species?\", species)\n",
    "        continue\n",
    "    if species not in species_split:\n",
    "        species_split[species][split] = set()\n",
    "    for audio in os.listdir(folder_path):\n",
    "        # 20190608_070000_64_0.wav\n",
    "        date = audio.split(\"_\")[0]\n",
    "        if len(date) != 8:\n",
    "            date = audio.split(\"_\")[1]\n",
    "        is_training = train_test_div[species][date][\"is_training\"]\n",
    "        split = \"train\" if is_training else \"test\"\n",
    "        species_split[species][split].add(audio)"
   ]
  },
  {
   "cell_type": "code",
   "execution_count": null,
   "metadata": {},
   "outputs": [
    {
     "name": "stdout",
     "output_type": "stream",
     "text": [
      "Deleted species? Prunella modularis_Dunnock\n",
      "Deleted species? Spinus spinus_Eurasian Siskin\n"
     ]
    }
   ],
   "source": [
    "split_count = \"test\"\n",
    "for species in species_list:\n",
    "    # check if removed\n",
    "    split_path = os.path.join(DATASET_PATH, split_count, species)\n",
    "    removed_path = os.path.join(DATASET_PATH, \"removed\", species)\n",
    "    if os.path.exists(split_path):\n",
    "        folder_path = split_path\n",
    "    elif os.path.exists(removed_path):\n",
    "        folder_path = removed_path\n",
    "    else:\n",
    "        print(\"Deleted species?\", species)\n",
    "        continue\n",
    "    if species not in species_split:\n",
    "        species_split[species][split] = set()\n",
    "    for audio in os.listdir(folder_path):\n",
    "        # 20190608_070000_64.wav\n",
    "        date = audio.split(\"_\")[0]\n",
    "        is_training = train_test_div[species][date][\"is_training\"]\n",
    "        split = \"train\" if is_training else \"test\"\n",
    "        species_split[species][split].add(audio)\n"
   ]
  },
  {
   "cell_type": "code",
   "execution_count": null,
   "metadata": {},
   "outputs": [],
   "source": [
    "for species in species_split:\n",
    "    species_split[species][\"train\"] = list(species_split[species][\"train\"])\n",
    "    species_split[species][\"test\"] = list(species_split[species][\"test\"])"
   ]
  },
  {
   "cell_type": "code",
   "execution_count": 10,
   "metadata": {},
   "outputs": [
    {
     "ename": "TypeError",
     "evalue": "Object of type set is not JSON serializable",
     "output_type": "error",
     "traceback": [
      "\u001b[1;31m---------------------------------------------------------------------------\u001b[0m",
      "\u001b[1;31mTypeError\u001b[0m                                 Traceback (most recent call last)",
      "Cell \u001b[1;32mIn[10], line 2\u001b[0m\n\u001b[0;32m      1\u001b[0m \u001b[38;5;28;01mwith\u001b[39;00m \u001b[38;5;28mopen\u001b[39m(\u001b[38;5;124mf\u001b[39m\u001b[38;5;124m\"\u001b[39m\u001b[38;5;124m../utils/\u001b[39m\u001b[38;5;132;01m{\u001b[39;00mDATASET_NAME\u001b[38;5;132;01m}\u001b[39;00m\u001b[38;5;124m/species_split.json\u001b[39m\u001b[38;5;124m\"\u001b[39m, \u001b[38;5;124m\"\u001b[39m\u001b[38;5;124mw\u001b[39m\u001b[38;5;124m\"\u001b[39m) \u001b[38;5;28;01mas\u001b[39;00m f:\n\u001b[1;32m----> 2\u001b[0m     \u001b[43mjson\u001b[49m\u001b[38;5;241;43m.\u001b[39;49m\u001b[43mdump\u001b[49m\u001b[43m(\u001b[49m\u001b[43mspecies_split\u001b[49m\u001b[43m,\u001b[49m\u001b[43m \u001b[49m\u001b[43mf\u001b[49m\u001b[43m)\u001b[49m\n",
      "File \u001b[1;32mc:\\Users\\giaco\\AppData\\Local\\Programs\\Python\\Python310\\lib\\json\\__init__.py:179\u001b[0m, in \u001b[0;36mdump\u001b[1;34m(obj, fp, skipkeys, ensure_ascii, check_circular, allow_nan, cls, indent, separators, default, sort_keys, **kw)\u001b[0m\n\u001b[0;32m    173\u001b[0m     iterable \u001b[38;5;241m=\u001b[39m \u001b[38;5;28mcls\u001b[39m(skipkeys\u001b[38;5;241m=\u001b[39mskipkeys, ensure_ascii\u001b[38;5;241m=\u001b[39mensure_ascii,\n\u001b[0;32m    174\u001b[0m         check_circular\u001b[38;5;241m=\u001b[39mcheck_circular, allow_nan\u001b[38;5;241m=\u001b[39mallow_nan, indent\u001b[38;5;241m=\u001b[39mindent,\n\u001b[0;32m    175\u001b[0m         separators\u001b[38;5;241m=\u001b[39mseparators,\n\u001b[0;32m    176\u001b[0m         default\u001b[38;5;241m=\u001b[39mdefault, sort_keys\u001b[38;5;241m=\u001b[39msort_keys, \u001b[38;5;241m*\u001b[39m\u001b[38;5;241m*\u001b[39mkw)\u001b[38;5;241m.\u001b[39miterencode(obj)\n\u001b[0;32m    177\u001b[0m \u001b[38;5;66;03m# could accelerate with writelines in some versions of Python, at\u001b[39;00m\n\u001b[0;32m    178\u001b[0m \u001b[38;5;66;03m# a debuggability cost\u001b[39;00m\n\u001b[1;32m--> 179\u001b[0m \u001b[38;5;28;01mfor\u001b[39;00m chunk \u001b[38;5;129;01min\u001b[39;00m iterable:\n\u001b[0;32m    180\u001b[0m     fp\u001b[38;5;241m.\u001b[39mwrite(chunk)\n",
      "File \u001b[1;32mc:\\Users\\giaco\\AppData\\Local\\Programs\\Python\\Python310\\lib\\json\\encoder.py:431\u001b[0m, in \u001b[0;36m_make_iterencode.<locals>._iterencode\u001b[1;34m(o, _current_indent_level)\u001b[0m\n\u001b[0;32m    429\u001b[0m     \u001b[38;5;28;01myield from\u001b[39;00m _iterencode_list(o, _current_indent_level)\n\u001b[0;32m    430\u001b[0m \u001b[38;5;28;01melif\u001b[39;00m \u001b[38;5;28misinstance\u001b[39m(o, \u001b[38;5;28mdict\u001b[39m):\n\u001b[1;32m--> 431\u001b[0m     \u001b[38;5;28;01myield from\u001b[39;00m _iterencode_dict(o, _current_indent_level)\n\u001b[0;32m    432\u001b[0m \u001b[38;5;28;01melse\u001b[39;00m:\n\u001b[0;32m    433\u001b[0m     \u001b[38;5;28;01mif\u001b[39;00m markers \u001b[38;5;129;01mis\u001b[39;00m \u001b[38;5;129;01mnot\u001b[39;00m \u001b[38;5;28;01mNone\u001b[39;00m:\n",
      "File \u001b[1;32mc:\\Users\\giaco\\AppData\\Local\\Programs\\Python\\Python310\\lib\\json\\encoder.py:405\u001b[0m, in \u001b[0;36m_make_iterencode.<locals>._iterencode_dict\u001b[1;34m(dct, _current_indent_level)\u001b[0m\n\u001b[0;32m    403\u001b[0m         \u001b[38;5;28;01melse\u001b[39;00m:\n\u001b[0;32m    404\u001b[0m             chunks \u001b[38;5;241m=\u001b[39m _iterencode(value, _current_indent_level)\n\u001b[1;32m--> 405\u001b[0m         \u001b[38;5;28;01myield from\u001b[39;00m chunks\n\u001b[0;32m    406\u001b[0m \u001b[38;5;28;01mif\u001b[39;00m newline_indent \u001b[38;5;129;01mis\u001b[39;00m \u001b[38;5;129;01mnot\u001b[39;00m \u001b[38;5;28;01mNone\u001b[39;00m:\n\u001b[0;32m    407\u001b[0m     _current_indent_level \u001b[38;5;241m-\u001b[39m\u001b[38;5;241m=\u001b[39m \u001b[38;5;241m1\u001b[39m\n",
      "File \u001b[1;32mc:\\Users\\giaco\\AppData\\Local\\Programs\\Python\\Python310\\lib\\json\\encoder.py:405\u001b[0m, in \u001b[0;36m_make_iterencode.<locals>._iterencode_dict\u001b[1;34m(dct, _current_indent_level)\u001b[0m\n\u001b[0;32m    403\u001b[0m         \u001b[38;5;28;01melse\u001b[39;00m:\n\u001b[0;32m    404\u001b[0m             chunks \u001b[38;5;241m=\u001b[39m _iterencode(value, _current_indent_level)\n\u001b[1;32m--> 405\u001b[0m         \u001b[38;5;28;01myield from\u001b[39;00m chunks\n\u001b[0;32m    406\u001b[0m \u001b[38;5;28;01mif\u001b[39;00m newline_indent \u001b[38;5;129;01mis\u001b[39;00m \u001b[38;5;129;01mnot\u001b[39;00m \u001b[38;5;28;01mNone\u001b[39;00m:\n\u001b[0;32m    407\u001b[0m     _current_indent_level \u001b[38;5;241m-\u001b[39m\u001b[38;5;241m=\u001b[39m \u001b[38;5;241m1\u001b[39m\n",
      "File \u001b[1;32mc:\\Users\\giaco\\AppData\\Local\\Programs\\Python\\Python310\\lib\\json\\encoder.py:438\u001b[0m, in \u001b[0;36m_make_iterencode.<locals>._iterencode\u001b[1;34m(o, _current_indent_level)\u001b[0m\n\u001b[0;32m    436\u001b[0m         \u001b[38;5;28;01mraise\u001b[39;00m \u001b[38;5;167;01mValueError\u001b[39;00m(\u001b[38;5;124m\"\u001b[39m\u001b[38;5;124mCircular reference detected\u001b[39m\u001b[38;5;124m\"\u001b[39m)\n\u001b[0;32m    437\u001b[0m     markers[markerid] \u001b[38;5;241m=\u001b[39m o\n\u001b[1;32m--> 438\u001b[0m o \u001b[38;5;241m=\u001b[39m \u001b[43m_default\u001b[49m\u001b[43m(\u001b[49m\u001b[43mo\u001b[49m\u001b[43m)\u001b[49m\n\u001b[0;32m    439\u001b[0m \u001b[38;5;28;01myield from\u001b[39;00m _iterencode(o, _current_indent_level)\n\u001b[0;32m    440\u001b[0m \u001b[38;5;28;01mif\u001b[39;00m markers \u001b[38;5;129;01mis\u001b[39;00m \u001b[38;5;129;01mnot\u001b[39;00m \u001b[38;5;28;01mNone\u001b[39;00m:\n",
      "File \u001b[1;32mc:\\Users\\giaco\\AppData\\Local\\Programs\\Python\\Python310\\lib\\json\\encoder.py:179\u001b[0m, in \u001b[0;36mJSONEncoder.default\u001b[1;34m(self, o)\u001b[0m\n\u001b[0;32m    160\u001b[0m \u001b[38;5;28;01mdef\u001b[39;00m \u001b[38;5;21mdefault\u001b[39m(\u001b[38;5;28mself\u001b[39m, o):\n\u001b[0;32m    161\u001b[0m \u001b[38;5;250m    \u001b[39m\u001b[38;5;124;03m\"\"\"Implement this method in a subclass such that it returns\u001b[39;00m\n\u001b[0;32m    162\u001b[0m \u001b[38;5;124;03m    a serializable object for ``o``, or calls the base implementation\u001b[39;00m\n\u001b[0;32m    163\u001b[0m \u001b[38;5;124;03m    (to raise a ``TypeError``).\u001b[39;00m\n\u001b[1;32m   (...)\u001b[0m\n\u001b[0;32m    177\u001b[0m \n\u001b[0;32m    178\u001b[0m \u001b[38;5;124;03m    \"\"\"\u001b[39;00m\n\u001b[1;32m--> 179\u001b[0m     \u001b[38;5;28;01mraise\u001b[39;00m \u001b[38;5;167;01mTypeError\u001b[39;00m(\u001b[38;5;124mf\u001b[39m\u001b[38;5;124m'\u001b[39m\u001b[38;5;124mObject of type \u001b[39m\u001b[38;5;132;01m{\u001b[39;00mo\u001b[38;5;241m.\u001b[39m\u001b[38;5;18m__class__\u001b[39m\u001b[38;5;241m.\u001b[39m\u001b[38;5;18m__name__\u001b[39m\u001b[38;5;132;01m}\u001b[39;00m\u001b[38;5;124m \u001b[39m\u001b[38;5;124m'\u001b[39m\n\u001b[0;32m    180\u001b[0m                     \u001b[38;5;124mf\u001b[39m\u001b[38;5;124m'\u001b[39m\u001b[38;5;124mis not JSON serializable\u001b[39m\u001b[38;5;124m'\u001b[39m)\n",
      "\u001b[1;31mTypeError\u001b[0m: Object of type set is not JSON serializable"
     ]
    }
   ],
   "source": [
    "with open(f\"../utils/{DATASET_NAME}/species_split.json\", \"w\") as f:\n",
    "    json.dump(species_split, f)"
   ]
  },
  {
   "cell_type": "markdown",
   "metadata": {},
   "source": [
    "### Get mean confidence score from all models for each audio in test"
   ]
  },
  {
   "cell_type": "code",
   "execution_count": 12,
   "metadata": {},
   "outputs": [],
   "source": [
    "# get list of all models\n",
    "CLASSIFIERS_PATH = \"../classifiers/official/\"\n",
    "all_pred_test_segments = {}\n",
    "for model in os.listdir(CLASSIFIERS_PATH):\n",
    "    path_to_json = os.path.join(CLASSIFIERS_PATH, model, \"test_complete_pred_segments_1.json\")\n",
    "    if not os.path.exists(path_to_json):\n",
    "        continue\n",
    "    with open(path_to_json) as f:\n",
    "        pred_segments = json.load(f)\n",
    "    all_pred_test_segments[model] = pred_segments"
   ]
  },
  {
   "cell_type": "code",
   "execution_count": 14,
   "metadata": {},
   "outputs": [],
   "source": [
    "from collections import defaultdict\n",
    "\n",
    "aggregated_data = defaultdict(lambda: defaultdict(lambda: defaultdict(list)))\n",
    "\n",
    "for model, audio_data in all_pred_test_segments.items():\n",
    "    for audio, segments in audio_data.items():\n",
    "        for segment, species_scores in segments.items():\n",
    "            for species, score in species_scores.items():\n",
    "                aggregated_data[audio][segment][species].append(score)\n"
   ]
  },
  {
   "cell_type": "code",
   "execution_count": 16,
   "metadata": {},
   "outputs": [
    {
     "data": {
      "text/plain": [
       "{'63': {'Turdus philomelos_Song Thrush': 0.3069578359524409,\n",
       "  'Erithacus rubecula_European Robin': 0.2717607033749421,\n",
       "  'Dryobates minor_Lesser Spotted Woodpecker': 0.1505056917667389,\n",
       "  'Fringilla coelebs_Common Chaffinch': 0.180677759150664,\n",
       "  'Regulus regulus_Goldcrest': 0.11488642543554306,\n",
       "  'Troglodytes troglodytes_Eurasian Wren': 0.1187060996890068},\n",
       " '82': {'Erithacus rubecula_European Robin': 0.953721210360527,\n",
       "  'Periparus ater_Coal Tit': 0.11245439201593399},\n",
       " '83': {'Erithacus rubecula_European Robin': 0.4993184916675091,\n",
       "  'Turdus philomelos_Song Thrush': 0.1883356049656868,\n",
       "  'Regulus ignicapilla_Common Firecrest': 0.11537600308656693,\n",
       "  'Certhia familiaris_Eurasian Treecreeper': 0.12419329211115837,\n",
       "  'Fringilla coelebs_Common Chaffinch': 0.1872944012284279,\n",
       "  'Periparus ater_Coal Tit': 0.11864691972732544},\n",
       " '88': {'Turdus philomelos_Song Thrush': 0.39168381028705174,\n",
       "  'Erithacus rubecula_European Robin': 0.18211418949067593,\n",
       "  'Regulus regulus_Goldcrest': 0.14786259829998016,\n",
       "  'Troglodytes troglodytes_Eurasian Wren': 0.14332681708037853,\n",
       "  'Setophaga fusca_Blackburnian Warbler': 0.2379637062549591,\n",
       "  'Fringilla coelebs_Common Chaffinch': 0.30414459109306335},\n",
       " '89': {'Turdus philomelos_Song Thrush': 0.19569104271275656,\n",
       "  'Erithacus rubecula_European Robin': 0.3290696462446993,\n",
       "  'Troglodytes troglodytes_Eurasian Wren': 0.1986524686217308,\n",
       "  'Setophaga fusca_Blackburnian Warbler': 0.2417128086090088,\n",
       "  'Regulus regulus_Goldcrest': 0.16806847602128983,\n",
       "  'Fringilla coelebs_Common Chaffinch': 0.355663001537323},\n",
       " '106': {'Erithacus rubecula_European Robin': 0.5208954426149527,\n",
       "  'Turdus philomelos_Song Thrush': 0.2143789983608506,\n",
       "  'Regulus ignicapilla_Common Firecrest': 0.174311563372612,\n",
       "  'Fringilla coelebs_Common Chaffinch': 0.1072440892457962},\n",
       " '196': {'Erithacus rubecula_European Robin': 0.3821961221595605,\n",
       "  'Turdus philomelos_Song Thrush': 0.32936573550105097,\n",
       "  'Periparus ater_Coal Tit': 0.14935721705357233,\n",
       "  'Regulus ignicapilla_Common Firecrest': 0.13391110748052598,\n",
       "  'Fringilla coelebs_Common Chaffinch': 0.21780122816562653},\n",
       " '197': {'Erithacus rubecula_European Robin': 0.4203477159142494,\n",
       "  'Turdus philomelos_Song Thrush': 0.27580883933438194,\n",
       "  'Regulus ignicapilla_Common Firecrest': 0.1874985247850418,\n",
       "  'Regulus satrapa_Golden-crowned Kinglet': 0.5775083899497986,\n",
       "  'Loxia curvirostra_Common Crossbill': 0.1975184977054596,\n",
       "  'Regulus regulus_Goldcrest': 0.15489986538887024,\n",
       "  'Fringilla coelebs_Common Chaffinch': 0.5865901708602905}}"
      ]
     },
     "execution_count": 16,
     "metadata": {},
     "output_type": "execute_result"
    }
   ],
   "source": [
    "mean_conf_scores = {}\n",
    "for audio, segments in aggregated_data.items():\n",
    "    mean_conf_scores[audio] = {}\n",
    "    for segment, species_scores in segments.items():\n",
    "        mean_conf_scores[audio][segment] = {\n",
    "            species: sum(scores) / len(scores) for species, scores in species_scores.items()\n",
    "        }\n",
    "\n",
    "mean_conf_scores[\"20190608_070000.WAV\"]"
   ]
  },
  {
   "cell_type": "code",
   "execution_count": null,
   "metadata": {},
   "outputs": [],
   "source": [
    "# with open(\"../utils/mean_conf_scores.json\", \"w\") as f:\n",
    "#     json.dump(mean_conf_scores, f)"
   ]
  }
 ],
 "metadata": {
  "kernelspec": {
   "display_name": "Python 3",
   "language": "python",
   "name": "python3"
  },
  "language_info": {
   "codemirror_mode": {
    "name": "ipython",
    "version": 3
   },
   "file_extension": ".py",
   "mimetype": "text/x-python",
   "name": "python",
   "nbconvert_exporter": "python",
   "pygments_lexer": "ipython3",
   "version": "3.10.0"
  }
 },
 "nbformat": 4,
 "nbformat_minor": 2
}
