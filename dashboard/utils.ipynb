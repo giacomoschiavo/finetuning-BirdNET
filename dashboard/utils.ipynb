{
 "cells": [
  {
   "cell_type": "code",
   "execution_count": 1,
   "metadata": {},
   "outputs": [],
   "source": [
    "import os\n",
    "import json\n",
    "import pandas as pd"
   ]
  },
  {
   "cell_type": "code",
   "execution_count": 2,
   "metadata": {},
   "outputs": [],
   "source": [
    "with open(\"../utils/category_info.json\") as f:\n",
    "    category_info = json.load(f)"
   ]
  },
  {
   "cell_type": "code",
   "execution_count": 3,
   "metadata": {},
   "outputs": [],
   "source": [
    "DATASET_NAME = \"NEW_DATASET\"\n",
    "DATASET_PATH = f\"E:/Giacomo/Tovanella/{DATASET_NAME}\""
   ]
  },
  {
   "cell_type": "markdown",
   "metadata": {},
   "source": [
    "### Count samples divided in splits"
   ]
  },
  {
   "cell_type": "code",
   "execution_count": 4,
   "metadata": {},
   "outputs": [],
   "source": [
    "with open(f\"../utils/{DATASET_NAME}/train_test_division.json\") as f:\n",
    "    train_test_div = json.load(f)\n",
    "\n",
    "species_count = {}\n",
    "for species_name, dates in train_test_div.items():\n",
    "    species_count[species_name] = {\"train\": 0, \"test\": 0}\n",
    "    species_count[species_name][\"train\"] = sum([date[\"count\"] for date in dates.values() if date[\"is_training\"] == True])\n",
    "    species_count[species_name][\"test\"] = sum([date[\"count\"] for date in dates.values() if date[\"is_training\"] == False])"
   ]
  },
  {
   "cell_type": "code",
   "execution_count": 5,
   "metadata": {},
   "outputs": [],
   "source": [
    "species_count_df = pd.DataFrame(species_count).T\n",
    "species_count_df.to_csv(f\"../utils/{DATASET_NAME}/species_count_df.csv\")"
   ]
  },
  {
   "cell_type": "markdown",
   "metadata": {},
   "source": [
    "### Divides species audio path in \"train\" and \"test\""
   ]
  },
  {
   "cell_type": "code",
   "execution_count": 7,
   "metadata": {},
   "outputs": [],
   "source": [
    "species_split = {}\n",
    "species_list = list(category_info.keys())\n",
    "for species in species_list:\n",
    "    species_split[species] = {\"train\": set(), \"test\": set()}"
   ]
  },
  {
   "cell_type": "code",
   "execution_count": 8,
   "metadata": {},
   "outputs": [
    {
     "name": "stdout",
     "output_type": "stream",
     "text": [
      "Deleted species? Prunella modularis_Dunnock\n",
      "Deleted species? Spinus spinus_Eurasian Siskin\n"
     ]
    }
   ],
   "source": [
    "split_count = \"train\"\n",
    "for species in species_list:\n",
    "    # check if removed\n",
    "    split_path = os.path.join(DATASET_PATH, split_count, species)\n",
    "    removed_path = os.path.join(DATASET_PATH, \"removed\", species)\n",
    "    if os.path.exists(split_path):\n",
    "        folder_path = split_path\n",
    "    elif os.path.exists(removed_path):\n",
    "        folder_path = removed_path\n",
    "    else:\n",
    "        print(\"Deleted species?\", species)\n",
    "        continue\n",
    "    if species not in species_split:\n",
    "        species_split[species][split] = set()\n",
    "    for audio in os.listdir(folder_path):\n",
    "        # 20190608_070000_64.wav\n",
    "        date = audio.split(\"_\")[0]\n",
    "        is_training = train_test_div[species][date][\"is_training\"]\n",
    "        split = \"train\" if is_training else \"test\"\n",
    "        species_split[species][split].add(audio)"
   ]
  },
  {
   "cell_type": "code",
   "execution_count": 9,
   "metadata": {},
   "outputs": [
    {
     "name": "stdout",
     "output_type": "stream",
     "text": [
      "Deleted species? Prunella modularis_Dunnock\n",
      "Deleted species? Spinus spinus_Eurasian Siskin\n"
     ]
    }
   ],
   "source": [
    "split_count = \"test\"\n",
    "for species in species_list:\n",
    "    # check if removed\n",
    "    split_path = os.path.join(DATASET_PATH, split_count, species)\n",
    "    removed_path = os.path.join(DATASET_PATH, \"removed\", species)\n",
    "    if os.path.exists(split_path):\n",
    "        folder_path = split_path\n",
    "    elif os.path.exists(removed_path):\n",
    "        folder_path = removed_path\n",
    "    else:\n",
    "        print(\"Deleted species?\", species)\n",
    "        continue\n",
    "    if species not in species_split:\n",
    "        species_split[species][split] = set()\n",
    "    for audio in os.listdir(folder_path):\n",
    "        # 20190608_070000_64.wav\n",
    "        date = audio.split(\"_\")[0]\n",
    "        is_training = train_test_div[species][date][\"is_training\"]\n",
    "        split = \"train\" if is_training else \"test\"\n",
    "        species_split[species][split].add(audio)\n"
   ]
  },
  {
   "cell_type": "code",
   "execution_count": 10,
   "metadata": {},
   "outputs": [],
   "source": [
    "for species in species_split:\n",
    "    species_split[species][\"train\"] = list(species_split[species][\"train\"])\n",
    "    species_split[species][\"test\"] = list(species_split[species][\"test\"])"
   ]
  },
  {
   "cell_type": "code",
   "execution_count": null,
   "metadata": {},
   "outputs": [],
   "source": [
    "# with open(f\"../utils/{DATASET_NAME}/species_split.json\", \"w\") as f:\n",
    "#     json.dump(species_split, f)"
   ]
  },
  {
   "cell_type": "markdown",
   "metadata": {},
   "source": [
    "### Get mean confidence score from all models for each audio in test"
   ]
  },
  {
   "cell_type": "code",
   "execution_count": 12,
   "metadata": {},
   "outputs": [],
   "source": [
    "# get list of all models\n",
    "CLASSIFIERS_PATH = \"../classifiers/official/\"\n",
    "all_pred_test_segments = {}\n",
    "for model in os.listdir(CLASSIFIERS_PATH):\n",
    "    path_to_json = os.path.join(CLASSIFIERS_PATH, model, \"test_complete_pred_segments_1.json\")\n",
    "    if not os.path.exists(path_to_json):\n",
    "        continue\n",
    "    with open(path_to_json) as f:\n",
    "        pred_segments = json.load(f)\n",
    "    all_pred_test_segments[model] = pred_segments"
   ]
  },
  {
   "cell_type": "code",
   "execution_count": 14,
   "metadata": {},
   "outputs": [],
   "source": [
    "from collections import defaultdict\n",
    "\n",
    "aggregated_data = defaultdict(lambda: defaultdict(lambda: defaultdict(list)))\n",
    "\n",
    "for model, audio_data in all_pred_test_segments.items():\n",
    "    for audio, segments in audio_data.items():\n",
    "        for segment, species_scores in segments.items():\n",
    "            for species, score in species_scores.items():\n",
    "                aggregated_data[audio][segment][species].append(score)\n"
   ]
  },
  {
   "cell_type": "code",
   "execution_count": 16,
   "metadata": {},
   "outputs": [
    {
     "data": {
      "text/plain": [
       "{'63': {'Turdus philomelos_Song Thrush': 0.3069578359524409,\n",
       "  'Erithacus rubecula_European Robin': 0.2717607033749421,\n",
       "  'Dryobates minor_Lesser Spotted Woodpecker': 0.1505056917667389,\n",
       "  'Fringilla coelebs_Common Chaffinch': 0.180677759150664,\n",
       "  'Regulus regulus_Goldcrest': 0.11488642543554306,\n",
       "  'Troglodytes troglodytes_Eurasian Wren': 0.1187060996890068},\n",
       " '82': {'Erithacus rubecula_European Robin': 0.953721210360527,\n",
       "  'Periparus ater_Coal Tit': 0.11245439201593399},\n",
       " '83': {'Erithacus rubecula_European Robin': 0.4993184916675091,\n",
       "  'Turdus philomelos_Song Thrush': 0.1883356049656868,\n",
       "  'Regulus ignicapilla_Common Firecrest': 0.11537600308656693,\n",
       "  'Certhia familiaris_Eurasian Treecreeper': 0.12419329211115837,\n",
       "  'Fringilla coelebs_Common Chaffinch': 0.1872944012284279,\n",
       "  'Periparus ater_Coal Tit': 0.11864691972732544},\n",
       " '88': {'Turdus philomelos_Song Thrush': 0.39168381028705174,\n",
       "  'Erithacus rubecula_European Robin': 0.18211418949067593,\n",
       "  'Regulus regulus_Goldcrest': 0.14786259829998016,\n",
       "  'Troglodytes troglodytes_Eurasian Wren': 0.14332681708037853,\n",
       "  'Setophaga fusca_Blackburnian Warbler': 0.2379637062549591,\n",
       "  'Fringilla coelebs_Common Chaffinch': 0.30414459109306335},\n",
       " '89': {'Turdus philomelos_Song Thrush': 0.19569104271275656,\n",
       "  'Erithacus rubecula_European Robin': 0.3290696462446993,\n",
       "  'Troglodytes troglodytes_Eurasian Wren': 0.1986524686217308,\n",
       "  'Setophaga fusca_Blackburnian Warbler': 0.2417128086090088,\n",
       "  'Regulus regulus_Goldcrest': 0.16806847602128983,\n",
       "  'Fringilla coelebs_Common Chaffinch': 0.355663001537323},\n",
       " '106': {'Erithacus rubecula_European Robin': 0.5208954426149527,\n",
       "  'Turdus philomelos_Song Thrush': 0.2143789983608506,\n",
       "  'Regulus ignicapilla_Common Firecrest': 0.174311563372612,\n",
       "  'Fringilla coelebs_Common Chaffinch': 0.1072440892457962},\n",
       " '196': {'Erithacus rubecula_European Robin': 0.3821961221595605,\n",
       "  'Turdus philomelos_Song Thrush': 0.32936573550105097,\n",
       "  'Periparus ater_Coal Tit': 0.14935721705357233,\n",
       "  'Regulus ignicapilla_Common Firecrest': 0.13391110748052598,\n",
       "  'Fringilla coelebs_Common Chaffinch': 0.21780122816562653},\n",
       " '197': {'Erithacus rubecula_European Robin': 0.4203477159142494,\n",
       "  'Turdus philomelos_Song Thrush': 0.27580883933438194,\n",
       "  'Regulus ignicapilla_Common Firecrest': 0.1874985247850418,\n",
       "  'Regulus satrapa_Golden-crowned Kinglet': 0.5775083899497986,\n",
       "  'Loxia curvirostra_Common Crossbill': 0.1975184977054596,\n",
       "  'Regulus regulus_Goldcrest': 0.15489986538887024,\n",
       "  'Fringilla coelebs_Common Chaffinch': 0.5865901708602905}}"
      ]
     },
     "execution_count": 16,
     "metadata": {},
     "output_type": "execute_result"
    }
   ],
   "source": [
    "mean_conf_scores = {}\n",
    "for audio, segments in aggregated_data.items():\n",
    "    mean_conf_scores[audio] = {}\n",
    "    for segment, species_scores in segments.items():\n",
    "        mean_conf_scores[audio][segment] = {\n",
    "            species: sum(scores) / len(scores) for species, scores in species_scores.items()\n",
    "        }\n",
    "\n",
    "mean_conf_scores[\"20190608_070000.WAV\"]"
   ]
  },
  {
   "cell_type": "code",
   "execution_count": null,
   "metadata": {},
   "outputs": [],
   "source": [
    "# with open(\"../utils/mean_conf_scores.json\", \"w\") as f:\n",
    "#     json.dump(mean_conf_scores, f)"
   ]
  }
 ],
 "metadata": {
  "kernelspec": {
   "display_name": "Python 3",
   "language": "python",
   "name": "python3"
  },
  "language_info": {
   "codemirror_mode": {
    "name": "ipython",
    "version": 3
   },
   "file_extension": ".py",
   "mimetype": "text/x-python",
   "name": "python",
   "nbconvert_exporter": "python",
   "pygments_lexer": "ipython3",
   "version": "3.10.0"
  }
 },
 "nbformat": 4,
 "nbformat_minor": 2
}
