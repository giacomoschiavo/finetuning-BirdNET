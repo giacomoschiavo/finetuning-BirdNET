{
 "cells": [
  {
   "cell_type": "markdown",
   "metadata": {},
   "source": [
    "# New evaluation test set playground"
   ]
  },
  {
   "cell_type": "code",
   "execution_count": 52,
   "metadata": {},
   "outputs": [],
   "source": [
    "import scipy.io\n",
    "import math\n",
    "import os\n",
    "import glob\n",
    "import numpy as np\n",
    "import json\n",
    "import pandas as pd\n",
    "from birdnetlib.analyzer import Analyzer\n",
    "from birdnetlib.batch import DirectoryAnalyzer"
   ]
  },
  {
   "cell_type": "markdown",
   "metadata": {},
   "source": [
    "## test the model and extract predictions"
   ]
  },
  {
   "cell_type": "code",
   "execution_count": 53,
   "metadata": {},
   "outputs": [],
   "source": [
    "# E:\\Giacomo\\Tovanella-20241110T120546Z-001\\training_sessions\\session_0\\test\\Certhia familiaris_Eurasian Treecreeper\\20200217_160000_591.wav\n",
    "# salva tutti i risultati su questo array\n",
    "complete_pred_segments = {}\n",
    "def on_analyze_complete(recording):\n",
    "    # E:\\Giacomo\\Tovanella-20241110T120546Z-001\\test_set_augm\\test\\Periparus ater_Coal Tit\\20200215_090000_88.wav\n",
    "    audio_name = recording.path.split('\\\\')[-1]\n",
    "    date, number, segm_id = audio_name.split('_')    # <20200215>_<090000>_<88.wav>\n",
    "    segm_id = segm_id.split('.')[0]               # <88>.<wav>\n",
    "    audio_name = \"_\".join([date, number]) + \".WAV\"      # 20200215_090000.WAV\n",
    "    if audio_name not in complete_pred_segments:\n",
    "        complete_pred_segments[audio_name] = {}\n",
    "    if segm_id not in complete_pred_segments[audio_name]:\n",
    "        complete_pred_segments[audio_name][segm_id] = {}\n",
    "    complete_pred_segments[audio_name][segm_id] = { detection[\"label\"]: detection[\"confidence\"] for detection in recording.detections}\n",
    "    print(\"Analyzing \", recording.path)\n",
    "\n",
    "def on_error(recording, error):\n",
    "    print(\"An exception occurred: {}\".format(error))\n",
    "    print(recording.path)"
   ]
  },
  {
   "cell_type": "code",
   "execution_count": 54,
   "metadata": {},
   "outputs": [
    {
     "name": "stdout",
     "output_type": "stream",
     "text": [
      "load_custom_models\n",
      "Custom model loaded.\n",
      "loading custom classifier labels\n",
      "Labels loaded.\n",
      "load model False\n",
      "Model loaded.\n",
      "Labels loaded.\n",
      "load_species_list_model\n",
      "Meta model loaded.\n"
     ]
    }
   ],
   "source": [
    "pred_segments = {}\n",
    "model_path = \"classifiers\\\\new_segments\\\\CustomClassifier.tflite\"\n",
    "labels_path = \"classifiers\\\\new_segments\\\\CustomClassifier_Labels.txt\"\n",
    "audio_path = \"E:\\\\Giacomo\\\\Tovanella-20241110T120546Z-001\\\\test_set_augm\\\\test\"\n",
    "analyzer = Analyzer(\n",
    "    classifier_labels_path=labels_path, \n",
    "    classifier_model_path=model_path,\n",
    ")      \n",
    "\n",
    "# for folder in os.listdir(audio_path):\n",
    "#     directory = os.path.join(audio_path, folder)\n",
    "\n",
    "#     print(\"Starting Watcher: \", folder)\n",
    "#     batch = DirectoryAnalyzer(\n",
    "#         directory,\n",
    "#         analyzers=[analyzer],\n",
    "#         min_conf=0.1,\n",
    "#     )\n",
    "\n",
    "#     batch.on_analyze_complete = on_analyze_complete\n",
    "#     batch.on_error = on_error\n",
    "#     batch.process()"
   ]
  },
  {
   "cell_type": "code",
   "execution_count": 55,
   "metadata": {},
   "outputs": [],
   "source": [
    "# with open(\"utils/complete_pred_segments.json\", \"w\") as f:\n",
    "#     json.dump(complete_pred_segments, f)"
   ]
  },
  {
   "cell_type": "markdown",
   "metadata": {},
   "source": [
    "## extract predicted and true segments "
   ]
  },
  {
   "cell_type": "code",
   "execution_count": 56,
   "metadata": {},
   "outputs": [],
   "source": [
    "with open(\"utils/complete_pred_segments.json\") as f:\n",
    "    complete_pred_segments = json.load(f)"
   ]
  },
  {
   "cell_type": "code",
   "execution_count": 82,
   "metadata": {},
   "outputs": [
    {
     "data": {
      "text/plain": [
       "{'67': ['Wind_'], '68': ['Wind_'], '69': ['Wind_'], '70': ['Vegetation_']}"
      ]
     },
     "execution_count": 82,
     "metadata": {},
     "output_type": "execute_result"
    }
   ],
   "source": [
    "pred_segments = {audio: { \n",
    "        key: list(value.keys()) for key, value in complete_pred_segments[audio].items()\n",
    "    } for audio in complete_pred_segments.keys() }\n",
    "pred_segments[\"20200215_110000.WAV\"]"
   ]
  },
  {
   "cell_type": "code",
   "execution_count": 83,
   "metadata": {},
   "outputs": [
    {
     "data": {
      "text/plain": [
       "{'67': ['Wind_'], '68': ['Wind_'], '69': ['Wind_'], '70': ['Wind_']}"
      ]
     },
     "execution_count": 83,
     "metadata": {},
     "output_type": "execute_result"
    }
   ],
   "source": [
    "with open(\"utils/true_segments.json\") as f:\n",
    "    all_segments = json.load(f)\n",
    "# filter segments in true_segments from the ones not present in pred\n",
    "true_segments = {audio: { \n",
    "        key: value for key, value in all_segments[audio].items() if key in pred_segments[audio]\n",
    "    } for audio in all_segments.keys() if audio in pred_segments}\n",
    "true_segments[\"20200215_110000.WAV\"]"
   ]
  },
  {
   "cell_type": "markdown",
   "metadata": {},
   "source": [
    "## get results"
   ]
  },
  {
   "cell_type": "code",
   "execution_count": 58,
   "metadata": {},
   "outputs": [
    {
     "data": {
      "text/plain": [
       "19"
      ]
     },
     "execution_count": 58,
     "metadata": {},
     "output_type": "execute_result"
    }
   ],
   "source": [
    "from sklearn.preprocessing import MultiLabelBinarizer\n",
    "\n",
    "species_list = os.listdir(audio_path)\n",
    "\n",
    "mlb = MultiLabelBinarizer()\n",
    "mlb.fit([list(species_list)])\n",
    "\n",
    "len(mlb.classes_)"
   ]
  },
  {
   "cell_type": "markdown",
   "metadata": {},
   "source": [
    "### side quest: get confidence scores for each label"
   ]
  },
  {
   "cell_type": "code",
   "execution_count": 87,
   "metadata": {},
   "outputs": [
    {
     "data": {
      "text/plain": [
       "[[0.9670880436897278, True],\n",
       " [0.9595276117324829, True],\n",
       " [0.6463632583618164, True],\n",
       " [0.9791899919509888, True],\n",
       " [0.8687033653259277, True],\n",
       " [0.794307291507721, True]]"
      ]
     },
     "execution_count": 87,
     "metadata": {},
     "output_type": "execute_result"
    }
   ],
   "source": [
    "conf_scores = { specie: [] for specie in species_list }\n",
    "for audio in pred_segments:\n",
    "    for segm, species in pred_segments[audio].items():\n",
    "        for specie in species:\n",
    "            if specie not in species_list:\n",
    "                continue\n",
    "            conf_scores[specie].append([complete_pred_segments[audio][segm][specie], specie in true_segments[audio][segm]])\n",
    "conf_scores[\"Dendrocopos major_Great Spotted Woodpecker\"]"
   ]
  },
  {
   "cell_type": "code",
   "execution_count": 88,
   "metadata": {},
   "outputs": [],
   "source": [
    "with open(\"utils/conf_scores.json\", \"w\") as f:\n",
    "    json.dump(conf_scores, f)"
   ]
  },
  {
   "cell_type": "markdown",
   "metadata": {},
   "source": [
    "### classification report"
   ]
  },
  {
   "cell_type": "code",
   "execution_count": 74,
   "metadata": {},
   "outputs": [],
   "source": [
    "y_pred = []\n",
    "y_true = []\n",
    "for audio in pred_segments:\n",
    "    # sort in increasing order\n",
    "    sortable_pred_segments = { int(key): value for key, value in pred_segments[audio].items() }\n",
    "    sortable_true_segments = { int(key): value for key, value in true_segments[audio].items() }\n",
    "    sorted_pred_segments = dict(sorted(sortable_pred_segments.items()))\n",
    "    sorted_true_segments = dict(sorted(sortable_true_segments.items()))\n",
    "    y_pred.append(mlb.transform(sorted_pred_segments.values()))     # apply transform on every label of every segment\n",
    "    y_true.append(mlb.transform(sorted_true_segments.values()))     # apply transform on every label of every segment\n",
    "y_true = np.vstack(y_true)\n",
    "y_pred = np.vstack(y_pred)"
   ]
  },
  {
   "cell_type": "code",
   "execution_count": 75,
   "metadata": {},
   "outputs": [
    {
     "data": {
      "text/html": [
       "<div>\n",
       "<style scoped>\n",
       "    .dataframe tbody tr th:only-of-type {\n",
       "        vertical-align: middle;\n",
       "    }\n",
       "\n",
       "    .dataframe tbody tr th {\n",
       "        vertical-align: top;\n",
       "    }\n",
       "\n",
       "    .dataframe thead th {\n",
       "        text-align: right;\n",
       "    }\n",
       "</style>\n",
       "<table border=\"1\" class=\"dataframe\">\n",
       "  <thead>\n",
       "    <tr style=\"text-align: right;\">\n",
       "      <th></th>\n",
       "      <th>precision</th>\n",
       "      <th>recall</th>\n",
       "      <th>f1-score</th>\n",
       "      <th>support</th>\n",
       "    </tr>\n",
       "  </thead>\n",
       "  <tbody>\n",
       "    <tr>\n",
       "      <th>Certhia familiaris_Eurasian Treecreeper</th>\n",
       "      <td>1.000000</td>\n",
       "      <td>0.086957</td>\n",
       "      <td>0.160000</td>\n",
       "      <td>23.0</td>\n",
       "    </tr>\n",
       "    <tr>\n",
       "      <th>Dendrocopos major_Great Spotted Woodpecker</th>\n",
       "      <td>1.000000</td>\n",
       "      <td>0.400000</td>\n",
       "      <td>0.571429</td>\n",
       "      <td>15.0</td>\n",
       "    </tr>\n",
       "    <tr>\n",
       "      <th>Dryocopus martius_Black Woodpecker</th>\n",
       "      <td>1.000000</td>\n",
       "      <td>0.100000</td>\n",
       "      <td>0.181818</td>\n",
       "      <td>10.0</td>\n",
       "    </tr>\n",
       "    <tr>\n",
       "      <th>Erithacus rubecula_European Robin</th>\n",
       "      <td>0.666667</td>\n",
       "      <td>0.400000</td>\n",
       "      <td>0.500000</td>\n",
       "      <td>25.0</td>\n",
       "    </tr>\n",
       "    <tr>\n",
       "      <th>Fringilla coelebs_Common Chaffinch</th>\n",
       "      <td>0.402145</td>\n",
       "      <td>0.704225</td>\n",
       "      <td>0.511945</td>\n",
       "      <td>213.0</td>\n",
       "    </tr>\n",
       "    <tr>\n",
       "      <th>Lophophanes cristatus_Crested Tit</th>\n",
       "      <td>0.000000</td>\n",
       "      <td>0.000000</td>\n",
       "      <td>0.000000</td>\n",
       "      <td>6.0</td>\n",
       "    </tr>\n",
       "    <tr>\n",
       "      <th>Loxia curvirostra_Common Crossbill</th>\n",
       "      <td>0.421053</td>\n",
       "      <td>0.592593</td>\n",
       "      <td>0.492308</td>\n",
       "      <td>27.0</td>\n",
       "    </tr>\n",
       "    <tr>\n",
       "      <th>Muscicapa striata_Spotted Flycatcher</th>\n",
       "      <td>0.000000</td>\n",
       "      <td>0.000000</td>\n",
       "      <td>0.000000</td>\n",
       "      <td>2.0</td>\n",
       "    </tr>\n",
       "    <tr>\n",
       "      <th>Pecking_</th>\n",
       "      <td>0.214286</td>\n",
       "      <td>0.692308</td>\n",
       "      <td>0.327273</td>\n",
       "      <td>13.0</td>\n",
       "    </tr>\n",
       "    <tr>\n",
       "      <th>Periparus ater_Coal Tit</th>\n",
       "      <td>0.600000</td>\n",
       "      <td>0.210526</td>\n",
       "      <td>0.311688</td>\n",
       "      <td>57.0</td>\n",
       "    </tr>\n",
       "    <tr>\n",
       "      <th>Rain_</th>\n",
       "      <td>0.500000</td>\n",
       "      <td>0.384615</td>\n",
       "      <td>0.434783</td>\n",
       "      <td>13.0</td>\n",
       "    </tr>\n",
       "    <tr>\n",
       "      <th>Regulus ignicapilla_Common Firecrest</th>\n",
       "      <td>0.353723</td>\n",
       "      <td>0.764368</td>\n",
       "      <td>0.483636</td>\n",
       "      <td>174.0</td>\n",
       "    </tr>\n",
       "    <tr>\n",
       "      <th>Regulus regulus_Goldcrest</th>\n",
       "      <td>0.441860</td>\n",
       "      <td>0.301587</td>\n",
       "      <td>0.358491</td>\n",
       "      <td>63.0</td>\n",
       "    </tr>\n",
       "    <tr>\n",
       "      <th>Sylvia atricapilla_Eurasian Blackcap</th>\n",
       "      <td>0.402439</td>\n",
       "      <td>0.129921</td>\n",
       "      <td>0.196429</td>\n",
       "      <td>254.0</td>\n",
       "    </tr>\n",
       "    <tr>\n",
       "      <th>Troglodytes troglodytes_Eurasian Wren</th>\n",
       "      <td>0.400000</td>\n",
       "      <td>0.031579</td>\n",
       "      <td>0.058537</td>\n",
       "      <td>190.0</td>\n",
       "    </tr>\n",
       "    <tr>\n",
       "      <th>Turdus merula_Eurasian Blackbird</th>\n",
       "      <td>0.000000</td>\n",
       "      <td>0.000000</td>\n",
       "      <td>0.000000</td>\n",
       "      <td>4.0</td>\n",
       "    </tr>\n",
       "    <tr>\n",
       "      <th>Turdus philomelos_Song Thrush</th>\n",
       "      <td>0.439394</td>\n",
       "      <td>0.608392</td>\n",
       "      <td>0.510264</td>\n",
       "      <td>143.0</td>\n",
       "    </tr>\n",
       "    <tr>\n",
       "      <th>Vegetation_</th>\n",
       "      <td>0.272727</td>\n",
       "      <td>0.272727</td>\n",
       "      <td>0.272727</td>\n",
       "      <td>22.0</td>\n",
       "    </tr>\n",
       "    <tr>\n",
       "      <th>Wind_</th>\n",
       "      <td>0.234694</td>\n",
       "      <td>0.479167</td>\n",
       "      <td>0.315068</td>\n",
       "      <td>48.0</td>\n",
       "    </tr>\n",
       "    <tr>\n",
       "      <th>micro avg</th>\n",
       "      <td>0.385704</td>\n",
       "      <td>0.397849</td>\n",
       "      <td>0.391682</td>\n",
       "      <td>1302.0</td>\n",
       "    </tr>\n",
       "    <tr>\n",
       "      <th>macro avg</th>\n",
       "      <td>0.439420</td>\n",
       "      <td>0.324156</td>\n",
       "      <td>0.299284</td>\n",
       "      <td>1302.0</td>\n",
       "    </tr>\n",
       "    <tr>\n",
       "      <th>weighted avg</th>\n",
       "      <td>0.424640</td>\n",
       "      <td>0.397849</td>\n",
       "      <td>0.336730</td>\n",
       "      <td>1302.0</td>\n",
       "    </tr>\n",
       "    <tr>\n",
       "      <th>samples avg</th>\n",
       "      <td>0.377191</td>\n",
       "      <td>0.337900</td>\n",
       "      <td>0.334315</td>\n",
       "      <td>1302.0</td>\n",
       "    </tr>\n",
       "  </tbody>\n",
       "</table>\n",
       "</div>"
      ],
      "text/plain": [
       "                                            precision    recall  f1-score  \\\n",
       "Certhia familiaris_Eurasian Treecreeper      1.000000  0.086957  0.160000   \n",
       "Dendrocopos major_Great Spotted Woodpecker   1.000000  0.400000  0.571429   \n",
       "Dryocopus martius_Black Woodpecker           1.000000  0.100000  0.181818   \n",
       "Erithacus rubecula_European Robin            0.666667  0.400000  0.500000   \n",
       "Fringilla coelebs_Common Chaffinch           0.402145  0.704225  0.511945   \n",
       "Lophophanes cristatus_Crested Tit            0.000000  0.000000  0.000000   \n",
       "Loxia curvirostra_Common Crossbill           0.421053  0.592593  0.492308   \n",
       "Muscicapa striata_Spotted Flycatcher         0.000000  0.000000  0.000000   \n",
       "Pecking_                                     0.214286  0.692308  0.327273   \n",
       "Periparus ater_Coal Tit                      0.600000  0.210526  0.311688   \n",
       "Rain_                                        0.500000  0.384615  0.434783   \n",
       "Regulus ignicapilla_Common Firecrest         0.353723  0.764368  0.483636   \n",
       "Regulus regulus_Goldcrest                    0.441860  0.301587  0.358491   \n",
       "Sylvia atricapilla_Eurasian Blackcap         0.402439  0.129921  0.196429   \n",
       "Troglodytes troglodytes_Eurasian Wren        0.400000  0.031579  0.058537   \n",
       "Turdus merula_Eurasian Blackbird             0.000000  0.000000  0.000000   \n",
       "Turdus philomelos_Song Thrush                0.439394  0.608392  0.510264   \n",
       "Vegetation_                                  0.272727  0.272727  0.272727   \n",
       "Wind_                                        0.234694  0.479167  0.315068   \n",
       "micro avg                                    0.385704  0.397849  0.391682   \n",
       "macro avg                                    0.439420  0.324156  0.299284   \n",
       "weighted avg                                 0.424640  0.397849  0.336730   \n",
       "samples avg                                  0.377191  0.337900  0.334315   \n",
       "\n",
       "                                            support  \n",
       "Certhia familiaris_Eurasian Treecreeper        23.0  \n",
       "Dendrocopos major_Great Spotted Woodpecker     15.0  \n",
       "Dryocopus martius_Black Woodpecker             10.0  \n",
       "Erithacus rubecula_European Robin              25.0  \n",
       "Fringilla coelebs_Common Chaffinch            213.0  \n",
       "Lophophanes cristatus_Crested Tit               6.0  \n",
       "Loxia curvirostra_Common Crossbill             27.0  \n",
       "Muscicapa striata_Spotted Flycatcher            2.0  \n",
       "Pecking_                                       13.0  \n",
       "Periparus ater_Coal Tit                        57.0  \n",
       "Rain_                                          13.0  \n",
       "Regulus ignicapilla_Common Firecrest          174.0  \n",
       "Regulus regulus_Goldcrest                      63.0  \n",
       "Sylvia atricapilla_Eurasian Blackcap          254.0  \n",
       "Troglodytes troglodytes_Eurasian Wren         190.0  \n",
       "Turdus merula_Eurasian Blackbird                4.0  \n",
       "Turdus philomelos_Song Thrush                 143.0  \n",
       "Vegetation_                                    22.0  \n",
       "Wind_                                          48.0  \n",
       "micro avg                                    1302.0  \n",
       "macro avg                                    1302.0  \n",
       "weighted avg                                 1302.0  \n",
       "samples avg                                  1302.0  "
      ]
     },
     "execution_count": 75,
     "metadata": {},
     "output_type": "execute_result"
    }
   ],
   "source": [
    "from sklearn.metrics import classification_report\n",
    "\n",
    "report = classification_report(y_true, y_pred, target_names=mlb.classes_, zero_division=0, output_dict=True)\n",
    "# apply colors\n",
    "# add index column name to df\n",
    "report_df = pd.DataFrame(report).T\n",
    "report_df"
   ]
  },
  {
   "cell_type": "code",
   "execution_count": 64,
   "metadata": {},
   "outputs": [
    {
     "name": "stdout",
     "output_type": "stream",
     "text": [
      "                                            precision    recall  f1-score   support\n",
      "\n",
      "   Certhia familiaris_Eurasian Treecreeper       0.00      0.00      0.00        21\n",
      "Dendrocopos major_Great Spotted Woodpecker       0.00      0.00      0.00         0\n",
      "        Dryocopus martius_Black Woodpecker       0.00      0.00      0.00         0\n",
      "         Erithacus rubecula_European Robin       0.00      0.00      0.00         0\n",
      "        Fringilla coelebs_Common Chaffinch       0.47      0.89      0.62         9\n",
      "         Lophophanes cristatus_Crested Tit       0.00      0.00      0.00         1\n",
      "        Loxia curvirostra_Common Crossbill       0.00      0.00      0.00         0\n",
      "      Muscicapa striata_Spotted Flycatcher       0.00      0.00      0.00         0\n",
      "                                  Pecking_       0.00      0.00      0.00         0\n",
      "                   Periparus ater_Coal Tit       0.00      0.00      0.00         0\n",
      "                                     Rain_       0.00      0.00      0.00         0\n",
      "      Regulus ignicapilla_Common Firecrest       0.00      0.00      0.00         0\n",
      "                 Regulus regulus_Goldcrest       0.00      0.00      0.00         0\n",
      "      Sylvia atricapilla_Eurasian Blackcap       0.21      1.00      0.35         3\n",
      "     Troglodytes troglodytes_Eurasian Wren       0.00      0.00      0.00         0\n",
      "          Turdus merula_Eurasian Blackbird       0.00      0.00      0.00         0\n",
      "             Turdus philomelos_Song Thrush       0.00      0.00      0.00         0\n",
      "                               Vegetation_       0.00      0.00      0.00         0\n",
      "                                     Wind_       0.00      0.00      0.00         0\n",
      "\n",
      "                                 micro avg       0.30      0.32      0.31        34\n",
      "                                 macro avg       0.04      0.10      0.05        34\n",
      "                              weighted avg       0.14      0.32      0.19        34\n",
      "                               samples avg       0.40      0.26      0.30        34\n",
      "\n"
     ]
    }
   ],
   "source": [
    "print(classification_report(y_true, y_pred, target_names=mlb.classes_, zero_division=0))"
   ]
  }
 ],
 "metadata": {
  "kernelspec": {
   "display_name": "Python 3",
   "language": "python",
   "name": "python3"
  },
  "language_info": {
   "codemirror_mode": {
    "name": "ipython",
    "version": 3
   },
   "file_extension": ".py",
   "mimetype": "text/x-python",
   "name": "python",
   "nbconvert_exporter": "python",
   "pygments_lexer": "ipython3",
   "version": "3.10.0"
  }
 },
 "nbformat": 4,
 "nbformat_minor": 2
}
