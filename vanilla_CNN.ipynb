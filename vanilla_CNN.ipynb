{
 "cells": [
  {
   "cell_type": "markdown",
   "metadata": {},
   "source": [
    "# Dataset Information Creation\n",
    "Create a json file to represent the files inside the dataset"
   ]
  },
  {
   "cell_type": "code",
   "execution_count": 35,
   "metadata": {},
   "outputs": [],
   "source": [
    "dataset_name = \"DATASET\""
   ]
  },
  {
   "cell_type": "code",
   "execution_count": 89,
   "metadata": {},
   "outputs": [],
   "source": [
    "import json\n",
    "\n",
    "config = {\n",
    "    \"fixed_duration\": 3.0,\n",
    "    \"sample_rate\": 48000,\n",
    "    \"mel_params\": {\n",
    "      \"n_mels\": 128,\n",
    "      \"hop_length\": 512\n",
    "    }\n",
    "}"
   ]
  },
  {
   "cell_type": "code",
   "execution_count": 90,
   "metadata": {},
   "outputs": [
    {
     "data": {
      "text/plain": [
       "0"
      ]
     },
     "execution_count": 90,
     "metadata": {},
     "output_type": "execute_result"
    }
   ],
   "source": [
    "with open(\"utils/category_info.json\") as f:\n",
    "    category_info = json.load(f)\n",
    "\n",
    "mappings = {species: i for i, species in enumerate(category_info.keys())}\n",
    "mappings[\"Wind_\"]"
   ]
  },
  {
   "cell_type": "code",
   "execution_count": 91,
   "metadata": {},
   "outputs": [],
   "source": [
    "import os\n",
    "samples_train = {}\n",
    "train_folder = \"E:/Giacomo/Tovanella/DATASET/train\"\n",
    "test_folder = \"E:/Giacomo/Tovanella/DATASET/test\"\n",
    "for species in os.listdir(train_folder):\n",
    "    for audio in os.listdir(os.path.join(train_folder, species)):\n",
    "        if audio in samples_train:      # same audio in different folders, save the other species\n",
    "            samples_train[audio][\"labels\"].append(mappings[species])\n",
    "            continue\n",
    "        samples_train[audio] = {\n",
    "            \"file_path\": os.path.join(train_folder, species, audio),\n",
    "            \"split\": \"train\",\n",
    "            \"labels\": [mappings[species]]\n",
    "        }\n"
   ]
  },
  {
   "cell_type": "code",
   "execution_count": 92,
   "metadata": {},
   "outputs": [],
   "source": [
    "samples_test = {}\n",
    "for species in os.listdir(test_folder):\n",
    "    for audio in os.listdir(os.path.join(test_folder, species)):\n",
    "        labels = [mappings[species]]\n",
    "        updated = False\n",
    "        if audio in samples_test:       # adds label\n",
    "            samples_test[audio][\"labels\"].extend(labels)\n",
    "            updated = True\n",
    "        if audio in samples_train:      # considers training labels\n",
    "            samples_train[audio][\"labels\"].extend(labels)       # add test label\n",
    "            labels = samples_train[audio][\"labels\"]             # save new labels\n",
    "        if updated:\n",
    "            continue\n",
    "        samples_test[audio] = {\n",
    "            \"file_path\": os.path.join(test_folder, species, audio),\n",
    "            \"split\": \"test\",\n",
    "            \"labels\": labels\n",
    "        }"
   ]
  },
  {
   "cell_type": "code",
   "execution_count": 93,
   "metadata": {},
   "outputs": [
    {
     "data": {
      "text/plain": [
       "[{'file_path': 'E:/Giacomo/Tovanella/DATASET/train\\\\Certhia familiaris_Eurasian Treecreeper\\\\20190603_030000_177.wav',\n",
       "  'split': 'train',\n",
       "  'labels': [20, 14]},\n",
       " {'file_path': 'E:/Giacomo/Tovanella/DATASET/train\\\\Certhia familiaris_Eurasian Treecreeper\\\\20190603_030000_187.wav',\n",
       "  'split': 'train',\n",
       "  'labels': [20]}]"
      ]
     },
     "execution_count": 93,
     "metadata": {},
     "output_type": "execute_result"
    }
   ],
   "source": [
    "samples = []\n",
    "for audio_name, props in samples_train.items():\n",
    "    samples.append(props)\n",
    "for audio_name, props in samples_test.items():\n",
    "    samples.append(props)\n",
    "samples[:2]"
   ]
  },
  {
   "cell_type": "code",
   "execution_count": 94,
   "metadata": {},
   "outputs": [],
   "source": [
    "info_json = {\n",
    "    \"config\": config,\n",
    "    \"mappings\": mappings,\n",
    "    \"samples\": samples\n",
    "}"
   ]
  },
  {
   "cell_type": "code",
   "execution_count": 95,
   "metadata": {},
   "outputs": [],
   "source": [
    "with open(\"utils/dataset_config.json\", \"w\") as f:\n",
    "    json.dump(info_json, f)"
   ]
  },
  {
   "cell_type": "markdown",
   "metadata": {},
   "source": [
    "# Dataset and Data Loader\n",
    "Use the dataset information to create a data loader for the model"
   ]
  },
  {
   "cell_type": "code",
   "execution_count": 96,
   "metadata": {},
   "outputs": [],
   "source": [
    "import json\n",
    "import torch\n",
    "import torchaudio\n",
    "import torchaudio.transforms as T\n",
    "from torch.utils.data import Dataset, DataLoader\n",
    "import numpy as np"
   ]
  },
  {
   "cell_type": "code",
   "execution_count": 97,
   "metadata": {},
   "outputs": [],
   "source": [
    "class AudioDataset(Dataset):\n",
    "\n",
    "    def __init__(self, json_path, split=\"train\"):\n",
    "        with open(json_path, \"r\") as f:\n",
    "            data = json.load(f)\n",
    "\n",
    "        self.config = data[\"config\"]\n",
    "        self.sample_rate = self.config[\"sample_rate\"]\n",
    "        self.n_mels = self.config[\"mel_params\"][\"n_mels\"]\n",
    "        self.hop_length = self.config[\"mel_params\"][\"hop_length\"]\n",
    "\n",
    "        self.label_map = data[\"mappings\"]\n",
    "        self.num_classes = len(self.label_map)\n",
    "\n",
    "        self.samples = [sample for sample in data[\"samples\"] if sample[\"split\"] == split]\n",
    "\n",
    "        self.mel_transform = T.MelSpectrogram(\n",
    "            sample_rate=self.sample_rate,\n",
    "            n_mels=self.n_mels,\n",
    "            hop_length=self.hop_length\n",
    "        )\n",
    "\n",
    "    def __len__(self):\n",
    "        return len(self.samples)\n",
    "    \n",
    "    def __getitem__(self, idx):\n",
    "        sample = self.samples[idx]\n",
    "        waveform, sr = torchaudio.load(sample[\"file_path\"])\n",
    "\n",
    "        mel_spec = self.mel_transform(waveform).squeeze(0)  # (n_mels, time)\n",
    "\n",
    "        # label one-hot\n",
    "        label_tensor = torch.zeros(self.num_classes)\n",
    "        for label in sample[\"labels\"]:\n",
    "            label_tensor[label] = 1.0\n",
    "\n",
    "        return mel_spec, label_tensor\n"
   ]
  },
  {
   "cell_type": "markdown",
   "metadata": {},
   "source": [
    "# Dataset and Data Loader"
   ]
  },
  {
   "cell_type": "code",
   "execution_count": 98,
   "metadata": {},
   "outputs": [
    {
     "name": "stderr",
     "output_type": "stream",
     "text": [
      "c:\\Users\\giaco\\AppData\\Local\\Programs\\Python\\Python310\\lib\\site-packages\\torchaudio\\functional\\functional.py:584: UserWarning: At least one mel filterbank has all zero values. The value for `n_mels` (128) may be set too high. Or, the value for `n_freqs` (201) may be set too low.\n",
      "  warnings.warn(\n"
     ]
    },
    {
     "data": {
      "text/plain": [
       "<torch.utils.data.dataloader.DataLoader at 0x12b6512b370>"
      ]
     },
     "execution_count": 98,
     "metadata": {},
     "output_type": "execute_result"
    }
   ],
   "source": [
    "json_path = \"utils/dataset_config.json\"\n",
    "def get_dataloader(json_path, split='train', batch_size=32, shuffle=True):\n",
    "    dataset = AudioDataset(json_path, split)\n",
    "    return DataLoader(dataset, batch_size=batch_size, shuffle=shuffle, num_workers=4)\n",
    "get_dataloader(json_path)"
   ]
  },
  {
   "cell_type": "code",
   "execution_count": 102,
   "metadata": {},
   "outputs": [
    {
     "data": {
      "image/png": "[encoded data removed]",
      "text/plain": [
       "<Figure size 1000x400 with 2 Axes>"
      ]
     },
     "metadata": {},
     "output_type": "display_data"
    }
   ],
   "source": [
    "import matplotlib.pyplot as plt\n",
    "\n",
    "# Carica il dataset\n",
    "dataset = AudioDataset(json_path, split=\"train\")\n",
    "\n",
    "# Prendi un esempio\n",
    "mel_spec, label = dataset[10]  # Cambia l'indice se vuoi vedere altri esempi\n",
    "\n",
    "# Converti in numpy per visualizzazione\n",
    "mel_spec = mel_spec.numpy()\n",
    "\n",
    "# Plotta lo spettrogramma\n",
    "plt.figure(figsize=(10, 4))\n",
    "plt.imshow(mel_spec, aspect='auto', origin='lower')\n",
    "plt.colorbar(label=\"Amplitude (dB)\")\n",
    "plt.xlabel(\"Time Frames\")\n",
    "plt.ylabel(\"Mel Bands\")\n",
    "plt.title(\"Mel Spectrogram\")\n",
    "plt.show()\n"
   ]
  },
  {
   "cell_type": "code",
   "execution_count": null,
   "metadata": {},
   "outputs": [],
   "source": []
  }
 ],
 "metadata": {
  "kernelspec": {
   "display_name": "Python 3",
   "language": "python",
   "name": "python3"
  },
  "language_info": {
   "codemirror_mode": {
    "name": "ipython",
    "version": 3
   },
   "file_extension": ".py",
   "mimetype": "text/x-python",
   "name": "python",
   "nbconvert_exporter": "python",
   "pygments_lexer": "ipython3",
   "version": "3.10.0"
  }
 },
 "nbformat": 4,
 "nbformat_minor": 2
}
