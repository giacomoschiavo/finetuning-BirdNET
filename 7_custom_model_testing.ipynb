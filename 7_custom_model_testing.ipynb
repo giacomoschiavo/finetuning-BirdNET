{
 "cells": [
  {
   "cell_type": "markdown",
   "metadata": {},
   "source": [
    "# Setup"
   ]
  },
  {
   "cell_type": "code",
   "execution_count": 1,
   "metadata": {},
   "outputs": [],
   "source": [
    "import torch\n",
    "import numpy as np\n",
    "import json\n",
    "import torch.nn as nn\n",
    "from birdlib import utils"
   ]
  },
  {
   "cell_type": "code",
   "execution_count": 2,
   "metadata": {},
   "outputs": [
    {
     "data": {
      "text/plain": [
       "device(type='cuda')"
      ]
     },
     "execution_count": 2,
     "metadata": {},
     "output_type": "execute_result"
    }
   ],
   "source": [
    "# sudo modprobe nvidia_uvm\n",
    "device = torch.device(\"cuda\" if torch.cuda.is_available() else \"cpu\")\n",
    "device"
   ]
  },
  {
   "cell_type": "code",
   "execution_count": 24,
   "metadata": {},
   "outputs": [],
   "source": [
    "DATASET_NAME = \"dataset\"\n",
    "MODEL_NAME = 'DeeperCNN'\n",
    "DATASET_VAR = 'wabad'"
   ]
  },
  {
   "cell_type": "code",
   "execution_count": 25,
   "metadata": {},
   "outputs": [],
   "source": [
    "DATASET_PATH = f'../segments/{DATASET_NAME}'\n",
    "TRAIN_PATH = f\"{DATASET_PATH}/train\"\n",
    "TEST_PATH = f\"{DATASET_PATH}/test\"\n",
    "MODEL_PATH = f'./models/{MODEL_NAME}'"
   ]
  },
  {
   "cell_type": "markdown",
   "metadata": {},
   "source": [
    "# Load the model"
   ]
  },
  {
   "cell_type": "code",
   "execution_count": 26,
   "metadata": {},
   "outputs": [],
   "source": [
    "with open(f\"./utils/{DATASET_NAME}/dataset_config_{DATASET_VAR}.json\") as f:\n",
    "    dataset_config = json.load(f)"
   ]
  },
  {
   "cell_type": "code",
   "execution_count": 27,
   "metadata": {},
   "outputs": [],
   "source": [
    "mappings = dataset_config[\"mappings\"]"
   ]
  },
  {
   "cell_type": "code",
   "execution_count": 28,
   "metadata": {},
   "outputs": [
    {
     "data": {
      "text/plain": [
       "<All keys matched successfully>"
      ]
     },
     "execution_count": 28,
     "metadata": {},
     "output_type": "execute_result"
    }
   ],
   "source": [
    "model_class = utils.load_model_class(MODEL_NAME)\n",
    "model = model_class(len(mappings))\n",
    "model.to(device)\n",
    "saving_path = f'models/{MODEL_NAME}/checkpoint_{DATASET_VAR}.pth'\n",
    "checkpoint = torch.load(saving_path)\n",
    "model.load_state_dict(checkpoint['model_state_dict'])"
   ]
  },
  {
   "cell_type": "markdown",
   "metadata": {},
   "source": [
    "# Custom Thresholds Creation"
   ]
  },
  {
   "cell_type": "code",
   "execution_count": 29,
   "metadata": {},
   "outputs": [],
   "source": [
    "from collections import defaultdict\n",
    "from sklearn.metrics import f1_score\n",
    "\n",
    "def calculate_conf_scores(valid_loader, model, mappings):\n",
    "    device = torch.device(\"cuda\" if torch.cuda.is_available() else \"cpu\")\n",
    "    model.eval()\n",
    "    model.to(device)\n",
    "    \n",
    "    conf_scores = defaultdict(list)\n",
    "\n",
    "    with torch.no_grad():\n",
    "        for mel_spec, _, file_path in valid_loader:\n",
    "            mel_spec = mel_spec.to(device)\n",
    "\n",
    "            # Estraggo la specie corretta dal path\n",
    "            correct_species = file_path[0].split(\"/\")[-2]\n",
    "            outputs = model(mel_spec)\n",
    "            probs = torch.sigmoid(outputs)[0].cpu().numpy()\n",
    "\n",
    "            for i, prob in enumerate(probs):\n",
    "                species_name = list(mappings.keys())[i]\n",
    "                is_correct = species_name == correct_species\n",
    "                conf_scores[species_name].append((prob, is_correct))\n",
    "\n",
    "    return conf_scores"
   ]
  },
  {
   "cell_type": "code",
   "execution_count": 30,
   "metadata": {},
   "outputs": [],
   "source": [
    "def compute_best_thresholds(conf_scores, num_thresholds=100, min_thresh=0.05, max_thresh=0.95):\n",
    "    thresholds = {}\n",
    "\n",
    "    for species, values in conf_scores.items():\n",
    "        probs, truths = zip(*values)\n",
    "        probs = np.array(probs)\n",
    "        truths = np.array(truths).astype(int)\n",
    "\n",
    "        best_thresh = 0.1\n",
    "        best_f1 = 0.0\n",
    "\n",
    "        for thresh in np.linspace(min_thresh, max_thresh, num_thresholds):\n",
    "            preds = (probs >= thresh).astype(int)\n",
    "            f1 = f1_score(truths, preds, zero_division=0)\n",
    "            if f1 > best_f1:\n",
    "                best_f1 = f1\n",
    "                best_thresh = thresh\n",
    "\n",
    "        thresholds[species] = best_thresh\n",
    "        print(f\"📊 {species} -> {best_thresh:.3f}, F1-score: {best_f1:.3f}\")\n",
    "\n",
    "    return thresholds\n",
    "\n"
   ]
  },
  {
   "cell_type": "code",
   "execution_count": 31,
   "metadata": {},
   "outputs": [],
   "source": [
    "def compute_distribution_based_thresholds(conf_scores, min_thresh=0.05, max_thresh=0.95):\n",
    "    thresholds = {}\n",
    "\n",
    "    for species, values in conf_scores.items():\n",
    "        probs, truths = zip(*values)\n",
    "        probs = np.array(probs)\n",
    "        truths = np.array(truths).astype(int)\n",
    "\n",
    "        correct_probs = np.array([p for p, t in zip(probs, truths) if t == 1])\n",
    "\n",
    "        if len(correct_probs) == 0:\n",
    "            thresholds[species] = 0.2  # fallback\n",
    "            print(f\"⚠️ Specie: {species}, nessuna predizione corretta trovata. Soglia fallback: 0.5\")\n",
    "            continue\n",
    "\n",
    "        mean_conf = np.mean(probs)\n",
    "        std_conf = np.std(probs)\n",
    "        threshold = np.clip(mean_conf - 2 * std_conf, min_thresh, max_thresh)\n",
    "\n",
    "        thresholds[species] = threshold\n",
    "        print(f\"📊 {species} -> {threshold:.3f}, (mean={mean_conf:.3f}, std={std_conf}), samples: {len(correct_probs)}\")\n",
    "\n",
    "    return thresholds\n"
   ]
  },
  {
   "cell_type": "code",
   "execution_count": 32,
   "metadata": {},
   "outputs": [
    {
     "name": "stdout",
     "output_type": "stream",
     "text": [
      "📊 Aeroplane -> 0.914, F1-score: 0.872\n",
      "📊 Muscicapa striata_Spotted Flycatcher -> 0.186, F1-score: 0.780\n",
      "📊 Periparus ater_Coal Tit -> 0.950, F1-score: 0.369\n",
      "📊 Cuculus canorus_Common Cuckoo -> 0.950, F1-score: 0.500\n",
      "📊 Regulus regulus_Goldcrest -> 0.050, F1-score: 0.276\n",
      "📊 Anthus trivialis_Tree Pipit -> 0.923, F1-score: 0.297\n",
      "📊 Vegetation -> 0.623, F1-score: 0.207\n",
      "📊 Troglodytes troglodytes_Eurasian Wren -> 0.386, F1-score: 0.443\n",
      "📊 Erithacus rubecula_European Robin -> 0.532, F1-score: 0.314\n",
      "📊 None -> 0.059, F1-score: 0.007\n",
      "📊 Parus major_Great Tit -> 0.795, F1-score: 0.386\n",
      "📊 Certhia familiaris_Eurasian Treecreeper -> 0.950, F1-score: 0.243\n",
      "📊 Phylloscopus collybita_Common Chiffchaff -> 0.877, F1-score: 0.637\n",
      "📊 Coccothraustes coccothraustes_Hawfinch -> 0.223, F1-score: 0.154\n",
      "📊 Wind -> 0.077, F1-score: 0.474\n",
      "📊 Turdus merula_Eurasian Blackbird -> 0.950, F1-score: 0.335\n",
      "📊 Loxia curvirostra_Common Crossbill -> 0.114, F1-score: 0.215\n",
      "📊 Regulus ignicapilla_Common Firecrest -> 0.132, F1-score: 0.830\n",
      "📊 Sylvia atricapilla_Eurasian Blackcap -> 0.214, F1-score: 0.337\n",
      "📊 Lophophanes cristatus_Crested Tit -> 0.100, F1-score: 0.000\n",
      "📊 Fringilla coelebs_Common Chaffinch -> 0.877, F1-score: 0.407\n"
     ]
    }
   ],
   "source": [
    "valid_loader = utils.get_dataloader(dataset_config, split=\"valid\", batch_size=1)\n",
    "conf_scores = calculate_conf_scores(valid_loader, model, dataset_config[\"mappings\"])\n",
    "best_thresholds = compute_best_thresholds(conf_scores)\n",
    "# best_thresholds = compute_distribution_based_thresholds(conf_scores)"
   ]
  },
  {
   "cell_type": "markdown",
   "metadata": {},
   "source": [
    "# Test Model"
   ]
  },
  {
   "cell_type": "code",
   "execution_count": 33,
   "metadata": {},
   "outputs": [],
   "source": [
    "from sklearn.metrics import average_precision_score, precision_recall_fscore_support\n",
    "\n",
    "def compute_samplewise_mAP(y_true, y_probs):\n",
    "    \"\"\"\n",
    "    Calcola la sample-wise mAP (media delle AP per ogni sample).\n",
    "    \"\"\"\n",
    "    ap_per_sample = []\n",
    "    for i in range(y_true.shape[0]):\n",
    "        if np.sum(y_true[i]) == 0:\n",
    "            continue  # Evita sample senza label positive\n",
    "        ap = average_precision_score(y_true[i], y_probs[i])\n",
    "        ap_per_sample.append(ap)\n",
    "    return np.mean(ap_per_sample)\n",
    "\n",
    "def compute_classwise_mAP(y_true, y_probs):\n",
    "    \"\"\"\n",
    "    Calcola la class-wise mAP (media delle AP per ogni classe).\n",
    "    \"\"\"\n",
    "    ap_per_class = []\n",
    "    for i in range(y_true.shape[1]):\n",
    "        if np.sum(y_true[:, i]) == 0:\n",
    "            continue  # Evita classi mai presenti\n",
    "        ap = average_precision_score(y_true[:, i], y_probs[:, i])\n",
    "        ap_per_class.append(ap)\n",
    "    return np.mean(ap_per_class)\n",
    "\n",
    "def compute_f05(y_true, y_pred):\n",
    "    _, _, f05, _ = precision_recall_fscore_support(\n",
    "        y_true, y_pred, beta=0.5, average='macro', zero_division=0\n",
    "    )\n",
    "    return f05"
   ]
  },
  {
   "cell_type": "code",
   "execution_count": 34,
   "metadata": {},
   "outputs": [],
   "source": [
    "inverse_mappings = {value: key for key, value in mappings.items()}"
   ]
  },
  {
   "cell_type": "code",
   "execution_count": 35,
   "metadata": {},
   "outputs": [],
   "source": [
    "import numpy as np\n",
    "import csv\n",
    "import os\n",
    "\n",
    "def test_model(model, dataset_config, batch_size=1, thresholds=0.5):\n",
    "    device = torch.device(\"cuda\" if torch.cuda.is_available() else \"cpu\")\n",
    "    print(f\"\\n🧬 Advanced testing on: {device}\")\n",
    "    test_pred_segments = {}\n",
    "\n",
    "    test_loader = utils.get_dataloader(dataset_config, split=\"test\", batch_size=batch_size, shuffle=False)\n",
    "    model.eval()\n",
    "    criterion = nn.BCEWithLogitsLoss()\n",
    "    class_names = list(dataset_config['mappings'].keys())\n",
    "    total_loss = 0.0\n",
    "    all_preds = []\n",
    "    all_probs = []\n",
    "    all_labels = []\n",
    "\n",
    "    use_custom_threshold = isinstance(thresholds, dict)\n",
    "\n",
    "    with torch.no_grad():\n",
    "        for mel_spec, labels, file_path in test_loader:\n",
    "            basename = os.path.splitext(file_path[0].split(\"/\")[-1])[0]\n",
    "            date, time, segm1, segm2 = basename.split(\"_\")\n",
    "            audio_name = \"_\".join([date, time]) + \".WAV\"\n",
    "            segm = \"_\".join([segm1, segm2])\n",
    "            test_pred_segments.setdefault(audio_name, {})\n",
    "            test_pred_segments[audio_name].setdefault(segm, {})\n",
    "\n",
    "            mel_spec = mel_spec.to(device)\n",
    "            labels = labels.to(device)\n",
    "\n",
    "            outputs = model(mel_spec)\n",
    "            loss = criterion(outputs, labels)\n",
    "            total_loss += loss.item()\n",
    "\n",
    "            probs = torch.sigmoid(outputs)\n",
    "\n",
    "            if use_custom_threshold:\n",
    "                batch_preds = torch.zeros_like(probs)\n",
    "                for i, class_name in enumerate(class_names):\n",
    "                    thresh = thresholds.get(class_name, 0.5)\n",
    "                    batch_preds[:, i] = (probs[:, i] > thresh).float()\n",
    "            else:\n",
    "                batch_preds = (probs > thresholds).float()\n",
    "\n",
    "            correct_probs = probs * batch_preds\n",
    "            conf_scores = {\n",
    "                inverse_mappings[i]: correct_probs[0, i].item()\n",
    "                for i in range(correct_probs.size(1))\n",
    "                if correct_probs[0, i].item() != 0\n",
    "            }\n",
    "            test_pred_segments[audio_name][segm].update(conf_scores)\n",
    "\n",
    "            all_probs.append(probs.cpu())\n",
    "            all_preds.append(batch_preds.cpu())\n",
    "            all_labels.append(labels.cpu())\n",
    "\n",
    "    avg_loss = total_loss / len(test_loader)\n",
    "    all_probs = torch.cat(all_probs).numpy()\n",
    "    all_preds = torch.cat(all_preds).numpy()\n",
    "    all_labels = torch.cat(all_labels).numpy()\n",
    "\n",
    "    samplewise_map = compute_samplewise_mAP(all_labels, all_probs)  # chiamata mAP\n",
    "    classwise_map = compute_classwise_mAP(all_labels, all_probs)    # chiamata cmAP\n",
    "    f05_score = compute_f05(all_labels, all_preds)\n",
    "\n",
    "    with open(f\"models/{MODEL_NAME}/metrics_output.csv\", mode=\"w\", newline=\"\") as f:\n",
    "        writer = csv.writer(f)\n",
    "        writer.writerow([\"Metric\", \"Value\"])\n",
    "        writer.writerow([\"mAP (sample-wise)\", samplewise_map])\n",
    "        writer.writerow([\"cmAP (class-wise)\", classwise_map])\n",
    "        writer.writerow([\"F0.5 Score\", f05_score])\n",
    "\n",
    "    return avg_loss, all_labels, all_preds, samplewise_map, classwise_map, f05_score, test_pred_segments"
   ]
  },
  {
   "cell_type": "code",
   "execution_count": 36,
   "metadata": {},
   "outputs": [
    {
     "name": "stdout",
     "output_type": "stream",
     "text": [
      "\n",
      "🧬 Advanced testing on: cuda\n"
     ]
    }
   ],
   "source": [
    "avg_loss, all_labels, all_preds, samplewise_map, classwise_map, f05_score, test_pred_segments = test_model(model, dataset_config, thresholds=best_thresholds)"
   ]
  },
  {
   "cell_type": "code",
   "execution_count": 37,
   "metadata": {},
   "outputs": [
    {
     "data": {
      "text/plain": [
       "array([[0., 0., 0., ..., 1., 0., 0.],\n",
       "       [0., 0., 0., ..., 1., 0., 0.],\n",
       "       [0., 0., 0., ..., 0., 0., 0.],\n",
       "       ...,\n",
       "       [0., 0., 0., ..., 0., 0., 1.],\n",
       "       [0., 0., 0., ..., 0., 0., 0.],\n",
       "       [0., 0., 0., ..., 0., 0., 0.]], dtype=float32)"
      ]
     },
     "execution_count": 37,
     "metadata": {},
     "output_type": "execute_result"
    }
   ],
   "source": [
    "# WHERE \"NONE\" REMOVE ALL THE OTHERS\n",
    "none_index = mappings[\"None\"]\n",
    "# all indices where preds[none_index] == 1\n",
    "mask = (all_preds[:, none_index] == 1)\n",
    "all_preds[mask] = 0\n",
    "all_preds[mask, none_index] = 1\n",
    "all_preds"
   ]
  },
  {
   "cell_type": "code",
   "execution_count": 38,
   "metadata": {},
   "outputs": [],
   "source": [
    "torch.cuda.empty_cache()"
   ]
  },
  {
   "cell_type": "code",
   "execution_count": 39,
   "metadata": {},
   "outputs": [],
   "source": [
    "from sklearn.metrics import classification_report\n",
    "\n",
    "class_names = list(dataset_config['mappings'].keys())\n",
    "clf_report = classification_report(all_labels, all_preds, target_names=class_names, output_dict=True, zero_division=0)"
   ]
  },
  {
   "cell_type": "code",
   "execution_count": 40,
   "metadata": {},
   "outputs": [],
   "source": [
    "os.makedirs(f\"{MODEL_PATH}/{DATASET_VAR}\", exist_ok=True)\n",
    "with open(f\"{MODEL_PATH}/{DATASET_VAR}/test_pred_segments.json\", \"w\") as f:\n",
    "    json.dump(test_pred_segments, f)"
   ]
  },
  {
   "cell_type": "code",
   "execution_count": 41,
   "metadata": {},
   "outputs": [
    {
     "name": "stdout",
     "output_type": "stream",
     "text": [
      "mAP Score:  0.7034713422880997\n",
      "mcAP Score:  0.3456516536938584\n",
      "F0.5 Score:  0.3782775757341676\n"
     ]
    }
   ],
   "source": [
    "print(\"mAP Score: \", samplewise_map)\n",
    "print(\"mcAP Score: \", classwise_map)\n",
    "print(\"F0.5 Score: \", f05_score)"
   ]
  },
  {
   "cell_type": "code",
   "execution_count": 42,
   "metadata": {},
   "outputs": [
    {
     "data": {
      "text/html": [
       "<div>\n",
       "<style scoped>\n",
       "    .dataframe tbody tr th:only-of-type {\n",
       "        vertical-align: middle;\n",
       "    }\n",
       "\n",
       "    .dataframe tbody tr th {\n",
       "        vertical-align: top;\n",
       "    }\n",
       "\n",
       "    .dataframe thead th {\n",
       "        text-align: right;\n",
       "    }\n",
       "</style>\n",
       "<table border=\"1\" class=\"dataframe\">\n",
       "  <thead>\n",
       "    <tr style=\"text-align: right;\">\n",
       "      <th></th>\n",
       "      <th>precision</th>\n",
       "      <th>recall</th>\n",
       "      <th>f1-score</th>\n",
       "      <th>support</th>\n",
       "    </tr>\n",
       "  </thead>\n",
       "  <tbody>\n",
       "    <tr>\n",
       "      <th>Aeroplane</th>\n",
       "      <td>0.000000</td>\n",
       "      <td>0.000000</td>\n",
       "      <td>0.000000</td>\n",
       "      <td>22</td>\n",
       "    </tr>\n",
       "    <tr>\n",
       "      <th>Muscicapa striata_Spotted Flycatcher</th>\n",
       "      <td>0.000000</td>\n",
       "      <td>0.000000</td>\n",
       "      <td>0.000000</td>\n",
       "      <td>173</td>\n",
       "    </tr>\n",
       "    <tr>\n",
       "      <th>Periparus ater_Coal Tit</th>\n",
       "      <td>0.595238</td>\n",
       "      <td>0.230415</td>\n",
       "      <td>0.332226</td>\n",
       "      <td>217</td>\n",
       "    </tr>\n",
       "    <tr>\n",
       "      <th>Cuculus canorus_Common Cuckoo</th>\n",
       "      <td>0.000000</td>\n",
       "      <td>0.000000</td>\n",
       "      <td>0.000000</td>\n",
       "      <td>3</td>\n",
       "    </tr>\n",
       "    <tr>\n",
       "      <th>Regulus regulus_Goldcrest</th>\n",
       "      <td>0.582090</td>\n",
       "      <td>0.286765</td>\n",
       "      <td>0.384236</td>\n",
       "      <td>136</td>\n",
       "    </tr>\n",
       "    <tr>\n",
       "      <th>Anthus trivialis_Tree Pipit</th>\n",
       "      <td>0.905109</td>\n",
       "      <td>0.649215</td>\n",
       "      <td>0.756098</td>\n",
       "      <td>191</td>\n",
       "    </tr>\n",
       "    <tr>\n",
       "      <th>Vegetation</th>\n",
       "      <td>0.169231</td>\n",
       "      <td>0.203704</td>\n",
       "      <td>0.184874</td>\n",
       "      <td>54</td>\n",
       "    </tr>\n",
       "    <tr>\n",
       "      <th>Troglodytes troglodytes_Eurasian Wren</th>\n",
       "      <td>0.500000</td>\n",
       "      <td>0.308057</td>\n",
       "      <td>0.381232</td>\n",
       "      <td>211</td>\n",
       "    </tr>\n",
       "    <tr>\n",
       "      <th>Erithacus rubecula_European Robin</th>\n",
       "      <td>0.502058</td>\n",
       "      <td>0.176812</td>\n",
       "      <td>0.261522</td>\n",
       "      <td>690</td>\n",
       "    </tr>\n",
       "    <tr>\n",
       "      <th>None</th>\n",
       "      <td>0.764162</td>\n",
       "      <td>0.846893</td>\n",
       "      <td>0.803403</td>\n",
       "      <td>4683</td>\n",
       "    </tr>\n",
       "    <tr>\n",
       "      <th>Parus major_Great Tit</th>\n",
       "      <td>0.812500</td>\n",
       "      <td>0.577778</td>\n",
       "      <td>0.675325</td>\n",
       "      <td>45</td>\n",
       "    </tr>\n",
       "    <tr>\n",
       "      <th>Certhia familiaris_Eurasian Treecreeper</th>\n",
       "      <td>0.858824</td>\n",
       "      <td>0.663636</td>\n",
       "      <td>0.748718</td>\n",
       "      <td>110</td>\n",
       "    </tr>\n",
       "    <tr>\n",
       "      <th>Phylloscopus collybita_Common Chiffchaff</th>\n",
       "      <td>0.588076</td>\n",
       "      <td>0.316788</td>\n",
       "      <td>0.411765</td>\n",
       "      <td>685</td>\n",
       "    </tr>\n",
       "    <tr>\n",
       "      <th>Coccothraustes coccothraustes_Hawfinch</th>\n",
       "      <td>0.000000</td>\n",
       "      <td>0.000000</td>\n",
       "      <td>0.000000</td>\n",
       "      <td>87</td>\n",
       "    </tr>\n",
       "    <tr>\n",
       "      <th>Wind</th>\n",
       "      <td>0.092784</td>\n",
       "      <td>0.371134</td>\n",
       "      <td>0.148454</td>\n",
       "      <td>194</td>\n",
       "    </tr>\n",
       "    <tr>\n",
       "      <th>Turdus merula_Eurasian Blackbird</th>\n",
       "      <td>0.724138</td>\n",
       "      <td>0.061224</td>\n",
       "      <td>0.112903</td>\n",
       "      <td>343</td>\n",
       "    </tr>\n",
       "    <tr>\n",
       "      <th>Loxia curvirostra_Common Crossbill</th>\n",
       "      <td>0.727273</td>\n",
       "      <td>0.222222</td>\n",
       "      <td>0.340426</td>\n",
       "      <td>36</td>\n",
       "    </tr>\n",
       "    <tr>\n",
       "      <th>Regulus ignicapilla_Common Firecrest</th>\n",
       "      <td>0.752315</td>\n",
       "      <td>0.565217</td>\n",
       "      <td>0.645482</td>\n",
       "      <td>575</td>\n",
       "    </tr>\n",
       "    <tr>\n",
       "      <th>Sylvia atricapilla_Eurasian Blackcap</th>\n",
       "      <td>0.165658</td>\n",
       "      <td>0.602000</td>\n",
       "      <td>0.259819</td>\n",
       "      <td>500</td>\n",
       "    </tr>\n",
       "    <tr>\n",
       "      <th>Lophophanes cristatus_Crested Tit</th>\n",
       "      <td>0.000000</td>\n",
       "      <td>0.000000</td>\n",
       "      <td>0.000000</td>\n",
       "      <td>23</td>\n",
       "    </tr>\n",
       "    <tr>\n",
       "      <th>Fringilla coelebs_Common Chaffinch</th>\n",
       "      <td>0.783350</td>\n",
       "      <td>0.498405</td>\n",
       "      <td>0.609204</td>\n",
       "      <td>1567</td>\n",
       "    </tr>\n",
       "    <tr>\n",
       "      <th>micro avg</th>\n",
       "      <td>0.583514</td>\n",
       "      <td>0.588051</td>\n",
       "      <td>0.585774</td>\n",
       "      <td>10545</td>\n",
       "    </tr>\n",
       "    <tr>\n",
       "      <th>macro avg</th>\n",
       "      <td>0.453467</td>\n",
       "      <td>0.313346</td>\n",
       "      <td>0.335985</td>\n",
       "      <td>10545</td>\n",
       "    </tr>\n",
       "    <tr>\n",
       "      <th>weighted avg</th>\n",
       "      <td>0.662891</td>\n",
       "      <td>0.588051</td>\n",
       "      <td>0.591014</td>\n",
       "      <td>10545</td>\n",
       "    </tr>\n",
       "    <tr>\n",
       "      <th>samples avg</th>\n",
       "      <td>0.598078</td>\n",
       "      <td>0.612748</td>\n",
       "      <td>0.596813</td>\n",
       "      <td>10545</td>\n",
       "    </tr>\n",
       "  </tbody>\n",
       "</table>\n",
       "</div>"
      ],
      "text/plain": [
       "                                          precision    recall  f1-score  \\\n",
       "Aeroplane                                  0.000000  0.000000  0.000000   \n",
       "Muscicapa striata_Spotted Flycatcher       0.000000  0.000000  0.000000   \n",
       "Periparus ater_Coal Tit                    0.595238  0.230415  0.332226   \n",
       "Cuculus canorus_Common Cuckoo              0.000000  0.000000  0.000000   \n",
       "Regulus regulus_Goldcrest                  0.582090  0.286765  0.384236   \n",
       "Anthus trivialis_Tree Pipit                0.905109  0.649215  0.756098   \n",
       "Vegetation                                 0.169231  0.203704  0.184874   \n",
       "Troglodytes troglodytes_Eurasian Wren      0.500000  0.308057  0.381232   \n",
       "Erithacus rubecula_European Robin          0.502058  0.176812  0.261522   \n",
       "None                                       0.764162  0.846893  0.803403   \n",
       "Parus major_Great Tit                      0.812500  0.577778  0.675325   \n",
       "Certhia familiaris_Eurasian Treecreeper    0.858824  0.663636  0.748718   \n",
       "Phylloscopus collybita_Common Chiffchaff   0.588076  0.316788  0.411765   \n",
       "Coccothraustes coccothraustes_Hawfinch     0.000000  0.000000  0.000000   \n",
       "Wind                                       0.092784  0.371134  0.148454   \n",
       "Turdus merula_Eurasian Blackbird           0.724138  0.061224  0.112903   \n",
       "Loxia curvirostra_Common Crossbill         0.727273  0.222222  0.340426   \n",
       "Regulus ignicapilla_Common Firecrest       0.752315  0.565217  0.645482   \n",
       "Sylvia atricapilla_Eurasian Blackcap       0.165658  0.602000  0.259819   \n",
       "Lophophanes cristatus_Crested Tit          0.000000  0.000000  0.000000   \n",
       "Fringilla coelebs_Common Chaffinch         0.783350  0.498405  0.609204   \n",
       "micro avg                                  0.583514  0.588051  0.585774   \n",
       "macro avg                                  0.453467  0.313346  0.335985   \n",
       "weighted avg                               0.662891  0.588051  0.591014   \n",
       "samples avg                                0.598078  0.612748  0.596813   \n",
       "\n",
       "                                          support  \n",
       "Aeroplane                                      22  \n",
       "Muscicapa striata_Spotted Flycatcher          173  \n",
       "Periparus ater_Coal Tit                       217  \n",
       "Cuculus canorus_Common Cuckoo                   3  \n",
       "Regulus regulus_Goldcrest                     136  \n",
       "Anthus trivialis_Tree Pipit                   191  \n",
       "Vegetation                                     54  \n",
       "Troglodytes troglodytes_Eurasian Wren         211  \n",
       "Erithacus rubecula_European Robin             690  \n",
       "None                                         4683  \n",
       "Parus major_Great Tit                          45  \n",
       "Certhia familiaris_Eurasian Treecreeper       110  \n",
       "Phylloscopus collybita_Common Chiffchaff      685  \n",
       "Coccothraustes coccothraustes_Hawfinch         87  \n",
       "Wind                                          194  \n",
       "Turdus merula_Eurasian Blackbird              343  \n",
       "Loxia curvirostra_Common Crossbill             36  \n",
       "Regulus ignicapilla_Common Firecrest          575  \n",
       "Sylvia atricapilla_Eurasian Blackcap          500  \n",
       "Lophophanes cristatus_Crested Tit              23  \n",
       "Fringilla coelebs_Common Chaffinch           1567  \n",
       "micro avg                                   10545  \n",
       "macro avg                                   10545  \n",
       "weighted avg                                10545  \n",
       "samples avg                                 10545  "
      ]
     },
     "execution_count": 42,
     "metadata": {},
     "output_type": "execute_result"
    }
   ],
   "source": [
    "from io import StringIO\n",
    "import pandas as pd\n",
    "\n",
    "clf_report_df = pd.read_json(StringIO(json.dumps(clf_report)), orient='index')\n",
    "clf_report_df"
   ]
  },
  {
   "cell_type": "code",
   "execution_count": 43,
   "metadata": {},
   "outputs": [],
   "source": [
    "with open(f\"{MODEL_PATH}/classification_report_{DATASET_VAR}.json\", \"w\") as f:\n",
    "    json.dump(clf_report, f)"
   ]
  },
  {
   "cell_type": "code",
   "execution_count": 44,
   "metadata": {},
   "outputs": [],
   "source": [
    "torch.cuda.empty_cache()"
   ]
  }
 ],
 "metadata": {
  "kernelspec": {
   "display_name": "myenv",
   "language": "python",
   "name": "python3"
  },
  "language_info": {
   "codemirror_mode": {
    "name": "ipython",
    "version": 3
   },
   "file_extension": ".py",
   "mimetype": "text/x-python",
   "name": "python",
   "nbconvert_exporter": "python",
   "pygments_lexer": "ipython3",
   "version": "3.10.17"
  }
 },
 "nbformat": 4,
 "nbformat_minor": 2
}
