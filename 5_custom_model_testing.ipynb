{
 "cells": [
  {
   "cell_type": "markdown",
   "metadata": {},
   "source": [
    "# Setup"
   ]
  },
  {
   "cell_type": "code",
   "execution_count": 1,
   "metadata": {},
   "outputs": [],
   "source": [
    "import torch\n",
    "import numpy as np\n",
    "import json\n",
    "import torch.nn as nn\n",
    "from birdlib import utils"
   ]
  },
  {
   "cell_type": "code",
   "execution_count": 2,
   "metadata": {},
   "outputs": [
    {
     "data": {
      "text/plain": [
       "device(type='cuda')"
      ]
     },
     "execution_count": 2,
     "metadata": {},
     "output_type": "execute_result"
    }
   ],
   "source": [
    "# sudo modprobe nvidia_uvm\n",
    "device = torch.device(\"cuda\" if torch.cuda.is_available() else \"cpu\")\n",
    "device"
   ]
  },
  {
   "cell_type": "code",
   "execution_count": null,
   "metadata": {},
   "outputs": [],
   "source": [
    "DATASET_NAME = \"dataset\"\n",
    "MODEL_NAME = 'CustomCNN'\n",
    "DATASET_VAR = 'custom'"
   ]
  },
  {
   "cell_type": "code",
   "execution_count": 4,
   "metadata": {},
   "outputs": [],
   "source": [
    "DATASET_PATH = f'../segments/{DATASET_NAME}'\n",
    "TRAIN_PATH = f\"{DATASET_PATH}/train\"\n",
    "TEST_PATH = f\"{DATASET_PATH}/test\"\n",
    "MODEL_PATH = f'./models/{MODEL_NAME}'"
   ]
  },
  {
   "cell_type": "markdown",
   "metadata": {},
   "source": [
    "# Load the model"
   ]
  },
  {
   "cell_type": "code",
   "execution_count": null,
   "metadata": {},
   "outputs": [],
   "source": [
    "with open(f\"./utils/{DATASET_NAME}/dataset_config_{DATASET_VAR}.json\") as f:\n",
    "    dataset_config = json.load(f)"
   ]
  },
  {
   "cell_type": "code",
   "execution_count": 6,
   "metadata": {},
   "outputs": [],
   "source": [
    "test_loader = utils.get_dataloader(dataset_config, split=\"test\", batch_size=1, shuffle=False)\n",
    "valid_loader = utils.get_dataloader(dataset_config, split=\"valid\", batch_size=1)"
   ]
  },
  {
   "cell_type": "code",
   "execution_count": 7,
   "metadata": {},
   "outputs": [],
   "source": [
    "mappings = dataset_config[\"mappings\"]"
   ]
  },
  {
   "cell_type": "code",
   "execution_count": 8,
   "metadata": {},
   "outputs": [],
   "source": [
    "INPUT_SHAPE = (256, 256)\n",
    "\n",
    "config_file = f'/home/giacomoschiavo/finetuning-BirdNET/models/CustomCNN/model_ranking_config_6_0.json'\n",
    "with open(config_file) as f:\n",
    "    configs = json.load(f)\n"
   ]
  },
  {
   "cell_type": "code",
   "execution_count": 10,
   "metadata": {},
   "outputs": [
    {
     "data": {
      "text/plain": [
       "<All keys matched successfully>"
      ]
     },
     "execution_count": 10,
     "metadata": {},
     "output_type": "execute_result"
    }
   ],
   "source": [
    "model_class = utils.load_model_class(MODEL_NAME)\n",
    "input_shape = (256, 256)\n",
    "model_class = utils.load_model_class(MODEL_NAME)\n",
    "model = model_class(input_shape, configs[0]['config'], len(mappings))\n",
    "model.to(device)\n",
    "saving_path = '/home/giacomoschiavo/finetuning-BirdNET/models/CustomCNN/custom_base/checkpoint.pth'\n",
    "checkpoint = torch.load(saving_path)\n",
    "model.load_state_dict(checkpoint['model_state_dict'])"
   ]
  },
  {
   "cell_type": "markdown",
   "metadata": {},
   "source": [
    "# Custom Thresholds Creation"
   ]
  },
  {
   "cell_type": "code",
   "execution_count": 11,
   "metadata": {},
   "outputs": [],
   "source": [
    "from collections import defaultdict\n",
    "from sklearn.metrics import f1_score\n",
    "\n",
    "def calculate_conf_scores(valid_loader, model, mappings):\n",
    "    device = torch.device(\"cuda\" if torch.cuda.is_available() else \"cpu\")\n",
    "    model.eval()\n",
    "    model.to(device)\n",
    "    \n",
    "    conf_scores = defaultdict(list)\n",
    "\n",
    "    with torch.no_grad():\n",
    "        for mel_spec, _, file_path in valid_loader:\n",
    "            mel_spec = mel_spec.to(device)\n",
    "\n",
    "            # Estraggo la specie corretta dal path\n",
    "            correct_species = file_path[0].split(\"/\")[-2]\n",
    "            outputs = model(mel_spec)\n",
    "            probs = torch.sigmoid(outputs)[0].cpu().numpy()\n",
    "\n",
    "            for i, prob in enumerate(probs):\n",
    "                species_name = list(mappings.keys())[i]\n",
    "                is_correct = species_name == correct_species\n",
    "                conf_scores[species_name].append((prob, is_correct))\n",
    "\n",
    "    return conf_scores"
   ]
  },
  {
   "cell_type": "code",
   "execution_count": 12,
   "metadata": {},
   "outputs": [],
   "source": [
    "def compute_best_thresholds(conf_scores, num_thresholds=200, min_thresh=0.01, max_thresh=0.95):\n",
    "    thresholds = {}\n",
    "\n",
    "    for species, values in conf_scores.items():\n",
    "        probs, truths = zip(*values)\n",
    "        probs = np.array(probs)\n",
    "        truths = np.array(truths).astype(int)\n",
    "\n",
    "        best_thresh = 0.15\n",
    "        best_f1 = 0.0\n",
    "\n",
    "        for thresh in np.linspace(min_thresh, max_thresh, num_thresholds):\n",
    "            preds = (probs >= thresh).astype(int)\n",
    "            f1 = f1_score(truths, preds, zero_division=0)\n",
    "            if f1 > best_f1:\n",
    "                best_f1 = f1\n",
    "                best_thresh = thresh\n",
    "\n",
    "        thresholds[species] = best_thresh\n",
    "        print(f\"📊 {species} -> {best_thresh:.3f}, F1-score: {best_f1:.3f}\")\n",
    "\n",
    "    return thresholds\n",
    "\n"
   ]
  },
  {
   "cell_type": "code",
   "execution_count": 13,
   "metadata": {},
   "outputs": [
    {
     "name": "stdout",
     "output_type": "stream",
     "text": [
      "📊 Aeroplane -> 0.284, F1-score: 0.476\n",
      "📊 Muscicapa striata_Spotted Flycatcher -> 0.412, F1-score: 0.623\n",
      "📊 Periparus ater_Coal Tit -> 0.600, F1-score: 0.474\n",
      "📊 Regulus regulus_Goldcrest -> 0.241, F1-score: 0.663\n",
      "📊 Anthus trivialis_Tree Pipit -> 0.634, F1-score: 0.676\n",
      "📊 Vegetation -> 0.279, F1-score: 0.547\n",
      "📊 Troglodytes troglodytes_Eurasian Wren -> 0.350, F1-score: 0.554\n",
      "📊 Erithacus rubecula_European Robin -> 0.128, F1-score: 0.501\n",
      "📊 None -> 0.407, F1-score: 0.832\n",
      "📊 Parus major_Great Tit -> 0.326, F1-score: 0.389\n",
      "📊 Certhia familiaris_Eurasian Treecreeper -> 0.652, F1-score: 0.471\n",
      "📊 Phylloscopus collybita_Common Chiffchaff -> 0.563, F1-score: 0.587\n",
      "📊 Coccothraustes coccothraustes_Hawfinch -> 0.293, F1-score: 0.788\n",
      "📊 Wind -> 0.189, F1-score: 0.386\n",
      "📊 Turdus merula_Eurasian Blackbird -> 0.473, F1-score: 0.490\n",
      "📊 Loxia curvirostra_Common Crossbill -> 0.591, F1-score: 0.789\n",
      "📊 Regulus ignicapilla_Common Firecrest -> 0.279, F1-score: 0.565\n",
      "📊 Sylvia atricapilla_Eurasian Blackcap -> 0.558, F1-score: 0.451\n",
      "📊 Lophophanes cristatus_Crested Tit -> 0.511, F1-score: 0.190\n",
      "📊 Fringilla coelebs_Common Chaffinch -> 0.685, F1-score: 0.522\n"
     ]
    }
   ],
   "source": [
    "conf_scores = calculate_conf_scores(valid_loader, model, dataset_config[\"mappings\"])\n",
    "best_thresholds = compute_best_thresholds(conf_scores)\n",
    "# best_thresholds = compute_distribution_based_thresholds(conf_scores)"
   ]
  },
  {
   "cell_type": "markdown",
   "metadata": {},
   "source": [
    "# Test Model"
   ]
  },
  {
   "cell_type": "code",
   "execution_count": 15,
   "metadata": {},
   "outputs": [],
   "source": [
    "inverse_mappings = {value: key for key, value in mappings.items()}"
   ]
  },
  {
   "cell_type": "code",
   "execution_count": null,
   "metadata": {},
   "outputs": [],
   "source": [
    "import os\n",
    "\n",
    "def test_model(model, dataset_config, test_loader, thresholds=0.2):\n",
    "    device = torch.device(\"cuda\" if torch.cuda.is_available() else \"cpu\")\n",
    "    print(f\"\\n🧬 Advanced testing on: {device}\")\n",
    "    test_pred_segments = {}\n",
    "\n",
    "    model.eval()\n",
    "    criterion = nn.BCEWithLogitsLoss()\n",
    "    class_names = list(dataset_config['mappings'].keys())\n",
    "    total_loss = 0.0\n",
    "\n",
    "    use_custom_threshold = isinstance(thresholds, dict)\n",
    "\n",
    "    with torch.no_grad():\n",
    "        for mel_spec, labels, file_path in test_loader:\n",
    "            basename = os.path.splitext(file_path[0].split(\"/\")[-1])[0]\n",
    "            date, time, segm1, segm2 = basename.split(\"_\")\n",
    "            audio_name = \"_\".join([date, time]) + \".WAV\"\n",
    "            segm = \"_\".join([segm1, segm2])\n",
    "            test_pred_segments.setdefault(audio_name, {})\n",
    "\n",
    "            mel_spec = mel_spec.to(device)\n",
    "            labels = labels.to(device)\n",
    "\n",
    "            outputs = model(mel_spec)\n",
    "            loss = criterion(outputs, labels)\n",
    "            total_loss += loss.item()\n",
    "\n",
    "            probs = torch.sigmoid(outputs)\n",
    "\n",
    "            if use_custom_threshold:\n",
    "                batch_preds = torch.zeros_like(probs)\n",
    "                for i, class_name in enumerate(class_names):\n",
    "                    thresh = thresholds.get(class_name, 0.5)\n",
    "                    batch_preds[:, i] = (probs[:, i] > thresh).float()\n",
    "            else:\n",
    "                batch_preds = (probs > thresholds).float()\n",
    "\n",
    "            correct_probs = probs * batch_preds\n",
    "            # already_added = False\n",
    "            if segm not in test_pred_segments:\n",
    "                test_pred_segments[audio_name][segm] = {}\n",
    "            # else:\n",
    "            #     already_added = True\n",
    "                \n",
    "            conf_scores = {\n",
    "                inverse_mappings[i]: correct_probs[0, i].item()\n",
    "                for i in range(correct_probs.size(1))\n",
    "                if correct_probs[0, i].item() != 0\n",
    "            }\n",
    "            test_pred_segments[audio_name][segm].update(conf_scores)\n",
    "\n",
    "    avg_loss = total_loss / len(test_loader)\n",
    "    return avg_loss, test_pred_segments"
   ]
  },
  {
   "cell_type": "code",
   "execution_count": 17,
   "metadata": {},
   "outputs": [
    {
     "name": "stdout",
     "output_type": "stream",
     "text": [
      "\n",
      "🧬 Advanced testing on: cuda\n"
     ]
    }
   ],
   "source": [
    "avg_loss, test_pred_segments = test_model(model, dataset_config, test_loader, thresholds=best_thresholds)"
   ]
  },
  {
   "cell_type": "code",
   "execution_count": 18,
   "metadata": {},
   "outputs": [],
   "source": [
    "from collections import defaultdict\n",
    "import os\n",
    "\n",
    "def get_true_segments(test_path):\n",
    "    test_species_list = os.listdir(test_path)\n",
    "    true_segments = defaultdict(dict)\n",
    "    for species in test_species_list:\n",
    "        for audio in os.listdir(os.path.join(test_path, species)):\n",
    "            audio = audio.split('.')[0]\n",
    "            date, time, segm1, segm2 = audio.split('_')\n",
    "            audio_name = '_'.join([date, time]) + '.WAV'\n",
    "            segm = '_'.join([segm1, segm2])\n",
    "            if segm not in true_segments[audio_name]:\n",
    "                true_segments[audio_name][segm] = []\n",
    "            true_segments[audio_name][segm].extend([species])\n",
    "    return true_segments"
   ]
  },
  {
   "cell_type": "code",
   "execution_count": 19,
   "metadata": {},
   "outputs": [],
   "source": [
    "true_segments = get_true_segments(TEST_PATH)"
   ]
  },
  {
   "cell_type": "code",
   "execution_count": 20,
   "metadata": {},
   "outputs": [],
   "source": [
    "def get_pred_proba_segments(test_pred_segments):\n",
    "    pred_segments = {}\n",
    "    pred_proba = {}\n",
    "\n",
    "    for audio, segments in test_pred_segments.items():\n",
    "        pred_segments.setdefault(audio, {})\n",
    "        pred_proba.setdefault(audio, {})\n",
    "        for segm, labels in segments.items():\n",
    "            pred_segments[audio].setdefault(segm, {})\n",
    "            pred_segments[audio][segm] = list(labels.keys())\n",
    "            pred_proba[audio].setdefault(segm, {})\n",
    "            pred_proba[audio][segm] = list(labels.values())\n",
    "    return pred_segments, pred_proba"
   ]
  },
  {
   "cell_type": "code",
   "execution_count": 21,
   "metadata": {},
   "outputs": [],
   "source": [
    "# extract recognized labels\n",
    "pred_segments, pred_proba = get_pred_proba_segments(test_pred_segments)"
   ]
  },
  {
   "cell_type": "code",
   "execution_count": 22,
   "metadata": {},
   "outputs": [],
   "source": [
    "def fill_pred_segments(true_segments, pred_segments, pred_proba):\n",
    "    for audio in true_segments.keys():\n",
    "        if audio in pred_segments:\n",
    "            for segm in true_segments[audio].keys():\n",
    "                if segm not in pred_segments[audio]:\n",
    "                    pred_segments[audio][segm] = {}\n",
    "                    pred_proba[audio][segm] = {}\n",
    "\n",
    "    return pred_segments, pred_proba"
   ]
  },
  {
   "cell_type": "code",
   "execution_count": 23,
   "metadata": {},
   "outputs": [],
   "source": [
    "pred_segments, pred_proba = fill_pred_segments(true_segments, pred_segments, pred_proba)"
   ]
  },
  {
   "cell_type": "code",
   "execution_count": 24,
   "metadata": {},
   "outputs": [
    {
     "data": {
      "text/plain": [
       "20"
      ]
     },
     "execution_count": 24,
     "metadata": {},
     "output_type": "execute_result"
    }
   ],
   "source": [
    "from sklearn.preprocessing import MultiLabelBinarizer\n",
    "\n",
    "test_species_list = os.listdir(TEST_PATH)\n",
    "# test_species_list = [species for species in test_species_list if len(species.split('_')) > 1]\n",
    "mlb = MultiLabelBinarizer()\n",
    "mlb.fit([test_species_list])\n",
    "if DATASET_VAR == \"orig\":\n",
    "    class_names = [species for species in test_species_list if len(species.split(\"_\")) > 1]\n",
    "    mlb.fit([class_names])\n",
    "\n",
    "len(mlb.classes_)"
   ]
  },
  {
   "cell_type": "code",
   "execution_count": 25,
   "metadata": {},
   "outputs": [],
   "source": [
    "def binarize_test_segments(mlb, true_segments, pred_segments, pred_proba):\n",
    "    y_pred = []\n",
    "    y_true = []\n",
    "    y_pred_proba = []\n",
    "\n",
    "    for audio in pred_segments:\n",
    "        for segment in sorted(pred_segments[audio].keys()):\n",
    "            true_labels = true_segments[audio].get(segment, [])\n",
    "            pred_labels = pred_segments[audio].get(segment, [])\n",
    "            proba_values = pred_proba[audio].get(segment, [])\n",
    "\n",
    "            y_true_vec = mlb.transform([true_labels])[0]  # 1D array\n",
    "            y_pred_vec = mlb.transform([pred_labels])[0]  # 1D array\n",
    "\n",
    "            proba_vec = np.zeros(len(mlb.classes_))\n",
    "            for label, score in zip(pred_labels, proba_values):\n",
    "                if label in mlb.classes_:\n",
    "                    idx = list(mlb.classes_).index(label)\n",
    "                    proba_vec[idx] = score\n",
    "\n",
    "            y_true.append(y_true_vec)\n",
    "            y_pred.append(y_pred_vec)\n",
    "            y_pred_proba.append(proba_vec)\n",
    "\n",
    "    y_true = np.array(y_true)\n",
    "    y_pred = np.array(y_pred)\n",
    "    y_pred_proba = np.array(y_pred_proba)\n",
    "\n",
    "    return y_true, y_pred, y_pred_proba\n"
   ]
  },
  {
   "cell_type": "code",
   "execution_count": 26,
   "metadata": {},
   "outputs": [],
   "source": [
    "y_true, y_pred, y_pred_proba = binarize_test_segments(mlb, true_segments, pred_segments, pred_proba)"
   ]
  },
  {
   "cell_type": "code",
   "execution_count": 27,
   "metadata": {},
   "outputs": [
    {
     "data": {
      "text/html": [
       "<div>\n",
       "<style scoped>\n",
       "    .dataframe tbody tr th:only-of-type {\n",
       "        vertical-align: middle;\n",
       "    }\n",
       "\n",
       "    .dataframe tbody tr th {\n",
       "        vertical-align: top;\n",
       "    }\n",
       "\n",
       "    .dataframe thead th {\n",
       "        text-align: right;\n",
       "    }\n",
       "</style>\n",
       "<table border=\"1\" class=\"dataframe\">\n",
       "  <thead>\n",
       "    <tr style=\"text-align: right;\">\n",
       "      <th></th>\n",
       "      <th>precision</th>\n",
       "      <th>recall</th>\n",
       "      <th>f1-score</th>\n",
       "      <th>support</th>\n",
       "    </tr>\n",
       "  </thead>\n",
       "  <tbody>\n",
       "    <tr>\n",
       "      <th>Aeroplane</th>\n",
       "      <td>0.000000</td>\n",
       "      <td>0.000000</td>\n",
       "      <td>0.000000</td>\n",
       "      <td>22.0</td>\n",
       "    </tr>\n",
       "    <tr>\n",
       "      <th>Anthus trivialis_Tree Pipit</th>\n",
       "      <td>0.585366</td>\n",
       "      <td>0.847059</td>\n",
       "      <td>0.692308</td>\n",
       "      <td>170.0</td>\n",
       "    </tr>\n",
       "    <tr>\n",
       "      <th>Certhia familiaris_Eurasian Treecreeper</th>\n",
       "      <td>0.509259</td>\n",
       "      <td>0.470085</td>\n",
       "      <td>0.488889</td>\n",
       "      <td>117.0</td>\n",
       "    </tr>\n",
       "    <tr>\n",
       "      <th>Coccothraustes coccothraustes_Hawfinch</th>\n",
       "      <td>0.000000</td>\n",
       "      <td>0.000000</td>\n",
       "      <td>0.000000</td>\n",
       "      <td>87.0</td>\n",
       "    </tr>\n",
       "    <tr>\n",
       "      <th>Erithacus rubecula_European Robin</th>\n",
       "      <td>0.080238</td>\n",
       "      <td>0.097122</td>\n",
       "      <td>0.087876</td>\n",
       "      <td>556.0</td>\n",
       "    </tr>\n",
       "    <tr>\n",
       "      <th>Fringilla coelebs_Common Chaffinch</th>\n",
       "      <td>0.573324</td>\n",
       "      <td>0.432462</td>\n",
       "      <td>0.493029</td>\n",
       "      <td>1799.0</td>\n",
       "    </tr>\n",
       "    <tr>\n",
       "      <th>Lophophanes cristatus_Crested Tit</th>\n",
       "      <td>0.000000</td>\n",
       "      <td>0.000000</td>\n",
       "      <td>0.000000</td>\n",
       "      <td>26.0</td>\n",
       "    </tr>\n",
       "    <tr>\n",
       "      <th>Loxia curvirostra_Common Crossbill</th>\n",
       "      <td>0.088608</td>\n",
       "      <td>0.152174</td>\n",
       "      <td>0.112000</td>\n",
       "      <td>46.0</td>\n",
       "    </tr>\n",
       "    <tr>\n",
       "      <th>Muscicapa striata_Spotted Flycatcher</th>\n",
       "      <td>0.000000</td>\n",
       "      <td>0.000000</td>\n",
       "      <td>0.000000</td>\n",
       "      <td>173.0</td>\n",
       "    </tr>\n",
       "    <tr>\n",
       "      <th>None</th>\n",
       "      <td>0.830157</td>\n",
       "      <td>0.530216</td>\n",
       "      <td>0.647120</td>\n",
       "      <td>4683.0</td>\n",
       "    </tr>\n",
       "    <tr>\n",
       "      <th>Parus major_Great Tit</th>\n",
       "      <td>0.055556</td>\n",
       "      <td>0.130435</td>\n",
       "      <td>0.077922</td>\n",
       "      <td>23.0</td>\n",
       "    </tr>\n",
       "    <tr>\n",
       "      <th>Periparus ater_Coal Tit</th>\n",
       "      <td>0.484848</td>\n",
       "      <td>0.206897</td>\n",
       "      <td>0.290030</td>\n",
       "      <td>232.0</td>\n",
       "    </tr>\n",
       "    <tr>\n",
       "      <th>Phylloscopus collybita_Common Chiffchaff</th>\n",
       "      <td>0.470449</td>\n",
       "      <td>0.295252</td>\n",
       "      <td>0.362808</td>\n",
       "      <td>674.0</td>\n",
       "    </tr>\n",
       "    <tr>\n",
       "      <th>Regulus ignicapilla_Common Firecrest</th>\n",
       "      <td>0.474026</td>\n",
       "      <td>0.609349</td>\n",
       "      <td>0.533236</td>\n",
       "      <td>599.0</td>\n",
       "    </tr>\n",
       "    <tr>\n",
       "      <th>Regulus regulus_Goldcrest</th>\n",
       "      <td>0.325714</td>\n",
       "      <td>0.335294</td>\n",
       "      <td>0.330435</td>\n",
       "      <td>170.0</td>\n",
       "    </tr>\n",
       "    <tr>\n",
       "      <th>Sylvia atricapilla_Eurasian Blackcap</th>\n",
       "      <td>0.266729</td>\n",
       "      <td>0.405367</td>\n",
       "      <td>0.321749</td>\n",
       "      <td>708.0</td>\n",
       "    </tr>\n",
       "    <tr>\n",
       "      <th>Troglodytes troglodytes_Eurasian Wren</th>\n",
       "      <td>0.517241</td>\n",
       "      <td>0.215827</td>\n",
       "      <td>0.304569</td>\n",
       "      <td>278.0</td>\n",
       "    </tr>\n",
       "    <tr>\n",
       "      <th>Turdus merula_Eurasian Blackbird</th>\n",
       "      <td>0.062500</td>\n",
       "      <td>0.038095</td>\n",
       "      <td>0.047337</td>\n",
       "      <td>315.0</td>\n",
       "    </tr>\n",
       "    <tr>\n",
       "      <th>Vegetation</th>\n",
       "      <td>0.066667</td>\n",
       "      <td>0.044444</td>\n",
       "      <td>0.053333</td>\n",
       "      <td>45.0</td>\n",
       "    </tr>\n",
       "    <tr>\n",
       "      <th>Wind</th>\n",
       "      <td>0.100871</td>\n",
       "      <td>0.716495</td>\n",
       "      <td>0.176845</td>\n",
       "      <td>194.0</td>\n",
       "    </tr>\n",
       "    <tr>\n",
       "      <th>micro avg</th>\n",
       "      <td>0.477659</td>\n",
       "      <td>0.429880</td>\n",
       "      <td>0.452512</td>\n",
       "      <td>10917.0</td>\n",
       "    </tr>\n",
       "    <tr>\n",
       "      <th>macro avg</th>\n",
       "      <td>0.274578</td>\n",
       "      <td>0.276329</td>\n",
       "      <td>0.250974</td>\n",
       "      <td>10917.0</td>\n",
       "    </tr>\n",
       "    <tr>\n",
       "      <th>weighted avg</th>\n",
       "      <td>0.574505</td>\n",
       "      <td>0.429880</td>\n",
       "      <td>0.476285</td>\n",
       "      <td>10917.0</td>\n",
       "    </tr>\n",
       "    <tr>\n",
       "      <th>samples avg</th>\n",
       "      <td>0.398298</td>\n",
       "      <td>0.440182</td>\n",
       "      <td>0.405509</td>\n",
       "      <td>10917.0</td>\n",
       "    </tr>\n",
       "  </tbody>\n",
       "</table>\n",
       "</div>"
      ],
      "text/plain": [
       "                                          precision    recall  f1-score  \\\n",
       "Aeroplane                                  0.000000  0.000000  0.000000   \n",
       "Anthus trivialis_Tree Pipit                0.585366  0.847059  0.692308   \n",
       "Certhia familiaris_Eurasian Treecreeper    0.509259  0.470085  0.488889   \n",
       "Coccothraustes coccothraustes_Hawfinch     0.000000  0.000000  0.000000   \n",
       "Erithacus rubecula_European Robin          0.080238  0.097122  0.087876   \n",
       "Fringilla coelebs_Common Chaffinch         0.573324  0.432462  0.493029   \n",
       "Lophophanes cristatus_Crested Tit          0.000000  0.000000  0.000000   \n",
       "Loxia curvirostra_Common Crossbill         0.088608  0.152174  0.112000   \n",
       "Muscicapa striata_Spotted Flycatcher       0.000000  0.000000  0.000000   \n",
       "None                                       0.830157  0.530216  0.647120   \n",
       "Parus major_Great Tit                      0.055556  0.130435  0.077922   \n",
       "Periparus ater_Coal Tit                    0.484848  0.206897  0.290030   \n",
       "Phylloscopus collybita_Common Chiffchaff   0.470449  0.295252  0.362808   \n",
       "Regulus ignicapilla_Common Firecrest       0.474026  0.609349  0.533236   \n",
       "Regulus regulus_Goldcrest                  0.325714  0.335294  0.330435   \n",
       "Sylvia atricapilla_Eurasian Blackcap       0.266729  0.405367  0.321749   \n",
       "Troglodytes troglodytes_Eurasian Wren      0.517241  0.215827  0.304569   \n",
       "Turdus merula_Eurasian Blackbird           0.062500  0.038095  0.047337   \n",
       "Vegetation                                 0.066667  0.044444  0.053333   \n",
       "Wind                                       0.100871  0.716495  0.176845   \n",
       "micro avg                                  0.477659  0.429880  0.452512   \n",
       "macro avg                                  0.274578  0.276329  0.250974   \n",
       "weighted avg                               0.574505  0.429880  0.476285   \n",
       "samples avg                                0.398298  0.440182  0.405509   \n",
       "\n",
       "                                          support  \n",
       "Aeroplane                                    22.0  \n",
       "Anthus trivialis_Tree Pipit                 170.0  \n",
       "Certhia familiaris_Eurasian Treecreeper     117.0  \n",
       "Coccothraustes coccothraustes_Hawfinch       87.0  \n",
       "Erithacus rubecula_European Robin           556.0  \n",
       "Fringilla coelebs_Common Chaffinch         1799.0  \n",
       "Lophophanes cristatus_Crested Tit            26.0  \n",
       "Loxia curvirostra_Common Crossbill           46.0  \n",
       "Muscicapa striata_Spotted Flycatcher        173.0  \n",
       "None                                       4683.0  \n",
       "Parus major_Great Tit                        23.0  \n",
       "Periparus ater_Coal Tit                     232.0  \n",
       "Phylloscopus collybita_Common Chiffchaff    674.0  \n",
       "Regulus ignicapilla_Common Firecrest        599.0  \n",
       "Regulus regulus_Goldcrest                   170.0  \n",
       "Sylvia atricapilla_Eurasian Blackcap        708.0  \n",
       "Troglodytes troglodytes_Eurasian Wren       278.0  \n",
       "Turdus merula_Eurasian Blackbird            315.0  \n",
       "Vegetation                                   45.0  \n",
       "Wind                                        194.0  \n",
       "micro avg                                 10917.0  \n",
       "macro avg                                 10917.0  \n",
       "weighted avg                              10917.0  \n",
       "samples avg                               10917.0  "
      ]
     },
     "execution_count": 27,
     "metadata": {},
     "output_type": "execute_result"
    }
   ],
   "source": [
    "from sklearn.metrics import classification_report\n",
    "import pandas as pd\n",
    "report = classification_report(y_true, y_pred, target_names=mlb.classes_, zero_division=0, output_dict=True)\n",
    "\n",
    "report_df = pd.DataFrame(report).T\n",
    "report_df"
   ]
  },
  {
   "cell_type": "code",
   "execution_count": 28,
   "metadata": {},
   "outputs": [
    {
     "data": {
      "text/plain": [
       "({'precision': 0.4776590330788804,\n",
       "  'recall': 0.42988000366401025,\n",
       "  'f1-score': 0.45251181178285604,\n",
       "  'support': 10917},\n",
       " {'precision': 0.574504927711834,\n",
       "  'recall': 0.42988000366401025,\n",
       "  'f1-score': 0.47628541123567586,\n",
       "  'support': 10917},\n",
       " {'precision': 0.3982977200695225,\n",
       "  'recall': 0.4401816446852741,\n",
       "  'f1-score': 0.40550922342150225,\n",
       "  'support': 10917})"
      ]
     },
     "execution_count": 28,
     "metadata": {},
     "output_type": "execute_result"
    }
   ],
   "source": [
    "report[\"micro avg\"], report[\"weighted avg\"], report[\"samples avg\"]"
   ]
  },
  {
   "cell_type": "code",
   "execution_count": 29,
   "metadata": {},
   "outputs": [],
   "source": [
    "torch.cuda.empty_cache()"
   ]
  },
  {
   "cell_type": "code",
   "execution_count": 30,
   "metadata": {},
   "outputs": [],
   "source": [
    "os.makedirs(f\"{MODEL_PATH}/{DATASET_VAR}\", exist_ok=True)\n",
    "with open(f\"{MODEL_PATH}/{DATASET_VAR}/test_pred_segments.json\", \"w\") as f:\n",
    "    json.dump(test_pred_segments, f)"
   ]
  },
  {
   "cell_type": "code",
   "execution_count": 31,
   "metadata": {},
   "outputs": [],
   "source": [
    "np.savez(f'{MODEL_PATH}/{DATASET_VAR}/results.npz', y_true=y_true, y_pred=y_pred, y_pred_proba=y_pred_proba, class_names=mlb.classes_)\n"
   ]
  }
 ],
 "metadata": {
  "kernelspec": {
   "display_name": "myenv",
   "language": "python",
   "name": "python3"
  },
  "language_info": {
   "codemirror_mode": {
    "name": "ipython",
    "version": 3
   },
   "file_extension": ".py",
   "mimetype": "text/x-python",
   "name": "python",
   "nbconvert_exporter": "python",
   "pygments_lexer": "ipython3",
   "version": "3.9.21"
  }
 },
 "nbformat": 4,
 "nbformat_minor": 2
}
