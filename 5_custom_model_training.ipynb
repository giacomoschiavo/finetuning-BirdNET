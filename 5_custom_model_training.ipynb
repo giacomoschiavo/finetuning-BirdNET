{
 "cells": [
  {
   "cell_type": "markdown",
   "metadata": {},
   "source": [
    "# Dataset Information Creation\n",
    "Create a json file to represent the files inside the dataset"
   ]
  },
  {
   "cell_type": "code",
   "execution_count": 1,
   "metadata": {},
   "outputs": [],
   "source": [
    "import matplotlib.pyplot as plt\n",
    "import torch\n",
    "import torch.optim as optim\n",
    "import numpy as np\n",
    "import json\n",
    "import torch.nn as nn\n",
    "import os\n",
    "from birdlib import utils"
   ]
  },
  {
   "cell_type": "code",
   "execution_count": 2,
   "metadata": {},
   "outputs": [
    {
     "data": {
      "text/plain": [
       "True"
      ]
     },
     "execution_count": 2,
     "metadata": {},
     "output_type": "execute_result"
    }
   ],
   "source": [
    "# sudo modprobe nvidia_uvm\n",
    "torch.cuda.is_available()"
   ]
  },
  {
   "cell_type": "code",
   "execution_count": 3,
   "metadata": {},
   "outputs": [],
   "source": [
    "DATASET_NAME = \"dataset\"\n",
    "MODEL_NAME = 'DeeperCNN'\n",
    "DATASET_VAR = 'augm'"
   ]
  },
  {
   "cell_type": "code",
   "execution_count": 4,
   "metadata": {},
   "outputs": [],
   "source": [
    "DATASET_PATH = f'../segments/{DATASET_NAME}'\n",
    "TRAIN_PATH = f\"{DATASET_PATH}/train\"\n",
    "VALID_PATH = f\"{DATASET_PATH}/valid\"\n",
    "TEST_PATH = f\"{DATASET_PATH}/test\"\n",
    "MODEL_PATH = f'./models/{MODEL_NAME}'"
   ]
  },
  {
   "cell_type": "markdown",
   "metadata": {},
   "source": [
    "# Create Dataset Config"
   ]
  },
  {
   "cell_type": "code",
   "execution_count": 5,
   "metadata": {},
   "outputs": [],
   "source": [
    "def create_dataset_config(dataset_name, config_file_name='dataset_config.json'):\n",
    "    saving_path = f\"utils/{dataset_name}/{config_file_name}\"\n",
    "    if os.path.exists(saving_path):\n",
    "        print(\"Dataset config already created!\")\n",
    "        with open(saving_path) as f:\n",
    "            return json.load(f)\n",
    "\n",
    "    mappings = utils.get_mappings(TRAIN_PATH)\n",
    "    samples = utils.collect_samples(TRAIN_PATH, VALID_PATH, TEST_PATH, mappings)\n",
    "\n",
    "    dataset_config = {\n",
    "        \"mappings\": mappings,\n",
    "        \"samples\": samples\n",
    "    }\n",
    "    with open(saving_path, \"w\") as f:\n",
    "        json.dump(dataset_config, f)\n",
    "    print(\"Saved new dataset config\")\n",
    "    return dataset_config"
   ]
  },
  {
   "cell_type": "code",
   "execution_count": 6,
   "metadata": {},
   "outputs": [
    {
     "name": "stdout",
     "output_type": "stream",
     "text": [
      "Saved new dataset config\n"
     ]
    }
   ],
   "source": [
    "dataset_config = create_dataset_config(DATASET_NAME, f'dataset_config_{DATASET_VAR}.json')\n",
    "mappings = dataset_config[\"mappings\"]"
   ]
  },
  {
   "cell_type": "markdown",
   "metadata": {},
   "source": [
    "## Load the model"
   ]
  },
  {
   "cell_type": "code",
   "execution_count": 7,
   "metadata": {},
   "outputs": [],
   "source": [
    "model_class = utils.load_model_class(MODEL_NAME)\n",
    "model = model_class(len(mappings))"
   ]
  },
  {
   "cell_type": "markdown",
   "metadata": {},
   "source": [
    "# Spectograms Creation"
   ]
  },
  {
   "cell_type": "code",
   "execution_count": 8,
   "metadata": {},
   "outputs": [
    {
     "name": "stdout",
     "output_type": "stream",
     "text": [
      "Processing: Aeroplane\n",
      "Processing: Muscicapa striata_Spotted Flycatcher\n",
      "Processing: Periparus ater_Coal Tit\n",
      "Processing: Regulus regulus_Goldcrest\n",
      "Processing: Rain\n",
      "Processing: Vegetation\n",
      "Processing: Troglodytes troglodytes_Eurasian Wren\n",
      "Processing: Erithacus rubecula_European Robin\n",
      "Processing: Dryocopus martius_Black Woodpecker\n",
      "Processing: None\n",
      "Processing: Certhia familiaris_Eurasian Treecreeper\n",
      "Processing: Phylloscopus collybita_Common Chiffchaff\n",
      "Processing: Wind\n",
      "Processing: Turdus merula_Eurasian Blackbird\n",
      "Processing: Loxia curvirostra_Common Crossbill\n",
      "Processing: Regulus ignicapilla_Common Firecrest\n",
      "Processing: Pecking\n",
      "Processing: Dendrocopos major_Great Spotted Woodpecker\n",
      "Processing: Sylvia atricapilla_Eurasian Blackcap\n",
      "Processing: Lophophanes cristatus_Crested Tit\n",
      "Processing: Fringilla coelebs_Common Chaffinch\n",
      "Processing: Turdus philomelos_Song Thrush\n"
     ]
    },
    {
     "name": "stdout",
     "output_type": "stream",
     "text": [
      "Processing: Aeroplane\n",
      "Processing: Muscicapa striata_Spotted Flycatcher\n",
      "Processing: Periparus ater_Coal Tit\n",
      "Processing: Regulus regulus_Goldcrest\n",
      "Processing: Rain\n",
      "Processing: Vegetation\n",
      "Processing: Troglodytes troglodytes_Eurasian Wren\n",
      "Processing: Erithacus rubecula_European Robin\n",
      "Processing: Dryocopus martius_Black Woodpecker\n",
      "Processing: None\n",
      "Processing: Certhia familiaris_Eurasian Treecreeper\n",
      "Processing: Phylloscopus collybita_Common Chiffchaff\n",
      "Processing: Wind\n",
      "Processing: Turdus merula_Eurasian Blackbird\n",
      "Processing: Loxia curvirostra_Common Crossbill\n",
      "Processing: Regulus ignicapilla_Common Firecrest\n",
      "Processing: Pecking\n",
      "Processing: Dendrocopos major_Great Spotted Woodpecker\n",
      "Processing: Sylvia atricapilla_Eurasian Blackcap\n",
      "Processing: Lophophanes cristatus_Crested Tit\n",
      "Processing: Fringilla coelebs_Common Chaffinch\n",
      "Processing: Turdus philomelos_Song Thrush\n",
      "Processing: Aeroplane\n",
      "Processing: Muscicapa striata_Spotted Flycatcher\n",
      "Processing: Periparus ater_Coal Tit\n",
      "Processing: Regulus regulus_Goldcrest\n",
      "Processing: Rain\n",
      "Processing: Vegetation\n",
      "Processing: Troglodytes troglodytes_Eurasian Wren\n",
      "Processing: Erithacus rubecula_European Robin\n",
      "Processing: Dryocopus martius_Black Woodpecker\n",
      "Processing: None\n",
      "Processing: Certhia familiaris_Eurasian Treecreeper\n",
      "Processing: Phylloscopus collybita_Common Chiffchaff\n",
      "Processing: Wind\n",
      "Processing: Turdus merula_Eurasian Blackbird\n",
      "Processing: Loxia curvirostra_Common Crossbill\n",
      "Processing: Regulus ignicapilla_Common Firecrest\n",
      "Processing: Pecking\n",
      "Processing: Dendrocopos major_Great Spotted Woodpecker\n",
      "Processing: Sylvia atricapilla_Eurasian Blackcap\n",
      "Processing: Lophophanes cristatus_Crested Tit\n",
      "Processing: Fringilla coelebs_Common Chaffinch\n",
      "Processing: Turdus philomelos_Song Thrush\n"
     ]
    },
    {
     "data": {
      "text/plain": [
       "'✅ Spettrogrammi generati e salvati.'"
      ]
     },
     "execution_count": 8,
     "metadata": {},
     "output_type": "execute_result"
    }
   ],
   "source": [
    "SPECS_TRAIN_PATH = f\"{DATASET_PATH}/train_specs\"\n",
    "SPECS_VALID_PATH = f\"{DATASET_PATH}/valid_specs\"\n",
    "SPECS_TEST_PATH = f\"{DATASET_PATH}/test_specs\"\n",
    "os.makedirs(SPECS_TRAIN_PATH, exist_ok=True)\n",
    "os.makedirs(SPECS_VALID_PATH, exist_ok=True)\n",
    "os.makedirs(SPECS_TEST_PATH, exist_ok=True)\n",
    "utils.specs_generation(TRAIN_PATH, SPECS_TRAIN_PATH, dataset_config['mappings'])\n",
    "utils.specs_generation(VALID_PATH, SPECS_VALID_PATH, dataset_config['mappings'])\n",
    "utils.specs_generation(TEST_PATH, SPECS_TEST_PATH, dataset_config['mappings'])"
   ]
  },
  {
   "cell_type": "markdown",
   "metadata": {},
   "source": [
    "# Model"
   ]
  },
  {
   "cell_type": "code",
   "execution_count": 9,
   "metadata": {},
   "outputs": [],
   "source": [
    "def train_model(dataset_config, model, epochs=10, batch_size=100, lr=1e-5, patience=3, early_stop_patience=5, print_freq=100, load_weights=False, checkpoint_name='checkpoint.pth'):\n",
    "    history_loss = []\n",
    "    device = torch.device(\"cuda\" if torch.cuda.is_available() else \"cpu\")\n",
    "    print(f\"Training {MODEL_NAME} on: {device}\")\n",
    "\n",
    "    print(\"Loading training data...\")\n",
    "    train_loader = utils.get_dataloader(dataset_config, split=\"train\", batch_size=batch_size)\n",
    "    print(\"Loaded!\")\n",
    "\n",
    "    model.to(device)\n",
    "    criterion = nn.BCEWithLogitsLoss()\n",
    "    optimizer = optim.Adam(model.parameters(), lr=lr)\n",
    "    scheduler = torch.optim.lr_scheduler.ReduceLROnPlateau(\n",
    "        optimizer, mode=\"min\", factor=0.5, patience=patience, threshold=1e-4\n",
    "    )\n",
    "    history_loss = []\n",
    "    best_loss = float(\"inf\")\n",
    "    starting_epoch = 0\n",
    "\n",
    "    saving_path = f'models/{MODEL_NAME}/{checkpoint_name}'\n",
    "    if load_weights:\n",
    "        if not os.path.exists(saving_path):\n",
    "            print(\"No weights found!\")\n",
    "            return None\n",
    "        checkpoint = torch.load(saving_path)\n",
    "        model.load_state_dict(checkpoint['model_state_dict'])\n",
    "        optimizer.load_state_dict(checkpoint['optimizer_state_dict'])\n",
    "        scheduler.load_state_dict(checkpoint['scheduler_state_dict'])\n",
    "        history_loss = checkpoint['history_loss']\n",
    "        best_loss = checkpoint['avg_loss']\n",
    "        starting_epoch = len(history_loss)\n",
    "        epochs += starting_epoch\n",
    "        print(f\"Model Loaded!\")\n",
    "    print(f\"Starting from epoch {starting_epoch} for {epochs} epochs\")\n",
    "        \n",
    "    early_stop_counter = 0\n",
    "    for epoch in range(epochs):\n",
    "        epoch += starting_epoch\n",
    "        model.train()\n",
    "        running_loss = 0.0\n",
    "        print(f\"\\n🎯 Starting epoch {epoch + 1}/{epochs}\")\n",
    "\n",
    "        for batch_index, (mel_spec, labels, _) in enumerate(train_loader):\n",
    "            mel_spec = mel_spec.to(device)\n",
    "            labels = labels.to(device)\n",
    "            optimizer.zero_grad()\n",
    "            outputs = model(mel_spec)\n",
    "            loss = criterion(outputs, labels)\n",
    "            loss.backward()\n",
    "            optimizer.step()\n",
    "            epoch = len(history_loss)\n",
    "\n",
    "            running_loss += loss.item()\n",
    "            \n",
    "            if batch_index % print_freq == 0:\n",
    "                print('Epoch: [{0}][{1}/{2}], Loss: {loss:.5f}'.format(epoch, batch_index, len(train_loader), loss=loss))\n",
    "\n",
    "        avg_loss = running_loss / len(train_loader)\n",
    "        history_loss.append(running_loss)\n",
    "        scheduler.step(running_loss)\n",
    "\n",
    "        np.save(f'models/{MODEL_NAME}/history_loss_{DATASET_VAR}.npy', history_loss)\n",
    "        if avg_loss < best_loss:\n",
    "            best_loss = avg_loss\n",
    "            early_stop_counter = 0\n",
    "            print(f\"💾 Saving improved model at epoch {epoch+1} with avg_loss={avg_loss:.5f}\")\n",
    "            torch.save({\n",
    "                'model_state_dict': model.state_dict(),\n",
    "                'optimizer_state_dict': optimizer.state_dict(),\n",
    "                'scheduler_state_dict': scheduler.state_dict(),\n",
    "                'avg_loss': avg_loss,\n",
    "                'history_loss': history_loss\n",
    "            }, saving_path)\n",
    "        else:\n",
    "            early_stop_counter += 1\n",
    "            print(f\"🛑 No improvement — early stop counter: {early_stop_counter}/{early_stop_patience}\")\n",
    "\n",
    "        print(f\"🔁 Epoch {epoch+1} completed - Avg loss: {avg_loss:.7f} - LR: {optimizer.param_groups[0]['lr']:.1e}\")\n",
    "\n",
    "        if early_stop_counter >= early_stop_patience:\n",
    "            print(f\"\\n🚨 Early stopping triggered after {early_stop_patience} epochs without improvement.\")\n",
    "            break\n",
    "\n",
    "    print(\"✅ Training completed\")\n",
    "    return model\n"
   ]
  },
  {
   "cell_type": "code",
   "execution_count": null,
   "metadata": {},
   "outputs": [
    {
     "name": "stdout",
     "output_type": "stream",
     "text": [
      "Training DeeperCNN on: cuda\n",
      "Loading training data...\n"
     ]
    },
    {
     "name": "stdout",
     "output_type": "stream",
     "text": [
      "Loaded!\n",
      "Starting from epoch 0 for 200 epochs\n",
      "\n",
      "🎯 Starting epoch 1/200\n",
      "Epoch: [0][0/515], Loss: 0.70051\n",
      "Epoch: [0][100/515], Loss: 0.20028\n",
      "Epoch: [0][200/515], Loss: 0.19597\n",
      "Epoch: [0][300/515], Loss: 0.18165\n",
      "Epoch: [0][400/515], Loss: 0.15651\n",
      "Epoch: [0][500/515], Loss: 0.12914\n",
      "💾 Saving improved model at epoch 1 with avg_loss=0.19085\n",
      "🔁 Epoch 1 completed - Avg loss: 0.1908546 - LR: 1.0e-03\n",
      "\n",
      "🎯 Starting epoch 2/200\n",
      "Epoch: [1][0/515], Loss: 0.14113\n",
      "Epoch: [1][100/515], Loss: 0.12855\n",
      "Epoch: [1][200/515], Loss: 0.12933\n",
      "Epoch: [1][300/515], Loss: 0.12788\n",
      "Epoch: [1][400/515], Loss: 0.11876\n",
      "Epoch: [1][500/515], Loss: 0.11464\n",
      "💾 Saving improved model at epoch 2 with avg_loss=0.12481\n",
      "🔁 Epoch 2 completed - Avg loss: 0.1248056 - LR: 1.0e-03\n",
      "\n",
      "🎯 Starting epoch 3/200\n",
      "Epoch: [2][0/515], Loss: 0.12662\n",
      "Epoch: [2][100/515], Loss: 0.13424\n",
      "Epoch: [2][200/515], Loss: 0.10468\n",
      "Epoch: [2][300/515], Loss: 0.10264\n",
      "Epoch: [2][400/515], Loss: 0.10825\n",
      "Epoch: [2][500/515], Loss: 0.09913\n",
      "💾 Saving improved model at epoch 3 with avg_loss=0.10355\n",
      "🔁 Epoch 3 completed - Avg loss: 0.1035522 - LR: 1.0e-03\n",
      "\n",
      "🎯 Starting epoch 4/200\n",
      "Epoch: [3][0/515], Loss: 0.07477\n",
      "Epoch: [3][100/515], Loss: 0.09694\n",
      "Epoch: [3][200/515], Loss: 0.11285\n",
      "Epoch: [3][300/515], Loss: 0.08763\n",
      "Epoch: [3][400/515], Loss: 0.08017\n",
      "Epoch: [3][500/515], Loss: 0.11258\n",
      "💾 Saving improved model at epoch 4 with avg_loss=0.09326\n",
      "🔁 Epoch 4 completed - Avg loss: 0.0932580 - LR: 1.0e-03\n",
      "\n",
      "🎯 Starting epoch 5/200\n",
      "Epoch: [4][0/515], Loss: 0.09357\n",
      "Epoch: [4][100/515], Loss: 0.07819\n",
      "Epoch: [4][200/515], Loss: 0.09602\n",
      "Epoch: [4][300/515], Loss: 0.09801\n"
     ]
    }
   ],
   "source": [
    "model = train_model(dataset_config, model, epochs=200, batch_size=64, lr=1e-3, load_weights=False, checkpoint_name=f'checkpoint_{DATASET_VAR}.pth')"
   ]
  },
  {
   "cell_type": "code",
   "execution_count": null,
   "metadata": {},
   "outputs": [
    {
     "data": {
      "image/png": "[encoded data removed]",
      "text/plain": [
       "<Figure size 800x500 with 1 Axes>"
      ]
     },
     "metadata": {},
     "output_type": "display_data"
    }
   ],
   "source": [
    "history_loss = np.load(f'models/{MODEL_NAME}/history_loss_{DATASET_VAR}.npy')\n",
    "plt.figure(figsize=(8, 5))\n",
    "plt.plot(history_loss, linestyle='-', color='tomato', label=\"Loss\")\n",
    "# plt.title(title)\n",
    "plt.xlabel(\"Epoch\")\n",
    "# plt.ylabel(ylabel)\n",
    "plt.grid(True, linestyle='--', alpha=0.6)\n",
    "plt.legend()\n",
    "plt.tight_layout()\n",
    "plt.show()\n"
   ]
  },
  {
   "cell_type": "code",
   "execution_count": null,
   "metadata": {},
   "outputs": [
    {
     "data": {
      "text/plain": [
       "31138"
      ]
     },
     "execution_count": 13,
     "metadata": {},
     "output_type": "execute_result"
    }
   ],
   "source": [
    "torch.cuda.empty_cache()\n",
    "os.getpid()"
   ]
  }
 ],
 "metadata": {
  "kernelspec": {
   "display_name": "myenv",
   "language": "python",
   "name": "python3"
  },
  "language_info": {
   "codemirror_mode": {
    "name": "ipython",
    "version": 3
   },
   "file_extension": ".py",
   "mimetype": "text/x-python",
   "name": "python",
   "nbconvert_exporter": "python",
   "pygments_lexer": "ipython3",
   "version": "3.10.17"
  }
 },
 "nbformat": 4,
 "nbformat_minor": 2
}
