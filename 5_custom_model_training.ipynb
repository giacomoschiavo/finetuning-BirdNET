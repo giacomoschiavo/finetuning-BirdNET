{
 "cells": [
  {
   "cell_type": "markdown",
   "metadata": {},
   "source": [
    "# Dataset Information Creation\n",
    "Create a json file to represent the files inside the dataset"
   ]
  },
  {
   "cell_type": "code",
   "execution_count": 1,
   "metadata": {},
   "outputs": [],
   "source": [
    "import matplotlib.pyplot as plt\n",
    "import torch\n",
    "import torch.optim as optim\n",
    "import numpy as np\n",
    "import json\n",
    "import torch.nn as nn\n",
    "import os\n",
    "from birdlib import utils"
   ]
  },
  {
   "cell_type": "code",
   "execution_count": 2,
   "metadata": {},
   "outputs": [
    {
     "data": {
      "text/plain": [
       "True"
      ]
     },
     "execution_count": 2,
     "metadata": {},
     "output_type": "execute_result"
    }
   ],
   "source": [
    "# sudo modprobe nvidia_uvm\n",
    "torch.cuda.is_available()"
   ]
  },
  {
   "cell_type": "code",
   "execution_count": 3,
   "metadata": {},
   "outputs": [],
   "source": [
    "DATASET_NAME = \"dataset\"\n",
    "MODEL_NAME = 'DeeperCNN'\n",
    "DATASET_VAR = 'wabad'"
   ]
  },
  {
   "cell_type": "code",
   "execution_count": 4,
   "metadata": {},
   "outputs": [],
   "source": [
    "DATASET_PATH = f'../segments/{DATASET_NAME}'\n",
    "TRAIN_PATH = f\"{DATASET_PATH}/train\"\n",
    "VALID_PATH = f\"{DATASET_PATH}/valid\"\n",
    "TEST_PATH = f\"{DATASET_PATH}/test\"\n",
    "MODEL_PATH = f'./models/{MODEL_NAME}'"
   ]
  },
  {
   "cell_type": "markdown",
   "metadata": {},
   "source": [
    "# Create Dataset Config"
   ]
  },
  {
   "cell_type": "code",
   "execution_count": 5,
   "metadata": {},
   "outputs": [],
   "source": [
    "def create_dataset_config(dataset_name, config_file_name='dataset_config.json'):\n",
    "    saving_path = f\"utils/{dataset_name}/{config_file_name}\"\n",
    "    if os.path.exists(saving_path):\n",
    "        print(\"Dataset config already created!\")\n",
    "        with open(saving_path) as f:\n",
    "            return json.load(f)\n",
    "\n",
    "    mappings = utils.get_mappings(TRAIN_PATH)\n",
    "    samples = utils.collect_samples(TRAIN_PATH, VALID_PATH, TEST_PATH, mappings)\n",
    "\n",
    "    dataset_config = {\n",
    "        \"mappings\": mappings,\n",
    "        \"samples\": samples\n",
    "    }\n",
    "    with open(saving_path, \"w\") as f:\n",
    "        json.dump(dataset_config, f)\n",
    "    print(\"Saved new dataset config\")\n",
    "    return dataset_config"
   ]
  },
  {
   "cell_type": "code",
   "execution_count": 6,
   "metadata": {},
   "outputs": [
    {
     "name": "stdout",
     "output_type": "stream",
     "text": [
      "Dataset config already created!\n"
     ]
    }
   ],
   "source": [
    "dataset_config = create_dataset_config(DATASET_NAME, f'dataset_config_{DATASET_VAR}.json')\n",
    "mappings = dataset_config[\"mappings\"]"
   ]
  },
  {
   "cell_type": "markdown",
   "metadata": {},
   "source": [
    "## Load the model"
   ]
  },
  {
   "cell_type": "code",
   "execution_count": 7,
   "metadata": {},
   "outputs": [],
   "source": [
    "model_class = utils.load_model_class(MODEL_NAME)\n",
    "model = model_class(len(mappings))"
   ]
  },
  {
   "cell_type": "markdown",
   "metadata": {},
   "source": [
    "# Spectograms Creation"
   ]
  },
  {
   "cell_type": "code",
   "execution_count": 8,
   "metadata": {},
   "outputs": [
    {
     "name": "stdout",
     "output_type": "stream",
     "text": [
      "Processing: Aeroplane\n",
      "Processing: Muscicapa striata_Spotted Flycatcher\n",
      "Processing: Periparus ater_Coal Tit\n"
     ]
    },
    {
     "name": "stdout",
     "output_type": "stream",
     "text": [
      "Processing: Cuculus canorus_Common Cuckoo\n",
      "Processing: Regulus regulus_Goldcrest\n",
      "Processing: Anthus trivialis_Tree Pipit\n",
      "Processing: Vegetation\n",
      "Processing: Troglodytes troglodytes_Eurasian Wren\n",
      "Processing: Erithacus rubecula_European Robin\n",
      "Processing: None\n",
      "Processing: Parus major_Great Tit\n",
      "Processing: Certhia familiaris_Eurasian Treecreeper\n",
      "Processing: Phylloscopus collybita_Common Chiffchaff\n",
      "Processing: Coccothraustes coccothraustes_Hawfinch\n",
      "Processing: Wind\n",
      "Processing: Turdus merula_Eurasian Blackbird\n",
      "Processing: Loxia curvirostra_Common Crossbill\n",
      "Processing: Regulus ignicapilla_Common Firecrest\n",
      "Processing: Sylvia atricapilla_Eurasian Blackcap\n",
      "Processing: Lophophanes cristatus_Crested Tit\n",
      "Processing: Fringilla coelebs_Common Chaffinch\n",
      "Processing: Aeroplane\n",
      "Processing: Muscicapa striata_Spotted Flycatcher\n",
      "Processing: Periparus ater_Coal Tit\n",
      "Processing: Cuculus canorus_Common Cuckoo\n",
      "Processing: Regulus regulus_Goldcrest\n",
      "Processing: Anthus trivialis_Tree Pipit\n",
      "Processing: Vegetation\n",
      "Processing: Troglodytes troglodytes_Eurasian Wren\n",
      "Processing: Erithacus rubecula_European Robin\n",
      "Processing: None\n",
      "Processing: Parus major_Great Tit\n",
      "Processing: Certhia familiaris_Eurasian Treecreeper\n",
      "Processing: Phylloscopus collybita_Common Chiffchaff\n",
      "Processing: Coccothraustes coccothraustes_Hawfinch\n",
      "Processing: Wind\n",
      "Processing: Turdus merula_Eurasian Blackbird\n",
      "Processing: Loxia curvirostra_Common Crossbill\n",
      "Processing: Regulus ignicapilla_Common Firecrest\n",
      "Processing: Sylvia atricapilla_Eurasian Blackcap\n",
      "Processing: Lophophanes cristatus_Crested Tit\n",
      "Processing: Fringilla coelebs_Common Chaffinch\n",
      "Processing: Aeroplane\n",
      "Processing: Muscicapa striata_Spotted Flycatcher\n",
      "Processing: Periparus ater_Coal Tit\n",
      "Processing: Cuculus canorus_Common Cuckoo\n",
      "Processing: Regulus regulus_Goldcrest\n",
      "Processing: Anthus trivialis_Tree Pipit\n",
      "Processing: Vegetation\n",
      "Processing: Troglodytes troglodytes_Eurasian Wren\n",
      "Processing: Erithacus rubecula_European Robin\n",
      "Processing: None\n",
      "Processing: Parus major_Great Tit\n",
      "Processing: Certhia familiaris_Eurasian Treecreeper\n",
      "Processing: Phylloscopus collybita_Common Chiffchaff\n",
      "Processing: Coccothraustes coccothraustes_Hawfinch\n",
      "Processing: Wind\n",
      "Processing: Turdus merula_Eurasian Blackbird\n",
      "Processing: Loxia curvirostra_Common Crossbill\n",
      "Processing: Regulus ignicapilla_Common Firecrest\n",
      "Processing: Sylvia atricapilla_Eurasian Blackcap\n",
      "Processing: Lophophanes cristatus_Crested Tit\n",
      "Processing: Fringilla coelebs_Common Chaffinch\n"
     ]
    },
    {
     "data": {
      "text/plain": [
       "'✅ Spettrogrammi generati e salvati.'"
      ]
     },
     "execution_count": 8,
     "metadata": {},
     "output_type": "execute_result"
    }
   ],
   "source": [
    "SPECS_TRAIN_PATH = f\"{DATASET_PATH}/train_specs\"\n",
    "SPECS_VALID_PATH = f\"{DATASET_PATH}/valid_specs\"\n",
    "SPECS_TEST_PATH = f\"{DATASET_PATH}/test_specs\"\n",
    "os.makedirs(SPECS_TRAIN_PATH, exist_ok=True)\n",
    "os.makedirs(SPECS_VALID_PATH, exist_ok=True)\n",
    "os.makedirs(SPECS_TEST_PATH, exist_ok=True)\n",
    "utils.specs_generation(TRAIN_PATH, SPECS_TRAIN_PATH, dataset_config['mappings'])\n",
    "utils.specs_generation(VALID_PATH, SPECS_VALID_PATH, dataset_config['mappings'])\n",
    "utils.specs_generation(TEST_PATH, SPECS_TEST_PATH, dataset_config['mappings'])"
   ]
  },
  {
   "cell_type": "markdown",
   "metadata": {},
   "source": [
    "# Model"
   ]
  },
  {
   "cell_type": "code",
   "execution_count": 9,
   "metadata": {},
   "outputs": [],
   "source": [
    "def train_model(dataset_config, model, epochs=10, batch_size=100, lr=1e-5, patience=3, early_stop_patience=5, print_freq=100, load_weights=False, checkpoint_name='checkpoint.pth'):\n",
    "    history_loss = []\n",
    "    device = torch.device(\"cuda\" if torch.cuda.is_available() else \"cpu\")\n",
    "    print(f\"Training {MODEL_NAME} on: {device}\")\n",
    "\n",
    "    print(\"Loading training data...\")\n",
    "    train_loader = utils.get_dataloader(dataset_config, split=\"train\", batch_size=batch_size)\n",
    "    print(\"Loaded!\")\n",
    "\n",
    "    model.to(device)\n",
    "    criterion = nn.BCEWithLogitsLoss()\n",
    "    optimizer = optim.Adam(model.parameters(), lr=lr)\n",
    "    scheduler = torch.optim.lr_scheduler.ReduceLROnPlateau(\n",
    "        optimizer, mode=\"min\", factor=0.5, patience=patience, threshold=1e-4\n",
    "    )\n",
    "    history_loss = []\n",
    "    best_loss = float(\"inf\")\n",
    "    starting_epoch = 0\n",
    "\n",
    "    saving_path = f'models/{MODEL_NAME}/{checkpoint_name}'\n",
    "    if load_weights:\n",
    "        if not os.path.exists(saving_path):\n",
    "            print(\"No weights found!\")\n",
    "            return None\n",
    "        checkpoint = torch.load(saving_path)\n",
    "        model.load_state_dict(checkpoint['model_state_dict'])\n",
    "        optimizer.load_state_dict(checkpoint['optimizer_state_dict'])\n",
    "        scheduler.load_state_dict(checkpoint['scheduler_state_dict'])\n",
    "        history_loss = checkpoint['history_loss']\n",
    "        best_loss = checkpoint['avg_loss']\n",
    "        starting_epoch = len(history_loss)\n",
    "        epochs += starting_epoch\n",
    "        print(f\"Model Loaded!\")\n",
    "    print(f\"Starting from epoch {starting_epoch} for {epochs} epochs\")\n",
    "        \n",
    "    early_stop_counter = 0\n",
    "    for epoch in range(epochs):\n",
    "        epoch += starting_epoch\n",
    "        model.train()\n",
    "        running_loss = 0.0\n",
    "        print(f\"\\n🎯 Starting epoch {epoch + 1}/{epochs}\")\n",
    "\n",
    "        for batch_index, (mel_spec, labels, _) in enumerate(train_loader):\n",
    "            mel_spec = mel_spec.to(device)\n",
    "            labels = labels.to(device)\n",
    "            optimizer.zero_grad()\n",
    "            outputs = model(mel_spec)\n",
    "            loss = criterion(outputs, labels)\n",
    "            loss.backward()\n",
    "            optimizer.step()\n",
    "            epoch = len(history_loss)\n",
    "\n",
    "            running_loss += loss.item()\n",
    "            \n",
    "            if batch_index % print_freq == 0:\n",
    "                print('Epoch: [{0}][{1}/{2}], Loss: {loss:.5f}'.format(epoch, batch_index, len(train_loader), loss=loss))\n",
    "\n",
    "        avg_loss = running_loss / len(train_loader)\n",
    "        history_loss.append(running_loss)\n",
    "        scheduler.step(running_loss)\n",
    "\n",
    "        np.save(f'models/{MODEL_NAME}/history_loss_{DATASET_VAR}.npy', history_loss)\n",
    "        if avg_loss < best_loss:\n",
    "            best_loss = avg_loss\n",
    "            early_stop_counter = 0\n",
    "            print(f\"💾 Saving improved model at epoch {epoch+1} with avg_loss={avg_loss:.5f}\")\n",
    "            torch.save({\n",
    "                'model_state_dict': model.state_dict(),\n",
    "                'optimizer_state_dict': optimizer.state_dict(),\n",
    "                'scheduler_state_dict': scheduler.state_dict(),\n",
    "                'avg_loss': avg_loss,\n",
    "                'history_loss': history_loss\n",
    "            }, saving_path)\n",
    "        else:\n",
    "            early_stop_counter += 1\n",
    "            print(f\"🛑 No improvement — early stop counter: {early_stop_counter}/{early_stop_patience}\")\n",
    "\n",
    "        print(f\"🔁 Epoch {epoch+1} completed - Avg loss: {avg_loss:.7f} - LR: {optimizer.param_groups[0]['lr']:.1e}\")\n",
    "\n",
    "        if early_stop_counter >= early_stop_patience:\n",
    "            print(f\"\\n🚨 Early stopping triggered after {early_stop_patience} epochs without improvement.\")\n",
    "            break\n",
    "\n",
    "    print(\"✅ Training completed\")\n",
    "    return model\n"
   ]
  },
  {
   "cell_type": "code",
   "execution_count": 10,
   "metadata": {},
   "outputs": [
    {
     "name": "stdout",
     "output_type": "stream",
     "text": [
      "Training DeeperCNN on: cuda\n",
      "Loading training data...\n"
     ]
    },
    {
     "name": "stdout",
     "output_type": "stream",
     "text": [
      "Loaded!\n",
      "Model Loaded!\n",
      "Starting from epoch 62 for 262 epochs\n",
      "\n",
      "🎯 Starting epoch 63/262\n",
      "Epoch: [62][0/610], Loss: 0.00008\n",
      "Epoch: [62][100/610], Loss: 0.00377\n",
      "Epoch: [62][200/610], Loss: 0.00834\n",
      "Epoch: [62][300/610], Loss: 0.00270\n",
      "Epoch: [62][400/610], Loss: 0.00050\n",
      "Epoch: [62][500/610], Loss: 0.00040\n",
      "Epoch: [62][600/610], Loss: 0.00065\n",
      "🛑 No improvement — early stop counter: 1/5\n",
      "🔁 Epoch 63 completed - Avg loss: 0.0034085 - LR: 5.0e-04\n",
      "\n",
      "🎯 Starting epoch 64/262\n",
      "Epoch: [63][0/610], Loss: 0.00264\n",
      "Epoch: [63][100/610], Loss: 0.00715\n",
      "Epoch: [63][200/610], Loss: 0.00108\n",
      "Epoch: [63][300/610], Loss: 0.00031\n",
      "Epoch: [63][400/610], Loss: 0.00082\n",
      "Epoch: [63][500/610], Loss: 0.00077\n",
      "Epoch: [63][600/610], Loss: 0.00052\n",
      "🛑 No improvement — early stop counter: 2/5\n",
      "🔁 Epoch 64 completed - Avg loss: 0.0007964 - LR: 5.0e-04\n",
      "\n",
      "🎯 Starting epoch 65/262\n",
      "Epoch: [64][0/610], Loss: 0.00049\n",
      "Epoch: [64][100/610], Loss: 0.00012\n",
      "Epoch: [64][200/610], Loss: 0.01068\n",
      "Epoch: [64][300/610], Loss: 0.00011\n",
      "Epoch: [64][400/610], Loss: 0.00053\n",
      "Epoch: [64][500/610], Loss: 0.00045\n",
      "Epoch: [64][600/610], Loss: 0.00136\n",
      "🛑 No improvement — early stop counter: 3/5\n",
      "🔁 Epoch 65 completed - Avg loss: 0.0006451 - LR: 5.0e-04\n",
      "\n",
      "🎯 Starting epoch 66/262\n",
      "Epoch: [65][0/610], Loss: 0.00012\n",
      "Epoch: [65][100/610], Loss: 0.00602\n",
      "Epoch: [65][200/610], Loss: 0.00030\n",
      "Epoch: [65][300/610], Loss: 0.00043\n",
      "Epoch: [65][400/610], Loss: 0.00026\n",
      "Epoch: [65][500/610], Loss: 0.00238\n",
      "Epoch: [65][600/610], Loss: 0.00480\n",
      "🛑 No improvement — early stop counter: 4/5\n",
      "🔁 Epoch 66 completed - Avg loss: 0.0010253 - LR: 2.5e-04\n",
      "\n",
      "🎯 Starting epoch 67/262\n",
      "Epoch: [66][0/610], Loss: 0.00052\n",
      "Epoch: [66][100/610], Loss: 0.00018\n",
      "Epoch: [66][200/610], Loss: 0.00109\n",
      "Epoch: [66][300/610], Loss: 0.00012\n",
      "Epoch: [66][400/610], Loss: 0.00003\n",
      "Epoch: [66][500/610], Loss: 0.00056\n",
      "Epoch: [66][600/610], Loss: 0.00003\n",
      "🛑 No improvement — early stop counter: 5/5\n",
      "🔁 Epoch 67 completed - Avg loss: 0.0003828 - LR: 2.5e-04\n",
      "\n",
      "🚨 Early stopping triggered after 5 epochs without improvement.\n",
      "✅ Training completed\n"
     ]
    }
   ],
   "source": [
    "model = train_model(dataset_config, model, epochs=200, batch_size=64, lr=1e-3, load_weights=True, checkpoint_name=f'checkpoint_{DATASET_VAR}.pth')"
   ]
  },
  {
   "cell_type": "code",
   "execution_count": 11,
   "metadata": {},
   "outputs": [
    {
     "data": {
      "image/png": "[encoded data removed]",
      "text/plain": [
       "<Figure size 800x500 with 1 Axes>"
      ]
     },
     "metadata": {},
     "output_type": "display_data"
    }
   ],
   "source": [
    "history_loss = np.load(f'models/{MODEL_NAME}/history_loss_{DATASET_VAR}.npy')\n",
    "plt.figure(figsize=(8, 5))\n",
    "plt.plot(history_loss, linestyle='-', color='tomato', label=\"Loss\")\n",
    "# plt.title(title)\n",
    "plt.xlabel(\"Epoch\")\n",
    "# plt.ylabel(ylabel)\n",
    "plt.grid(True, linestyle='--', alpha=0.6)\n",
    "plt.legend()\n",
    "plt.tight_layout()\n",
    "plt.show()\n"
   ]
  },
  {
   "cell_type": "code",
   "execution_count": 12,
   "metadata": {},
   "outputs": [
    {
     "data": {
      "text/plain": [
       "5437"
      ]
     },
     "execution_count": 12,
     "metadata": {},
     "output_type": "execute_result"
    }
   ],
   "source": [
    "torch.cuda.empty_cache()\n",
    "os.getpid()"
   ]
  }
 ],
 "metadata": {
  "kernelspec": {
   "display_name": "myenv",
   "language": "python",
   "name": "python3"
  },
  "language_info": {
   "codemirror_mode": {
    "name": "ipython",
    "version": 3
   },
   "file_extension": ".py",
   "mimetype": "text/x-python",
   "name": "python",
   "nbconvert_exporter": "python",
   "pygments_lexer": "ipython3",
   "version": "3.10.17"
  }
 },
 "nbformat": 4,
 "nbformat_minor": 2
}
