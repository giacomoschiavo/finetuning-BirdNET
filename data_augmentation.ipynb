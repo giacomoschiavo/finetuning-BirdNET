{
 "cells": [
  {
   "cell_type": "markdown",
   "metadata": {},
   "source": [
    "# Data augmentation"
   ]
  },
  {
   "cell_type": "code",
   "execution_count": 9,
   "metadata": {},
   "outputs": [],
   "source": [
    "import numpy as np\n",
    "import matplotlib.pyplot as plt\n",
    "import os\n",
    "import numpy as np\n",
    "import seaborn as sns\n",
    "import json\n",
    "import librosa\n",
    "import soundfile as sf\n",
    "import random\n",
    "import pandas as pd\n",
    "from tqdm import tqdm\n",
    "from audiomentations import Compose, PitchShift, TimeStretch, AddBackgroundNoise, Gain"
   ]
  },
  {
   "cell_type": "code",
   "execution_count": 10,
   "metadata": {},
   "outputs": [],
   "source": [
    "def load_audio(file_path):\n",
    "    audio, sr = librosa.load(file_path, sr=None)\n",
    "    return audio, sr\n",
    "\n",
    "def save_audio(file_path, audio, sr):\n",
    "    sf.write(file_path, audio, sr)"
   ]
  },
  {
   "cell_type": "code",
   "execution_count": 11,
   "metadata": {},
   "outputs": [],
   "source": [
    "bg_noise_path = \"e:/Giacomo/Tovanella/soundscapes\"\n",
    "bg_noises = os.listdir(bg_noise_path)\n",
    "augmentations = {\n",
    "    \"ps\": Compose([PitchShift(min_semitones=-1, max_semitones=1, p=1.0)]),\n",
    "    # \"ts\": Compose([TimeStretch(min_rate=0.95, max_rate=1.05, p=1.0)]),\n",
    "    # \"bn\": Compose([AddBackgroundNoise(sounds_path=os.path.join(bg_noise_path, random.choice(bg_noises)), p=1.0)]),\n",
    "}\n",
    "\n",
    "def apply_augmentations(file_path, output_dir):\n",
    "    audio, sr = load_audio(file_path)\n",
    "    \n",
    "    for aug_name, aug in augmentations.items():\n",
    "        file_name = os.path.splitext(file_path)[0].split('\\\\')[-1]\n",
    "        if len(file_name.split(\"_\")) >= 4:\n",
    "            continue\n",
    "        if os.path.exists(f\"{output_dir}/{file_name}_{aug_name}.wav\"):\n",
    "            continue\n",
    "        augmented_audio = aug(samples=audio, sample_rate=sr)\n",
    "        save_audio(f\"{output_dir}/{file_name}_{aug_name}.wav\", augmented_audio, sr)"
   ]
  },
  {
   "cell_type": "markdown",
   "metadata": {},
   "source": [
    "### ripristina training folder spostando tutto da subset"
   ]
  },
  {
   "cell_type": "code",
   "execution_count": 12,
   "metadata": {},
   "outputs": [],
   "source": [
    "subset_folder = \"E:/Giacomo/Tovanella/DATASET/subset_training\"\n",
    "training_folder = \"E:/Giacomo/Tovanella/orig_segments/train\"\n",
    "\n",
    "for specie in os.listdir(subset_folder):\n",
    "    for audio in os.listdir(os.path.join(subset_folder, specie)):\n",
    "        if len(audio.split(\"_\")) == 3:\n",
    "            os.rename(\n",
    "                os.path.join(subset_folder, specie, audio),\n",
    "                os.path.join(training_folder, specie, audio)\n",
    "            ) "
   ]
  },
  {
   "cell_type": "code",
   "execution_count": 13,
   "metadata": {},
   "outputs": [
    {
     "ename": "KeyboardInterrupt",
     "evalue": "",
     "output_type": "error",
     "traceback": [
      "\u001b[1;31m---------------------------------------------------------------------------\u001b[0m",
      "\u001b[1;31mKeyboardInterrupt\u001b[0m                         Traceback (most recent call last)",
      "Cell \u001b[1;32mIn[13], line 8\u001b[0m\n\u001b[0;32m      6\u001b[0m os\u001b[38;5;241m.\u001b[39mmakedirs(os\u001b[38;5;241m.\u001b[39mpath\u001b[38;5;241m.\u001b[39mjoin(subset_folder, specie), exist_ok\u001b[38;5;241m=\u001b[39m\u001b[38;5;28;01mTrue\u001b[39;00m)\n\u001b[0;32m      7\u001b[0m \u001b[38;5;66;03m# select 10 random audio for specie in training folder\u001b[39;00m\n\u001b[1;32m----> 8\u001b[0m all_audios \u001b[38;5;241m=\u001b[39m \u001b[43mos\u001b[49m\u001b[38;5;241;43m.\u001b[39;49m\u001b[43mlistdir\u001b[49m\u001b[43m(\u001b[49m\u001b[43mos\u001b[49m\u001b[38;5;241;43m.\u001b[39;49m\u001b[43mpath\u001b[49m\u001b[38;5;241;43m.\u001b[39;49m\u001b[43mjoin\u001b[49m\u001b[43m(\u001b[49m\u001b[43mtraining_folder\u001b[49m\u001b[43m,\u001b[49m\u001b[43m \u001b[49m\u001b[43mspecie\u001b[49m\u001b[43m)\u001b[49m\u001b[43m)\u001b[49m\n\u001b[0;32m      9\u001b[0m n_samples \u001b[38;5;241m=\u001b[39m \u001b[38;5;241m100\u001b[39m\n\u001b[0;32m     10\u001b[0m \u001b[38;5;28;01mif\u001b[39;00m \u001b[38;5;28mlen\u001b[39m(all_audios) \u001b[38;5;241m<\u001b[39m\u001b[38;5;241m=\u001b[39m n_samples:\n",
      "\u001b[1;31mKeyboardInterrupt\u001b[0m: "
     ]
    }
   ],
   "source": [
    "# divide in subset\n",
    "# subset_folder = \"E:/Giacomo/Tovanella/DATASET/subset_training\"\n",
    "training_folder = \"E:/Giacomo/Tovanella/orig_segments/train\"\n",
    "\n",
    "for specie in os.listdir(training_folder):\n",
    "    os.makedirs(os.path.join(subset_folder, specie), exist_ok=True)\n",
    "    # select 10 random audio for specie in training folder\n",
    "    all_audios = os.listdir(os.path.join(training_folder, specie))\n",
    "    n_samples = 100\n",
    "    if len(all_audios) <= n_samples:\n",
    "        selected_sample = all_audios\n",
    "    else:\n",
    "        selected_sample = np.random.choice(all_audios, n_samples, replace=False)\n",
    "    # for audio in selected_sample:\n",
    "        # os.rename(\n",
    "        #     os.path.join(training_folder, specie, audio),\n",
    "        #     os.path.join(subset_folder, specie, audio)\n",
    "        # )"
   ]
  },
  {
   "cell_type": "markdown",
   "metadata": {},
   "source": [
    "### move augmentation in training other folder"
   ]
  },
  {
   "cell_type": "code",
   "execution_count": null,
   "metadata": {},
   "outputs": [],
   "source": [
    "# remove any augmented audio\n",
    "training_folder = \"E:/Giacomo/Tovanella/orig_segments/train\"\n",
    "other_folder = \"E:/Giacomo/Tovanella/orig_segments/altro\"\n",
    "os.makedirs(other_folder, exist_ok=True)\n",
    "for specie in os.listdir(training_folder):\n",
    "    for audio in os.listdir(os.path.join(training_folder, specie)):\n",
    "        os.makedirs(os.path.join(other_folder, specie), exist_ok=True)\n",
    "        if len(audio.split(\"_\")) > 3:\n",
    "            os.rename(\n",
    "                os.path.join(training_folder, specie, audio),\n",
    "                os.path.join(other_folder, specie, audio)\n",
    "            ) "
   ]
  },
  {
   "cell_type": "markdown",
   "metadata": {},
   "source": [
    "### applica augmentation su tutti i file in subset"
   ]
  },
  {
   "cell_type": "code",
   "execution_count": null,
   "metadata": {},
   "outputs": [
    {
     "name": "stdout",
     "output_type": "stream",
     "text": [
      "Augmenting Certhia familiaris_Eurasian Treecreeper, 37 audios\n"
     ]
    },
    {
     "name": "stderr",
     "output_type": "stream",
     "text": [
      "100%|██████████| 37/37 [00:06<00:00,  5.52it/s]\n"
     ]
    },
    {
     "name": "stdout",
     "output_type": "stream",
     "text": [
      "Augmenting Dendrocopos major_Great Spotted Woodpecker, 12 audios\n"
     ]
    },
    {
     "name": "stderr",
     "output_type": "stream",
     "text": [
      "100%|██████████| 12/12 [00:02<00:00,  5.68it/s]\n"
     ]
    },
    {
     "name": "stdout",
     "output_type": "stream",
     "text": [
      "Augmenting Dryocopus martius_Black Woodpecker, 24 audios\n"
     ]
    },
    {
     "name": "stderr",
     "output_type": "stream",
     "text": [
      "100%|██████████| 24/24 [00:04<00:00,  5.42it/s]\n"
     ]
    },
    {
     "name": "stdout",
     "output_type": "stream",
     "text": [
      "Augmenting Lophophanes cristatus_Crested Tit, 42 audios\n"
     ]
    },
    {
     "name": "stderr",
     "output_type": "stream",
     "text": [
      "100%|██████████| 42/42 [00:07<00:00,  5.56it/s]\n"
     ]
    },
    {
     "name": "stdout",
     "output_type": "stream",
     "text": [
      "Augmenting Loxia curvirostra_Common Crossbill, 77 audios\n"
     ]
    },
    {
     "name": "stderr",
     "output_type": "stream",
     "text": [
      "100%|██████████| 77/77 [00:13<00:00,  5.53it/s]\n"
     ]
    },
    {
     "name": "stdout",
     "output_type": "stream",
     "text": [
      "Augmenting Muscicapa striata_Spotted Flycatcher, 129 audios\n"
     ]
    },
    {
     "name": "stderr",
     "output_type": "stream",
     "text": [
      "100%|██████████| 129/129 [00:22<00:00,  5.82it/s]\n"
     ]
    },
    {
     "name": "stdout",
     "output_type": "stream",
     "text": [
      "Augmenting Pecking_, 87 audios\n"
     ]
    },
    {
     "name": "stderr",
     "output_type": "stream",
     "text": [
      "100%|██████████| 87/87 [00:16<00:00,  5.35it/s]\n"
     ]
    },
    {
     "name": "stdout",
     "output_type": "stream",
     "text": [
      "Augmenting Periparus ater_Coal Tit, 88 audios\n"
     ]
    },
    {
     "name": "stderr",
     "output_type": "stream",
     "text": [
      "100%|██████████| 88/88 [00:16<00:00,  5.45it/s]\n"
     ]
    },
    {
     "name": "stdout",
     "output_type": "stream",
     "text": [
      "Augmenting Regulus regulus_Goldcrest, 175 audios\n"
     ]
    },
    {
     "name": "stderr",
     "output_type": "stream",
     "text": [
      "100%|██████████| 175/175 [00:31<00:00,  5.50it/s]\n"
     ]
    },
    {
     "name": "stdout",
     "output_type": "stream",
     "text": [
      "Augmenting Turdus merula_Eurasian Blackbird, 58 audios\n"
     ]
    },
    {
     "name": "stderr",
     "output_type": "stream",
     "text": [
      "100%|██████████| 58/58 [00:10<00:00,  5.38it/s]\n"
     ]
    },
    {
     "name": "stdout",
     "output_type": "stream",
     "text": [
      "Augmenting Vegetation_, 46 audios\n"
     ]
    },
    {
     "name": "stderr",
     "output_type": "stream",
     "text": [
      "100%|██████████| 46/46 [00:08<00:00,  5.22it/s]\n"
     ]
    },
    {
     "name": "stdout",
     "output_type": "stream",
     "text": [
      "Augmenting Wind_, 158 audios\n"
     ]
    },
    {
     "name": "stderr",
     "output_type": "stream",
     "text": [
      "100%|██████████| 158/158 [00:26<00:00,  6.01it/s]\n"
     ]
    }
   ],
   "source": [
    "augmentations = {\n",
    "    \"ps\": Compose([PitchShift(min_semitones=-3, max_semitones=3, p=1.0)]),\n",
    "    \"ts\": Compose([TimeStretch(min_rate=0.9, max_rate=1.1, p=1.0)]),\n",
    "    \"bn\": Compose([\n",
    "        AddBackgroundNoise(sounds_path=os.path.join(bg_noise_path, random.choice(bg_noises)), p=1.0),\n",
    "        Gain(min_gain_db=-10, max_gain_db=5, p=0.5)  # Cambia il volume del rumore\n",
    "    ]),\n",
    "    \"combo\": Compose([\n",
    "        PitchShift(min_semitones=-2, max_semitones=2, p=0.5),\n",
    "        TimeStretch(min_rate=0.9, max_rate=1.1, p=0.5),\n",
    "        AddBackgroundNoise(sounds_path=os.path.join(bg_noise_path, random.choice(bg_noises)), p=0.5)\n",
    "    ]),\n",
    "}\n",
    "\n",
    "augm_path = \"E:/Giacomo/Tovanella/orig_segments/\"\n",
    "for specie in os.listdir(augm_path):\n",
    "    files = os.listdir(os.path.join(augm_path, specie))\n",
    "    if len(files) > 200:\n",
    "        continue\n",
    "    print(f\"Augmenting {specie}, {len(files)} audios\")\n",
    "    # for i in tqdm(range(len(files))):\n",
    "    #     audio = files[i]\n",
    "    #     apply_augmentations(os.path.join(augm_path, specie, audio), os.path.join(augm_path, specie))"
   ]
  },
  {
   "cell_type": "code",
   "execution_count": null,
   "metadata": {},
   "outputs": [],
   "source": [
    "# valid_folder = \"E:/Giacomo/Tovanella/DATASET/validation\"\n",
    "# test_folder = \"E:/Giacomo/Tovanella/DATASET/test\"\n",
    "# for specie in os.listdir(valid_folder):\n",
    "#     for audio in os.listdir(os.path.join(valid_folder, specie)):\n",
    "#         os.rename(\n",
    "#             os.path.join(valid_folder, specie, audio),\n",
    "#             os.path.join(test_folder, specie, audio)\n",
    "#         )"
   ]
  },
  {
   "cell_type": "code",
   "execution_count": null,
   "metadata": {},
   "outputs": [],
   "source": [
    "valid_folder = \"E:/Giacomo/Tovanella/DATASET/validation\"\n",
    "test_folder = \"E:/Giacomo/Tovanella/DATASET/test\"\n",
    "for specie in os.listdir(test_folder):\n",
    "    audios = os.listdir(os.path.join(test_folder, specie))\n",
    "    n_valid_samples = len(audios) // 4\n",
    "    valid_sample = np.random.choice(audios, n_valid_samples, replace=False)\n",
    "    os.makedirs(os.path.join(valid_folder, specie), exist_ok=True)\n",
    "    # for audio in valid_sample:\n",
    "    #     os.rename(\n",
    "    #         os.path.join(test_folder, specie, audio),\n",
    "    #         os.path.join(valid_folder, specie, audio)\n",
    "    #     )"
   ]
  },
  {
   "cell_type": "code",
   "execution_count": null,
   "metadata": {},
   "outputs": [
    {
     "data": {
      "text/html": [
       "<div>\n",
       "<style scoped>\n",
       "    .dataframe tbody tr th:only-of-type {\n",
       "        vertical-align: middle;\n",
       "    }\n",
       "\n",
       "    .dataframe tbody tr th {\n",
       "        vertical-align: top;\n",
       "    }\n",
       "\n",
       "    .dataframe thead th {\n",
       "        text-align: right;\n",
       "    }\n",
       "</style>\n",
       "<table border=\"1\" class=\"dataframe\">\n",
       "  <thead>\n",
       "    <tr style=\"text-align: right;\">\n",
       "      <th></th>\n",
       "      <th>train</th>\n",
       "      <th>test</th>\n",
       "    </tr>\n",
       "  </thead>\n",
       "  <tbody>\n",
       "    <tr>\n",
       "      <th>Sylvia atricapilla_Eurasian Blackcap</th>\n",
       "      <td>2702</td>\n",
       "      <td>169</td>\n",
       "    </tr>\n",
       "    <tr>\n",
       "      <th>Fringilla coelebs_Common Chaffinch</th>\n",
       "      <td>2632</td>\n",
       "      <td>580</td>\n",
       "    </tr>\n",
       "    <tr>\n",
       "      <th>Turdus philomelos_Song Thrush</th>\n",
       "      <td>2360</td>\n",
       "      <td>21</td>\n",
       "    </tr>\n",
       "    <tr>\n",
       "      <th>Troglodytes troglodytes_Eurasian Wren</th>\n",
       "      <td>1828</td>\n",
       "      <td>20</td>\n",
       "    </tr>\n",
       "    <tr>\n",
       "      <th>Periparus ater_Coal Tit</th>\n",
       "      <td>1399</td>\n",
       "      <td>33</td>\n",
       "    </tr>\n",
       "    <tr>\n",
       "      <th>Erithacus rubecula_European Robin</th>\n",
       "      <td>1259</td>\n",
       "      <td>18</td>\n",
       "    </tr>\n",
       "    <tr>\n",
       "      <th>Regulus ignicapilla_Common Firecrest</th>\n",
       "      <td>1237</td>\n",
       "      <td>91</td>\n",
       "    </tr>\n",
       "    <tr>\n",
       "      <th>Turdus merula_Eurasian Blackbird</th>\n",
       "      <td>1162</td>\n",
       "      <td>3</td>\n",
       "    </tr>\n",
       "    <tr>\n",
       "      <th>Phylloscopus collybita_Common Chiffchaff</th>\n",
       "      <td>1042</td>\n",
       "      <td>773</td>\n",
       "    </tr>\n",
       "    <tr>\n",
       "      <th>Phylloscopus trochilus_Willow Warbler</th>\n",
       "      <td>670</td>\n",
       "      <td>4</td>\n",
       "    </tr>\n",
       "    <tr>\n",
       "      <th>Regulus regulus_Goldcrest</th>\n",
       "      <td>600</td>\n",
       "      <td>30</td>\n",
       "    </tr>\n",
       "    <tr>\n",
       "      <th>Turdus viscivorus_Mistle Thrush</th>\n",
       "      <td>304</td>\n",
       "      <td>36</td>\n",
       "    </tr>\n",
       "    <tr>\n",
       "      <th>Rain_</th>\n",
       "      <td>223</td>\n",
       "      <td>6</td>\n",
       "    </tr>\n",
       "    <tr>\n",
       "      <th>Wind_</th>\n",
       "      <td>158</td>\n",
       "      <td>30</td>\n",
       "    </tr>\n",
       "    <tr>\n",
       "      <th>Dendrocopos major_Great Spotted Woodpecker</th>\n",
       "      <td>148</td>\n",
       "      <td>7</td>\n",
       "    </tr>\n",
       "    <tr>\n",
       "      <th>Lophophanes cristatus_Crested Tit</th>\n",
       "      <td>139</td>\n",
       "      <td>8</td>\n",
       "    </tr>\n",
       "    <tr>\n",
       "      <th>Muscicapa striata_Spotted Flycatcher</th>\n",
       "      <td>136</td>\n",
       "      <td>1</td>\n",
       "    </tr>\n",
       "    <tr>\n",
       "      <th>Loxia curvirostra_Common Crossbill</th>\n",
       "      <td>128</td>\n",
       "      <td>18</td>\n",
       "    </tr>\n",
       "    <tr>\n",
       "      <th>Prunella modularis_Dunnock</th>\n",
       "      <td>123</td>\n",
       "      <td>1</td>\n",
       "    </tr>\n",
       "    <tr>\n",
       "      <th>Certhia familiaris_Eurasian Treecreeper</th>\n",
       "      <td>100</td>\n",
       "      <td>7</td>\n",
       "    </tr>\n",
       "    <tr>\n",
       "      <th>Pecking_</th>\n",
       "      <td>87</td>\n",
       "      <td>3</td>\n",
       "    </tr>\n",
       "    <tr>\n",
       "      <th>Dryocopus martius_Black Woodpecker</th>\n",
       "      <td>68</td>\n",
       "      <td>9</td>\n",
       "    </tr>\n",
       "    <tr>\n",
       "      <th>Vegetation_</th>\n",
       "      <td>46</td>\n",
       "      <td>17</td>\n",
       "    </tr>\n",
       "    <tr>\n",
       "      <th>Pyrrhula pyrrhula_Eurasian Bullfinch</th>\n",
       "      <td>9</td>\n",
       "      <td>7</td>\n",
       "    </tr>\n",
       "    <tr>\n",
       "      <th>Poecile palustris_Marsh Tit</th>\n",
       "      <td>8</td>\n",
       "      <td>1</td>\n",
       "    </tr>\n",
       "  </tbody>\n",
       "</table>\n",
       "</div>"
      ],
      "text/plain": [
       "                                            train  test\n",
       "Sylvia atricapilla_Eurasian Blackcap         2702   169\n",
       "Fringilla coelebs_Common Chaffinch           2632   580\n",
       "Turdus philomelos_Song Thrush                2360    21\n",
       "Troglodytes troglodytes_Eurasian Wren        1828    20\n",
       "Periparus ater_Coal Tit                      1399    33\n",
       "Erithacus rubecula_European Robin            1259    18\n",
       "Regulus ignicapilla_Common Firecrest         1237    91\n",
       "Turdus merula_Eurasian Blackbird             1162     3\n",
       "Phylloscopus collybita_Common Chiffchaff     1042   773\n",
       "Phylloscopus trochilus_Willow Warbler         670     4\n",
       "Regulus regulus_Goldcrest                     600    30\n",
       "Turdus viscivorus_Mistle Thrush               304    36\n",
       "Rain_                                         223     6\n",
       "Wind_                                         158    30\n",
       "Dendrocopos major_Great Spotted Woodpecker    148     7\n",
       "Lophophanes cristatus_Crested Tit             139     8\n",
       "Muscicapa striata_Spotted Flycatcher          136     1\n",
       "Loxia curvirostra_Common Crossbill            128    18\n",
       "Prunella modularis_Dunnock                    123     1\n",
       "Certhia familiaris_Eurasian Treecreeper       100     7\n",
       "Pecking_                                       87     3\n",
       "Dryocopus martius_Black Woodpecker             68     9\n",
       "Vegetation_                                    46    17\n",
       "Pyrrhula pyrrhula_Eurasian Bullfinch            9     7\n",
       "Poecile palustris_Marsh Tit                     8     1"
      ]
     },
     "execution_count": 8,
     "metadata": {},
     "output_type": "execute_result"
    }
   ],
   "source": [
    "training_folder = \"E:/Giacomo/Tovanella/orig_segments/train\"\n",
    "species_folders = os.listdir(training_folder)\n",
    "species_count = { folder: {\n",
    "    \"train\": len(os.listdir(os.path.join(training_folder, folder))),\n",
    "    # \"valid\": len(os.listdir(os.path.join(valid_folder, folder))),\n",
    "    \"test\": len(os.listdir(os.path.join(test_folder, folder))),\n",
    "    } for folder in species_folders }\n",
    "\n",
    "info = pd.DataFrame(species_count).T\n",
    "info.sort_values(\"train\", ascending=False)"
   ]
  },
  {
   "cell_type": "code",
   "execution_count": null,
   "metadata": {},
   "outputs": [],
   "source": []
  }
 ],
 "metadata": {
  "kernelspec": {
   "display_name": "Python 3",
   "language": "python",
   "name": "python3"
  },
  "language_info": {
   "codemirror_mode": {
    "name": "ipython",
    "version": 3
   },
   "file_extension": ".py",
   "mimetype": "text/x-python",
   "name": "python",
   "nbconvert_exporter": "python",
   "pygments_lexer": "ipython3",
   "version": "3.10.0"
  }
 },
 "nbformat": 4,
 "nbformat_minor": 2
}
