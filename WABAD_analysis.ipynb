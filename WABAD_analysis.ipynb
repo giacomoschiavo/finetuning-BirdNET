{
 "cells": [
  {
   "cell_type": "markdown",
   "metadata": {},
   "source": [
    "# WABAD integration"
   ]
  },
  {
   "cell_type": "code",
   "execution_count": 1,
   "metadata": {},
   "outputs": [],
   "source": [
    "import pandas as pd\n",
    "import os \n",
    "import json\n",
    "import csv\n",
    "from tqdm import tqdm\n",
    "from pydub import AudioSegment\n",
    "import numpy as np\n",
    "import librosa\n",
    "import soundfile as sf"
   ]
  },
  {
   "cell_type": "code",
   "execution_count": 2,
   "metadata": {},
   "outputs": [
    {
     "data": {
      "text/plain": [
       "['Wind',\n",
       " 'Regulus ignicapilla',\n",
       " 'Sylvia atricapilla',\n",
       " 'Fringilla coelebs',\n",
       " 'Troglodytes troglodytes']"
      ]
     },
     "execution_count": 2,
     "metadata": {},
     "output_type": "execute_result"
    }
   ],
   "source": [
    "from pathlib import Path\n",
    "\n",
    "all_species = Path(\"utils/custom_species_list.txt\").read_text(encoding=\"utf-8\").splitlines()\n",
    "all_species = [specie.split(\"_\")[0] for specie in all_species]\n",
    "all_species[:5]"
   ]
  },
  {
   "cell_type": "code",
   "execution_count": 3,
   "metadata": {},
   "outputs": [
    {
     "data": {
      "text/html": [
       "<div>\n",
       "<style scoped>\n",
       "    .dataframe tbody tr th:only-of-type {\n",
       "        vertical-align: middle;\n",
       "    }\n",
       "\n",
       "    .dataframe tbody tr th {\n",
       "        vertical-align: top;\n",
       "    }\n",
       "\n",
       "    .dataframe thead th {\n",
       "        text-align: right;\n",
       "    }\n",
       "</style>\n",
       "<table border=\"1\" class=\"dataframe\">\n",
       "  <thead>\n",
       "    <tr style=\"text-align: right;\">\n",
       "      <th></th>\n",
       "      <th>Recording site</th>\n",
       "      <th>Recording</th>\n",
       "      <th>Species</th>\n",
       "      <th>Begin Time (s)</th>\n",
       "      <th>End Time (s)</th>\n",
       "      <th>Low Freq (Hz)</th>\n",
       "      <th>High Freq (Hz)</th>\n",
       "      <th>Country</th>\n",
       "      <th>Continent</th>\n",
       "      <th>Biome</th>\n",
       "    </tr>\n",
       "  </thead>\n",
       "  <tbody>\n",
       "    <tr>\n",
       "      <th>0</th>\n",
       "      <td>ARD</td>\n",
       "      <td>ARD_20211027_072000.wav</td>\n",
       "      <td>Vireo chivi</td>\n",
       "      <td>0,191831617</td>\n",
       "      <td>0,785890816</td>\n",
       "      <td>2000</td>\n",
       "      <td>4351,4</td>\n",
       "      <td>Argentina</td>\n",
       "      <td>South America</td>\n",
       "      <td>Tropical and Subtropical Moist Broadleaf Forest</td>\n",
       "    </tr>\n",
       "    <tr>\n",
       "      <th>1</th>\n",
       "      <td>ARD</td>\n",
       "      <td>ARD_20211027_072000.wav</td>\n",
       "      <td>Dysithamnus mentalis</td>\n",
       "      <td>0,0371287</td>\n",
       "      <td>1,664603382</td>\n",
       "      <td>1378,4</td>\n",
       "      <td>2243,2</td>\n",
       "      <td>Argentina</td>\n",
       "      <td>South America</td>\n",
       "      <td>Tropical and Subtropical Moist Broadleaf Forest</td>\n",
       "    </tr>\n",
       "    <tr>\n",
       "      <th>2</th>\n",
       "      <td>ARD</td>\n",
       "      <td>ARD_20211027_072000.wav</td>\n",
       "      <td>Euphonia chlorotica</td>\n",
       "      <td>2,827969315</td>\n",
       "      <td>3,669553181</td>\n",
       "      <td>2432,4</td>\n",
       "      <td>4729,7</td>\n",
       "      <td>Argentina</td>\n",
       "      <td>South America</td>\n",
       "      <td>Tropical and Subtropical Moist Broadleaf Forest</td>\n",
       "    </tr>\n",
       "    <tr>\n",
       "      <th>3</th>\n",
       "      <td>ARD</td>\n",
       "      <td>ARD_20211027_072000.wav</td>\n",
       "      <td>Vireo chivi</td>\n",
       "      <td>4,622523147</td>\n",
       "      <td>5,259899164</td>\n",
       "      <td>1918,9</td>\n",
       "      <td>4405,4</td>\n",
       "      <td>Argentina</td>\n",
       "      <td>South America</td>\n",
       "      <td>Tropical and Subtropical Moist Broadleaf Forest</td>\n",
       "    </tr>\n",
       "    <tr>\n",
       "      <th>4</th>\n",
       "      <td>ARD</td>\n",
       "      <td>ARD_20211027_072000.wav</td>\n",
       "      <td>Thamnophilus caerulescens</td>\n",
       "      <td>5,349498323</td>\n",
       "      <td>7,057418522</td>\n",
       "      <td>864,9</td>\n",
       "      <td>2216,2</td>\n",
       "      <td>Argentina</td>\n",
       "      <td>South America</td>\n",
       "      <td>Tropical and Subtropical Moist Broadleaf Forest</td>\n",
       "    </tr>\n",
       "  </tbody>\n",
       "</table>\n",
       "</div>"
      ],
      "text/plain": [
       "  Recording site                Recording                    Species  \\\n",
       "0            ARD  ARD_20211027_072000.wav                Vireo chivi   \n",
       "1            ARD  ARD_20211027_072000.wav       Dysithamnus mentalis   \n",
       "2            ARD  ARD_20211027_072000.wav        Euphonia chlorotica   \n",
       "3            ARD  ARD_20211027_072000.wav                Vireo chivi   \n",
       "4            ARD  ARD_20211027_072000.wav  Thamnophilus caerulescens   \n",
       "\n",
       "  Begin Time (s) End Time (s) Low Freq (Hz) High Freq (Hz)    Country  \\\n",
       "0    0,191831617  0,785890816          2000         4351,4  Argentina   \n",
       "1      0,0371287  1,664603382        1378,4         2243,2  Argentina   \n",
       "2    2,827969315  3,669553181        2432,4         4729,7  Argentina   \n",
       "3    4,622523147  5,259899164        1918,9         4405,4  Argentina   \n",
       "4    5,349498323  7,057418522         864,9         2216,2  Argentina   \n",
       "\n",
       "       Continent                                            Biome  \n",
       "0  South America  Tropical and Subtropical Moist Broadleaf Forest  \n",
       "1  South America  Tropical and Subtropical Moist Broadleaf Forest  \n",
       "2  South America  Tropical and Subtropical Moist Broadleaf Forest  \n",
       "3  South America  Tropical and Subtropical Moist Broadleaf Forest  \n",
       "4  South America  Tropical and Subtropical Moist Broadleaf Forest  "
      ]
     },
     "execution_count": 3,
     "metadata": {},
     "output_type": "execute_result"
    }
   ],
   "source": [
    "# import csv with pandas\n",
    "df_orig = pd.read_csv('utils/Pooled annotations.csv', delimiter=';', encoding='ISO-8859-1')\n",
    "df_orig.head()"
   ]
  },
  {
   "cell_type": "code",
   "execution_count": 4,
   "metadata": {},
   "outputs": [
    {
     "data": {
      "text/plain": [
       "70"
      ]
     },
     "execution_count": 4,
     "metadata": {},
     "output_type": "execute_result"
    }
   ],
   "source": [
    "len(df_orig[\"Recording site\"].unique())"
   ]
  },
  {
   "cell_type": "code",
   "execution_count": 5,
   "metadata": {},
   "outputs": [
    {
     "data": {
      "text/html": [
       "<div>\n",
       "<style scoped>\n",
       "    .dataframe tbody tr th:only-of-type {\n",
       "        vertical-align: middle;\n",
       "    }\n",
       "\n",
       "    .dataframe tbody tr th {\n",
       "        vertical-align: top;\n",
       "    }\n",
       "\n",
       "    .dataframe thead th {\n",
       "        text-align: right;\n",
       "    }\n",
       "</style>\n",
       "<table border=\"1\" class=\"dataframe\">\n",
       "  <thead>\n",
       "    <tr style=\"text-align: right;\">\n",
       "      <th></th>\n",
       "      <th>Recording site</th>\n",
       "      <th>Recording</th>\n",
       "      <th>Species</th>\n",
       "      <th>Begin Time (s)</th>\n",
       "      <th>End Time (s)</th>\n",
       "      <th>Low Freq (Hz)</th>\n",
       "      <th>High Freq (Hz)</th>\n",
       "      <th>Country</th>\n",
       "      <th>Continent</th>\n",
       "      <th>Biome</th>\n",
       "    </tr>\n",
       "  </thead>\n",
       "  <tbody>\n",
       "    <tr>\n",
       "      <th>3671</th>\n",
       "      <td>BAM</td>\n",
       "      <td>BAM_20151130_091318.wav</td>\n",
       "      <td>Phylloscopus collybita</td>\n",
       "      <td>51,17683904</td>\n",
       "      <td>51,46307236</td>\n",
       "      <td>2292,8</td>\n",
       "      <td>5171</td>\n",
       "      <td>Cameroon</td>\n",
       "      <td>Africa</td>\n",
       "      <td>Tropical and Subtropical Moist Broadleaf Forest</td>\n",
       "    </tr>\n",
       "    <tr>\n",
       "      <th>3672</th>\n",
       "      <td>BAM</td>\n",
       "      <td>BAM_20151130_091318.wav</td>\n",
       "      <td>Phylloscopus collybita</td>\n",
       "      <td>58,9119536</td>\n",
       "      <td>59,13003612</td>\n",
       "      <td>2650,6</td>\n",
       "      <td>5008,4</td>\n",
       "      <td>Cameroon</td>\n",
       "      <td>Africa</td>\n",
       "      <td>Tropical and Subtropical Moist Broadleaf Forest</td>\n",
       "    </tr>\n",
       "    <tr>\n",
       "      <th>3816</th>\n",
       "      <td>BAM</td>\n",
       "      <td>BAM_20151207_071718.wav</td>\n",
       "      <td>Phylloscopus trochilus</td>\n",
       "      <td>18,53027398</td>\n",
       "      <td>22,16482932</td>\n",
       "      <td>1641,6</td>\n",
       "      <td>6809</td>\n",
       "      <td>Cameroon</td>\n",
       "      <td>Africa</td>\n",
       "      <td>Tropical and Subtropical Moist Broadleaf Forest</td>\n",
       "    </tr>\n",
       "    <tr>\n",
       "      <th>4459</th>\n",
       "      <td>BIAL</td>\n",
       "      <td>BIAL_20210420_051500.wav</td>\n",
       "      <td>Phylloscopus collybita</td>\n",
       "      <td>0,078707352</td>\n",
       "      <td>3,899591521</td>\n",
       "      <td>3083,004</td>\n",
       "      <td>7541,502</td>\n",
       "      <td>Poland</td>\n",
       "      <td>Europe</td>\n",
       "      <td>Temperate Broadleaf and Mixed Forest</td>\n",
       "    </tr>\n",
       "    <tr>\n",
       "      <th>4460</th>\n",
       "      <td>BIAL</td>\n",
       "      <td>BIAL_20210420_051500.wav</td>\n",
       "      <td>Phylloscopus collybita</td>\n",
       "      <td>7,162369014</td>\n",
       "      <td>10,8902354</td>\n",
       "      <td>2928,854</td>\n",
       "      <td>7102,767</td>\n",
       "      <td>Poland</td>\n",
       "      <td>Europe</td>\n",
       "      <td>Temperate Broadleaf and Mixed Forest</td>\n",
       "    </tr>\n",
       "  </tbody>\n",
       "</table>\n",
       "</div>"
      ],
      "text/plain": [
       "     Recording site                 Recording                 Species  \\\n",
       "3671            BAM   BAM_20151130_091318.wav  Phylloscopus collybita   \n",
       "3672            BAM   BAM_20151130_091318.wav  Phylloscopus collybita   \n",
       "3816            BAM   BAM_20151207_071718.wav  Phylloscopus trochilus   \n",
       "4459           BIAL  BIAL_20210420_051500.wav  Phylloscopus collybita   \n",
       "4460           BIAL  BIAL_20210420_051500.wav  Phylloscopus collybita   \n",
       "\n",
       "     Begin Time (s) End Time (s) Low Freq (Hz) High Freq (Hz)   Country  \\\n",
       "3671    51,17683904  51,46307236        2292,8           5171  Cameroon   \n",
       "3672     58,9119536  59,13003612        2650,6         5008,4  Cameroon   \n",
       "3816    18,53027398  22,16482932        1641,6           6809  Cameroon   \n",
       "4459    0,078707352  3,899591521      3083,004       7541,502    Poland   \n",
       "4460    7,162369014   10,8902354      2928,854       7102,767    Poland   \n",
       "\n",
       "     Continent                                            Biome  \n",
       "3671    Africa  Tropical and Subtropical Moist Broadleaf Forest  \n",
       "3672    Africa  Tropical and Subtropical Moist Broadleaf Forest  \n",
       "3816    Africa  Tropical and Subtropical Moist Broadleaf Forest  \n",
       "4459    Europe             Temperate Broadleaf and Mixed Forest  \n",
       "4460    Europe             Temperate Broadleaf and Mixed Forest  "
      ]
     },
     "execution_count": 5,
     "metadata": {},
     "output_type": "execute_result"
    }
   ],
   "source": [
    "# group by species, select only the species in the all_species list\n",
    "df = df_orig[df_orig['Species'].isin(all_species)]\n",
    "df.head()"
   ]
  },
  {
   "cell_type": "code",
   "execution_count": 6,
   "metadata": {},
   "outputs": [
    {
     "data": {
      "text/plain": [
       "Species\n",
       "Fringilla coelebs          3324\n",
       "Turdus merula              2308\n",
       "Erithacus rubecula         1395\n",
       "Sylvia atricapilla         1012\n",
       "Turdus philomelos           833\n",
       "Phylloscopus collybita      819\n",
       "Periparus ater              768\n",
       "Troglodytes troglodytes     530\n",
       "Regulus regulus             437\n",
       "Phylloscopus trochilus      418\n",
       "Regulus ignicapilla         286\n",
       "Dendrocopos major           242\n",
       "Turdus viscivorus           229\n",
       "Lophophanes cristatus       132\n",
       "Muscicapa striata           117\n",
       "Spinus spinus               102\n",
       "Certhia familiaris           96\n",
       "Prunella modularis           75\n",
       "Dryocopus martius            32\n",
       "Loxia curvirostra            25\n",
       "Poecile palustris            12\n",
       "Pyrrhula pyrrhula             8\n",
       "dtype: int64"
      ]
     },
     "execution_count": 6,
     "metadata": {},
     "output_type": "execute_result"
    }
   ],
   "source": [
    "# numeri VERIFICATI con i file originali\n",
    "df.groupby(\"Species\").size().sort_values(ascending=False)"
   ]
  },
  {
   "cell_type": "code",
   "execution_count": 7,
   "metadata": {},
   "outputs": [
    {
     "data": {
      "text/plain": [
       "Recording site\n",
       "BIAL      1628\n",
       "HAG       1452\n",
       "SLOB      1244\n",
       "SITH      1108\n",
       "NAV       1000\n",
       "DYOM       886\n",
       "KAR        859\n",
       "CAT        787\n",
       "SCHF       680\n",
       "PINA       675\n",
       "GLEN       628\n",
       "CLH        592\n",
       "SCHG       418\n",
       "OLIV       255\n",
       "HAR        237\n",
       "VIL        222\n",
       "MOPU       198\n",
       "COU         79\n",
       "HONDO       76\n",
       "BOLIN       61\n",
       "ROTOK       39\n",
       "FEU         37\n",
       "PITI        18\n",
       "POZO        12\n",
       "BAM          3\n",
       "OESF         3\n",
       "MONTEB       2\n",
       "CB           1\n",
       "dtype: int64"
      ]
     },
     "execution_count": 7,
     "metadata": {},
     "output_type": "execute_result"
    }
   ],
   "source": [
    "df.groupby(\"Recording site\").size().sort_values(ascending=False)"
   ]
  },
  {
   "cell_type": "markdown",
   "metadata": {},
   "source": [
    "1. verifica quante annotazioni richiede ogni specie\n",
    "2. ricreare audio_info e category_info per le nuove cartelle\n",
    "3. refill cartelle con i nuovi segmenti"
   ]
  },
  {
   "cell_type": "markdown",
   "metadata": {},
   "source": [
    "## 1. train and test count"
   ]
  },
  {
   "cell_type": "code",
   "execution_count": 36,
   "metadata": {},
   "outputs": [],
   "source": [
    "training_folder = \"E:/Giacomo/Tovanella-20241110T120546Z-001/test_set_augm/train\"\n",
    "wabad_training_folder = \"E:/Giacomo/Tovanella-20241110T120546Z-001/dataset_wabad_boosted/train\"\n",
    "test_folder = \"E:/Giacomo/Tovanella-20241110T120546Z-001/test_set_augm/test\"\n",
    "\n",
    "# list folder in training_folder\n",
    "species_folders = os.listdir(wabad_training_folder)\n",
    "# list all elements in each folder in folders\n",
    "species_count = { folder: {\n",
    "    # \"train_count\": len(os.listdir(os.path.join(training_folder, folder))),\n",
    "    \"WABAD_train_count\": len(os.listdir(os.path.join(wabad_training_folder, folder))),\n",
    "    \"test_count\": len(os.listdir(os.path.join(test_folder, folder)))\n",
    "    } for folder in species_folders }\n",
    "\n",
    "df = pd.DataFrame(species_count).T"
   ]
  },
  {
   "cell_type": "code",
   "execution_count": 25,
   "metadata": {},
   "outputs": [
    {
     "data": {
      "text/html": [
       "<div>\n",
       "<style scoped>\n",
       "    .dataframe tbody tr th:only-of-type {\n",
       "        vertical-align: middle;\n",
       "    }\n",
       "\n",
       "    .dataframe tbody tr th {\n",
       "        vertical-align: top;\n",
       "    }\n",
       "\n",
       "    .dataframe thead th {\n",
       "        text-align: right;\n",
       "    }\n",
       "</style>\n",
       "<table border=\"1\" class=\"dataframe\">\n",
       "  <thead>\n",
       "    <tr style=\"text-align: right;\">\n",
       "      <th></th>\n",
       "      <th>WABAD_train_count</th>\n",
       "      <th>test_count</th>\n",
       "    </tr>\n",
       "  </thead>\n",
       "  <tbody>\n",
       "    <tr>\n",
       "      <th>Fringilla coelebs_Common Chaffinch</th>\n",
       "      <td>3388</td>\n",
       "      <td>33</td>\n",
       "    </tr>\n",
       "    <tr>\n",
       "      <th>Sylvia atricapilla_Eurasian Blackcap</th>\n",
       "      <td>2730</td>\n",
       "      <td>225</td>\n",
       "    </tr>\n",
       "    <tr>\n",
       "      <th>Turdus philomelos_Song Thrush</th>\n",
       "      <td>2387</td>\n",
       "      <td>28</td>\n",
       "    </tr>\n",
       "    <tr>\n",
       "      <th>Troglodytes troglodytes_Eurasian Wren</th>\n",
       "      <td>1713</td>\n",
       "      <td>187</td>\n",
       "    </tr>\n",
       "    <tr>\n",
       "      <th>Periparus ater_Coal Tit</th>\n",
       "      <td>1448</td>\n",
       "      <td>41</td>\n",
       "    </tr>\n",
       "    <tr>\n",
       "      <th>Regulus ignicapilla_Common Firecrest</th>\n",
       "      <td>1334</td>\n",
       "      <td>26</td>\n",
       "    </tr>\n",
       "    <tr>\n",
       "      <th>Erithacus rubecula_European Robin</th>\n",
       "      <td>1282</td>\n",
       "      <td>23</td>\n",
       "    </tr>\n",
       "    <tr>\n",
       "      <th>Turdus merula_Eurasian Blackbird</th>\n",
       "      <td>1202</td>\n",
       "      <td>4</td>\n",
       "    </tr>\n",
       "    <tr>\n",
       "      <th>Phylloscopus collybita_Common Chiffchaff</th>\n",
       "      <td>1069</td>\n",
       "      <td>1030</td>\n",
       "    </tr>\n",
       "    <tr>\n",
       "      <th>Phylloscopus trochilus_Willow Warbler</th>\n",
       "      <td>683</td>\n",
       "      <td>5</td>\n",
       "    </tr>\n",
       "    <tr>\n",
       "      <th>Regulus regulus_Goldcrest</th>\n",
       "      <td>617</td>\n",
       "      <td>29</td>\n",
       "    </tr>\n",
       "    <tr>\n",
       "      <th>Certhia familiaris_Eurasian Treecreeper</th>\n",
       "      <td>352</td>\n",
       "      <td>21</td>\n",
       "    </tr>\n",
       "    <tr>\n",
       "      <th>Turdus viscivorus_Mistle Thrush</th>\n",
       "      <td>308</td>\n",
       "      <td>47</td>\n",
       "    </tr>\n",
       "    <tr>\n",
       "      <th>Dryocopus martius_Black Woodpecker</th>\n",
       "      <td>276</td>\n",
       "      <td>10</td>\n",
       "    </tr>\n",
       "    <tr>\n",
       "      <th>Rain_</th>\n",
       "      <td>223</td>\n",
       "      <td>8</td>\n",
       "    </tr>\n",
       "    <tr>\n",
       "      <th>Wind_</th>\n",
       "      <td>162</td>\n",
       "      <td>36</td>\n",
       "    </tr>\n",
       "    <tr>\n",
       "      <th>Dendrocopos major_Great Spotted Woodpecker</th>\n",
       "      <td>150</td>\n",
       "      <td>9</td>\n",
       "    </tr>\n",
       "    <tr>\n",
       "      <th>Lophophanes cristatus_Crested Tit</th>\n",
       "      <td>144</td>\n",
       "      <td>5</td>\n",
       "    </tr>\n",
       "    <tr>\n",
       "      <th>Muscicapa striata_Spotted Flycatcher</th>\n",
       "      <td>137</td>\n",
       "      <td>1</td>\n",
       "    </tr>\n",
       "    <tr>\n",
       "      <th>Loxia curvirostra_Common Crossbill</th>\n",
       "      <td>129</td>\n",
       "      <td>24</td>\n",
       "    </tr>\n",
       "    <tr>\n",
       "      <th>Prunella modularis_Dunnock</th>\n",
       "      <td>126</td>\n",
       "      <td>1</td>\n",
       "    </tr>\n",
       "    <tr>\n",
       "      <th>Pecking_</th>\n",
       "      <td>87</td>\n",
       "      <td>4</td>\n",
       "    </tr>\n",
       "    <tr>\n",
       "      <th>Vegetation_</th>\n",
       "      <td>52</td>\n",
       "      <td>16</td>\n",
       "    </tr>\n",
       "    <tr>\n",
       "      <th>Pyrrhula pyrrhula_Eurasian Bullfinch</th>\n",
       "      <td>36</td>\n",
       "      <td>9</td>\n",
       "    </tr>\n",
       "    <tr>\n",
       "      <th>Poecile palustris_Marsh Tit</th>\n",
       "      <td>32</td>\n",
       "      <td>1</td>\n",
       "    </tr>\n",
       "  </tbody>\n",
       "</table>\n",
       "</div>"
      ],
      "text/plain": [
       "                                            WABAD_train_count  test_count\n",
       "Fringilla coelebs_Common Chaffinch                       3388          33\n",
       "Sylvia atricapilla_Eurasian Blackcap                     2730         225\n",
       "Turdus philomelos_Song Thrush                            2387          28\n",
       "Troglodytes troglodytes_Eurasian Wren                    1713         187\n",
       "Periparus ater_Coal Tit                                  1448          41\n",
       "Regulus ignicapilla_Common Firecrest                     1334          26\n",
       "Erithacus rubecula_European Robin                        1282          23\n",
       "Turdus merula_Eurasian Blackbird                         1202           4\n",
       "Phylloscopus collybita_Common Chiffchaff                 1069        1030\n",
       "Phylloscopus trochilus_Willow Warbler                     683           5\n",
       "Regulus regulus_Goldcrest                                 617          29\n",
       "Certhia familiaris_Eurasian Treecreeper                   352          21\n",
       "Turdus viscivorus_Mistle Thrush                           308          47\n",
       "Dryocopus martius_Black Woodpecker                        276          10\n",
       "Rain_                                                     223           8\n",
       "Wind_                                                     162          36\n",
       "Dendrocopos major_Great Spotted Woodpecker                150           9\n",
       "Lophophanes cristatus_Crested Tit                         144           5\n",
       "Muscicapa striata_Spotted Flycatcher                      137           1\n",
       "Loxia curvirostra_Common Crossbill                        129          24\n",
       "Prunella modularis_Dunnock                                126           1\n",
       "Pecking_                                                   87           4\n",
       "Vegetation_                                                52          16\n",
       "Pyrrhula pyrrhula_Eurasian Bullfinch                       36           9\n",
       "Poecile palustris_Marsh Tit                                32           1"
      ]
     },
     "execution_count": 25,
     "metadata": {},
     "output_type": "execute_result"
    }
   ],
   "source": [
    "df.sort_values([\"WABAD_train_count\"], ascending=False)"
   ]
  },
  {
   "cell_type": "code",
   "execution_count": 37,
   "metadata": {},
   "outputs": [],
   "source": [
    "# write a function that randomly move files from a folder to another until you have n_files\n",
    "def move_files_randomly(source_folder, destination_folder, n_files):\n",
    "    files = os.listdir(source_folder)\n",
    "    files = np.random.choice(files, n_files, replace=False)\n",
    "    for file in files:\n",
    "        os.rename(os.path.join(source_folder, file), os.path.join(destination_folder, file))\n",
    "\n",
    "source_folder = os.path.join(wabad_training_folder, \"Certhia familiaris_Eurasian Treecreeper\")\n",
    "dest_folder = \"E:/Giacomo/Tovanella-20241110T120546Z-001/dataset_wabad_boosted/subset\"\n",
    "dest_folder = os.path.join(dest_folder, \"Certhia familiaris_Eurasian Treecreeper\").replace(\"\\\\\", \"/\")\n",
    "if not os.path.exists(dest_folder):\n",
    "    os.makedirs(dest_folder, exist_ok=True)\n",
    "move_files_randomly(source_folder, dest_folder, 100)"
   ]
  },
  {
   "cell_type": "markdown",
   "metadata": {},
   "source": [
    "## 2. audio_info_ext and category_info_ext"
   ]
  },
  {
   "cell_type": "code",
   "execution_count": 10,
   "metadata": {},
   "outputs": [],
   "source": [
    "# import species_dict_map\n",
    "with open('utils/species_dict_map.json') as json_file:\n",
    "    species_dict_map = json.load(json_file)"
   ]
  },
  {
   "cell_type": "code",
   "execution_count": 12,
   "metadata": {},
   "outputs": [],
   "source": [
    "def convert_to_json(input_file):\n",
    "    audio_info = {}\n",
    "    category_info = {}\n",
    "    for txt_file in os.listdir(input_file):\n",
    "        complete_path = os.path.join(input_file, txt_file)\n",
    "        with open(complete_path, newline='', encoding='utf-8') as csvfile:\n",
    "            reader = csv.DictReader(csvfile, delimiter='\\t') \n",
    "            for row in reader:\n",
    "                if row[\"Species\"] not in all_species or \"End Time (s)\" not in row:\n",
    "                    continue\n",
    "                file_name = txt_file.replace(\".txt\", \".WAV\")\n",
    "                \n",
    "                start_time = float(row[\"Begin Time (s)\"])\n",
    "                end_time = float(row[\"End Time (s)\"])\n",
    "                duration = end_time - start_time\n",
    "                common_name = species_dict_map[row[\"Species\"]]\n",
    "                label = f\"{row['Species']}_{common_name}\"\n",
    "\n",
    "                audio_info_entry = {\n",
    "                    \"scientific_name\": row[\"Species\"],\n",
    "                    \"common_name\": common_name, \n",
    "                    \"start_time\": start_time,\n",
    "                    \"duration\": duration,\n",
    "                    \"label\": label\n",
    "                }\n",
    "                category_info_entry = {\n",
    "                    \"file_name\": file_name,\n",
    "                    \"start_time\": start_time,\n",
    "                    \"duration\": duration,\n",
    "                    \"label\": label\n",
    "                }\n",
    "                \n",
    "                if file_name not in audio_info:\n",
    "                    audio_info[file_name] = []\n",
    "                if label not in category_info:\n",
    "                    category_info[label] = []\n",
    "                audio_info[file_name].append(audio_info_entry)\n",
    "                category_info[label].append(category_info_entry)\n",
    "    return audio_info, category_info"
   ]
  },
  {
   "cell_type": "code",
   "execution_count": null,
   "metadata": {},
   "outputs": [],
   "source": [
    "wabad_path = \"E:\\\\Giacomo\\\\Tovanella-20241110T120546Z-001\\\\WABAD\"\n",
    "audio_info_ext = {}\n",
    "category_info_ext = {}\n",
    "for folder in os.listdir(wabad_path):\n",
    "    if not os.path.isdir(os.path.join(wabad_path, folder)):\n",
    "        continue\n",
    "    annotations = os.path.join(wabad_path, folder, folder, \"Raven Pro annotations\")\n",
    "    audio_info_update, category_info_update = convert_to_json(annotations)\n",
    "    for audio in audio_info_update.keys():\n",
    "        if audio not in audio_info_ext:\n",
    "            audio_info_ext[audio] = []\n",
    "        audio_info_ext[audio].extend(audio_info_update[audio])\n",
    "    for category in category_info_update.keys():\n",
    "        if category not in category_info_ext:\n",
    "            category_info_ext[category] = []\n",
    "        category_info_ext[category].extend(category_info_update[category])    \n",
    "\n",
    "# with open(\"utils/audio_info_ext.json\", 'w', encoding='utf-8') as jsonfile:\n",
    "#     json.dump(audio_info_ext, jsonfile)\n",
    "\n",
    "# with open(\"utils/category_info_ext.json\", 'w', encoding='utf-8') as jsonfile:\n",
    "#     json.dump(category_info_ext, jsonfile)"
   ]
  },
  {
   "cell_type": "markdown",
   "metadata": {},
   "source": [
    "## 3. refill"
   ]
  },
  {
   "cell_type": "code",
   "execution_count": 27,
   "metadata": {},
   "outputs": [
    {
     "name": "stdout",
     "output_type": "stream",
     "text": [
      "Loading Phylloscopus collybita_Common Chiffchaff category... 0/22\n"
     ]
    },
    {
     "name": "stderr",
     "output_type": "stream",
     "text": [
      "  0%|          | 0/500 [00:00<?, ?it/s]"
     ]
    },
    {
     "name": "stderr",
     "output_type": "stream",
     "text": [
      "100%|██████████| 500/500 [00:26<00:00, 18.74it/s]\n"
     ]
    },
    {
     "name": "stdout",
     "output_type": "stream",
     "text": [
      "Loading Phylloscopus trochilus_Willow Warbler category... 1/22\n"
     ]
    },
    {
     "name": "stderr",
     "output_type": "stream",
     "text": [
      "100%|██████████| 418/418 [00:12<00:00, 34.82it/s]\n"
     ]
    },
    {
     "name": "stdout",
     "output_type": "stream",
     "text": [
      "Loading Dendrocopos major_Great Spotted Woodpecker category... 2/22\n"
     ]
    },
    {
     "name": "stderr",
     "output_type": "stream",
     "text": [
      "100%|██████████| 242/242 [00:10<00:00, 23.71it/s]\n"
     ]
    },
    {
     "name": "stdout",
     "output_type": "stream",
     "text": [
      "Loading Dryocopus martius_Black Woodpecker category... 3/22\n"
     ]
    },
    {
     "name": "stderr",
     "output_type": "stream",
     "text": [
      "100%|██████████| 32/32 [00:01<00:00, 29.98it/s]\n"
     ]
    },
    {
     "name": "stdout",
     "output_type": "stream",
     "text": [
      "Loading Erithacus rubecula_European Robin category... 4/22\n"
     ]
    },
    {
     "name": "stderr",
     "output_type": "stream",
     "text": [
      "100%|██████████| 500/500 [00:17<00:00, 28.10it/s]\n"
     ]
    },
    {
     "name": "stdout",
     "output_type": "stream",
     "text": [
      "Loading Turdus philomelos_Song Thrush category... 5/22\n"
     ]
    },
    {
     "name": "stderr",
     "output_type": "stream",
     "text": [
      "100%|██████████| 500/500 [00:12<00:00, 39.83it/s] \n"
     ]
    },
    {
     "name": "stdout",
     "output_type": "stream",
     "text": [
      "Loading Certhia familiaris_Eurasian Treecreeper category... 6/22\n"
     ]
    },
    {
     "name": "stderr",
     "output_type": "stream",
     "text": [
      "100%|██████████| 96/96 [00:22<00:00,  4.18it/s]\n"
     ]
    },
    {
     "name": "stdout",
     "output_type": "stream",
     "text": [
      "Loading Fringilla coelebs_Common Chaffinch category... 7/22\n"
     ]
    },
    {
     "name": "stderr",
     "output_type": "stream",
     "text": [
      "100%|██████████| 500/500 [00:21<00:00, 23.05it/s]\n"
     ]
    },
    {
     "name": "stdout",
     "output_type": "stream",
     "text": [
      "Loading Turdus merula_Eurasian Blackbird category... 8/22\n"
     ]
    },
    {
     "name": "stderr",
     "output_type": "stream",
     "text": [
      "100%|██████████| 500/500 [00:20<00:00, 24.26it/s]\n"
     ]
    },
    {
     "name": "stdout",
     "output_type": "stream",
     "text": [
      "Loading Troglodytes troglodytes_Eurasian Wren category... 9/22\n"
     ]
    },
    {
     "name": "stderr",
     "output_type": "stream",
     "text": [
      "100%|██████████| 500/500 [00:29<00:00, 17.00it/s]\n"
     ]
    },
    {
     "name": "stdout",
     "output_type": "stream",
     "text": [
      "Loading Prunella modularis_Dunnock category... 10/22\n"
     ]
    },
    {
     "name": "stderr",
     "output_type": "stream",
     "text": [
      "100%|██████████| 75/75 [00:02<00:00, 27.46it/s]\n"
     ]
    },
    {
     "name": "stdout",
     "output_type": "stream",
     "text": [
      "Loading Regulus regulus_Goldcrest category... 11/22\n"
     ]
    },
    {
     "name": "stderr",
     "output_type": "stream",
     "text": [
      "100%|██████████| 437/437 [00:17<00:00, 24.29it/s] \n"
     ]
    },
    {
     "name": "stdout",
     "output_type": "stream",
     "text": [
      "Loading Periparus ater_Coal Tit category... 12/22\n"
     ]
    },
    {
     "name": "stderr",
     "output_type": "stream",
     "text": [
      "100%|██████████| 500/500 [00:27<00:00, 17.88it/s]\n"
     ]
    },
    {
     "name": "stdout",
     "output_type": "stream",
     "text": [
      "Loading Regulus ignicapilla_Common Firecrest category... 13/22\n"
     ]
    },
    {
     "name": "stderr",
     "output_type": "stream",
     "text": [
      "100%|██████████| 280/280 [00:06<00:00, 40.50it/s]\n"
     ]
    },
    {
     "name": "stdout",
     "output_type": "stream",
     "text": [
      "Loading Sylvia atricapilla_Eurasian Blackcap category... 14/22\n"
     ]
    },
    {
     "name": "stderr",
     "output_type": "stream",
     "text": [
      "100%|██████████| 500/500 [00:20<00:00, 24.98it/s]\n"
     ]
    },
    {
     "name": "stdout",
     "output_type": "stream",
     "text": [
      "Loading Pyrrhula pyrrhula_Eurasian Bullfinch category... 15/22\n"
     ]
    },
    {
     "name": "stderr",
     "output_type": "stream",
     "text": [
      "100%|██████████| 8/8 [00:00<00:00, 21.11it/s]\n"
     ]
    },
    {
     "name": "stdout",
     "output_type": "stream",
     "text": [
      "Loading Spinus spinus_Eurasian Siskin category... 16/22\n"
     ]
    },
    {
     "name": "stderr",
     "output_type": "stream",
     "text": [
      "100%|██████████| 102/102 [00:05<00:00, 18.15it/s]\n"
     ]
    },
    {
     "name": "stdout",
     "output_type": "stream",
     "text": [
      "Loading Poecile palustris_Marsh Tit category... 17/22\n"
     ]
    },
    {
     "name": "stderr",
     "output_type": "stream",
     "text": [
      "100%|██████████| 12/12 [00:04<00:00,  2.51it/s]\n"
     ]
    },
    {
     "name": "stdout",
     "output_type": "stream",
     "text": [
      "Loading Lophophanes cristatus_Crested Tit category... 18/22\n"
     ]
    },
    {
     "name": "stderr",
     "output_type": "stream",
     "text": [
      "100%|██████████| 132/132 [00:02<00:00, 55.36it/s]\n"
     ]
    },
    {
     "name": "stdout",
     "output_type": "stream",
     "text": [
      "Loading Turdus viscivorus_Mistle Thrush category... 19/22\n"
     ]
    },
    {
     "name": "stderr",
     "output_type": "stream",
     "text": [
      "100%|██████████| 229/229 [00:06<00:00, 34.25it/s]\n"
     ]
    },
    {
     "name": "stdout",
     "output_type": "stream",
     "text": [
      "Loading Loxia curvirostra_Common Crossbill category... 20/22\n"
     ]
    },
    {
     "name": "stderr",
     "output_type": "stream",
     "text": [
      "100%|██████████| 25/25 [00:01<00:00, 15.15it/s]\n"
     ]
    },
    {
     "name": "stdout",
     "output_type": "stream",
     "text": [
      "Loading Muscicapa striata_Spotted Flycatcher category... 21/22\n"
     ]
    },
    {
     "name": "stderr",
     "output_type": "stream",
     "text": [
      "100%|██████████| 117/117 [00:04<00:00, 24.31it/s]\n"
     ]
    }
   ],
   "source": [
    "# se runnato, costruisce tutte le sessioni\n",
    "true_segments = {}\n",
    "target_path = \"E:\\\\Giacomo\\\\Tovanella-20241110T120546Z-001\\\\ext_segments\"\n",
    "all_audios_path = \"E:\\\\Giacomo\\\\Tovanella-20241110T120546Z-001\\\\WABAD\\\\\"\n",
    "species_list = category_info_ext.keys()\n",
    "categories = list(species_list)\n",
    "for j, category in enumerate(categories):\n",
    "    all_category_audio = category_info_ext[category][:500]  # limit to 500 annotations\n",
    "    total_length = len(all_category_audio)\n",
    "    print(f\"Loading {category} category... {j}/{len(categories)}\")\n",
    "    for i in tqdm(range(total_length)):\n",
    "        audio_path = all_category_audio[i][\"file_name\"] # ex. BIAL_20210420_051500.WAV\n",
    "        file_name, wav = audio_path.split('.')\n",
    "        site = file_name.split('_')[0]\n",
    "        start_time = all_category_audio[i][\"start_time\"]\n",
    "        duration = all_category_audio[i][\"duration\"]\n",
    "        start_times = []\n",
    "        start_segms = []\n",
    "        start_segm = int(start_time // 3)\n",
    "        if duration < 1:    # ignore\n",
    "            continue\n",
    "        elif duration < 3:  # add contextual audio\n",
    "            remaining_time = 3.0 - duration\n",
    "            start_times.append(start_time - remaining_time / 2)\n",
    "            start_segms.append(start_segm) \n",
    "        elif duration >= 3 and duration < 4:\n",
    "            start_times.extend([start_time, start_time - 1.5, start_time + 1.5])\n",
    "            start_segms.extend([start_segm, start_segm - 1, start_segm + 1]) \n",
    "        elif duration >= 4 and duration < 6:\n",
    "            start_times.extend([start_time, start_time - 1.5, start_time + 3])\n",
    "            start_segms.extend([start_segm, start_segm - 1, start_segm + 1]) \n",
    "        elif duration >= 6:\n",
    "            start_times.extend([start_time - 1.5])\n",
    "            start_segms.extend([start_segm - 1]) \n",
    "            num_full_segm = int(duration // 3)\n",
    "            start_times.extend([start_time + i * 3.0 for i in range(num_full_segm)])\n",
    "            start_segms.extend([start_segm + i for i in range(num_full_segm)]) \n",
    "            remaining_time = duration - 3.0 * num_full_segm\n",
    "            if remaining_time >= 1:\n",
    "                start_times.extend([start_time + 3.0 * num_full_segm])\n",
    "                start_segms.extend([start_segm + num_full_segm]) \n",
    "\n",
    "        # print(start_times, start_segms)\n",
    "        if audio_path not in true_segments:\n",
    "            true_segments[audio_path] = {}\n",
    "        for segm in start_segms:\n",
    "            if segm not in true_segments[audio_path]:\n",
    "                true_segments[audio_path][segm] = []\n",
    "            true_segments[audio_path][segm].extend([category])\n",
    "        # \"E:\\\\Giacomo\\\\Tovanella-20241110T120546Z-001\\\\WABAD\\\\BAM\\\\BAM\\\\Recordings\"\n",
    "        audio = AudioSegment.from_file(os.path.join(\n",
    "            all_audios_path, site, site, \"Recordings\", audio_path), \n",
    "            format=\"wav\"\n",
    "        )\n",
    "        for i, start_time in enumerate(start_times):\n",
    "            export_path = os.path.join(\n",
    "                target_path,\n",
    "                category, \n",
    "                f\"{file_name}_{start_segms[i]}.wav\"\n",
    "            )\n",
    "            if os.path.exists(export_path):\n",
    "                continue\n",
    "            segment = audio[start_time*1000:start_time*1000 + 3000]\n",
    "            os.makedirs(os.path.join(target_path, category), exist_ok=True)\n",
    "            segment.export(export_path, format=\"wav\")"
   ]
  },
  {
   "cell_type": "code",
   "execution_count": 17,
   "metadata": {},
   "outputs": [],
   "source": [
    "with open(\"utils/true_segments_ext.json\", \"w\") as f:\n",
    "    json.dump(true_segments, f)"
   ]
  },
  {
   "cell_type": "markdown",
   "metadata": {},
   "source": [
    "## data augmentation"
   ]
  },
  {
   "cell_type": "code",
   "execution_count": 11,
   "metadata": {},
   "outputs": [],
   "source": [
    "def load_audio(file_path):\n",
    "    audio, sr = librosa.load(file_path, sr=None)\n",
    "    return audio, sr\n",
    "\n",
    "def save_audio(file_path, audio, sr):\n",
    "    sf.write(file_path, audio, sr)"
   ]
  },
  {
   "cell_type": "code",
   "execution_count": 12,
   "metadata": {},
   "outputs": [],
   "source": [
    "from audiomentations import Compose, PitchShift, TimeStretch, AddBackgroundNoise\n",
    "\n",
    "bg_noise = \"e:\\\\Giacomo\\\\Tovanella-20241110T120546Z-001\\\\soundscapes\\\\soundscape_4.wav\"\n",
    "augmentations = {\n",
    "    \"ps\": Compose([PitchShift(min_semitones=-1, max_semitones=1, p=1.0)]),\n",
    "    \"ts\": Compose([TimeStretch(min_rate=0.95, max_rate=1.05, p=1.0)]),\n",
    "    \"bn\": Compose([AddBackgroundNoise(sounds_path=bg_noise, p=1.0)]),\n",
    "}\n",
    "\n",
    "def apply_augmentations(file_path, output_dir):\n",
    "    audio, sr = load_audio(file_path)\n",
    "    \n",
    "    for aug_name, aug in augmentations.items():\n",
    "        augmented_audio = aug(samples=audio, sample_rate=sr)\n",
    "        file_name = os.path.splitext(file_path)[0].split('\\\\')[-1]\n",
    "        save_audio(f\"{output_dir}/{file_name}_{aug_name}.wav\", augmented_audio, sr)"
   ]
  },
  {
   "cell_type": "code",
   "execution_count": null,
   "metadata": {},
   "outputs": [
    {
     "name": "stderr",
     "output_type": "stream",
     "text": [
      "  0%|          | 0/308 [00:00<?, ?it/s]c:\\Users\\giaco\\AppData\\Local\\Programs\\Python\\Python310\\lib\\site-packages\\audiomentations\\core\\audio_loading_utils.py:37: UserWarning: e:\\Giacomo\\Tovanella-20241110T120546Z-001\\soundscapes\\soundscape_4.wav had to be resampled from 48000 Hz to 24000 Hz. This hurt execution time.\n",
      "  warnings.warn(\n",
      " 48%|████▊     | 148/308 [00:19<00:20,  7.93it/s]c:\\Users\\giaco\\AppData\\Local\\Programs\\Python\\Python310\\lib\\site-packages\\audiomentations\\core\\audio_loading_utils.py:37: UserWarning: e:\\Giacomo\\Tovanella-20241110T120546Z-001\\soundscapes\\soundscape_4.wav had to be resampled from 48000 Hz to 44100 Hz. This hurt execution time.\n",
      "  warnings.warn(\n",
      "100%|██████████| 308/308 [00:39<00:00,  7.88it/s]\n"
     ]
    }
   ],
   "source": [
    "folder_path = \"E:\\\\Giacomo\\\\Tovanella-20241110T120546Z-001\\\\dataset_wabad_boosted\\\\train\\\\Turdus viscivorus_Mistle Thrush\"\n",
    "# v1\n",
    "# Poecile palustris_Marsh Tit\n",
    "# Pyrrhula pyrrhula_Eurasian Bullfinch\n",
    "# Dryocopus martius_Black Woodpecker\n",
    "# v2\n",
    "# Certhia familiaris_Eurasian Treecreeper\n",
    "# Turdus viscivorus_Mistle Thrush\n",
    "files = os.listdir(folder_path)\n",
    "for i in tqdm(range(len(files))):\n",
    "    audio = files[i]\n",
    "    apply_augmentations(os.path.join(folder_path, audio), folder_path)"
   ]
  },
  {
   "cell_type": "code",
   "execution_count": 54,
   "metadata": {},
   "outputs": [
    {
     "data": {
      "text/html": [
       "<div>\n",
       "<style scoped>\n",
       "    .dataframe tbody tr th:only-of-type {\n",
       "        vertical-align: middle;\n",
       "    }\n",
       "\n",
       "    .dataframe tbody tr th {\n",
       "        vertical-align: top;\n",
       "    }\n",
       "\n",
       "    .dataframe thead th {\n",
       "        text-align: right;\n",
       "    }\n",
       "</style>\n",
       "<table border=\"1\" class=\"dataframe\">\n",
       "  <thead>\n",
       "    <tr style=\"text-align: right;\">\n",
       "      <th></th>\n",
       "      <th>WABAD_train_count</th>\n",
       "      <th>test_count</th>\n",
       "    </tr>\n",
       "  </thead>\n",
       "  <tbody>\n",
       "    <tr>\n",
       "      <th>Certhia familiaris_Eurasian Treecreeper</th>\n",
       "      <td>88</td>\n",
       "      <td>21</td>\n",
       "    </tr>\n",
       "    <tr>\n",
       "      <th>Dendrocopos major_Great Spotted Woodpecker</th>\n",
       "      <td>150</td>\n",
       "      <td>9</td>\n",
       "    </tr>\n",
       "    <tr>\n",
       "      <th>Dryocopus martius_Black Woodpecker</th>\n",
       "      <td>276</td>\n",
       "      <td>10</td>\n",
       "    </tr>\n",
       "    <tr>\n",
       "      <th>Erithacus rubecula_European Robin</th>\n",
       "      <td>1282</td>\n",
       "      <td>23</td>\n",
       "    </tr>\n",
       "    <tr>\n",
       "      <th>Fringilla coelebs_Common Chaffinch</th>\n",
       "      <td>3388</td>\n",
       "      <td>33</td>\n",
       "    </tr>\n",
       "    <tr>\n",
       "      <th>Lophophanes cristatus_Crested Tit</th>\n",
       "      <td>144</td>\n",
       "      <td>5</td>\n",
       "    </tr>\n",
       "    <tr>\n",
       "      <th>Loxia curvirostra_Common Crossbill</th>\n",
       "      <td>129</td>\n",
       "      <td>24</td>\n",
       "    </tr>\n",
       "    <tr>\n",
       "      <th>Muscicapa striata_Spotted Flycatcher</th>\n",
       "      <td>137</td>\n",
       "      <td>1</td>\n",
       "    </tr>\n",
       "    <tr>\n",
       "      <th>Pecking_</th>\n",
       "      <td>87</td>\n",
       "      <td>4</td>\n",
       "    </tr>\n",
       "    <tr>\n",
       "      <th>Periparus ater_Coal Tit</th>\n",
       "      <td>1448</td>\n",
       "      <td>41</td>\n",
       "    </tr>\n",
       "    <tr>\n",
       "      <th>Phylloscopus collybita_Common Chiffchaff</th>\n",
       "      <td>1069</td>\n",
       "      <td>1030</td>\n",
       "    </tr>\n",
       "    <tr>\n",
       "      <th>Phylloscopus trochilus_Willow Warbler</th>\n",
       "      <td>683</td>\n",
       "      <td>5</td>\n",
       "    </tr>\n",
       "    <tr>\n",
       "      <th>Poecile palustris_Marsh Tit</th>\n",
       "      <td>32</td>\n",
       "      <td>1</td>\n",
       "    </tr>\n",
       "    <tr>\n",
       "      <th>Prunella modularis_Dunnock</th>\n",
       "      <td>126</td>\n",
       "      <td>1</td>\n",
       "    </tr>\n",
       "    <tr>\n",
       "      <th>Pyrrhula pyrrhula_Eurasian Bullfinch</th>\n",
       "      <td>36</td>\n",
       "      <td>9</td>\n",
       "    </tr>\n",
       "    <tr>\n",
       "      <th>Rain_</th>\n",
       "      <td>223</td>\n",
       "      <td>8</td>\n",
       "    </tr>\n",
       "    <tr>\n",
       "      <th>Regulus ignicapilla_Common Firecrest</th>\n",
       "      <td>1334</td>\n",
       "      <td>26</td>\n",
       "    </tr>\n",
       "    <tr>\n",
       "      <th>Regulus regulus_Goldcrest</th>\n",
       "      <td>617</td>\n",
       "      <td>29</td>\n",
       "    </tr>\n",
       "    <tr>\n",
       "      <th>Sylvia atricapilla_Eurasian Blackcap</th>\n",
       "      <td>2730</td>\n",
       "      <td>225</td>\n",
       "    </tr>\n",
       "    <tr>\n",
       "      <th>Troglodytes troglodytes_Eurasian Wren</th>\n",
       "      <td>1713</td>\n",
       "      <td>187</td>\n",
       "    </tr>\n",
       "    <tr>\n",
       "      <th>Turdus merula_Eurasian Blackbird</th>\n",
       "      <td>1202</td>\n",
       "      <td>4</td>\n",
       "    </tr>\n",
       "    <tr>\n",
       "      <th>Turdus philomelos_Song Thrush</th>\n",
       "      <td>2387</td>\n",
       "      <td>28</td>\n",
       "    </tr>\n",
       "    <tr>\n",
       "      <th>Turdus viscivorus_Mistle Thrush</th>\n",
       "      <td>308</td>\n",
       "      <td>47</td>\n",
       "    </tr>\n",
       "    <tr>\n",
       "      <th>Vegetation_</th>\n",
       "      <td>52</td>\n",
       "      <td>16</td>\n",
       "    </tr>\n",
       "    <tr>\n",
       "      <th>Wind_</th>\n",
       "      <td>162</td>\n",
       "      <td>36</td>\n",
       "    </tr>\n",
       "  </tbody>\n",
       "</table>\n",
       "</div>"
      ],
      "text/plain": [
       "                                            WABAD_train_count  test_count\n",
       "Certhia familiaris_Eurasian Treecreeper                    88          21\n",
       "Dendrocopos major_Great Spotted Woodpecker                150           9\n",
       "Dryocopus martius_Black Woodpecker                        276          10\n",
       "Erithacus rubecula_European Robin                        1282          23\n",
       "Fringilla coelebs_Common Chaffinch                       3388          33\n",
       "Lophophanes cristatus_Crested Tit                         144           5\n",
       "Loxia curvirostra_Common Crossbill                        129          24\n",
       "Muscicapa striata_Spotted Flycatcher                      137           1\n",
       "Pecking_                                                   87           4\n",
       "Periparus ater_Coal Tit                                  1448          41\n",
       "Phylloscopus collybita_Common Chiffchaff                 1069        1030\n",
       "Phylloscopus trochilus_Willow Warbler                     683           5\n",
       "Poecile palustris_Marsh Tit                                32           1\n",
       "Prunella modularis_Dunnock                                126           1\n",
       "Pyrrhula pyrrhula_Eurasian Bullfinch                       36           9\n",
       "Rain_                                                     223           8\n",
       "Regulus ignicapilla_Common Firecrest                     1334          26\n",
       "Regulus regulus_Goldcrest                                 617          29\n",
       "Sylvia atricapilla_Eurasian Blackcap                     2730         225\n",
       "Troglodytes troglodytes_Eurasian Wren                    1713         187\n",
       "Turdus merula_Eurasian Blackbird                         1202           4\n",
       "Turdus philomelos_Song Thrush                            2387          28\n",
       "Turdus viscivorus_Mistle Thrush                           308          47\n",
       "Vegetation_                                                52          16\n",
       "Wind_                                                     162          36"
      ]
     },
     "execution_count": 54,
     "metadata": {},
     "output_type": "execute_result"
    }
   ],
   "source": [
    "species_folders = os.listdir(wabad_training_folder)\n",
    "# list all elements in each folder in folders\n",
    "species_count = { folder: {\n",
    "    # \"train_count\": len(os.listdir(os.path.join(training_folder, folder))),\n",
    "    \"WABAD_train_count\": len(os.listdir(os.path.join(wabad_training_folder, folder))),\n",
    "    \"test_count\": len(os.listdir(os.path.join(test_folder, folder)))\n",
    "    } for folder in species_folders }\n",
    "pd.DataFrame(species_count).T"
   ]
  }
 ],
 "metadata": {
  "kernelspec": {
   "display_name": "Python 3",
   "language": "python",
   "name": "python3"
  },
  "language_info": {
   "codemirror_mode": {
    "name": "ipython",
    "version": 3
   },
   "file_extension": ".py",
   "mimetype": "text/x-python",
   "name": "python",
   "nbconvert_exporter": "python",
   "pygments_lexer": "ipython3",
   "version": "3.10.0"
  }
 },
 "nbformat": 4,
 "nbformat_minor": 2
}
