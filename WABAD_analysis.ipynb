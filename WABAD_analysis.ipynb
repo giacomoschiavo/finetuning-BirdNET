{
 "cells": [
  {
   "cell_type": "markdown",
   "metadata": {},
   "source": [
    "# WABAD Analysis"
   ]
  },
  {
   "cell_type": "code",
   "execution_count": 3,
   "metadata": {},
   "outputs": [],
   "source": [
    "import pandas as pd\n",
    "import os \n",
    "import json\n",
    "import csv\n",
    "from tqdm import tqdm\n",
    "from pydub import AudioSegment\n",
    "import numpy as np\n",
    "import librosa\n",
    "import soundfile as sf\n",
    "import random\n"
   ]
  },
  {
   "cell_type": "code",
   "execution_count": 4,
   "metadata": {},
   "outputs": [
    {
     "data": {
      "text/plain": [
       "['Wind',\n",
       " 'Regulus ignicapilla',\n",
       " 'Sylvia atricapilla',\n",
       " 'Fringilla coelebs',\n",
       " 'Troglodytes troglodytes']"
      ]
     },
     "execution_count": 4,
     "metadata": {},
     "output_type": "execute_result"
    }
   ],
   "source": [
    "from pathlib import Path\n",
    "\n",
    "all_species = Path(\"utils/custom_species_list.txt\").read_text(encoding=\"utf-8\").splitlines()\n",
    "all_species = [specie.split(\"_\")[0] for specie in all_species]\n",
    "all_species[:5]"
   ]
  },
  {
   "cell_type": "code",
   "execution_count": 5,
   "metadata": {},
   "outputs": [
    {
     "data": {
      "application/vnd.microsoft.datawrangler.viewer.v0+json": {
       "columns": [
        {
         "name": "index",
         "rawType": "int64",
         "type": "integer"
        },
        {
         "name": "Recording site",
         "rawType": "object",
         "type": "string"
        },
        {
         "name": "Recording",
         "rawType": "object",
         "type": "string"
        },
        {
         "name": "Species",
         "rawType": "object",
         "type": "string"
        },
        {
         "name": "Begin Time (s)",
         "rawType": "object",
         "type": "string"
        },
        {
         "name": "End Time (s)",
         "rawType": "object",
         "type": "string"
        },
        {
         "name": "Low Freq (Hz)",
         "rawType": "object",
         "type": "string"
        },
        {
         "name": "High Freq (Hz)",
         "rawType": "object",
         "type": "string"
        },
        {
         "name": "Country",
         "rawType": "object",
         "type": "string"
        },
        {
         "name": "Continent",
         "rawType": "object",
         "type": "string"
        },
        {
         "name": "Biome",
         "rawType": "object",
         "type": "string"
        }
       ],
       "conversionMethod": "pd.DataFrame",
       "ref": "018e986e-d923-40c4-9bbe-5d405b864115",
       "rows": [
        [
         "0",
         "ARD",
         "ARD_20211027_072000.wav",
         "Vireo chivi",
         "0,191831617",
         "0,785890816",
         "2000",
         "4351,4",
         "Argentina",
         "South America",
         "Tropical and Subtropical Moist Broadleaf Forest"
        ],
        [
         "1",
         "ARD",
         "ARD_20211027_072000.wav",
         "Dysithamnus mentalis",
         "0,0371287",
         "1,664603382",
         "1378,4",
         "2243,2",
         "Argentina",
         "South America",
         "Tropical and Subtropical Moist Broadleaf Forest"
        ],
        [
         "2",
         "ARD",
         "ARD_20211027_072000.wav",
         "Euphonia chlorotica",
         "2,827969315",
         "3,669553181",
         "2432,4",
         "4729,7",
         "Argentina",
         "South America",
         "Tropical and Subtropical Moist Broadleaf Forest"
        ],
        [
         "3",
         "ARD",
         "ARD_20211027_072000.wav",
         "Vireo chivi",
         "4,622523147",
         "5,259899164",
         "1918,9",
         "4405,4",
         "Argentina",
         "South America",
         "Tropical and Subtropical Moist Broadleaf Forest"
        ],
        [
         "4",
         "ARD",
         "ARD_20211027_072000.wav",
         "Thamnophilus caerulescens",
         "5,349498323",
         "7,057418522",
         "864,9",
         "2216,2",
         "Argentina",
         "South America",
         "Tropical and Subtropical Moist Broadleaf Forest"
        ]
       ],
       "shape": {
        "columns": 10,
        "rows": 5
       }
      },
      "text/html": [
       "<div>\n",
       "<style scoped>\n",
       "    .dataframe tbody tr th:only-of-type {\n",
       "        vertical-align: middle;\n",
       "    }\n",
       "\n",
       "    .dataframe tbody tr th {\n",
       "        vertical-align: top;\n",
       "    }\n",
       "\n",
       "    .dataframe thead th {\n",
       "        text-align: right;\n",
       "    }\n",
       "</style>\n",
       "<table border=\"1\" class=\"dataframe\">\n",
       "  <thead>\n",
       "    <tr style=\"text-align: right;\">\n",
       "      <th></th>\n",
       "      <th>Recording site</th>\n",
       "      <th>Recording</th>\n",
       "      <th>Species</th>\n",
       "      <th>Begin Time (s)</th>\n",
       "      <th>End Time (s)</th>\n",
       "      <th>Low Freq (Hz)</th>\n",
       "      <th>High Freq (Hz)</th>\n",
       "      <th>Country</th>\n",
       "      <th>Continent</th>\n",
       "      <th>Biome</th>\n",
       "    </tr>\n",
       "  </thead>\n",
       "  <tbody>\n",
       "    <tr>\n",
       "      <th>0</th>\n",
       "      <td>ARD</td>\n",
       "      <td>ARD_20211027_072000.wav</td>\n",
       "      <td>Vireo chivi</td>\n",
       "      <td>0,191831617</td>\n",
       "      <td>0,785890816</td>\n",
       "      <td>2000</td>\n",
       "      <td>4351,4</td>\n",
       "      <td>Argentina</td>\n",
       "      <td>South America</td>\n",
       "      <td>Tropical and Subtropical Moist Broadleaf Forest</td>\n",
       "    </tr>\n",
       "    <tr>\n",
       "      <th>1</th>\n",
       "      <td>ARD</td>\n",
       "      <td>ARD_20211027_072000.wav</td>\n",
       "      <td>Dysithamnus mentalis</td>\n",
       "      <td>0,0371287</td>\n",
       "      <td>1,664603382</td>\n",
       "      <td>1378,4</td>\n",
       "      <td>2243,2</td>\n",
       "      <td>Argentina</td>\n",
       "      <td>South America</td>\n",
       "      <td>Tropical and Subtropical Moist Broadleaf Forest</td>\n",
       "    </tr>\n",
       "    <tr>\n",
       "      <th>2</th>\n",
       "      <td>ARD</td>\n",
       "      <td>ARD_20211027_072000.wav</td>\n",
       "      <td>Euphonia chlorotica</td>\n",
       "      <td>2,827969315</td>\n",
       "      <td>3,669553181</td>\n",
       "      <td>2432,4</td>\n",
       "      <td>4729,7</td>\n",
       "      <td>Argentina</td>\n",
       "      <td>South America</td>\n",
       "      <td>Tropical and Subtropical Moist Broadleaf Forest</td>\n",
       "    </tr>\n",
       "    <tr>\n",
       "      <th>3</th>\n",
       "      <td>ARD</td>\n",
       "      <td>ARD_20211027_072000.wav</td>\n",
       "      <td>Vireo chivi</td>\n",
       "      <td>4,622523147</td>\n",
       "      <td>5,259899164</td>\n",
       "      <td>1918,9</td>\n",
       "      <td>4405,4</td>\n",
       "      <td>Argentina</td>\n",
       "      <td>South America</td>\n",
       "      <td>Tropical and Subtropical Moist Broadleaf Forest</td>\n",
       "    </tr>\n",
       "    <tr>\n",
       "      <th>4</th>\n",
       "      <td>ARD</td>\n",
       "      <td>ARD_20211027_072000.wav</td>\n",
       "      <td>Thamnophilus caerulescens</td>\n",
       "      <td>5,349498323</td>\n",
       "      <td>7,057418522</td>\n",
       "      <td>864,9</td>\n",
       "      <td>2216,2</td>\n",
       "      <td>Argentina</td>\n",
       "      <td>South America</td>\n",
       "      <td>Tropical and Subtropical Moist Broadleaf Forest</td>\n",
       "    </tr>\n",
       "  </tbody>\n",
       "</table>\n",
       "</div>"
      ],
      "text/plain": [
       "  Recording site                Recording                    Species  \\\n",
       "0            ARD  ARD_20211027_072000.wav                Vireo chivi   \n",
       "1            ARD  ARD_20211027_072000.wav       Dysithamnus mentalis   \n",
       "2            ARD  ARD_20211027_072000.wav        Euphonia chlorotica   \n",
       "3            ARD  ARD_20211027_072000.wav                Vireo chivi   \n",
       "4            ARD  ARD_20211027_072000.wav  Thamnophilus caerulescens   \n",
       "\n",
       "  Begin Time (s) End Time (s) Low Freq (Hz) High Freq (Hz)    Country  \\\n",
       "0    0,191831617  0,785890816          2000         4351,4  Argentina   \n",
       "1      0,0371287  1,664603382        1378,4         2243,2  Argentina   \n",
       "2    2,827969315  3,669553181        2432,4         4729,7  Argentina   \n",
       "3    4,622523147  5,259899164        1918,9         4405,4  Argentina   \n",
       "4    5,349498323  7,057418522         864,9         2216,2  Argentina   \n",
       "\n",
       "       Continent                                            Biome  \n",
       "0  South America  Tropical and Subtropical Moist Broadleaf Forest  \n",
       "1  South America  Tropical and Subtropical Moist Broadleaf Forest  \n",
       "2  South America  Tropical and Subtropical Moist Broadleaf Forest  \n",
       "3  South America  Tropical and Subtropical Moist Broadleaf Forest  \n",
       "4  South America  Tropical and Subtropical Moist Broadleaf Forest  "
      ]
     },
     "execution_count": 5,
     "metadata": {},
     "output_type": "execute_result"
    }
   ],
   "source": [
    "# import csv with pandas\n",
    "df_orig = pd.read_csv('utils/Pooled annotations.csv', delimiter=';', encoding='ISO-8859-1')\n",
    "df_orig.head()"
   ]
  },
  {
   "cell_type": "code",
   "execution_count": 6,
   "metadata": {},
   "outputs": [
    {
     "data": {
      "text/plain": [
       "70"
      ]
     },
     "execution_count": 6,
     "metadata": {},
     "output_type": "execute_result"
    }
   ],
   "source": [
    "len(df_orig[\"Recording site\"].unique())"
   ]
  },
  {
   "cell_type": "code",
   "execution_count": 7,
   "metadata": {},
   "outputs": [
    {
     "data": {
      "application/vnd.microsoft.datawrangler.viewer.v0+json": {
       "columns": [
        {
         "name": "index",
         "rawType": "int64",
         "type": "integer"
        },
        {
         "name": "Recording site",
         "rawType": "object",
         "type": "string"
        },
        {
         "name": "Recording",
         "rawType": "object",
         "type": "string"
        },
        {
         "name": "Species",
         "rawType": "object",
         "type": "string"
        },
        {
         "name": "Begin Time (s)",
         "rawType": "object",
         "type": "string"
        },
        {
         "name": "End Time (s)",
         "rawType": "object",
         "type": "string"
        },
        {
         "name": "Low Freq (Hz)",
         "rawType": "object",
         "type": "string"
        },
        {
         "name": "High Freq (Hz)",
         "rawType": "object",
         "type": "string"
        },
        {
         "name": "Country",
         "rawType": "object",
         "type": "string"
        },
        {
         "name": "Continent",
         "rawType": "object",
         "type": "string"
        },
        {
         "name": "Biome",
         "rawType": "object",
         "type": "string"
        }
       ],
       "conversionMethod": "pd.DataFrame",
       "ref": "4ae593d0-35ec-4173-beb5-6c576849b93b",
       "rows": [
        [
         "3671",
         "BAM",
         "BAM_20151130_091318.wav",
         "Phylloscopus collybita",
         "51,17683904",
         "51,46307236",
         "2292,8",
         "5171",
         "Cameroon",
         "Africa",
         "Tropical and Subtropical Moist Broadleaf Forest"
        ],
        [
         "3672",
         "BAM",
         "BAM_20151130_091318.wav",
         "Phylloscopus collybita",
         "58,9119536",
         "59,13003612",
         "2650,6",
         "5008,4",
         "Cameroon",
         "Africa",
         "Tropical and Subtropical Moist Broadleaf Forest"
        ],
        [
         "3816",
         "BAM",
         "BAM_20151207_071718.wav",
         "Phylloscopus trochilus",
         "18,53027398",
         "22,16482932",
         "1641,6",
         "6809",
         "Cameroon",
         "Africa",
         "Tropical and Subtropical Moist Broadleaf Forest"
        ],
        [
         "4459",
         "BIAL",
         "BIAL_20210420_051500.wav",
         "Phylloscopus collybita",
         "0,078707352",
         "3,899591521",
         "3083,004",
         "7541,502",
         "Poland",
         "Europe",
         "Temperate Broadleaf and Mixed Forest"
        ],
        [
         "4460",
         "BIAL",
         "BIAL_20210420_051500.wav",
         "Phylloscopus collybita",
         "7,162369014",
         "10,8902354",
         "2928,854",
         "7102,767",
         "Poland",
         "Europe",
         "Temperate Broadleaf and Mixed Forest"
        ]
       ],
       "shape": {
        "columns": 10,
        "rows": 5
       }
      },
      "text/html": [
       "<div>\n",
       "<style scoped>\n",
       "    .dataframe tbody tr th:only-of-type {\n",
       "        vertical-align: middle;\n",
       "    }\n",
       "\n",
       "    .dataframe tbody tr th {\n",
       "        vertical-align: top;\n",
       "    }\n",
       "\n",
       "    .dataframe thead th {\n",
       "        text-align: right;\n",
       "    }\n",
       "</style>\n",
       "<table border=\"1\" class=\"dataframe\">\n",
       "  <thead>\n",
       "    <tr style=\"text-align: right;\">\n",
       "      <th></th>\n",
       "      <th>Recording site</th>\n",
       "      <th>Recording</th>\n",
       "      <th>Species</th>\n",
       "      <th>Begin Time (s)</th>\n",
       "      <th>End Time (s)</th>\n",
       "      <th>Low Freq (Hz)</th>\n",
       "      <th>High Freq (Hz)</th>\n",
       "      <th>Country</th>\n",
       "      <th>Continent</th>\n",
       "      <th>Biome</th>\n",
       "    </tr>\n",
       "  </thead>\n",
       "  <tbody>\n",
       "    <tr>\n",
       "      <th>3671</th>\n",
       "      <td>BAM</td>\n",
       "      <td>BAM_20151130_091318.wav</td>\n",
       "      <td>Phylloscopus collybita</td>\n",
       "      <td>51,17683904</td>\n",
       "      <td>51,46307236</td>\n",
       "      <td>2292,8</td>\n",
       "      <td>5171</td>\n",
       "      <td>Cameroon</td>\n",
       "      <td>Africa</td>\n",
       "      <td>Tropical and Subtropical Moist Broadleaf Forest</td>\n",
       "    </tr>\n",
       "    <tr>\n",
       "      <th>3672</th>\n",
       "      <td>BAM</td>\n",
       "      <td>BAM_20151130_091318.wav</td>\n",
       "      <td>Phylloscopus collybita</td>\n",
       "      <td>58,9119536</td>\n",
       "      <td>59,13003612</td>\n",
       "      <td>2650,6</td>\n",
       "      <td>5008,4</td>\n",
       "      <td>Cameroon</td>\n",
       "      <td>Africa</td>\n",
       "      <td>Tropical and Subtropical Moist Broadleaf Forest</td>\n",
       "    </tr>\n",
       "    <tr>\n",
       "      <th>3816</th>\n",
       "      <td>BAM</td>\n",
       "      <td>BAM_20151207_071718.wav</td>\n",
       "      <td>Phylloscopus trochilus</td>\n",
       "      <td>18,53027398</td>\n",
       "      <td>22,16482932</td>\n",
       "      <td>1641,6</td>\n",
       "      <td>6809</td>\n",
       "      <td>Cameroon</td>\n",
       "      <td>Africa</td>\n",
       "      <td>Tropical and Subtropical Moist Broadleaf Forest</td>\n",
       "    </tr>\n",
       "    <tr>\n",
       "      <th>4459</th>\n",
       "      <td>BIAL</td>\n",
       "      <td>BIAL_20210420_051500.wav</td>\n",
       "      <td>Phylloscopus collybita</td>\n",
       "      <td>0,078707352</td>\n",
       "      <td>3,899591521</td>\n",
       "      <td>3083,004</td>\n",
       "      <td>7541,502</td>\n",
       "      <td>Poland</td>\n",
       "      <td>Europe</td>\n",
       "      <td>Temperate Broadleaf and Mixed Forest</td>\n",
       "    </tr>\n",
       "    <tr>\n",
       "      <th>4460</th>\n",
       "      <td>BIAL</td>\n",
       "      <td>BIAL_20210420_051500.wav</td>\n",
       "      <td>Phylloscopus collybita</td>\n",
       "      <td>7,162369014</td>\n",
       "      <td>10,8902354</td>\n",
       "      <td>2928,854</td>\n",
       "      <td>7102,767</td>\n",
       "      <td>Poland</td>\n",
       "      <td>Europe</td>\n",
       "      <td>Temperate Broadleaf and Mixed Forest</td>\n",
       "    </tr>\n",
       "  </tbody>\n",
       "</table>\n",
       "</div>"
      ],
      "text/plain": [
       "     Recording site                 Recording                 Species  \\\n",
       "3671            BAM   BAM_20151130_091318.wav  Phylloscopus collybita   \n",
       "3672            BAM   BAM_20151130_091318.wav  Phylloscopus collybita   \n",
       "3816            BAM   BAM_20151207_071718.wav  Phylloscopus trochilus   \n",
       "4459           BIAL  BIAL_20210420_051500.wav  Phylloscopus collybita   \n",
       "4460           BIAL  BIAL_20210420_051500.wav  Phylloscopus collybita   \n",
       "\n",
       "     Begin Time (s) End Time (s) Low Freq (Hz) High Freq (Hz)   Country  \\\n",
       "3671    51,17683904  51,46307236        2292,8           5171  Cameroon   \n",
       "3672     58,9119536  59,13003612        2650,6         5008,4  Cameroon   \n",
       "3816    18,53027398  22,16482932        1641,6           6809  Cameroon   \n",
       "4459    0,078707352  3,899591521      3083,004       7541,502    Poland   \n",
       "4460    7,162369014   10,8902354      2928,854       7102,767    Poland   \n",
       "\n",
       "     Continent                                            Biome  \n",
       "3671    Africa  Tropical and Subtropical Moist Broadleaf Forest  \n",
       "3672    Africa  Tropical and Subtropical Moist Broadleaf Forest  \n",
       "3816    Africa  Tropical and Subtropical Moist Broadleaf Forest  \n",
       "4459    Europe             Temperate Broadleaf and Mixed Forest  \n",
       "4460    Europe             Temperate Broadleaf and Mixed Forest  "
      ]
     },
     "execution_count": 7,
     "metadata": {},
     "output_type": "execute_result"
    }
   ],
   "source": [
    "# group by species, select only the species in the all_species list\n",
    "df = df_orig[df_orig['Species'].isin(all_species)]\n",
    "df.head()"
   ]
  },
  {
   "cell_type": "code",
   "execution_count": 6,
   "metadata": {},
   "outputs": [
    {
     "data": {
      "text/plain": [
       "Species\n",
       "Fringilla coelebs          3324\n",
       "Turdus merula              2308\n",
       "Erithacus rubecula         1395\n",
       "Sylvia atricapilla         1012\n",
       "Turdus philomelos           833\n",
       "Phylloscopus collybita      819\n",
       "Periparus ater              768\n",
       "Troglodytes troglodytes     530\n",
       "Regulus regulus             437\n",
       "Phylloscopus trochilus      418\n",
       "Regulus ignicapilla         286\n",
       "Dendrocopos major           242\n",
       "Turdus viscivorus           229\n",
       "Lophophanes cristatus       132\n",
       "Muscicapa striata           117\n",
       "Spinus spinus               102\n",
       "Certhia familiaris           96\n",
       "Prunella modularis           75\n",
       "Dryocopus martius            32\n",
       "Loxia curvirostra            25\n",
       "Poecile palustris            12\n",
       "Pyrrhula pyrrhula             8\n",
       "dtype: int64"
      ]
     },
     "execution_count": 6,
     "metadata": {},
     "output_type": "execute_result"
    }
   ],
   "source": [
    "# numeri VERIFICATI con i file originali\n",
    "df.groupby(\"Species\").size().sort_values(ascending=False)"
   ]
  },
  {
   "cell_type": "code",
   "execution_count": 8,
   "metadata": {},
   "outputs": [
    {
     "data": {
      "text/plain": [
       "Recording site\n",
       "BIAL      1628\n",
       "HAG       1452\n",
       "SLOB      1244\n",
       "SITH      1108\n",
       "NAV       1000\n",
       "DYOM       886\n",
       "KAR        859\n",
       "CAT        787\n",
       "SCHF       680\n",
       "PINA       675\n",
       "GLEN       628\n",
       "CLH        592\n",
       "SCHG       418\n",
       "OLIV       255\n",
       "HAR        237\n",
       "VIL        222\n",
       "MOPU       198\n",
       "COU         79\n",
       "HONDO       76\n",
       "BOLIN       61\n",
       "ROTOK       39\n",
       "FEU         37\n",
       "PITI        18\n",
       "POZO        12\n",
       "BAM          3\n",
       "OESF         3\n",
       "MONTEB       2\n",
       "CB           1\n",
       "dtype: int64"
      ]
     },
     "execution_count": 8,
     "metadata": {},
     "output_type": "execute_result"
    }
   ],
   "source": [
    "df.groupby(\"Recording site\").size().sort_values(ascending=False)"
   ]
  },
  {
   "cell_type": "markdown",
   "metadata": {},
   "source": [
    "## 3. refill"
   ]
  },
  {
   "cell_type": "code",
   "execution_count": null,
   "metadata": {},
   "outputs": [
    {
     "name": "stdout",
     "output_type": "stream",
     "text": [
      "Loading Phylloscopus collybita_Common Chiffchaff category... 0/22\n"
     ]
    },
    {
     "name": "stderr",
     "output_type": "stream",
     "text": [
      "100%|██████████| 500/500 [00:24<00:00, 20.29it/s]\n"
     ]
    },
    {
     "name": "stdout",
     "output_type": "stream",
     "text": [
      "Loading Phylloscopus trochilus_Willow Warbler category... 1/22\n"
     ]
    },
    {
     "name": "stderr",
     "output_type": "stream",
     "text": [
      "100%|██████████| 418/418 [00:16<00:00, 25.90it/s]\n"
     ]
    },
    {
     "name": "stdout",
     "output_type": "stream",
     "text": [
      "Loading Dendrocopos major_Great Spotted Woodpecker category... 2/22\n"
     ]
    },
    {
     "name": "stderr",
     "output_type": "stream",
     "text": [
      "100%|██████████| 242/242 [00:09<00:00, 26.68it/s]\n"
     ]
    },
    {
     "name": "stdout",
     "output_type": "stream",
     "text": [
      "Loading Dryocopus martius_Black Woodpecker category... 3/22\n"
     ]
    },
    {
     "name": "stderr",
     "output_type": "stream",
     "text": [
      "100%|██████████| 32/32 [00:00<00:00, 33.01it/s]\n"
     ]
    },
    {
     "name": "stdout",
     "output_type": "stream",
     "text": [
      "Loading Erithacus rubecula_European Robin category... 4/22\n"
     ]
    },
    {
     "name": "stderr",
     "output_type": "stream",
     "text": [
      "100%|██████████| 500/500 [00:15<00:00, 32.11it/s]\n"
     ]
    },
    {
     "name": "stdout",
     "output_type": "stream",
     "text": [
      "Loading Turdus philomelos_Song Thrush category... 5/22\n"
     ]
    },
    {
     "name": "stderr",
     "output_type": "stream",
     "text": [
      "100%|██████████| 500/500 [00:16<00:00, 29.84it/s] \n"
     ]
    },
    {
     "name": "stdout",
     "output_type": "stream",
     "text": [
      "Loading Certhia familiaris_Eurasian Treecreeper category... 6/22\n"
     ]
    },
    {
     "name": "stderr",
     "output_type": "stream",
     "text": [
      "100%|██████████| 96/96 [00:22<00:00,  4.28it/s]\n"
     ]
    },
    {
     "name": "stdout",
     "output_type": "stream",
     "text": [
      "Loading Fringilla coelebs_Common Chaffinch category... 7/22\n"
     ]
    },
    {
     "name": "stderr",
     "output_type": "stream",
     "text": [
      "100%|██████████| 500/500 [00:23<00:00, 21.56it/s]\n"
     ]
    },
    {
     "name": "stdout",
     "output_type": "stream",
     "text": [
      "Loading Turdus merula_Eurasian Blackbird category... 8/22\n"
     ]
    },
    {
     "name": "stderr",
     "output_type": "stream",
     "text": [
      "100%|██████████| 500/500 [00:23<00:00, 21.17it/s]\n"
     ]
    },
    {
     "name": "stdout",
     "output_type": "stream",
     "text": [
      "Loading Troglodytes troglodytes_Eurasian Wren category... 9/22\n"
     ]
    },
    {
     "name": "stderr",
     "output_type": "stream",
     "text": [
      "100%|██████████| 500/500 [00:34<00:00, 14.35it/s]\n"
     ]
    },
    {
     "name": "stdout",
     "output_type": "stream",
     "text": [
      "Loading Prunella modularis_Dunnock category... 10/22\n"
     ]
    },
    {
     "name": "stderr",
     "output_type": "stream",
     "text": [
      "100%|██████████| 75/75 [00:02<00:00, 25.40it/s]\n"
     ]
    },
    {
     "name": "stdout",
     "output_type": "stream",
     "text": [
      "Loading Regulus regulus_Goldcrest category... 11/22\n"
     ]
    },
    {
     "name": "stderr",
     "output_type": "stream",
     "text": [
      "100%|██████████| 437/437 [00:18<00:00, 23.99it/s] \n"
     ]
    },
    {
     "name": "stdout",
     "output_type": "stream",
     "text": [
      "Loading Periparus ater_Coal Tit category... 12/22\n"
     ]
    },
    {
     "name": "stderr",
     "output_type": "stream",
     "text": [
      "100%|██████████| 500/500 [00:27<00:00, 18.15it/s]\n"
     ]
    },
    {
     "name": "stdout",
     "output_type": "stream",
     "text": [
      "Loading Regulus ignicapilla_Common Firecrest category... 13/22\n"
     ]
    },
    {
     "name": "stderr",
     "output_type": "stream",
     "text": [
      "100%|██████████| 280/280 [00:09<00:00, 28.93it/s]\n"
     ]
    },
    {
     "name": "stdout",
     "output_type": "stream",
     "text": [
      "Loading Sylvia atricapilla_Eurasian Blackcap category... 14/22\n"
     ]
    },
    {
     "name": "stderr",
     "output_type": "stream",
     "text": [
      "100%|██████████| 500/500 [00:22<00:00, 21.93it/s]\n"
     ]
    },
    {
     "name": "stdout",
     "output_type": "stream",
     "text": [
      "Loading Pyrrhula pyrrhula_Eurasian Bullfinch category... 15/22\n"
     ]
    },
    {
     "name": "stderr",
     "output_type": "stream",
     "text": [
      "100%|██████████| 8/8 [00:00<00:00, 22.96it/s]\n"
     ]
    },
    {
     "name": "stdout",
     "output_type": "stream",
     "text": [
      "Loading Spinus spinus_Eurasian Siskin category... 16/22\n"
     ]
    },
    {
     "name": "stderr",
     "output_type": "stream",
     "text": [
      "100%|██████████| 102/102 [00:08<00:00, 12.58it/s]\n"
     ]
    },
    {
     "name": "stdout",
     "output_type": "stream",
     "text": [
      "Loading Poecile palustris_Marsh Tit category... 17/22\n"
     ]
    },
    {
     "name": "stderr",
     "output_type": "stream",
     "text": [
      "100%|██████████| 12/12 [00:04<00:00,  2.74it/s]\n"
     ]
    },
    {
     "name": "stdout",
     "output_type": "stream",
     "text": [
      "Loading Lophophanes cristatus_Crested Tit category... 18/22\n"
     ]
    },
    {
     "name": "stderr",
     "output_type": "stream",
     "text": [
      "100%|██████████| 132/132 [00:02<00:00, 61.92it/s]\n"
     ]
    },
    {
     "name": "stdout",
     "output_type": "stream",
     "text": [
      "Loading Turdus viscivorus_Mistle Thrush category... 19/22\n"
     ]
    },
    {
     "name": "stderr",
     "output_type": "stream",
     "text": [
      "100%|██████████| 229/229 [00:08<00:00, 27.57it/s]\n"
     ]
    },
    {
     "name": "stdout",
     "output_type": "stream",
     "text": [
      "Loading Loxia curvirostra_Common Crossbill category... 20/22\n"
     ]
    },
    {
     "name": "stderr",
     "output_type": "stream",
     "text": [
      "100%|██████████| 25/25 [00:01<00:00, 16.66it/s]\n"
     ]
    },
    {
     "name": "stdout",
     "output_type": "stream",
     "text": [
      "Loading Muscicapa striata_Spotted Flycatcher category... 21/22\n"
     ]
    },
    {
     "name": "stderr",
     "output_type": "stream",
     "text": [
      "100%|██████████| 117/117 [00:04<00:00, 23.86it/s]\n"
     ]
    }
   ],
   "source": [
    "# se runnato, costruisce tutte le sessioni\n",
    "true_segments = {}\n",
    "target_path = \"E:/Giacomo/Tovanella/wabad_segments\"\n",
    "all_audios_path = \"E:/Giacomo/Tovanella/WABAD/\"\n",
    "species_list = category_info_ext.keys()\n",
    "categories = list(species_list)\n",
    "for j, category in enumerate(categories):\n",
    "    all_category_audio = category_info_ext[category][:500]  # limit to 500 annotations\n",
    "    total_length = len(all_category_audio)\n",
    "    print(f\"Loading {category} category... {j}/{len(categories)}\")\n",
    "    for i in tqdm(range(total_length)):\n",
    "        audio_path = all_category_audio[i][\"file_name\"] # ex. BIAL_20210420_051500.WAV\n",
    "        file_name, wav = audio_path.split('.')\n",
    "        site = file_name.split('_')[0]\n",
    "        start_time = all_category_audio[i][\"start_time\"]\n",
    "        duration = all_category_audio[i][\"duration\"]\n",
    "        start_times = []\n",
    "        start_segms = []\n",
    "        start_segm = int(start_time // 3)\n",
    "        if duration < 1:    # ignore\n",
    "            continue\n",
    "        elif duration < 3:  # add contextual audio\n",
    "            remaining_time = 3.0 - duration\n",
    "            start_times.append(start_time - remaining_time / 2)\n",
    "            start_segms.append(start_segm) \n",
    "        elif duration >= 3 and duration < 4:\n",
    "            start_times.extend([start_time, max(start_time - 1.5, 0), start_time + 1.5])\n",
    "            start_segms.extend([start_segm, max(start_segm - 1, 0), start_segm + 1]) \n",
    "        elif duration >= 4 and duration < 6:\n",
    "            start_times.extend([start_time, max(start_time - 1.5, 0), start_time + 3])\n",
    "            start_segms.extend([start_segm, max(start_segm - 1, 0), start_segm + 1]) \n",
    "        elif duration >= 6:\n",
    "            start_times.extend([max(start_time - 1.5, 0)])\n",
    "            start_segms.extend([max(start_segm - 1, 0)]) \n",
    "            num_full_segm = int(duration // 3)\n",
    "            start_times.extend([start_time + i * 3.0 for i in range(num_full_segm)])\n",
    "            start_segms.extend([start_segm + i for i in range(num_full_segm)]) \n",
    "            remaining_time = duration - 3.0 * num_full_segm\n",
    "            if remaining_time >= 1:\n",
    "                start_times.extend([start_time + 3.0 * num_full_segm])\n",
    "                start_segms.extend([start_segm + num_full_segm]) \n",
    "\n",
    "        # print(start_times, start_segms)\n",
    "        if audio_path not in true_segments:\n",
    "            true_segments[audio_path] = {}\n",
    "        for segm in start_segms:\n",
    "            if segm not in true_segments[audio_path]:\n",
    "                true_segments[audio_path][segm] = []\n",
    "            true_segments[audio_path][segm].extend([category])\n",
    "        # \"E:\\\\Giacomo\\\\Tovanella-20241110T120546Z-001\\\\WABAD\\\\BAM\\\\BAM\\\\Recordings\"\n",
    "        # audio = AudioSegment.from_file(os.path.join(\n",
    "        #     all_audios_path, site, site, \"Recordings\", audio_path), \n",
    "        #     format=\"wav\"\n",
    "        # )\n",
    "        # for i, start_time in enumerate(start_times):\n",
    "        #     export_path = os.path.join(\n",
    "        #         target_path,\n",
    "        #         category, \n",
    "        #         f\"{file_name}_{start_segms[i]}.wav\"\n",
    "        #     )\n",
    "        #     if os.path.exists(export_path):\n",
    "        #         continue\n",
    "        #     segment = audio[start_time*1000:start_time*1000 + 3000]\n",
    "        #     os.makedirs(os.path.join(target_path, category), exist_ok=True)\n",
    "        #     segment.export(export_path, format=\"wav\")"
   ]
  },
  {
   "cell_type": "code",
   "execution_count": 30,
   "metadata": {},
   "outputs": [],
   "source": [
    "with open(\"utils/true_segments_ext.json\", \"w\") as f:\n",
    "    json.dump(true_segments, f)"
   ]
  },
  {
   "cell_type": "markdown",
   "metadata": {},
   "source": [
    "## data augmentation"
   ]
  },
  {
   "cell_type": "code",
   "execution_count": 16,
   "metadata": {},
   "outputs": [],
   "source": [
    "def load_audio(file_path):\n",
    "    audio, sr = librosa.load(file_path, sr=None)\n",
    "    return audio, sr\n",
    "\n",
    "def save_audio(file_path, audio, sr):\n",
    "    sf.write(file_path, audio, sr)"
   ]
  },
  {
   "cell_type": "code",
   "execution_count": 59,
   "metadata": {},
   "outputs": [],
   "source": [
    "from audiomentations import Compose, PitchShift, TimeStretch, AddBackgroundNoise\n",
    "\n",
    "bg_noise_path = \"e:\\\\Giacomo\\\\Tovanella-20241110T120546Z-001\\\\soundscapes\"\n",
    "bg_noises = os.listdir(bg_noise_path)\n",
    "augmentations = {\n",
    "    \"ps\": Compose([PitchShift(min_semitones=-1, max_semitones=1, p=1.0)]),\n",
    "    \"ts\": Compose([TimeStretch(min_rate=0.95, max_rate=1.05, p=1.0)]),\n",
    "    \"bn\": Compose([AddBackgroundNoise(sounds_path=os.path.join(bg_noise_path, random.choice(bg_noises)), p=1.0)]),\n",
    "}\n",
    "\n",
    "def apply_augmentations(file_path, output_dir):\n",
    "    audio, sr = load_audio(file_path)\n",
    "    \n",
    "    for aug_name, aug in augmentations.items():\n",
    "        augmented_audio = aug(samples=audio, sample_rate=sr)\n",
    "        file_name = os.path.splitext(file_path)[0].split('\\\\')[-1]\n",
    "        save_audio(f\"{output_dir}/{file_name}_{aug_name}.wav\", augmented_audio, sr)"
   ]
  },
  {
   "cell_type": "code",
   "execution_count": null,
   "metadata": {},
   "outputs": [
    {
     "name": "stderr",
     "output_type": "stream",
     "text": [
      "  0%|          | 0/308 [00:00<?, ?it/s]c:\\Users\\giaco\\AppData\\Local\\Programs\\Python\\Python310\\lib\\site-packages\\audiomentations\\core\\audio_loading_utils.py:37: UserWarning: e:\\Giacomo\\Tovanella-20241110T120546Z-001\\soundscapes\\soundscape_4.wav had to be resampled from 48000 Hz to 24000 Hz. This hurt execution time.\n",
      "  warnings.warn(\n",
      " 48%|████▊     | 148/308 [00:19<00:20,  7.93it/s]c:\\Users\\giaco\\AppData\\Local\\Programs\\Python\\Python310\\lib\\site-packages\\audiomentations\\core\\audio_loading_utils.py:37: UserWarning: e:\\Giacomo\\Tovanella-20241110T120546Z-001\\soundscapes\\soundscape_4.wav had to be resampled from 48000 Hz to 44100 Hz. This hurt execution time.\n",
      "  warnings.warn(\n",
      "100%|██████████| 308/308 [00:39<00:00,  7.88it/s]\n"
     ]
    }
   ],
   "source": [
    "folder_path = \"E:/Giacomo/Tovanella/dataset_wabad_boosted/train/Turdus viscivorus_Mistle Thrush\"\n",
    "# v1\n",
    "# Poecile palustris_Marsh Tit\n",
    "# Pyrrhula pyrrhula_Eurasian Bullfinch\n",
    "# Dryocopus martius_Black Woodpecker\n",
    "# v2\n",
    "# Certhia familiaris_Eurasian Treecreeper\n",
    "# Turdus viscivorus_Mistle Thrush\n",
    "# files = os.listdir(folder_path)\n",
    "# for i in tqdm(range(len(files))):\n",
    "#     audio = files[i]\n",
    "#     apply_augmentations(os.path.join(folder_path, audio), folder_path)"
   ]
  },
  {
   "cell_type": "code",
   "execution_count": 33,
   "metadata": {},
   "outputs": [
    {
     "data": {
      "text/html": [
       "<div>\n",
       "<style scoped>\n",
       "    .dataframe tbody tr th:only-of-type {\n",
       "        vertical-align: middle;\n",
       "    }\n",
       "\n",
       "    .dataframe tbody tr th {\n",
       "        vertical-align: top;\n",
       "    }\n",
       "\n",
       "    .dataframe thead th {\n",
       "        text-align: right;\n",
       "    }\n",
       "</style>\n",
       "<table border=\"1\" class=\"dataframe\">\n",
       "  <thead>\n",
       "    <tr style=\"text-align: right;\">\n",
       "      <th></th>\n",
       "      <th>train_count</th>\n",
       "    </tr>\n",
       "  </thead>\n",
       "  <tbody>\n",
       "    <tr>\n",
       "      <th>Periparus ater_Coal Tit</th>\n",
       "      <td>1311</td>\n",
       "    </tr>\n",
       "    <tr>\n",
       "      <th>Troglodytes troglodytes_Eurasian Wren</th>\n",
       "      <td>1240</td>\n",
       "    </tr>\n",
       "    <tr>\n",
       "      <th>Sylvia atricapilla_Eurasian Blackcap</th>\n",
       "      <td>1156</td>\n",
       "    </tr>\n",
       "    <tr>\n",
       "      <th>Turdus merula_Eurasian Blackbird</th>\n",
       "      <td>1104</td>\n",
       "    </tr>\n",
       "    <tr>\n",
       "      <th>Phylloscopus collybita_Common Chiffchaff</th>\n",
       "      <td>1042</td>\n",
       "    </tr>\n",
       "    <tr>\n",
       "      <th>Erithacus rubecula_European Robin</th>\n",
       "      <td>849</td>\n",
       "    </tr>\n",
       "    <tr>\n",
       "      <th>Fringilla coelebs_Common Chaffinch</th>\n",
       "      <td>825</td>\n",
       "    </tr>\n",
       "    <tr>\n",
       "      <th>Turdus philomelos_Song Thrush</th>\n",
       "      <td>814</td>\n",
       "    </tr>\n",
       "    <tr>\n",
       "      <th>Phylloscopus trochilus_Willow Warbler</th>\n",
       "      <td>670</td>\n",
       "    </tr>\n",
       "    <tr>\n",
       "      <th>Regulus regulus_Goldcrest</th>\n",
       "      <td>425</td>\n",
       "    </tr>\n",
       "    <tr>\n",
       "      <th>Turdus viscivorus_Mistle Thrush</th>\n",
       "      <td>304</td>\n",
       "    </tr>\n",
       "    <tr>\n",
       "      <th>Regulus ignicapilla_Common Firecrest</th>\n",
       "      <td>301</td>\n",
       "    </tr>\n",
       "    <tr>\n",
       "      <th>Spinus spinus_Eurasian Siskin</th>\n",
       "      <td>283</td>\n",
       "    </tr>\n",
       "    <tr>\n",
       "      <th>Dendrocopos major_Great Spotted Woodpecker</th>\n",
       "      <td>136</td>\n",
       "    </tr>\n",
       "    <tr>\n",
       "      <th>Prunella modularis_Dunnock</th>\n",
       "      <td>123</td>\n",
       "    </tr>\n",
       "    <tr>\n",
       "      <th>Lophophanes cristatus_Crested Tit</th>\n",
       "      <td>97</td>\n",
       "    </tr>\n",
       "    <tr>\n",
       "      <th>Certhia familiaris_Eurasian Treecreeper</th>\n",
       "      <td>63</td>\n",
       "    </tr>\n",
       "    <tr>\n",
       "      <th>Loxia curvirostra_Common Crossbill</th>\n",
       "      <td>51</td>\n",
       "    </tr>\n",
       "    <tr>\n",
       "      <th>Dryocopus martius_Black Woodpecker</th>\n",
       "      <td>44</td>\n",
       "    </tr>\n",
       "    <tr>\n",
       "      <th>Pyrrhula pyrrhula_Eurasian Bullfinch</th>\n",
       "      <td>9</td>\n",
       "    </tr>\n",
       "    <tr>\n",
       "      <th>Muscicapa striata_Spotted Flycatcher</th>\n",
       "      <td>8</td>\n",
       "    </tr>\n",
       "    <tr>\n",
       "      <th>Poecile palustris_Marsh Tit</th>\n",
       "      <td>8</td>\n",
       "    </tr>\n",
       "  </tbody>\n",
       "</table>\n",
       "</div>"
      ],
      "text/plain": [
       "                                            train_count\n",
       "Periparus ater_Coal Tit                            1311\n",
       "Troglodytes troglodytes_Eurasian Wren              1240\n",
       "Sylvia atricapilla_Eurasian Blackcap               1156\n",
       "Turdus merula_Eurasian Blackbird                   1104\n",
       "Phylloscopus collybita_Common Chiffchaff           1042\n",
       "Erithacus rubecula_European Robin                   849\n",
       "Fringilla coelebs_Common Chaffinch                  825\n",
       "Turdus philomelos_Song Thrush                       814\n",
       "Phylloscopus trochilus_Willow Warbler               670\n",
       "Regulus regulus_Goldcrest                           425\n",
       "Turdus viscivorus_Mistle Thrush                     304\n",
       "Regulus ignicapilla_Common Firecrest                301\n",
       "Spinus spinus_Eurasian Siskin                       283\n",
       "Dendrocopos major_Great Spotted Woodpecker          136\n",
       "Prunella modularis_Dunnock                          123\n",
       "Lophophanes cristatus_Crested Tit                    97\n",
       "Certhia familiaris_Eurasian Treecreeper              63\n",
       "Loxia curvirostra_Common Crossbill                   51\n",
       "Dryocopus martius_Black Woodpecker                   44\n",
       "Pyrrhula pyrrhula_Eurasian Bullfinch                  9\n",
       "Muscicapa striata_Spotted Flycatcher                  8\n",
       "Poecile palustris_Marsh Tit                           8"
      ]
     },
     "execution_count": 33,
     "metadata": {},
     "output_type": "execute_result"
    }
   ],
   "source": [
    "train_folder = \"E:/Giacomo/Tovanella/wabad_segments\"\n",
    "species_folders = os.listdir(train_folder)\n",
    "# list all elements in each folder in folders\n",
    "species_count = { folder: {\n",
    "    # \"train_count\": len(os.listdir(os.path.join(training_folder, folder))),\n",
    "    \"train_count\": len(os.listdir(os.path.join(train_folder, folder))),\n",
    "    # \"test_count\": len(os.listdir(os.path.join(test_folder, folder)))\n",
    "    } for folder in species_folders }\n",
    "df = pd.DataFrame(species_count).T\n",
    "df.sort_values(by=\"train_count\", ascending=False)"
   ]
  },
  {
   "cell_type": "code",
   "execution_count": null,
   "metadata": {},
   "outputs": [],
   "source": [
    "source = \"E:/Giacomo/Tovanella/orig_segments/train\"\n",
    "dest = \"E:/Giacomo/Tovanella/wabad_segments\"\n",
    "\n",
    "for specie in os.listdir(source):\n",
    "    os.makedirs(os.path.join(dest, specie), exist_ok=True)\n",
    "    for audio in os.listdir(os.path.join(source, specie)):\n",
    "        if len(audio.split(\"_\")) == 4:\n",
    "            os.rename(\n",
    "                os.path.join(source, specie, audio),\n",
    "                os.path.join(dest, specie, audio)\n",
    "            )"
   ]
  },
  {
   "cell_type": "code",
   "execution_count": null,
   "metadata": {},
   "outputs": [],
   "source": [
    "# folder_path = \"E:/Giacomo/Tovanella-20241110T120546Z-001/test_set_augm/train\"\n",
    "# for specie in os.listdir(folder_path):\n",
    "#     if species_count[specie][\"train_count\"] < 200:\n",
    "#         files = os.listdir(os.path.join(folder_path, specie))\n",
    "#         print(\"Augmenting \", specie)\n",
    "#         for i in tqdm(range(len(files))):\n",
    "#             audio = files[i]\n",
    "#             apply_augmentations(os.path.join(folder_path, specie, audio), os.path.join(folder_path, specie))"
   ]
  },
  {
   "cell_type": "code",
   "execution_count": 28,
   "metadata": {},
   "outputs": [],
   "source": [
    "# pick at most 200 sample for each species and move it to subset folder\n",
    "source_folder_path = \"E:/Giacomo/Tovanella/dataset_wabad_boosted/train\"\n",
    "dest_folder_path = \"E:/Giacomo/Tovanella/dataset_wabad_boosted/other\"\n",
    "for specie_folder in os.listdir(source_folder_path)[:1]:\n",
    "    all_audios = os.listdir(os.path.join(source_folder_path, specie_folder))\n",
    "    # pick 200 random samples\n",
    "    # if len(all_audios) > 200:\n",
    "    #     all_audios = np.random.choice(all_audios, 200, replace=False)\n",
    "    # move to subset folder\n",
    "    # if os.path.exists(os.path.join(dest_folder_path, specie_folder)):\n",
    "    #     continue\n",
    "    # if not os.path.exists(os.path.join(dest_folder_path, specie_folder)):\n",
    "    #     os.makedirs(os.path.join(dest_folder_path, specie_folder), exist_ok=True)\n",
    "    os.makedirs(os.path.join(dest_folder_path, specie_folder))\n",
    "    for audio in all_audios:\n",
    "        if len(audio.split(\"_\")) < 4:\n",
    "            os.rename(\n",
    "                os.path.join(source_folder_path, specie_folder, audio),\n",
    "                os.path.join(dest_folder_path, specie_folder, audio)\n",
    "            )"
   ]
  }
 ],
 "metadata": {
  "kernelspec": {
   "display_name": "Python 3",
   "language": "python",
   "name": "python3"
  },
  "language_info": {
   "codemirror_mode": {
    "name": "ipython",
    "version": 3
   },
   "file_extension": ".py",
   "mimetype": "text/x-python",
   "name": "python",
   "nbconvert_exporter": "python",
   "pygments_lexer": "ipython3",
   "version": "3.10.0"
  }
 },
 "nbformat": 4,
 "nbformat_minor": 2
}
