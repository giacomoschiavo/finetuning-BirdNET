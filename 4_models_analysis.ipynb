{
 "cells": [
  {
   "cell_type": "code",
   "execution_count": null,
   "metadata": {},
   "outputs": [],
   "source": [
    "import os\n",
    "import numpy as np\n",
    "import json\n",
    "import pandas as pd\n",
    "import matplotlib.pyplot as plt \n",
    "import pandas as pd\n",
    "import seaborn as sns"
   ]
  },
  {
   "cell_type": "code",
   "execution_count": 149,
   "metadata": {},
   "outputs": [
    {
     "data": {
      "text/plain": [
       "['augm_bn',\n",
       " 'augm_combo',\n",
       " 'augm_ps',\n",
       " 'augm_spec_append',\n",
       " 'augm_ts',\n",
       " 'carmela',\n",
       " 'mario',\n",
       " 'original',\n",
       " 'original_200_best_snr',\n",
       " 'test',\n",
       " 'wabad_all',\n",
       " 'wabad_augm_ps',\n",
       " 'wabad_on_minor']"
      ]
     },
     "execution_count": 149,
     "metadata": {},
     "output_type": "execute_result"
    }
   ],
   "source": [
    "models_folder_path = 'classifiers/official'\n",
    "model_names = os.listdir(models_folder_path)\n",
    "comparable_models = []\n",
    "for model in model_names:\n",
    "    if os.path.exists(os.path.join(models_folder_path, model, \"classification_report.json\")):\n",
    "        comparable_models.append(model)\n",
    "\n",
    "comparable_models"
   ]
  },
  {
   "cell_type": "code",
   "execution_count": 5,
   "metadata": {},
   "outputs": [],
   "source": [
    "# load all classification report\n",
    "classification_reports = {}\n",
    "for model_name in comparable_models:\n",
    "    with open(f'{models_folder_path}/{model_name}/classification_report.json') as f:\n",
    "        classification_report = json.load(f)\n",
    "        classification_reports[model_name] = classification_report"
   ]
  },
  {
   "cell_type": "code",
   "execution_count": null,
   "metadata": {},
   "outputs": [],
   "source": [
    "# with open(\"./classifiers/official/original/CustomClassifier_Labels.txt\") as f:\n",
    "#     all_species = [line.strip() for line in f.readlines()]"
   ]
  },
  {
   "cell_type": "code",
   "execution_count": 133,
   "metadata": {},
   "outputs": [],
   "source": [
    "audio_path = \"E:/Giacomo/Tovanella/all_segments_5/test\"\n",
    "all_species = os.listdir(audio_path)"
   ]
  },
  {
   "cell_type": "markdown",
   "metadata": {},
   "source": [
    "# Metrics mean by species"
   ]
  },
  {
   "cell_type": "code",
   "execution_count": 134,
   "metadata": {},
   "outputs": [
    {
     "data": {
      "application/vnd.microsoft.datawrangler.viewer.v0+json": {
       "columns": [
        {
         "name": "index",
         "rawType": "object",
         "type": "string"
        },
        {
         "name": "average_precision",
         "rawType": "float64",
         "type": "float"
        },
        {
         "name": "average_recall",
         "rawType": "float64",
         "type": "float"
        },
        {
         "name": "average_f1-score",
         "rawType": "float64",
         "type": "float"
        },
        {
         "name": "average_support",
         "rawType": "float64",
         "type": "float"
        }
       ],
       "conversionMethod": "pd.DataFrame",
       "ref": "1b3b9696-2b1d-437d-8b4c-a73881618ae9",
       "rows": [
        [
         "Certhia familiaris_Eurasian Treecreeper",
         "0.41898148148148145",
         "0.16666666666666666",
         "0.21007858892109366",
         "10.166666666666666"
        ],
        [
         "Dendrocopos major_Great Spotted Woodpecker",
         "0.9323784059078176",
         "0.5212121212121212",
         "0.6450208797936071",
         "15.0"
        ],
        [
         "Dryocopus martius_Black Woodpecker",
         "0.7586580086580086",
         "0.3939393939393939",
         "0.4964399635452267",
         "12.0"
        ],
        [
         "Erithacus rubecula_European Robin",
         "0.2921896530130155",
         "0.33856640138355426",
         "0.2505075582954444",
         "90.41666666666667"
        ],
        [
         "Fringilla coelebs_Common Chaffinch",
         "0.8493353805688116",
         "0.5437161708348149",
         "0.6340918745471563",
         "890.4545454545455"
        ],
        [
         "Lophophanes cristatus_Crested Tit",
         "0.3493506493506493",
         "0.07272727272727272",
         "0.11298380763621405",
         "10.0"
        ],
        [
         "Loxia curvirostra_Common Crossbill",
         "0.41641740592141885",
         "0.6378066378066377",
         "0.4868565166420227",
         "27.454545454545453"
        ],
        [
         "Muscicapa striata_Spotted Flycatcher",
         "0.0",
         "0.0",
         "0.0",
         "2.0"
        ],
        [
         "Pecking_",
         "0.22210606106941827",
         "0.5874125874125874",
         "0.3202272605371754",
         "13.0"
        ],
        [
         "Periparus ater_Coal Tit",
         "0.6773544973544974",
         "0.29412393162393163",
         "0.3813327699804863",
         "47.166666666666664"
        ],
        [
         "Rain_",
         "0.5633116883116883",
         "0.3426573426573427",
         "0.425974025974026",
         "13.0"
        ],
        [
         "Regulus ignicapilla_Common Firecrest",
         "0.4672912847717951",
         "0.5605779582729896",
         "0.4977875016941029",
         "193.16666666666666"
        ],
        [
         "Regulus regulus_Goldcrest",
         "0.46184221551868626",
         "0.1536622117400419",
         "0.1724407188855892",
         "46.25"
        ],
        [
         "Sylvia atricapilla_Eurasian Blackcap",
         "0.5331881201805211",
         "0.1075036075036075",
         "0.1723474469424881",
         "252.0"
        ],
        [
         "Troglodytes troglodytes_Eurasian Wren",
         "0.319647189299523",
         "0.18984375",
         "0.22510359791810386",
         "42.0"
        ],
        [
         "Turdus merula_Eurasian Blackbird",
         "0.1639784946236559",
         "0.046085858585858584",
         "0.0717948717948718",
         "11.916666666666666"
        ],
        [
         "Turdus philomelos_Song Thrush",
         "0.2781701701522208",
         "0.6582361222847949",
         "0.3023111898677668",
         "216.1818181818182"
        ],
        [
         "Vegetation_",
         "0.3990613724629069",
         "0.16388248847926265",
         "0.22720585153617864",
         "27.5"
        ],
        [
         "Wind_",
         "0.13889954131889615",
         "0.11984702093397744",
         "0.12685629089020925",
         "46.416666666666664"
        ]
       ],
       "shape": {
        "columns": 4,
        "rows": 19
       }
      },
      "text/html": [
       "<div>\n",
       "<style scoped>\n",
       "    .dataframe tbody tr th:only-of-type {\n",
       "        vertical-align: middle;\n",
       "    }\n",
       "\n",
       "    .dataframe tbody tr th {\n",
       "        vertical-align: top;\n",
       "    }\n",
       "\n",
       "    .dataframe thead th {\n",
       "        text-align: right;\n",
       "    }\n",
       "</style>\n",
       "<table border=\"1\" class=\"dataframe\">\n",
       "  <thead>\n",
       "    <tr style=\"text-align: right;\">\n",
       "      <th></th>\n",
       "      <th>average_precision</th>\n",
       "      <th>average_recall</th>\n",
       "      <th>average_f1-score</th>\n",
       "      <th>average_support</th>\n",
       "    </tr>\n",
       "  </thead>\n",
       "  <tbody>\n",
       "    <tr>\n",
       "      <th>Certhia familiaris_Eurasian Treecreeper</th>\n",
       "      <td>0.418981</td>\n",
       "      <td>0.166667</td>\n",
       "      <td>0.210079</td>\n",
       "      <td>10.166667</td>\n",
       "    </tr>\n",
       "    <tr>\n",
       "      <th>Dendrocopos major_Great Spotted Woodpecker</th>\n",
       "      <td>0.932378</td>\n",
       "      <td>0.521212</td>\n",
       "      <td>0.645021</td>\n",
       "      <td>15.000000</td>\n",
       "    </tr>\n",
       "    <tr>\n",
       "      <th>Dryocopus martius_Black Woodpecker</th>\n",
       "      <td>0.758658</td>\n",
       "      <td>0.393939</td>\n",
       "      <td>0.496440</td>\n",
       "      <td>12.000000</td>\n",
       "    </tr>\n",
       "    <tr>\n",
       "      <th>Erithacus rubecula_European Robin</th>\n",
       "      <td>0.292190</td>\n",
       "      <td>0.338566</td>\n",
       "      <td>0.250508</td>\n",
       "      <td>90.416667</td>\n",
       "    </tr>\n",
       "    <tr>\n",
       "      <th>Fringilla coelebs_Common Chaffinch</th>\n",
       "      <td>0.849335</td>\n",
       "      <td>0.543716</td>\n",
       "      <td>0.634092</td>\n",
       "      <td>890.454545</td>\n",
       "    </tr>\n",
       "    <tr>\n",
       "      <th>Lophophanes cristatus_Crested Tit</th>\n",
       "      <td>0.349351</td>\n",
       "      <td>0.072727</td>\n",
       "      <td>0.112984</td>\n",
       "      <td>10.000000</td>\n",
       "    </tr>\n",
       "    <tr>\n",
       "      <th>Loxia curvirostra_Common Crossbill</th>\n",
       "      <td>0.416417</td>\n",
       "      <td>0.637807</td>\n",
       "      <td>0.486857</td>\n",
       "      <td>27.454545</td>\n",
       "    </tr>\n",
       "    <tr>\n",
       "      <th>Muscicapa striata_Spotted Flycatcher</th>\n",
       "      <td>0.000000</td>\n",
       "      <td>0.000000</td>\n",
       "      <td>0.000000</td>\n",
       "      <td>2.000000</td>\n",
       "    </tr>\n",
       "    <tr>\n",
       "      <th>Pecking_</th>\n",
       "      <td>0.222106</td>\n",
       "      <td>0.587413</td>\n",
       "      <td>0.320227</td>\n",
       "      <td>13.000000</td>\n",
       "    </tr>\n",
       "    <tr>\n",
       "      <th>Periparus ater_Coal Tit</th>\n",
       "      <td>0.677354</td>\n",
       "      <td>0.294124</td>\n",
       "      <td>0.381333</td>\n",
       "      <td>47.166667</td>\n",
       "    </tr>\n",
       "    <tr>\n",
       "      <th>Rain_</th>\n",
       "      <td>0.563312</td>\n",
       "      <td>0.342657</td>\n",
       "      <td>0.425974</td>\n",
       "      <td>13.000000</td>\n",
       "    </tr>\n",
       "    <tr>\n",
       "      <th>Regulus ignicapilla_Common Firecrest</th>\n",
       "      <td>0.467291</td>\n",
       "      <td>0.560578</td>\n",
       "      <td>0.497788</td>\n",
       "      <td>193.166667</td>\n",
       "    </tr>\n",
       "    <tr>\n",
       "      <th>Regulus regulus_Goldcrest</th>\n",
       "      <td>0.461842</td>\n",
       "      <td>0.153662</td>\n",
       "      <td>0.172441</td>\n",
       "      <td>46.250000</td>\n",
       "    </tr>\n",
       "    <tr>\n",
       "      <th>Sylvia atricapilla_Eurasian Blackcap</th>\n",
       "      <td>0.533188</td>\n",
       "      <td>0.107504</td>\n",
       "      <td>0.172347</td>\n",
       "      <td>252.000000</td>\n",
       "    </tr>\n",
       "    <tr>\n",
       "      <th>Troglodytes troglodytes_Eurasian Wren</th>\n",
       "      <td>0.319647</td>\n",
       "      <td>0.189844</td>\n",
       "      <td>0.225104</td>\n",
       "      <td>42.000000</td>\n",
       "    </tr>\n",
       "    <tr>\n",
       "      <th>Turdus merula_Eurasian Blackbird</th>\n",
       "      <td>0.163978</td>\n",
       "      <td>0.046086</td>\n",
       "      <td>0.071795</td>\n",
       "      <td>11.916667</td>\n",
       "    </tr>\n",
       "    <tr>\n",
       "      <th>Turdus philomelos_Song Thrush</th>\n",
       "      <td>0.278170</td>\n",
       "      <td>0.658236</td>\n",
       "      <td>0.302311</td>\n",
       "      <td>216.181818</td>\n",
       "    </tr>\n",
       "    <tr>\n",
       "      <th>Vegetation_</th>\n",
       "      <td>0.399061</td>\n",
       "      <td>0.163882</td>\n",
       "      <td>0.227206</td>\n",
       "      <td>27.500000</td>\n",
       "    </tr>\n",
       "    <tr>\n",
       "      <th>Wind_</th>\n",
       "      <td>0.138900</td>\n",
       "      <td>0.119847</td>\n",
       "      <td>0.126856</td>\n",
       "      <td>46.416667</td>\n",
       "    </tr>\n",
       "  </tbody>\n",
       "</table>\n",
       "</div>"
      ],
      "text/plain": [
       "                                            average_precision  average_recall  \\\n",
       "Certhia familiaris_Eurasian Treecreeper              0.418981        0.166667   \n",
       "Dendrocopos major_Great Spotted Woodpecker           0.932378        0.521212   \n",
       "Dryocopus martius_Black Woodpecker                   0.758658        0.393939   \n",
       "Erithacus rubecula_European Robin                    0.292190        0.338566   \n",
       "Fringilla coelebs_Common Chaffinch                   0.849335        0.543716   \n",
       "Lophophanes cristatus_Crested Tit                    0.349351        0.072727   \n",
       "Loxia curvirostra_Common Crossbill                   0.416417        0.637807   \n",
       "Muscicapa striata_Spotted Flycatcher                 0.000000        0.000000   \n",
       "Pecking_                                             0.222106        0.587413   \n",
       "Periparus ater_Coal Tit                              0.677354        0.294124   \n",
       "Rain_                                                0.563312        0.342657   \n",
       "Regulus ignicapilla_Common Firecrest                 0.467291        0.560578   \n",
       "Regulus regulus_Goldcrest                            0.461842        0.153662   \n",
       "Sylvia atricapilla_Eurasian Blackcap                 0.533188        0.107504   \n",
       "Troglodytes troglodytes_Eurasian Wren                0.319647        0.189844   \n",
       "Turdus merula_Eurasian Blackbird                     0.163978        0.046086   \n",
       "Turdus philomelos_Song Thrush                        0.278170        0.658236   \n",
       "Vegetation_                                          0.399061        0.163882   \n",
       "Wind_                                                0.138900        0.119847   \n",
       "\n",
       "                                            average_f1-score  average_support  \n",
       "Certhia familiaris_Eurasian Treecreeper             0.210079        10.166667  \n",
       "Dendrocopos major_Great Spotted Woodpecker          0.645021        15.000000  \n",
       "Dryocopus martius_Black Woodpecker                  0.496440        12.000000  \n",
       "Erithacus rubecula_European Robin                   0.250508        90.416667  \n",
       "Fringilla coelebs_Common Chaffinch                  0.634092       890.454545  \n",
       "Lophophanes cristatus_Crested Tit                   0.112984        10.000000  \n",
       "Loxia curvirostra_Common Crossbill                  0.486857        27.454545  \n",
       "Muscicapa striata_Spotted Flycatcher                0.000000         2.000000  \n",
       "Pecking_                                            0.320227        13.000000  \n",
       "Periparus ater_Coal Tit                             0.381333        47.166667  \n",
       "Rain_                                               0.425974        13.000000  \n",
       "Regulus ignicapilla_Common Firecrest                0.497788       193.166667  \n",
       "Regulus regulus_Goldcrest                           0.172441        46.250000  \n",
       "Sylvia atricapilla_Eurasian Blackcap                0.172347       252.000000  \n",
       "Troglodytes troglodytes_Eurasian Wren               0.225104        42.000000  \n",
       "Turdus merula_Eurasian Blackbird                    0.071795        11.916667  \n",
       "Turdus philomelos_Song Thrush                       0.302311       216.181818  \n",
       "Vegetation_                                         0.227206        27.500000  \n",
       "Wind_                                               0.126856        46.416667  "
      ]
     },
     "execution_count": 134,
     "metadata": {},
     "output_type": "execute_result"
    }
   ],
   "source": [
    "average_metrics_per_species = {}\n",
    "for species in sorted(list(all_species)):\n",
    "    precision_values = []\n",
    "    recall_values = []\n",
    "    f1_values = []\n",
    "    support_values = []\n",
    "\n",
    "    for model_name in comparable_models:\n",
    "        if species in classification_reports[model_name]:\n",
    "            metrics = classification_reports[model_name][species]\n",
    "            precision_values.append(metrics['precision'])\n",
    "            recall_values.append(metrics['recall'])\n",
    "            f1_values.append(metrics['f1-score'])\n",
    "            support_values.append(metrics['support'])\n",
    "            \n",
    "    average_metrics_per_species[species] = {\n",
    "        'average_precision': np.mean(precision_values),\n",
    "        'average_recall': np.mean(recall_values),\n",
    "        'average_f1-score': np.mean(f1_values),\n",
    "        'average_support': np.mean(support_values)\n",
    "    }\n",
    "\n",
    "avg_metrics_df = pd.DataFrame(average_metrics_per_species).T\n",
    "avg_metrics_df"
   ]
  },
  {
   "cell_type": "markdown",
   "metadata": {},
   "source": [
    "# Mean Variation from original model"
   ]
  },
  {
   "cell_type": "code",
   "execution_count": 135,
   "metadata": {},
   "outputs": [
    {
     "data": {
      "application/vnd.microsoft.datawrangler.viewer.v0+json": {
       "columns": [
        {
         "name": "index",
         "rawType": "object",
         "type": "string"
        },
        {
         "name": "precision",
         "rawType": "float64",
         "type": "float"
        },
        {
         "name": "recall",
         "rawType": "float64",
         "type": "float"
        },
        {
         "name": "f1-score",
         "rawType": "float64",
         "type": "float"
        }
       ],
       "conversionMethod": "pd.DataFrame",
       "ref": "a1f4b9ee-1a03-45fb-8278-57b16f486447",
       "rows": [
        [
         "augm_bn",
         "0.04915193612406209",
         "0.02935051112645311",
         "0.0391051700213587"
        ],
        [
         "augm_ps",
         "0.014896173683248014",
         "0.040146071981830234",
         "0.033538193533966774"
        ],
        [
         "augm_spec_append",
         "-0.03522672457318768",
         "-0.02247933570288637",
         "-0.004427433591966407"
        ],
        [
         "augm_ts",
         "0.0062863269357106965",
         "0.04485071023149259",
         "0.032769105638136314"
        ],
        [
         "carmela",
         "0.2920861063239126",
         "0.2237106927941229",
         "0.2656363350339204"
        ],
        [
         "maurizio",
         "-0.05979371705793291",
         "-0.007147086879103544",
         "-0.012220465595251697"
        ],
        [
         "original_200_best_snr",
         "-0.004631294804981598",
         "-0.10735602229840542",
         "-0.05369750706289654"
        ],
        [
         "test",
         "0.07769965097752234",
         "-0.16410818962163964",
         "-0.0871690241621342"
        ],
        [
         "wabad_all",
         "0.0381150579965198",
         "0.006679107094806314",
         "0.02757945316470926"
        ],
        [
         "wabad_augm_ps",
         "-0.0024014249444006615",
         "0.11088882102543089",
         "0.08266434233758832"
        ],
        [
         "wabad_on_minor",
         "0.07917113275434935",
         "0.07034192108012602",
         "0.08470103630750168"
        ]
       ],
       "shape": {
        "columns": 3,
        "rows": 11
       }
      },
      "text/html": [
       "<div>\n",
       "<style scoped>\n",
       "    .dataframe tbody tr th:only-of-type {\n",
       "        vertical-align: middle;\n",
       "    }\n",
       "\n",
       "    .dataframe tbody tr th {\n",
       "        vertical-align: top;\n",
       "    }\n",
       "\n",
       "    .dataframe thead th {\n",
       "        text-align: right;\n",
       "    }\n",
       "</style>\n",
       "<table border=\"1\" class=\"dataframe\">\n",
       "  <thead>\n",
       "    <tr style=\"text-align: right;\">\n",
       "      <th></th>\n",
       "      <th>precision</th>\n",
       "      <th>recall</th>\n",
       "      <th>f1-score</th>\n",
       "    </tr>\n",
       "  </thead>\n",
       "  <tbody>\n",
       "    <tr>\n",
       "      <th>augm_bn</th>\n",
       "      <td>0.049152</td>\n",
       "      <td>0.029351</td>\n",
       "      <td>0.039105</td>\n",
       "    </tr>\n",
       "    <tr>\n",
       "      <th>augm_ps</th>\n",
       "      <td>0.014896</td>\n",
       "      <td>0.040146</td>\n",
       "      <td>0.033538</td>\n",
       "    </tr>\n",
       "    <tr>\n",
       "      <th>augm_spec_append</th>\n",
       "      <td>-0.035227</td>\n",
       "      <td>-0.022479</td>\n",
       "      <td>-0.004427</td>\n",
       "    </tr>\n",
       "    <tr>\n",
       "      <th>augm_ts</th>\n",
       "      <td>0.006286</td>\n",
       "      <td>0.044851</td>\n",
       "      <td>0.032769</td>\n",
       "    </tr>\n",
       "    <tr>\n",
       "      <th>carmela</th>\n",
       "      <td>0.292086</td>\n",
       "      <td>0.223711</td>\n",
       "      <td>0.265636</td>\n",
       "    </tr>\n",
       "    <tr>\n",
       "      <th>maurizio</th>\n",
       "      <td>-0.059794</td>\n",
       "      <td>-0.007147</td>\n",
       "      <td>-0.012220</td>\n",
       "    </tr>\n",
       "    <tr>\n",
       "      <th>original_200_best_snr</th>\n",
       "      <td>-0.004631</td>\n",
       "      <td>-0.107356</td>\n",
       "      <td>-0.053698</td>\n",
       "    </tr>\n",
       "    <tr>\n",
       "      <th>test</th>\n",
       "      <td>0.077700</td>\n",
       "      <td>-0.164108</td>\n",
       "      <td>-0.087169</td>\n",
       "    </tr>\n",
       "    <tr>\n",
       "      <th>wabad_all</th>\n",
       "      <td>0.038115</td>\n",
       "      <td>0.006679</td>\n",
       "      <td>0.027579</td>\n",
       "    </tr>\n",
       "    <tr>\n",
       "      <th>wabad_augm_ps</th>\n",
       "      <td>-0.002401</td>\n",
       "      <td>0.110889</td>\n",
       "      <td>0.082664</td>\n",
       "    </tr>\n",
       "    <tr>\n",
       "      <th>wabad_on_minor</th>\n",
       "      <td>0.079171</td>\n",
       "      <td>0.070342</td>\n",
       "      <td>0.084701</td>\n",
       "    </tr>\n",
       "  </tbody>\n",
       "</table>\n",
       "</div>"
      ],
      "text/plain": [
       "                       precision    recall  f1-score\n",
       "augm_bn                 0.049152  0.029351  0.039105\n",
       "augm_ps                 0.014896  0.040146  0.033538\n",
       "augm_spec_append       -0.035227 -0.022479 -0.004427\n",
       "augm_ts                 0.006286  0.044851  0.032769\n",
       "carmela                 0.292086  0.223711  0.265636\n",
       "maurizio               -0.059794 -0.007147 -0.012220\n",
       "original_200_best_snr  -0.004631 -0.107356 -0.053698\n",
       "test                    0.077700 -0.164108 -0.087169\n",
       "wabad_all               0.038115  0.006679  0.027579\n",
       "wabad_augm_ps          -0.002401  0.110889  0.082664\n",
       "wabad_on_minor          0.079171  0.070342  0.084701"
      ]
     },
     "execution_count": 135,
     "metadata": {},
     "output_type": "execute_result"
    }
   ],
   "source": [
    "models_to_compare = comparable_models[:]\n",
    "models_to_compare.remove(\"original\")  # Rimuoviamo il modello di riferimento\n",
    "    \n",
    "# Dizionario per memorizzare i risultati\n",
    "variations = {model: {\"precision\": [], \"recall\": [], \"f1-score\": []} for model in models_to_compare}\n",
    "\n",
    "# Iterare sulle specie presenti nel modello originale\n",
    "for species in classification_reports[\"original\"].keys():\n",
    "    for model in models_to_compare:\n",
    "        if species in classification_reports[model]:  # Controllo per evitare errori\n",
    "            for metric in [\"precision\", \"recall\", \"f1-score\"]:\n",
    "                orig_value = classification_reports[\"original\"][species][metric]\n",
    "                model_value = classification_reports[model][species][metric]\n",
    "                variation = model_value - orig_value\n",
    "                variations[model][metric].append(variation)\n",
    "\n",
    "# Calcolare la variazione media per ogni metrica e modello\n",
    "mean_variations = {}\n",
    "for model, metrics in variations.items():\n",
    "    mean_variations[model] = {metric: sum(values) / len(values) if values else 0 for metric, values in metrics.items()}\n",
    "\n",
    "# Stampare i risultati\n",
    "data_metrics = pd.DataFrame(mean_variations)\n",
    "data_metrics.T"
   ]
  },
  {
   "cell_type": "markdown",
   "metadata": {},
   "source": [
    "# Metrics by models"
   ]
  },
  {
   "cell_type": "code",
   "execution_count": 136,
   "metadata": {},
   "outputs": [
    {
     "data": {
      "text/plain": [
       "dict_keys(['Certhia familiaris_Eurasian Treecreeper', 'Dendrocopos major_Great Spotted Woodpecker', 'Dryocopus martius_Black Woodpecker', 'Erithacus rubecula_European Robin', 'Fringilla coelebs_Common Chaffinch', 'Lophophanes cristatus_Crested Tit', 'Loxia curvirostra_Common Crossbill', 'Muscicapa striata_Spotted Flycatcher', 'Pecking_', 'Periparus ater_Coal Tit', 'Rain_', 'Regulus ignicapilla_Common Firecrest', 'Regulus regulus_Goldcrest', 'Sylvia atricapilla_Eurasian Blackcap', 'Troglodytes troglodytes_Eurasian Wren', 'Turdus merula_Eurasian Blackbird', 'Turdus philomelos_Song Thrush', 'Vegetation_', 'Wind_', 'micro avg', 'macro avg', 'weighted avg', 'samples avg'])"
      ]
     },
     "execution_count": 136,
     "metadata": {},
     "output_type": "execute_result"
    }
   ],
   "source": [
    "classification_reports[\"augm_bn\"].keys()"
   ]
  },
  {
   "cell_type": "code",
   "execution_count": 137,
   "metadata": {},
   "outputs": [
    {
     "data": {
      "application/vnd.microsoft.datawrangler.viewer.v0+json": {
       "columns": [
        {
         "name": "index",
         "rawType": "int64",
         "type": "integer"
        },
        {
         "name": "Model Name",
         "rawType": "object",
         "type": "string"
        },
        {
         "name": "Precision",
         "rawType": "float64",
         "type": "float"
        },
        {
         "name": "Recall",
         "rawType": "float64",
         "type": "float"
        },
        {
         "name": "F1-score",
         "rawType": "float64",
         "type": "float"
        }
       ],
       "conversionMethod": "pd.DataFrame",
       "ref": "1ee9d018-3f04-49cf-be39-35fa44836ee6",
       "rows": [
        [
         "4",
         "carmela",
         "0.8667",
         "0.5613",
         "0.6631"
        ],
        [
         "9",
         "wabad_all",
         "0.6083",
         "0.5389",
         "0.526"
        ],
        [
         "0",
         "augm_bn",
         "0.5926",
         "0.5573",
         "0.5219"
        ],
        [
         "11",
         "wabad_on_minor",
         "0.5983",
         "0.5114",
         "0.5069"
        ],
        [
         "10",
         "wabad_augm_ps",
         "0.5792",
         "0.5197",
         "0.5049"
        ],
        [
         "2",
         "augm_spec_append",
         "0.5775",
         "0.5133",
         "0.4994"
        ],
        [
         "6",
         "original",
         "0.5958",
         "0.5197",
         "0.4989"
        ],
        [
         "1",
         "augm_ps",
         "0.5953",
         "0.5104",
         "0.4941"
        ],
        [
         "3",
         "augm_ts",
         "0.5963",
         "0.4881",
         "0.4797"
        ],
        [
         "5",
         "maurizio",
         "0.5601",
         "0.3352",
         "0.3473"
        ],
        [
         "8",
         "test",
         "0.8052",
         "0.1886",
         "0.283"
        ],
        [
         "7",
         "original_200_best_snr",
         "0.5975",
         "0.1721",
         "0.2282"
        ]
       ],
       "shape": {
        "columns": 4,
        "rows": 12
       }
      },
      "text/html": [
       "<div>\n",
       "<style scoped>\n",
       "    .dataframe tbody tr th:only-of-type {\n",
       "        vertical-align: middle;\n",
       "    }\n",
       "\n",
       "    .dataframe tbody tr th {\n",
       "        vertical-align: top;\n",
       "    }\n",
       "\n",
       "    .dataframe thead th {\n",
       "        text-align: right;\n",
       "    }\n",
       "</style>\n",
       "<table border=\"1\" class=\"dataframe\">\n",
       "  <thead>\n",
       "    <tr style=\"text-align: right;\">\n",
       "      <th></th>\n",
       "      <th>Model Name</th>\n",
       "      <th>Precision</th>\n",
       "      <th>Recall</th>\n",
       "      <th>F1-score</th>\n",
       "    </tr>\n",
       "  </thead>\n",
       "  <tbody>\n",
       "    <tr>\n",
       "      <th>4</th>\n",
       "      <td>carmela</td>\n",
       "      <td>0.8667</td>\n",
       "      <td>0.5613</td>\n",
       "      <td>0.6631</td>\n",
       "    </tr>\n",
       "    <tr>\n",
       "      <th>9</th>\n",
       "      <td>wabad_all</td>\n",
       "      <td>0.6083</td>\n",
       "      <td>0.5389</td>\n",
       "      <td>0.5260</td>\n",
       "    </tr>\n",
       "    <tr>\n",
       "      <th>0</th>\n",
       "      <td>augm_bn</td>\n",
       "      <td>0.5926</td>\n",
       "      <td>0.5573</td>\n",
       "      <td>0.5219</td>\n",
       "    </tr>\n",
       "    <tr>\n",
       "      <th>11</th>\n",
       "      <td>wabad_on_minor</td>\n",
       "      <td>0.5983</td>\n",
       "      <td>0.5114</td>\n",
       "      <td>0.5069</td>\n",
       "    </tr>\n",
       "    <tr>\n",
       "      <th>10</th>\n",
       "      <td>wabad_augm_ps</td>\n",
       "      <td>0.5792</td>\n",
       "      <td>0.5197</td>\n",
       "      <td>0.5049</td>\n",
       "    </tr>\n",
       "    <tr>\n",
       "      <th>2</th>\n",
       "      <td>augm_spec_append</td>\n",
       "      <td>0.5775</td>\n",
       "      <td>0.5133</td>\n",
       "      <td>0.4994</td>\n",
       "    </tr>\n",
       "    <tr>\n",
       "      <th>6</th>\n",
       "      <td>original</td>\n",
       "      <td>0.5958</td>\n",
       "      <td>0.5197</td>\n",
       "      <td>0.4989</td>\n",
       "    </tr>\n",
       "    <tr>\n",
       "      <th>1</th>\n",
       "      <td>augm_ps</td>\n",
       "      <td>0.5953</td>\n",
       "      <td>0.5104</td>\n",
       "      <td>0.4941</td>\n",
       "    </tr>\n",
       "    <tr>\n",
       "      <th>3</th>\n",
       "      <td>augm_ts</td>\n",
       "      <td>0.5963</td>\n",
       "      <td>0.4881</td>\n",
       "      <td>0.4797</td>\n",
       "    </tr>\n",
       "    <tr>\n",
       "      <th>5</th>\n",
       "      <td>maurizio</td>\n",
       "      <td>0.5601</td>\n",
       "      <td>0.3352</td>\n",
       "      <td>0.3473</td>\n",
       "    </tr>\n",
       "    <tr>\n",
       "      <th>8</th>\n",
       "      <td>test</td>\n",
       "      <td>0.8052</td>\n",
       "      <td>0.1886</td>\n",
       "      <td>0.2830</td>\n",
       "    </tr>\n",
       "    <tr>\n",
       "      <th>7</th>\n",
       "      <td>original_200_best_snr</td>\n",
       "      <td>0.5975</td>\n",
       "      <td>0.1721</td>\n",
       "      <td>0.2282</td>\n",
       "    </tr>\n",
       "  </tbody>\n",
       "</table>\n",
       "</div>"
      ],
      "text/plain": [
       "               Model Name  Precision  Recall  F1-score\n",
       "4                 carmela     0.8667  0.5613    0.6631\n",
       "9               wabad_all     0.6083  0.5389    0.5260\n",
       "0                 augm_bn     0.5926  0.5573    0.5219\n",
       "11         wabad_on_minor     0.5983  0.5114    0.5069\n",
       "10          wabad_augm_ps     0.5792  0.5197    0.5049\n",
       "2        augm_spec_append     0.5775  0.5133    0.4994\n",
       "6                original     0.5958  0.5197    0.4989\n",
       "1                 augm_ps     0.5953  0.5104    0.4941\n",
       "3                 augm_ts     0.5963  0.4881    0.4797\n",
       "5                maurizio     0.5601  0.3352    0.3473\n",
       "8                    test     0.8052  0.1886    0.2830\n",
       "7   original_200_best_snr     0.5975  0.1721    0.2282"
      ]
     },
     "execution_count": 137,
     "metadata": {},
     "output_type": "execute_result"
    }
   ],
   "source": [
    "results = []\n",
    "\n",
    "for model_name, report in classification_reports.items():\n",
    "    df = pd.DataFrame(report).T\n",
    "    df_species = df[~df.index.isin(['micro avg', 'macro avg', 'weighted avg', 'samples avg'])]\n",
    "\n",
    "    weighted_precision = (df_species[\"precision\"] * df_species[\"support\"]).sum() / df_species[\"support\"].sum()\n",
    "    weighted_recall = (df_species[\"recall\"] * df_species[\"support\"]).sum() / df_species[\"support\"].sum()\n",
    "    weighted_f1 = (df_species[\"f1-score\"] * df_species[\"support\"]).sum() / df_species[\"support\"].sum()\n",
    "\n",
    "    results.append({\n",
    "        \"Model Name\": model_name,\n",
    "        \"Precision\": round(weighted_precision, 4),\n",
    "        \"Recall\": round(weighted_recall, 4),\n",
    "        \"F1-score\": round(weighted_f1, 4),\n",
    "    })\n",
    "\n",
    "# Creare tabella finale\n",
    "df_summary = pd.DataFrame(results)\n",
    "df_summary.sort_values(\"F1-score\", ascending=False)"
   ]
  },
  {
   "cell_type": "code",
   "execution_count": 138,
   "metadata": {},
   "outputs": [
    {
     "data": {
      "image/png": "[encoded data removed]",
      "text/plain": [
       "<Figure size 1000x500 with 1 Axes>"
      ]
     },
     "metadata": {},
     "output_type": "display_data"
    }
   ],
   "source": [
    "plt.figure(figsize=(10, 5))\n",
    "df_melted = df_summary.melt(id_vars=[\"Model Name\"], value_vars=[\"Precision\", \"Recall\", \"F1-score\"])\n",
    "sns.barplot(x=\"Model Name\", y=\"value\", hue=\"variable\", data=df_melted)\n",
    "\n",
    "plt.title(\"Confronto delle metriche tra modelli\")\n",
    "plt.ylabel(\"Score\")\n",
    "plt.xlabel(\"Model Name\")\n",
    "plt.xticks(rotation=45) \n",
    "plt.legend(title=\"Metrics\", loc=\"lower right\")\n",
    "plt.show()"
   ]
  },
  {
   "cell_type": "markdown",
   "metadata": {},
   "source": [
    "# ROC AUC comparisons"
   ]
  },
  {
   "cell_type": "code",
   "execution_count": 139,
   "metadata": {},
   "outputs": [],
   "source": [
    "roc_curves = {}\n",
    "for model_name in comparable_models:\n",
    "    if os.path.exists(os.path.join(models_folder_path, model_name, \"roc_auc.json\")):\n",
    "        with open(os.path.join(models_folder_path, model_name, \"roc_auc.json\"), \"r\") as f:\n",
    "            roc_curves[model_name] = json.load(f)"
   ]
  },
  {
   "cell_type": "code",
   "execution_count": 140,
   "metadata": {},
   "outputs": [
    {
     "data": {
      "application/vnd.microsoft.datawrangler.viewer.v0+json": {
       "columns": [
        {
         "name": "index",
         "rawType": "int64",
         "type": "integer"
        },
        {
         "name": "Model Name",
         "rawType": "object",
         "type": "string"
        },
        {
         "name": "Mean AUC",
         "rawType": "float64",
         "type": "float"
        },
        {
         "name": "Species Count",
         "rawType": "int64",
         "type": "integer"
        }
       ],
       "conversionMethod": "pd.DataFrame",
       "ref": "0cc27fd5-f817-4493-9846-8fbc64180e40",
       "rows": [
        [
         "3",
         "carmela",
         "0.6759",
         "19"
        ],
        [
         "9",
         "wabad_augm_ps",
         "0.666",
         "19"
        ],
        [
         "10",
         "wabad_on_minor",
         "0.647",
         "19"
        ],
        [
         "4",
         "maurizio",
         "0.6373",
         "19"
        ],
        [
         "2",
         "augm_ts",
         "0.6338",
         "19"
        ],
        [
         "0",
         "augm_bn",
         "0.6335",
         "19"
        ],
        [
         "1",
         "augm_ps",
         "0.6316",
         "19"
        ],
        [
         "6",
         "original_200_best_snr",
         "0.629",
         "19"
        ],
        [
         "8",
         "wabad_all",
         "0.6199",
         "19"
        ],
        [
         "5",
         "original",
         "0.6167",
         "19"
        ],
        [
         "7",
         "test",
         "0.5661",
         "19"
        ]
       ],
       "shape": {
        "columns": 3,
        "rows": 11
       }
      },
      "text/html": [
       "<div>\n",
       "<style scoped>\n",
       "    .dataframe tbody tr th:only-of-type {\n",
       "        vertical-align: middle;\n",
       "    }\n",
       "\n",
       "    .dataframe tbody tr th {\n",
       "        vertical-align: top;\n",
       "    }\n",
       "\n",
       "    .dataframe thead th {\n",
       "        text-align: right;\n",
       "    }\n",
       "</style>\n",
       "<table border=\"1\" class=\"dataframe\">\n",
       "  <thead>\n",
       "    <tr style=\"text-align: right;\">\n",
       "      <th></th>\n",
       "      <th>Model Name</th>\n",
       "      <th>Mean AUC</th>\n",
       "      <th>Species Count</th>\n",
       "    </tr>\n",
       "  </thead>\n",
       "  <tbody>\n",
       "    <tr>\n",
       "      <th>3</th>\n",
       "      <td>carmela</td>\n",
       "      <td>0.6759</td>\n",
       "      <td>19</td>\n",
       "    </tr>\n",
       "    <tr>\n",
       "      <th>9</th>\n",
       "      <td>wabad_augm_ps</td>\n",
       "      <td>0.6660</td>\n",
       "      <td>19</td>\n",
       "    </tr>\n",
       "    <tr>\n",
       "      <th>10</th>\n",
       "      <td>wabad_on_minor</td>\n",
       "      <td>0.6470</td>\n",
       "      <td>19</td>\n",
       "    </tr>\n",
       "    <tr>\n",
       "      <th>4</th>\n",
       "      <td>maurizio</td>\n",
       "      <td>0.6373</td>\n",
       "      <td>19</td>\n",
       "    </tr>\n",
       "    <tr>\n",
       "      <th>2</th>\n",
       "      <td>augm_ts</td>\n",
       "      <td>0.6338</td>\n",
       "      <td>19</td>\n",
       "    </tr>\n",
       "    <tr>\n",
       "      <th>0</th>\n",
       "      <td>augm_bn</td>\n",
       "      <td>0.6335</td>\n",
       "      <td>19</td>\n",
       "    </tr>\n",
       "    <tr>\n",
       "      <th>1</th>\n",
       "      <td>augm_ps</td>\n",
       "      <td>0.6316</td>\n",
       "      <td>19</td>\n",
       "    </tr>\n",
       "    <tr>\n",
       "      <th>6</th>\n",
       "      <td>original_200_best_snr</td>\n",
       "      <td>0.6290</td>\n",
       "      <td>19</td>\n",
       "    </tr>\n",
       "    <tr>\n",
       "      <th>8</th>\n",
       "      <td>wabad_all</td>\n",
       "      <td>0.6199</td>\n",
       "      <td>19</td>\n",
       "    </tr>\n",
       "    <tr>\n",
       "      <th>5</th>\n",
       "      <td>original</td>\n",
       "      <td>0.6167</td>\n",
       "      <td>19</td>\n",
       "    </tr>\n",
       "    <tr>\n",
       "      <th>7</th>\n",
       "      <td>test</td>\n",
       "      <td>0.5661</td>\n",
       "      <td>19</td>\n",
       "    </tr>\n",
       "  </tbody>\n",
       "</table>\n",
       "</div>"
      ],
      "text/plain": [
       "               Model Name  Mean AUC  Species Count\n",
       "3                 carmela    0.6759             19\n",
       "9           wabad_augm_ps    0.6660             19\n",
       "10         wabad_on_minor    0.6470             19\n",
       "4                maurizio    0.6373             19\n",
       "2                 augm_ts    0.6338             19\n",
       "0                 augm_bn    0.6335             19\n",
       "1                 augm_ps    0.6316             19\n",
       "6   original_200_best_snr    0.6290             19\n",
       "8               wabad_all    0.6199             19\n",
       "5                original    0.6167             19\n",
       "7                    test    0.5661             19"
      ]
     },
     "execution_count": 140,
     "metadata": {},
     "output_type": "execute_result"
    }
   ],
   "source": [
    "roc_results = []\n",
    "for model_name, roc_data in roc_curves.items():\n",
    "    auc_values = [specie_data[\"auc\"] for specie_name, specie_data in roc_data.items() if specie_name in all_species]\n",
    "    mean_auc = sum(auc_values) / len(auc_values)\n",
    "    roc_results.append({\n",
    "        \"Model Name\": model_name,\n",
    "        \"Mean AUC\": round(mean_auc, 4),\n",
    "        \"Species Count\": len(auc_values)  # Numero di specie nel dataset\n",
    "    })\n",
    "\n",
    "# Creare DataFrame e salvare\n",
    "df_auc = pd.DataFrame(roc_results)\n",
    "df_auc.sort_values(\"Mean AUC\", ascending=False)"
   ]
  },
  {
   "cell_type": "markdown",
   "metadata": {},
   "source": [
    "# t-test on different models"
   ]
  },
  {
   "cell_type": "code",
   "execution_count": 141,
   "metadata": {},
   "outputs": [],
   "source": [
    "experiments = {}\n",
    "for model in comparable_models:\n",
    "    experiments[model] = {}\n",
    "    # experiments[model][\"roc\"] = roc_curves[model]\n",
    "    experiments[model][\"class_report\"] = classification_reports[model]"
   ]
  },
  {
   "cell_type": "code",
   "execution_count": 143,
   "metadata": {},
   "outputs": [],
   "source": [
    "# for each model, associate an array of f1 scores for each specie\n",
    "model_f1_scores = {}\n",
    "for model in comparable_models:\n",
    "    f1_scores = []\n",
    "    for specie in all_species:\n",
    "        if specie in classification_reports[model]:\n",
    "            f1_scores.append(classification_reports[model][specie][\"f1-score\"])\n",
    "        else:\n",
    "            f1_scores.append(0)\n",
    "    model_f1_scores[model] = f1_scores"
   ]
  },
  {
   "cell_type": "code",
   "execution_count": 144,
   "metadata": {},
   "outputs": [
    {
     "name": "stdout",
     "output_type": "stream",
     "text": [
      "augm_bn: p-value = 0.44466066360473633\n",
      "augm_ps: p-value = 0.6545271873474121\n",
      "augm_spec_append: p-value = 0.25400468707084656\n",
      "augm_ts: p-value = 0.7179412841796875\n",
      "carmela: p-value = 2.0672672690125182e-05\n",
      "maurizio: p-value = 0.5214508771896362\n",
      "original: p-value = 0.14595451951026917\n",
      "original_200_best_snr: p-value = 0.16596370935440063\n",
      "test: p-value = 0.0015042893355712295\n",
      "wabad_all: p-value = 0.32436469197273254\n",
      "wabad_augm_ps: p-value = 0.5286898016929626\n",
      "wabad_on_minor: p-value = 0.39520201086997986\n"
     ]
    }
   ],
   "source": [
    "# check normality, if p-value < 0.05 then the distribution is not normal\n",
    "from scipy.stats import shapiro\n",
    "\n",
    "for model, scores in model_f1_scores.items():\n",
    "    stat, p = shapiro(scores)\n",
    "    print(f\"{model}: p-value = {p}\")"
   ]
  },
  {
   "cell_type": "markdown",
   "metadata": {},
   "source": [
    "# Wilcoxin Test"
   ]
  },
  {
   "cell_type": "code",
   "execution_count": 145,
   "metadata": {},
   "outputs": [
    {
     "name": "stderr",
     "output_type": "stream",
     "text": [
      "c:\\Users\\giaco\\AppData\\Local\\Programs\\Python\\Python310\\lib\\site-packages\\scipy\\stats\\_morestats.py:3145: UserWarning: Exact p-value calculation does not work if there are ties. Switching to normal approximation.\n",
      "  warnings.warn(\"Exact p-value calculation does not work if there are \"\n"
     ]
    },
    {
     "data": {
      "application/vnd.microsoft.datawrangler.viewer.v0+json": {
       "columns": [
        {
         "name": "index",
         "rawType": "int64",
         "type": "integer"
        },
        {
         "name": "Model Name",
         "rawType": "object",
         "type": "string"
        },
        {
         "name": "t-statistic",
         "rawType": "float64",
         "type": "float"
        },
        {
         "name": "p-value",
         "rawType": "float64",
         "type": "float"
        },
        {
         "name": "Significativo?",
         "rawType": "object",
         "type": "string"
        }
       ],
       "conversionMethod": "pd.DataFrame",
       "ref": "bc1b7e7d-9da0-417e-bf14-110979050f18",
       "rows": [
        [
         "10",
         "wabad_on_minor",
         "26.0",
         "0.0299",
         "Sì"
        ],
        [
         "9",
         "wabad_augm_ps",
         "28.0",
         "0.0386",
         "Sì"
        ],
        [
         "0",
         "augm_bn",
         "21.0",
         "0.048",
         "Sì"
        ],
        [
         "8",
         "wabad_all",
         "23.0",
         "0.1159",
         "No"
        ],
        [
         "1",
         "augm_ps",
         "37.0",
         "0.1914",
         "No"
        ],
        [
         "7",
         "test",
         "56.0",
         "0.3318",
         "No"
        ],
        [
         "5",
         "maurizio",
         "48.0",
         "0.4955",
         "No"
        ],
        [
         "3",
         "augm_ts",
         "58.0",
         "0.6051",
         "No"
        ],
        [
         "4",
         "carmela",
         "63.0",
         "0.796",
         "No"
        ],
        [
         "2",
         "augm_spec_append",
         "51.0",
         "0.925",
         "No"
        ],
        [
         "6",
         "original_200_best_snr",
         "51.0",
         "0.925",
         "No"
        ]
       ],
       "shape": {
        "columns": 4,
        "rows": 11
       }
      },
      "text/html": [
       "<div>\n",
       "<style scoped>\n",
       "    .dataframe tbody tr th:only-of-type {\n",
       "        vertical-align: middle;\n",
       "    }\n",
       "\n",
       "    .dataframe tbody tr th {\n",
       "        vertical-align: top;\n",
       "    }\n",
       "\n",
       "    .dataframe thead th {\n",
       "        text-align: right;\n",
       "    }\n",
       "</style>\n",
       "<table border=\"1\" class=\"dataframe\">\n",
       "  <thead>\n",
       "    <tr style=\"text-align: right;\">\n",
       "      <th></th>\n",
       "      <th>Model Name</th>\n",
       "      <th>t-statistic</th>\n",
       "      <th>p-value</th>\n",
       "      <th>Significativo?</th>\n",
       "    </tr>\n",
       "  </thead>\n",
       "  <tbody>\n",
       "    <tr>\n",
       "      <th>10</th>\n",
       "      <td>wabad_on_minor</td>\n",
       "      <td>26.0</td>\n",
       "      <td>0.0299</td>\n",
       "      <td>Sì</td>\n",
       "    </tr>\n",
       "    <tr>\n",
       "      <th>9</th>\n",
       "      <td>wabad_augm_ps</td>\n",
       "      <td>28.0</td>\n",
       "      <td>0.0386</td>\n",
       "      <td>Sì</td>\n",
       "    </tr>\n",
       "    <tr>\n",
       "      <th>0</th>\n",
       "      <td>augm_bn</td>\n",
       "      <td>21.0</td>\n",
       "      <td>0.0480</td>\n",
       "      <td>Sì</td>\n",
       "    </tr>\n",
       "    <tr>\n",
       "      <th>8</th>\n",
       "      <td>wabad_all</td>\n",
       "      <td>23.0</td>\n",
       "      <td>0.1159</td>\n",
       "      <td>No</td>\n",
       "    </tr>\n",
       "    <tr>\n",
       "      <th>1</th>\n",
       "      <td>augm_ps</td>\n",
       "      <td>37.0</td>\n",
       "      <td>0.1914</td>\n",
       "      <td>No</td>\n",
       "    </tr>\n",
       "    <tr>\n",
       "      <th>7</th>\n",
       "      <td>test</td>\n",
       "      <td>56.0</td>\n",
       "      <td>0.3318</td>\n",
       "      <td>No</td>\n",
       "    </tr>\n",
       "    <tr>\n",
       "      <th>5</th>\n",
       "      <td>maurizio</td>\n",
       "      <td>48.0</td>\n",
       "      <td>0.4955</td>\n",
       "      <td>No</td>\n",
       "    </tr>\n",
       "    <tr>\n",
       "      <th>3</th>\n",
       "      <td>augm_ts</td>\n",
       "      <td>58.0</td>\n",
       "      <td>0.6051</td>\n",
       "      <td>No</td>\n",
       "    </tr>\n",
       "    <tr>\n",
       "      <th>4</th>\n",
       "      <td>carmela</td>\n",
       "      <td>63.0</td>\n",
       "      <td>0.7960</td>\n",
       "      <td>No</td>\n",
       "    </tr>\n",
       "    <tr>\n",
       "      <th>2</th>\n",
       "      <td>augm_spec_append</td>\n",
       "      <td>51.0</td>\n",
       "      <td>0.9250</td>\n",
       "      <td>No</td>\n",
       "    </tr>\n",
       "    <tr>\n",
       "      <th>6</th>\n",
       "      <td>original_200_best_snr</td>\n",
       "      <td>51.0</td>\n",
       "      <td>0.9250</td>\n",
       "      <td>No</td>\n",
       "    </tr>\n",
       "  </tbody>\n",
       "</table>\n",
       "</div>"
      ],
      "text/plain": [
       "               Model Name  t-statistic  p-value Significativo?\n",
       "10         wabad_on_minor         26.0   0.0299             Sì\n",
       "9           wabad_augm_ps         28.0   0.0386             Sì\n",
       "0                 augm_bn         21.0   0.0480             Sì\n",
       "8               wabad_all         23.0   0.1159             No\n",
       "1                 augm_ps         37.0   0.1914             No\n",
       "7                    test         56.0   0.3318             No\n",
       "5                maurizio         48.0   0.4955             No\n",
       "3                 augm_ts         58.0   0.6051             No\n",
       "4                 carmela         63.0   0.7960             No\n",
       "2        augm_spec_append         51.0   0.9250             No\n",
       "6   original_200_best_snr         51.0   0.9250             No"
      ]
     },
     "execution_count": 145,
     "metadata": {},
     "output_type": "execute_result"
    }
   ],
   "source": [
    "import numpy as np\n",
    "from scipy.stats import wilcoxon\n",
    "\n",
    "wilcoxon_results = []\n",
    "base_model_name = \"original\"\n",
    "for model_name in models_to_compare:\n",
    "    if model_name == base_model_name:\n",
    "        continue\n",
    "    \n",
    "    f1_model_A = model_f1_scores[base_model_name]\n",
    "    f1_model_B = model_f1_scores[model_name]\n",
    "    t_stat, p_value = wilcoxon(f1_model_A, f1_model_B)\n",
    "\n",
    "    wilcoxon_results.append({\n",
    "        \"Model Name\": model_name,\n",
    "        \"t-statistic\": round(t_stat, 4),\n",
    "        \"p-value\": round(p_value, 4),\n",
    "        \"Significativo?\": \"Sì\" if p_value < 0.05 else \"No\"\n",
    "    })\n",
    "\n",
    "# Crea DataFrame e salva\n",
    "df_ttest = pd.DataFrame(wilcoxon_results)\n",
    "df_ttest.sort_values(\"p-value\")"
   ]
  },
  {
   "cell_type": "code",
   "execution_count": 146,
   "metadata": {},
   "outputs": [
    {
     "data": {
      "application/vnd.microsoft.datawrangler.viewer.v0+json": {
       "columns": [
        {
         "name": "index",
         "rawType": "int64",
         "type": "integer"
        },
        {
         "name": "Model Name",
         "rawType": "object",
         "type": "string"
        },
        {
         "name": "t-statistic",
         "rawType": "float64",
         "type": "float"
        },
        {
         "name": "p-value",
         "rawType": "float64",
         "type": "float"
        },
        {
         "name": "Significativo?",
         "rawType": "object",
         "type": "string"
        }
       ],
       "conversionMethod": "pd.DataFrame",
       "ref": "d0b4cf29-1da5-40f7-9510-7b8eb134c5c1",
       "rows": [
        [
         "10",
         "wabad_on_minor",
         "-1.299",
         "0.2023",
         "No"
        ],
        [
         "9",
         "wabad_augm_ps",
         "-1.2673",
         "0.2133",
         "No"
        ],
        [
         "7",
         "test",
         "0.9222",
         "0.3627",
         "No"
        ],
        [
         "3",
         "augm_ts",
         "-0.6014",
         "0.5514",
         "No"
        ],
        [
         "1",
         "augm_ps",
         "-0.5778",
         "0.567",
         "No"
        ],
        [
         "0",
         "augm_bn",
         "-0.564",
         "0.5763",
         "No"
        ],
        [
         "4",
         "carmela",
         "0.458",
         "0.6502",
         "No"
        ],
        [
         "8",
         "wabad_all",
         "-0.3734",
         "0.7111",
         "No"
        ],
        [
         "6",
         "original_200_best_snr",
         "0.3666",
         "0.7161",
         "No"
        ],
        [
         "5",
         "maurizio",
         "-0.1006",
         "0.9204",
         "No"
        ],
        [
         "2",
         "augm_spec_append",
         "0.0865",
         "0.9315",
         "No"
        ]
       ],
       "shape": {
        "columns": 4,
        "rows": 11
       }
      },
      "text/html": [
       "<div>\n",
       "<style scoped>\n",
       "    .dataframe tbody tr th:only-of-type {\n",
       "        vertical-align: middle;\n",
       "    }\n",
       "\n",
       "    .dataframe tbody tr th {\n",
       "        vertical-align: top;\n",
       "    }\n",
       "\n",
       "    .dataframe thead th {\n",
       "        text-align: right;\n",
       "    }\n",
       "</style>\n",
       "<table border=\"1\" class=\"dataframe\">\n",
       "  <thead>\n",
       "    <tr style=\"text-align: right;\">\n",
       "      <th></th>\n",
       "      <th>Model Name</th>\n",
       "      <th>t-statistic</th>\n",
       "      <th>p-value</th>\n",
       "      <th>Significativo?</th>\n",
       "    </tr>\n",
       "  </thead>\n",
       "  <tbody>\n",
       "    <tr>\n",
       "      <th>10</th>\n",
       "      <td>wabad_on_minor</td>\n",
       "      <td>-1.2990</td>\n",
       "      <td>0.2023</td>\n",
       "      <td>No</td>\n",
       "    </tr>\n",
       "    <tr>\n",
       "      <th>9</th>\n",
       "      <td>wabad_augm_ps</td>\n",
       "      <td>-1.2673</td>\n",
       "      <td>0.2133</td>\n",
       "      <td>No</td>\n",
       "    </tr>\n",
       "    <tr>\n",
       "      <th>7</th>\n",
       "      <td>test</td>\n",
       "      <td>0.9222</td>\n",
       "      <td>0.3627</td>\n",
       "      <td>No</td>\n",
       "    </tr>\n",
       "    <tr>\n",
       "      <th>3</th>\n",
       "      <td>augm_ts</td>\n",
       "      <td>-0.6014</td>\n",
       "      <td>0.5514</td>\n",
       "      <td>No</td>\n",
       "    </tr>\n",
       "    <tr>\n",
       "      <th>1</th>\n",
       "      <td>augm_ps</td>\n",
       "      <td>-0.5778</td>\n",
       "      <td>0.5670</td>\n",
       "      <td>No</td>\n",
       "    </tr>\n",
       "    <tr>\n",
       "      <th>0</th>\n",
       "      <td>augm_bn</td>\n",
       "      <td>-0.5640</td>\n",
       "      <td>0.5763</td>\n",
       "      <td>No</td>\n",
       "    </tr>\n",
       "    <tr>\n",
       "      <th>4</th>\n",
       "      <td>carmela</td>\n",
       "      <td>0.4580</td>\n",
       "      <td>0.6502</td>\n",
       "      <td>No</td>\n",
       "    </tr>\n",
       "    <tr>\n",
       "      <th>8</th>\n",
       "      <td>wabad_all</td>\n",
       "      <td>-0.3734</td>\n",
       "      <td>0.7111</td>\n",
       "      <td>No</td>\n",
       "    </tr>\n",
       "    <tr>\n",
       "      <th>6</th>\n",
       "      <td>original_200_best_snr</td>\n",
       "      <td>0.3666</td>\n",
       "      <td>0.7161</td>\n",
       "      <td>No</td>\n",
       "    </tr>\n",
       "    <tr>\n",
       "      <th>5</th>\n",
       "      <td>maurizio</td>\n",
       "      <td>-0.1006</td>\n",
       "      <td>0.9204</td>\n",
       "      <td>No</td>\n",
       "    </tr>\n",
       "    <tr>\n",
       "      <th>2</th>\n",
       "      <td>augm_spec_append</td>\n",
       "      <td>0.0865</td>\n",
       "      <td>0.9315</td>\n",
       "      <td>No</td>\n",
       "    </tr>\n",
       "  </tbody>\n",
       "</table>\n",
       "</div>"
      ],
      "text/plain": [
       "               Model Name  t-statistic  p-value Significativo?\n",
       "10         wabad_on_minor      -1.2990   0.2023             No\n",
       "9           wabad_augm_ps      -1.2673   0.2133             No\n",
       "7                    test       0.9222   0.3627             No\n",
       "3                 augm_ts      -0.6014   0.5514             No\n",
       "1                 augm_ps      -0.5778   0.5670             No\n",
       "0                 augm_bn      -0.5640   0.5763             No\n",
       "4                 carmela       0.4580   0.6502             No\n",
       "8               wabad_all      -0.3734   0.7111             No\n",
       "6   original_200_best_snr       0.3666   0.7161             No\n",
       "5                maurizio      -0.1006   0.9204             No\n",
       "2        augm_spec_append       0.0865   0.9315             No"
      ]
     },
     "execution_count": 146,
     "metadata": {},
     "output_type": "execute_result"
    }
   ],
   "source": [
    "from scipy.stats import ttest_ind\n",
    "\n",
    "t_test_results = []\n",
    "base_model_name = \"original\"\n",
    "for model_name in models_to_compare:\n",
    "    if model_name == base_model_name:\n",
    "        continue\n",
    "    \n",
    "    base_model = model_f1_scores[base_model_name]\n",
    "    other_model = model_f1_scores[model_name]\n",
    "    t_stat, p_value = ttest_ind(base_model, other_model, equal_var=False)\n",
    "\n",
    "    # Salva i risultati\n",
    "    t_test_results.append({\n",
    "        \"Model Name\": model_name,\n",
    "        \"t-statistic\": round(t_stat, 4),\n",
    "        \"p-value\": round(p_value, 4),\n",
    "        \"Significativo?\": \"Sì\" if p_value < 0.05 else \"No\"\n",
    "    })\n",
    "\n",
    "# Crea DataFrame e salva\n",
    "df_ttest = pd.DataFrame(t_test_results)\n",
    "df_ttest.sort_values(\"p-value\")"
   ]
  },
  {
   "cell_type": "code",
   "execution_count": 147,
   "metadata": {},
   "outputs": [
    {
     "name": "stdout",
     "output_type": "stream",
     "text": [
      "Intervallo di confidenza 95% per F1-score: ConfidenceInterval(low=0.09536662168241117, high=0.4045798337391486)\n"
     ]
    }
   ],
   "source": [
    "from scipy.stats import bootstrap\n",
    "\n",
    "n_resamples = 10000  \n",
    "\n",
    "# Bootstrap con metodo BCA (bias-corrected and accelerated)\n",
    "ci = bootstrap((model_f1_scores[\"carmela\"],), np.mean, confidence_level=0.95, n_resamples=n_resamples, method='BCa')\n",
    "\n",
    "# Output intervallo di confidenza\n",
    "print(f\"Intervallo di confidenza 95% per F1-score: {ci.confidence_interval}\")"
   ]
  }
 ],
 "metadata": {
  "kernelspec": {
   "display_name": "Python 3",
   "language": "python",
   "name": "python3"
  },
  "language_info": {
   "codemirror_mode": {
    "name": "ipython",
    "version": 3
   },
   "file_extension": ".py",
   "mimetype": "text/x-python",
   "name": "python",
   "nbconvert_exporter": "python",
   "pygments_lexer": "ipython3",
   "version": "3.10.0"
  }
 },
 "nbformat": 4,
 "nbformat_minor": 2
}
