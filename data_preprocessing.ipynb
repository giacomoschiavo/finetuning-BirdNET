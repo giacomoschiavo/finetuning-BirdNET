{
 "cells": [
  {
   "cell_type": "markdown",
   "metadata": {},
   "source": [
    "# Data Preprocessing"
   ]
  },
  {
   "cell_type": "code",
   "execution_count": 34,
   "metadata": {},
   "outputs": [],
   "source": [
    "import scipy.io\n",
    "import numpy as np\n",
    "import matplotlib.pyplot as plt\n",
    "import math\n",
    "import os\n",
    "from pydub import AudioSegment\n",
    "import numpy as np\n",
    "import json\n",
    "from tqdm import tqdm\n",
    "import pandas as pd\n",
    "import seaborn as sns"
   ]
  },
  {
   "cell_type": "markdown",
   "metadata": {},
   "source": [
    "# Species Dict\n",
    "Create a dictionary to map the scientific name of a species to its common name"
   ]
  },
  {
   "cell_type": "code",
   "execution_count": 35,
   "metadata": {},
   "outputs": [
    {
     "data": {
      "text/plain": [
       "['Abroscopus albogularis_Rufous-faced Warbler',\n",
       " 'Abroscopus schisticeps_Black-faced Warbler',\n",
       " 'Abroscopus superciliaris_Yellow-bellied Warbler',\n",
       " 'Aburria aburri_Wattled Guan',\n",
       " 'Acanthagenys rufogularis_Spiny-cheeked Honeyeater']"
      ]
     },
     "execution_count": 35,
     "metadata": {},
     "output_type": "execute_result"
    }
   ],
   "source": [
    "from pathlib import Path\n",
    "\n",
    "all_species = Path(\"utils/BirdNET_GLOBAL_6K_V2.4_Labels_en_uk.txt\").read_text(encoding=\"utf-8\").splitlines()\n",
    "all_species[:5]"
   ]
  },
  {
   "cell_type": "code",
   "execution_count": 36,
   "metadata": {},
   "outputs": [
    {
     "data": {
      "text/plain": [
       "'Rufous-faced Warbler'"
      ]
     },
     "execution_count": 36,
     "metadata": {},
     "output_type": "execute_result"
    }
   ],
   "source": [
    "# maps every scientific name to its common name\n",
    "species_dict = {}\n",
    "for specie in all_species:\n",
    "    scientific_name, common_name = specie.split(\"_\")    # <Abroscopus albogularis>_<Rufous-faced Warbler>\n",
    "    species_dict[scientific_name] = common_name\n",
    "\n",
    "species_dict[\"Abroscopus albogularis\"]"
   ]
  },
  {
   "cell_type": "code",
   "execution_count": 37,
   "metadata": {},
   "outputs": [],
   "source": [
    "# export species_dict to json\n",
    "# with open('utils/species_dict_map.json', 'w') as f:\n",
    "#     json.dump(species_dict, f)"
   ]
  },
  {
   "cell_type": "markdown",
   "metadata": {},
   "source": [
    "# Category and Audio info files\n",
    "This files are precious as they represent the information about every category and every audio "
   ]
  },
  {
   "cell_type": "code",
   "execution_count": 38,
   "metadata": {},
   "outputs": [
    {
     "name": "stdout",
     "output_type": "stream",
     "text": [
      "0 ['Fringilla_coelebs']\n",
      "1 ['20190601_030000.WAV']\n",
      "2 [[ 6.47588832  1.63324873  1.63324873  6.47588832 15.42014847 17.89657331]]\n",
      "3 [[15.42014847  6.47588832]\n",
      " [15.42014847  1.63324873]\n",
      " [17.89657331  1.63324873]\n",
      " [17.89657331  6.47588832]\n",
      " [15.42014847  6.47588832]]\n",
      "4 [[2]]\n"
     ]
    }
   ],
   "source": [
    "# extract annotations from the given file\n",
    "bird_tags = scipy.io.loadmat('Bird_tags_Test.mat')[\"Bird_tags\"] \n",
    "# visualize an example, showing all the properties\n",
    "for i, prop in enumerate(bird_tags[12][0][0][0]):\n",
    "    print(i, prop)"
   ]
  },
  {
   "cell_type": "markdown",
   "metadata": {},
   "source": [
    "+ **Category Info**: group segments by its category\n",
    "+ **Audio Info**: group segments by its original audio"
   ]
  },
  {
   "cell_type": "code",
   "execution_count": 39,
   "metadata": {},
   "outputs": [],
   "source": [
    "def get_audio_category_info(bird_tags_filepath, out_category_info=\"utils/category_info.json\", out_audio_info=\"utils/audio_info.json\", audio_path=\"E:/Giacomo/Tovanella/Tovanella\"):\n",
    "    bird_tags = scipy.io.loadmat(bird_tags_filepath)[\"Bird_tags\"]\n",
    "    category_info = {}      # detections grouped by category\n",
    "    audio_info = {}         # detections grouped by audio\n",
    "    for elem in bird_tags:\n",
    "        # get <scientific name>_<common name> format \n",
    "        tag = elem[0][0][0][0][0]\n",
    "        scientific_name = tag.replace(\"_\", \" \")                 # Fringilla coelebs -> Fringilla coelebs\n",
    "        common_name = species_dict.get(scientific_name, \"\")     # Fringilla coelebs -> Common Chaffinch\n",
    "        label = \"_\".join([scientific_name, common_name])        # Fringilla coelebs_Common Chaffinch\n",
    "        # get source file\n",
    "        file_name = elem[0][0][0][1][0]\n",
    "        file_path = os.path.join(audio_path, file_name)\n",
    "        # duration calculation\n",
    "        start_time, end_time = np.array(elem[0][0][0][2]).flatten()[-2:]\n",
    "        duration = end_time - start_time\n",
    "        # do not store info if file do not exist\n",
    "        if not os.path.exists(file_path):   \n",
    "            continue\n",
    "        # save in dictionaries\n",
    "        if label not in category_info:\n",
    "            category_info[label] = []\n",
    "        if file_name not in audio_info:\n",
    "            audio_info[file_name] = []\n",
    "        category_info[label].append({ \"file_name\": file_name, \"start_time\": start_time, \"duration\": duration, \"label\": label  })\n",
    "        audio_info[file_name].append({ \"scientific_name\": scientific_name, \"common_name\": common_name, \"start_time\": start_time, \"duration\": duration, \"label\": label })\n",
    "    return category_info, audio_info\n"
   ]
  },
  {
   "cell_type": "code",
   "execution_count": 40,
   "metadata": {},
   "outputs": [],
   "source": [
    "category_info_test, audio_info_test = get_audio_category_info(\"Bird_tags_Test.mat\")\n",
    "\n",
    "# with open(\"utils/category_info_test.json\", \"w\") as f:\n",
    "#     json.dump(category_info_test, f)\n",
    "# with open(\"utils/audio_info_test.json\", \"w\") as f:\n",
    "#     json.dump(audio_info_test, f)"
   ]
  },
  {
   "cell_type": "code",
   "execution_count": 41,
   "metadata": {},
   "outputs": [],
   "source": [
    "# category_info, audio_info = get_audio_category_info(\"Bird_tags_Train.mat\")\n",
    "category_info, audio_info = get_audio_category_info(\"Bird_tags_Train.mat\")\n",
    "\n",
    "# with open(\"utils/category_info.json\", \"w\") as f:\n",
    "#     json.dump(category_info, f)\n",
    "# with open(\"utils/audio_info.json\", \"w\") as f:\n",
    "#     json.dump(audio_info, f)"
   ]
  },
  {
   "cell_type": "code",
   "execution_count": 42,
   "metadata": {},
   "outputs": [],
   "source": [
    "# creates species list\n",
    "species_list = category_info.keys()"
   ]
  },
  {
   "cell_type": "markdown",
   "metadata": {},
   "source": [
    "# Segments Creation\n",
    "Creates all the segments listed in Category Info"
   ]
  },
  {
   "cell_type": "code",
   "execution_count": 43,
   "metadata": {},
   "outputs": [],
   "source": [
    "def generate_segments(target_path, audio_source_path, category_info, generate=False): \n",
    "    true_segments = {}\n",
    "    # target_path = \"E:/Giacomo/Tovanella/wabad_segments\"\n",
    "    # audio_source_path = \"E:/Giacomo/Tovanella/WABAD/\"\n",
    "    species_list = category_info.keys()\n",
    "    categories = list(species_list)\n",
    "    for j, category in enumerate(categories):\n",
    "        all_category_audio = category_info[category][:500]  # limit to 500 annotations\n",
    "        total_length = len(all_category_audio)\n",
    "        print(f\"Loading {category} category... {j}/{len(categories)}\")\n",
    "        for i in tqdm(range(total_length)):\n",
    "            audio_path = all_category_audio[i][\"file_name\"] # ex. BIAL_20210420_051500.WAV\n",
    "            file_name, wav = audio_path.split('.')\n",
    "            site = file_name.split('_')[0]\n",
    "            start_time = all_category_audio[i][\"start_time\"]\n",
    "            duration = all_category_audio[i][\"duration\"]\n",
    "            start_times = []\n",
    "            start_segms = []\n",
    "            start_segm = int(start_time // 3)\n",
    "            if duration < 1:    # ignore\n",
    "                continue\n",
    "            elif duration < 3:  # add contextual audio\n",
    "                remaining_time = 3.0 - duration\n",
    "                start_times.append(start_time - remaining_time / 2)\n",
    "                start_segms.append(start_segm) \n",
    "            elif duration >= 3 and duration < 4:\n",
    "                start_times.extend([start_time, max(start_time - 1.5, 0), start_time + 1.5])\n",
    "                start_segms.extend([start_segm, max(start_segm - 1, 0), start_segm + 1]) \n",
    "            elif duration >= 4 and duration < 6:\n",
    "                start_times.extend([start_time, max(start_time - 1.5, 0), start_time + 3])\n",
    "                start_segms.extend([start_segm, max(start_segm - 1, 0), start_segm + 1]) \n",
    "            elif duration >= 6:\n",
    "                start_times.extend([max(start_time - 1.5, 0)])\n",
    "                start_segms.extend([max(start_segm - 1, 0)]) \n",
    "                num_full_segm = int(duration // 3)\n",
    "                start_times.extend([start_time + i * 3.0 for i in range(num_full_segm)])\n",
    "                start_segms.extend([start_segm + i for i in range(num_full_segm)]) \n",
    "                remaining_time = duration - 3.0 * num_full_segm\n",
    "                if remaining_time >= 1:\n",
    "                    start_times.extend([start_time + 3.0 * num_full_segm])\n",
    "                    start_segms.extend([start_segm + num_full_segm]) \n",
    "\n",
    "            # print(start_times, start_segms)\n",
    "            if audio_path not in true_segments:\n",
    "                true_segments[audio_path] = {}\n",
    "            for segm in start_segms:\n",
    "                if segm not in true_segments[audio_path]:\n",
    "                    true_segments[audio_path][segm] = []\n",
    "                true_segments[audio_path][segm].extend([category])\n",
    "            # \"E:\\\\Giacomo\\\\Tovanella-20241110T120546Z-001\\\\WABAD\\\\BAM\\\\BAM\\\\Recordings\"\n",
    "\n",
    "            if generate:\n",
    "                audio = AudioSegment.from_file(os.path.join(\n",
    "                    audio_source_path, site, site, \"Recordings\", audio_path), \n",
    "                    format=\"wav\"\n",
    "                )\n",
    "                for i, start_time in enumerate(start_times):\n",
    "                    export_path = os.path.join(\n",
    "                        target_path,\n",
    "                        category, \n",
    "                        f\"{file_name}_{start_segms[i]}.wav\"\n",
    "                    )\n",
    "                    if os.path.exists(export_path):\n",
    "                        continue\n",
    "                    segment = audio[start_time*1000:start_time*1000 + 3000]\n",
    "                    os.makedirs(os.path.join(target_path, category), exist_ok=True)\n",
    "                    segment.export(export_path, format=\"wav\")\n",
    "    return true_segments"
   ]
  },
  {
   "cell_type": "code",
   "execution_count": 44,
   "metadata": {},
   "outputs": [
    {
     "name": "stdout",
     "output_type": "stream",
     "text": [
      "Loading Wind_ category... 0/31\n"
     ]
    },
    {
     "name": "stderr",
     "output_type": "stream",
     "text": [
      "100%|██████████| 92/92 [00:00<?, ?it/s]\n"
     ]
    },
    {
     "name": "stdout",
     "output_type": "stream",
     "text": [
      "Loading Regulus ignicapilla_Common Firecrest category... 1/31\n"
     ]
    },
    {
     "name": "stderr",
     "output_type": "stream",
     "text": [
      "100%|██████████| 500/500 [00:00<?, ?it/s]\n"
     ]
    },
    {
     "name": "stdout",
     "output_type": "stream",
     "text": [
      "Loading Sylvia atricapilla_Eurasian Blackcap category... 2/31\n"
     ]
    },
    {
     "name": "stderr",
     "output_type": "stream",
     "text": [
      "100%|██████████| 500/500 [00:00<?, ?it/s]\n"
     ]
    },
    {
     "name": "stdout",
     "output_type": "stream",
     "text": [
      "Loading Fringilla coelebs_Common Chaffinch category... 3/31\n"
     ]
    },
    {
     "name": "stderr",
     "output_type": "stream",
     "text": [
      "100%|██████████| 500/500 [00:00<?, ?it/s]\n"
     ]
    },
    {
     "name": "stdout",
     "output_type": "stream",
     "text": [
      "Loading Troglodytes troglodytes_Eurasian Wren category... 4/31\n"
     ]
    },
    {
     "name": "stderr",
     "output_type": "stream",
     "text": [
      "100%|██████████| 249/249 [00:00<00:00, 140923.18it/s]\n"
     ]
    },
    {
     "name": "stdout",
     "output_type": "stream",
     "text": [
      "Loading Muscicapa striata_Spotted Flycatcher category... 5/31\n"
     ]
    },
    {
     "name": "stderr",
     "output_type": "stream",
     "text": [
      "100%|██████████| 76/76 [00:00<?, ?it/s]\n"
     ]
    },
    {
     "name": "stdout",
     "output_type": "stream",
     "text": [
      "Loading Phylloscopus collybita_Common Chiffchaff category... 6/31\n"
     ]
    },
    {
     "name": "stderr",
     "output_type": "stream",
     "text": [
      "100%|██████████| 488/488 [00:00<?, ?it/s]\n"
     ]
    },
    {
     "name": "stdout",
     "output_type": "stream",
     "text": [
      "Loading Turdus viscivorus_Mistle Thrush category... 7/31\n"
     ]
    },
    {
     "name": "stderr",
     "output_type": "stream",
     "text": [
      "100%|██████████| 23/23 [00:00<?, ?it/s]\n"
     ]
    },
    {
     "name": "stdout",
     "output_type": "stream",
     "text": [
      "Loading Glaucidium passerinum_Eurasian Pygmy-Owl category... 8/31\n"
     ]
    },
    {
     "name": "stderr",
     "output_type": "stream",
     "text": [
      "100%|██████████| 6/6 [00:00<?, ?it/s]\n"
     ]
    },
    {
     "name": "stdout",
     "output_type": "stream",
     "text": [
      "Loading Pyrrhula pyrrhula_Eurasian Bullfinch category... 9/31\n"
     ]
    },
    {
     "name": "stderr",
     "output_type": "stream",
     "text": [
      "100%|██████████| 23/23 [00:00<?, ?it/s]\n"
     ]
    },
    {
     "name": "stdout",
     "output_type": "stream",
     "text": [
      "Loading Pecking_ category... 10/31\n"
     ]
    },
    {
     "name": "stderr",
     "output_type": "stream",
     "text": [
      "100%|██████████| 34/34 [00:00<?, ?it/s]\n"
     ]
    },
    {
     "name": "stdout",
     "output_type": "stream",
     "text": [
      "Loading Periparus ater_Coal Tit category... 11/31\n"
     ]
    },
    {
     "name": "stderr",
     "output_type": "stream",
     "text": [
      "100%|██████████| 199/199 [00:00<?, ?it/s]\n"
     ]
    },
    {
     "name": "stdout",
     "output_type": "stream",
     "text": [
      "Loading Prunella modularis_Dunnock category... 12/31\n"
     ]
    },
    {
     "name": "stderr",
     "output_type": "stream",
     "text": [
      "100%|██████████| 1/1 [00:00<?, ?it/s]\n"
     ]
    },
    {
     "name": "stdout",
     "output_type": "stream",
     "text": [
      "Loading Lophophanes cristatus_Crested Tit category... 13/31\n"
     ]
    },
    {
     "name": "stderr",
     "output_type": "stream",
     "text": [
      "100%|██████████| 48/48 [00:00<00:00, 48026.38it/s]\n"
     ]
    },
    {
     "name": "stdout",
     "output_type": "stream",
     "text": [
      "Loading Regulus regulus_Goldcrest category... 14/31\n"
     ]
    },
    {
     "name": "stderr",
     "output_type": "stream",
     "text": [
      "100%|██████████| 350/350 [00:00<00:00, 254024.29it/s]\n"
     ]
    },
    {
     "name": "stdout",
     "output_type": "stream",
     "text": [
      "Loading Insect_ category... 15/31\n"
     ]
    },
    {
     "name": "stderr",
     "output_type": "stream",
     "text": [
      "100%|██████████| 4/4 [00:00<?, ?it/s]\n"
     ]
    },
    {
     "name": "stdout",
     "output_type": "stream",
     "text": [
      "Loading Aeroplane_ category... 16/31\n"
     ]
    },
    {
     "name": "stderr",
     "output_type": "stream",
     "text": [
      "100%|██████████| 3/3 [00:00<?, ?it/s]\n"
     ]
    },
    {
     "name": "stdout",
     "output_type": "stream",
     "text": [
      "Loading Vegetation_ category... 17/31\n"
     ]
    },
    {
     "name": "stderr",
     "output_type": "stream",
     "text": [
      "100%|██████████| 62/62 [00:00<?, ?it/s]\n"
     ]
    },
    {
     "name": "stdout",
     "output_type": "stream",
     "text": [
      "Loading Rain_ category... 18/31\n"
     ]
    },
    {
     "name": "stderr",
     "output_type": "stream",
     "text": [
      "100%|██████████| 34/34 [00:00<?, ?it/s]\n"
     ]
    },
    {
     "name": "stdout",
     "output_type": "stream",
     "text": [
      "Loading Turdus merula_Eurasian Blackbird category... 19/31\n"
     ]
    },
    {
     "name": "stderr",
     "output_type": "stream",
     "text": [
      "100%|██████████| 53/53 [00:00<?, ?it/s]\n"
     ]
    },
    {
     "name": "stdout",
     "output_type": "stream",
     "text": [
      "Loading Certhia familiaris_Eurasian Treecreeper category... 20/31\n"
     ]
    },
    {
     "name": "stderr",
     "output_type": "stream",
     "text": [
      "100%|██████████| 118/118 [00:00<?, ?it/s]\n"
     ]
    },
    {
     "name": "stdout",
     "output_type": "stream",
     "text": [
      "Loading Erithacus rubecula_European Robin category... 21/31\n"
     ]
    },
    {
     "name": "stderr",
     "output_type": "stream",
     "text": [
      "100%|██████████| 500/500 [00:00<?, ?it/s]\n"
     ]
    },
    {
     "name": "stdout",
     "output_type": "stream",
     "text": [
      "Loading Turdus philomelos_Song Thrush category... 22/31\n"
     ]
    },
    {
     "name": "stderr",
     "output_type": "stream",
     "text": [
      "100%|██████████| 500/500 [00:00<?, ?it/s]\n"
     ]
    },
    {
     "name": "stdout",
     "output_type": "stream",
     "text": [
      "Loading Bat_ category... 23/31\n"
     ]
    },
    {
     "name": "stderr",
     "output_type": "stream",
     "text": [
      "100%|██████████| 1/1 [00:00<?, ?it/s]\n"
     ]
    },
    {
     "name": "stdout",
     "output_type": "stream",
     "text": [
      "Loading Loxia curvirostra_Common Crossbill category... 24/31\n"
     ]
    },
    {
     "name": "stderr",
     "output_type": "stream",
     "text": [
      "100%|██████████| 39/39 [00:00<00:00, 38947.11it/s]\n"
     ]
    },
    {
     "name": "stdout",
     "output_type": "stream",
     "text": [
      "Loading Dendrocopos major_Great Spotted Woodpecker category... 25/31\n"
     ]
    },
    {
     "name": "stderr",
     "output_type": "stream",
     "text": [
      "100%|██████████| 42/42 [00:00<?, ?it/s]\n"
     ]
    },
    {
     "name": "stdout",
     "output_type": "stream",
     "text": [
      "Loading Dryocopus martius_Black Woodpecker category... 26/31\n"
     ]
    },
    {
     "name": "stderr",
     "output_type": "stream",
     "text": [
      "100%|██████████| 28/28 [00:00<?, ?it/s]\n"
     ]
    },
    {
     "name": "stdout",
     "output_type": "stream",
     "text": [
      "Loading Phylloscopus trochilus_Willow Warbler category... 27/31\n"
     ]
    },
    {
     "name": "stderr",
     "output_type": "stream",
     "text": [
      "100%|██████████| 3/3 [00:00<?, ?it/s]\n"
     ]
    },
    {
     "name": "stdout",
     "output_type": "stream",
     "text": [
      "Loading Spinus spinus_Eurasian Siskin category... 28/31\n"
     ]
    },
    {
     "name": "stderr",
     "output_type": "stream",
     "text": [
      "100%|██████████| 5/5 [00:00<?, ?it/s]\n"
     ]
    },
    {
     "name": "stdout",
     "output_type": "stream",
     "text": [
      "Loading Poecile palustris_Marsh Tit category... 29/31\n"
     ]
    },
    {
     "name": "stderr",
     "output_type": "stream",
     "text": [
      "100%|██████████| 1/1 [00:00<?, ?it/s]\n"
     ]
    },
    {
     "name": "stdout",
     "output_type": "stream",
     "text": [
      "Loading unknown_ category... 30/31\n"
     ]
    },
    {
     "name": "stderr",
     "output_type": "stream",
     "text": [
      "100%|██████████| 3/3 [00:00<?, ?it/s]\n"
     ]
    }
   ],
   "source": [
    "true_segments = generate_segments(target_path=\"E:/Giacomo/Tovanella/all_segments_5/train\", \n",
    "                  audio_source_path=\"E:/Giacomo/Tovanella/Tovanella\", \n",
    "                  category_info=category_info, \n",
    "                  generate=False)"
   ]
  },
  {
   "cell_type": "code",
   "execution_count": 45,
   "metadata": {},
   "outputs": [],
   "source": [
    "# remove duplicate labels in segments\n",
    "for audio in true_segments:\n",
    "    for segm in true_segments[audio]:\n",
    "        true_segments[audio][segm] = list(set(true_segments[audio][segm]))"
   ]
  },
  {
   "cell_type": "code",
   "execution_count": null,
   "metadata": {},
   "outputs": [],
   "source": [
    "# with open('utils/true_segments.json', 'w') as f:\n",
    "#     json.dump(true_segments, f)"
   ]
  },
  {
   "cell_type": "markdown",
   "metadata": {},
   "source": [
    "# WABAD Dataset Integration\n",
    "Same procedure as above but for another dataset, requires a different treatment"
   ]
  },
  {
   "cell_type": "code",
   "execution_count": 47,
   "metadata": {},
   "outputs": [],
   "source": [
    "# import species_dict_map\n",
    "with open('utils/species_dict_map.json') as json_file:\n",
    "    species_dict_map = json.load(json_file)"
   ]
  },
  {
   "cell_type": "code",
   "execution_count": 48,
   "metadata": {},
   "outputs": [],
   "source": [
    "allowed_species_name = [species.split(\"_\")[0] for species in species_list]"
   ]
  },
  {
   "cell_type": "code",
   "execution_count": 49,
   "metadata": {},
   "outputs": [],
   "source": [
    "import csv\n",
    "def convert_to_json(input_file):\n",
    "    audio_info = {}\n",
    "    category_info = {}\n",
    "    for txt_file in os.listdir(input_file):\n",
    "        complete_path = os.path.join(input_file, txt_file)\n",
    "        with open(complete_path, newline='', encoding='utf-8') as csvfile:\n",
    "            reader = csv.DictReader(csvfile, delimiter='\\t') \n",
    "            for row in reader:\n",
    "                if row[\"Species\"] not in allowed_species_name or \"End Time (s)\" not in row:\n",
    "                    continue\n",
    "                file_name = txt_file.replace(\".txt\", \".WAV\")\n",
    "                start_time = float(row[\"Begin Time (s)\"])\n",
    "                end_time = float(row[\"End Time (s)\"])\n",
    "                duration = end_time - start_time\n",
    "                common_name = species_dict_map[row[\"Species\"]]\n",
    "                label = f\"{row['Species']}_{common_name}\"\n",
    "\n",
    "                audio_info_entry = {\n",
    "                    \"scientific_name\": row[\"Species\"],\n",
    "                    \"common_name\": common_name, \n",
    "                    \"start_time\": start_time,\n",
    "                    \"duration\": duration,\n",
    "                    \"label\": label\n",
    "                }\n",
    "                category_info_entry = {\n",
    "                    \"file_name\": file_name,\n",
    "                    \"start_time\": start_time,\n",
    "                    \"duration\": duration,\n",
    "                    \"label\": label\n",
    "                }\n",
    "                \n",
    "                if file_name not in audio_info:\n",
    "                    audio_info[file_name] = []\n",
    "                if label not in category_info:\n",
    "                    category_info[label] = []\n",
    "                audio_info[file_name].append(audio_info_entry)\n",
    "                category_info[label].append(category_info_entry)\n",
    "    return audio_info, category_info"
   ]
  },
  {
   "cell_type": "code",
   "execution_count": 50,
   "metadata": {},
   "outputs": [],
   "source": [
    "wabad_path = \"E:/Giacomo/Tovanella/WABAD\"\n",
    "audio_info_ext = {}\n",
    "category_info_ext = {}\n",
    "for folder in os.listdir(wabad_path):\n",
    "    if not os.path.isdir(os.path.join(wabad_path, folder)):\n",
    "        continue\n",
    "    annotations = os.path.join(wabad_path, folder, folder, \"Raven Pro annotations\")\n",
    "    audio_info_update, category_info_update = convert_to_json(annotations)\n",
    "    for audio in audio_info_update.keys():\n",
    "        if audio not in audio_info_ext:\n",
    "            audio_info_ext[audio] = []\n",
    "        audio_info_ext[audio].extend(audio_info_update[audio])\n",
    "    for category in category_info_update.keys():\n",
    "        if category not in category_info_ext:\n",
    "            category_info_ext[category] = []\n",
    "        category_info_ext[category].extend(category_info_update[category])    \n",
    "\n",
    "# with open(\"utils/audio_info_ext.json\", 'w', encoding='utf-8') as jsonfile:\n",
    "#     json.dump(audio_info_ext, jsonfile)\n",
    "\n",
    "# with open(\"utils/category_info_ext.json\", 'w', encoding='utf-8') as jsonfile:\n",
    "#     json.dump(category_info_ext, jsonfile)"
   ]
  },
  {
   "cell_type": "code",
   "execution_count": 51,
   "metadata": {},
   "outputs": [
    {
     "name": "stdout",
     "output_type": "stream",
     "text": [
      "Loading Phylloscopus collybita_Common Chiffchaff category... 0/22\n"
     ]
    },
    {
     "name": "stderr",
     "output_type": "stream",
     "text": [
      "100%|██████████| 500/500 [00:00<00:00, 47968.89it/s]\n"
     ]
    },
    {
     "name": "stdout",
     "output_type": "stream",
     "text": [
      "Loading Phylloscopus trochilus_Willow Warbler category... 1/22\n"
     ]
    },
    {
     "name": "stderr",
     "output_type": "stream",
     "text": [
      "100%|██████████| 418/418 [00:00<00:00, 139243.83it/s]\n"
     ]
    },
    {
     "name": "stdout",
     "output_type": "stream",
     "text": [
      "Loading Dendrocopos major_Great Spotted Woodpecker category... 2/22\n"
     ]
    },
    {
     "name": "stderr",
     "output_type": "stream",
     "text": [
      "100%|██████████| 242/242 [00:00<?, ?it/s]\n"
     ]
    },
    {
     "name": "stdout",
     "output_type": "stream",
     "text": [
      "Loading Dryocopus martius_Black Woodpecker category... 3/22\n"
     ]
    },
    {
     "name": "stderr",
     "output_type": "stream",
     "text": [
      "100%|██████████| 32/32 [00:00<00:00, 31926.20it/s]\n"
     ]
    },
    {
     "name": "stdout",
     "output_type": "stream",
     "text": [
      "Loading Erithacus rubecula_European Robin category... 4/22\n"
     ]
    },
    {
     "name": "stderr",
     "output_type": "stream",
     "text": [
      "100%|██████████| 500/500 [00:00<00:00, 163100.95it/s]\n"
     ]
    },
    {
     "name": "stdout",
     "output_type": "stream",
     "text": [
      "Loading Turdus philomelos_Song Thrush category... 5/22\n"
     ]
    },
    {
     "name": "stderr",
     "output_type": "stream",
     "text": [
      "100%|██████████| 500/500 [00:00<?, ?it/s]\n"
     ]
    },
    {
     "name": "stdout",
     "output_type": "stream",
     "text": [
      "Loading Certhia familiaris_Eurasian Treecreeper category... 6/22\n"
     ]
    },
    {
     "name": "stderr",
     "output_type": "stream",
     "text": [
      "100%|██████████| 96/96 [00:00<00:00, 35215.43it/s]\n"
     ]
    },
    {
     "name": "stdout",
     "output_type": "stream",
     "text": [
      "Loading Fringilla coelebs_Common Chaffinch category... 7/22\n"
     ]
    },
    {
     "name": "stderr",
     "output_type": "stream",
     "text": [
      "100%|██████████| 500/500 [00:00<00:00, 124986.71it/s]\n"
     ]
    },
    {
     "name": "stdout",
     "output_type": "stream",
     "text": [
      "Loading Turdus merula_Eurasian Blackbird category... 8/22\n"
     ]
    },
    {
     "name": "stderr",
     "output_type": "stream",
     "text": [
      "100%|██████████| 500/500 [00:00<00:00, 500036.24it/s]\n"
     ]
    },
    {
     "name": "stdout",
     "output_type": "stream",
     "text": [
      "Loading Troglodytes troglodytes_Eurasian Wren category... 9/22\n"
     ]
    },
    {
     "name": "stderr",
     "output_type": "stream",
     "text": [
      "100%|██████████| 500/500 [00:00<00:00, 166705.25it/s]\n"
     ]
    },
    {
     "name": "stdout",
     "output_type": "stream",
     "text": [
      "Loading Prunella modularis_Dunnock category... 10/22\n"
     ]
    },
    {
     "name": "stderr",
     "output_type": "stream",
     "text": [
      "100%|██████████| 75/75 [00:00<00:00, 75005.44it/s]\n"
     ]
    },
    {
     "name": "stdout",
     "output_type": "stream",
     "text": [
      "Loading Regulus regulus_Goldcrest category... 11/22\n"
     ]
    },
    {
     "name": "stderr",
     "output_type": "stream",
     "text": [
      "100%|██████████| 437/437 [00:00<00:00, 436823.37it/s]\n"
     ]
    },
    {
     "name": "stdout",
     "output_type": "stream",
     "text": [
      "Loading Periparus ater_Coal Tit category... 12/22\n"
     ]
    },
    {
     "name": "stderr",
     "output_type": "stream",
     "text": [
      "100%|██████████| 500/500 [00:00<00:00, 166731.75it/s]\n"
     ]
    },
    {
     "name": "stdout",
     "output_type": "stream",
     "text": [
      "Loading Regulus ignicapilla_Common Firecrest category... 13/22\n"
     ]
    },
    {
     "name": "stderr",
     "output_type": "stream",
     "text": [
      "100%|██████████| 280/280 [00:00<00:00, 280287.62it/s]\n"
     ]
    },
    {
     "name": "stdout",
     "output_type": "stream",
     "text": [
      "Loading Sylvia atricapilla_Eurasian Blackcap category... 14/22\n"
     ]
    },
    {
     "name": "stderr",
     "output_type": "stream",
     "text": [
      "100%|██████████| 500/500 [00:00<00:00, 99959.58it/s]\n"
     ]
    },
    {
     "name": "stdout",
     "output_type": "stream",
     "text": [
      "Loading Pyrrhula pyrrhula_Eurasian Bullfinch category... 15/22\n"
     ]
    },
    {
     "name": "stderr",
     "output_type": "stream",
     "text": [
      "100%|██████████| 8/8 [00:00<?, ?it/s]\n"
     ]
    },
    {
     "name": "stdout",
     "output_type": "stream",
     "text": [
      "Loading Spinus spinus_Eurasian Siskin category... 16/22\n"
     ]
    },
    {
     "name": "stderr",
     "output_type": "stream",
     "text": [
      "100%|██████████| 102/102 [00:00<?, ?it/s]\n"
     ]
    },
    {
     "name": "stdout",
     "output_type": "stream",
     "text": [
      "Loading Poecile palustris_Marsh Tit category... 17/22\n"
     ]
    },
    {
     "name": "stderr",
     "output_type": "stream",
     "text": [
      "100%|██████████| 12/12 [00:00<?, ?it/s]\n"
     ]
    },
    {
     "name": "stdout",
     "output_type": "stream",
     "text": [
      "Loading Lophophanes cristatus_Crested Tit category... 18/22\n"
     ]
    },
    {
     "name": "stderr",
     "output_type": "stream",
     "text": [
      "100%|██████████| 132/132 [00:00<?, ?it/s]\n"
     ]
    },
    {
     "name": "stdout",
     "output_type": "stream",
     "text": [
      "Loading Turdus viscivorus_Mistle Thrush category... 19/22\n"
     ]
    },
    {
     "name": "stderr",
     "output_type": "stream",
     "text": [
      "100%|██████████| 229/229 [00:00<?, ?it/s]\n"
     ]
    },
    {
     "name": "stdout",
     "output_type": "stream",
     "text": [
      "Loading Loxia curvirostra_Common Crossbill category... 20/22\n"
     ]
    },
    {
     "name": "stderr",
     "output_type": "stream",
     "text": [
      "100%|██████████| 25/25 [00:00<?, ?it/s]\n"
     ]
    },
    {
     "name": "stdout",
     "output_type": "stream",
     "text": [
      "Loading Muscicapa striata_Spotted Flycatcher category... 21/22\n"
     ]
    },
    {
     "name": "stderr",
     "output_type": "stream",
     "text": [
      "100%|██████████| 117/117 [00:00<?, ?it/s]\n"
     ]
    }
   ],
   "source": [
    "true_segments_ext = generate_segments(target_path=\"E:/Giacomo/Tovanella/wabad_segments\", \n",
    "                  audio_source_path=\"E:/Giacomo/Tovanella/WABAD/\", \n",
    "                  category_info=category_info_ext, \n",
    "                  generate=False)"
   ]
  },
  {
   "cell_type": "code",
   "execution_count": null,
   "metadata": {},
   "outputs": [],
   "source": [
    "# with open(\"utils/true_segments_ext.json\", \"w\") as f:\n",
    "#     json.dump(true_segments_ext, f)"
   ]
  }
 ],
 "metadata": {
  "kernelspec": {
   "display_name": "Python 3",
   "language": "python",
   "name": "python3"
  },
  "language_info": {
   "codemirror_mode": {
    "name": "ipython",
    "version": 3
   },
   "file_extension": ".py",
   "mimetype": "text/x-python",
   "name": "python",
   "nbconvert_exporter": "python",
   "pygments_lexer": "ipython3",
   "version": "3.10.0"
  }
 },
 "nbformat": 4,
 "nbformat_minor": 2
}
