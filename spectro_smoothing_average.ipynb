{
 "cells": [
  {
   "cell_type": "code",
   "execution_count": null,
   "id": "5e6658a2",
   "metadata": {},
   "outputs": [],
   "source": [
    "import json\n",
    "\n",
    "with open('/home/giacomoschiavo/finetuning-BirdNET/utils/dataset/true_segments_test.json') as f:\n",
    "    true_segments = json.load(f)\n",
    "\n",
    "selected_segments = true_segments['20190601_030000.WAV'] "
   ]
  }
 ],
 "metadata": {
  "language_info": {
   "name": "python"
  }
 },
 "nbformat": 4,
 "nbformat_minor": 5
}
