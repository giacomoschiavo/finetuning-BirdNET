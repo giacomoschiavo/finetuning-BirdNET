{
 "cells": [
  {
   "cell_type": "code",
   "execution_count": 1,
   "metadata": {},
   "outputs": [],
   "source": [
    "import scipy.io\n",
    "import numpy as np\n",
    "import librosa\n",
    "import librosa.display\n",
    "import matplotlib.pyplot as plt\n",
    "import math\n",
    "import soundfile as sf\n",
    "import os\n",
    "from pydub import AudioSegment"
   ]
  },
  {
   "cell_type": "code",
   "execution_count": 4,
   "metadata": {},
   "outputs": [
    {
     "data": {
      "text/plain": [
       "['20190601_000000.WAV',\n",
       " '20190601_010000.WAV',\n",
       " '20190601_020000.WAV',\n",
       " '20190601_030000.WAV',\n",
       " '20190601_040000.WAV']"
      ]
     },
     "execution_count": 4,
     "metadata": {},
     "output_type": "execute_result"
    }
   ],
   "source": [
    "audio_path = \"D:\\\\Giacomo\\\\Tovanella-20241110T120546Z-001\\\\Tovanella\"\n",
    "audio_names = os.listdir(audio_path)\n",
    "audio_names[:5]"
   ]
  },
  {
   "cell_type": "code",
   "execution_count": 3,
   "metadata": {},
   "outputs": [],
   "source": [
    "audio_name = \"20190621_030000.WAV\"\n",
    "audio_path = \"C:\\\\Users\\\\giaco\\\\Desktop\\\\thesis\\\\\" + audio_name\n",
    "y, sr = librosa.load(audio_path, sr=None)"
   ]
  },
  {
   "cell_type": "code",
   "execution_count": 3,
   "metadata": {},
   "outputs": [],
   "source": [
    "mat = scipy.io.loadmat('Bird_tags_Train.mat')"
   ]
  },
  {
   "cell_type": "code",
   "execution_count": 4,
   "metadata": {},
   "outputs": [
    {
     "data": {
      "text/plain": [
       "array([array([[(array(['Sylvia_atricapilla'], dtype='<U18'), array(['20190621_030000.WAV'], dtype='<U19'), array([[5.84745763, 1.47457627, 1.47457627, 5.84745763, 0.05803153,\n",
       "                       3.53405086]]), array([[0.05803153, 5.84745763],\n",
       "                      [0.05803153, 1.47457627],\n",
       "                      [3.53405086, 1.47457627],\n",
       "                      [3.53405086, 5.84745763],\n",
       "                      [0.05803153, 5.84745763]]), array([[2]], dtype=uint8))                                                                                                  ]],\n",
       "             dtype=[('species', 'O'), ('file', 'O'), ('Range', 'O'), ('trace', 'O'), ('type', 'O')])                                                                             ],\n",
       "      dtype=object)"
      ]
     },
     "execution_count": 6,
     "metadata": {},
     "output_type": "execute_result"
    }
   ],
   "source": [
    "index = 6\n",
    "mat[\"Bird_tags\"][index]"
   ]
  },
  {
   "cell_type": "markdown",
   "metadata": {},
   "source": [
    "# Audio extraction"
   ]
  },
  {
   "cell_type": "code",
   "execution_count": 75,
   "metadata": {},
   "outputs": [],
   "source": [
    "bird_tags = scipy.io.loadmat('Bird_tags_Train.mat')[\"Bird_tags\"]"
   ]
  },
  {
   "cell_type": "code",
   "execution_count": 76,
   "metadata": {},
   "outputs": [],
   "source": [
    "# crea 2 dizionari: il primo diviso per categorie di suono, il secondo per audio\n",
    "coords = {}\n",
    "inverted_coords = {}\n",
    "for elem in bird_tags:\n",
    "    tag = elem[0][0][0][0][0]\n",
    "    file_name = elem[0][0][0][1][0]\n",
    "    bbox = elem[0][0][0][3][:4]\n",
    "    start_time = math.floor(min(bbox[:, 0]))\n",
    "    end_time = math.floor(max(bbox[:, 0]))\n",
    "    duration = end_time - start_time\n",
    "    if tag not in coords:\n",
    "        coords[tag] = []\n",
    "    if file_name not in inverted_coords:\n",
    "        inverted_coords[file_name] = []\n",
    "    coords[tag].append({\"file_name\": file_name, \"bbox\": bbox.tolist(), \"start_time\": start_time, \"duration\": duration})\n",
    "    inverted_coords[file_name].append({\"tag\": tag, \"start_time\": start_time, \"duration\": duration})"
   ]
  },
  {
   "cell_type": "code",
   "execution_count": 83,
   "metadata": {},
   "outputs": [],
   "source": [
    "# generate json file of coords\n",
    "import json\n",
    "with open(\"utils/coords.json\", \"w\") as f:\n",
    "    json.dump(coords, f)\n",
    "with open(\"utils/inverted_coords.json\", \"w\") as f:\n",
    "    json.dump(inverted_coords, f)"
   ]
  },
  {
   "cell_type": "code",
   "execution_count": 78,
   "metadata": {},
   "outputs": [
    {
     "ename": "KeyError",
     "evalue": "'20190601_000000.WAV'",
     "output_type": "error",
     "traceback": [
      "\u001b[1;31m---------------------------------------------------------------------------\u001b[0m",
      "\u001b[1;31mKeyError\u001b[0m                                  Traceback (most recent call last)",
      "Cell \u001b[1;32mIn[11], line 6\u001b[0m\n\u001b[0;32m      4\u001b[0m number_chunks \u001b[38;5;241m=\u001b[39m \u001b[38;5;241m200\u001b[39m     \u001b[38;5;66;03m# 200 chunks in 10 minuti (600s / 3)\u001b[39;00m\n\u001b[0;32m      5\u001b[0m y_true_raw \u001b[38;5;241m=\u001b[39m [\u001b[38;5;28mset\u001b[39m() \u001b[38;5;28;01mfor\u001b[39;00m i \u001b[38;5;129;01min\u001b[39;00m \u001b[38;5;28mrange\u001b[39m(number_chunks)]\n\u001b[1;32m----> 6\u001b[0m \u001b[38;5;28;01mfor\u001b[39;00m bird \u001b[38;5;129;01min\u001b[39;00m \u001b[43minverted_coords\u001b[49m\u001b[43m[\u001b[49m\u001b[43maudio_name\u001b[49m\u001b[43m]\u001b[49m:\n\u001b[0;32m      7\u001b[0m     \u001b[38;5;28;01mfor\u001b[39;00m i \u001b[38;5;129;01min\u001b[39;00m \u001b[38;5;28mrange\u001b[39m(bird[\u001b[38;5;124m'\u001b[39m\u001b[38;5;124mduration\u001b[39m\u001b[38;5;124m'\u001b[39m]):\n\u001b[0;32m      8\u001b[0m         position \u001b[38;5;241m=\u001b[39m (bird[\u001b[38;5;124m'\u001b[39m\u001b[38;5;124mstart_time\u001b[39m\u001b[38;5;124m'\u001b[39m] \u001b[38;5;241m+\u001b[39m i) \u001b[38;5;241m/\u001b[39m\u001b[38;5;241m/\u001b[39m \u001b[38;5;241m3\u001b[39m\n",
      "\u001b[1;31mKeyError\u001b[0m: '20190601_000000.WAV'"
     ]
    }
   ],
   "source": [
    "# con una finestra di 3 secondi, andiamo a individuare gli uccelli\n",
    "# presenti in ciascuna finestra, e li mettiamo in un insieme\n",
    "# number_chunks = int(librosa.get_duration(y=y, sr=sr) / 3) \n",
    "number_chunks = 200     # 200 chunks in 10 minuti (600s / 3)\n",
    "y_true_raw = [set() for i in range(number_chunks)]\n",
    "for bird in inverted_coords[audio_name]:\n",
    "    for i in range(bird['duration']):\n",
    "        position = (bird['start_time'] + i) // 3\n",
    "        if position < number_chunks:\n",
    "            y_true_raw[position].add(bird['tag'].replace(\"_\", \" \"))\n"
   ]
  },
  {
   "cell_type": "code",
   "execution_count": 68,
   "metadata": {},
   "outputs": [
    {
     "name": "stdout",
     "output_type": "stream",
     "text": [
      "Labels loaded.\n",
      "load model True\n",
      "Model loaded.\n",
      "Labels loaded.\n",
      "load_species_list_model\n",
      "Meta model loaded.\n",
      "Regulus ignicapilla_Common Firecrest\n",
      "\n",
      "Sylvia atricapilla_Eurasian Blackcap\n",
      "\n",
      "Muscicapa striata_Spotted Flycatcher\n",
      "\n",
      "Phylloscopus collybita_Common Chiffchaff\n",
      "\n",
      "Turdus viscivorus_Mistle Thrush\n",
      "\n",
      "Glaucidium passerinum_Eurasian Pygmy-Owl\n",
      "\n",
      "Prunella modularis_Dunnock\n",
      "\n",
      "Lophophanes cristatus_Crested Tit\n",
      "\n",
      "Regulus regulus_Goldcrest\n",
      "\n",
      "Turdus merula_Eurasian Blackbird\n",
      "\n",
      "Certhia familiaris_Eurasian Treecreeper\n",
      "\n",
      "Erithacus rubecula_European Robin\n",
      "\n",
      "Turdus philomelos_Song Thrush\n",
      "\n",
      "Loxia curvirostra_Red Crossbill\n",
      "\n",
      "Dendrocopos major_Great Spotted Woodpecker\n",
      "\n",
      "Dryocopus martius_Black Woodpecker\n",
      "\n",
      "Aegolius funereus_Boreal Owl\n",
      "\n",
      "Carduelis carduelis_European Goldfinch\n",
      "\n",
      "Cyanistes caeruleus_Eurasian Blue Tit\n",
      "\n",
      "Periparus ater_Coal Tit\n",
      "\n",
      "Corvus corax_Common Raven\n",
      "\n",
      "Anthus trivialis_Tree Pipit\n",
      "\n",
      "Cuculus canorus_Common Cuckoo\n",
      "\n",
      "Parus major_Great Tit\n",
      "\n",
      "Troglodytes troglodytes_Eurasian Wren\n",
      "\n",
      "Corvus cornix_Hooded Crow\n",
      "\n",
      "Emberiza citrinella_Yellowhammer\n",
      "\n",
      "Aegithalos caudatus_Long-tailed Tit\n",
      "\n",
      "Alauda arvensis_Eurasian Skylark\n",
      "\n",
      "Columba palumbus_Common Wood-Pigeon\n",
      "\n",
      "Caprimulgus europaeus_Eurasian Nightjar\n",
      "\n",
      "Nucifraga caryocatactes_Eurasian Nutcracker\n",
      "\n",
      "Coccothraustes coccothraustes_Hawfinch\n",
      "\n",
      "Chloris chloris_European Greenfinch\n",
      "\n",
      "Corvus corone_Carrion Crow\n",
      "\n",
      "Phylloscopus trochilus_Willow Warbler\n",
      "\n",
      "Certhia brachydactyla_Short-toed Treecreeper\n",
      "\n",
      "Cisticola juncidis_Zitting Cisticola\n",
      "\n",
      "Spinus spinus_Eurasian Siskin\n",
      "\n",
      "Poecile palustris_Marsh Tit\n",
      "\n",
      "40 species loaded.\n",
      "read_audio_data\n",
      "read_audio_data: complete, read  200 chunks.\n",
      "analyze_recording 20190621_030000.WAV\n"
     ]
    }
   ],
   "source": [
    "from birdnetlib import Recording\n",
    "from birdnetlib.analyzer import Analyzer\n",
    "\n",
    "analyzer = Analyzer(custom_species_list_path='custom_species_list.txt')\n",
    "recording = Recording(\n",
    "    analyzer,\n",
    "    audio_path,\n",
    "    min_conf=0.1,\n",
    ")\n",
    "recording.analyze()"
   ]
  },
  {
   "cell_type": "code",
   "execution_count": 69,
   "metadata": {},
   "outputs": [],
   "source": [
    "model_preds = recording.detections\n",
    "model_chunks_labels = [[] for i in range(number_chunks)]\n",
    "y_pred_raw = [set() for i in range(number_chunks)]\n",
    "for pred in model_preds:\n",
    "    duration = int(pred['end_time'] - pred['start_time'])\n",
    "    start_time = int(pred['start_time'])\n",
    "    position = start_time // 3\n",
    "    model_chunks_labels[position].append({'tag': pred['scientific_name'], 'conf': pred['confidence']})\n",
    "    y_pred_raw[position].add(pred['scientific_name'])"
   ]
  },
  {
   "cell_type": "code",
   "execution_count": 70,
   "metadata": {},
   "outputs": [
    {
     "data": {
      "text/plain": [
       "['Regulus ignicapilla', 'Sylvia atricapilla', 'Muscicapa striata']"
      ]
     },
     "execution_count": 70,
     "metadata": {},
     "output_type": "execute_result"
    }
   ],
   "source": [
    "all_classes = [specie.split(\"_\")[0] for specie in analyzer.custom_species_list]\n",
    "all_classes[:3]"
   ]
  },
  {
   "cell_type": "code",
   "execution_count": 71,
   "metadata": {},
   "outputs": [
    {
     "name": "stderr",
     "output_type": "stream",
     "text": [
      "c:\\Users\\giaco\\AppData\\Local\\Programs\\Python\\Python310\\lib\\site-packages\\sklearn\\preprocessing\\_label.py:878: UserWarning: unknown class(es) ['Fringilla coelebs'] will be ignored\n",
      "  warnings.warn(\n"
     ]
    }
   ],
   "source": [
    "from sklearn.preprocessing import MultiLabelBinarizer\n",
    "\n",
    "mlb = MultiLabelBinarizer()\n",
    "mlb.fit([all_classes])\n",
    "\n",
    "y_true = mlb.transform(y_true_raw)\n",
    "y_pred = mlb.transform(y_pred_raw)"
   ]
  },
  {
   "cell_type": "code",
   "execution_count": 72,
   "metadata": {},
   "outputs": [
    {
     "data": {
      "text/plain": [
       "0.0305"
      ]
     },
     "execution_count": 72,
     "metadata": {},
     "output_type": "execute_result"
    }
   ],
   "source": [
    "from sklearn.metrics import hamming_loss\n",
    "\n",
    "hamming_loss(y_true, y_pred)"
   ]
  },
  {
   "cell_type": "code",
   "execution_count": 73,
   "metadata": {},
   "outputs": [
    {
     "data": {
      "text/plain": [
       "(0.8666666666666667, 0.21739130434782608, 0.3475935828877005, None)"
      ]
     },
     "execution_count": 73,
     "metadata": {},
     "output_type": "execute_result"
    }
   ],
   "source": [
    "from sklearn.metrics import precision_recall_fscore_support\n",
    "\n",
    "precision_recall_fscore_support(y_true, y_pred, average=\"micro\")"
   ]
  },
  {
   "cell_type": "code",
   "execution_count": 74,
   "metadata": {},
   "outputs": [
    {
     "data": {
      "text/plain": [
       "array([[[200,   0],\n",
       "        [  0,   0]],\n",
       "\n",
       "       [[200,   0],\n",
       "        [  0,   0]],\n",
       "\n",
       "       [[200,   0],\n",
       "        [  0,   0]],\n",
       "\n",
       "       [[200,   0],\n",
       "        [  0,   0]],\n",
       "\n",
       "       [[200,   0],\n",
       "        [  0,   0]],\n",
       "\n",
       "       [[200,   0],\n",
       "        [  0,   0]],\n",
       "\n",
       "       [[200,   0],\n",
       "        [  0,   0]],\n",
       "\n",
       "       [[200,   0],\n",
       "        [  0,   0]],\n",
       "\n",
       "       [[200,   0],\n",
       "        [  0,   0]],\n",
       "\n",
       "       [[200,   0],\n",
       "        [  0,   0]],\n",
       "\n",
       "       [[200,   0],\n",
       "        [  0,   0]],\n",
       "\n",
       "       [[200,   0],\n",
       "        [  0,   0]],\n",
       "\n",
       "       [[200,   0],\n",
       "        [  0,   0]],\n",
       "\n",
       "       [[200,   0],\n",
       "        [  0,   0]],\n",
       "\n",
       "       [[200,   0],\n",
       "        [  0,   0]],\n",
       "\n",
       "       [[200,   0],\n",
       "        [  0,   0]],\n",
       "\n",
       "       [[200,   0],\n",
       "        [  0,   0]],\n",
       "\n",
       "       [[200,   0],\n",
       "        [  0,   0]],\n",
       "\n",
       "       [[200,   0],\n",
       "        [  0,   0]],\n",
       "\n",
       "       [[200,   0],\n",
       "        [  0,   0]],\n",
       "\n",
       "       [[200,   0],\n",
       "        [  0,   0]],\n",
       "\n",
       "       [[200,   0],\n",
       "        [  0,   0]],\n",
       "\n",
       "       [[200,   0],\n",
       "        [  0,   0]],\n",
       "\n",
       "       [[200,   0],\n",
       "        [  0,   0]],\n",
       "\n",
       "       [[200,   0],\n",
       "        [  0,   0]],\n",
       "\n",
       "       [[200,   0],\n",
       "        [  0,   0]],\n",
       "\n",
       "       [[200,   0],\n",
       "        [  0,   0]],\n",
       "\n",
       "       [[200,   0],\n",
       "        [  0,   0]],\n",
       "\n",
       "       [[200,   0],\n",
       "        [  0,   0]],\n",
       "\n",
       "       [[200,   0],\n",
       "        [  0,   0]],\n",
       "\n",
       "       [[200,   0],\n",
       "        [  0,   0]],\n",
       "\n",
       "       [[198,   2],\n",
       "        [  0,   0]],\n",
       "\n",
       "       [[185,   2],\n",
       "        [  5,   8]],\n",
       "\n",
       "       [[199,   1],\n",
       "        [  0,   0]],\n",
       "\n",
       "       [[200,   0],\n",
       "        [  0,   0]],\n",
       "\n",
       "       [[ 21,   1],\n",
       "        [126,  52]],\n",
       "\n",
       "       [[ 91,   1],\n",
       "        [103,   5]],\n",
       "\n",
       "       [[199,   1],\n",
       "        [  0,   0]],\n",
       "\n",
       "       [[200,   0],\n",
       "        [  0,   0]],\n",
       "\n",
       "       [[198,   2],\n",
       "        [  0,   0]]], dtype=int64)"
      ]
     },
     "execution_count": 74,
     "metadata": {},
     "output_type": "execute_result"
    }
   ],
   "source": [
    "from sklearn.metrics import multilabel_confusion_matrix\n",
    "\n",
    "multilabel_confusion_matrix(y_true, y_pred)"
   ]
  }
 ],
 "metadata": {
  "kernelspec": {
   "display_name": "Python 3",
   "language": "python",
   "name": "python3"
  },
  "language_info": {
   "codemirror_mode": {
    "name": "ipython",
    "version": 3
   },
   "file_extension": ".py",
   "mimetype": "text/x-python",
   "name": "python",
   "nbconvert_exporter": "python",
   "pygments_lexer": "ipython3",
   "version": "3.10.0"
  }
 },
 "nbformat": 4,
 "nbformat_minor": 2
}
