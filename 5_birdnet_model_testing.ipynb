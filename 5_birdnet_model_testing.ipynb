{
 "cells": [
  {
   "cell_type": "code",
   "execution_count": 440,
   "id": "ac3601f7",
   "metadata": {},
   "outputs": [],
   "source": [
    "import os\n",
    "import csv\n",
    "from collections import defaultdict\n",
    "import json"
   ]
  },
  {
   "cell_type": "markdown",
   "id": "1e9d043e",
   "metadata": {},
   "source": [
    "# To finetune"
   ]
  },
  {
   "cell_type": "code",
   "execution_count": 441,
   "id": "2a051c37",
   "metadata": {},
   "outputs": [],
   "source": [
    "DATASET_VAR = 'orig'\n",
    "DATASET_NAME = 'dataset'\n",
    "RESULTS_PATH = f'/home/giacomoschiavo/finetuning-BirdNET/models/BirdNET_tuned/{DATASET_VAR}'\n",
    "VALID_TABLE = f'{RESULTS_PATH}/valid/BirdNET_SelectionTable.txt'\n",
    "TRAIN_PATH = f'/home/giacomoschiavo/segments/{DATASET_NAME}/train'\n",
    "VALID_PATH = f'/home/giacomoschiavo/segments/{DATASET_NAME}/valid'\n",
    "TEST_PATH = f'/home/giacomoschiavo/segments/{DATASET_NAME}/test'\n",
    "TEST_TABLE = f'{RESULTS_PATH}/test/BirdNET_SelectionTable.txt'\n",
    "FINAL_RESULTS_PATH = '/home/giacomoschiavo/finetuning-BirdNET/models/results'"
   ]
  },
  {
   "cell_type": "code",
   "execution_count": 442,
   "id": "dd57b404",
   "metadata": {},
   "outputs": [
    {
     "name": "stdout",
     "output_type": "stream",
     "text": [
      "python -m birdnet_analyzer.train --i /home/giacomoschiavo/segments/dataset/train --o /home/giacomoschiavo/finetuning-BirdNET/models/BirdNET_tuned/orig/orig.tflite --batch_size 64 --threads 16 --val_split 0.01 --epochs 150 --mixup --cache_mode save --cache_file /home/giacomoschiavo/finetuning-BirdNET/models/BirdNET_tuned/orig/orig.npz\n"
     ]
    }
   ],
   "source": [
    "print(f'python -m birdnet_analyzer.train --i {TRAIN_PATH} --o {RESULTS_PATH}/{DATASET_VAR}.tflite --batch_size 64 --threads 16 --val_split 0.01 --epochs 150 --mixup --cache_mode save --cache_file {RESULTS_PATH}/{DATASET_VAR}.npz')"
   ]
  },
  {
   "cell_type": "markdown",
   "id": "c230d1d7",
   "metadata": {},
   "source": [
    "# To analize"
   ]
  },
  {
   "cell_type": "code",
   "execution_count": 443,
   "id": "84cbd050",
   "metadata": {},
   "outputs": [],
   "source": [
    "MIN_CONF = '0.05'"
   ]
  },
  {
   "cell_type": "code",
   "execution_count": 444,
   "id": "66345eab",
   "metadata": {},
   "outputs": [
    {
     "name": "stdout",
     "output_type": "stream",
     "text": [
      "python -m birdnet_analyzer.analyze --i /home/giacomoschiavo/segments/dataset/valid --o /home/giacomoschiavo/finetuning-BirdNET/models/BirdNET_tuned/orig/valid --slist /home/giacomoschiavo/finetuning-BirdNET/models/finetuned_2/Labels.txt --threads 16 --combine_results --min_conf 0.05 --classifier /home/giacomoschiavo/finetuning-BirdNET/models/BirdNET_tuned/orig/orig.tflite\n"
     ]
    }
   ],
   "source": [
    "print(f'python -m birdnet_analyzer.analyze --i {VALID_PATH} --o {RESULTS_PATH}/valid --slist /home/giacomoschiavo/finetuning-BirdNET/models/finetuned_2/Labels.txt --threads 16 --combine_results --min_conf {MIN_CONF} --classifier {RESULTS_PATH}/{DATASET_VAR}.tflite')"
   ]
  },
  {
   "cell_type": "code",
   "execution_count": 445,
   "id": "cea96457",
   "metadata": {},
   "outputs": [
    {
     "name": "stdout",
     "output_type": "stream",
     "text": [
      "python -m birdnet_analyzer.analyze --i /home/giacomoschiavo/segments/dataset/test --o /home/giacomoschiavo/finetuning-BirdNET/models/BirdNET_tuned/orig/test --slist /home/giacomoschiavo/finetuning-BirdNET/models/finetuned_2/Labels.txt --threads 16 --combine_results --min_conf 0.05 --classifier /home/giacomoschiavo/finetuning-BirdNET/models/BirdNET_tuned/orig/orig.tflite\n"
     ]
    }
   ],
   "source": [
    "print(f'python -m birdnet_analyzer.analyze --i {TEST_PATH} --o {RESULTS_PATH}/test --slist /home/giacomoschiavo/finetuning-BirdNET/models/finetuned_2/Labels.txt --threads 16 --combine_results --min_conf {MIN_CONF} --classifier {RESULTS_PATH}/{DATASET_VAR}.tflite')"
   ]
  },
  {
   "cell_type": "markdown",
   "id": "bff3758c",
   "metadata": {},
   "source": [
    "# Analysis"
   ]
  },
  {
   "cell_type": "code",
   "execution_count": 446,
   "id": "1c0f0071",
   "metadata": {},
   "outputs": [],
   "source": [
    "with open(f\"./utils/{DATASET_NAME}/dataset_config_augm_final.json\") as f:\n",
    "    dataset_config = json.load(f)\n",
    "class_names = list(dataset_config['mappings'].keys())"
   ]
  },
  {
   "cell_type": "code",
   "execution_count": 447,
   "id": "5a260f70",
   "metadata": {},
   "outputs": [],
   "source": [
    "with open('/home/giacomoschiavo/finetuning-BirdNET/utils/species_dict_map.json') as f:\n",
    "    species_dict = json.load(f)\n",
    "inv_species_dict = {value: key for key, value in species_dict.items()}"
   ]
  },
  {
   "cell_type": "code",
   "execution_count": 448,
   "id": "5b313a81",
   "metadata": {},
   "outputs": [],
   "source": [
    "def get_conf_scores():\n",
    "    conf_scores = {}\n",
    "\n",
    "    #  {'Aeroplane': [(np.float32(0.0), False),\n",
    "    #               (np.float32(1.3937646e-30), False),\n",
    "    #               (np.float32(1.0654355e-25), False),\n",
    "    #               (np.float32(0.0), False),\n",
    "\n",
    "    with open(VALID_TABLE, 'r') as f:\n",
    "        reader = csv.DictReader(f, delimiter='\\t')  # Usa TAB come separatore\n",
    "        for row in reader:\n",
    "            file_path = row['Begin Path']\n",
    "            pred_species_name = row['Common Name']\n",
    "            if row['Common Name'] in inv_species_dict:\n",
    "                pred_species_name = '_'.join([inv_species_dict[row['Common Name']], row['Common Name']])\n",
    "            true_species_name = file_path.split('/')[-2]\n",
    "            confidence = float(row['Confidence'])\n",
    "            if pred_species_name not in conf_scores:\n",
    "                conf_scores[pred_species_name] = []\n",
    "            is_correct = pred_species_name == true_species_name\n",
    "            conf_scores[pred_species_name].append((confidence, is_correct))\n",
    "    return conf_scores\n",
    "            "
   ]
  },
  {
   "cell_type": "code",
   "execution_count": 449,
   "id": "a032ceff",
   "metadata": {},
   "outputs": [],
   "source": [
    "conf_scores = get_conf_scores()"
   ]
  },
  {
   "cell_type": "code",
   "execution_count": 450,
   "id": "2f88e1c6",
   "metadata": {},
   "outputs": [],
   "source": [
    "from sklearn.metrics import f1_score\n",
    "import numpy as np \n",
    "\n",
    "DEFAULT_THRESH = 0.15\n",
    "\n",
    "def compute_best_thresholds(conf_scores, num_thresholds=200, min_thresh=0.01, max_thresh=0.95):\n",
    "    thresholds = {}\n",
    "\n",
    "    for species, values in conf_scores.items():\n",
    "        probs, truths = zip(*values)\n",
    "        probs = np.array(probs)\n",
    "        truths = np.array(truths).astype(int)\n",
    "\n",
    "        best_thresh = DEFAULT_THRESH\n",
    "        best_f1 = 0.0\n",
    "\n",
    "        for thresh in np.linspace(min_thresh, max_thresh, num_thresholds):\n",
    "            preds = (probs >= thresh).astype(int)\n",
    "            f1 = f1_score(truths, preds, zero_division=0)\n",
    "            if f1 > best_f1:\n",
    "                best_f1 = f1\n",
    "                best_thresh = thresh\n",
    "\n",
    "        thresholds[species] = best_thresh\n",
    "        print(f\"📊 {species} -> {best_thresh:.3f}, F1-score: {best_f1:.3f}\")\n",
    "\n",
    "    return thresholds\n",
    "\n"
   ]
  },
  {
   "cell_type": "code",
   "execution_count": 451,
   "id": "828ba702",
   "metadata": {},
   "outputs": [
    {
     "name": "stdout",
     "output_type": "stream",
     "text": [
      "📊 Phylloscopus collybita_Common Chiffchaff -> 0.067, F1-score: 0.524\n",
      "📊 Sylvia atricapilla_Eurasian Blackcap -> 0.150, F1-score: 0.000\n",
      "📊 Anthus trivialis_Tree Pipit -> 0.950, F1-score: 0.437\n",
      "📊 Fringilla coelebs_Common Chaffinch -> 0.057, F1-score: 0.852\n",
      "📊 Certhia familiaris_Eurasian Treecreeper -> 0.326, F1-score: 0.771\n",
      "📊 Regulus regulus_Goldcrest -> 0.095, F1-score: 0.846\n",
      "📊 Muscicapa striata_Spotted Flycatcher -> 0.150, F1-score: 0.000\n",
      "📊 Coccothraustes coccothraustes_Hawfinch -> 0.907, F1-score: 0.947\n",
      "📊 Erithacus rubecula_European Robin -> 0.223, F1-score: 0.439\n",
      "📊 Periparus ater_Coal Tit -> 0.950, F1-score: 0.693\n",
      "📊 Regulus ignicapilla_Common Firecrest -> 0.303, F1-score: 0.615\n",
      "📊 Troglodytes troglodytes_Eurasian Wren -> 0.100, F1-score: 0.909\n",
      "📊 Parus major_Great Tit -> 0.057, F1-score: 0.200\n",
      "📊 Turdus merula_Eurasian Blackbird -> 0.123, F1-score: 0.286\n",
      "📊 Lophophanes cristatus_Crested Tit -> 0.260, F1-score: 0.857\n",
      "📊 Cuculus canorus_Common Cuckoo -> 0.150, F1-score: 0.000\n"
     ]
    }
   ],
   "source": [
    "best_thresholds = compute_best_thresholds(conf_scores)"
   ]
  },
  {
   "cell_type": "code",
   "execution_count": 452,
   "id": "dd4dc3ed",
   "metadata": {},
   "outputs": [],
   "source": [
    "with open(f'/home/giacomoschiavo/finetuning-BirdNET/utils/{DATASET_NAME}/true_segments_test.json') as f:\n",
    "    true_segments_test = json.load(f)"
   ]
  },
  {
   "cell_type": "code",
   "execution_count": 453,
   "id": "754551ac",
   "metadata": {},
   "outputs": [],
   "source": [
    "with open(f'/home/giacomoschiavo/finetuning-BirdNET/utils/{DATASET_NAME}/true_segments_train.json') as f:\n",
    "    true_segments_full = json.load(f)"
   ]
  },
  {
   "cell_type": "code",
   "execution_count": 454,
   "id": "ef6a7cc4",
   "metadata": {},
   "outputs": [],
   "source": [
    "true_segments_full.update(true_segments_test)"
   ]
  },
  {
   "cell_type": "code",
   "execution_count": 468,
   "id": "f85a331e",
   "metadata": {},
   "outputs": [
    {
     "data": {
      "text/plain": [
       "16"
      ]
     },
     "execution_count": 468,
     "metadata": {},
     "output_type": "execute_result"
    }
   ],
   "source": [
    "from sklearn.preprocessing import MultiLabelBinarizer\n",
    "\n",
    "test_species_list = os.listdir(TEST_PATH)\n",
    "# test_species_list = [species for species in test_species_list if len(species.split('_')) > 1]\n",
    "mlb = MultiLabelBinarizer()\n",
    "mlb.fit([test_species_list])\n",
    "if DATASET_VAR == \"orig\":\n",
    "    mlb.fit([[species for species in test_species_list if len(species.split(\"_\")) > 1]])\n",
    "\n",
    "len(mlb.classes_)"
   ]
  },
  {
   "cell_type": "code",
   "execution_count": 456,
   "id": "f6200a3d",
   "metadata": {},
   "outputs": [],
   "source": [
    "pred_segments_proba = {}\n",
    "with open(TEST_TABLE, 'r') as f:\n",
    "    reader = csv.DictReader(f, delimiter='\\t')  # Usa TAB come separatore\n",
    "    for row in reader:\n",
    "        file_path = row['Begin Path']\n",
    "        audio_name = os.path.basename(file_path)    # in test non sono presenti WABAD o augm\n",
    "        only_audio_name = \"_\".join(audio_name.split(\"_\")[:2]) + \".WAV\"\n",
    "        segm = \"_\".join(audio_name.split(\".\")[0].split(\"_\")[-2:])\n",
    "        pred_species_name = row['Common Name']\n",
    "        if row['Common Name'] in inv_species_dict:\n",
    "            pred_species_name = '_'.join([inv_species_dict[row['Common Name']], row['Common Name']])\n",
    "        # if len(file_path.split('/')[-2].split('_')) == 1:       # skip if None, Pecking, etc. \n",
    "        #     continue\n",
    "        confidence = float(row['Confidence'])\n",
    "        pred_segments_proba.setdefault(only_audio_name, {})\n",
    "        best_thresholds.setdefault(pred_species_name, DEFAULT_THRESH)\n",
    "        if confidence >= best_thresholds[pred_species_name]:\n",
    "            pred_segments_proba[only_audio_name].setdefault(segm, {})\n",
    "            if \"None\" in pred_segments_proba[only_audio_name][segm]:\n",
    "                continue\n",
    "            if pred_species_name == \"None\":\n",
    "                pred_segments_proba[only_audio_name][segm] = {\"None\": confidence}\n",
    "            else:\n",
    "                pred_segments_proba[only_audio_name][segm].update({pred_species_name: confidence})\n",
    "        else:\n",
    "            pred_segments_proba[only_audio_name][segm] = {}"
   ]
  },
  {
   "cell_type": "code",
   "execution_count": 457,
   "id": "20de0c2a",
   "metadata": {},
   "outputs": [],
   "source": [
    "# extract recognized labels\n",
    "pred_segments = {}\n",
    "pred_proba = {}\n",
    "\n",
    "for audio, segments in pred_segments_proba.items():\n",
    "    pred_segments.setdefault(audio, {})\n",
    "    pred_proba.setdefault(audio, {})\n",
    "    for segm, labels in segments.items():\n",
    "        pred_segments[audio].setdefault(segm, {})\n",
    "        pred_segments[audio][segm] = list(labels.keys())\n",
    "        pred_proba[audio].setdefault(segm, {})\n",
    "        pred_proba[audio][segm] = list(labels.values())"
   ]
  },
  {
   "cell_type": "code",
   "execution_count": 458,
   "id": "4864c453",
   "metadata": {},
   "outputs": [],
   "source": [
    "true_segments = defaultdict(dict)\n",
    "for audio in pred_segments.keys():\n",
    "    for segm in pred_segments[audio].keys():\n",
    "        if segm not in true_segments[audio_name]:\n",
    "            true_segments[audio_name][segm] = []\n",
    "        true_segments[audio][segm] = [species for species in true_segments_full[audio][segm] if species in test_species_list]"
   ]
  },
  {
   "cell_type": "code",
   "execution_count": 459,
   "id": "805634df",
   "metadata": {},
   "outputs": [
    {
     "name": "stderr",
     "output_type": "stream",
     "text": [
      "/opt/conda/envs/myenv/lib/python3.10/site-packages/sklearn/preprocessing/_label.py:895: UserWarning: unknown class(es) ['None'] will be ignored\n",
      "  warnings.warn(\n",
      "/opt/conda/envs/myenv/lib/python3.10/site-packages/sklearn/preprocessing/_label.py:895: UserWarning: unknown class(es) ['Aeroplane'] will be ignored\n",
      "  warnings.warn(\n",
      "/opt/conda/envs/myenv/lib/python3.10/site-packages/sklearn/preprocessing/_label.py:895: UserWarning: unknown class(es) ['Vegetation'] will be ignored\n",
      "  warnings.warn(\n",
      "/opt/conda/envs/myenv/lib/python3.10/site-packages/sklearn/preprocessing/_label.py:895: UserWarning: unknown class(es) ['Wind'] will be ignored\n",
      "  warnings.warn(\n"
     ]
    }
   ],
   "source": [
    "y_pred = []\n",
    "y_true = []\n",
    "y_pred_proba = []\n",
    "\n",
    "for audio in pred_segments:\n",
    "    for segment in sorted(pred_segments[audio].keys()):\n",
    "        # Etichette vere e predette per questo segmento\n",
    "        true_labels = true_segments[audio].get(segment, [])\n",
    "        pred_labels = pred_segments[audio].get(segment, [])\n",
    "        proba_values = pred_proba[audio].get(segment, [])\n",
    "\n",
    "        # binarizzo con MultiLabelBinarizer\n",
    "        y_true_vec = mlb.transform([true_labels])[0]  # 1D array\n",
    "        y_pred_vec = mlb.transform([pred_labels])[0]  # 1D array\n",
    "\n",
    "        # creo un vettore proba con zeri e ci metto i valori dove serve\n",
    "        proba_vec = np.zeros(len(mlb.classes_))\n",
    "        for label, score in zip(pred_labels, proba_values):\n",
    "            if label in mlb.classes_:\n",
    "                idx = list(mlb.classes_).index(label)\n",
    "                proba_vec[idx] = score\n",
    "\n",
    "        y_true.append(y_true_vec)\n",
    "        y_pred.append(y_pred_vec)\n",
    "        y_pred_proba.append(proba_vec)\n",
    "\n",
    "# converto in array finali\n",
    "y_true = np.array(y_true)\n",
    "y_pred = np.array(y_pred)\n",
    "y_pred_proba = np.array(y_pred_proba)\n"
   ]
  },
  {
   "cell_type": "code",
   "execution_count": 463,
   "id": "58e4c131",
   "metadata": {},
   "outputs": [
    {
     "data": {
      "text/html": [
       "<div>\n",
       "<style scoped>\n",
       "    .dataframe tbody tr th:only-of-type {\n",
       "        vertical-align: middle;\n",
       "    }\n",
       "\n",
       "    .dataframe tbody tr th {\n",
       "        vertical-align: top;\n",
       "    }\n",
       "\n",
       "    .dataframe thead th {\n",
       "        text-align: right;\n",
       "    }\n",
       "</style>\n",
       "<table border=\"1\" class=\"dataframe\">\n",
       "  <thead>\n",
       "    <tr style=\"text-align: right;\">\n",
       "      <th></th>\n",
       "      <th>precision</th>\n",
       "      <th>recall</th>\n",
       "      <th>f1-score</th>\n",
       "      <th>support</th>\n",
       "    </tr>\n",
       "  </thead>\n",
       "  <tbody>\n",
       "    <tr>\n",
       "      <th>Anthus trivialis_Tree Pipit</th>\n",
       "      <td>1.000000</td>\n",
       "      <td>0.624242</td>\n",
       "      <td>0.768657</td>\n",
       "      <td>165.0</td>\n",
       "    </tr>\n",
       "    <tr>\n",
       "      <th>Certhia familiaris_Eurasian Treecreeper</th>\n",
       "      <td>0.959459</td>\n",
       "      <td>0.739583</td>\n",
       "      <td>0.835294</td>\n",
       "      <td>96.0</td>\n",
       "    </tr>\n",
       "    <tr>\n",
       "      <th>Coccothraustes coccothraustes_Hawfinch</th>\n",
       "      <td>0.857143</td>\n",
       "      <td>0.240000</td>\n",
       "      <td>0.375000</td>\n",
       "      <td>75.0</td>\n",
       "    </tr>\n",
       "    <tr>\n",
       "      <th>Erithacus rubecula_European Robin</th>\n",
       "      <td>0.928910</td>\n",
       "      <td>0.412632</td>\n",
       "      <td>0.571429</td>\n",
       "      <td>475.0</td>\n",
       "    </tr>\n",
       "    <tr>\n",
       "      <th>Fringilla coelebs_Common Chaffinch</th>\n",
       "      <td>0.909091</td>\n",
       "      <td>0.540788</td>\n",
       "      <td>0.678161</td>\n",
       "      <td>1091.0</td>\n",
       "    </tr>\n",
       "    <tr>\n",
       "      <th>Lophophanes cristatus_Crested Tit</th>\n",
       "      <td>1.000000</td>\n",
       "      <td>0.666667</td>\n",
       "      <td>0.800000</td>\n",
       "      <td>12.0</td>\n",
       "    </tr>\n",
       "    <tr>\n",
       "      <th>Loxia curvirostra_Common Crossbill</th>\n",
       "      <td>0.000000</td>\n",
       "      <td>0.000000</td>\n",
       "      <td>0.000000</td>\n",
       "      <td>15.0</td>\n",
       "    </tr>\n",
       "    <tr>\n",
       "      <th>Muscicapa striata_Spotted Flycatcher</th>\n",
       "      <td>0.750000</td>\n",
       "      <td>0.024390</td>\n",
       "      <td>0.047244</td>\n",
       "      <td>123.0</td>\n",
       "    </tr>\n",
       "    <tr>\n",
       "      <th>Parus major_Great Tit</th>\n",
       "      <td>0.111111</td>\n",
       "      <td>0.034483</td>\n",
       "      <td>0.052632</td>\n",
       "      <td>29.0</td>\n",
       "    </tr>\n",
       "    <tr>\n",
       "      <th>Periparus ater_Coal Tit</th>\n",
       "      <td>1.000000</td>\n",
       "      <td>0.119403</td>\n",
       "      <td>0.213333</td>\n",
       "      <td>134.0</td>\n",
       "    </tr>\n",
       "    <tr>\n",
       "      <th>Phylloscopus collybita_Common Chiffchaff</th>\n",
       "      <td>0.960340</td>\n",
       "      <td>0.680723</td>\n",
       "      <td>0.796710</td>\n",
       "      <td>498.0</td>\n",
       "    </tr>\n",
       "    <tr>\n",
       "      <th>Regulus ignicapilla_Common Firecrest</th>\n",
       "      <td>0.989247</td>\n",
       "      <td>0.401747</td>\n",
       "      <td>0.571429</td>\n",
       "      <td>458.0</td>\n",
       "    </tr>\n",
       "    <tr>\n",
       "      <th>Regulus regulus_Goldcrest</th>\n",
       "      <td>0.258427</td>\n",
       "      <td>0.270588</td>\n",
       "      <td>0.264368</td>\n",
       "      <td>85.0</td>\n",
       "    </tr>\n",
       "    <tr>\n",
       "      <th>Sylvia atricapilla_Eurasian Blackcap</th>\n",
       "      <td>0.898305</td>\n",
       "      <td>0.180887</td>\n",
       "      <td>0.301136</td>\n",
       "      <td>293.0</td>\n",
       "    </tr>\n",
       "    <tr>\n",
       "      <th>Troglodytes troglodytes_Eurasian Wren</th>\n",
       "      <td>0.964286</td>\n",
       "      <td>0.238938</td>\n",
       "      <td>0.382979</td>\n",
       "      <td>113.0</td>\n",
       "    </tr>\n",
       "    <tr>\n",
       "      <th>Turdus merula_Eurasian Blackbird</th>\n",
       "      <td>0.572254</td>\n",
       "      <td>0.349823</td>\n",
       "      <td>0.434211</td>\n",
       "      <td>283.0</td>\n",
       "    </tr>\n",
       "    <tr>\n",
       "      <th>micro avg</th>\n",
       "      <td>0.872920</td>\n",
       "      <td>0.438783</td>\n",
       "      <td>0.584008</td>\n",
       "      <td>3945.0</td>\n",
       "    </tr>\n",
       "    <tr>\n",
       "      <th>macro avg</th>\n",
       "      <td>0.759911</td>\n",
       "      <td>0.345306</td>\n",
       "      <td>0.443286</td>\n",
       "      <td>3945.0</td>\n",
       "    </tr>\n",
       "    <tr>\n",
       "      <th>weighted avg</th>\n",
       "      <td>0.882972</td>\n",
       "      <td>0.438783</td>\n",
       "      <td>0.564590</td>\n",
       "      <td>3945.0</td>\n",
       "    </tr>\n",
       "    <tr>\n",
       "      <th>samples avg</th>\n",
       "      <td>0.535231</td>\n",
       "      <td>0.451789</td>\n",
       "      <td>0.477116</td>\n",
       "      <td>3945.0</td>\n",
       "    </tr>\n",
       "  </tbody>\n",
       "</table>\n",
       "</div>"
      ],
      "text/plain": [
       "                                          precision    recall  f1-score  \\\n",
       "Anthus trivialis_Tree Pipit                1.000000  0.624242  0.768657   \n",
       "Certhia familiaris_Eurasian Treecreeper    0.959459  0.739583  0.835294   \n",
       "Coccothraustes coccothraustes_Hawfinch     0.857143  0.240000  0.375000   \n",
       "Erithacus rubecula_European Robin          0.928910  0.412632  0.571429   \n",
       "Fringilla coelebs_Common Chaffinch         0.909091  0.540788  0.678161   \n",
       "Lophophanes cristatus_Crested Tit          1.000000  0.666667  0.800000   \n",
       "Loxia curvirostra_Common Crossbill         0.000000  0.000000  0.000000   \n",
       "Muscicapa striata_Spotted Flycatcher       0.750000  0.024390  0.047244   \n",
       "Parus major_Great Tit                      0.111111  0.034483  0.052632   \n",
       "Periparus ater_Coal Tit                    1.000000  0.119403  0.213333   \n",
       "Phylloscopus collybita_Common Chiffchaff   0.960340  0.680723  0.796710   \n",
       "Regulus ignicapilla_Common Firecrest       0.989247  0.401747  0.571429   \n",
       "Regulus regulus_Goldcrest                  0.258427  0.270588  0.264368   \n",
       "Sylvia atricapilla_Eurasian Blackcap       0.898305  0.180887  0.301136   \n",
       "Troglodytes troglodytes_Eurasian Wren      0.964286  0.238938  0.382979   \n",
       "Turdus merula_Eurasian Blackbird           0.572254  0.349823  0.434211   \n",
       "micro avg                                  0.872920  0.438783  0.584008   \n",
       "macro avg                                  0.759911  0.345306  0.443286   \n",
       "weighted avg                               0.882972  0.438783  0.564590   \n",
       "samples avg                                0.535231  0.451789  0.477116   \n",
       "\n",
       "                                          support  \n",
       "Anthus trivialis_Tree Pipit                 165.0  \n",
       "Certhia familiaris_Eurasian Treecreeper      96.0  \n",
       "Coccothraustes coccothraustes_Hawfinch       75.0  \n",
       "Erithacus rubecula_European Robin           475.0  \n",
       "Fringilla coelebs_Common Chaffinch         1091.0  \n",
       "Lophophanes cristatus_Crested Tit            12.0  \n",
       "Loxia curvirostra_Common Crossbill           15.0  \n",
       "Muscicapa striata_Spotted Flycatcher        123.0  \n",
       "Parus major_Great Tit                        29.0  \n",
       "Periparus ater_Coal Tit                     134.0  \n",
       "Phylloscopus collybita_Common Chiffchaff    498.0  \n",
       "Regulus ignicapilla_Common Firecrest        458.0  \n",
       "Regulus regulus_Goldcrest                    85.0  \n",
       "Sylvia atricapilla_Eurasian Blackcap        293.0  \n",
       "Troglodytes troglodytes_Eurasian Wren       113.0  \n",
       "Turdus merula_Eurasian Blackbird            283.0  \n",
       "micro avg                                  3945.0  \n",
       "macro avg                                  3945.0  \n",
       "weighted avg                               3945.0  \n",
       "samples avg                                3945.0  "
      ]
     },
     "execution_count": 463,
     "metadata": {},
     "output_type": "execute_result"
    }
   ],
   "source": [
    "from sklearn.metrics import classification_report\n",
    "import pandas as pd\n",
    "report = classification_report(y_true, y_pred, target_names=mlb.classes_, zero_division=0, output_dict=True)\n",
    "\n",
    "report_df = pd.DataFrame(report).T\n",
    "report_df"
   ]
  },
  {
   "cell_type": "code",
   "execution_count": 464,
   "id": "b6bd3c8c",
   "metadata": {},
   "outputs": [],
   "source": [
    "with open(f'{RESULTS_PATH}/classification_report.json', 'w') as f:\n",
    "    json.dump(report, f)"
   ]
  },
  {
   "cell_type": "code",
   "execution_count": 465,
   "id": "4dff3f65",
   "metadata": {},
   "outputs": [],
   "source": [
    "np.savez(f'{FINAL_RESULTS_PATH}/results_b{DATASET_VAR}.npz', y_true=y_true, y_pred=y_pred, y_pred_proba=y_pred_proba, class_names=class_names)"
   ]
  }
 ],
 "metadata": {
  "kernelspec": {
   "display_name": "myenv",
   "language": "python",
   "name": "python3"
  },
  "language_info": {
   "codemirror_mode": {
    "name": "ipython",
    "version": 3
   },
   "file_extension": ".py",
   "mimetype": "text/x-python",
   "name": "python",
   "nbconvert_exporter": "python",
   "pygments_lexer": "ipython3",
   "version": "3.10.17"
  }
 },
 "nbformat": 4,
 "nbformat_minor": 5
}
