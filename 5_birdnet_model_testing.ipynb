{
 "cells": [
  {
   "cell_type": "code",
   "execution_count": 35,
   "id": "ac3601f7",
   "metadata": {},
   "outputs": [],
   "source": [
    "import os\n",
    "import csv\n",
    "from collections import defaultdict\n",
    "import json"
   ]
  },
  {
   "cell_type": "markdown",
   "id": "1e9d043e",
   "metadata": {},
   "source": [
    "# To finetune"
   ]
  },
  {
   "cell_type": "code",
   "execution_count": 36,
   "id": "2a051c37",
   "metadata": {},
   "outputs": [],
   "source": [
    "DATASET_VAR = 'augm_final_1'        # augm_final_1, base_final_1, orig\n",
    "DATASET_NAME = 'dataset'\n",
    "RESULTS_PATH = f'/home/giacomoschiavo/finetuning-BirdNET/models/BirdNET_tuned/{DATASET_VAR}'\n",
    "VALID_TABLE = f'{RESULTS_PATH}/valid/BirdNET_SelectionTable.txt'\n",
    "TRAIN_PATH = f'/home/giacomoschiavo/segments/{DATASET_NAME}/train'\n",
    "VALID_PATH = f'/home/giacomoschiavo/segments/{DATASET_NAME}/valid'\n",
    "TEST_PATH = f'/home/giacomoschiavo/segments/{DATASET_NAME}/test'\n",
    "TEST_TABLE = f'{RESULTS_PATH}/test/BirdNET_SelectionTable.txt'\n",
    "FINAL_RESULTS_PATH = '/home/giacomoschiavo/finetuning-BirdNET/models/results'"
   ]
  },
  {
   "cell_type": "code",
   "execution_count": 37,
   "id": "dd57b404",
   "metadata": {},
   "outputs": [
    {
     "name": "stdout",
     "output_type": "stream",
     "text": [
      "python -m birdnet_analyzer.train --i /home/giacomoschiavo/segments/dataset/train --o /home/giacomoschiavo/finetuning-BirdNET/models/BirdNET_tuned/augm_final_1/augm_final_1.tflite --batch_size 64 --threads 16 --val_split 0.01 --epochs 150 --mixup --cache_mode save --cache_file /home/giacomoschiavo/finetuning-BirdNET/models/BirdNET_tuned/augm_final_1/augm_final_1.npz\n"
     ]
    }
   ],
   "source": [
    "print(f'python -m birdnet_analyzer.train --i {TRAIN_PATH} --o {RESULTS_PATH}/{DATASET_VAR}.tflite --batch_size 64 --threads 16 --val_split 0.01 --epochs 150 --mixup --cache_mode save --cache_file {RESULTS_PATH}/{DATASET_VAR}.npz')"
   ]
  },
  {
   "cell_type": "markdown",
   "id": "c230d1d7",
   "metadata": {},
   "source": [
    "# To analize"
   ]
  },
  {
   "cell_type": "code",
   "execution_count": 38,
   "id": "84cbd050",
   "metadata": {},
   "outputs": [],
   "source": [
    "MIN_CONF = '0.05'\n",
    "SENS = '1'"
   ]
  },
  {
   "cell_type": "code",
   "execution_count": 39,
   "id": "66345eab",
   "metadata": {},
   "outputs": [
    {
     "name": "stdout",
     "output_type": "stream",
     "text": [
      "python -m birdnet_analyzer.analyze --i /home/giacomoschiavo/segments/dataset/valid --o /home/giacomoschiavo/finetuning-BirdNET/models/BirdNET_tuned/augm_final_1/valid --slist /home/giacomoschiavo/finetuning-BirdNET/models/BirdNET_tuned/Labels.txt --threads 16 --combine_results --min_conf 0.05 --classifier /home/giacomoschiavo/finetuning-BirdNET/models/BirdNET_tuned/augm_final_1/augm_final_1.tflite --sensitivity 1\n"
     ]
    }
   ],
   "source": [
    "print(f'python -m birdnet_analyzer.analyze --i {VALID_PATH} --o {RESULTS_PATH}/valid --slist /home/giacomoschiavo/finetuning-BirdNET/models/BirdNET_tuned/Labels.txt --threads 16 --combine_results --min_conf {MIN_CONF} --classifier {RESULTS_PATH}/{DATASET_VAR}.tflite --sensitivity {SENS}')"
   ]
  },
  {
   "cell_type": "code",
   "execution_count": 40,
   "id": "cea96457",
   "metadata": {},
   "outputs": [
    {
     "name": "stdout",
     "output_type": "stream",
     "text": [
      "python -m birdnet_analyzer.analyze --i /home/giacomoschiavo/segments/dataset/test --o /home/giacomoschiavo/finetuning-BirdNET/models/BirdNET_tuned/augm_final_1/test --slist /home/giacomoschiavo/finetuning-BirdNET/models/BirdNET_tuned/Labels.txt --threads 16 --combine_results --min_conf 0.05 --classifier /home/giacomoschiavo/finetuning-BirdNET/models/BirdNET_tuned/augm_final_1/augm_final_1.tflite --sensitivity 1\n"
     ]
    }
   ],
   "source": [
    "print(f'python -m birdnet_analyzer.analyze --i {TEST_PATH} --o {RESULTS_PATH}/test --slist /home/giacomoschiavo/finetuning-BirdNET/models/BirdNET_tuned/Labels.txt --threads 16 --combine_results --min_conf {MIN_CONF} --classifier {RESULTS_PATH}/{DATASET_VAR}.tflite --sensitivity {SENS}')"
   ]
  },
  {
   "cell_type": "markdown",
   "id": "bff3758c",
   "metadata": {},
   "source": [
    "# Analysis"
   ]
  },
  {
   "cell_type": "code",
   "execution_count": 41,
   "id": "1c0f0071",
   "metadata": {},
   "outputs": [],
   "source": [
    "with open(f\"./utils/{DATASET_NAME}/dataset_config_custom.json\") as f:\n",
    "    dataset_config = json.load(f)\n",
    "class_names = list(dataset_config['mappings'].keys())"
   ]
  },
  {
   "cell_type": "code",
   "execution_count": 42,
   "id": "5a260f70",
   "metadata": {},
   "outputs": [],
   "source": [
    "with open('/home/giacomoschiavo/finetuning-BirdNET/utils/species_dict_map.json') as f:\n",
    "    species_dict = json.load(f)\n",
    "inv_species_dict = {value: key for key, value in species_dict.items()}"
   ]
  },
  {
   "cell_type": "code",
   "execution_count": 43,
   "id": "5b313a81",
   "metadata": {},
   "outputs": [],
   "source": [
    "def get_conf_scores():\n",
    "    conf_scores = {}\n",
    "\n",
    "    #  {'Aeroplane': [(np.float32(0.0), False),\n",
    "    #               (np.float32(1.3937646e-30), False),\n",
    "    #               (np.float32(1.0654355e-25), False),\n",
    "    #               (np.float32(0.0), False),\n",
    "\n",
    "    with open(VALID_TABLE, 'r') as f:\n",
    "        reader = csv.DictReader(f, delimiter='\\t')  # Usa TAB come separatore\n",
    "        for row in reader:\n",
    "            file_path = row['Begin Path']\n",
    "            pred_species_name = row['Common Name']\n",
    "            if row['Common Name'] in inv_species_dict:\n",
    "                pred_species_name = '_'.join([inv_species_dict[row['Common Name']], row['Common Name']])\n",
    "            true_species_name = file_path.split('/')[-2]\n",
    "            confidence = float(row['Confidence'])\n",
    "            if pred_species_name not in conf_scores:\n",
    "                conf_scores[pred_species_name] = []\n",
    "            is_correct = pred_species_name == true_species_name\n",
    "            conf_scores[pred_species_name].append((confidence, is_correct))\n",
    "    return conf_scores\n",
    "            "
   ]
  },
  {
   "cell_type": "code",
   "execution_count": 44,
   "id": "a032ceff",
   "metadata": {},
   "outputs": [],
   "source": [
    "conf_scores = get_conf_scores()"
   ]
  },
  {
   "cell_type": "code",
   "execution_count": 45,
   "id": "2f88e1c6",
   "metadata": {},
   "outputs": [],
   "source": [
    "from sklearn.metrics import f1_score\n",
    "import numpy as np \n",
    "\n",
    "DEFAULT_THRESH = 0.15\n",
    "\n",
    "def compute_best_thresholds(conf_scores, num_thresholds=200, min_thresh=0.01, max_thresh=0.95):\n",
    "    thresholds = {}\n",
    "\n",
    "    for species, values in conf_scores.items():\n",
    "        probs, truths = zip(*values)\n",
    "        probs = np.array(probs)\n",
    "        truths = np.array(truths).astype(int)\n",
    "\n",
    "        best_thresh = DEFAULT_THRESH\n",
    "        best_f1 = 0.0\n",
    "\n",
    "        for thresh in np.linspace(min_thresh, max_thresh, num_thresholds):\n",
    "            preds = (probs >= thresh).astype(int)\n",
    "            f1 = f1_score(truths, preds, zero_division=0)\n",
    "            if f1 > best_f1:\n",
    "                best_f1 = f1\n",
    "                best_thresh = thresh\n",
    "\n",
    "        thresholds[species] = best_thresh\n",
    "        print(f\"📊 {species} -> {best_thresh:.3f}, F1-score: {best_f1:.3f}\")\n",
    "\n",
    "    return thresholds\n",
    "\n"
   ]
  },
  {
   "cell_type": "code",
   "execution_count": 46,
   "id": "828ba702",
   "metadata": {},
   "outputs": [
    {
     "name": "stdout",
     "output_type": "stream",
     "text": [
      "📊 Phylloscopus collybita_Common Chiffchaff -> 0.053, F1-score: 0.222\n",
      "📊 Fringilla coelebs_Common Chaffinch -> 0.208, F1-score: 0.446\n",
      "📊 Sylvia atricapilla_Eurasian Blackcap -> 0.150, F1-score: 0.000\n",
      "📊 Troglodytes troglodytes_Eurasian Wren -> 0.119, F1-score: 0.431\n",
      "📊 Erithacus rubecula_European Robin -> 0.071, F1-score: 0.222\n",
      "📊 Turdus merula_Eurasian Blackbird -> 0.473, F1-score: 0.245\n",
      "📊 Lophophanes cristatus_Crested Tit -> 0.147, F1-score: 0.182\n",
      "📊 Loxia curvirostra_Common Crossbill -> 0.312, F1-score: 0.416\n",
      "📊 Anthus trivialis_Tree Pipit -> 0.251, F1-score: 0.242\n",
      "📊 Parus major_Great Tit -> 0.100, F1-score: 0.018\n",
      "📊 Regulus ignicapilla_Common Firecrest -> 0.071, F1-score: 0.248\n",
      "📊 Periparus ater_Coal Tit -> 0.591, F1-score: 0.433\n",
      "📊 Certhia familiaris_Eurasian Treecreeper -> 0.799, F1-score: 0.762\n",
      "📊 None -> 0.062, F1-score: 0.529\n",
      "📊 Wind -> 0.086, F1-score: 0.270\n",
      "📊 Coccothraustes coccothraustes_Hawfinch -> 0.076, F1-score: 0.514\n",
      "📊 Regulus regulus_Goldcrest -> 0.090, F1-score: 0.941\n",
      "📊 Vegetation -> 0.150, F1-score: 0.000\n",
      "📊 Aeroplane -> 0.150, F1-score: 0.000\n",
      "📊 Muscicapa striata_Spotted Flycatcher -> 0.150, F1-score: 0.000\n"
     ]
    }
   ],
   "source": [
    "best_thresholds = compute_best_thresholds(conf_scores)"
   ]
  },
  {
   "cell_type": "code",
   "execution_count": 47,
   "id": "dd4dc3ed",
   "metadata": {},
   "outputs": [],
   "source": [
    "with open(f'/home/giacomoschiavo/finetuning-BirdNET/utils/{DATASET_NAME}/true_segments_test.json') as f:\n",
    "    true_segments_test = json.load(f)"
   ]
  },
  {
   "cell_type": "code",
   "execution_count": 48,
   "id": "754551ac",
   "metadata": {},
   "outputs": [],
   "source": [
    "with open(f'/home/giacomoschiavo/finetuning-BirdNET/utils/{DATASET_NAME}/true_segments_train.json') as f:\n",
    "    true_segments_full = json.load(f)"
   ]
  },
  {
   "cell_type": "code",
   "execution_count": 49,
   "id": "ef6a7cc4",
   "metadata": {},
   "outputs": [],
   "source": [
    "true_segments_full.update(true_segments_test)"
   ]
  },
  {
   "cell_type": "code",
   "execution_count": 50,
   "id": "f85a331e",
   "metadata": {},
   "outputs": [
    {
     "data": {
      "text/plain": [
       "20"
      ]
     },
     "execution_count": 50,
     "metadata": {},
     "output_type": "execute_result"
    }
   ],
   "source": [
    "from sklearn.preprocessing import MultiLabelBinarizer\n",
    "\n",
    "test_species_list = os.listdir(TEST_PATH)\n",
    "# test_species_list = [species for species in test_species_list if len(species.split('_')) > 1]\n",
    "mlb = MultiLabelBinarizer()\n",
    "mlb.fit([test_species_list])\n",
    "# if DATASET_VAR == \"orig\":\n",
    "#     class_names = [species for species in test_species_list if len(species.split(\"_\")) > 1]\n",
    "#     mlb.fit([class_names])\n",
    "\n",
    "len(mlb.classes_)"
   ]
  },
  {
   "cell_type": "code",
   "execution_count": 51,
   "id": "f6200a3d",
   "metadata": {},
   "outputs": [],
   "source": [
    "pred_segments_proba = {}\n",
    "with open(TEST_TABLE, 'r') as f:\n",
    "    reader = csv.DictReader(f, delimiter='\\t')  # Usa TAB come separatore\n",
    "    for row in reader:\n",
    "        file_path = row['Begin Path']\n",
    "        audio_name = os.path.basename(file_path)    # in test non sono presenti WABAD o augm\n",
    "        only_audio_name = \"_\".join(audio_name.split(\"_\")[:2]) + \".WAV\"\n",
    "        segm = \"_\".join(audio_name.split(\".\")[0].split(\"_\")[-2:])\n",
    "        pred_species_name = row['Common Name']\n",
    "        if row['Common Name'] in inv_species_dict:\n",
    "            pred_species_name = '_'.join([inv_species_dict[row['Common Name']], row['Common Name']])\n",
    "        # if len(file_path.split('/')[-2].split('_')) == 1:       # skip if None, Pecking, etc. \n",
    "        #     continue\n",
    "        confidence = float(row['Confidence'])\n",
    "        pred_segments_proba.setdefault(only_audio_name, {})\n",
    "        best_thresholds.setdefault(pred_species_name, DEFAULT_THRESH)\n",
    "        if confidence >= best_thresholds[pred_species_name]:\n",
    "            pred_segments_proba[only_audio_name].setdefault(segm, {})\n",
    "            if \"None\" in pred_segments_proba[only_audio_name][segm]:\n",
    "                continue\n",
    "            if pred_species_name == \"None\":\n",
    "                pred_segments_proba[only_audio_name][segm] = {\"None\": confidence}\n",
    "            else:\n",
    "                pred_segments_proba[only_audio_name][segm].update({pred_species_name: confidence})"
   ]
  },
  {
   "cell_type": "code",
   "execution_count": 52,
   "id": "4864c453",
   "metadata": {},
   "outputs": [],
   "source": [
    "true_segments = defaultdict(dict)\n",
    "for species in os.listdir(TEST_PATH):\n",
    "    if species not in test_species_list:\n",
    "        print(species, 'ignored')\n",
    "        continue\n",
    "    for audio in os.listdir(os.path.join(TEST_PATH, species)):\n",
    "        audio = audio.split('.')[0]\n",
    "        date, time, segm1, segm2 = audio.split('_')\n",
    "        audio_name = '_'.join([date, time]) + '.WAV'\n",
    "        segm = '_'.join([segm1, segm2])\n",
    "        if segm not in true_segments[audio_name]:\n",
    "            true_segments[audio_name][segm] = []\n",
    "        true_segments[audio_name][segm].extend([species])"
   ]
  },
  {
   "cell_type": "code",
   "execution_count": 53,
   "id": "c75fcf79",
   "metadata": {},
   "outputs": [],
   "source": [
    "for audio in true_segments.keys():\n",
    "    pred_segments_proba.setdefault(audio, {})\n",
    "    if audio in pred_segments_proba:\n",
    "        for segm in true_segments[audio].keys():\n",
    "            pred_segments_proba[audio].setdefault(segm, {})"
   ]
  },
  {
   "cell_type": "code",
   "execution_count": 54,
   "id": "20de0c2a",
   "metadata": {},
   "outputs": [],
   "source": [
    "# extract recognized labels\n",
    "pred_segments = {}\n",
    "pred_proba = {}\n",
    "\n",
    "for audio, segments in pred_segments_proba.items():\n",
    "    pred_segments.setdefault(audio, {})\n",
    "    pred_proba.setdefault(audio, {})\n",
    "    for segm, labels in segments.items():\n",
    "        pred_segments[audio].setdefault(segm, {})\n",
    "        pred_segments[audio][segm] = list(labels.keys())\n",
    "        pred_proba[audio].setdefault(segm, {})\n",
    "        pred_proba[audio][segm] = list(labels.values())"
   ]
  },
  {
   "cell_type": "code",
   "execution_count": 55,
   "id": "edd4bd9d",
   "metadata": {},
   "outputs": [],
   "source": [
    "def segment_key_to_float(k):\n",
    "    return float(k.replace(\"_\", \".\"))\n",
    "\n",
    "def get_conf_dict(pred_segments):\n",
    "    for audio in pred_segments.keys():\n",
    "        pred_segments[audio] = dict(sorted(pred_segments[audio].items(), key=lambda x: segment_key_to_float(x[0]))) \n",
    "    pred_segments = dict(sorted(pred_segments.items(), key=lambda x: x[0])) \n",
    "    return pred_segments"
   ]
  },
  {
   "cell_type": "code",
   "execution_count": 56,
   "id": "6406c206",
   "metadata": {},
   "outputs": [],
   "source": [
    "pred_segments_proba = get_conf_dict(pred_segments_proba)"
   ]
  },
  {
   "cell_type": "code",
   "execution_count": 57,
   "id": "50119f58",
   "metadata": {},
   "outputs": [],
   "source": [
    "with open(f\"{RESULTS_PATH}/test_pred_segments.json\", 'w') as f:\n",
    "    json.dump(pred_segments_proba, f, indent=4)"
   ]
  },
  {
   "cell_type": "code",
   "execution_count": 58,
   "id": "805634df",
   "metadata": {},
   "outputs": [],
   "source": [
    "y_pred = []\n",
    "y_true = []\n",
    "y_pred_proba = []\n",
    "\n",
    "for audio in pred_segments:\n",
    "    for segment in sorted(pred_segments[audio].keys()):\n",
    "        true_labels = true_segments[audio].get(segment, [])\n",
    "        pred_labels = pred_segments[audio].get(segment, [])\n",
    "        proba_values = pred_proba[audio].get(segment, [])\n",
    "\n",
    "        y_true_vec = mlb.transform([true_labels])[0]  # 1D array\n",
    "        y_pred_vec = mlb.transform([pred_labels])[0]  # 1D array\n",
    "\n",
    "        proba_vec = np.zeros(len(mlb.classes_))\n",
    "        for label, score in zip(pred_labels, proba_values):\n",
    "            if label in mlb.classes_:\n",
    "                idx = list(mlb.classes_).index(label)\n",
    "                proba_vec[idx] = score\n",
    "\n",
    "        y_true.append(y_true_vec)\n",
    "        y_pred.append(y_pred_vec)\n",
    "        y_pred_proba.append(proba_vec)\n",
    "\n",
    "y_true = np.array(y_true)\n",
    "y_pred = np.array(y_pred)\n",
    "y_pred_proba = np.array(y_pred_proba)\n"
   ]
  },
  {
   "cell_type": "code",
   "execution_count": 59,
   "id": "58e4c131",
   "metadata": {},
   "outputs": [
    {
     "data": {
      "text/html": [
       "<div>\n",
       "<style scoped>\n",
       "    .dataframe tbody tr th:only-of-type {\n",
       "        vertical-align: middle;\n",
       "    }\n",
       "\n",
       "    .dataframe tbody tr th {\n",
       "        vertical-align: top;\n",
       "    }\n",
       "\n",
       "    .dataframe thead th {\n",
       "        text-align: right;\n",
       "    }\n",
       "</style>\n",
       "<table border=\"1\" class=\"dataframe\">\n",
       "  <thead>\n",
       "    <tr style=\"text-align: right;\">\n",
       "      <th></th>\n",
       "      <th>precision</th>\n",
       "      <th>recall</th>\n",
       "      <th>f1-score</th>\n",
       "      <th>support</th>\n",
       "    </tr>\n",
       "  </thead>\n",
       "  <tbody>\n",
       "    <tr>\n",
       "      <th>Aeroplane</th>\n",
       "      <td>0.000000</td>\n",
       "      <td>0.000000</td>\n",
       "      <td>0.000000</td>\n",
       "      <td>22.0</td>\n",
       "    </tr>\n",
       "    <tr>\n",
       "      <th>Anthus trivialis_Tree Pipit</th>\n",
       "      <td>0.523810</td>\n",
       "      <td>0.388235</td>\n",
       "      <td>0.445946</td>\n",
       "      <td>170.0</td>\n",
       "    </tr>\n",
       "    <tr>\n",
       "      <th>Certhia familiaris_Eurasian Treecreeper</th>\n",
       "      <td>0.270270</td>\n",
       "      <td>0.101010</td>\n",
       "      <td>0.147059</td>\n",
       "      <td>99.0</td>\n",
       "    </tr>\n",
       "    <tr>\n",
       "      <th>Coccothraustes coccothraustes_Hawfinch</th>\n",
       "      <td>0.772727</td>\n",
       "      <td>0.195402</td>\n",
       "      <td>0.311927</td>\n",
       "      <td>87.0</td>\n",
       "    </tr>\n",
       "    <tr>\n",
       "      <th>Erithacus rubecula_European Robin</th>\n",
       "      <td>0.466286</td>\n",
       "      <td>0.733813</td>\n",
       "      <td>0.570231</td>\n",
       "      <td>556.0</td>\n",
       "    </tr>\n",
       "    <tr>\n",
       "      <th>Fringilla coelebs_Common Chaffinch</th>\n",
       "      <td>0.512315</td>\n",
       "      <td>0.686675</td>\n",
       "      <td>0.586817</td>\n",
       "      <td>1666.0</td>\n",
       "    </tr>\n",
       "    <tr>\n",
       "      <th>Lophophanes cristatus_Crested Tit</th>\n",
       "      <td>0.034091</td>\n",
       "      <td>0.130435</td>\n",
       "      <td>0.054054</td>\n",
       "      <td>23.0</td>\n",
       "    </tr>\n",
       "    <tr>\n",
       "      <th>Loxia curvirostra_Common Crossbill</th>\n",
       "      <td>0.458333</td>\n",
       "      <td>0.239130</td>\n",
       "      <td>0.314286</td>\n",
       "      <td>46.0</td>\n",
       "    </tr>\n",
       "    <tr>\n",
       "      <th>Muscicapa striata_Spotted Flycatcher</th>\n",
       "      <td>0.000000</td>\n",
       "      <td>0.000000</td>\n",
       "      <td>0.000000</td>\n",
       "      <td>173.0</td>\n",
       "    </tr>\n",
       "    <tr>\n",
       "      <th>None</th>\n",
       "      <td>0.821805</td>\n",
       "      <td>0.915866</td>\n",
       "      <td>0.866290</td>\n",
       "      <td>4683.0</td>\n",
       "    </tr>\n",
       "    <tr>\n",
       "      <th>Parus major_Great Tit</th>\n",
       "      <td>0.000000</td>\n",
       "      <td>0.000000</td>\n",
       "      <td>0.000000</td>\n",
       "      <td>14.0</td>\n",
       "    </tr>\n",
       "    <tr>\n",
       "      <th>Periparus ater_Coal Tit</th>\n",
       "      <td>0.578947</td>\n",
       "      <td>0.189655</td>\n",
       "      <td>0.285714</td>\n",
       "      <td>232.0</td>\n",
       "    </tr>\n",
       "    <tr>\n",
       "      <th>Phylloscopus collybita_Common Chiffchaff</th>\n",
       "      <td>0.563329</td>\n",
       "      <td>0.692878</td>\n",
       "      <td>0.621424</td>\n",
       "      <td>674.0</td>\n",
       "    </tr>\n",
       "    <tr>\n",
       "      <th>Regulus ignicapilla_Common Firecrest</th>\n",
       "      <td>0.883495</td>\n",
       "      <td>0.303840</td>\n",
       "      <td>0.452174</td>\n",
       "      <td>599.0</td>\n",
       "    </tr>\n",
       "    <tr>\n",
       "      <th>Regulus regulus_Goldcrest</th>\n",
       "      <td>0.285714</td>\n",
       "      <td>0.035714</td>\n",
       "      <td>0.063492</td>\n",
       "      <td>168.0</td>\n",
       "    </tr>\n",
       "    <tr>\n",
       "      <th>Sylvia atricapilla_Eurasian Blackcap</th>\n",
       "      <td>0.500000</td>\n",
       "      <td>0.381481</td>\n",
       "      <td>0.432773</td>\n",
       "      <td>540.0</td>\n",
       "    </tr>\n",
       "    <tr>\n",
       "      <th>Troglodytes troglodytes_Eurasian Wren</th>\n",
       "      <td>0.731707</td>\n",
       "      <td>0.107914</td>\n",
       "      <td>0.188088</td>\n",
       "      <td>278.0</td>\n",
       "    </tr>\n",
       "    <tr>\n",
       "      <th>Turdus merula_Eurasian Blackbird</th>\n",
       "      <td>0.062500</td>\n",
       "      <td>0.003175</td>\n",
       "      <td>0.006042</td>\n",
       "      <td>315.0</td>\n",
       "    </tr>\n",
       "    <tr>\n",
       "      <th>Vegetation</th>\n",
       "      <td>0.000000</td>\n",
       "      <td>0.000000</td>\n",
       "      <td>0.000000</td>\n",
       "      <td>45.0</td>\n",
       "    </tr>\n",
       "    <tr>\n",
       "      <th>Wind</th>\n",
       "      <td>0.048837</td>\n",
       "      <td>0.108247</td>\n",
       "      <td>0.067308</td>\n",
       "      <td>194.0</td>\n",
       "    </tr>\n",
       "    <tr>\n",
       "      <th>micro avg</th>\n",
       "      <td>0.640776</td>\n",
       "      <td>0.652400</td>\n",
       "      <td>0.646536</td>\n",
       "      <td>10584.0</td>\n",
       "    </tr>\n",
       "    <tr>\n",
       "      <th>macro avg</th>\n",
       "      <td>0.375708</td>\n",
       "      <td>0.260674</td>\n",
       "      <td>0.270681</td>\n",
       "      <td>10584.0</td>\n",
       "    </tr>\n",
       "    <tr>\n",
       "      <th>weighted avg</th>\n",
       "      <td>0.638697</td>\n",
       "      <td>0.652400</td>\n",
       "      <td>0.619078</td>\n",
       "      <td>10584.0</td>\n",
       "    </tr>\n",
       "    <tr>\n",
       "      <th>samples avg</th>\n",
       "      <td>0.648333</td>\n",
       "      <td>0.662568</td>\n",
       "      <td>0.643447</td>\n",
       "      <td>10584.0</td>\n",
       "    </tr>\n",
       "  </tbody>\n",
       "</table>\n",
       "</div>"
      ],
      "text/plain": [
       "                                          precision    recall  f1-score  \\\n",
       "Aeroplane                                  0.000000  0.000000  0.000000   \n",
       "Anthus trivialis_Tree Pipit                0.523810  0.388235  0.445946   \n",
       "Certhia familiaris_Eurasian Treecreeper    0.270270  0.101010  0.147059   \n",
       "Coccothraustes coccothraustes_Hawfinch     0.772727  0.195402  0.311927   \n",
       "Erithacus rubecula_European Robin          0.466286  0.733813  0.570231   \n",
       "Fringilla coelebs_Common Chaffinch         0.512315  0.686675  0.586817   \n",
       "Lophophanes cristatus_Crested Tit          0.034091  0.130435  0.054054   \n",
       "Loxia curvirostra_Common Crossbill         0.458333  0.239130  0.314286   \n",
       "Muscicapa striata_Spotted Flycatcher       0.000000  0.000000  0.000000   \n",
       "None                                       0.821805  0.915866  0.866290   \n",
       "Parus major_Great Tit                      0.000000  0.000000  0.000000   \n",
       "Periparus ater_Coal Tit                    0.578947  0.189655  0.285714   \n",
       "Phylloscopus collybita_Common Chiffchaff   0.563329  0.692878  0.621424   \n",
       "Regulus ignicapilla_Common Firecrest       0.883495  0.303840  0.452174   \n",
       "Regulus regulus_Goldcrest                  0.285714  0.035714  0.063492   \n",
       "Sylvia atricapilla_Eurasian Blackcap       0.500000  0.381481  0.432773   \n",
       "Troglodytes troglodytes_Eurasian Wren      0.731707  0.107914  0.188088   \n",
       "Turdus merula_Eurasian Blackbird           0.062500  0.003175  0.006042   \n",
       "Vegetation                                 0.000000  0.000000  0.000000   \n",
       "Wind                                       0.048837  0.108247  0.067308   \n",
       "micro avg                                  0.640776  0.652400  0.646536   \n",
       "macro avg                                  0.375708  0.260674  0.270681   \n",
       "weighted avg                               0.638697  0.652400  0.619078   \n",
       "samples avg                                0.648333  0.662568  0.643447   \n",
       "\n",
       "                                          support  \n",
       "Aeroplane                                    22.0  \n",
       "Anthus trivialis_Tree Pipit                 170.0  \n",
       "Certhia familiaris_Eurasian Treecreeper      99.0  \n",
       "Coccothraustes coccothraustes_Hawfinch       87.0  \n",
       "Erithacus rubecula_European Robin           556.0  \n",
       "Fringilla coelebs_Common Chaffinch         1666.0  \n",
       "Lophophanes cristatus_Crested Tit            23.0  \n",
       "Loxia curvirostra_Common Crossbill           46.0  \n",
       "Muscicapa striata_Spotted Flycatcher        173.0  \n",
       "None                                       4683.0  \n",
       "Parus major_Great Tit                        14.0  \n",
       "Periparus ater_Coal Tit                     232.0  \n",
       "Phylloscopus collybita_Common Chiffchaff    674.0  \n",
       "Regulus ignicapilla_Common Firecrest        599.0  \n",
       "Regulus regulus_Goldcrest                   168.0  \n",
       "Sylvia atricapilla_Eurasian Blackcap        540.0  \n",
       "Troglodytes troglodytes_Eurasian Wren       278.0  \n",
       "Turdus merula_Eurasian Blackbird            315.0  \n",
       "Vegetation                                   45.0  \n",
       "Wind                                        194.0  \n",
       "micro avg                                 10584.0  \n",
       "macro avg                                 10584.0  \n",
       "weighted avg                              10584.0  \n",
       "samples avg                               10584.0  "
      ]
     },
     "execution_count": 59,
     "metadata": {},
     "output_type": "execute_result"
    }
   ],
   "source": [
    "from sklearn.metrics import classification_report\n",
    "import pandas as pd\n",
    "report = classification_report(y_true, y_pred, target_names=mlb.classes_, zero_division=0, output_dict=True)\n",
    "\n",
    "report_df = pd.DataFrame(report).T\n",
    "report_df"
   ]
  },
  {
   "cell_type": "code",
   "execution_count": 60,
   "id": "b6bd3c8c",
   "metadata": {},
   "outputs": [],
   "source": [
    "with open(f'{RESULTS_PATH}/classification_report.json', 'w') as f:\n",
    "    json.dump(report, f)"
   ]
  },
  {
   "cell_type": "code",
   "execution_count": 61,
   "id": "4dff3f65",
   "metadata": {},
   "outputs": [],
   "source": [
    "np.savez(f'{FINAL_RESULTS_PATH}/results_b{DATASET_VAR}.npz', y_true=y_true, y_pred=y_pred, y_pred_proba=y_pred_proba, class_names=mlb.classes_)"
   ]
  }
 ],
 "metadata": {
  "kernelspec": {
   "display_name": "myenv",
   "language": "python",
   "name": "python3"
  },
  "language_info": {
   "codemirror_mode": {
    "name": "ipython",
    "version": 3
   },
   "file_extension": ".py",
   "mimetype": "text/x-python",
   "name": "python",
   "nbconvert_exporter": "python",
   "pygments_lexer": "ipython3",
   "version": "3.9.21"
  }
 },
 "nbformat": 4,
 "nbformat_minor": 5
}
