{
 "cells": [
  {
   "cell_type": "markdown",
   "metadata": {},
   "source": [
    "# Augmentation comparison"
   ]
  },
  {
   "cell_type": "code",
   "execution_count": 24,
   "metadata": {},
   "outputs": [],
   "source": [
    "import numpy as np\n",
    "import matplotlib.pyplot as plt\n",
    "import os\n",
    "import numpy as np\n",
    "import seaborn as sns\n",
    "import json\n",
    "import librosa\n",
    "import soundfile as sf\n",
    "import random\n",
    "import pandas as pd\n",
    "from tqdm import tqdm\n",
    "import scipy.stats as stats"
   ]
  },
  {
   "cell_type": "code",
   "execution_count": 26,
   "metadata": {},
   "outputs": [],
   "source": [
    "models_folder_path = 'classifiers/official'\n",
    "model_names = os.listdir(models_folder_path)\n",
    "models_to_compare = []\n",
    "for model in model_names:\n",
    "    if os.path.exists(os.path.join(models_folder_path, model, \"classification_report.json\")):\n",
    "        models_to_compare.append(model)\n"
   ]
  },
  {
   "cell_type": "code",
   "execution_count": 27,
   "metadata": {},
   "outputs": [],
   "source": [
    "DATASET_NAME = \"NEW_DATASET_1\"\n",
    "audio_path = f\"E:/Giacomo/Tovanella/{DATASET_NAME}/test\"\n",
    "all_species = os.listdir(audio_path)"
   ]
  },
  {
   "cell_type": "markdown",
   "metadata": {},
   "source": [
    "## Classification report comparisons"
   ]
  },
  {
   "cell_type": "code",
   "execution_count": 28,
   "metadata": {},
   "outputs": [],
   "source": [
    "results_folders = \"classifiers\\official\"\n",
    "class_reports = {}\n",
    "for model_name in models_to_compare:\n",
    "    with open(os.path.join(results_folders, model_name, \"classification_report.json\"), \"r\") as f:\n",
    "        class_reports[model_name] = json.load(f)"
   ]
  },
  {
   "cell_type": "code",
   "execution_count": 29,
   "metadata": {},
   "outputs": [
    {
     "data": {
      "application/vnd.microsoft.datawrangler.viewer.v0+json": {
       "columns": [
        {
         "name": "index",
         "rawType": "int64",
         "type": "integer"
        },
        {
         "name": "Model Name",
         "rawType": "object",
         "type": "string"
        },
        {
         "name": "Precision",
         "rawType": "float64",
         "type": "float"
        },
        {
         "name": "Recall",
         "rawType": "float64",
         "type": "float"
        },
        {
         "name": "F1-score",
         "rawType": "float64",
         "type": "float"
        }
       ],
       "conversionMethod": "pd.DataFrame",
       "ref": "b58743bd-5d96-4789-ad5d-3addfbb60761",
       "rows": [
        [
         "2",
         "pasqualo",
         "0.5262",
         "0.4174",
         "0.4417"
        ],
        [
         "3",
         "rebecca",
         "0.5113",
         "0.4349",
         "0.4379"
        ],
        [
         "0",
         "angelo",
         "0.4325",
         "0.284",
         "0.315"
        ],
        [
         "1",
         "ludovica",
         "0.705",
         "0.176",
         "0.2608"
        ]
       ],
       "shape": {
        "columns": 4,
        "rows": 4
       }
      },
      "text/html": [
       "<div>\n",
       "<style scoped>\n",
       "    .dataframe tbody tr th:only-of-type {\n",
       "        vertical-align: middle;\n",
       "    }\n",
       "\n",
       "    .dataframe tbody tr th {\n",
       "        vertical-align: top;\n",
       "    }\n",
       "\n",
       "    .dataframe thead th {\n",
       "        text-align: right;\n",
       "    }\n",
       "</style>\n",
       "<table border=\"1\" class=\"dataframe\">\n",
       "  <thead>\n",
       "    <tr style=\"text-align: right;\">\n",
       "      <th></th>\n",
       "      <th>Model Name</th>\n",
       "      <th>Precision</th>\n",
       "      <th>Recall</th>\n",
       "      <th>F1-score</th>\n",
       "    </tr>\n",
       "  </thead>\n",
       "  <tbody>\n",
       "    <tr>\n",
       "      <th>2</th>\n",
       "      <td>pasqualo</td>\n",
       "      <td>0.5262</td>\n",
       "      <td>0.4174</td>\n",
       "      <td>0.4417</td>\n",
       "    </tr>\n",
       "    <tr>\n",
       "      <th>3</th>\n",
       "      <td>rebecca</td>\n",
       "      <td>0.5113</td>\n",
       "      <td>0.4349</td>\n",
       "      <td>0.4379</td>\n",
       "    </tr>\n",
       "    <tr>\n",
       "      <th>0</th>\n",
       "      <td>angelo</td>\n",
       "      <td>0.4325</td>\n",
       "      <td>0.2840</td>\n",
       "      <td>0.3150</td>\n",
       "    </tr>\n",
       "    <tr>\n",
       "      <th>1</th>\n",
       "      <td>ludovica</td>\n",
       "      <td>0.7050</td>\n",
       "      <td>0.1760</td>\n",
       "      <td>0.2608</td>\n",
       "    </tr>\n",
       "  </tbody>\n",
       "</table>\n",
       "</div>"
      ],
      "text/plain": [
       "  Model Name  Precision  Recall  F1-score\n",
       "2   pasqualo     0.5262  0.4174    0.4417\n",
       "3    rebecca     0.5113  0.4349    0.4379\n",
       "0     angelo     0.4325  0.2840    0.3150\n",
       "1   ludovica     0.7050  0.1760    0.2608"
      ]
     },
     "execution_count": 29,
     "metadata": {},
     "output_type": "execute_result"
    }
   ],
   "source": [
    "results = []\n",
    "\n",
    "for model_name, report in class_reports.items():\n",
    "    df = pd.DataFrame(report).T\n",
    "    # remove species not in augmented_species\n",
    "    weighted_precision = (df[\"precision\"] * df[\"support\"]).sum() / df[\"support\"].sum()\n",
    "    weighted_recall = (df[\"recall\"] * df[\"support\"]).sum() / df[\"support\"].sum()\n",
    "    weighted_f1 = (df[\"f1-score\"] * df[\"support\"]).sum() / df[\"support\"].sum()\n",
    "\n",
    "    results.append({\n",
    "        \"Model Name\": model_name,\n",
    "        \"Precision\": round(weighted_precision, 4),\n",
    "        \"Recall\": round(weighted_recall, 4),\n",
    "        \"F1-score\": round(weighted_f1, 4),\n",
    "    })\n",
    "\n",
    "# Creare tabella finale\n",
    "df_summary = pd.DataFrame(results)\n",
    "df_summary.sort_values(\"F1-score\", ascending=False)"
   ]
  },
  {
   "cell_type": "code",
   "execution_count": 30,
   "metadata": {},
   "outputs": [
    {
     "data": {
      "image/png": "[encoded data removed]",
      "text/plain": [
       "<Figure size 1000x500 with 1 Axes>"
      ]
     },
     "metadata": {},
     "output_type": "display_data"
    }
   ],
   "source": [
    "plt.figure(figsize=(10, 5))\n",
    "df_melted = df_summary.melt(id_vars=[\"Model Name\"], value_vars=[\"Precision\", \"Recall\", \"F1-score\"])\n",
    "sns.barplot(x=\"Model Name\", y=\"value\", hue=\"variable\", data=df_melted)\n",
    "\n",
    "plt.title(\"Confronto delle metriche tra modelli\")\n",
    "plt.ylabel(\"Score\")\n",
    "plt.xlabel(\"Model Name\")\n",
    "plt.xticks(rotation=45)\n",
    "plt.legend(title=\"Metrics\", loc=\"lower right\")\n",
    "plt.show()"
   ]
  },
  {
   "cell_type": "markdown",
   "metadata": {},
   "source": [
    "## ROC AUC comparisons"
   ]
  },
  {
   "cell_type": "code",
   "execution_count": 31,
   "metadata": {},
   "outputs": [],
   "source": [
    "# roc_curves = {}\n",
    "# for model_name in models_to_compare:\n",
    "#     if os.path.exists(os.path.join(results_folders, model_name, \"roc_auc.json\")):\n",
    "#         with open(os.path.join(results_folders, model_name, \"roc_auc.json\"), \"r\") as f:\n",
    "#             roc_curves[model_name] = json.load(f)"
   ]
  },
  {
   "cell_type": "code",
   "execution_count": 32,
   "metadata": {},
   "outputs": [],
   "source": [
    "# roc_results = []\n",
    "# for model_name, roc_data in roc_curves.items():\n",
    "#     auc_values = [specie_data[\"auc\"] for specie_name, specie_data in roc_data.items() if specie_name in all_species]\n",
    "#     mean_auc = sum(auc_values) / len(auc_values)\n",
    "#     roc_results.append({\n",
    "#         \"Model Name\": model_name,\n",
    "#         \"Mean AUC\": round(mean_auc, 4),\n",
    "#         \"Species Count\": len(auc_values)  # Numero di specie nel dataset\n",
    "#     })\n",
    "\n",
    "# # Creare DataFrame e salvare\n",
    "# df_auc = pd.DataFrame(roc_results)\n",
    "# df_auc.sort_values(\"Mean AUC\", ascending=False)"
   ]
  },
  {
   "cell_type": "markdown",
   "metadata": {},
   "source": [
    "## t-test on different models"
   ]
  },
  {
   "cell_type": "code",
   "execution_count": 33,
   "metadata": {},
   "outputs": [],
   "source": [
    "experiments = {}\n",
    "for model in models_to_compare:\n",
    "    experiments[model] = {}\n",
    "    # experiments[model][\"roc\"] = roc_curves[model]\n",
    "    experiments[model][\"class_report\"] = class_reports[model]"
   ]
  },
  {
   "cell_type": "code",
   "execution_count": 34,
   "metadata": {},
   "outputs": [],
   "source": [
    "# for each model, associate an array of f1 scores for each specie\n",
    "model_f1_scores = {}\n",
    "for model in models_to_compare:\n",
    "    f1_scores = []\n",
    "    for specie in all_species:\n",
    "        f1_scores.append(class_reports[model][specie][\"f1-score\"])\n",
    "    model_f1_scores[model] = f1_scores"
   ]
  },
  {
   "cell_type": "code",
   "execution_count": 35,
   "metadata": {},
   "outputs": [
    {
     "name": "stdout",
     "output_type": "stream",
     "text": [
      "angelo: p-value = 0.014437451958656311\n",
      "ludovica: p-value = 0.7523309588432312\n",
      "pasqualo: p-value = 0.5136711001396179\n",
      "rebecca: p-value = 0.10928443819284439\n"
     ]
    }
   ],
   "source": [
    "# check normality, if p-value < 0.05 then the distribution is not normal\n",
    "from scipy.stats import shapiro\n",
    "\n",
    "for model, scores in model_f1_scores.items():\n",
    "    stat, p = shapiro(scores)\n",
    "    print(f\"{model}: p-value = {p}\")"
   ]
  },
  {
   "cell_type": "code",
   "execution_count": 36,
   "metadata": {},
   "outputs": [
    {
     "name": "stderr",
     "output_type": "stream",
     "text": [
      "c:\\Users\\giaco\\AppData\\Local\\Programs\\Python\\Python310\\lib\\site-packages\\scipy\\stats\\_morestats.py:3145: UserWarning: Exact p-value calculation does not work if there are ties. Switching to normal approximation.\n",
      "  warnings.warn(\"Exact p-value calculation does not work if there are \"\n"
     ]
    },
    {
     "data": {
      "application/vnd.microsoft.datawrangler.viewer.v0+json": {
       "columns": [
        {
         "name": "index",
         "rawType": "int64",
         "type": "integer"
        },
        {
         "name": "Model Name",
         "rawType": "object",
         "type": "string"
        },
        {
         "name": "t-statistic",
         "rawType": "float64",
         "type": "float"
        },
        {
         "name": "p-value",
         "rawType": "float64",
         "type": "float"
        },
        {
         "name": "Significativo?",
         "rawType": "object",
         "type": "string"
        }
       ],
       "conversionMethod": "pd.DataFrame",
       "ref": "b2ba88b2-f09a-49eb-b775-f6d95c0ec46c",
       "rows": [
        [
         "0",
         "angelo",
         "41.0",
         "0.1627",
         "No"
        ],
        [
         "2",
         "pasqualo",
         "47.0",
         "0.1743",
         "No"
        ],
        [
         "1",
         "ludovica",
         "57.0",
         "0.3778",
         "No"
        ]
       ],
       "shape": {
        "columns": 4,
        "rows": 3
       }
      },
      "text/html": [
       "<div>\n",
       "<style scoped>\n",
       "    .dataframe tbody tr th:only-of-type {\n",
       "        vertical-align: middle;\n",
       "    }\n",
       "\n",
       "    .dataframe tbody tr th {\n",
       "        vertical-align: top;\n",
       "    }\n",
       "\n",
       "    .dataframe thead th {\n",
       "        text-align: right;\n",
       "    }\n",
       "</style>\n",
       "<table border=\"1\" class=\"dataframe\">\n",
       "  <thead>\n",
       "    <tr style=\"text-align: right;\">\n",
       "      <th></th>\n",
       "      <th>Model Name</th>\n",
       "      <th>t-statistic</th>\n",
       "      <th>p-value</th>\n",
       "      <th>Significativo?</th>\n",
       "    </tr>\n",
       "  </thead>\n",
       "  <tbody>\n",
       "    <tr>\n",
       "      <th>0</th>\n",
       "      <td>angelo</td>\n",
       "      <td>41.0</td>\n",
       "      <td>0.1627</td>\n",
       "      <td>No</td>\n",
       "    </tr>\n",
       "    <tr>\n",
       "      <th>2</th>\n",
       "      <td>pasqualo</td>\n",
       "      <td>47.0</td>\n",
       "      <td>0.1743</td>\n",
       "      <td>No</td>\n",
       "    </tr>\n",
       "    <tr>\n",
       "      <th>1</th>\n",
       "      <td>ludovica</td>\n",
       "      <td>57.0</td>\n",
       "      <td>0.3778</td>\n",
       "      <td>No</td>\n",
       "    </tr>\n",
       "  </tbody>\n",
       "</table>\n",
       "</div>"
      ],
      "text/plain": [
       "  Model Name  t-statistic  p-value Significativo?\n",
       "0     angelo         41.0   0.1627             No\n",
       "2   pasqualo         47.0   0.1743             No\n",
       "1   ludovica         57.0   0.3778             No"
      ]
     },
     "execution_count": 36,
     "metadata": {},
     "output_type": "execute_result"
    }
   ],
   "source": [
    "import numpy as np\n",
    "from scipy.stats import wilcoxon\n",
    "\n",
    "wilcoxon_results = []\n",
    "base_model_name = \"rebecca\"\n",
    "for model_name in models_to_compare:\n",
    "    if model_name == base_model_name:\n",
    "        continue\n",
    "    \n",
    "    f1_model_A = model_f1_scores[base_model_name]\n",
    "    f1_model_B = model_f1_scores[model_name]\n",
    "    t_stat, p_value = wilcoxon(f1_model_A, f1_model_B)\n",
    "\n",
    "    # Salva i risultati\n",
    "    wilcoxon_results.append({\n",
    "        \"Model Name\": model_name,\n",
    "        \"t-statistic\": round(t_stat, 4),\n",
    "        \"p-value\": round(p_value, 4),\n",
    "        \"Significativo?\": \"Sì\" if p_value < 0.05 else \"No\"\n",
    "    })\n",
    "\n",
    "# Crea DataFrame e salva\n",
    "df_ttest = pd.DataFrame(wilcoxon_results)\n",
    "df_ttest.sort_values(\"p-value\")"
   ]
  },
  {
   "cell_type": "code",
   "execution_count": 37,
   "metadata": {},
   "outputs": [
    {
     "data": {
      "application/vnd.microsoft.datawrangler.viewer.v0+json": {
       "columns": [
        {
         "name": "index",
         "rawType": "int64",
         "type": "integer"
        },
        {
         "name": "Model Name",
         "rawType": "object",
         "type": "string"
        },
        {
         "name": "t-statistic",
         "rawType": "float64",
         "type": "float"
        },
        {
         "name": "p-value",
         "rawType": "float64",
         "type": "float"
        },
        {
         "name": "Significativo?",
         "rawType": "object",
         "type": "string"
        }
       ],
       "conversionMethod": "pd.DataFrame",
       "ref": "2a0148c4-774c-44fc-938e-a68ed7e2a407",
       "rows": [
        [
         "0",
         "angelo",
         "1.1343",
         "0.2651",
         "No"
        ],
        [
         "2",
         "pasqualo",
         "-1.095",
         "0.2828",
         "No"
        ],
        [
         "1",
         "ludovica",
         "1.0187",
         "0.3164",
         "No"
        ]
       ],
       "shape": {
        "columns": 4,
        "rows": 3
       }
      },
      "text/html": [
       "<div>\n",
       "<style scoped>\n",
       "    .dataframe tbody tr th:only-of-type {\n",
       "        vertical-align: middle;\n",
       "    }\n",
       "\n",
       "    .dataframe tbody tr th {\n",
       "        vertical-align: top;\n",
       "    }\n",
       "\n",
       "    .dataframe thead th {\n",
       "        text-align: right;\n",
       "    }\n",
       "</style>\n",
       "<table border=\"1\" class=\"dataframe\">\n",
       "  <thead>\n",
       "    <tr style=\"text-align: right;\">\n",
       "      <th></th>\n",
       "      <th>Model Name</th>\n",
       "      <th>t-statistic</th>\n",
       "      <th>p-value</th>\n",
       "      <th>Significativo?</th>\n",
       "    </tr>\n",
       "  </thead>\n",
       "  <tbody>\n",
       "    <tr>\n",
       "      <th>0</th>\n",
       "      <td>angelo</td>\n",
       "      <td>1.1343</td>\n",
       "      <td>0.2651</td>\n",
       "      <td>No</td>\n",
       "    </tr>\n",
       "    <tr>\n",
       "      <th>2</th>\n",
       "      <td>pasqualo</td>\n",
       "      <td>-1.0950</td>\n",
       "      <td>0.2828</td>\n",
       "      <td>No</td>\n",
       "    </tr>\n",
       "    <tr>\n",
       "      <th>1</th>\n",
       "      <td>ludovica</td>\n",
       "      <td>1.0187</td>\n",
       "      <td>0.3164</td>\n",
       "      <td>No</td>\n",
       "    </tr>\n",
       "  </tbody>\n",
       "</table>\n",
       "</div>"
      ],
      "text/plain": [
       "  Model Name  t-statistic  p-value Significativo?\n",
       "0     angelo       1.1343   0.2651             No\n",
       "2   pasqualo      -1.0950   0.2828             No\n",
       "1   ludovica       1.0187   0.3164             No"
      ]
     },
     "execution_count": 37,
     "metadata": {},
     "output_type": "execute_result"
    }
   ],
   "source": [
    "t_test_results = []\n",
    "for model_name in models_to_compare:\n",
    "    if model_name == base_model_name:\n",
    "        continue\n",
    "    \n",
    "    base_model = model_f1_scores[base_model_name]\n",
    "    other_model = model_f1_scores[model_name]\n",
    "    t_stat, p_value = stats.ttest_ind(base_model, other_model, equal_var=False)\n",
    "\n",
    "    # Salva i risultati\n",
    "    t_test_results.append({\n",
    "        \"Model Name\": model_name,\n",
    "        \"t-statistic\": round(t_stat, 4),\n",
    "        \"p-value\": round(p_value, 4),\n",
    "        \"Significativo?\": \"Sì\" if p_value < 0.05 else \"No\"\n",
    "    })\n",
    "\n",
    "# Crea DataFrame e salva\n",
    "df_ttest = pd.DataFrame(t_test_results)\n",
    "df_ttest.sort_values(\"p-value\")"
   ]
  },
  {
   "cell_type": "code",
   "execution_count": 38,
   "metadata": {},
   "outputs": [
    {
     "name": "stdout",
     "output_type": "stream",
     "text": [
      "Intervallo di confidenza 95% per F1-score: ConfidenceInterval(low=0.3375221273591481, high=0.4800078172993094)\n"
     ]
    }
   ],
   "source": [
    "from scipy.stats import bootstrap\n",
    "\n",
    "n_resamples = 10000  \n",
    "\n",
    "# Bootstrap con metodo BCA (bias-corrected and accelerated)\n",
    "ci = bootstrap((model_f1_scores[\"pasqualo\"],), np.mean, confidence_level=0.95, n_resamples=n_resamples, method='BCa')\n",
    "\n",
    "# Output intervallo di confidenza\n",
    "print(f\"Intervallo di confidenza 95% per F1-score: {ci.confidence_interval}\")"
   ]
  }
 ],
 "metadata": {
  "kernelspec": {
   "display_name": "Python 3",
   "language": "python",
   "name": "python3"
  },
  "language_info": {
   "codemirror_mode": {
    "name": "ipython",
    "version": 3
   },
   "file_extension": ".py",
   "mimetype": "text/x-python",
   "name": "python",
   "nbconvert_exporter": "python",
   "pygments_lexer": "ipython3",
   "version": "3.10.0"
  }
 },
 "nbformat": 4,
 "nbformat_minor": 2
}
