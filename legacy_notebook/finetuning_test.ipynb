{
 "cells": [
  {
   "cell_type": "code",
   "execution_count": 1,
   "metadata": {},
   "outputs": [
    {
     "data": {
      "text/plain": [
       "0"
      ]
     },
     "execution_count": 1,
     "metadata": {},
     "output_type": "execute_result"
    }
   ],
   "source": [
    "import os\n",
    "\n",
    "command = [\n",
    "    \"python\", \"BirdNET-Analyzer-main\\\\train.py\",\n",
    "    \"--i\", \"E:\\\\Giacomo\\\\Tovanella-20241110T120546Z-001\\\\training_sessions\\\\session_0\\\\train\",\n",
    "    \"--o\", \"classifiers\\\\kfold_classifiers\\\\session_0_test\"\n",
    "]\n",
    "training_data_path = \"E:\\\\Giacomo\\\\Tovanella-20241110T120546Z-001\\\\training_sessions\\\\session_0\\\\train\"\n",
    "model_output_path = \"classifiers\\\\kfold_classifiers\\\\session_0_test_1\"\n",
    "command = f'python BirdNET-Analyzer-main\\\\train.py --i \"{training_data_path}\" --o \"{model_output_path}\"'\n",
    "os.system(f'start cmd /c \"{command}\"')      # set /k instead of /c to keep the terminal open upon finishing"
   ]
  }
 ],
 "metadata": {
  "kernelspec": {
   "display_name": "Python 3",
   "language": "python",
   "name": "python3"
  },
  "language_info": {
   "codemirror_mode": {
    "name": "ipython",
    "version": 3
   },
   "file_extension": ".py",
   "mimetype": "text/x-python",
   "name": "python",
   "nbconvert_exporter": "python",
   "pygments_lexer": "ipython3",
   "version": "3.10.0"
  }
 },
 "nbformat": 4,
 "nbformat_minor": 2
}
