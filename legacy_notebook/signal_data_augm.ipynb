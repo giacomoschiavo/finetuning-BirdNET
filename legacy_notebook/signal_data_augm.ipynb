{
 "cells": [
  {
   "cell_type": "code",
   "execution_count": 14,
   "metadata": {},
   "outputs": [],
   "source": [
    "import numpy as np\n",
    "import matplotlib.pyplot as plt\n",
    "import os\n",
    "import numpy as np\n",
    "import seaborn as sns\n",
    "import json\n",
    "import librosa\n",
    "import soundfile as sf\n",
    "import random\n",
    "import pandas as pd\n",
    "from tqdm import tqdm\n",
    "from audiomentations import Compose, PitchShift, TimeStretch, AddBackgroundNoise, Gain, AddGaussianSNR, ClippingDistortion, Lambda"
   ]
  },
  {
   "cell_type": "code",
   "execution_count": 2,
   "metadata": {},
   "outputs": [],
   "source": [
    "def load_audio(file_path):\n",
    "    audio, sr = librosa.load(file_path, sr=None)\n",
    "    return audio, sr\n",
    "\n",
    "def save_audio(file_path, audio, sr):\n",
    "    sf.write(file_path, audio, sr)"
   ]
  },
  {
   "cell_type": "code",
   "execution_count": 3,
   "metadata": {},
   "outputs": [],
   "source": [
    "def apply_augmentations(augmentations, file_path, output_dir):\n",
    "    audio, sr = load_audio(file_path)\n",
    "    \n",
    "    for aug_name, aug in augmentations.items():\n",
    "        file_name = os.path.splitext(file_path)[0].split('\\\\')[-1]\n",
    "        if len(file_name.split(\"_\")) >= 4:\n",
    "            continue\n",
    "        if os.path.exists(f\"{output_dir}/{file_name}_{aug_name}.wav\"):\n",
    "            continue\n",
    "        augmented_audio = aug(samples=audio, sample_rate=sr)\n",
    "        save_audio(f\"{output_dir}/{file_name}_{aug_name}.wav\", augmented_audio, sr)"
   ]
  },
  {
   "cell_type": "code",
   "execution_count": null,
   "metadata": {},
   "outputs": [],
   "source": [
    "training_folder = \"E:/Giacomo/Tovanella/orig_segments/train\"\n",
    "other_folder = \"E:/Giacomo/Tovanella/orig_segments/altro\"\n",
    "os.makedirs(other_folder, exist_ok=True)\n",
    "for specie in os.listdir(training_folder):\n",
    "    for audio in os.listdir(os.path.join(training_folder, specie)):\n",
    "        os.makedirs(os.path.join(other_folder, specie), exist_ok=True)\n",
    "        if len(audio.split(\"_\")) > 3:\n",
    "            os.rename(\n",
    "                os.path.join(training_folder, specie, audio),\n",
    "                os.path.join(other_folder, specie, audio)\n",
    "            ) "
   ]
  },
  {
   "cell_type": "code",
   "execution_count": 26,
   "metadata": {},
   "outputs": [],
   "source": [
    "def harmonic_distortion(signal, sample_rate, times=5):\n",
    "    # Apply harmonic distortion to an audio signal\n",
    "    for _ in range(times):\n",
    "        for i in range(len(signal)):\n",
    "            signal[i] = np.sin(2 * np.pi * signal[i])  # Apply quadratic distortion\n",
    "    return signal\n"
   ]
  },
  {
   "cell_type": "code",
   "execution_count": 11,
   "metadata": {},
   "outputs": [],
   "source": [
    "def random_time_shift(signal, sample_rate):\n",
    "    # divide the signal in two parts in a random point\n",
    "    # swap the two parts\n",
    "    split_point = random.randint(0, len(signal))\n",
    "    return np.concatenate((signal[split_point:], signal[:split_point]))"
   ]
  },
  {
   "cell_type": "code",
   "execution_count": 12,
   "metadata": {},
   "outputs": [],
   "source": [
    "def wow_resampling(signal, sample_rate):\n",
    "    am = 3\n",
    "    fm = 2\n",
    "    t = np.arange(len(signal))\n",
    "\n",
    "    # Compute the varying frequency component\n",
    "    varying_freq = am * np.sin(2 * np.pi * fm * t / len(signal))\n",
    "\n",
    "    # Generate the resampled signal\n",
    "    resampled_signal = np.zeros_like(signal)\n",
    "\n",
    "    for i in range(len(signal)):\n",
    "    # Calculate the index to sample from, ensuring it's within bounds\n",
    "        index = int(i + varying_freq[i])\n",
    "        if 0 <= index < len(signal):\n",
    "            resampled_signal[i] = signal[index]\n",
    "        else:\n",
    "            resampled_signal[i] = 0  # or handle differently, e.g., with previous value, etc.\n",
    "\n",
    "    return resampled_signal"
   ]
  },
  {
   "cell_type": "code",
   "execution_count": 29,
   "metadata": {},
   "outputs": [
    {
     "name": "stdout",
     "output_type": "stream",
     "text": [
      "Augmenting Dendrocopos major_Great Spotted Woodpecker, 120 audios\n"
     ]
    },
    {
     "name": "stderr",
     "output_type": "stream",
     "text": [
      "  0%|          | 0/120 [00:00<?, ?it/s]"
     ]
    },
    {
     "name": "stderr",
     "output_type": "stream",
     "text": [
      "100%|██████████| 120/120 [00:00<00:00, 1038.99it/s]\n"
     ]
    }
   ],
   "source": [
    "augmentations = {\n",
    "    'wowResampling': Lambda(transform=wow_resampling, p=1.0),\n",
    "    \"noise\": AddGaussianSNR(min_snr_db=10, max_snr_db=10, p=1.0),\n",
    "    'clipping': ClippingDistortion(min_percentile_threshold=5, max_percentile_threshold=5, p=1.0),\n",
    "    'speed_up': TimeStretch(min_rate=0.15, max_rate=0.15, p=1.0),\n",
    "    'harmonicDistortion': Lambda(transform=harmonic_distortion, p=1.0),\n",
    "    'gain': Gain(min_gain_db=10, max_gain_db=10, p=1.0),\n",
    "    'randTimeShift': Lambda(transform=random_time_shift, p=1.0),\n",
    "    'pitchShiftA': PitchShift(min_semitones=2, max_semitones=2, p=1.0),\n",
    "    'pitchShiftB': PitchShift(min_semitones=-2, max_semitones=-2, p=1.0),\n",
    "}\n",
    "\n",
    "augm_path = \"E:/Giacomo/Tovanella/orig_segments/train\"\n",
    "for specie in os.listdir(augm_path):\n",
    "    files = os.listdir(os.path.join(augm_path, specie))\n",
    "    if len(files) > 200:\n",
    "        continue\n",
    "    print(f\"Augmenting {specie}, {len(files)} audios\")\n",
    "    for i in tqdm(range(len(files))):\n",
    "        audio = files[i]\n",
    "        apply_augmentations(augmentations, os.path.join(augm_path, specie, audio), os.path.join(augm_path, specie))"
   ]
  },
  {
   "cell_type": "code",
   "execution_count": 25,
   "metadata": {},
   "outputs": [
    {
     "data": {
      "text/html": [
       "<div>\n",
       "<style scoped>\n",
       "    .dataframe tbody tr th:only-of-type {\n",
       "        vertical-align: middle;\n",
       "    }\n",
       "\n",
       "    .dataframe tbody tr th {\n",
       "        vertical-align: top;\n",
       "    }\n",
       "\n",
       "    .dataframe thead th {\n",
       "        text-align: right;\n",
       "    }\n",
       "</style>\n",
       "<table border=\"1\" class=\"dataframe\">\n",
       "  <thead>\n",
       "    <tr style=\"text-align: right;\">\n",
       "      <th></th>\n",
       "      <th>train</th>\n",
       "    </tr>\n",
       "  </thead>\n",
       "  <tbody>\n",
       "    <tr>\n",
       "      <th>Fringilla coelebs_Common Chaffinch</th>\n",
       "      <td>1807</td>\n",
       "    </tr>\n",
       "    <tr>\n",
       "      <th>Regulus regulus_Goldcrest</th>\n",
       "      <td>1750</td>\n",
       "    </tr>\n",
       "    <tr>\n",
       "      <th>Wind_</th>\n",
       "      <td>1580</td>\n",
       "    </tr>\n",
       "    <tr>\n",
       "      <th>Turdus philomelos_Song Thrush</th>\n",
       "      <td>1546</td>\n",
       "    </tr>\n",
       "    <tr>\n",
       "      <th>Sylvia atricapilla_Eurasian Blackcap</th>\n",
       "      <td>1546</td>\n",
       "    </tr>\n",
       "    <tr>\n",
       "      <th>Regulus ignicapilla_Common Firecrest</th>\n",
       "      <td>936</td>\n",
       "    </tr>\n",
       "    <tr>\n",
       "      <th>Periparus ater_Coal Tit</th>\n",
       "      <td>880</td>\n",
       "    </tr>\n",
       "    <tr>\n",
       "      <th>Pecking_</th>\n",
       "      <td>870</td>\n",
       "    </tr>\n",
       "    <tr>\n",
       "      <th>Loxia curvirostra_Common Crossbill</th>\n",
       "      <td>770</td>\n",
       "    </tr>\n",
       "    <tr>\n",
       "      <th>Troglodytes troglodytes_Eurasian Wren</th>\n",
       "      <td>588</td>\n",
       "    </tr>\n",
       "    <tr>\n",
       "      <th>Turdus merula_Eurasian Blackbird</th>\n",
       "      <td>580</td>\n",
       "    </tr>\n",
       "    <tr>\n",
       "      <th>Vegetation_</th>\n",
       "      <td>460</td>\n",
       "    </tr>\n",
       "    <tr>\n",
       "      <th>Muscicapa striata_Spotted Flycatcher</th>\n",
       "      <td>437</td>\n",
       "    </tr>\n",
       "    <tr>\n",
       "      <th>Lophophanes cristatus_Crested Tit</th>\n",
       "      <td>420</td>\n",
       "    </tr>\n",
       "    <tr>\n",
       "      <th>Erithacus rubecula_European Robin</th>\n",
       "      <td>410</td>\n",
       "    </tr>\n",
       "    <tr>\n",
       "      <th>Certhia familiaris_Eurasian Treecreeper</th>\n",
       "      <td>370</td>\n",
       "    </tr>\n",
       "    <tr>\n",
       "      <th>Dryocopus martius_Black Woodpecker</th>\n",
       "      <td>240</td>\n",
       "    </tr>\n",
       "    <tr>\n",
       "      <th>Rain_</th>\n",
       "      <td>223</td>\n",
       "    </tr>\n",
       "    <tr>\n",
       "      <th>Dendrocopos major_Great Spotted Woodpecker</th>\n",
       "      <td>120</td>\n",
       "    </tr>\n",
       "  </tbody>\n",
       "</table>\n",
       "</div>"
      ],
      "text/plain": [
       "                                            train\n",
       "Fringilla coelebs_Common Chaffinch           1807\n",
       "Regulus regulus_Goldcrest                    1750\n",
       "Wind_                                        1580\n",
       "Turdus philomelos_Song Thrush                1546\n",
       "Sylvia atricapilla_Eurasian Blackcap         1546\n",
       "Regulus ignicapilla_Common Firecrest          936\n",
       "Periparus ater_Coal Tit                       880\n",
       "Pecking_                                      870\n",
       "Loxia curvirostra_Common Crossbill            770\n",
       "Troglodytes troglodytes_Eurasian Wren         588\n",
       "Turdus merula_Eurasian Blackbird              580\n",
       "Vegetation_                                   460\n",
       "Muscicapa striata_Spotted Flycatcher          437\n",
       "Lophophanes cristatus_Crested Tit             420\n",
       "Erithacus rubecula_European Robin             410\n",
       "Certhia familiaris_Eurasian Treecreeper       370\n",
       "Dryocopus martius_Black Woodpecker            240\n",
       "Rain_                                         223\n",
       "Dendrocopos major_Great Spotted Woodpecker    120"
      ]
     },
     "execution_count": 25,
     "metadata": {},
     "output_type": "execute_result"
    }
   ],
   "source": [
    "training_folder = \"E:/Giacomo/Tovanella/orig_segments/train\"\n",
    "species_folders = os.listdir(training_folder)\n",
    "species_count = { folder: {\n",
    "    \"train\": len(os.listdir(os.path.join(training_folder, folder))),\n",
    "    # \"valid\": len(os.listdir(os.path.join(valid_folder, folder))),\n",
    "    # \"test\": len(os.listdir(os.path.join(test_folder, folder))),\n",
    "    } for folder in species_folders }\n",
    "\n",
    "info = pd.DataFrame(species_count).T\n",
    "info.sort_values(\"train\", ascending=False)"
   ]
  }
 ],
 "metadata": {
  "kernelspec": {
   "display_name": "Python 3",
   "language": "python",
   "name": "python3"
  },
  "language_info": {
   "codemirror_mode": {
    "name": "ipython",
    "version": 3
   },
   "file_extension": ".py",
   "mimetype": "text/x-python",
   "name": "python",
   "nbconvert_exporter": "python",
   "pygments_lexer": "ipython3",
   "version": "3.10.0"
  }
 },
 "nbformat": 4,
 "nbformat_minor": 2
}
