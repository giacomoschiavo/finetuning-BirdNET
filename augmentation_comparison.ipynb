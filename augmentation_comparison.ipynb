{
 "cells": [
  {
   "cell_type": "markdown",
   "metadata": {},
   "source": [
    "# Augmentation comparison"
   ]
  },
  {
   "cell_type": "code",
   "execution_count": 2,
   "metadata": {},
   "outputs": [],
   "source": [
    "import numpy as np\n",
    "import matplotlib.pyplot as plt\n",
    "import os\n",
    "import numpy as np\n",
    "import seaborn as sns\n",
    "import json\n",
    "import librosa\n",
    "import soundfile as sf\n",
    "import random\n",
    "import pandas as pd\n",
    "from tqdm import tqdm\n",
    "import scipy.stats as stats"
   ]
  },
  {
   "cell_type": "code",
   "execution_count": 3,
   "metadata": {},
   "outputs": [],
   "source": [
    "models_folder_path = 'classifiers/official'\n",
    "model_names = os.listdir(models_folder_path)\n",
    "models_to_compare = []\n",
    "for model in model_names:\n",
    "    if os.path.exists(os.path.join(models_folder_path, model, \"classification_report.json\")):\n",
    "        models_to_compare.append(model)\n"
   ]
  },
  {
   "cell_type": "code",
   "execution_count": 4,
   "metadata": {},
   "outputs": [],
   "source": [
    "DATASET_NAME = \"NEW_DATASET_1\"\n",
    "audio_path = f\"E:/Giacomo/Tovanella/{DATASET_NAME}/test\"\n",
    "all_species = os.listdir(audio_path)"
   ]
  },
  {
   "cell_type": "markdown",
   "metadata": {},
   "source": [
    "## Classification report comparisons"
   ]
  },
  {
   "cell_type": "code",
   "execution_count": 5,
   "metadata": {},
   "outputs": [],
   "source": [
    "results_folders = \"classifiers\\official\"\n",
    "class_reports = {}\n",
    "for model_name in models_to_compare:\n",
    "    with open(os.path.join(results_folders, model_name, \"classification_report.json\"), \"r\") as f:\n",
    "        class_reports[model_name] = json.load(f)"
   ]
  },
  {
   "cell_type": "code",
   "execution_count": 6,
   "metadata": {},
   "outputs": [
    {
     "data": {
      "application/vnd.microsoft.datawrangler.viewer.v0+json": {
       "columns": [
        {
         "name": "index",
         "rawType": "int64",
         "type": "integer"
        },
        {
         "name": "Model Name",
         "rawType": "object",
         "type": "string"
        },
        {
         "name": "Precision",
         "rawType": "float64",
         "type": "float"
        },
        {
         "name": "Recall",
         "rawType": "float64",
         "type": "float"
        },
        {
         "name": "F1-score",
         "rawType": "float64",
         "type": "float"
        }
       ],
       "conversionMethod": "pd.DataFrame",
       "ref": "45a72522-876b-4259-b0d7-44f6878c9bc4",
       "rows": [
        [
         "1",
         "ludovica",
         "0.705",
         "0.176",
         "0.2608"
        ],
        [
         "2",
         "pasqualo",
         "0.0589",
         "0.0397",
         "0.0345"
        ],
        [
         "0",
         "angelo",
         "0.0677",
         "0.0147",
         "0.008"
        ],
        [
         "3",
         "rebecca",
         "0.027",
         "0.0144",
         "0.0078"
        ]
       ],
       "shape": {
        "columns": 4,
        "rows": 4
       }
      },
      "text/html": [
       "<div>\n",
       "<style scoped>\n",
       "    .dataframe tbody tr th:only-of-type {\n",
       "        vertical-align: middle;\n",
       "    }\n",
       "\n",
       "    .dataframe tbody tr th {\n",
       "        vertical-align: top;\n",
       "    }\n",
       "\n",
       "    .dataframe thead th {\n",
       "        text-align: right;\n",
       "    }\n",
       "</style>\n",
       "<table border=\"1\" class=\"dataframe\">\n",
       "  <thead>\n",
       "    <tr style=\"text-align: right;\">\n",
       "      <th></th>\n",
       "      <th>Model Name</th>\n",
       "      <th>Precision</th>\n",
       "      <th>Recall</th>\n",
       "      <th>F1-score</th>\n",
       "    </tr>\n",
       "  </thead>\n",
       "  <tbody>\n",
       "    <tr>\n",
       "      <th>1</th>\n",
       "      <td>ludovica</td>\n",
       "      <td>0.7050</td>\n",
       "      <td>0.1760</td>\n",
       "      <td>0.2608</td>\n",
       "    </tr>\n",
       "    <tr>\n",
       "      <th>2</th>\n",
       "      <td>pasqualo</td>\n",
       "      <td>0.0589</td>\n",
       "      <td>0.0397</td>\n",
       "      <td>0.0345</td>\n",
       "    </tr>\n",
       "    <tr>\n",
       "      <th>0</th>\n",
       "      <td>angelo</td>\n",
       "      <td>0.0677</td>\n",
       "      <td>0.0147</td>\n",
       "      <td>0.0080</td>\n",
       "    </tr>\n",
       "    <tr>\n",
       "      <th>3</th>\n",
       "      <td>rebecca</td>\n",
       "      <td>0.0270</td>\n",
       "      <td>0.0144</td>\n",
       "      <td>0.0078</td>\n",
       "    </tr>\n",
       "  </tbody>\n",
       "</table>\n",
       "</div>"
      ],
      "text/plain": [
       "  Model Name  Precision  Recall  F1-score\n",
       "1   ludovica     0.7050  0.1760    0.2608\n",
       "2   pasqualo     0.0589  0.0397    0.0345\n",
       "0     angelo     0.0677  0.0147    0.0080\n",
       "3    rebecca     0.0270  0.0144    0.0078"
      ]
     },
     "execution_count": 6,
     "metadata": {},
     "output_type": "execute_result"
    }
   ],
   "source": [
    "results = []\n",
    "\n",
    "for model_name, report in class_reports.items():\n",
    "    df = pd.DataFrame(report).T\n",
    "    # remove species not in augmented_species\n",
    "    weighted_precision = (df[\"precision\"] * df[\"support\"]).sum() / df[\"support\"].sum()\n",
    "    weighted_recall = (df[\"recall\"] * df[\"support\"]).sum() / df[\"support\"].sum()\n",
    "    weighted_f1 = (df[\"f1-score\"] * df[\"support\"]).sum() / df[\"support\"].sum()\n",
    "\n",
    "    results.append({\n",
    "        \"Model Name\": model_name,\n",
    "        \"Precision\": round(weighted_precision, 4),\n",
    "        \"Recall\": round(weighted_recall, 4),\n",
    "        \"F1-score\": round(weighted_f1, 4),\n",
    "    })\n",
    "\n",
    "# Creare tabella finale\n",
    "df_summary = pd.DataFrame(results)\n",
    "df_summary.sort_values(\"F1-score\", ascending=False)"
   ]
  },
  {
   "cell_type": "code",
   "execution_count": 7,
   "metadata": {},
   "outputs": [
    {
     "data": {
      "image/png": "[encoded data removed]",
      "text/plain": [
       "<Figure size 1000x500 with 1 Axes>"
      ]
     },
     "metadata": {},
     "output_type": "display_data"
    }
   ],
   "source": [
    "plt.figure(figsize=(10, 5))\n",
    "df_melted = df_summary.melt(id_vars=[\"Model Name\"], value_vars=[\"Precision\", \"Recall\", \"F1-score\"])\n",
    "sns.barplot(x=\"Model Name\", y=\"value\", hue=\"variable\", data=df_melted)\n",
    "\n",
    "plt.title(\"Confronto delle metriche tra modelli\")\n",
    "plt.ylabel(\"Score\")\n",
    "plt.xlabel(\"Model Name\")\n",
    "plt.xticks(rotation=45)\n",
    "plt.legend(title=\"Metrics\", loc=\"lower right\")\n",
    "plt.show()"
   ]
  },
  {
   "cell_type": "markdown",
   "metadata": {},
   "source": [
    "## ROC AUC comparisons"
   ]
  },
  {
   "cell_type": "code",
   "execution_count": null,
   "metadata": {},
   "outputs": [],
   "source": [
    "# roc_curves = {}\n",
    "# for model_name in models_to_compare:\n",
    "#     if os.path.exists(os.path.join(results_folders, model_name, \"roc_auc.json\")):\n",
    "#         with open(os.path.join(results_folders, model_name, \"roc_auc.json\"), \"r\") as f:\n",
    "#             roc_curves[model_name] = json.load(f)"
   ]
  },
  {
   "cell_type": "code",
   "execution_count": null,
   "metadata": {},
   "outputs": [
    {
     "ename": "KeyError",
     "evalue": "'Mean AUC'",
     "output_type": "error",
     "traceback": [
      "\u001b[1;31m---------------------------------------------------------------------------\u001b[0m",
      "\u001b[1;31mKeyError\u001b[0m                                  Traceback (most recent call last)",
      "\u001b[1;32m~\\AppData\\Local\\Temp\\ipykernel_9360\\2067472372.py\u001b[0m in \u001b[0;36m?\u001b[1;34m()\u001b[0m\n\u001b[0;32m      9\u001b[0m     })\n\u001b[0;32m     10\u001b[0m \u001b[1;33m\u001b[0m\u001b[0m\n\u001b[0;32m     11\u001b[0m \u001b[1;31m# Creare DataFrame e salvare\u001b[0m\u001b[1;33m\u001b[0m\u001b[1;33m\u001b[0m\u001b[0m\n\u001b[0;32m     12\u001b[0m \u001b[0mdf_auc\u001b[0m \u001b[1;33m=\u001b[0m \u001b[0mpd\u001b[0m\u001b[1;33m.\u001b[0m\u001b[0mDataFrame\u001b[0m\u001b[1;33m(\u001b[0m\u001b[0mroc_results\u001b[0m\u001b[1;33m)\u001b[0m\u001b[1;33m\u001b[0m\u001b[1;33m\u001b[0m\u001b[0m\n\u001b[1;32m---> 13\u001b[1;33m \u001b[0mdf_auc\u001b[0m\u001b[1;33m.\u001b[0m\u001b[0msort_values\u001b[0m\u001b[1;33m(\u001b[0m\u001b[1;34m\"Mean AUC\"\u001b[0m\u001b[1;33m,\u001b[0m \u001b[0mascending\u001b[0m\u001b[1;33m=\u001b[0m\u001b[1;32mFalse\u001b[0m\u001b[1;33m)\u001b[0m\u001b[1;33m\u001b[0m\u001b[1;33m\u001b[0m\u001b[0m\n\u001b[0m",
      "\u001b[1;32mc:\\Users\\giaco\\AppData\\Local\\Programs\\Python\\Python310\\lib\\site-packages\\pandas\\util\\_decorators.py\u001b[0m in \u001b[0;36m?\u001b[1;34m(*args, **kwargs)\u001b[0m\n\u001b[0;32m    307\u001b[0m                     \u001b[0mmsg\u001b[0m\u001b[1;33m.\u001b[0m\u001b[0mformat\u001b[0m\u001b[1;33m(\u001b[0m\u001b[0marguments\u001b[0m\u001b[1;33m=\u001b[0m\u001b[0marguments\u001b[0m\u001b[1;33m)\u001b[0m\u001b[1;33m,\u001b[0m\u001b[1;33m\u001b[0m\u001b[1;33m\u001b[0m\u001b[0m\n\u001b[0;32m    308\u001b[0m                     \u001b[0mFutureWarning\u001b[0m\u001b[1;33m,\u001b[0m\u001b[1;33m\u001b[0m\u001b[1;33m\u001b[0m\u001b[0m\n\u001b[0;32m    309\u001b[0m                     \u001b[0mstacklevel\u001b[0m\u001b[1;33m=\u001b[0m\u001b[0mstacklevel\u001b[0m\u001b[1;33m,\u001b[0m\u001b[1;33m\u001b[0m\u001b[1;33m\u001b[0m\u001b[0m\n\u001b[0;32m    310\u001b[0m                 )\n\u001b[1;32m--> 311\u001b[1;33m             \u001b[1;32mreturn\u001b[0m \u001b[0mfunc\u001b[0m\u001b[1;33m(\u001b[0m\u001b[1;33m*\u001b[0m\u001b[0margs\u001b[0m\u001b[1;33m,\u001b[0m \u001b[1;33m**\u001b[0m\u001b[0mkwargs\u001b[0m\u001b[1;33m)\u001b[0m\u001b[1;33m\u001b[0m\u001b[1;33m\u001b[0m\u001b[0m\n\u001b[0m",
      "\u001b[1;32mc:\\Users\\giaco\\AppData\\Local\\Programs\\Python\\Python310\\lib\\site-packages\\pandas\\core\\frame.py\u001b[0m in \u001b[0;36m?\u001b[1;34m(self, by, axis, ascending, inplace, kind, na_position, ignore_index, key)\u001b[0m\n\u001b[0;32m   6309\u001b[0m         \u001b[1;32melif\u001b[0m \u001b[0mlen\u001b[0m\u001b[1;33m(\u001b[0m\u001b[0mby\u001b[0m\u001b[1;33m)\u001b[0m\u001b[1;33m:\u001b[0m\u001b[1;33m\u001b[0m\u001b[1;33m\u001b[0m\u001b[0m\n\u001b[0;32m   6310\u001b[0m             \u001b[1;31m# len(by) == 1\u001b[0m\u001b[1;33m\u001b[0m\u001b[1;33m\u001b[0m\u001b[0m\n\u001b[0;32m   6311\u001b[0m \u001b[1;33m\u001b[0m\u001b[0m\n\u001b[0;32m   6312\u001b[0m             \u001b[0mby\u001b[0m \u001b[1;33m=\u001b[0m \u001b[0mby\u001b[0m\u001b[1;33m[\u001b[0m\u001b[1;36m0\u001b[0m\u001b[1;33m]\u001b[0m\u001b[1;33m\u001b[0m\u001b[1;33m\u001b[0m\u001b[0m\n\u001b[1;32m-> 6313\u001b[1;33m             \u001b[0mk\u001b[0m \u001b[1;33m=\u001b[0m \u001b[0mself\u001b[0m\u001b[1;33m.\u001b[0m\u001b[0m_get_label_or_level_values\u001b[0m\u001b[1;33m(\u001b[0m\u001b[0mby\u001b[0m\u001b[1;33m,\u001b[0m \u001b[0maxis\u001b[0m\u001b[1;33m=\u001b[0m\u001b[0maxis\u001b[0m\u001b[1;33m)\u001b[0m\u001b[1;33m\u001b[0m\u001b[1;33m\u001b[0m\u001b[0m\n\u001b[0m\u001b[0;32m   6314\u001b[0m \u001b[1;33m\u001b[0m\u001b[0m\n\u001b[0;32m   6315\u001b[0m             \u001b[1;31m# need to rewrap column in Series to apply key function\u001b[0m\u001b[1;33m\u001b[0m\u001b[1;33m\u001b[0m\u001b[0m\n\u001b[0;32m   6316\u001b[0m             \u001b[1;32mif\u001b[0m \u001b[0mkey\u001b[0m \u001b[1;32mis\u001b[0m \u001b[1;32mnot\u001b[0m \u001b[1;32mNone\u001b[0m\u001b[1;33m:\u001b[0m\u001b[1;33m\u001b[0m\u001b[1;33m\u001b[0m\u001b[0m\n",
      "\u001b[1;32mc:\\Users\\giaco\\AppData\\Local\\Programs\\Python\\Python310\\lib\\site-packages\\pandas\\core\\generic.py\u001b[0m in \u001b[0;36m?\u001b[1;34m(self, key, axis)\u001b[0m\n\u001b[0;32m   1836\u001b[0m             \u001b[0mvalues\u001b[0m \u001b[1;33m=\u001b[0m \u001b[0mself\u001b[0m\u001b[1;33m.\u001b[0m\u001b[0mxs\u001b[0m\u001b[1;33m(\u001b[0m\u001b[0mkey\u001b[0m\u001b[1;33m,\u001b[0m \u001b[0maxis\u001b[0m\u001b[1;33m=\u001b[0m\u001b[0mother_axes\u001b[0m\u001b[1;33m[\u001b[0m\u001b[1;36m0\u001b[0m\u001b[1;33m]\u001b[0m\u001b[1;33m)\u001b[0m\u001b[1;33m.\u001b[0m\u001b[0m_values\u001b[0m\u001b[1;33m\u001b[0m\u001b[1;33m\u001b[0m\u001b[0m\n\u001b[0;32m   1837\u001b[0m         \u001b[1;32melif\u001b[0m \u001b[0mself\u001b[0m\u001b[1;33m.\u001b[0m\u001b[0m_is_level_reference\u001b[0m\u001b[1;33m(\u001b[0m\u001b[0mkey\u001b[0m\u001b[1;33m,\u001b[0m \u001b[0maxis\u001b[0m\u001b[1;33m=\u001b[0m\u001b[0maxis\u001b[0m\u001b[1;33m)\u001b[0m\u001b[1;33m:\u001b[0m\u001b[1;33m\u001b[0m\u001b[1;33m\u001b[0m\u001b[0m\n\u001b[0;32m   1838\u001b[0m             \u001b[0mvalues\u001b[0m \u001b[1;33m=\u001b[0m \u001b[0mself\u001b[0m\u001b[1;33m.\u001b[0m\u001b[0maxes\u001b[0m\u001b[1;33m[\u001b[0m\u001b[0maxis\u001b[0m\u001b[1;33m]\u001b[0m\u001b[1;33m.\u001b[0m\u001b[0mget_level_values\u001b[0m\u001b[1;33m(\u001b[0m\u001b[0mkey\u001b[0m\u001b[1;33m)\u001b[0m\u001b[1;33m.\u001b[0m\u001b[0m_values\u001b[0m\u001b[1;33m\u001b[0m\u001b[1;33m\u001b[0m\u001b[0m\n\u001b[0;32m   1839\u001b[0m         \u001b[1;32melse\u001b[0m\u001b[1;33m:\u001b[0m\u001b[1;33m\u001b[0m\u001b[1;33m\u001b[0m\u001b[0m\n\u001b[1;32m-> 1840\u001b[1;33m             \u001b[1;32mraise\u001b[0m \u001b[0mKeyError\u001b[0m\u001b[1;33m(\u001b[0m\u001b[0mkey\u001b[0m\u001b[1;33m)\u001b[0m\u001b[1;33m\u001b[0m\u001b[1;33m\u001b[0m\u001b[0m\n\u001b[0m\u001b[0;32m   1841\u001b[0m \u001b[1;33m\u001b[0m\u001b[0m\n\u001b[0;32m   1842\u001b[0m         \u001b[1;31m# Check for duplicates\u001b[0m\u001b[1;33m\u001b[0m\u001b[1;33m\u001b[0m\u001b[0m\n\u001b[0;32m   1843\u001b[0m         \u001b[1;32mif\u001b[0m \u001b[0mvalues\u001b[0m\u001b[1;33m.\u001b[0m\u001b[0mndim\u001b[0m \u001b[1;33m>\u001b[0m \u001b[1;36m1\u001b[0m\u001b[1;33m:\u001b[0m\u001b[1;33m\u001b[0m\u001b[1;33m\u001b[0m\u001b[0m\n",
      "\u001b[1;31mKeyError\u001b[0m: 'Mean AUC'"
     ]
    }
   ],
   "source": [
    "# roc_results = []\n",
    "# for model_name, roc_data in roc_curves.items():\n",
    "#     auc_values = [specie_data[\"auc\"] for specie_name, specie_data in roc_data.items() if specie_name in all_species]\n",
    "#     mean_auc = sum(auc_values) / len(auc_values)\n",
    "#     roc_results.append({\n",
    "#         \"Model Name\": model_name,\n",
    "#         \"Mean AUC\": round(mean_auc, 4),\n",
    "#         \"Species Count\": len(auc_values)  # Numero di specie nel dataset\n",
    "#     })\n",
    "\n",
    "# # Creare DataFrame e salvare\n",
    "# df_auc = pd.DataFrame(roc_results)\n",
    "# df_auc.sort_values(\"Mean AUC\", ascending=False)"
   ]
  },
  {
   "cell_type": "markdown",
   "metadata": {},
   "source": [
    "## t-test on different models"
   ]
  },
  {
   "cell_type": "code",
   "execution_count": 10,
   "metadata": {},
   "outputs": [],
   "source": [
    "experiments = {}\n",
    "for model in models_to_compare:\n",
    "    experiments[model] = {}\n",
    "    # experiments[model][\"roc\"] = roc_curves[model]\n",
    "    experiments[model][\"class_report\"] = class_reports[model]"
   ]
  },
  {
   "cell_type": "code",
   "execution_count": 11,
   "metadata": {},
   "outputs": [],
   "source": [
    "# for each model, associate an array of f1 scores for each specie\n",
    "model_f1_scores = {}\n",
    "for model in models_to_compare:\n",
    "    f1_scores = []\n",
    "    for specie in all_species:\n",
    "        f1_scores.append(class_reports[model][specie][\"f1-score\"])\n",
    "    model_f1_scores[model] = f1_scores"
   ]
  },
  {
   "cell_type": "code",
   "execution_count": 12,
   "metadata": {},
   "outputs": [
    {
     "name": "stdout",
     "output_type": "stream",
     "text": [
      "angelo: p-value = 1.7108358463246987e-07\n",
      "ludovica: p-value = 0.7523309588432312\n",
      "pasqualo: p-value = 4.14324375697106e-07\n",
      "rebecca: p-value = 1.0097657110463842e-07\n"
     ]
    }
   ],
   "source": [
    "# check normality, if p-value < 0.05 then the distribution is not normal\n",
    "from scipy.stats import shapiro\n",
    "\n",
    "for model, scores in model_f1_scores.items():\n",
    "    stat, p = shapiro(scores)\n",
    "    print(f\"{model}: p-value = {p}\")"
   ]
  },
  {
   "cell_type": "code",
   "execution_count": null,
   "metadata": {},
   "outputs": [
    {
     "ename": "KeyError",
     "evalue": "'original'",
     "output_type": "error",
     "traceback": [
      "\u001b[1;31m---------------------------------------------------------------------------\u001b[0m",
      "\u001b[1;31mKeyError\u001b[0m                                  Traceback (most recent call last)",
      "Cell \u001b[1;32mIn[13], line 10\u001b[0m\n\u001b[0;32m      7\u001b[0m \u001b[38;5;28;01mif\u001b[39;00m model_name \u001b[38;5;241m==\u001b[39m base_model_name:\n\u001b[0;32m      8\u001b[0m     \u001b[38;5;28;01mcontinue\u001b[39;00m\n\u001b[1;32m---> 10\u001b[0m f1_model_A \u001b[38;5;241m=\u001b[39m \u001b[43mmodel_f1_scores\u001b[49m\u001b[43m[\u001b[49m\u001b[43mbase_model_name\u001b[49m\u001b[43m]\u001b[49m\n\u001b[0;32m     11\u001b[0m f1_model_B \u001b[38;5;241m=\u001b[39m model_f1_scores[model_name]\n\u001b[0;32m     12\u001b[0m t_stat, p_value \u001b[38;5;241m=\u001b[39m wilcoxon(f1_model_A, f1_model_B)\n",
      "\u001b[1;31mKeyError\u001b[0m: 'original'"
     ]
    }
   ],
   "source": [
    "import numpy as np\n",
    "from scipy.stats import wilcoxon\n",
    "\n",
    "wilcoxon_results = []\n",
    "base_model_name = \"rebecca\"\n",
    "for model_name in models_to_compare:\n",
    "    if model_name == base_model_name:\n",
    "        continue\n",
    "    \n",
    "    f1_model_A = model_f1_scores[base_model_name]\n",
    "    f1_model_B = model_f1_scores[model_name]\n",
    "    t_stat, p_value = wilcoxon(f1_model_A, f1_model_B)\n",
    "\n",
    "    # Salva i risultati\n",
    "    wilcoxon_results.append({\n",
    "        \"Model Name\": model_name,\n",
    "        \"t-statistic\": round(t_stat, 4),\n",
    "        \"p-value\": round(p_value, 4),\n",
    "        \"Significativo?\": \"Sì\" if p_value < 0.05 else \"No\"\n",
    "    })\n",
    "\n",
    "# Crea DataFrame e salva\n",
    "df_ttest = pd.DataFrame(wilcoxon_results)\n",
    "df_ttest.sort_values(\"p-value\")"
   ]
  },
  {
   "cell_type": "code",
   "execution_count": null,
   "metadata": {},
   "outputs": [
    {
     "data": {
      "text/html": [
       "<div>\n",
       "<style scoped>\n",
       "    .dataframe tbody tr th:only-of-type {\n",
       "        vertical-align: middle;\n",
       "    }\n",
       "\n",
       "    .dataframe tbody tr th {\n",
       "        vertical-align: top;\n",
       "    }\n",
       "\n",
       "    .dataframe thead th {\n",
       "        text-align: right;\n",
       "    }\n",
       "</style>\n",
       "<table border=\"1\" class=\"dataframe\">\n",
       "  <thead>\n",
       "    <tr style=\"text-align: right;\">\n",
       "      <th></th>\n",
       "      <th>Model Name</th>\n",
       "      <th>t-statistic</th>\n",
       "      <th>p-value</th>\n",
       "      <th>Significativo?</th>\n",
       "    </tr>\n",
       "  </thead>\n",
       "  <tbody>\n",
       "    <tr>\n",
       "      <th>0</th>\n",
       "      <td>wabad_on_minor</td>\n",
       "      <td>-1.2990</td>\n",
       "      <td>0.2023</td>\n",
       "      <td>No</td>\n",
       "    </tr>\n",
       "    <tr>\n",
       "      <th>2</th>\n",
       "      <td>wabad_augm_ps</td>\n",
       "      <td>-1.2673</td>\n",
       "      <td>0.2133</td>\n",
       "      <td>No</td>\n",
       "    </tr>\n",
       "    <tr>\n",
       "      <th>6</th>\n",
       "      <td>carmela</td>\n",
       "      <td>-1.2136</td>\n",
       "      <td>0.2329</td>\n",
       "      <td>No</td>\n",
       "    </tr>\n",
       "    <tr>\n",
       "      <th>1</th>\n",
       "      <td>wabad_all</td>\n",
       "      <td>-0.3734</td>\n",
       "      <td>0.7111</td>\n",
       "      <td>No</td>\n",
       "    </tr>\n",
       "    <tr>\n",
       "      <th>3</th>\n",
       "      <td>original_200_best_snr</td>\n",
       "      <td>0.3666</td>\n",
       "      <td>0.7161</td>\n",
       "      <td>No</td>\n",
       "    </tr>\n",
       "    <tr>\n",
       "      <th>5</th>\n",
       "      <td>maurizio_complesso</td>\n",
       "      <td>-0.1162</td>\n",
       "      <td>0.9082</td>\n",
       "      <td>No</td>\n",
       "    </tr>\n",
       "    <tr>\n",
       "      <th>4</th>\n",
       "      <td>maurizio</td>\n",
       "      <td>-0.1006</td>\n",
       "      <td>0.9204</td>\n",
       "      <td>No</td>\n",
       "    </tr>\n",
       "  </tbody>\n",
       "</table>\n",
       "</div>"
      ],
      "text/plain": [
       "              Model Name  t-statistic  p-value Significativo?\n",
       "0         wabad_on_minor      -1.2990   0.2023             No\n",
       "2          wabad_augm_ps      -1.2673   0.2133             No\n",
       "6                carmela      -1.2136   0.2329             No\n",
       "1              wabad_all      -0.3734   0.7111             No\n",
       "3  original_200_best_snr       0.3666   0.7161             No\n",
       "5     maurizio_complesso      -0.1162   0.9082             No\n",
       "4               maurizio      -0.1006   0.9204             No"
      ]
     },
     "execution_count": 53,
     "metadata": {},
     "output_type": "execute_result"
    }
   ],
   "source": [
    "t_test_results = []\n",
    "for model_name in models_to_compare:\n",
    "    if model_name == base_model_name:\n",
    "        continue\n",
    "    \n",
    "    base_model = model_f1_scores[base_model_name]\n",
    "    other_model = model_f1_scores[model_name]\n",
    "    t_stat, p_value = stats.ttest_ind(base_model, other_model, equal_var=False)\n",
    "\n",
    "    # Salva i risultati\n",
    "    t_test_results.append({\n",
    "        \"Model Name\": model_name,\n",
    "        \"t-statistic\": round(t_stat, 4),\n",
    "        \"p-value\": round(p_value, 4),\n",
    "        \"Significativo?\": \"Sì\" if p_value < 0.05 else \"No\"\n",
    "    })\n",
    "\n",
    "# Crea DataFrame e salva\n",
    "df_ttest = pd.DataFrame(t_test_results)\n",
    "df_ttest.sort_values(\"p-value\")"
   ]
  },
  {
   "cell_type": "code",
   "execution_count": null,
   "metadata": {},
   "outputs": [
    {
     "name": "stdout",
     "output_type": "stream",
     "text": [
      "Intervallo di confidenza 95% per F1-score: ConfidenceInterval(low=0.2579832692114786, high=0.4647412491416596)\n"
     ]
    }
   ],
   "source": [
    "from scipy.stats import bootstrap\n",
    "\n",
    "n_resamples = 10000  \n",
    "\n",
    "# Bootstrap con metodo BCA (bias-corrected and accelerated)\n",
    "ci = bootstrap((model_f1_scores[\"pasqualo\"],), np.mean, confidence_level=0.95, n_resamples=n_resamples, method='BCa')\n",
    "\n",
    "# Output intervallo di confidenza\n",
    "print(f\"Intervallo di confidenza 95% per F1-score: {ci.confidence_interval}\")"
   ]
  }
 ],
 "metadata": {
  "kernelspec": {
   "display_name": "Python 3",
   "language": "python",
   "name": "python3"
  },
  "language_info": {
   "codemirror_mode": {
    "name": "ipython",
    "version": 3
   },
   "file_extension": ".py",
   "mimetype": "text/x-python",
   "name": "python",
   "nbconvert_exporter": "python",
   "pygments_lexer": "ipython3",
   "version": "3.10.0"
  }
 },
 "nbformat": 4,
 "nbformat_minor": 2
}
