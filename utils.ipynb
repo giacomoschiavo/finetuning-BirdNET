{
 "cells": [
  {
   "cell_type": "code",
   "execution_count": 2,
   "metadata": {},
   "outputs": [],
   "source": [
    "import scipy.io\n",
    "import numpy as np\n",
    "import matplotlib.pyplot as plt\n",
    "import math\n",
    "import os\n",
    "from pydub import AudioSegment"
   ]
  },
  {
   "cell_type": "markdown",
   "metadata": {},
   "source": [
    "# My audio selection\n",
    "Vengono selezionati solo audio che hanno durata >= 3 secondi e che hanno file audio presente nel dataset"
   ]
  },
  {
   "cell_type": "code",
   "execution_count": 3,
   "metadata": {},
   "outputs": [],
   "source": [
    "bird_tags = scipy.io.loadmat('Bird_tags_Train.mat')[\"Bird_tags\"]\n",
    "coords = {}\n",
    "inverted_coords = {}\n",
    "audio_path = \"D:\\\\Giacomo\\\\Tovanella-20241110T120546Z-001\\\\Tovanella\"\n",
    "for elem in bird_tags:\n",
    "    tag = elem[0][0][0][0][0]\n",
    "    tag = tag.replace(\"_\", \" \")\n",
    "    file_name = elem[0][0][0][1][0]\n",
    "    file_path = os.path.join(audio_path, file_name)\n",
    "    bbox = elem[0][0][0][3][:4]\n",
    "    start_time = math.floor(min(bbox[:, 0]))\n",
    "    end_time = math.floor(max(bbox[:, 0]))\n",
    "    duration = end_time - start_time\n",
    "    if not os.path.exists(file_path) or duration < 3:   # la selection\n",
    "        continue\n",
    "    if tag not in coords:\n",
    "        coords[tag] = []\n",
    "    if file_name not in inverted_coords:\n",
    "        inverted_coords[file_name] = []\n",
    "    coords[tag].append({\"file_name\": file_name, \"bbox\": bbox.tolist(), \"start_time\": start_time, \"duration\": duration})\n",
    "    inverted_coords[file_name].append({\"tag\": tag, \"start_time\": start_time, \"duration\": duration})\n"
   ]
  },
  {
   "cell_type": "code",
   "execution_count": 4,
   "metadata": {},
   "outputs": [],
   "source": [
    "# generate json file of coords\n",
    "import json\n",
    "with open(\"utils/coords.json\", \"w\") as f:\n",
    "    json.dump(coords, f)\n",
    "with open(\"utils/inverted_coords.json\", \"w\") as f:\n",
    "    json.dump(inverted_coords, f)"
   ]
  }
 ],
 "metadata": {
  "kernelspec": {
   "display_name": "Python 3",
   "language": "python",
   "name": "python3"
  },
  "language_info": {
   "codemirror_mode": {
    "name": "ipython",
    "version": 3
   },
   "file_extension": ".py",
   "mimetype": "text/x-python",
   "name": "python",
   "nbconvert_exporter": "python",
   "pygments_lexer": "ipython3",
   "version": "3.10.0"
  }
 },
 "nbformat": 4,
 "nbformat_minor": 2
}
