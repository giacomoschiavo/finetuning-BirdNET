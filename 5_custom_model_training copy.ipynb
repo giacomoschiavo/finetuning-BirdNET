{
 "cells": [
  {
   "cell_type": "markdown",
   "metadata": {},
   "source": [
    "# Dataset Information Creation\n",
    "Create a json file to represent the files inside the dataset"
   ]
  },
  {
   "cell_type": "code",
   "execution_count": 13,
   "metadata": {},
   "outputs": [],
   "source": [
    "import matplotlib.pyplot as plt\n",
    "import torch\n",
    "import torch.optim as optim\n",
    "import numpy as np\n",
    "import json\n",
    "import torch.nn as nn\n",
    "import os\n",
    "import utils"
   ]
  },
  {
   "cell_type": "code",
   "execution_count": 14,
   "metadata": {},
   "outputs": [
    {
     "data": {
      "text/plain": [
       "True"
      ]
     },
     "execution_count": 14,
     "metadata": {},
     "output_type": "execute_result"
    }
   ],
   "source": [
    "# sudo modprobe nvidia_uvm\n",
    "torch.cuda.is_available()"
   ]
  },
  {
   "cell_type": "code",
   "execution_count": 15,
   "metadata": {},
   "outputs": [],
   "source": [
    "DATASET_NAME = \"DATASET_CNN_small\"\n",
    "MODEL_NAME = 'DeeperCNN'"
   ]
  },
  {
   "cell_type": "code",
   "execution_count": 16,
   "metadata": {},
   "outputs": [],
   "source": [
    "DATASET_PATH = f'../segments/{DATASET_NAME}'\n",
    "TRAIN_PATH = f\"{DATASET_PATH}/train\"\n",
    "TEST_PATH = f\"{DATASET_PATH}/test\"\n",
    "FINAL_TEST_PATH = f\"{DATASET_PATH}/final_test\"\n",
    "MODEL_PATH = f'./models/{MODEL_NAME}'"
   ]
  },
  {
   "cell_type": "markdown",
   "metadata": {},
   "source": [
    "# Create Dataset Config"
   ]
  },
  {
   "cell_type": "code",
   "execution_count": 17,
   "metadata": {},
   "outputs": [],
   "source": [
    "def create_dataset_config(dataset_name, config_file_name='dataset_config.json'):\n",
    "    saving_path = f\"utils/{dataset_name}/{config_file_name}\"\n",
    "    if os.path.exists(saving_path):\n",
    "        print(\"Dataset config already created!\")\n",
    "        with open(saving_path) as f:\n",
    "            return json.load(f)\n",
    "\n",
    "    mappings = utils.get_mappings(TEST_PATH, include_None=True)\n",
    "    samples = utils.collect_samples(TRAIN_PATH, TEST_PATH, FINAL_TEST_PATH, mappings)\n",
    "\n",
    "    dataset_config = {\n",
    "        \"mappings\": mappings,\n",
    "        \"samples\": samples\n",
    "    }\n",
    "    with open(saving_path, \"w\") as f:\n",
    "        json.dump(dataset_config, f)\n",
    "    print(\"Saved new dataset config\")\n",
    "    return dataset_config"
   ]
  },
  {
   "cell_type": "code",
   "execution_count": 18,
   "metadata": {},
   "outputs": [
    {
     "name": "stdout",
     "output_type": "stream",
     "text": [
      "Dataset config already created!\n"
     ]
    }
   ],
   "source": [
    "dataset_config = create_dataset_config(DATASET_NAME, 'dataset_config.json')\n",
    "mappings = dataset_config[\"mappings\"]"
   ]
  },
  {
   "cell_type": "code",
   "execution_count": 19,
   "metadata": {},
   "outputs": [
    {
     "data": {
      "text/plain": [
       "{'Wind': 0,\n",
       " 'Regulus ignicapilla_Common Firecrest': 1,\n",
       " 'Sylvia atricapilla_Eurasian Blackcap': 2,\n",
       " 'Fringilla coelebs_Common Chaffinch': 3,\n",
       " 'Troglodytes troglodytes_Eurasian Wren': 4,\n",
       " 'Muscicapa striata_Spotted Flycatcher': 5,\n",
       " 'Pecking': 6,\n",
       " 'Periparus ater_Coal Tit': 7,\n",
       " 'Lophophanes cristatus_Crested Tit': 8,\n",
       " 'Regulus regulus_Goldcrest': 9,\n",
       " 'Vegetation': 10,\n",
       " 'Rain': 11,\n",
       " 'Turdus merula_Eurasian Blackbird': 12,\n",
       " 'Certhia familiaris_Eurasian Treecreeper': 13,\n",
       " 'Erithacus rubecula_European Robin': 14,\n",
       " 'Turdus philomelos_Song Thrush': 15,\n",
       " 'Loxia curvirostra_Common Crossbill': 16,\n",
       " 'Dendrocopos major_Great Spotted Woodpecker': 17,\n",
       " 'Dryocopus martius_Black Woodpecker': 18,\n",
       " 'None': 19}"
      ]
     },
     "execution_count": 19,
     "metadata": {},
     "output_type": "execute_result"
    }
   ],
   "source": [
    "mappings"
   ]
  },
  {
   "cell_type": "markdown",
   "metadata": {},
   "source": [
    "## Load the model"
   ]
  },
  {
   "cell_type": "code",
   "execution_count": 20,
   "metadata": {},
   "outputs": [],
   "source": [
    "model_class = utils.load_model_class(MODEL_NAME)\n",
    "model = model_class(len(mappings))"
   ]
  },
  {
   "cell_type": "markdown",
   "metadata": {},
   "source": [
    "# Spectograms Creation"
   ]
  },
  {
   "cell_type": "code",
   "execution_count": 21,
   "metadata": {},
   "outputs": [
    {
     "name": "stdout",
     "output_type": "stream",
     "text": [
      "Processing: Muscicapa striata_Spotted Flycatcher\n",
      "Processing: Periparus ater_Coal Tit\n",
      "Processing: Regulus regulus_Goldcrest\n",
      "Processing: Rain\n",
      "Processing: Vegetation\n",
      "Processing: Troglodytes troglodytes_Eurasian Wren\n",
      "Processing: Erithacus rubecula_European Robin\n",
      "Processing: Dryocopus martius_Black Woodpecker\n",
      "Processing: None\n",
      "Processing: Certhia familiaris_Eurasian Treecreeper\n",
      "Processing: Wind\n",
      "Processing: Turdus merula_Eurasian Blackbird\n",
      "Processing: Loxia curvirostra_Common Crossbill\n",
      "Processing: Regulus ignicapilla_Common Firecrest\n",
      "Processing: Pecking\n",
      "Processing: Dendrocopos major_Great Spotted Woodpecker\n",
      "Processing: Sylvia atricapilla_Eurasian Blackcap\n",
      "Processing: Lophophanes cristatus_Crested Tit\n",
      "Processing: Fringilla coelebs_Common Chaffinch\n",
      "Processing: Turdus philomelos_Song Thrush\n",
      "Processing: Muscicapa striata_Spotted Flycatcher\n",
      "Processing: Periparus ater_Coal Tit\n",
      "Processing: Regulus regulus_Goldcrest\n",
      "Processing: Rain\n",
      "Processing: Vegetation\n",
      "Processing: Troglodytes troglodytes_Eurasian Wren\n",
      "Processing: Erithacus rubecula_European Robin\n",
      "Processing: Dryocopus martius_Black Woodpecker\n",
      "Processing: None\n",
      "Processing: Certhia familiaris_Eurasian Treecreeper\n",
      "Processing: Wind\n",
      "Processing: Turdus merula_Eurasian Blackbird\n",
      "Processing: Loxia curvirostra_Common Crossbill\n",
      "Processing: Regulus ignicapilla_Common Firecrest\n",
      "Processing: Pecking\n",
      "Processing: Dendrocopos major_Great Spotted Woodpecker\n",
      "Processing: Sylvia atricapilla_Eurasian Blackcap\n",
      "Processing: Lophophanes cristatus_Crested Tit\n",
      "Processing: Fringilla coelebs_Common Chaffinch\n",
      "Processing: Turdus philomelos_Song Thrush\n"
     ]
    }
   ],
   "source": [
    "SPECS_TRAIN_PATH = f\"{DATASET_PATH}/train_specs\"\n",
    "SPECS_TEST_PATH = f\"{DATASET_PATH}/test_specs\"\n",
    "os.makedirs(SPECS_TRAIN_PATH, exist_ok=True)\n",
    "os.makedirs(SPECS_TEST_PATH, exist_ok=True)\n",
    "utils.specs_generation(TRAIN_PATH, SPECS_TRAIN_PATH, dataset_config['mappings'])\n",
    "utils.specs_generation(TEST_PATH, SPECS_TEST_PATH, dataset_config['mappings'])"
   ]
  },
  {
   "cell_type": "markdown",
   "metadata": {},
   "source": [
    "# Model"
   ]
  },
  {
   "cell_type": "code",
   "execution_count": 22,
   "metadata": {},
   "outputs": [],
   "source": [
    "def train_model(dataset_config, model, epochs=10, batch_size=100, lr=1e-5, patience=3, early_stop_patience=5, print_freq=100, load_weights=False, checkpoint_name='checkpoint.pth'):\n",
    "    history_loss = []\n",
    "    device = torch.device(\"cuda\" if torch.cuda.is_available() else \"cpu\")\n",
    "    print(f\"Training {MODEL_NAME} on: {device}\")\n",
    "\n",
    "    print(\"Loading training data...\")\n",
    "    train_loader = utils.get_dataloader(dataset_config, split=\"train\", batch_size=batch_size)\n",
    "    print(\"Loaded!\")\n",
    "\n",
    "    model.to(device)\n",
    "    criterion = nn.BCEWithLogitsLoss()\n",
    "    optimizer = optim.Adam(model.parameters(), lr=lr)\n",
    "    scheduler = torch.optim.lr_scheduler.ReduceLROnPlateau(\n",
    "        optimizer, mode=\"min\", factor=0.5, patience=patience, threshold=1e-4\n",
    "    )\n",
    "    history_loss = []\n",
    "    best_loss = float(\"inf\")\n",
    "    starting_epoch = 0\n",
    "\n",
    "    saving_path = f'models/{MODEL_NAME}/{checkpoint_name}'\n",
    "    if load_weights:\n",
    "        if not os.path.exists(saving_path):\n",
    "            print(\"No weights found!\")\n",
    "            return None\n",
    "        checkpoint = torch.load(saving_path)\n",
    "        model.load_state_dict(checkpoint['model_state_dict'])\n",
    "        optimizer.load_state_dict(checkpoint['optimizer_state_dict'])\n",
    "        scheduler.load_state_dict(checkpoint['scheduler_state_dict'])\n",
    "        history_loss = checkpoint['history_loss']\n",
    "        best_loss = checkpoint['avg_loss']\n",
    "        starting_epoch = len(history_loss)\n",
    "        epochs += starting_epoch\n",
    "        print(f\"Model Loaded!\")\n",
    "    print(f\"Starting from epoch {starting_epoch} for {epochs} epochs\")\n",
    "        \n",
    "    early_stop_counter = 0\n",
    "    for epoch in range(epochs):\n",
    "        epoch += starting_epoch\n",
    "        model.train()\n",
    "        running_loss = 0.0\n",
    "        print(f\"\\n🎯 Starting epoch {epoch + 1}/{epochs}\")\n",
    "\n",
    "        for batch_index, (mel_spec, labels, _) in enumerate(train_loader):\n",
    "            mel_spec = mel_spec.to(device)\n",
    "            labels = labels.to(device)\n",
    "            optimizer.zero_grad()\n",
    "            outputs = model(mel_spec)\n",
    "            loss = criterion(outputs, labels)\n",
    "            loss.backward()\n",
    "            optimizer.step()\n",
    "            epoch = len(history_loss)\n",
    "\n",
    "            running_loss += loss.item()\n",
    "            \n",
    "            if batch_index % print_freq == 0:\n",
    "                print('Epoch: [{0}][{1}/{2}], Loss: {loss:.5f}'.format(epoch, batch_index, len(train_loader), loss=loss))\n",
    "\n",
    "        avg_loss = running_loss / len(train_loader)\n",
    "        history_loss.append(running_loss)\n",
    "        scheduler.step(running_loss)\n",
    "\n",
    "        np.save(f'models/{MODEL_NAME}/history_loss.npy', history_loss)\n",
    "        if avg_loss < best_loss:\n",
    "            best_loss = avg_loss\n",
    "            early_stop_counter = 0\n",
    "            print(f\"💾 Saving improved model at epoch {epoch+1} with avg_loss={avg_loss:.5f}\")\n",
    "            torch.save({\n",
    "                'model_state_dict': model.state_dict(),\n",
    "                'optimizer_state_dict': optimizer.state_dict(),\n",
    "                'scheduler_state_dict': scheduler.state_dict(),\n",
    "                'avg_loss': avg_loss,\n",
    "                'history_loss': history_loss\n",
    "            }, saving_path)\n",
    "        else:\n",
    "            early_stop_counter += 1\n",
    "            print(f\"🛑 No improvement — early stop counter: {early_stop_counter}/{early_stop_patience}\")\n",
    "\n",
    "        print(f\"🔁 Epoch {epoch+1} completed - Avg loss: {avg_loss:.7f} - LR: {optimizer.param_groups[0]['lr']:.1e}\")\n",
    "\n",
    "        if early_stop_counter >= early_stop_patience:\n",
    "            print(f\"\\n🚨 Early stopping triggered after {early_stop_patience} epochs without improvement.\")\n",
    "            break\n",
    "\n",
    "    print(\"✅ Training completed\")\n",
    "    return model\n"
   ]
  },
  {
   "cell_type": "code",
   "execution_count": 23,
   "metadata": {},
   "outputs": [
    {
     "name": "stdout",
     "output_type": "stream",
     "text": [
      "Training DeeperCNN on: cuda\n",
      "Loading training data...\n",
      "Loaded!\n",
      "Starting from epoch 0 for 200 epochs\n",
      "\n",
      "🎯 Starting epoch 1/200\n",
      "Epoch: [0][0/273], Loss: 0.69471\n",
      "Epoch: [0][100/273], Loss: 0.21384\n",
      "Epoch: [0][200/273], Loss: 0.15201\n",
      "💾 Saving improved model at epoch 1 with avg_loss=0.18548\n",
      "🔁 Epoch 1 completed - Avg loss: 0.1854791 - LR: 1.0e-03\n",
      "\n",
      "🎯 Starting epoch 2/200\n",
      "Epoch: [1][0/273], Loss: 0.09872\n",
      "Epoch: [1][100/273], Loss: 0.09613\n",
      "Epoch: [1][200/273], Loss: 0.10218\n",
      "💾 Saving improved model at epoch 2 with avg_loss=0.10489\n",
      "🔁 Epoch 2 completed - Avg loss: 0.1048878 - LR: 1.0e-03\n",
      "\n",
      "🎯 Starting epoch 3/200\n",
      "Epoch: [2][0/273], Loss: 0.09827\n",
      "Epoch: [2][100/273], Loss: 0.09429\n",
      "Epoch: [2][200/273], Loss: 0.07521\n",
      "💾 Saving improved model at epoch 3 with avg_loss=0.08834\n",
      "🔁 Epoch 3 completed - Avg loss: 0.0883424 - LR: 1.0e-03\n",
      "\n",
      "🎯 Starting epoch 4/200\n",
      "Epoch: [3][0/273], Loss: 0.10652\n",
      "Epoch: [3][100/273], Loss: 0.06228\n",
      "Epoch: [3][200/273], Loss: 0.07458\n",
      "💾 Saving improved model at epoch 4 with avg_loss=0.08223\n",
      "🔁 Epoch 4 completed - Avg loss: 0.0822256 - LR: 1.0e-03\n",
      "\n",
      "🎯 Starting epoch 5/200\n",
      "Epoch: [4][0/273], Loss: 0.09496\n",
      "Epoch: [4][100/273], Loss: 0.07856\n",
      "Epoch: [4][200/273], Loss: 0.08240\n",
      "💾 Saving improved model at epoch 5 with avg_loss=0.07830\n",
      "🔁 Epoch 5 completed - Avg loss: 0.0783011 - LR: 1.0e-03\n",
      "\n",
      "🎯 Starting epoch 6/200\n",
      "Epoch: [5][0/273], Loss: 0.06412\n",
      "Epoch: [5][100/273], Loss: 0.09249\n",
      "Epoch: [5][200/273], Loss: 0.08293\n",
      "💾 Saving improved model at epoch 6 with avg_loss=0.07480\n",
      "🔁 Epoch 6 completed - Avg loss: 0.0748030 - LR: 1.0e-03\n",
      "\n",
      "🎯 Starting epoch 7/200\n",
      "Epoch: [6][0/273], Loss: 0.06959\n",
      "Epoch: [6][100/273], Loss: 0.08188\n",
      "Epoch: [6][200/273], Loss: 0.08166\n",
      "💾 Saving improved model at epoch 7 with avg_loss=0.07188\n",
      "🔁 Epoch 7 completed - Avg loss: 0.0718774 - LR: 1.0e-03\n",
      "\n",
      "🎯 Starting epoch 8/200\n",
      "Epoch: [7][0/273], Loss: 0.05596\n",
      "Epoch: [7][100/273], Loss: 0.06574\n",
      "Epoch: [7][200/273], Loss: 0.06073\n",
      "💾 Saving improved model at epoch 8 with avg_loss=0.06945\n",
      "🔁 Epoch 8 completed - Avg loss: 0.0694520 - LR: 1.0e-03\n",
      "\n",
      "🎯 Starting epoch 9/200\n",
      "Epoch: [8][0/273], Loss: 0.05777\n",
      "Epoch: [8][100/273], Loss: 0.08407\n",
      "Epoch: [8][200/273], Loss: 0.06626\n",
      "💾 Saving improved model at epoch 9 with avg_loss=0.06793\n",
      "🔁 Epoch 9 completed - Avg loss: 0.0679256 - LR: 1.0e-03\n",
      "\n",
      "🎯 Starting epoch 10/200\n",
      "Epoch: [9][0/273], Loss: 0.08712\n",
      "Epoch: [9][100/273], Loss: 0.07455\n",
      "Epoch: [9][200/273], Loss: 0.05276\n",
      "💾 Saving improved model at epoch 10 with avg_loss=0.06569\n",
      "🔁 Epoch 10 completed - Avg loss: 0.0656887 - LR: 1.0e-03\n",
      "\n",
      "🎯 Starting epoch 11/200\n",
      "Epoch: [10][0/273], Loss: 0.05266\n",
      "Epoch: [10][100/273], Loss: 0.05823\n",
      "Epoch: [10][200/273], Loss: 0.07030\n",
      "💾 Saving improved model at epoch 11 with avg_loss=0.06430\n",
      "🔁 Epoch 11 completed - Avg loss: 0.0643018 - LR: 1.0e-03\n",
      "\n",
      "🎯 Starting epoch 12/200\n",
      "Epoch: [11][0/273], Loss: 0.04998\n",
      "Epoch: [11][100/273], Loss: 0.05894\n",
      "Epoch: [11][200/273], Loss: 0.06690\n",
      "💾 Saving improved model at epoch 12 with avg_loss=0.06239\n",
      "🔁 Epoch 12 completed - Avg loss: 0.0623881 - LR: 1.0e-03\n",
      "\n",
      "🎯 Starting epoch 13/200\n",
      "Epoch: [12][0/273], Loss: 0.05520\n",
      "Epoch: [12][100/273], Loss: 0.05937\n",
      "Epoch: [12][200/273], Loss: 0.05428\n",
      "💾 Saving improved model at epoch 13 with avg_loss=0.06053\n",
      "🔁 Epoch 13 completed - Avg loss: 0.0605300 - LR: 1.0e-03\n",
      "\n",
      "🎯 Starting epoch 14/200\n",
      "Epoch: [13][0/273], Loss: 0.06631\n",
      "Epoch: [13][100/273], Loss: 0.07077\n",
      "Epoch: [13][200/273], Loss: 0.05554\n",
      "💾 Saving improved model at epoch 14 with avg_loss=0.05881\n",
      "🔁 Epoch 14 completed - Avg loss: 0.0588139 - LR: 1.0e-03\n",
      "\n",
      "🎯 Starting epoch 15/200\n",
      "Epoch: [14][0/273], Loss: 0.04901\n",
      "Epoch: [14][100/273], Loss: 0.07667\n",
      "Epoch: [14][200/273], Loss: 0.06028\n",
      "💾 Saving improved model at epoch 15 with avg_loss=0.05758\n",
      "🔁 Epoch 15 completed - Avg loss: 0.0575805 - LR: 1.0e-03\n",
      "\n",
      "🎯 Starting epoch 16/200\n",
      "Epoch: [15][0/273], Loss: 0.05452\n",
      "Epoch: [15][100/273], Loss: 0.05821\n",
      "Epoch: [15][200/273], Loss: 0.06564\n",
      "💾 Saving improved model at epoch 16 with avg_loss=0.05568\n",
      "🔁 Epoch 16 completed - Avg loss: 0.0556795 - LR: 1.0e-03\n",
      "\n",
      "🎯 Starting epoch 17/200\n",
      "Epoch: [16][0/273], Loss: 0.05208\n",
      "Epoch: [16][100/273], Loss: 0.05874\n",
      "Epoch: [16][200/273], Loss: 0.06075\n",
      "💾 Saving improved model at epoch 17 with avg_loss=0.05441\n",
      "🔁 Epoch 17 completed - Avg loss: 0.0544128 - LR: 1.0e-03\n",
      "\n",
      "🎯 Starting epoch 18/200\n",
      "Epoch: [17][0/273], Loss: 0.04107\n",
      "Epoch: [17][100/273], Loss: 0.05764\n",
      "Epoch: [17][200/273], Loss: 0.04105\n",
      "💾 Saving improved model at epoch 18 with avg_loss=0.05302\n",
      "🔁 Epoch 18 completed - Avg loss: 0.0530221 - LR: 1.0e-03\n",
      "\n",
      "🎯 Starting epoch 19/200\n",
      "Epoch: [18][0/273], Loss: 0.05800\n",
      "Epoch: [18][100/273], Loss: 0.05253\n",
      "Epoch: [18][200/273], Loss: 0.03847\n",
      "💾 Saving improved model at epoch 19 with avg_loss=0.05131\n",
      "🔁 Epoch 19 completed - Avg loss: 0.0513140 - LR: 1.0e-03\n",
      "\n",
      "🎯 Starting epoch 20/200\n",
      "Epoch: [19][0/273], Loss: 0.05131\n",
      "Epoch: [19][100/273], Loss: 0.05374\n",
      "Epoch: [19][200/273], Loss: 0.03260\n",
      "💾 Saving improved model at epoch 20 with avg_loss=0.04974\n",
      "🔁 Epoch 20 completed - Avg loss: 0.0497419 - LR: 1.0e-03\n",
      "\n",
      "🎯 Starting epoch 21/200\n",
      "Epoch: [20][0/273], Loss: 0.04102\n",
      "Epoch: [20][100/273], Loss: 0.05059\n",
      "Epoch: [20][200/273], Loss: 0.04661\n",
      "💾 Saving improved model at epoch 21 with avg_loss=0.04811\n",
      "🔁 Epoch 21 completed - Avg loss: 0.0481084 - LR: 1.0e-03\n",
      "\n",
      "🎯 Starting epoch 22/200\n",
      "Epoch: [21][0/273], Loss: 0.03859\n",
      "Epoch: [21][100/273], Loss: 0.04362\n"
     ]
    },
    {
     "ename": "KeyboardInterrupt",
     "evalue": "",
     "output_type": "error",
     "traceback": [
      "\u001b[0;31m---------------------------------------------------------------------------\u001b[0m",
      "\u001b[0;31mKeyboardInterrupt\u001b[0m                         Traceback (most recent call last)",
      "Cell \u001b[0;32mIn[23], line 1\u001b[0m\n\u001b[0;32m----> 1\u001b[0m model \u001b[38;5;241m=\u001b[39m \u001b[43mtrain_model\u001b[49m\u001b[43m(\u001b[49m\u001b[43mdataset_config\u001b[49m\u001b[43m,\u001b[49m\u001b[43m \u001b[49m\u001b[43mmodel\u001b[49m\u001b[43m,\u001b[49m\u001b[43m \u001b[49m\u001b[43mepochs\u001b[49m\u001b[38;5;241;43m=\u001b[39;49m\u001b[38;5;241;43m200\u001b[39;49m\u001b[43m,\u001b[49m\u001b[43m \u001b[49m\u001b[43mbatch_size\u001b[49m\u001b[38;5;241;43m=\u001b[39;49m\u001b[38;5;241;43m64\u001b[39;49m\u001b[43m,\u001b[49m\u001b[43m \u001b[49m\u001b[43mlr\u001b[49m\u001b[38;5;241;43m=\u001b[39;49m\u001b[38;5;241;43m1e-3\u001b[39;49m\u001b[43m,\u001b[49m\u001b[43m \u001b[49m\u001b[43mload_weights\u001b[49m\u001b[38;5;241;43m=\u001b[39;49m\u001b[38;5;28;43;01mFalse\u001b[39;49;00m\u001b[43m,\u001b[49m\u001b[43m \u001b[49m\u001b[43mcheckpoint_name\u001b[49m\u001b[38;5;241;43m=\u001b[39;49m\u001b[38;5;124;43m'\u001b[39;49m\u001b[38;5;124;43mcheckpoint_small.pth\u001b[39;49m\u001b[38;5;124;43m'\u001b[39;49m\u001b[43m)\u001b[49m\n",
      "Cell \u001b[0;32mIn[22], line 53\u001b[0m, in \u001b[0;36mtrain_model\u001b[0;34m(dataset_config, model, epochs, batch_size, lr, patience, early_stop_patience, print_freq, load_weights, checkpoint_name)\u001b[0m\n\u001b[1;32m     50\u001b[0m optimizer\u001b[38;5;241m.\u001b[39mstep()\n\u001b[1;32m     51\u001b[0m epoch \u001b[38;5;241m=\u001b[39m \u001b[38;5;28mlen\u001b[39m(history_loss)\n\u001b[0;32m---> 53\u001b[0m running_loss \u001b[38;5;241m+\u001b[39m\u001b[38;5;241m=\u001b[39m \u001b[43mloss\u001b[49m\u001b[38;5;241;43m.\u001b[39;49m\u001b[43mitem\u001b[49m\u001b[43m(\u001b[49m\u001b[43m)\u001b[49m\n\u001b[1;32m     55\u001b[0m \u001b[38;5;28;01mif\u001b[39;00m batch_index \u001b[38;5;241m%\u001b[39m print_freq \u001b[38;5;241m==\u001b[39m \u001b[38;5;241m0\u001b[39m:\n\u001b[1;32m     56\u001b[0m     \u001b[38;5;28mprint\u001b[39m(\u001b[38;5;124m'\u001b[39m\u001b[38;5;124mEpoch: [\u001b[39m\u001b[38;5;132;01m{0}\u001b[39;00m\u001b[38;5;124m][\u001b[39m\u001b[38;5;132;01m{1}\u001b[39;00m\u001b[38;5;124m/\u001b[39m\u001b[38;5;132;01m{2}\u001b[39;00m\u001b[38;5;124m], Loss: \u001b[39m\u001b[38;5;132;01m{loss:.5f}\u001b[39;00m\u001b[38;5;124m'\u001b[39m\u001b[38;5;241m.\u001b[39mformat(epoch, batch_index, \u001b[38;5;28mlen\u001b[39m(train_loader), loss\u001b[38;5;241m=\u001b[39mloss))\n",
      "\u001b[0;31mKeyboardInterrupt\u001b[0m: "
     ]
    }
   ],
   "source": [
    "model = train_model(dataset_config, model, epochs=200, batch_size=64, lr=1e-3, load_weights=False, checkpoint_name='checkpoint_small.pth')"
   ]
  },
  {
   "cell_type": "code",
   "execution_count": 24,
   "metadata": {},
   "outputs": [
    {
     "data": {
      "image/png": "[encoded data removed]",
      "text/plain": [
       "<Figure size 800x500 with 1 Axes>"
      ]
     },
     "metadata": {},
     "output_type": "display_data"
    }
   ],
   "source": [
    "history_loss = np.load(f'models/{MODEL_NAME}/history_loss.npy')\n",
    "plt.figure(figsize=(8, 5))\n",
    "plt.plot(history_loss, linestyle='-', color='tomato', label=\"Loss\")\n",
    "# plt.title(title)\n",
    "plt.xlabel(\"Epoch\")\n",
    "# plt.ylabel(ylabel)\n",
    "plt.grid(True, linestyle='--', alpha=0.6)\n",
    "plt.legend()\n",
    "plt.tight_layout()\n",
    "plt.show()\n"
   ]
  },
  {
   "cell_type": "code",
   "execution_count": null,
   "metadata": {},
   "outputs": [
    {
     "data": {
      "text/plain": [
       "11693"
      ]
     },
     "execution_count": 22,
     "metadata": {},
     "output_type": "execute_result"
    }
   ],
   "source": [
    "torch.cuda.empty_cache()\n",
    "os.getpid()"
   ]
  }
 ],
 "metadata": {
  "kernelspec": {
   "display_name": "myenv",
   "language": "python",
   "name": "python3"
  },
  "language_info": {
   "codemirror_mode": {
    "name": "ipython",
    "version": 3
   },
   "file_extension": ".py",
   "mimetype": "text/x-python",
   "name": "python",
   "nbconvert_exporter": "python",
   "pygments_lexer": "ipython3",
   "version": "3.10.17"
  }
 },
 "nbformat": 4,
 "nbformat_minor": 2
}
