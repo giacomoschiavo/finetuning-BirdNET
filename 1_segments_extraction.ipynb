{
 "cells": [
  {
   "cell_type": "markdown",
   "metadata": {},
   "source": [
    "# Segments Extraction  \n",
    "\n",
    "This notebook extracts annotated audio segments from the official recordings of Tovanella and WABAD using the `Bird_tags_Train.mat` file. Since BirdNET analyzes 3-second clips, all extracted segments follow this duration.  \n",
    "\n",
    "Segments are generated with a 50% overlap, shifting by 1.5 seconds between consecutive clips.  \n",
    "\n",
    "## Extraction Process:\n",
    "1. **`species_dict`**: maps common names to scientific names for all species.  \n",
    "2. **`category_annots.json`** & **`audio_annots.json`**: store segment annotations for each species in every audio file.  \n",
    "3. **`audio_info.json`**: provides total duration and sampling rate for each recording.  \n",
    "4. **`true_segments.json`**: lists the species present in each extracted segment.  \n",
    "\n",
    "Unannotated segments can be included (labeled as `\"None\"`) by enabling `generate_None`, treating them as a non-species class.  \n",
    "\n",
    "For WABAD, a different approach was used due to multiple recording sites—only relevant sites containing the study species were processed.\n"
   ]
  },
  {
   "cell_type": "code",
   "execution_count": null,
   "metadata": {},
   "outputs": [],
   "source": [
    "import scipy.io\n",
    "import numpy as np\n",
    "import os\n",
    "from pydub import AudioSegment\n",
    "import numpy as np\n",
    "import json\n",
    "from tqdm import tqdm\n",
    "import pandas as pd\n",
    "import csv\n",
    "import librosa"
   ]
  },
  {
   "cell_type": "code",
   "execution_count": 8,
   "metadata": {},
   "outputs": [],
   "source": [
    "# DATASET_NAME = 'DATASET_CNN'\n",
    "# DATASET_PATH = f'/home/giacomoschiavo/segments/{DATASET_NAME}'\n",
    "# AUDIO_SOURCE = '/home/giacomoschiavo/Tovanella'"
   ]
  },
  {
   "cell_type": "code",
   "execution_count": null,
   "metadata": {},
   "outputs": [],
   "source": [
    "# Configuration variable\n",
    "DATASET_NAME = 'NEW_DATASET_1'                              # name of the dataset (used to save utils file under its name) \n",
    "DATASET_PATH = f'E:/Giacomo/Tovanella/{DATASET_NAME}'       # path of the dataset\n",
    "AUDIO_SOURCE = 'E:/Giacomo/Tovanella/Tovanella'             # folder that contains all the audio files"
   ]
  },
  {
   "cell_type": "markdown",
   "metadata": {},
   "source": [
    "# Species Dict\n",
    "Create a dictionary to map the scientific name of a species to its common name"
   ]
  },
  {
   "cell_type": "code",
   "execution_count": 10,
   "metadata": {},
   "outputs": [
    {
     "data": {
      "text/plain": [
       "['Abroscopus albogularis_Rufous-faced Warbler',\n",
       " 'Abroscopus schisticeps_Black-faced Warbler',\n",
       " 'Abroscopus superciliaris_Yellow-bellied Warbler',\n",
       " 'Aburria aburri_Wattled Guan',\n",
       " 'Acanthagenys rufogularis_Spiny-cheeked Honeyeater']"
      ]
     },
     "execution_count": 10,
     "metadata": {},
     "output_type": "execute_result"
    }
   ],
   "source": [
    "from pathlib import Path\n",
    "\n",
    "all_species = Path(\"utils/BirdNET_GLOBAL_6K_V2.4_Labels_en_uk.txt\").read_text(encoding=\"utf-8\").splitlines()\n",
    "all_species[:5]"
   ]
  },
  {
   "cell_type": "code",
   "execution_count": 11,
   "metadata": {},
   "outputs": [
    {
     "data": {
      "text/plain": [
       "'Rufous-faced Warbler'"
      ]
     },
     "execution_count": 11,
     "metadata": {},
     "output_type": "execute_result"
    }
   ],
   "source": [
    "# maps every scientific name to its common name\n",
    "species_dict = {}\n",
    "for specie in all_species:\n",
    "    scientific_name, common_name = specie.split(\"_\")    # <Abroscopus albogularis>_<Rufous-faced Warbler>\n",
    "    species_dict[scientific_name] = common_name\n",
    "\n",
    "species_dict[\"Abroscopus albogularis\"]"
   ]
  },
  {
   "cell_type": "code",
   "execution_count": 12,
   "metadata": {},
   "outputs": [],
   "source": [
    "# export species_dict to json\n",
    "# with open('utils/species_dict_map.json', 'w') as f:\n",
    "#     json.dump(species_dict, f)"
   ]
  },
  {
   "cell_type": "markdown",
   "metadata": {},
   "source": [
    "# Category and Audio Annotation Files: A Deep Dive\n",
    "\n",
    "These files hold invaluable annotation data, offering distinct perspectives on our dataset.\n",
    "\n",
    "**`category_annots.json`**: This file provides a species-centric view. For each species identified, it lists *all* corresponding annotations found across *every* audio recording within the Tovanella folder.\n",
    "\n",
    "**`audio_annots.json`**: In contrast, this file takes an audio-centric approach. For each individual audio file in our collection, it details *all* the annotations present within that specific recording."
   ]
  },
  {
   "cell_type": "code",
   "execution_count": null,
   "metadata": {},
   "outputs": [],
   "source": [
    "# extract annotations from the given file\n",
    "bird_tags = scipy.io.loadmat('Bird_tags_Train.mat')[\"Bird_tags\"] \n",
    "# visualize an example, showing all the properties\n",
    "for i, prop in enumerate(bird_tags[12][0][0][0]):\n",
    "    print(i, prop)"
   ]
  },
  {
   "cell_type": "code",
   "execution_count": null,
   "metadata": {},
   "outputs": [],
   "source": [
    "def get_audio_category_annots(bird_tags_filepath, audio_source_path):\n",
    "    bird_tags = scipy.io.loadmat(bird_tags_filepath)[\"Bird_tags\"]\n",
    "    category_annots = {}      # detections grouped by category\n",
    "    audio_annots = {}         # detections grouped by audio\n",
    "    for elem in bird_tags:\n",
    "        tag = elem[0][0][0][0][0]\n",
    "        scientific_name = tag.replace(\"_\", \" \")                 # Fringilla_coelebs -> Fringilla coelebs\n",
    "        common_name = species_dict.get(scientific_name, \"\")     # Fringilla coelebs -> Common Chaffinch\n",
    "        label = \"_\".join([scientific_name, common_name])        # Fringilla coelebs_Common Chaffinch\n",
    "\n",
    "        if not common_name:             # this happens only for non-species class, like \"Wind_\" and \"Vegetation_\"\n",
    "            label = scientific_name     # as they don't have a common name, we use the scientific name as label\n",
    "\n",
    "        file_name = elem[0][0][0][1][0]                         \n",
    "        file_path = os.path.join(audio_source_path, file_name)   # path to the audio file\n",
    "\n",
    "        start_time, end_time = np.array(elem[0][0][0][2]).flatten()[-2:]\n",
    "        duration = end_time - start_time\n",
    "        \n",
    "        if not os.path.exists(file_path):       # do not store if file does not exist \n",
    "            continue\n",
    "        if label not in category_annots:\n",
    "            category_annots[label] = []\n",
    "        if file_name not in audio_annots:\n",
    "            audio_annots[file_name] = []\n",
    "\n",
    "        category_annots[label].append({ \"file_name\": file_name, \"start_time\": start_time, \"duration\": duration, \"label\": label  })\n",
    "        audio_annots[file_name].append({ \"scientific_name\": scientific_name, \"common_name\": common_name, \"start_time\": start_time, \"duration\": duration, \"label\": label })\n",
    "\n",
    "    return category_annots, audio_annots\n"
   ]
  },
  {
   "cell_type": "code",
   "execution_count": null,
   "metadata": {},
   "outputs": [],
   "source": [
    "category_annots, audio_annots = get_audio_category_annots(\"Bird_tags_Train.mat\", AUDIO_SOURCE)\n",
    "\n",
    "with open(\"utils/category_annots.json\", \"w\") as f:\n",
    "    json.dump(category_annots, f)\n",
    "with open(\"utils/audio_annots.json\", \"w\") as f:\n",
    "    json.dump(audio_annots, f)"
   ]
  },
  {
   "cell_type": "code",
   "execution_count": null,
   "metadata": {},
   "outputs": [],
   "source": [
    "# creates species list\n",
    "species_list = list(category_annots.keys())"
   ]
  },
  {
   "cell_type": "markdown",
   "metadata": {},
   "source": [
    "# Segments Creation\n",
    "Creates all the segments listed in Category Info"
   ]
  },
  {
   "cell_type": "code",
   "execution_count": null,
   "metadata": {},
   "outputs": [],
   "source": [
    "# store info about duration and sampling rate of the given audio\n",
    "def generate_audio_info(source_audio_path, audio_annots):\n",
    "    audio_info = {}\n",
    "    audios = list(audio_annots.keys())\n",
    "    for audio in audios:\n",
    "        y, sr = librosa.load(os.path.join(source_audio_path, audio), sr=None)\n",
    "        duration = librosa.get_duration(y=y, sr=sr)\n",
    "        audio_info[audio] = {\"duration\": duration, \"sampling_rate\": sr}\n",
    "    return audio_info"
   ]
  },
  {
   "cell_type": "code",
   "execution_count": null,
   "metadata": {},
   "outputs": [],
   "source": [
    "# LOAD\n",
    "# with open(\"utils/audio_info.json\") as f:\n",
    "    # audio_info = json.load(f)\n",
    "\n",
    "# SAVE\n",
    "audio_info = generate_audio_info(AUDIO_SOURCE, audio_annots)\n",
    "with open(\"utils/audio_info.json\", \"w\") as f:\n",
    "    json.dump(audio_info, f)"
   ]
  },
  {
   "cell_type": "code",
   "execution_count": null,
   "metadata": {},
   "outputs": [],
   "source": [
    "# generates the true segments for each audio file\n",
    "def generate_true_segments(audio_annots, audio_info):\n",
    "    true_segments = {}\n",
    "    audios = list(audio_annots.keys())\n",
    "    segment_length = 3.0    # length of each segment \n",
    "    step_size = 1.5         # overlap between segments \n",
    "\n",
    "    for audio in audios:\n",
    "        # load annotations for this audio\n",
    "        all_annotations = audio_annots[audio]               \n",
    "        audio_duration = audio_info[audio][\"duration\"]\n",
    "        true_segments[audio] = {}\n",
    "\n",
    "        # generate all empty segments every 1.5 seconds\n",
    "        segment_start = 0.0\n",
    "        while segment_start + segment_length <= audio_duration:\n",
    "            segm_id = f\"{int(segment_start)}_{int((segment_start % 1) * 10)}\"\n",
    "            true_segments[audio][segm_id] = []      # empty list that will be filled with annotations\n",
    "            segment_start += step_size              # move the segment forward by 1.5s\n",
    "\n",
    "        # assign the annotations to the corresponding segments\n",
    "        for annotation in all_annotations:\n",
    "            start_time = annotation[\"start_time\"]\n",
    "            duration = annotation[\"duration\"]\n",
    "            species = annotation[\"label\"]\n",
    "\n",
    "            # find the time interval where this annotation is present\n",
    "            annotation_end = start_time + duration\n",
    "\n",
    "            # check which segments contain it at least partially\n",
    "            for segment_start_str in true_segments[audio].keys():\n",
    "                segment_start_time = float(segment_start_str.replace(\"_\", \".\"))  # convert from string to float\n",
    "                segment_end_time = segment_start_time + segment_length\n",
    "\n",
    "                # if the annotation falls at least partially within this segment, add it\n",
    "                if not (annotation_end <= segment_start_time or start_time >= segment_end_time):\n",
    "                    if species not in true_segments[audio][segment_start_str]:\n",
    "                        true_segments[audio][segment_start_str].append(species)\n",
    "    return true_segments"
   ]
  },
  {
   "cell_type": "code",
   "execution_count": null,
   "metadata": {},
   "outputs": [],
   "source": [
    "true_segments = generate_true_segments(audio_annots, audio_info)"
   ]
  },
  {
   "cell_type": "code",
   "execution_count": null,
   "metadata": {},
   "outputs": [],
   "source": [
    "# SAVE\n",
    "os.makedirs(f'utils/{DATASET_NAME}', exist_ok=True)\n",
    "with open(f'utils/{DATASET_NAME}/true_segments.json', 'w') as f:\n",
    "    json.dump(true_segments, f)"
   ]
  },
  {
   "cell_type": "code",
   "execution_count": null,
   "metadata": {},
   "outputs": [],
   "source": [
    "# create segment file given a species name\n",
    "def generate_species_segment(segment_audio, species_name, target_path, basename, segm_id):\n",
    "    os.makedirs(os.path.join(target_path, species_name), exist_ok=True)\n",
    "    export_path = os.path.join(\n",
    "        target_path,\n",
    "        species_name, \n",
    "        f\"{basename}_{segm_id}.wav\"\n",
    "    )\n",
    "    if os.path.exists(export_path):\n",
    "        return\n",
    "    segment_audio.export(export_path, format=\"wav\")\n",
    "\n",
    "# generate the audio from the true_segments\n",
    "def generate_segments(audio_source_path, target_path, true_segments, audio_info, generate_None=False):\n",
    "    for audio_path, segms in true_segments.items():     # { <audio_path>.wav: { <segm_id>: [<species>] } }\n",
    "        basename = os.path.splitext(audio_path)[0]      # removes \".wav\"\n",
    "        progress_bar = tqdm(total=len(segms), colour='red', desc=\"Processing segments...\")\n",
    "        print(f\"Elaborating audio {audio_path}...\")\n",
    "        # loads the audio\n",
    "        audio = AudioSegment.from_file(                 \n",
    "                os.path.join(audio_source_path, audio_path),    \n",
    "                format=\"wav\",\n",
    "                frame_rate=audio_info[audio_path][\"sampling_rate\"]\n",
    "            )\n",
    "        for segm_id, species in segms.items():          # <segm_id>: [<species>]\n",
    "            segment_start_time = float(segm_id.replace(\"_\", \".\"))\n",
    "            segment_audio = audio[segment_start_time*1000:segment_start_time*1000 + 3000]\n",
    "            if not species and generate_None:           # if the segment is empty, generate a None segment\n",
    "                generate_species_segment(segment_audio, \"None\", target_path, basename, segm_id)\n",
    "            for sp in species:\n",
    "                generate_species_segment(segment_audio, sp, target_path, basename, segm_id)\n",
    "            progress_bar.update(1)\n",
    "        progress_bar.close()"
   ]
  },
  {
   "cell_type": "code",
   "execution_count": null,
   "metadata": {},
   "outputs": [],
   "source": [
    "# it takes almost 30 minutes\n",
    "# generate_segments(audio_source_path=AUDIO_SOURCE,\n",
    "#                   target_path=f\"{DATASET_PATH}/train\",\n",
    "#                   true_segments=true_segments,\n",
    "#                   audio_info=audio_info,\n",
    "#                   generate_None=True)"
   ]
  },
  {
   "cell_type": "code",
   "execution_count": null,
   "metadata": {},
   "outputs": [
    {
     "data": {
      "application/vnd.microsoft.datawrangler.viewer.v0+json": {
       "columns": [
        {
         "name": "index",
         "rawType": "int64",
         "type": "integer"
        },
        {
         "name": "Species",
         "rawType": "object",
         "type": "string"
        },
        {
         "name": "Count",
         "rawType": "int64",
         "type": "integer"
        }
       ],
       "conversionMethod": "pd.DataFrame",
       "ref": "70131b2f-b1dd-488f-986e-3b1d0ff68ffd",
       "rows": [
        [
         "0",
         "None",
         "11291"
        ],
        [
         "1",
         "Fringilla coelebs_Common Chaffinch",
         "6002"
        ],
        [
         "2",
         "Turdus philomelos_Song Thrush",
         "4317"
        ],
        [
         "3",
         "Sylvia atricapilla_Eurasian Blackcap",
         "3027"
        ],
        [
         "4",
         "Regulus ignicapilla_Common Firecrest",
         "2777"
        ],
        [
         "5",
         "Phylloscopus collybita_Common Chiffchaff",
         "2014"
        ],
        [
         "6",
         "Erithacus rubecula_European Robin",
         "1385"
        ],
        [
         "7",
         "Troglodytes troglodytes_Eurasian Wren",
         "1159"
        ],
        [
         "8",
         "Regulus regulus_Goldcrest",
         "550"
        ],
        [
         "9",
         "Rain",
         "477"
        ],
        [
         "10",
         "Wind",
         "463"
        ],
        [
         "11",
         "Periparus ater_Coal Tit",
         "317"
        ],
        [
         "12",
         "Muscicapa striata_Spotted Flycatcher",
         "256"
        ],
        [
         "13",
         "Vegetation",
         "215"
        ],
        [
         "14",
         "Pecking",
         "180"
        ],
        [
         "15",
         "Turdus merula_Eurasian Blackbird",
         "155"
        ],
        [
         "16",
         "Certhia familiaris_Eurasian Treecreeper",
         "154"
        ],
        [
         "17",
         "Loxia curvirostra_Common Crossbill",
         "148"
        ],
        [
         "18",
         "Lophophanes cristatus_Crested Tit",
         "115"
        ],
        [
         "19",
         "Turdus viscivorus_Mistle Thrush",
         "112"
        ],
        [
         "20",
         "Dryocopus martius_Black Woodpecker",
         "51"
        ],
        [
         "21",
         "Aeroplane",
         "41"
        ],
        [
         "22",
         "Dendrocopos major_Great Spotted Woodpecker",
         "37"
        ],
        [
         "23",
         "Pyrrhula pyrrhula_Eurasian Bullfinch",
         "29"
        ],
        [
         "24",
         "Glaucidium passerinum_Eurasian Pygmy-Owl",
         "29"
        ],
        [
         "25",
         "Insect",
         "13"
        ],
        [
         "26",
         "Phylloscopus trochilus_Willow Warbler",
         "11"
        ],
        [
         "27",
         "Spinus spinus_Eurasian Siskin",
         "9"
        ],
        [
         "28",
         "unknown",
         "8"
        ],
        [
         "29",
         "Poecile palustris_Marsh Tit",
         "3"
        ],
        [
         "30",
         "Bat",
         "3"
        ],
        [
         "31",
         "Prunella modularis_Dunnock",
         "2"
        ]
       ],
       "shape": {
        "columns": 2,
        "rows": 32
       }
      },
      "text/html": [
       "<div>\n",
       "<style scoped>\n",
       "    .dataframe tbody tr th:only-of-type {\n",
       "        vertical-align: middle;\n",
       "    }\n",
       "\n",
       "    .dataframe tbody tr th {\n",
       "        vertical-align: top;\n",
       "    }\n",
       "\n",
       "    .dataframe thead th {\n",
       "        text-align: right;\n",
       "    }\n",
       "</style>\n",
       "<table border=\"1\" class=\"dataframe\">\n",
       "  <thead>\n",
       "    <tr style=\"text-align: right;\">\n",
       "      <th></th>\n",
       "      <th>Species</th>\n",
       "      <th>Count</th>\n",
       "    </tr>\n",
       "  </thead>\n",
       "  <tbody>\n",
       "    <tr>\n",
       "      <th>0</th>\n",
       "      <td>None</td>\n",
       "      <td>11291</td>\n",
       "    </tr>\n",
       "    <tr>\n",
       "      <th>1</th>\n",
       "      <td>Fringilla coelebs_Common Chaffinch</td>\n",
       "      <td>6002</td>\n",
       "    </tr>\n",
       "    <tr>\n",
       "      <th>2</th>\n",
       "      <td>Turdus philomelos_Song Thrush</td>\n",
       "      <td>4317</td>\n",
       "    </tr>\n",
       "    <tr>\n",
       "      <th>3</th>\n",
       "      <td>Sylvia atricapilla_Eurasian Blackcap</td>\n",
       "      <td>3027</td>\n",
       "    </tr>\n",
       "    <tr>\n",
       "      <th>4</th>\n",
       "      <td>Regulus ignicapilla_Common Firecrest</td>\n",
       "      <td>2777</td>\n",
       "    </tr>\n",
       "    <tr>\n",
       "      <th>5</th>\n",
       "      <td>Phylloscopus collybita_Common Chiffchaff</td>\n",
       "      <td>2014</td>\n",
       "    </tr>\n",
       "    <tr>\n",
       "      <th>6</th>\n",
       "      <td>Erithacus rubecula_European Robin</td>\n",
       "      <td>1385</td>\n",
       "    </tr>\n",
       "    <tr>\n",
       "      <th>7</th>\n",
       "      <td>Troglodytes troglodytes_Eurasian Wren</td>\n",
       "      <td>1159</td>\n",
       "    </tr>\n",
       "    <tr>\n",
       "      <th>8</th>\n",
       "      <td>Regulus regulus_Goldcrest</td>\n",
       "      <td>550</td>\n",
       "    </tr>\n",
       "    <tr>\n",
       "      <th>9</th>\n",
       "      <td>Rain</td>\n",
       "      <td>477</td>\n",
       "    </tr>\n",
       "    <tr>\n",
       "      <th>10</th>\n",
       "      <td>Wind</td>\n",
       "      <td>463</td>\n",
       "    </tr>\n",
       "    <tr>\n",
       "      <th>11</th>\n",
       "      <td>Periparus ater_Coal Tit</td>\n",
       "      <td>317</td>\n",
       "    </tr>\n",
       "    <tr>\n",
       "      <th>12</th>\n",
       "      <td>Muscicapa striata_Spotted Flycatcher</td>\n",
       "      <td>256</td>\n",
       "    </tr>\n",
       "    <tr>\n",
       "      <th>13</th>\n",
       "      <td>Vegetation</td>\n",
       "      <td>215</td>\n",
       "    </tr>\n",
       "    <tr>\n",
       "      <th>14</th>\n",
       "      <td>Pecking</td>\n",
       "      <td>180</td>\n",
       "    </tr>\n",
       "    <tr>\n",
       "      <th>15</th>\n",
       "      <td>Turdus merula_Eurasian Blackbird</td>\n",
       "      <td>155</td>\n",
       "    </tr>\n",
       "    <tr>\n",
       "      <th>16</th>\n",
       "      <td>Certhia familiaris_Eurasian Treecreeper</td>\n",
       "      <td>154</td>\n",
       "    </tr>\n",
       "    <tr>\n",
       "      <th>17</th>\n",
       "      <td>Loxia curvirostra_Common Crossbill</td>\n",
       "      <td>148</td>\n",
       "    </tr>\n",
       "    <tr>\n",
       "      <th>18</th>\n",
       "      <td>Lophophanes cristatus_Crested Tit</td>\n",
       "      <td>115</td>\n",
       "    </tr>\n",
       "    <tr>\n",
       "      <th>19</th>\n",
       "      <td>Turdus viscivorus_Mistle Thrush</td>\n",
       "      <td>112</td>\n",
       "    </tr>\n",
       "    <tr>\n",
       "      <th>20</th>\n",
       "      <td>Dryocopus martius_Black Woodpecker</td>\n",
       "      <td>51</td>\n",
       "    </tr>\n",
       "    <tr>\n",
       "      <th>21</th>\n",
       "      <td>Aeroplane</td>\n",
       "      <td>41</td>\n",
       "    </tr>\n",
       "    <tr>\n",
       "      <th>22</th>\n",
       "      <td>Dendrocopos major_Great Spotted Woodpecker</td>\n",
       "      <td>37</td>\n",
       "    </tr>\n",
       "    <tr>\n",
       "      <th>23</th>\n",
       "      <td>Pyrrhula pyrrhula_Eurasian Bullfinch</td>\n",
       "      <td>29</td>\n",
       "    </tr>\n",
       "    <tr>\n",
       "      <th>24</th>\n",
       "      <td>Glaucidium passerinum_Eurasian Pygmy-Owl</td>\n",
       "      <td>29</td>\n",
       "    </tr>\n",
       "    <tr>\n",
       "      <th>25</th>\n",
       "      <td>Insect</td>\n",
       "      <td>13</td>\n",
       "    </tr>\n",
       "    <tr>\n",
       "      <th>26</th>\n",
       "      <td>Phylloscopus trochilus_Willow Warbler</td>\n",
       "      <td>11</td>\n",
       "    </tr>\n",
       "    <tr>\n",
       "      <th>27</th>\n",
       "      <td>Spinus spinus_Eurasian Siskin</td>\n",
       "      <td>9</td>\n",
       "    </tr>\n",
       "    <tr>\n",
       "      <th>28</th>\n",
       "      <td>unknown</td>\n",
       "      <td>8</td>\n",
       "    </tr>\n",
       "    <tr>\n",
       "      <th>29</th>\n",
       "      <td>Poecile palustris_Marsh Tit</td>\n",
       "      <td>3</td>\n",
       "    </tr>\n",
       "    <tr>\n",
       "      <th>30</th>\n",
       "      <td>Bat</td>\n",
       "      <td>3</td>\n",
       "    </tr>\n",
       "    <tr>\n",
       "      <th>31</th>\n",
       "      <td>Prunella modularis_Dunnock</td>\n",
       "      <td>2</td>\n",
       "    </tr>\n",
       "  </tbody>\n",
       "</table>\n",
       "</div>"
      ],
      "text/plain": [
       "                                       Species  Count\n",
       "0                                         None  11291\n",
       "1           Fringilla coelebs_Common Chaffinch   6002\n",
       "2                Turdus philomelos_Song Thrush   4317\n",
       "3         Sylvia atricapilla_Eurasian Blackcap   3027\n",
       "4         Regulus ignicapilla_Common Firecrest   2777\n",
       "5     Phylloscopus collybita_Common Chiffchaff   2014\n",
       "6            Erithacus rubecula_European Robin   1385\n",
       "7        Troglodytes troglodytes_Eurasian Wren   1159\n",
       "8                    Regulus regulus_Goldcrest    550\n",
       "9                                         Rain    477\n",
       "10                                        Wind    463\n",
       "11                     Periparus ater_Coal Tit    317\n",
       "12        Muscicapa striata_Spotted Flycatcher    256\n",
       "13                                  Vegetation    215\n",
       "14                                     Pecking    180\n",
       "15            Turdus merula_Eurasian Blackbird    155\n",
       "16     Certhia familiaris_Eurasian Treecreeper    154\n",
       "17          Loxia curvirostra_Common Crossbill    148\n",
       "18           Lophophanes cristatus_Crested Tit    115\n",
       "19             Turdus viscivorus_Mistle Thrush    112\n",
       "20          Dryocopus martius_Black Woodpecker     51\n",
       "21                                   Aeroplane     41\n",
       "22  Dendrocopos major_Great Spotted Woodpecker     37\n",
       "23        Pyrrhula pyrrhula_Eurasian Bullfinch     29\n",
       "24    Glaucidium passerinum_Eurasian Pygmy-Owl     29\n",
       "25                                      Insect     13\n",
       "26       Phylloscopus trochilus_Willow Warbler     11\n",
       "27               Spinus spinus_Eurasian Siskin      9\n",
       "28                                     unknown      8\n",
       "29                 Poecile palustris_Marsh Tit      3\n",
       "30                                         Bat      3\n",
       "31                  Prunella modularis_Dunnock      2"
      ]
     },
     "execution_count": 5,
     "metadata": {},
     "output_type": "execute_result"
    }
   ],
   "source": [
    "# count segments by species\n",
    "target_path = f\"{DATASET_PATH}/train\"\n",
    "species_count = {species: len(os.listdir(os.path.join(target_path, species))) for species in os.listdir(target_path)}\n",
    "species_count_df = pd.DataFrame(list(species_count.items()), columns=[\"Species\", \"Count\"])\n",
    "species_count_df.sort_values(by=\"Count\", ascending=False).reset_index(drop=True)"
   ]
  },
  {
   "cell_type": "markdown",
   "metadata": {},
   "source": [
    "# WABAD Segments Extraction: A Tailored Approach\n",
    "\n",
    "For the WABAD dataset, a segment extraction strategy similar to the previous one is employed, with key adaptations to address its unique characteristics.\n",
    "\n",
    "Initially, the focus is specifically on the **less represented species**. In this particular analysis, species with **fewer than 750 occurrences** were targeted, while the \"non-species\" class was excluded.\n",
    "\n",
    "Next, the process involves extracting annotations directly from WABAD. This requires referencing a list of specific site datasets to download, located in the `wabad_datasets.txt` file. Once the annotations are gathered, audio segments are created. This follows the **same robust pipeline** used previously: transforming raw category and audio annotations (`category_annots`, `audio_annots`), saving audio details (`audio_info`), and then feeding into the generation of labeled segments (`true_segments`).\n",
    "\n",
    "Finally, given the abundance of unannotated segments (exceeding 10,000 samples of \"None\"), they have been excluded from this analysis."
   ]
  },
  {
   "cell_type": "code",
   "execution_count": 18,
   "metadata": {},
   "outputs": [],
   "source": [
    "# get species from category_info file, filter non-species name\n",
    "species_common_name_list = [species.split(\"_\")[0] for species in list(category_annots.keys()) if len(species.split(\"_\")) > 1]"
   ]
  },
  {
   "cell_type": "code",
   "execution_count": 20,
   "metadata": {},
   "outputs": [
    {
     "data": {
      "text/plain": [
       "['Muscicapa striata',\n",
       " 'Turdus viscivorus',\n",
       " 'Glaucidium passerinum',\n",
       " 'Pyrrhula pyrrhula',\n",
       " 'Periparus ater',\n",
       " 'Prunella modularis',\n",
       " 'Lophophanes cristatus',\n",
       " 'Regulus regulus',\n",
       " 'Turdus merula',\n",
       " 'Certhia familiaris',\n",
       " 'Loxia curvirostra',\n",
       " 'Dendrocopos major',\n",
       " 'Dryocopus martius',\n",
       " 'Phylloscopus trochilus',\n",
       " 'Spinus spinus',\n",
       " 'Poecile palustris']"
      ]
     },
     "execution_count": 20,
     "metadata": {},
     "output_type": "execute_result"
    }
   ],
   "source": [
    "minority_threshold = 750\n",
    "species_to_augment = [species.split(\"_\")[0] for species in species_list if species_count[species] <= minority_threshold if len(species.split(\"_\")) > 1]\n",
    "species_to_augment"
   ]
  },
  {
   "cell_type": "code",
   "execution_count": null,
   "metadata": {},
   "outputs": [],
   "source": [
    "# 1. Locate site dataset list: `wabad_datasets.txt` in the `utils` folder.\n",
    "# 2. Manually download and extract ALL listed datasets.\n",
    "# 3. Place the extracted datasets into the designated `WABAD` folder.\n",
    "\n",
    "# this is an example of the outcome\n",
    "# E:\\Giacomo\\Tovanella\\WABAD\\BAM\\BAM\\Raven Pro annotations\\BAM_20151116_060801.txt\n",
    "WABAD_PATH = \"E:/Giacomo/Tovanella/WABAD\""
   ]
  },
  {
   "cell_type": "code",
   "execution_count": 93,
   "metadata": {},
   "outputs": [],
   "source": [
    "def extract_wabad_info(folder_path):\n",
    "    # folder_path = \".../WABAD/BIAL/BIAL/Raven Pro annotations\"\n",
    "    audio_info_wabad = {}\n",
    "    category_info_wabad = {}\n",
    "    for txt_file in os.listdir(folder_path):\n",
    "        complete_path = os.path.join(folder_path, txt_file)\n",
    "        with open(complete_path, newline='', encoding='utf-8') as csvfile:\n",
    "            reader = csv.DictReader(csvfile, delimiter='\\t') \n",
    "            for row in reader:\n",
    "                if row[\"Species\"] not in species_to_augment or \"End Time (s)\" not in row:\n",
    "                    continue\n",
    "                file_name = txt_file.replace(\".txt\", \".WAV\")\n",
    "                start_time = float(row[\"Begin Time (s)\"])\n",
    "                end_time = float(row[\"End Time (s)\"])\n",
    "                duration = end_time - start_time\n",
    "                common_name = species_dict[row[\"Species\"]]\n",
    "                label = f\"{row['Species']}_{common_name}\"\n",
    "\n",
    "                audio_info_entry = {\n",
    "                    \"scientific_name\": row[\"Species\"],\n",
    "                    \"common_name\": common_name, \n",
    "                    \"start_time\": start_time,\n",
    "                    \"duration\": duration,\n",
    "                    \"label\": label\n",
    "                }\n",
    "                category_info_entry = {\n",
    "                    \"file_name\": file_name,\n",
    "                    \"start_time\": start_time,\n",
    "                    \"duration\": duration,\n",
    "                    \"label\": label\n",
    "                }\n",
    "                \n",
    "                if file_name not in audio_info_wabad:\n",
    "                    audio_info_wabad[file_name] = []\n",
    "                if label not in category_info_wabad:\n",
    "                    category_info_wabad[label] = []\n",
    "                audio_info_wabad[file_name].append(audio_info_entry)\n",
    "                category_info_wabad[label].append(category_info_entry)\n",
    "    return audio_info_wabad, category_info_wabad"
   ]
  },
  {
   "cell_type": "code",
   "execution_count": null,
   "metadata": {},
   "outputs": [],
   "source": [
    "audio_annots_wabad = {}\n",
    "category_annots_wabad = {}\n",
    "\n",
    "for folder in os.listdir(WABAD_PATH):\n",
    "    if not os.path.isdir(os.path.join(WABAD_PATH, folder)):\n",
    "        continue\n",
    "    annotations = os.path.join(WABAD_PATH, folder, folder, \"Raven Pro annotations\")\n",
    "    audio_info_update, category_info_update = extract_wabad_info(annotations)\n",
    "    for audio in audio_info_update.keys():\n",
    "        if audio not in audio_annots_wabad:\n",
    "            audio_annots_wabad[audio] = []\n",
    "        audio_annots_wabad[audio].extend(audio_info_update[audio])\n",
    "    for category in category_info_update.keys():\n",
    "        if category not in category_annots_wabad:\n",
    "            category_annots_wabad[category] = []\n",
    "        category_annots_wabad[category].extend(category_info_update[category])    \n",
    "\n",
    "# with open(\"utils/WABAD/audio_annots_wabad.json\", 'w', encoding='utf-8') as jsonfile:\n",
    "#     json.dump(audio_annots_wabad, jsonfile)\n",
    "\n",
    "# with open(\"utils/WABAD/category_annots_wabad.json\", 'w', encoding='utf-8') as jsonfile:\n",
    "#     json.dump(category_annots_wabad, jsonfile)"
   ]
  },
  {
   "cell_type": "code",
   "execution_count": null,
   "metadata": {},
   "outputs": [
    {
     "data": {
      "application/vnd.microsoft.datawrangler.viewer.v0+json": {
       "columns": [
        {
         "name": "index",
         "rawType": "int64",
         "type": "integer"
        },
        {
         "name": "Species",
         "rawType": "object",
         "type": "string"
        },
        {
         "name": "Count",
         "rawType": "int64",
         "type": "integer"
        },
        {
         "name": "Count WABAD",
         "rawType": "int64",
         "type": "integer"
        }
       ],
       "conversionMethod": "pd.DataFrame",
       "ref": "99c78642-7526-4357-a9d2-33bac75af615",
       "rows": [
        [
         "2",
         "Phylloscopus collybita_Common Chiffchaff",
         "488",
         "819"
        ],
        [
         "8",
         "Regulus regulus_Goldcrest",
         "350",
         "437"
        ],
        [
         "0",
         "Troglodytes troglodytes_Eurasian Wren",
         "249",
         "530"
        ],
        [
         "5",
         "Periparus ater_Coal Tit",
         "199",
         "768"
        ],
        [
         "10",
         "Certhia familiaris_Eurasian Treecreeper",
         "118",
         "96"
        ],
        [
         "1",
         "Muscicapa striata_Spotted Flycatcher",
         "76",
         "117"
        ],
        [
         "9",
         "Turdus merula_Eurasian Blackbird",
         "53",
         "2308"
        ],
        [
         "7",
         "Lophophanes cristatus_Crested Tit",
         "48",
         "132"
        ],
        [
         "12",
         "Dendrocopos major_Great Spotted Woodpecker",
         "42",
         "242"
        ],
        [
         "11",
         "Loxia curvirostra_Common Crossbill",
         "39",
         "25"
        ],
        [
         "13",
         "Dryocopus martius_Black Woodpecker",
         "28",
         "32"
        ],
        [
         "3",
         "Turdus viscivorus_Mistle Thrush",
         "23",
         "229"
        ],
        [
         "4",
         "Pyrrhula pyrrhula_Eurasian Bullfinch",
         "23",
         "8"
        ],
        [
         "15",
         "Spinus spinus_Eurasian Siskin",
         "5",
         "102"
        ],
        [
         "14",
         "Phylloscopus trochilus_Willow Warbler",
         "3",
         "418"
        ],
        [
         "6",
         "Prunella modularis_Dunnock",
         "1",
         "75"
        ],
        [
         "16",
         "Poecile palustris_Marsh Tit",
         "1",
         "12"
        ]
       ],
       "shape": {
        "columns": 3,
        "rows": 17
       }
      },
      "text/html": [
       "<div>\n",
       "<style scoped>\n",
       "    .dataframe tbody tr th:only-of-type {\n",
       "        vertical-align: middle;\n",
       "    }\n",
       "\n",
       "    .dataframe tbody tr th {\n",
       "        vertical-align: top;\n",
       "    }\n",
       "\n",
       "    .dataframe thead th {\n",
       "        text-align: right;\n",
       "    }\n",
       "</style>\n",
       "<table border=\"1\" class=\"dataframe\">\n",
       "  <thead>\n",
       "    <tr style=\"text-align: right;\">\n",
       "      <th></th>\n",
       "      <th>Species</th>\n",
       "      <th>Count</th>\n",
       "      <th>Count WABAD</th>\n",
       "    </tr>\n",
       "  </thead>\n",
       "  <tbody>\n",
       "    <tr>\n",
       "      <th>2</th>\n",
       "      <td>Phylloscopus collybita_Common Chiffchaff</td>\n",
       "      <td>488</td>\n",
       "      <td>819</td>\n",
       "    </tr>\n",
       "    <tr>\n",
       "      <th>8</th>\n",
       "      <td>Regulus regulus_Goldcrest</td>\n",
       "      <td>350</td>\n",
       "      <td>437</td>\n",
       "    </tr>\n",
       "    <tr>\n",
       "      <th>0</th>\n",
       "      <td>Troglodytes troglodytes_Eurasian Wren</td>\n",
       "      <td>249</td>\n",
       "      <td>530</td>\n",
       "    </tr>\n",
       "    <tr>\n",
       "      <th>5</th>\n",
       "      <td>Periparus ater_Coal Tit</td>\n",
       "      <td>199</td>\n",
       "      <td>768</td>\n",
       "    </tr>\n",
       "    <tr>\n",
       "      <th>10</th>\n",
       "      <td>Certhia familiaris_Eurasian Treecreeper</td>\n",
       "      <td>118</td>\n",
       "      <td>96</td>\n",
       "    </tr>\n",
       "    <tr>\n",
       "      <th>1</th>\n",
       "      <td>Muscicapa striata_Spotted Flycatcher</td>\n",
       "      <td>76</td>\n",
       "      <td>117</td>\n",
       "    </tr>\n",
       "    <tr>\n",
       "      <th>9</th>\n",
       "      <td>Turdus merula_Eurasian Blackbird</td>\n",
       "      <td>53</td>\n",
       "      <td>2308</td>\n",
       "    </tr>\n",
       "    <tr>\n",
       "      <th>7</th>\n",
       "      <td>Lophophanes cristatus_Crested Tit</td>\n",
       "      <td>48</td>\n",
       "      <td>132</td>\n",
       "    </tr>\n",
       "    <tr>\n",
       "      <th>12</th>\n",
       "      <td>Dendrocopos major_Great Spotted Woodpecker</td>\n",
       "      <td>42</td>\n",
       "      <td>242</td>\n",
       "    </tr>\n",
       "    <tr>\n",
       "      <th>11</th>\n",
       "      <td>Loxia curvirostra_Common Crossbill</td>\n",
       "      <td>39</td>\n",
       "      <td>25</td>\n",
       "    </tr>\n",
       "    <tr>\n",
       "      <th>13</th>\n",
       "      <td>Dryocopus martius_Black Woodpecker</td>\n",
       "      <td>28</td>\n",
       "      <td>32</td>\n",
       "    </tr>\n",
       "    <tr>\n",
       "      <th>3</th>\n",
       "      <td>Turdus viscivorus_Mistle Thrush</td>\n",
       "      <td>23</td>\n",
       "      <td>229</td>\n",
       "    </tr>\n",
       "    <tr>\n",
       "      <th>4</th>\n",
       "      <td>Pyrrhula pyrrhula_Eurasian Bullfinch</td>\n",
       "      <td>23</td>\n",
       "      <td>8</td>\n",
       "    </tr>\n",
       "    <tr>\n",
       "      <th>15</th>\n",
       "      <td>Spinus spinus_Eurasian Siskin</td>\n",
       "      <td>5</td>\n",
       "      <td>102</td>\n",
       "    </tr>\n",
       "    <tr>\n",
       "      <th>14</th>\n",
       "      <td>Phylloscopus trochilus_Willow Warbler</td>\n",
       "      <td>3</td>\n",
       "      <td>418</td>\n",
       "    </tr>\n",
       "    <tr>\n",
       "      <th>6</th>\n",
       "      <td>Prunella modularis_Dunnock</td>\n",
       "      <td>1</td>\n",
       "      <td>75</td>\n",
       "    </tr>\n",
       "    <tr>\n",
       "      <th>16</th>\n",
       "      <td>Poecile palustris_Marsh Tit</td>\n",
       "      <td>1</td>\n",
       "      <td>12</td>\n",
       "    </tr>\n",
       "  </tbody>\n",
       "</table>\n",
       "</div>"
      ],
      "text/plain": [
       "                                       Species  Count  Count WABAD\n",
       "2     Phylloscopus collybita_Common Chiffchaff    488          819\n",
       "8                    Regulus regulus_Goldcrest    350          437\n",
       "0        Troglodytes troglodytes_Eurasian Wren    249          530\n",
       "5                      Periparus ater_Coal Tit    199          768\n",
       "10     Certhia familiaris_Eurasian Treecreeper    118           96\n",
       "1         Muscicapa striata_Spotted Flycatcher     76          117\n",
       "9             Turdus merula_Eurasian Blackbird     53         2308\n",
       "7            Lophophanes cristatus_Crested Tit     48          132\n",
       "12  Dendrocopos major_Great Spotted Woodpecker     42          242\n",
       "11          Loxia curvirostra_Common Crossbill     39           25\n",
       "13          Dryocopus martius_Black Woodpecker     28           32\n",
       "3              Turdus viscivorus_Mistle Thrush     23          229\n",
       "4         Pyrrhula pyrrhula_Eurasian Bullfinch     23            8\n",
       "15               Spinus spinus_Eurasian Siskin      5          102\n",
       "14       Phylloscopus trochilus_Willow Warbler      3          418\n",
       "6                   Prunella modularis_Dunnock      1           75\n",
       "16                 Poecile palustris_Marsh Tit      1           12"
      ]
     },
     "execution_count": 122,
     "metadata": {},
     "output_type": "execute_result"
    }
   ],
   "source": [
    "# show contribution of WABAD for every species\n",
    "species_count_wabad = {species_name: len(segms) for species_name, segms in category_annots_wabad.items()}\n",
    "species_count_wabad_df = pd.DataFrame(list(species_count_wabad.items()), columns=[\"Species\", \"Count WABAD\"])\n",
    "merged_df = pd.merge(species_count_df, species_count_wabad_df, on=\"Species\", how=\"inner\")\n",
    "merged_df.sort_values(by=[\"Count\"], ascending=False)"
   ]
  },
  {
   "cell_type": "code",
   "execution_count": null,
   "metadata": {},
   "outputs": [],
   "source": [
    "# move all WABAD audio in a unique folder\n",
    "WABAD_PATH = \"E:/Giacomo/Tovanella/WABAD\"\n",
    "WABAD_AUDIO_SOURCE = \"E:/Giacomo/Tovanella/all_wabad_audio\"\n",
    "for folder in os.listdir(WABAD_PATH):\n",
    "    if not os.path.isdir(os.path.join(WABAD_PATH, folder)):\n",
    "        continue\n",
    "    # ...\\BAM\\BAM\\Recordings\n",
    "    folder_path = os.path.join(WABAD_PATH, folder, folder, \"Recordings\")\n",
    "    all_audio = os.listdir(folder_path)\n",
    "    for audio in all_audio:\n",
    "        if audio.upper() in audio_annots_wabad.keys():\n",
    "            os.rename(\n",
    "                os.path.join(folder_path, audio),\n",
    "                os.path.join(WABAD_AUDIO_SOURCE, audio)\n",
    "            )\n",
    "    "
   ]
  },
  {
   "cell_type": "code",
   "execution_count": null,
   "metadata": {},
   "outputs": [],
   "source": [
    "# with open(\"utils/audio_info_wabad.json\") as f:\n",
    "#     audio_info_wabad = json.load(f)\n",
    "\n",
    "audio_info_wabad = generate_audio_info(WABAD_AUDIO_SOURCE, audio_annots_wabad)\n",
    "with open(\"utils/WABAD/audio_info_wabad.json\", \"w\") as f:\n",
    "    json.dump(audio_info_wabad, f)"
   ]
  },
  {
   "cell_type": "code",
   "execution_count": 131,
   "metadata": {},
   "outputs": [],
   "source": [
    "true_segments_wabad = generate_true_segments(audio_annots_wabad, audio_info_wabad)\n",
    "with open(\"utils/WABAD/true_segments_wabad.json\", \"w\") as f:\n",
    "    json.dump(true_segments_wabad, f)"
   ]
  },
  {
   "cell_type": "code",
   "execution_count": null,
   "metadata": {},
   "outputs": [],
   "source": [
    "# here we generate the segments for WABAD in WABAD_SEGMENTS_PATH folder\n",
    "WABAD_SEGMENTS_PATH = \"E:/Giacomo/Tovanella/WABAD_segments\"\n",
    "os.makedirs(WABAD_SEGMENTS_PATH, exist_ok=True)"
   ]
  },
  {
   "cell_type": "code",
   "execution_count": null,
   "metadata": {},
   "outputs": [],
   "source": [
    "# generate_segments(WABAD_AUDIO_SOURCE, WABAD_SEGMENTS_PATH, true_segments_wabad, audio_info_wabad, generate_None=False)"
   ]
  },
  {
   "cell_type": "code",
   "execution_count": 144,
   "metadata": {},
   "outputs": [
    {
     "data": {
      "application/vnd.microsoft.datawrangler.viewer.v0+json": {
       "columns": [
        {
         "name": "index",
         "rawType": "int64",
         "type": "integer"
        },
        {
         "name": "Species",
         "rawType": "object",
         "type": "string"
        },
        {
         "name": "Count",
         "rawType": "int64",
         "type": "integer"
        },
        {
         "name": "Count WABAD FR",
         "rawType": "int64",
         "type": "integer"
        }
       ],
       "conversionMethod": "pd.DataFrame",
       "ref": "23417355-a4f0-48bf-a6ed-0656c5109f08",
       "rows": [
        [
         "2",
         "Phylloscopus collybita_Common Chiffchaff",
         "488",
         "2970"
        ],
        [
         "8",
         "Regulus regulus_Goldcrest",
         "350",
         "1198"
        ],
        [
         "0",
         "Troglodytes troglodytes_Eurasian Wren",
         "249",
         "2503"
        ],
        [
         "5",
         "Periparus ater_Coal Tit",
         "199",
         "3698"
        ],
        [
         "10",
         "Certhia familiaris_Eurasian Treecreeper",
         "118",
         "258"
        ],
        [
         "1",
         "Muscicapa striata_Spotted Flycatcher",
         "76",
         "158"
        ],
        [
         "9",
         "Turdus merula_Eurasian Blackbird",
         "53",
         "8318"
        ],
        [
         "7",
         "Lophophanes cristatus_Crested Tit",
         "48",
         "359"
        ],
        [
         "12",
         "Dendrocopos major_Great Spotted Woodpecker",
         "42",
         "638"
        ],
        [
         "11",
         "Loxia curvirostra_Common Crossbill",
         "39",
         "125"
        ],
        [
         "13",
         "Dryocopus martius_Black Woodpecker",
         "28",
         "112"
        ],
        [
         "3",
         "Turdus viscivorus_Mistle Thrush",
         "23",
         "769"
        ],
        [
         "4",
         "Pyrrhula pyrrhula_Eurasian Bullfinch",
         "23",
         "29"
        ],
        [
         "15",
         "Spinus spinus_Eurasian Siskin",
         "5",
         "632"
        ],
        [
         "14",
         "Phylloscopus trochilus_Willow Warbler",
         "3",
         "1572"
        ],
        [
         "6",
         "Prunella modularis_Dunnock",
         "1",
         "270"
        ],
        [
         "16",
         "Poecile palustris_Marsh Tit",
         "1",
         "31"
        ]
       ],
       "shape": {
        "columns": 3,
        "rows": 17
       }
      },
      "text/html": [
       "<div>\n",
       "<style scoped>\n",
       "    .dataframe tbody tr th:only-of-type {\n",
       "        vertical-align: middle;\n",
       "    }\n",
       "\n",
       "    .dataframe tbody tr th {\n",
       "        vertical-align: top;\n",
       "    }\n",
       "\n",
       "    .dataframe thead th {\n",
       "        text-align: right;\n",
       "    }\n",
       "</style>\n",
       "<table border=\"1\" class=\"dataframe\">\n",
       "  <thead>\n",
       "    <tr style=\"text-align: right;\">\n",
       "      <th></th>\n",
       "      <th>Species</th>\n",
       "      <th>Count</th>\n",
       "      <th>Count WABAD FR</th>\n",
       "    </tr>\n",
       "  </thead>\n",
       "  <tbody>\n",
       "    <tr>\n",
       "      <th>2</th>\n",
       "      <td>Phylloscopus collybita_Common Chiffchaff</td>\n",
       "      <td>488</td>\n",
       "      <td>2970</td>\n",
       "    </tr>\n",
       "    <tr>\n",
       "      <th>8</th>\n",
       "      <td>Regulus regulus_Goldcrest</td>\n",
       "      <td>350</td>\n",
       "      <td>1198</td>\n",
       "    </tr>\n",
       "    <tr>\n",
       "      <th>0</th>\n",
       "      <td>Troglodytes troglodytes_Eurasian Wren</td>\n",
       "      <td>249</td>\n",
       "      <td>2503</td>\n",
       "    </tr>\n",
       "    <tr>\n",
       "      <th>5</th>\n",
       "      <td>Periparus ater_Coal Tit</td>\n",
       "      <td>199</td>\n",
       "      <td>3698</td>\n",
       "    </tr>\n",
       "    <tr>\n",
       "      <th>10</th>\n",
       "      <td>Certhia familiaris_Eurasian Treecreeper</td>\n",
       "      <td>118</td>\n",
       "      <td>258</td>\n",
       "    </tr>\n",
       "    <tr>\n",
       "      <th>1</th>\n",
       "      <td>Muscicapa striata_Spotted Flycatcher</td>\n",
       "      <td>76</td>\n",
       "      <td>158</td>\n",
       "    </tr>\n",
       "    <tr>\n",
       "      <th>9</th>\n",
       "      <td>Turdus merula_Eurasian Blackbird</td>\n",
       "      <td>53</td>\n",
       "      <td>8318</td>\n",
       "    </tr>\n",
       "    <tr>\n",
       "      <th>7</th>\n",
       "      <td>Lophophanes cristatus_Crested Tit</td>\n",
       "      <td>48</td>\n",
       "      <td>359</td>\n",
       "    </tr>\n",
       "    <tr>\n",
       "      <th>12</th>\n",
       "      <td>Dendrocopos major_Great Spotted Woodpecker</td>\n",
       "      <td>42</td>\n",
       "      <td>638</td>\n",
       "    </tr>\n",
       "    <tr>\n",
       "      <th>11</th>\n",
       "      <td>Loxia curvirostra_Common Crossbill</td>\n",
       "      <td>39</td>\n",
       "      <td>125</td>\n",
       "    </tr>\n",
       "    <tr>\n",
       "      <th>13</th>\n",
       "      <td>Dryocopus martius_Black Woodpecker</td>\n",
       "      <td>28</td>\n",
       "      <td>112</td>\n",
       "    </tr>\n",
       "    <tr>\n",
       "      <th>3</th>\n",
       "      <td>Turdus viscivorus_Mistle Thrush</td>\n",
       "      <td>23</td>\n",
       "      <td>769</td>\n",
       "    </tr>\n",
       "    <tr>\n",
       "      <th>4</th>\n",
       "      <td>Pyrrhula pyrrhula_Eurasian Bullfinch</td>\n",
       "      <td>23</td>\n",
       "      <td>29</td>\n",
       "    </tr>\n",
       "    <tr>\n",
       "      <th>15</th>\n",
       "      <td>Spinus spinus_Eurasian Siskin</td>\n",
       "      <td>5</td>\n",
       "      <td>632</td>\n",
       "    </tr>\n",
       "    <tr>\n",
       "      <th>14</th>\n",
       "      <td>Phylloscopus trochilus_Willow Warbler</td>\n",
       "      <td>3</td>\n",
       "      <td>1572</td>\n",
       "    </tr>\n",
       "    <tr>\n",
       "      <th>6</th>\n",
       "      <td>Prunella modularis_Dunnock</td>\n",
       "      <td>1</td>\n",
       "      <td>270</td>\n",
       "    </tr>\n",
       "    <tr>\n",
       "      <th>16</th>\n",
       "      <td>Poecile palustris_Marsh Tit</td>\n",
       "      <td>1</td>\n",
       "      <td>31</td>\n",
       "    </tr>\n",
       "  </tbody>\n",
       "</table>\n",
       "</div>"
      ],
      "text/plain": [
       "                                       Species  Count  Count WABAD FR\n",
       "2     Phylloscopus collybita_Common Chiffchaff    488            2970\n",
       "8                    Regulus regulus_Goldcrest    350            1198\n",
       "0        Troglodytes troglodytes_Eurasian Wren    249            2503\n",
       "5                      Periparus ater_Coal Tit    199            3698\n",
       "10     Certhia familiaris_Eurasian Treecreeper    118             258\n",
       "1         Muscicapa striata_Spotted Flycatcher     76             158\n",
       "9             Turdus merula_Eurasian Blackbird     53            8318\n",
       "7            Lophophanes cristatus_Crested Tit     48             359\n",
       "12  Dendrocopos major_Great Spotted Woodpecker     42             638\n",
       "11          Loxia curvirostra_Common Crossbill     39             125\n",
       "13          Dryocopus martius_Black Woodpecker     28             112\n",
       "3              Turdus viscivorus_Mistle Thrush     23             769\n",
       "4         Pyrrhula pyrrhula_Eurasian Bullfinch     23              29\n",
       "15               Spinus spinus_Eurasian Siskin      5             632\n",
       "14       Phylloscopus trochilus_Willow Warbler      3            1572\n",
       "6                   Prunella modularis_Dunnock      1             270\n",
       "16                 Poecile palustris_Marsh Tit      1              31"
      ]
     },
     "execution_count": 144,
     "metadata": {},
     "output_type": "execute_result"
    }
   ],
   "source": [
    "species_count_wabad_fr = {}\n",
    "for species in os.listdir(WABAD_SEGMENTS_PATH):\n",
    "    species_count_wabad_fr[species] = len(os.listdir(os.path.join(WABAD_SEGMENTS_PATH, species)))\n",
    "\n",
    "species_count_wabad_fr_df = pd.DataFrame(list(species_count_wabad_fr.items()), columns=[\"Species\", \"Count WABAD FR\"])\n",
    "merged_df = pd.merge(species_count_df, species_count_wabad_fr_df, on=\"Species\", how=\"inner\")\n",
    "merged_df.sort_values(by=[\"Count\"], ascending=False)"
   ]
  }
 ],
 "metadata": {
  "kernelspec": {
   "display_name": "Python 3",
   "language": "python",
   "name": "python3"
  },
  "language_info": {
   "codemirror_mode": {
    "name": "ipython",
    "version": 3
   },
   "file_extension": ".py",
   "mimetype": "text/x-python",
   "name": "python",
   "nbconvert_exporter": "python",
   "pygments_lexer": "ipython3",
   "version": "3.10.0"
  }
 },
 "nbformat": 4,
 "nbformat_minor": 2
}
