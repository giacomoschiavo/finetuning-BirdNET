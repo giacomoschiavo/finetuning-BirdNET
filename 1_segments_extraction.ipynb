{
 "cells": [
  {
   "cell_type": "markdown",
   "metadata": {},
   "source": [
    "# Segments Extraction  \n",
    "\n",
    "This notebook extracts annotated audio segments from the official recordings of Tovanella and WABAD using the `Bird_tags_Train.mat` file. Since BirdNET analyzes 3-second clips, all extracted segments follow this duration.  \n",
    "\n",
    "Segments are generated with a 50% overlap, shifting by 1.5 seconds between consecutive clips.  \n",
    "\n",
    "## Extraction Process:\n",
    "1. **`species_dict`**: maps common names to scientific names for all species.  \n",
    "2. **`category_annots.json`** & **`audio_annots.json`**: store segment annotations for each species in every audio file.  \n",
    "3. **`audio_info.json`**: provides total duration and sampling rate for each recording.  \n",
    "4. **`true_segments.json`**: lists the species present in each extracted segment.  \n",
    "\n",
    "Unannotated segments can be included (labeled as `\"None\"`) by enabling `generate_None`, treating them as a non-species class.  \n",
    "\n",
    "For WABAD, a different approach was used due to multiple recording sites—only relevant sites containing the study species were processed.\n"
   ]
  },
  {
   "cell_type": "code",
   "execution_count": 1,
   "metadata": {},
   "outputs": [],
   "source": [
    "import os\n",
    "import json\n",
    "import pandas as pd\n",
    "import csv\n",
    "import utils\n",
    "import scipy.io\n",
    "from birdlib import utils"
   ]
  },
  {
   "cell_type": "code",
   "execution_count": 2,
   "metadata": {},
   "outputs": [],
   "source": [
    "DATASET_NAME = 'PROVA'\n",
    "DATASET_PATH = f'/home/giacomoschiavo/segments/{DATASET_NAME}'\n",
    "AUDIO_SOURCE = '/home/giacomoschiavo/Tovanella'"
   ]
  },
  {
   "cell_type": "code",
   "execution_count": 3,
   "metadata": {},
   "outputs": [],
   "source": [
    "# Configuration variable\n",
    "# DATASET_NAME = 'NEW_DATASET_2'                              # name of the dataset (used to save utils file under its name) \n",
    "# DATASET_PATH = f'E:/Giacomo/Tovanella/{DATASET_NAME}'       # path of the dataset\n",
    "# AUDIO_SOURCE = 'E:/Giacomo/Tovanella/Tovanella'             # folder that contains all the audio files"
   ]
  },
  {
   "cell_type": "markdown",
   "metadata": {},
   "source": [
    "# Species Dict\n",
    "Create a dictionary to map the scientific name -> common name"
   ]
  },
  {
   "cell_type": "code",
   "execution_count": 4,
   "metadata": {},
   "outputs": [],
   "source": [
    "species_dict = utils.get_species_dict(\"utils/BirdNET_GLOBAL_6K_V2.4_Labels_en_uk.txt\")\n",
    "# export species_dict to json\n",
    "# with open('utils/species_dict_map.json', 'w') as f:\n",
    "#     json.dump(species_dict, f)"
   ]
  },
  {
   "cell_type": "markdown",
   "metadata": {},
   "source": [
    "# Category and Audio Annotation Files: A Deep Dive\n",
    "\n",
    "These files hold invaluable annotation data, offering distinct perspectives on our dataset.\n",
    "\n",
    "**`category_annots.json`**: This file provides a species-centric view. For each species identified, it lists *all* corresponding annotations found across *every* audio recording within the Tovanella folder.\n",
    "\n",
    "**`audio_annots.json`**: In contrast, this file takes an audio-centric approach. For each individual audio file in our collection, it details *all* the annotations present within that specific recording."
   ]
  },
  {
   "cell_type": "code",
   "execution_count": 5,
   "metadata": {},
   "outputs": [
    {
     "name": "stdout",
     "output_type": "stream",
     "text": [
      "0 ['Fringilla_coelebs']\n",
      "1 ['20190621_030000.WAV']\n",
      "2 [[ 6.08474576  1.61016949  1.61016949  6.08474576 42.61703208 45.50069122]]\n",
      "3 [[42.61703208  6.08474576]\n",
      " [42.61703208  1.61016949]\n",
      " [45.50069122  1.61016949]\n",
      " [45.50069122  6.08474576]\n",
      " [42.61703208  6.08474576]]\n",
      "4 [[2]]\n"
     ]
    }
   ],
   "source": [
    "# extract annotations from the given file\n",
    "bird_tags = scipy.io.loadmat('Bird_tags_Train.mat')[\"Bird_tags\"] \n",
    "# visualize an example, showing all the properties\n",
    "for i, prop in enumerate(bird_tags[12][0][0][0]):\n",
    "    print(i, prop)"
   ]
  },
  {
   "cell_type": "code",
   "execution_count": 6,
   "metadata": {},
   "outputs": [],
   "source": [
    "category_annots, audio_annots = utils.get_audio_category_annots(\"Bird_tags_Train.mat\", AUDIO_SOURCE, species_dict)\n",
    "\n",
    "# with open(\"utils/category_annots.json\", \"w\") as f:\n",
    "#     json.dump(category_annots, f)\n",
    "# with open(\"utils/audio_annots.json\", \"w\") as f:\n",
    "#     json.dump(audio_annots, f)"
   ]
  },
  {
   "cell_type": "code",
   "execution_count": 7,
   "metadata": {},
   "outputs": [],
   "source": [
    "category_annots_test, audio_annots_test = utils.get_audio_category_annots(\"Bird_tags_Test.mat\", AUDIO_SOURCE, species_dict)\n",
    "\n",
    "# with open(\"utils/category_annots_test.json\", \"w\") as f:\n",
    "#     json.dump(category_annots_test, f)\n",
    "# with open(\"utils/audio_annots_test.json\", \"w\") as f:\n",
    "#     json.dump(audio_annots_test, f)"
   ]
  },
  {
   "cell_type": "code",
   "execution_count": 8,
   "metadata": {},
   "outputs": [],
   "source": [
    "# creates species list\n",
    "species_list = list(category_annots.keys())"
   ]
  },
  {
   "cell_type": "markdown",
   "metadata": {},
   "source": [
    "# Segments Creation\n",
    "Creates all the segments listed in Category Info"
   ]
  },
  {
   "cell_type": "code",
   "execution_count": 11,
   "metadata": {},
   "outputs": [],
   "source": [
    "def load_or_generate_info(filename, annots, audio_source, save_path):\n",
    "    full_path = os.path.join(save_path, filename)\n",
    "    if os.path.exists(full_path):\n",
    "        with open(full_path) as f:\n",
    "            return json.load(f)\n",
    "    info = utils.generate_audio_info(audio_source, annots)\n",
    "    with open(full_path, 'w') as f:\n",
    "        json.dump(info, f)\n",
    "    return info\n",
    "\n",
    "audio_info = load_or_generate_info('audio_info.json', audio_annots, AUDIO_SOURCE, 'utils')\n",
    "audio_info_test = load_or_generate_info('audio_info_test.json', audio_annots, AUDIO_SOURCE, 'utils')"
   ]
  },
  {
   "cell_type": "code",
   "execution_count": 13,
   "metadata": {},
   "outputs": [],
   "source": [
    "true_segments_train = utils.generate_true_segments(audio_annots, audio_info)\n",
    "true_segments_test = utils.generate_true_segments(audio_annots_test, audio_info_test)"
   ]
  },
  {
   "cell_type": "code",
   "execution_count": 15,
   "metadata": {},
   "outputs": [],
   "source": [
    "import copy\n",
    "true_segments = copy.deepcopy(true_segments_train)\n",
    "true_segments.update(true_segments_test)"
   ]
  },
  {
   "cell_type": "code",
   "execution_count": null,
   "metadata": {},
   "outputs": [],
   "source": [
    "# SAVE\n",
    "os.makedirs(f'utils/{DATASET_NAME}', exist_ok=True)\n",
    "# with open(f'utils/{DATASET_NAME}/true_segments_train.json', 'w') as f:\n",
    "#     json.dump(true_segments_train, f)\n",
    "# with open(f'utils/{DATASET_NAME}/true_segments_test.json', 'w') as f:\n",
    "#     json.dump(true_segments_test, f)\n",
    "\n",
    "# with open(f'utils/{DATASET_NAME}/true_segments.json', 'w') as f:\n",
    "#     json.dump(true_segments, f)\n",
    "\n"
   ]
  },
  {
   "cell_type": "code",
   "execution_count": null,
   "metadata": {},
   "outputs": [
    {
     "name": "stderr",
     "output_type": "stream",
     "text": [
      "Processing segments...:   0%|\u001b[31m          \u001b[0m| 0/399 [00:00<?, ?it/s]"
     ]
    },
    {
     "name": "stdout",
     "output_type": "stream",
     "text": [
      "Elaborating audio 20190621_010000.WAV...\n"
     ]
    },
    {
     "name": "stderr",
     "output_type": "stream",
     "text": [
      "Processing segments...: 100%|\u001b[31m██████████\u001b[0m| 399/399 [00:00<00:00, 1024.73it/s]\n",
      "Processing segments...:   0%|\u001b[31m          \u001b[0m| 0/399 [00:00<?, ?it/s]"
     ]
    },
    {
     "name": "stdout",
     "output_type": "stream",
     "text": [
      "Elaborating audio 20190621_020000.WAV...\n"
     ]
    },
    {
     "name": "stderr",
     "output_type": "stream",
     "text": [
      "Processing segments...: 100%|\u001b[31m██████████\u001b[0m| 399/399 [00:00<00:00, 1178.26it/s]\n",
      "Processing segments...:   0%|\u001b[31m          \u001b[0m| 0/399 [00:00<?, ?it/s]"
     ]
    },
    {
     "name": "stdout",
     "output_type": "stream",
     "text": [
      "Elaborating audio 20190621_030000.WAV...\n"
     ]
    },
    {
     "name": "stderr",
     "output_type": "stream",
     "text": [
      "Processing segments...: 100%|\u001b[31m██████████\u001b[0m| 399/399 [00:00<00:00, 1049.26it/s]\n",
      "Processing segments...:   0%|\u001b[31m          \u001b[0m| 0/399 [00:00<?, ?it/s]"
     ]
    },
    {
     "name": "stdout",
     "output_type": "stream",
     "text": [
      "Elaborating audio 20190621_040000.WAV...\n"
     ]
    },
    {
     "name": "stderr",
     "output_type": "stream",
     "text": [
      "Processing segments...: 100%|\u001b[31m██████████\u001b[0m| 399/399 [00:00<00:00, 874.61it/s] \n",
      "Processing segments...:   0%|\u001b[31m          \u001b[0m| 0/399 [00:00<?, ?it/s]"
     ]
    },
    {
     "name": "stdout",
     "output_type": "stream",
     "text": [
      "Elaborating audio 20190621_050000.WAV...\n"
     ]
    },
    {
     "name": "stderr",
     "output_type": "stream",
     "text": [
      "Processing segments...: 100%|\u001b[31m██████████\u001b[0m| 399/399 [00:00<00:00, 933.77it/s] \n",
      "Processing segments...:   0%|\u001b[31m          \u001b[0m| 0/399 [00:00<?, ?it/s]"
     ]
    },
    {
     "name": "stdout",
     "output_type": "stream",
     "text": [
      "Elaborating audio 20190621_060000.WAV...\n"
     ]
    },
    {
     "name": "stderr",
     "output_type": "stream",
     "text": [
      "Processing segments...: 100%|\u001b[31m██████████\u001b[0m| 399/399 [00:00<00:00, 922.82it/s] \n",
      "Processing segments...:   0%|\u001b[31m          \u001b[0m| 0/399 [00:00<?, ?it/s]"
     ]
    },
    {
     "name": "stdout",
     "output_type": "stream",
     "text": [
      "Elaborating audio 20190621_070000.WAV...\n"
     ]
    },
    {
     "name": "stderr",
     "output_type": "stream",
     "text": [
      "Processing segments...: 100%|\u001b[31m██████████\u001b[0m| 399/399 [00:00<00:00, 901.80it/s] \n",
      "Processing segments...:   0%|\u001b[31m          \u001b[0m| 0/399 [00:00<?, ?it/s]"
     ]
    },
    {
     "name": "stdout",
     "output_type": "stream",
     "text": [
      "Elaborating audio 20190621_080000.WAV...\n"
     ]
    },
    {
     "name": "stderr",
     "output_type": "stream",
     "text": [
      "Processing segments...: 100%|\u001b[31m██████████\u001b[0m| 399/399 [00:00<00:00, 1022.99it/s]\n",
      "Processing segments...:   0%|\u001b[31m          \u001b[0m| 0/399 [00:00<?, ?it/s]"
     ]
    },
    {
     "name": "stdout",
     "output_type": "stream",
     "text": [
      "Elaborating audio 20190621_090000.WAV...\n"
     ]
    },
    {
     "name": "stderr",
     "output_type": "stream",
     "text": [
      "Processing segments...: 100%|\u001b[31m██████████\u001b[0m| 399/399 [00:00<00:00, 1110.11it/s]\n",
      "Processing segments...:   0%|\u001b[31m          \u001b[0m| 0/399 [00:00<?, ?it/s]"
     ]
    },
    {
     "name": "stdout",
     "output_type": "stream",
     "text": [
      "Elaborating audio 20190621_100000.WAV...\n"
     ]
    },
    {
     "name": "stderr",
     "output_type": "stream",
     "text": [
      "Processing segments...: 100%|\u001b[31m██████████\u001b[0m| 399/399 [00:00<00:00, 983.17it/s] \n",
      "Processing segments...:   0%|\u001b[31m          \u001b[0m| 0/399 [00:00<?, ?it/s]"
     ]
    },
    {
     "name": "stdout",
     "output_type": "stream",
     "text": [
      "Elaborating audio 20190621_110000.WAV...\n"
     ]
    },
    {
     "name": "stderr",
     "output_type": "stream",
     "text": [
      "Processing segments...: 100%|\u001b[31m██████████\u001b[0m| 399/399 [00:00<00:00, 1163.86it/s]\n",
      "Processing segments...:   0%|\u001b[31m          \u001b[0m| 0/399 [00:00<?, ?it/s]"
     ]
    },
    {
     "name": "stdout",
     "output_type": "stream",
     "text": [
      "Elaborating audio 20190621_120000.WAV...\n"
     ]
    },
    {
     "name": "stderr",
     "output_type": "stream",
     "text": [
      "Processing segments...: 100%|\u001b[31m██████████\u001b[0m| 399/399 [00:00<00:00, 1096.60it/s]\n",
      "Processing segments...:   0%|\u001b[31m          \u001b[0m| 0/399 [00:00<?, ?it/s]"
     ]
    },
    {
     "name": "stdout",
     "output_type": "stream",
     "text": [
      "Elaborating audio 20190621_130000.WAV...\n"
     ]
    },
    {
     "name": "stderr",
     "output_type": "stream",
     "text": [
      "Processing segments...: 100%|\u001b[31m██████████\u001b[0m| 399/399 [00:00<00:00, 977.60it/s]\n",
      "Processing segments...:   0%|\u001b[31m          \u001b[0m| 0/399 [00:00<?, ?it/s]"
     ]
    },
    {
     "name": "stdout",
     "output_type": "stream",
     "text": [
      "Elaborating audio 20190621_140000.WAV...\n"
     ]
    },
    {
     "name": "stderr",
     "output_type": "stream",
     "text": [
      "Processing segments...: 100%|\u001b[31m██████████\u001b[0m| 399/399 [00:00<00:00, 1202.40it/s]\n",
      "Processing segments...:   0%|\u001b[31m          \u001b[0m| 0/399 [00:00<?, ?it/s]"
     ]
    },
    {
     "name": "stdout",
     "output_type": "stream",
     "text": [
      "Elaborating audio 20190621_150000.WAV...\n"
     ]
    },
    {
     "name": "stderr",
     "output_type": "stream",
     "text": [
      "Processing segments...: 100%|\u001b[31m██████████\u001b[0m| 399/399 [00:00<00:00, 1176.67it/s]\n",
      "Processing segments...:   0%|\u001b[31m          \u001b[0m| 0/399 [00:00<?, ?it/s]"
     ]
    },
    {
     "name": "stdout",
     "output_type": "stream",
     "text": [
      "Elaborating audio 20190621_160000.WAV...\n"
     ]
    },
    {
     "name": "stderr",
     "output_type": "stream",
     "text": [
      "Processing segments...: 100%|\u001b[31m██████████\u001b[0m| 399/399 [00:00<00:00, 1225.19it/s]\n",
      "Processing segments...:   0%|\u001b[31m          \u001b[0m| 0/399 [00:00<?, ?it/s]"
     ]
    },
    {
     "name": "stdout",
     "output_type": "stream",
     "text": [
      "Elaborating audio 20190621_170000.WAV...\n"
     ]
    },
    {
     "name": "stderr",
     "output_type": "stream",
     "text": [
      "Processing segments...: 100%|\u001b[31m██████████\u001b[0m| 399/399 [00:00<00:00, 1032.05it/s]\n",
      "Processing segments...:   0%|\u001b[31m          \u001b[0m| 0/399 [00:00<?, ?it/s]"
     ]
    },
    {
     "name": "stdout",
     "output_type": "stream",
     "text": [
      "Elaborating audio 20190621_180000.WAV...\n"
     ]
    },
    {
     "name": "stderr",
     "output_type": "stream",
     "text": [
      "Processing segments...: 100%|\u001b[31m██████████\u001b[0m| 399/399 [00:00<00:00, 1104.37it/s]\n",
      "Processing segments...:   0%|\u001b[31m          \u001b[0m| 0/399 [00:00<?, ?it/s]"
     ]
    },
    {
     "name": "stdout",
     "output_type": "stream",
     "text": [
      "Elaborating audio 20190621_190000.WAV...\n"
     ]
    },
    {
     "name": "stderr",
     "output_type": "stream",
     "text": [
      "Processing segments...: 100%|\u001b[31m██████████\u001b[0m| 399/399 [00:00<00:00, 1158.73it/s]\n",
      "Processing segments...:   0%|\u001b[31m          \u001b[0m| 0/399 [00:00<?, ?it/s]"
     ]
    },
    {
     "name": "stdout",
     "output_type": "stream",
     "text": [
      "Elaborating audio 20190621_210000.WAV...\n"
     ]
    },
    {
     "name": "stderr",
     "output_type": "stream",
     "text": [
      "Processing segments...: 100%|\u001b[31m██████████\u001b[0m| 399/399 [00:00<00:00, 1235.29it/s]\n",
      "Processing segments...:   0%|\u001b[31m          \u001b[0m| 0/399 [00:00<?, ?it/s]"
     ]
    },
    {
     "name": "stdout",
     "output_type": "stream",
     "text": [
      "Elaborating audio 20200215_060000.WAV...\n"
     ]
    },
    {
     "name": "stderr",
     "output_type": "stream",
     "text": [
      "Processing segments...: 100%|\u001b[31m██████████\u001b[0m| 399/399 [00:00<00:00, 1187.08it/s]\n",
      "Processing segments...:   0%|\u001b[31m          \u001b[0m| 0/399 [00:00<?, ?it/s]"
     ]
    },
    {
     "name": "stdout",
     "output_type": "stream",
     "text": [
      "Elaborating audio 20200215_070000.WAV...\n"
     ]
    },
    {
     "name": "stderr",
     "output_type": "stream",
     "text": [
      "Processing segments...: 100%|\u001b[31m██████████\u001b[0m| 399/399 [00:00<00:00, 1200.27it/s]\n",
      "Processing segments...:   0%|\u001b[31m          \u001b[0m| 0/399 [00:00<?, ?it/s]"
     ]
    },
    {
     "name": "stdout",
     "output_type": "stream",
     "text": [
      "Elaborating audio 20200215_080000.WAV...\n"
     ]
    },
    {
     "name": "stderr",
     "output_type": "stream",
     "text": [
      "Processing segments...: 100%|\u001b[31m██████████\u001b[0m| 399/399 [00:00<00:00, 1172.05it/s]\n",
      "Processing segments...:   0%|\u001b[31m          \u001b[0m| 0/399 [00:00<?, ?it/s]"
     ]
    },
    {
     "name": "stdout",
     "output_type": "stream",
     "text": [
      "Elaborating audio 20200215_090000.WAV...\n"
     ]
    },
    {
     "name": "stderr",
     "output_type": "stream",
     "text": [
      "Processing segments...: 100%|\u001b[31m██████████\u001b[0m| 399/399 [00:00<00:00, 1237.52it/s]\n",
      "Processing segments...:   0%|\u001b[31m          \u001b[0m| 0/399 [00:00<?, ?it/s]"
     ]
    },
    {
     "name": "stdout",
     "output_type": "stream",
     "text": [
      "Elaborating audio 20200215_100000.WAV...\n"
     ]
    },
    {
     "name": "stderr",
     "output_type": "stream",
     "text": [
      "Processing segments...: 100%|\u001b[31m██████████\u001b[0m| 399/399 [00:00<00:00, 1028.94it/s]\n",
      "Processing segments...:   0%|\u001b[31m          \u001b[0m| 0/399 [00:00<?, ?it/s]"
     ]
    },
    {
     "name": "stdout",
     "output_type": "stream",
     "text": [
      "Elaborating audio 20200215_110000.WAV...\n"
     ]
    },
    {
     "name": "stderr",
     "output_type": "stream",
     "text": [
      "Processing segments...: 100%|\u001b[31m██████████\u001b[0m| 399/399 [00:00<00:00, 1229.35it/s]\n",
      "Processing segments...:   0%|\u001b[31m          \u001b[0m| 0/399 [00:00<?, ?it/s]"
     ]
    },
    {
     "name": "stdout",
     "output_type": "stream",
     "text": [
      "Elaborating audio 20200215_120000.WAV...\n"
     ]
    },
    {
     "name": "stderr",
     "output_type": "stream",
     "text": [
      "Processing segments...: 100%|\u001b[31m██████████\u001b[0m| 399/399 [00:00<00:00, 1042.52it/s]\n",
      "Processing segments...:   0%|\u001b[31m          \u001b[0m| 0/399 [00:00<?, ?it/s]"
     ]
    },
    {
     "name": "stdout",
     "output_type": "stream",
     "text": [
      "Elaborating audio 20190608_030000.WAV...\n"
     ]
    },
    {
     "name": "stderr",
     "output_type": "stream",
     "text": [
      "Processing segments...: 100%|\u001b[31m██████████\u001b[0m| 399/399 [00:00<00:00, 941.00it/s] \n",
      "Processing segments...:   0%|\u001b[31m          \u001b[0m| 0/399 [00:00<?, ?it/s]"
     ]
    },
    {
     "name": "stdout",
     "output_type": "stream",
     "text": [
      "Elaborating audio 20190608_040000.WAV...\n"
     ]
    },
    {
     "name": "stderr",
     "output_type": "stream",
     "text": [
      "Processing segments...: 100%|\u001b[31m██████████\u001b[0m| 399/399 [00:00<00:00, 1056.17it/s]\n",
      "Processing segments...:   0%|\u001b[31m          \u001b[0m| 0/399 [00:00<?, ?it/s]"
     ]
    },
    {
     "name": "stdout",
     "output_type": "stream",
     "text": [
      "Elaborating audio 20200217_000000.WAV...\n"
     ]
    },
    {
     "name": "stderr",
     "output_type": "stream",
     "text": [
      "Processing segments...: 100%|\u001b[31m██████████\u001b[0m| 399/399 [00:00<00:00, 1138.20it/s]\n",
      "Processing segments...:   0%|\u001b[31m          \u001b[0m| 0/399 [00:00<?, ?it/s]"
     ]
    },
    {
     "name": "stdout",
     "output_type": "stream",
     "text": [
      "Elaborating audio 20200217_060000.WAV...\n"
     ]
    },
    {
     "name": "stderr",
     "output_type": "stream",
     "text": [
      "Processing segments...: 100%|\u001b[31m██████████\u001b[0m| 399/399 [00:00<00:00, 1202.23it/s]\n",
      "Processing segments...:   0%|\u001b[31m          \u001b[0m| 0/399 [00:00<?, ?it/s]"
     ]
    },
    {
     "name": "stdout",
     "output_type": "stream",
     "text": [
      "Elaborating audio 20200217_070000.WAV...\n"
     ]
    },
    {
     "name": "stderr",
     "output_type": "stream",
     "text": [
      "Processing segments...: 100%|\u001b[31m██████████\u001b[0m| 399/399 [00:00<00:00, 1228.92it/s]\n",
      "Processing segments...:   0%|\u001b[31m          \u001b[0m| 0/399 [00:00<?, ?it/s]"
     ]
    },
    {
     "name": "stdout",
     "output_type": "stream",
     "text": [
      "Elaborating audio 20200217_090000.WAV...\n"
     ]
    },
    {
     "name": "stderr",
     "output_type": "stream",
     "text": [
      "Processing segments...: 100%|\u001b[31m██████████\u001b[0m| 399/399 [00:00<00:00, 1131.00it/s]\n",
      "Processing segments...:   0%|\u001b[31m          \u001b[0m| 0/399 [00:00<?, ?it/s]"
     ]
    },
    {
     "name": "stdout",
     "output_type": "stream",
     "text": [
      "Elaborating audio 20200217_110000.WAV...\n"
     ]
    },
    {
     "name": "stderr",
     "output_type": "stream",
     "text": [
      "Processing segments...: 100%|\u001b[31m██████████\u001b[0m| 399/399 [00:00<00:00, 1186.99it/s]\n",
      "Processing segments...:   0%|\u001b[31m          \u001b[0m| 0/399 [00:00<?, ?it/s]"
     ]
    },
    {
     "name": "stdout",
     "output_type": "stream",
     "text": [
      "Elaborating audio 20200217_120000.WAV...\n"
     ]
    },
    {
     "name": "stderr",
     "output_type": "stream",
     "text": [
      "Processing segments...: 100%|\u001b[31m██████████\u001b[0m| 399/399 [00:00<00:00, 1242.00it/s]\n",
      "Processing segments...:   0%|\u001b[31m          \u001b[0m| 0/399 [00:00<?, ?it/s]"
     ]
    },
    {
     "name": "stdout",
     "output_type": "stream",
     "text": [
      "Elaborating audio 20200217_140000.WAV...\n"
     ]
    },
    {
     "name": "stderr",
     "output_type": "stream",
     "text": [
      "Processing segments...: 100%|\u001b[31m██████████\u001b[0m| 399/399 [00:00<00:00, 1230.13it/s]\n",
      "Processing segments...:   0%|\u001b[31m          \u001b[0m| 0/399 [00:00<?, ?it/s]"
     ]
    },
    {
     "name": "stdout",
     "output_type": "stream",
     "text": [
      "Elaborating audio 20200217_160000.WAV...\n"
     ]
    },
    {
     "name": "stderr",
     "output_type": "stream",
     "text": [
      "Processing segments...: 100%|\u001b[31m██████████\u001b[0m| 399/399 [00:00<00:00, 1192.44it/s]\n",
      "Processing segments...:   0%|\u001b[31m          \u001b[0m| 0/399 [00:00<?, ?it/s]"
     ]
    },
    {
     "name": "stdout",
     "output_type": "stream",
     "text": [
      "Elaborating audio 20190608_050000.WAV...\n"
     ]
    },
    {
     "name": "stderr",
     "output_type": "stream",
     "text": [
      "Processing segments...: 100%|\u001b[31m██████████\u001b[0m| 399/399 [00:00<00:00, 972.79it/s]\n",
      "Processing segments...:   0%|\u001b[31m          \u001b[0m| 0/399 [00:00<?, ?it/s]"
     ]
    },
    {
     "name": "stdout",
     "output_type": "stream",
     "text": [
      "Elaborating audio 20190608_060000.WAV...\n"
     ]
    },
    {
     "name": "stderr",
     "output_type": "stream",
     "text": [
      "Processing segments...: 100%|\u001b[31m██████████\u001b[0m| 399/399 [00:00<00:00, 1147.89it/s]\n",
      "Processing segments...:   0%|\u001b[31m          \u001b[0m| 1/399 [00:00<01:19,  4.99it/s]"
     ]
    },
    {
     "name": "stdout",
     "output_type": "stream",
     "text": [
      "Elaborating audio 20190608_070000.WAV...\n"
     ]
    },
    {
     "name": "stderr",
     "output_type": "stream",
     "text": [
      "Processing segments...: 100%|\u001b[31m██████████\u001b[0m| 399/399 [00:00<00:00, 1174.75it/s]\n",
      "Processing segments...:   0%|\u001b[31m          \u001b[0m| 0/399 [00:00<?, ?it/s]"
     ]
    },
    {
     "name": "stdout",
     "output_type": "stream",
     "text": [
      "Elaborating audio 20190608_080000.WAV...\n"
     ]
    },
    {
     "name": "stderr",
     "output_type": "stream",
     "text": [
      "Processing segments...: 100%|\u001b[31m██████████\u001b[0m| 399/399 [00:00<00:00, 1214.38it/s]\n",
      "Processing segments...:   0%|\u001b[31m          \u001b[0m| 0/399 [00:00<?, ?it/s]"
     ]
    },
    {
     "name": "stdout",
     "output_type": "stream",
     "text": [
      "Elaborating audio 20190608_090000.WAV...\n"
     ]
    },
    {
     "name": "stderr",
     "output_type": "stream",
     "text": [
      "Processing segments...: 100%|\u001b[31m██████████\u001b[0m| 399/399 [00:00<00:00, 1142.44it/s]\n",
      "Processing segments...:   0%|\u001b[31m          \u001b[0m| 0/399 [00:00<?, ?it/s]"
     ]
    },
    {
     "name": "stdout",
     "output_type": "stream",
     "text": [
      "Elaborating audio 20190608_100000.WAV...\n"
     ]
    },
    {
     "name": "stderr",
     "output_type": "stream",
     "text": [
      "Processing segments...: 100%|\u001b[31m██████████\u001b[0m| 399/399 [00:00<00:00, 741.56it/s] \n",
      "Processing segments...:   0%|\u001b[31m          \u001b[0m| 0/399 [00:00<?, ?it/s]"
     ]
    },
    {
     "name": "stdout",
     "output_type": "stream",
     "text": [
      "Elaborating audio 20190608_110000.WAV...\n"
     ]
    },
    {
     "name": "stderr",
     "output_type": "stream",
     "text": [
      "Processing segments...: 100%|\u001b[31m██████████\u001b[0m| 399/399 [00:00<00:00, 1152.39it/s]\n",
      "Processing segments...:   0%|\u001b[31m          \u001b[0m| 0/399 [00:00<?, ?it/s]"
     ]
    },
    {
     "name": "stdout",
     "output_type": "stream",
     "text": [
      "Elaborating audio 20190608_120000.WAV...\n"
     ]
    },
    {
     "name": "stderr",
     "output_type": "stream",
     "text": [
      "Processing segments...: 100%|\u001b[31m██████████\u001b[0m| 399/399 [00:00<00:00, 1169.95it/s]\n",
      "Processing segments...:   0%|\u001b[31m          \u001b[0m| 0/399 [00:00<?, ?it/s]"
     ]
    },
    {
     "name": "stdout",
     "output_type": "stream",
     "text": [
      "Elaborating audio 20190608_130000.WAV...\n"
     ]
    },
    {
     "name": "stderr",
     "output_type": "stream",
     "text": [
      "Processing segments...: 100%|\u001b[31m██████████\u001b[0m| 399/399 [00:00<00:00, 1048.84it/s]\n",
      "Processing segments...:   0%|\u001b[31m          \u001b[0m| 0/399 [00:00<?, ?it/s]"
     ]
    },
    {
     "name": "stdout",
     "output_type": "stream",
     "text": [
      "Elaborating audio 20190608_140000.WAV...\n"
     ]
    },
    {
     "name": "stderr",
     "output_type": "stream",
     "text": [
      "Processing segments...: 100%|\u001b[31m██████████\u001b[0m| 399/399 [00:00<00:00, 1083.48it/s]\n",
      "Processing segments...:   0%|\u001b[31m          \u001b[0m| 0/399 [00:00<?, ?it/s]"
     ]
    },
    {
     "name": "stdout",
     "output_type": "stream",
     "text": [
      "Elaborating audio 20190608_150000.WAV...\n"
     ]
    },
    {
     "name": "stderr",
     "output_type": "stream",
     "text": [
      "Processing segments...: 100%|\u001b[31m██████████\u001b[0m| 399/399 [00:00<00:00, 1129.33it/s]\n",
      "Processing segments...:   0%|\u001b[31m          \u001b[0m| 0/399 [00:00<?, ?it/s]"
     ]
    },
    {
     "name": "stdout",
     "output_type": "stream",
     "text": [
      "Elaborating audio 20190608_160000.WAV...\n"
     ]
    },
    {
     "name": "stderr",
     "output_type": "stream",
     "text": [
      "Processing segments...: 100%|\u001b[31m██████████\u001b[0m| 399/399 [00:00<00:00, 1197.16it/s]\n",
      "Processing segments...:   0%|\u001b[31m          \u001b[0m| 0/399 [00:00<?, ?it/s]"
     ]
    },
    {
     "name": "stdout",
     "output_type": "stream",
     "text": [
      "Elaborating audio 20190608_170000.WAV...\n"
     ]
    },
    {
     "name": "stderr",
     "output_type": "stream",
     "text": [
      "Processing segments...: 100%|\u001b[31m██████████\u001b[0m| 399/399 [00:00<00:00, 1153.74it/s]\n",
      "Processing segments...:   0%|\u001b[31m          \u001b[0m| 0/399 [00:00<?, ?it/s]"
     ]
    },
    {
     "name": "stdout",
     "output_type": "stream",
     "text": [
      "Elaborating audio 20190608_180000.WAV...\n"
     ]
    },
    {
     "name": "stderr",
     "output_type": "stream",
     "text": [
      "Processing segments...: 100%|\u001b[31m██████████\u001b[0m| 399/399 [00:00<00:00, 1187.13it/s]\n",
      "Processing segments...:   0%|\u001b[31m          \u001b[0m| 0/399 [00:00<?, ?it/s]"
     ]
    },
    {
     "name": "stdout",
     "output_type": "stream",
     "text": [
      "Elaborating audio 20190608_190000.WAV...\n"
     ]
    },
    {
     "name": "stderr",
     "output_type": "stream",
     "text": [
      "Processing segments...: 100%|\u001b[31m██████████\u001b[0m| 399/399 [00:00<00:00, 1230.48it/s]\n",
      "Processing segments...:   0%|\u001b[31m          \u001b[0m| 0/399 [00:00<?, ?it/s]"
     ]
    },
    {
     "name": "stdout",
     "output_type": "stream",
     "text": [
      "Elaborating audio 20190603_030000.WAV...\n"
     ]
    },
    {
     "name": "stderr",
     "output_type": "stream",
     "text": [
      "Processing segments...: 100%|\u001b[31m██████████\u001b[0m| 399/399 [00:00<00:00, 672.84it/s]\n",
      "Processing segments...:   0%|\u001b[31m          \u001b[0m| 0/399 [00:00<?, ?it/s]"
     ]
    },
    {
     "name": "stdout",
     "output_type": "stream",
     "text": [
      "Elaborating audio 20190603_040000.WAV...\n"
     ]
    },
    {
     "name": "stderr",
     "output_type": "stream",
     "text": [
      "Processing segments...: 100%|\u001b[31m██████████\u001b[0m| 399/399 [00:00<00:00, 786.00it/s]\n",
      "Processing segments...:   0%|\u001b[31m          \u001b[0m| 0/399 [00:00<?, ?it/s]"
     ]
    },
    {
     "name": "stdout",
     "output_type": "stream",
     "text": [
      "Elaborating audio 20190603_050000.WAV...\n"
     ]
    },
    {
     "name": "stderr",
     "output_type": "stream",
     "text": [
      "Processing segments...: 100%|\u001b[31m██████████\u001b[0m| 399/399 [00:00<00:00, 801.62it/s]\n",
      "Processing segments...:   0%|\u001b[31m          \u001b[0m| 0/399 [00:00<?, ?it/s]"
     ]
    },
    {
     "name": "stdout",
     "output_type": "stream",
     "text": [
      "Elaborating audio 20190603_060000.WAV...\n"
     ]
    },
    {
     "name": "stderr",
     "output_type": "stream",
     "text": [
      "Processing segments...: 100%|\u001b[31m██████████\u001b[0m| 399/399 [00:00<00:00, 593.14it/s]\n",
      "Processing segments...:   0%|\u001b[31m          \u001b[0m| 0/399 [00:00<?, ?it/s]"
     ]
    },
    {
     "name": "stdout",
     "output_type": "stream",
     "text": [
      "Elaborating audio 20190603_070000.WAV...\n"
     ]
    },
    {
     "name": "stderr",
     "output_type": "stream",
     "text": [
      "Processing segments...: 100%|\u001b[31m██████████\u001b[0m| 399/399 [00:00<00:00, 727.91it/s]\n",
      "Processing segments...:   0%|\u001b[31m          \u001b[0m| 0/399 [00:00<?, ?it/s]"
     ]
    },
    {
     "name": "stdout",
     "output_type": "stream",
     "text": [
      "Elaborating audio 20190603_080000.WAV...\n"
     ]
    },
    {
     "name": "stderr",
     "output_type": "stream",
     "text": [
      "Processing segments...: 100%|\u001b[31m██████████\u001b[0m| 399/399 [00:00<00:00, 650.67it/s]\n",
      "Processing segments...:   0%|\u001b[31m          \u001b[0m| 0/399 [00:00<?, ?it/s]"
     ]
    },
    {
     "name": "stdout",
     "output_type": "stream",
     "text": [
      "Elaborating audio 20190603_090000.WAV...\n"
     ]
    },
    {
     "name": "stderr",
     "output_type": "stream",
     "text": [
      "Processing segments...: 100%|\u001b[31m██████████\u001b[0m| 399/399 [00:00<00:00, 671.13it/s]\n",
      "Processing segments...:   0%|\u001b[31m          \u001b[0m| 0/399 [00:00<?, ?it/s]"
     ]
    },
    {
     "name": "stdout",
     "output_type": "stream",
     "text": [
      "Elaborating audio 20190603_100000.WAV...\n"
     ]
    },
    {
     "name": "stderr",
     "output_type": "stream",
     "text": [
      "Processing segments...: 100%|\u001b[31m██████████\u001b[0m| 399/399 [00:00<00:00, 776.01it/s]\n",
      "Processing segments...:   0%|\u001b[31m          \u001b[0m| 0/399 [00:00<?, ?it/s]"
     ]
    },
    {
     "name": "stdout",
     "output_type": "stream",
     "text": [
      "Elaborating audio 20190603_110000.WAV...\n"
     ]
    },
    {
     "name": "stderr",
     "output_type": "stream",
     "text": [
      "Processing segments...: 100%|\u001b[31m██████████\u001b[0m| 399/399 [00:00<00:00, 655.47it/s]\n",
      "Processing segments...:   0%|\u001b[31m          \u001b[0m| 0/399 [00:00<?, ?it/s]"
     ]
    },
    {
     "name": "stdout",
     "output_type": "stream",
     "text": [
      "Elaborating audio 20190603_120000.WAV...\n"
     ]
    },
    {
     "name": "stderr",
     "output_type": "stream",
     "text": [
      "Processing segments...: 100%|\u001b[31m██████████\u001b[0m| 399/399 [00:00<00:00, 497.16it/s]\n",
      "Processing segments...:   0%|\u001b[31m          \u001b[0m| 0/399 [00:00<?, ?it/s]"
     ]
    },
    {
     "name": "stdout",
     "output_type": "stream",
     "text": [
      "Elaborating audio 20190603_130000.WAV...\n"
     ]
    },
    {
     "name": "stderr",
     "output_type": "stream",
     "text": [
      "Processing segments...: 100%|\u001b[31m██████████\u001b[0m| 399/399 [00:00<00:00, 649.62it/s]\n",
      "Processing segments...:   0%|\u001b[31m          \u001b[0m| 0/399 [00:00<?, ?it/s]"
     ]
    },
    {
     "name": "stdout",
     "output_type": "stream",
     "text": [
      "Elaborating audio 20190603_140000.WAV...\n"
     ]
    },
    {
     "name": "stderr",
     "output_type": "stream",
     "text": [
      "Processing segments...: 100%|\u001b[31m██████████\u001b[0m| 399/399 [00:00<00:00, 768.88it/s] \n",
      "Processing segments...:   0%|\u001b[31m          \u001b[0m| 0/399 [00:00<?, ?it/s]"
     ]
    },
    {
     "name": "stdout",
     "output_type": "stream",
     "text": [
      "Elaborating audio 20190603_150000.WAV...\n"
     ]
    },
    {
     "name": "stderr",
     "output_type": "stream",
     "text": [
      "Processing segments...: 100%|\u001b[31m██████████\u001b[0m| 399/399 [00:00<00:00, 810.21it/s] \n",
      "Processing segments...:   0%|\u001b[31m          \u001b[0m| 0/399 [00:00<?, ?it/s]"
     ]
    },
    {
     "name": "stdout",
     "output_type": "stream",
     "text": [
      "Elaborating audio 20190603_160000.WAV...\n"
     ]
    },
    {
     "name": "stderr",
     "output_type": "stream",
     "text": [
      "Processing segments...: 100%|\u001b[31m██████████\u001b[0m| 399/399 [00:00<00:00, 811.95it/s]\n",
      "Processing segments...:   0%|\u001b[31m          \u001b[0m| 0/399 [00:00<?, ?it/s]"
     ]
    },
    {
     "name": "stdout",
     "output_type": "stream",
     "text": [
      "Elaborating audio 20190603_170000.WAV...\n"
     ]
    },
    {
     "name": "stderr",
     "output_type": "stream",
     "text": [
      "Processing segments...: 100%|\u001b[31m██████████\u001b[0m| 399/399 [00:00<00:00, 683.79it/s]\n",
      "Processing segments...:   0%|\u001b[31m          \u001b[0m| 0/399 [00:00<?, ?it/s]"
     ]
    },
    {
     "name": "stdout",
     "output_type": "stream",
     "text": [
      "Elaborating audio 20190603_180000.WAV...\n"
     ]
    },
    {
     "name": "stderr",
     "output_type": "stream",
     "text": [
      "Processing segments...: 100%|\u001b[31m██████████\u001b[0m| 399/399 [00:00<00:00, 629.16it/s]\n",
      "Processing segments...:   0%|\u001b[31m          \u001b[0m| 0/399 [00:00<?, ?it/s]"
     ]
    },
    {
     "name": "stdout",
     "output_type": "stream",
     "text": [
      "Elaborating audio 20190603_190000.WAV...\n"
     ]
    },
    {
     "name": "stderr",
     "output_type": "stream",
     "text": [
      "Processing segments...: 100%|\u001b[31m██████████\u001b[0m| 399/399 [00:00<00:00, 779.32it/s]\n",
      "Processing segments...:   0%|\u001b[31m          \u001b[0m| 0/399 [00:00<?, ?it/s]"
     ]
    },
    {
     "name": "stdout",
     "output_type": "stream",
     "text": [
      "Elaborating audio 20190603_230000.WAV...\n"
     ]
    },
    {
     "name": "stderr",
     "output_type": "stream",
     "text": [
      "Processing segments...: 100%|\u001b[31m██████████\u001b[0m| 399/399 [00:00<00:00, 825.87it/s] \n"
     ]
    }
   ],
   "source": [
    "utils.generate_segments(audio_source_path=AUDIO_SOURCE,\n",
    "                  target_path=f\"{DATASET_PATH}/train\",\n",
    "                  true_segments=true_segments_train,\n",
    "                  audio_info=audio_info,\n",
    "                  generate_None=True)"
   ]
  },
  {
   "cell_type": "code",
   "execution_count": 20,
   "metadata": {},
   "outputs": [
    {
     "name": "stderr",
     "output_type": "stream",
     "text": [
      "Processing segments...:   0%|\u001b[31m          \u001b[0m| 0/399 [00:00<?, ?it/s]"
     ]
    },
    {
     "name": "stdout",
     "output_type": "stream",
     "text": [
      "Elaborating audio 20190601_000000.WAV...\n"
     ]
    },
    {
     "name": "stderr",
     "output_type": "stream",
     "text": [
      "Processing segments...: 100%|\u001b[31m██████████\u001b[0m| 399/399 [00:01<00:00, 387.51it/s]\n",
      "Processing segments...:   0%|\u001b[31m          \u001b[0m| 0/399 [00:00<?, ?it/s]"
     ]
    },
    {
     "name": "stdout",
     "output_type": "stream",
     "text": [
      "Elaborating audio 20190601_030000.WAV...\n"
     ]
    },
    {
     "name": "stderr",
     "output_type": "stream",
     "text": [
      "Processing segments...: 100%|\u001b[31m██████████\u001b[0m| 399/399 [00:01<00:00, 298.77it/s]\n",
      "Processing segments...:   0%|\u001b[31m          \u001b[0m| 0/399 [00:00<?, ?it/s]"
     ]
    },
    {
     "name": "stdout",
     "output_type": "stream",
     "text": [
      "Elaborating audio 20190601_040000.WAV...\n"
     ]
    },
    {
     "name": "stderr",
     "output_type": "stream",
     "text": [
      "Processing segments...: 100%|\u001b[31m██████████\u001b[0m| 399/399 [00:00<00:00, 788.29it/s]\n",
      "Processing segments...:   0%|\u001b[31m          \u001b[0m| 0/399 [00:00<?, ?it/s]"
     ]
    },
    {
     "name": "stdout",
     "output_type": "stream",
     "text": [
      "Elaborating audio 20190601_050000.WAV...\n"
     ]
    },
    {
     "name": "stderr",
     "output_type": "stream",
     "text": [
      "Processing segments...: 100%|\u001b[31m██████████\u001b[0m| 399/399 [00:00<00:00, 586.02it/s]\n",
      "Processing segments...:   0%|\u001b[31m          \u001b[0m| 0/399 [00:00<?, ?it/s]"
     ]
    },
    {
     "name": "stdout",
     "output_type": "stream",
     "text": [
      "Elaborating audio 20190601_060000.WAV...\n"
     ]
    },
    {
     "name": "stderr",
     "output_type": "stream",
     "text": [
      "Processing segments...: 100%|\u001b[31m██████████\u001b[0m| 399/399 [00:00<00:00, 655.98it/s]\n",
      "Processing segments...:   0%|\u001b[31m          \u001b[0m| 1/399 [00:00<01:20,  4.97it/s]"
     ]
    },
    {
     "name": "stdout",
     "output_type": "stream",
     "text": [
      "Elaborating audio 20190601_070000.WAV...\n"
     ]
    },
    {
     "name": "stderr",
     "output_type": "stream",
     "text": [
      "Processing segments...: 100%|\u001b[31m██████████\u001b[0m| 399/399 [00:00<00:00, 863.92it/s] \n",
      "Processing segments...:   0%|\u001b[31m          \u001b[0m| 0/399 [00:00<?, ?it/s]"
     ]
    },
    {
     "name": "stdout",
     "output_type": "stream",
     "text": [
      "Elaborating audio 20190601_080000.WAV...\n"
     ]
    },
    {
     "name": "stderr",
     "output_type": "stream",
     "text": [
      "Processing segments...: 100%|\u001b[31m██████████\u001b[0m| 399/399 [00:00<00:00, 759.96it/s]\n",
      "Processing segments...:   0%|\u001b[31m          \u001b[0m| 0/399 [00:00<?, ?it/s]"
     ]
    },
    {
     "name": "stdout",
     "output_type": "stream",
     "text": [
      "Elaborating audio 20190601_090000.WAV...\n"
     ]
    },
    {
     "name": "stderr",
     "output_type": "stream",
     "text": [
      "Processing segments...: 100%|\u001b[31m██████████\u001b[0m| 399/399 [00:00<00:00, 800.62it/s] \n",
      "Processing segments...:   0%|\u001b[31m          \u001b[0m| 0/399 [00:00<?, ?it/s]"
     ]
    },
    {
     "name": "stdout",
     "output_type": "stream",
     "text": [
      "Elaborating audio 20190601_100000.WAV...\n"
     ]
    },
    {
     "name": "stderr",
     "output_type": "stream",
     "text": [
      "Processing segments...: 100%|\u001b[31m██████████\u001b[0m| 399/399 [00:00<00:00, 858.05it/s] \n",
      "Processing segments...:   0%|\u001b[31m          \u001b[0m| 0/399 [00:00<?, ?it/s]"
     ]
    },
    {
     "name": "stdout",
     "output_type": "stream",
     "text": [
      "Elaborating audio 20190601_110000.WAV...\n"
     ]
    },
    {
     "name": "stderr",
     "output_type": "stream",
     "text": [
      "Processing segments...: 100%|\u001b[31m██████████\u001b[0m| 399/399 [00:00<00:00, 768.88it/s] \n",
      "Processing segments...:   0%|\u001b[31m          \u001b[0m| 0/399 [00:00<?, ?it/s]"
     ]
    },
    {
     "name": "stdout",
     "output_type": "stream",
     "text": [
      "Elaborating audio 20190601_120000.WAV...\n"
     ]
    },
    {
     "name": "stderr",
     "output_type": "stream",
     "text": [
      "Processing segments...: 100%|\u001b[31m██████████\u001b[0m| 399/399 [00:00<00:00, 708.62it/s]\n",
      "Processing segments...:   0%|\u001b[31m          \u001b[0m| 0/399 [00:00<?, ?it/s]"
     ]
    },
    {
     "name": "stdout",
     "output_type": "stream",
     "text": [
      "Elaborating audio 20190601_130000.WAV...\n"
     ]
    },
    {
     "name": "stderr",
     "output_type": "stream",
     "text": [
      "Processing segments...: 100%|\u001b[31m██████████\u001b[0m| 399/399 [00:00<00:00, 683.22it/s]\n",
      "Processing segments...:   0%|\u001b[31m          \u001b[0m| 0/399 [00:00<?, ?it/s]"
     ]
    },
    {
     "name": "stdout",
     "output_type": "stream",
     "text": [
      "Elaborating audio 20190601_140000.WAV...\n"
     ]
    },
    {
     "name": "stderr",
     "output_type": "stream",
     "text": [
      "Processing segments...: 100%|\u001b[31m██████████\u001b[0m| 399/399 [00:00<00:00, 712.16it/s]\n",
      "Processing segments...:   0%|\u001b[31m          \u001b[0m| 0/399 [00:00<?, ?it/s]"
     ]
    },
    {
     "name": "stdout",
     "output_type": "stream",
     "text": [
      "Elaborating audio 20190601_150000.WAV...\n"
     ]
    },
    {
     "name": "stderr",
     "output_type": "stream",
     "text": [
      "Processing segments...: 100%|\u001b[31m██████████\u001b[0m| 399/399 [00:00<00:00, 506.29it/s]\n",
      "Processing segments...:   0%|\u001b[31m          \u001b[0m| 0/399 [00:00<?, ?it/s]"
     ]
    },
    {
     "name": "stdout",
     "output_type": "stream",
     "text": [
      "Elaborating audio 20190601_160000.WAV...\n"
     ]
    },
    {
     "name": "stderr",
     "output_type": "stream",
     "text": [
      "Processing segments...: 100%|\u001b[31m██████████\u001b[0m| 399/399 [00:00<00:00, 1213.63it/s]\n",
      "Processing segments...:   0%|\u001b[31m          \u001b[0m| 0/399 [00:00<?, ?it/s]"
     ]
    },
    {
     "name": "stdout",
     "output_type": "stream",
     "text": [
      "Elaborating audio 20190601_170000.WAV...\n"
     ]
    },
    {
     "name": "stderr",
     "output_type": "stream",
     "text": [
      "Processing segments...: 100%|\u001b[31m██████████\u001b[0m| 399/399 [00:00<00:00, 1219.54it/s]\n",
      "Processing segments...:   0%|\u001b[31m          \u001b[0m| 0/399 [00:00<?, ?it/s]"
     ]
    },
    {
     "name": "stdout",
     "output_type": "stream",
     "text": [
      "Elaborating audio 20190601_180000.WAV...\n"
     ]
    },
    {
     "name": "stderr",
     "output_type": "stream",
     "text": [
      "Processing segments...: 100%|\u001b[31m██████████\u001b[0m| 399/399 [00:00<00:00, 776.49it/s]\n",
      "Processing segments...:   0%|\u001b[31m          \u001b[0m| 0/399 [00:00<?, ?it/s]"
     ]
    },
    {
     "name": "stdout",
     "output_type": "stream",
     "text": [
      "Elaborating audio 20190601_190000.WAV...\n"
     ]
    },
    {
     "name": "stderr",
     "output_type": "stream",
     "text": [
      "Processing segments...: 100%|\u001b[31m██████████\u001b[0m| 399/399 [00:00<00:00, 893.03it/s] \n",
      "Processing segments...:   0%|\u001b[31m          \u001b[0m| 0/399 [00:00<?, ?it/s]"
     ]
    },
    {
     "name": "stdout",
     "output_type": "stream",
     "text": [
      "Elaborating audio 20190601_210000.WAV...\n"
     ]
    },
    {
     "name": "stderr",
     "output_type": "stream",
     "text": [
      "Processing segments...: 100%|\u001b[31m██████████\u001b[0m| 399/399 [00:00<00:00, 718.51it/s] \n",
      "Processing segments...:   0%|\u001b[31m          \u001b[0m| 0/399 [00:00<?, ?it/s]"
     ]
    },
    {
     "name": "stdout",
     "output_type": "stream",
     "text": [
      "Elaborating audio 20190601_230000.WAV...\n"
     ]
    },
    {
     "name": "stderr",
     "output_type": "stream",
     "text": [
      "Processing segments...: 100%|\u001b[31m██████████\u001b[0m| 399/399 [00:00<00:00, 1239.92it/s]\n"
     ]
    }
   ],
   "source": [
    "utils.generate_segments(audio_source_path=AUDIO_SOURCE,\n",
    "                  target_path=f\"{DATASET_PATH}/final_test\",\n",
    "                  true_segments=true_segments_test,\n",
    "                  audio_info=audio_info_test,\n",
    "                  generate_None=True)"
   ]
  },
  {
   "cell_type": "code",
   "execution_count": 14,
   "metadata": {},
   "outputs": [
    {
     "data": {
      "text/html": [
       "<div>\n",
       "<style scoped>\n",
       "    .dataframe tbody tr th:only-of-type {\n",
       "        vertical-align: middle;\n",
       "    }\n",
       "\n",
       "    .dataframe tbody tr th {\n",
       "        vertical-align: top;\n",
       "    }\n",
       "\n",
       "    .dataframe thead th {\n",
       "        text-align: right;\n",
       "    }\n",
       "</style>\n",
       "<table border=\"1\" class=\"dataframe\">\n",
       "  <thead>\n",
       "    <tr style=\"text-align: right;\">\n",
       "      <th></th>\n",
       "      <th>Species</th>\n",
       "      <th>Count</th>\n",
       "    </tr>\n",
       "  </thead>\n",
       "  <tbody>\n",
       "    <tr>\n",
       "      <th>0</th>\n",
       "      <td>None</td>\n",
       "      <td>4907</td>\n",
       "    </tr>\n",
       "    <tr>\n",
       "      <th>1</th>\n",
       "      <td>Fringilla coelebs_Common Chaffinch</td>\n",
       "      <td>1067</td>\n",
       "    </tr>\n",
       "    <tr>\n",
       "      <th>2</th>\n",
       "      <td>Phylloscopus collybita_Common Chiffchaff</td>\n",
       "      <td>674</td>\n",
       "    </tr>\n",
       "    <tr>\n",
       "      <th>3</th>\n",
       "      <td>Erithacus rubecula_European Robin</td>\n",
       "      <td>556</td>\n",
       "    </tr>\n",
       "    <tr>\n",
       "      <th>4</th>\n",
       "      <td>Sylvia atricapilla_Eurasian Blackcap</td>\n",
       "      <td>493</td>\n",
       "    </tr>\n",
       "    <tr>\n",
       "      <th>5</th>\n",
       "      <td>Turdus merula_Eurasian Blackbird</td>\n",
       "      <td>315</td>\n",
       "    </tr>\n",
       "    <tr>\n",
       "      <th>6</th>\n",
       "      <td>Regulus ignicapilla_Common Firecrest</td>\n",
       "      <td>238</td>\n",
       "    </tr>\n",
       "    <tr>\n",
       "      <th>7</th>\n",
       "      <td>Wind</td>\n",
       "      <td>189</td>\n",
       "    </tr>\n",
       "    <tr>\n",
       "      <th>8</th>\n",
       "      <td>Troglodytes troglodytes_Eurasian Wren</td>\n",
       "      <td>111</td>\n",
       "    </tr>\n",
       "    <tr>\n",
       "      <th>9</th>\n",
       "      <td>Muscicapa striata_Spotted Flycatcher</td>\n",
       "      <td>108</td>\n",
       "    </tr>\n",
       "    <tr>\n",
       "      <th>10</th>\n",
       "      <td>Turdus philomelos_Song Thrush</td>\n",
       "      <td>58</td>\n",
       "    </tr>\n",
       "    <tr>\n",
       "      <th>11</th>\n",
       "      <td>Loxia curvirostra_Common Crossbill</td>\n",
       "      <td>52</td>\n",
       "    </tr>\n",
       "    <tr>\n",
       "      <th>12</th>\n",
       "      <td>Vegetation</td>\n",
       "      <td>39</td>\n",
       "    </tr>\n",
       "    <tr>\n",
       "      <th>13</th>\n",
       "      <td>Rain</td>\n",
       "      <td>32</td>\n",
       "    </tr>\n",
       "    <tr>\n",
       "      <th>14</th>\n",
       "      <td>Periparus ater_Coal Tit</td>\n",
       "      <td>28</td>\n",
       "    </tr>\n",
       "    <tr>\n",
       "      <th>15</th>\n",
       "      <td>Dendrocopos major_Great Spotted Woodpecker</td>\n",
       "      <td>25</td>\n",
       "    </tr>\n",
       "    <tr>\n",
       "      <th>16</th>\n",
       "      <td>Aeroplane</td>\n",
       "      <td>22</td>\n",
       "    </tr>\n",
       "    <tr>\n",
       "      <th>17</th>\n",
       "      <td>Dryocopus martius_Black Woodpecker</td>\n",
       "      <td>21</td>\n",
       "    </tr>\n",
       "    <tr>\n",
       "      <th>18</th>\n",
       "      <td>Lophophanes cristatus_Crested Tit</td>\n",
       "      <td>14</td>\n",
       "    </tr>\n",
       "    <tr>\n",
       "      <th>19</th>\n",
       "      <td>Regulus regulus_Goldcrest</td>\n",
       "      <td>12</td>\n",
       "    </tr>\n",
       "    <tr>\n",
       "      <th>20</th>\n",
       "      <td>Pecking</td>\n",
       "      <td>8</td>\n",
       "    </tr>\n",
       "    <tr>\n",
       "      <th>21</th>\n",
       "      <td>Certhia familiaris_Eurasian Treecreeper</td>\n",
       "      <td>3</td>\n",
       "    </tr>\n",
       "  </tbody>\n",
       "</table>\n",
       "</div>"
      ],
      "text/plain": [
       "                                       Species  Count\n",
       "0                                         None   4907\n",
       "1           Fringilla coelebs_Common Chaffinch   1067\n",
       "2     Phylloscopus collybita_Common Chiffchaff    674\n",
       "3            Erithacus rubecula_European Robin    556\n",
       "4         Sylvia atricapilla_Eurasian Blackcap    493\n",
       "5             Turdus merula_Eurasian Blackbird    315\n",
       "6         Regulus ignicapilla_Common Firecrest    238\n",
       "7                                         Wind    189\n",
       "8        Troglodytes troglodytes_Eurasian Wren    111\n",
       "9         Muscicapa striata_Spotted Flycatcher    108\n",
       "10               Turdus philomelos_Song Thrush     58\n",
       "11          Loxia curvirostra_Common Crossbill     52\n",
       "12                                  Vegetation     39\n",
       "13                                        Rain     32\n",
       "14                     Periparus ater_Coal Tit     28\n",
       "15  Dendrocopos major_Great Spotted Woodpecker     25\n",
       "16                                   Aeroplane     22\n",
       "17          Dryocopus martius_Black Woodpecker     21\n",
       "18           Lophophanes cristatus_Crested Tit     14\n",
       "19                   Regulus regulus_Goldcrest     12\n",
       "20                                     Pecking      8\n",
       "21     Certhia familiaris_Eurasian Treecreeper      3"
      ]
     },
     "execution_count": 14,
     "metadata": {},
     "output_type": "execute_result"
    }
   ],
   "source": [
    "# count segments by species\n",
    "target_path = f\"{DATASET_PATH}/test\"\n",
    "species_count = {species: len(os.listdir(os.path.join(target_path, species))) for species in os.listdir(target_path)}\n",
    "species_count_df = pd.DataFrame(list(species_count.items()), columns=[\"Species\", \"Count\"])\n",
    "species_count_df.sort_values(by=\"Count\", ascending=False).reset_index(drop=True)"
   ]
  },
  {
   "cell_type": "markdown",
   "metadata": {},
   "source": [
    "# WABAD Segments Extraction\n",
    "\n",
    "For the WABAD dataset, a segment extraction strategy similar to the previous one is employed, with key adaptations to address its unique characteristics.\n",
    "\n",
    "Initially, the focus is specifically on the **less represented species**. In this particular analysis, species with **fewer than 750 occurrences** were targeted, while the \"non-species\" class was excluded.\n",
    "\n",
    "Next, the process involves extracting annotations directly from WABAD. This requires referencing a list of specific site datasets to download, located in the `wabad_datasets.txt` file. Once the annotations are gathered, audio segments are created. This follows the **same robust pipeline** used previously: transforming raw category and audio annotations (`category_annots`, `audio_annots`), saving audio details (`audio_info`), and then feeding into the generation of labeled segments (`true_segments`).\n",
    "\n",
    "Finally, given the abundance of unannotated segments (exceeding 10,000 samples of \"None\"), they have been excluded from this analysis."
   ]
  },
  {
   "cell_type": "code",
   "execution_count": 8,
   "metadata": {},
   "outputs": [],
   "source": [
    "# get species from category_info file, filter non-species name\n",
    "species_common_name_list = [species.split(\"_\")[0] for species in list(category_annots.keys()) if len(species.split(\"_\")) > 1]"
   ]
  },
  {
   "cell_type": "code",
   "execution_count": 36,
   "metadata": {},
   "outputs": [
    {
     "data": {
      "text/plain": [
       "['Muscicapa striata',\n",
       " 'Periparus ater',\n",
       " 'Regulus regulus',\n",
       " 'Dryocopus martius',\n",
       " 'Certhia familiaris',\n",
       " 'Turdus merula',\n",
       " 'Loxia curvirostra',\n",
       " 'Dendrocopos major',\n",
       " 'Lophophanes cristatus']"
      ]
     },
     "execution_count": 36,
     "metadata": {},
     "output_type": "execute_result"
    }
   ],
   "source": [
    "minority_threshold = 750\n",
    "train_folder = '/home/giacomoschiavo/segments/PROVA/train'\n",
    "train_species = os.listdir(train_folder)\n",
    "species_count = {species : len(os.listdir(os.path.join(train_folder, species))) for species in train_species}\n",
    "species_to_augment = [species.split(\"_\")[0] for species in train_species if species_count[species] <= minority_threshold and len(species.split(\"_\")) != 1]\n",
    "species_to_augment"
   ]
  },
  {
   "cell_type": "code",
   "execution_count": 37,
   "metadata": {},
   "outputs": [],
   "source": [
    "# 1. Locate site dataset list: `wabad_datasets.txt` in the `utils` folder.\n",
    "# 2. Manually download and extract ALL listed datasets.\n",
    "# 3. Place the extracted datasets into the designated `WABAD` folder.\n",
    "\n",
    "# this is an example of the outcome\n",
    "# E:\\Giacomo\\Tovanella\\WABAD\\BAM\\BAM\\Raven Pro annotations\\BAM_20151116_060801.txt\n",
    "# WABAD_PATH = \"E:/Giacomo/Tovanella/WABAD\"\n",
    "WABAD_PATH = \"/home/giacomoschiavo/WABAD/audio\""
   ]
  },
  {
   "cell_type": "code",
   "execution_count": 38,
   "metadata": {},
   "outputs": [],
   "source": [
    "def extract_wabad_info(folder_path):\n",
    "    # folder_path = \".../WABAD/BIAL/BIAL/Raven Pro annotations\"\n",
    "    audio_info_wabad = {}\n",
    "    category_info_wabad = {}\n",
    "    for txt_file in os.listdir(folder_path):\n",
    "        complete_path = os.path.join(folder_path, txt_file)\n",
    "        with open(complete_path, newline='', encoding='utf-8') as csvfile:\n",
    "            reader = csv.DictReader(csvfile, delimiter='\\t') \n",
    "            for row in reader:\n",
    "                if row[\"Species\"] not in species_to_augment or \"End Time (s)\" not in row:\n",
    "                    continue\n",
    "                file_name = txt_file.replace(\".txt\", \".wav\")\n",
    "                start_time = float(row[\"Begin Time (s)\"])\n",
    "                end_time = float(row[\"End Time (s)\"])\n",
    "                duration = end_time - start_time\n",
    "                common_name = species_dict[row[\"Species\"]]\n",
    "                label = f\"{row['Species']}_{common_name}\"\n",
    "\n",
    "                audio_info_entry = {\n",
    "                    \"scientific_name\": row[\"Species\"],\n",
    "                    \"common_name\": common_name, \n",
    "                    \"start_time\": start_time,\n",
    "                    \"duration\": duration,\n",
    "                    \"label\": label\n",
    "                }\n",
    "                category_info_entry = {\n",
    "                    \"file_name\": file_name,\n",
    "                    \"start_time\": start_time,\n",
    "                    \"duration\": duration,\n",
    "                    \"label\": label\n",
    "                }\n",
    "                \n",
    "                if file_name not in audio_info_wabad:\n",
    "                    audio_info_wabad[file_name] = []\n",
    "                if label not in category_info_wabad:\n",
    "                    category_info_wabad[label] = []\n",
    "                audio_info_wabad[file_name].append(audio_info_entry)\n",
    "                category_info_wabad[label].append(category_info_entry)\n",
    "    return audio_info_wabad, category_info_wabad"
   ]
  },
  {
   "cell_type": "code",
   "execution_count": 39,
   "metadata": {},
   "outputs": [],
   "source": [
    "audio_annots_wabad = {}\n",
    "category_annots_wabad = {}\n",
    "\n",
    "for folder in os.listdir(WABAD_PATH):\n",
    "    if not os.path.isdir(os.path.join(WABAD_PATH, folder)):\n",
    "        continue\n",
    "    annotations = os.path.join(WABAD_PATH, folder, folder, \"Raven Pro annotations\")\n",
    "    audio_info_update, category_info_update = extract_wabad_info(annotations)\n",
    "    for audio in audio_info_update.keys():\n",
    "        if audio not in audio_annots_wabad:\n",
    "            audio_annots_wabad[audio] = []\n",
    "        audio_annots_wabad[audio].extend(audio_info_update[audio])\n",
    "    for category in category_info_update.keys():\n",
    "        if category not in category_annots_wabad:\n",
    "            category_annots_wabad[category] = []\n",
    "        category_annots_wabad[category].extend(category_info_update[category])    \n",
    "\n",
    "with open(\"utils/WABAD/audio_annots_wabad.json\", 'w', encoding='utf-8') as jsonfile:\n",
    "    json.dump(audio_annots_wabad, jsonfile)\n",
    "\n",
    "with open(\"utils/WABAD/category_annots_wabad.json\", 'w', encoding='utf-8') as jsonfile:\n",
    "    json.dump(category_annots_wabad, jsonfile)"
   ]
  },
  {
   "cell_type": "code",
   "execution_count": 40,
   "metadata": {},
   "outputs": [
    {
     "data": {
      "text/html": [
       "<div>\n",
       "<style scoped>\n",
       "    .dataframe tbody tr th:only-of-type {\n",
       "        vertical-align: middle;\n",
       "    }\n",
       "\n",
       "    .dataframe tbody tr th {\n",
       "        vertical-align: top;\n",
       "    }\n",
       "\n",
       "    .dataframe thead th {\n",
       "        text-align: right;\n",
       "    }\n",
       "</style>\n",
       "<table border=\"1\" class=\"dataframe\">\n",
       "  <thead>\n",
       "    <tr style=\"text-align: right;\">\n",
       "      <th></th>\n",
       "      <th>Species</th>\n",
       "      <th>Count</th>\n",
       "      <th>Count WABAD</th>\n",
       "    </tr>\n",
       "  </thead>\n",
       "  <tbody>\n",
       "    <tr>\n",
       "      <th>5</th>\n",
       "      <td>Turdus merula_Eurasian Blackbird</td>\n",
       "      <td>315</td>\n",
       "      <td>2308</td>\n",
       "    </tr>\n",
       "    <tr>\n",
       "      <th>0</th>\n",
       "      <td>Muscicapa striata_Spotted Flycatcher</td>\n",
       "      <td>108</td>\n",
       "      <td>117</td>\n",
       "    </tr>\n",
       "    <tr>\n",
       "      <th>6</th>\n",
       "      <td>Loxia curvirostra_Common Crossbill</td>\n",
       "      <td>52</td>\n",
       "      <td>25</td>\n",
       "    </tr>\n",
       "    <tr>\n",
       "      <th>1</th>\n",
       "      <td>Periparus ater_Coal Tit</td>\n",
       "      <td>28</td>\n",
       "      <td>768</td>\n",
       "    </tr>\n",
       "    <tr>\n",
       "      <th>7</th>\n",
       "      <td>Dendrocopos major_Great Spotted Woodpecker</td>\n",
       "      <td>25</td>\n",
       "      <td>242</td>\n",
       "    </tr>\n",
       "    <tr>\n",
       "      <th>3</th>\n",
       "      <td>Dryocopus martius_Black Woodpecker</td>\n",
       "      <td>21</td>\n",
       "      <td>32</td>\n",
       "    </tr>\n",
       "    <tr>\n",
       "      <th>8</th>\n",
       "      <td>Lophophanes cristatus_Crested Tit</td>\n",
       "      <td>14</td>\n",
       "      <td>132</td>\n",
       "    </tr>\n",
       "    <tr>\n",
       "      <th>2</th>\n",
       "      <td>Regulus regulus_Goldcrest</td>\n",
       "      <td>12</td>\n",
       "      <td>437</td>\n",
       "    </tr>\n",
       "    <tr>\n",
       "      <th>4</th>\n",
       "      <td>Certhia familiaris_Eurasian Treecreeper</td>\n",
       "      <td>3</td>\n",
       "      <td>96</td>\n",
       "    </tr>\n",
       "  </tbody>\n",
       "</table>\n",
       "</div>"
      ],
      "text/plain": [
       "                                      Species  Count  Count WABAD\n",
       "5            Turdus merula_Eurasian Blackbird    315         2308\n",
       "0        Muscicapa striata_Spotted Flycatcher    108          117\n",
       "6          Loxia curvirostra_Common Crossbill     52           25\n",
       "1                     Periparus ater_Coal Tit     28          768\n",
       "7  Dendrocopos major_Great Spotted Woodpecker     25          242\n",
       "3          Dryocopus martius_Black Woodpecker     21           32\n",
       "8           Lophophanes cristatus_Crested Tit     14          132\n",
       "2                   Regulus regulus_Goldcrest     12          437\n",
       "4     Certhia familiaris_Eurasian Treecreeper      3           96"
      ]
     },
     "execution_count": 40,
     "metadata": {},
     "output_type": "execute_result"
    }
   ],
   "source": [
    "# show contribution of WABAD for every species\n",
    "species_count_wabad = {species_name: len(segms) for species_name, segms in category_annots_wabad.items()}\n",
    "species_count_wabad_df = pd.DataFrame(list(species_count_wabad.items()), columns=[\"Species\", \"Count WABAD\"])\n",
    "merged_df = pd.merge(species_count_df, species_count_wabad_df, on=\"Species\", how=\"inner\")\n",
    "merged_df.sort_values(by=[\"Count\"], ascending=False)"
   ]
  },
  {
   "cell_type": "code",
   "execution_count": 42,
   "metadata": {},
   "outputs": [],
   "source": [
    "# move all WABAD audio in a unique folder -> run \"move_files.py\" in the VM\n",
    "WABAD_PATH = \"/home/giacomoschiavo/WABAD/audio\"\n",
    "WABAD_AUDIO_SOURCE = \"/home/giacomoschiavo/WABAD/all_wabad_audio\"\n",
    "# for folder in os.listdir(WABAD_PATH):\n",
    "#     if not os.path.isdir(os.path.join(WABAD_PATH, folder)):\n",
    "#         continue\n",
    "#     # ...\\BAM\\BAM\\Recordings\n",
    "#     folder_path = os.path.join(WABAD_PATH, folder, folder, \"Recordings\")\n",
    "#     all_audio = os.listdir(folder_path)\n",
    "#     for audio in all_audio:\n",
    "#         if audio.upper() in audio_annots_wabad.keys():\n",
    "#             os.rename(\n",
    "#                 os.path.join(folder_path, audio),\n",
    "#                 os.path.join(WABAD_AUDIO_SOURCE, audio)\n",
    "#             )\n",
    "    "
   ]
  },
  {
   "cell_type": "code",
   "execution_count": 43,
   "metadata": {},
   "outputs": [],
   "source": [
    "# with open(\"utils/audio_info_wabad.json\") as f:\n",
    "#     audio_info_wabad = json.load(f)\n",
    "\n",
    "audio_info_wabad = utils.generate_audio_info(WABAD_AUDIO_SOURCE, audio_annots_wabad)\n",
    "with open(\"utils/WABAD/audio_info_wabad.json\", \"w\") as f:\n",
    "    json.dump(audio_info_wabad, f)"
   ]
  },
  {
   "cell_type": "code",
   "execution_count": 44,
   "metadata": {},
   "outputs": [],
   "source": [
    "true_segments_wabad = utils.generate_true_segments(audio_annots_wabad, audio_info_wabad)\n",
    "with open(\"utils/WABAD/true_segments_wabad.json\", \"w\") as f:\n",
    "    json.dump(true_segments_wabad, f)"
   ]
  },
  {
   "cell_type": "code",
   "execution_count": 45,
   "metadata": {},
   "outputs": [],
   "source": [
    "# here we generate the segments for WABAD in WABAD_SEGMENTS_PATH folder\n",
    "WABAD_SEGMENTS_PATH = \"/home/giacomoschiavo/WABAD/segments\"\n",
    "os.makedirs(WABAD_SEGMENTS_PATH, exist_ok=True)"
   ]
  },
  {
   "cell_type": "code",
   "execution_count": 46,
   "metadata": {},
   "outputs": [
    {
     "name": "stderr",
     "output_type": "stream",
     "text": [
      "Processing segments for PITI_20220313_070800.wav...: 100%|\u001b[31m██████████\u001b[0m| 39/39 [00:00<00:00, 3779.26it/s]\n",
      "Processing segments for OESF_20230518_060601.wav...: 100%|\u001b[31m██████████\u001b[0m| 39/39 [00:00<00:00, 2997.30it/s]\n",
      "Processing segments for OESF_20230611_144932.wav...: 100%|\u001b[31m██████████\u001b[0m| 39/39 [00:00<00:00, 3135.24it/s]\n",
      "Processing segments for PINA_20220603_082300.wav...: 100%|\u001b[31m██████████\u001b[0m| 39/39 [00:00<00:00, 2543.39it/s]\n",
      "Processing segments for PINA_20220506_073700.wav...: 100%|\u001b[31m██████████\u001b[0m| 39/39 [00:00<00:00, 2351.71it/s]\n",
      "Processing segments for PINA_20220502_083700.wav...: 100%|\u001b[31m██████████\u001b[0m| 39/39 [00:00<00:00, 2756.20it/s]\n",
      "Processing segments for PINA_20220504_070800.wav...: 100%|\u001b[31m██████████\u001b[0m| 39/39 [00:00<00:00, 2683.14it/s]\n",
      "Processing segments for PINA_20220502_083200.wav...: 100%|\u001b[31m██████████\u001b[0m| 39/39 [00:00<00:00, 2656.65it/s]\n",
      "Processing segments for PINA_20220506_074900.wav...: 100%|\u001b[31m██████████\u001b[0m| 39/39 [00:00<00:00, 2708.78it/s]\n",
      "Processing segments for PINA_20220602_063400.wav...: 100%|\u001b[31m██████████\u001b[0m| 39/39 [00:00<00:00, 2233.18it/s]\n",
      "Processing segments for PINA_20220504_071900.wav...: 100%|\u001b[31m██████████\u001b[0m| 39/39 [00:00<00:00, 2406.19it/s]\n",
      "Processing segments for PINA_20220430_081400.wav...: 100%|\u001b[31m██████████\u001b[0m| 39/39 [00:00<00:00, 2548.62it/s]\n",
      "Processing segments for PINA_20220501_084500.wav...: 100%|\u001b[31m██████████\u001b[0m| 39/39 [00:00<00:00, 2255.69it/s]\n",
      "Processing segments for PINA_20220504_071500.wav...: 100%|\u001b[31m██████████\u001b[0m| 39/39 [00:00<00:00, 2322.10it/s]\n",
      "Processing segments for PINA_20220603_081500.wav...: 100%|\u001b[31m██████████\u001b[0m| 39/39 [00:00<00:00, 2653.55it/s]\n",
      "Processing segments for PINA_20220602_062100.wav...: 100%|\u001b[31m██████████\u001b[0m| 39/39 [00:00<00:00, 1944.58it/s]\n",
      "Processing segments for PINA_20220601_074600.wav...: 100%|\u001b[31m██████████\u001b[0m| 39/39 [00:00<00:00, 1885.82it/s]\n",
      "Processing segments for PINA_20220506_072200.wav...: 100%|\u001b[31m██████████\u001b[0m| 39/39 [00:00<00:00, 2264.46it/s]\n",
      "Processing segments for PINA_20220504_074800.wav...: 100%|\u001b[31m██████████\u001b[0m| 39/39 [00:00<00:00, 2230.04it/s]\n",
      "Processing segments for PINA_20220430_081600.wav...: 100%|\u001b[31m██████████\u001b[0m| 39/39 [00:00<00:00, 2274.09it/s]\n",
      "Processing segments for PINA_20220602_062800.wav...: 100%|\u001b[31m██████████\u001b[0m| 39/39 [00:00<00:00, 2257.62it/s]\n",
      "Processing segments for PINA_20220506_075200.wav...: 100%|\u001b[31m██████████\u001b[0m| 39/39 [00:00<00:00, 2329.24it/s]\n",
      "Processing segments for PINA_20220602_061400.wav...: 100%|\u001b[31m██████████\u001b[0m| 39/39 [00:00<00:00, 2303.30it/s]\n",
      "Processing segments for PINA_20220430_084500.wav...: 100%|\u001b[31m██████████\u001b[0m| 39/39 [00:00<00:00, 2311.17it/s]\n",
      "Processing segments for PINA_20220504_072500.wav...: 100%|\u001b[31m██████████\u001b[0m| 39/39 [00:00<00:00, 2217.79it/s]\n",
      "Processing segments for PINA_20220506_071100.wav...: 100%|\u001b[31m██████████\u001b[0m| 39/39 [00:00<00:00, 2377.52it/s]\n",
      "Processing segments for PINA_20220603_083500.wav...: 100%|\u001b[31m██████████\u001b[0m| 39/39 [00:00<00:00, 2291.55it/s]\n",
      "Processing segments for PINA_20220430_083200.wav...: 100%|\u001b[31m██████████\u001b[0m| 39/39 [00:00<00:00, 2452.74it/s]\n",
      "Processing segments for PINA_20220506_072700.wav...: 100%|\u001b[31m██████████\u001b[0m| 39/39 [00:00<00:00, 2303.98it/s]\n",
      "Processing segments for PINA_20220502_084800.wav...: 100%|\u001b[31m██████████\u001b[0m| 39/39 [00:00<00:00, 2251.22it/s]\n",
      "Processing segments for PINA_20220504_071100.wav...: 100%|\u001b[31m██████████\u001b[0m| 39/39 [00:00<00:00, 2289.24it/s]\n",
      "Processing segments for PINA_20220506_073400.wav...: 100%|\u001b[31m██████████\u001b[0m| 38/38 [00:00<00:00, 2440.34it/s]\n",
      "Processing segments for PINA_20220602_075600.wav...: 100%|\u001b[31m██████████\u001b[0m| 39/39 [00:00<00:00, 2115.65it/s]\n",
      "Processing segments for PINA_20220501_082500.wav...: 100%|\u001b[31m██████████\u001b[0m| 39/39 [00:00<00:00, 2115.08it/s]\n",
      "Processing segments for PINA_20220601_082300.wav...: 100%|\u001b[31m██████████\u001b[0m| 39/39 [00:00<00:00, 2112.43it/s]\n",
      "Processing segments for PINA_20220504_072700.wav...: 100%|\u001b[31m██████████\u001b[0m| 39/39 [00:00<00:00, 2246.55it/s]\n",
      "Processing segments for PINA_20220601_084500.wav...: 100%|\u001b[31m██████████\u001b[0m| 39/39 [00:00<00:00, 2318.64it/s]\n",
      "Processing segments for PINA_20220502_085000.wav...: 100%|\u001b[31m██████████\u001b[0m| 39/39 [00:00<00:00, 2605.32it/s]\n",
      "Processing segments for PINA_20220430_080900.wav...: 100%|\u001b[31m██████████\u001b[0m| 39/39 [00:00<00:00, 2279.32it/s]\n",
      "Processing segments for PINA_20220430_085600.wav...: 100%|\u001b[31m██████████\u001b[0m| 39/39 [00:00<00:00, 2330.10it/s]\n",
      "Processing segments for PINA_20220501_083200.wav...: 100%|\u001b[31m██████████\u001b[0m| 39/39 [00:00<00:00, 2194.23it/s]\n",
      "Processing segments for PINA_20220502_080600.wav...: 100%|\u001b[31m██████████\u001b[0m| 39/39 [00:00<00:00, 2351.20it/s]\n",
      "Processing segments for PINA_20220501_085000.wav...: 100%|\u001b[31m██████████\u001b[0m| 39/39 [00:00<00:00, 2170.79it/s]\n",
      "Processing segments for PINA_20220501_082800.wav...: 100%|\u001b[31m██████████\u001b[0m| 39/39 [00:00<00:00, 2432.38it/s]\n",
      "Processing segments for PINA_20220504_070500.wav...: 100%|\u001b[31m██████████\u001b[0m| 39/39 [00:00<00:00, 2236.63it/s]\n",
      "Processing segments for PINA_20220504_090000.wav...: 100%|\u001b[31m██████████\u001b[0m| 39/39 [00:00<00:00, 2295.57it/s]\n",
      "Processing segments for PINA_20220506_071700.wav...: 100%|\u001b[31m██████████\u001b[0m| 38/38 [00:00<00:00, 2201.31it/s]\n",
      "Processing segments for PINA_20220601_082500.wav...: 100%|\u001b[31m██████████\u001b[0m| 39/39 [00:00<00:00, 2309.21it/s]\n",
      "Processing segments for PINA_20220501_090300.wav...: 100%|\u001b[31m██████████\u001b[0m| 39/39 [00:00<00:00, 2073.65it/s]\n",
      "Processing segments for PINA_20220506_073000.wav...: 100%|\u001b[31m██████████\u001b[0m| 39/39 [00:00<00:00, 2321.08it/s]\n",
      "Processing segments for PINA_20220601_075400.wav...: 100%|\u001b[31m██████████\u001b[0m| 39/39 [00:00<00:00, 2299.12it/s]\n",
      "Processing segments for PINA_20220603_082900.wav...: 100%|\u001b[31m██████████\u001b[0m| 38/38 [00:00<00:00, 2276.94it/s]\n",
      "Processing segments for PINA_20220502_090100.wav...: 100%|\u001b[31m██████████\u001b[0m| 39/39 [00:00<00:00, 2238.25it/s]\n",
      "Processing segments for PINA_20220603_085300.wav...: 100%|\u001b[31m██████████\u001b[0m| 39/39 [00:00<00:00, 2206.19it/s]\n",
      "Processing segments for COU_20220623_130902.wav...: 100%|\u001b[31m██████████\u001b[0m| 39/39 [00:00<00:00, 3269.79it/s]\n",
      "Processing segments for COU_20220603_064802.wav...: 100%|\u001b[31m██████████\u001b[0m| 39/39 [00:00<00:00, 3987.47it/s]\n",
      "Processing segments for COU_20220628_070602.wav...: 100%|\u001b[31m██████████\u001b[0m| 39/39 [00:00<00:00, 3461.16it/s]\n",
      "Processing segments for COU_20220629_064602.wav...: 100%|\u001b[31m██████████\u001b[0m| 39/39 [00:00<00:00, 3281.40it/s]\n",
      "Processing segments for COU_20220623_070902.wav...: 100%|\u001b[31m██████████\u001b[0m| 39/39 [00:00<00:00, 3575.71it/s]\n",
      "Processing segments for OLIV_20201202_083009.wav...: 100%|\u001b[31m██████████\u001b[0m| 38/38 [00:00<00:00, 2984.54it/s]\n",
      "Processing segments for POZO_20230601_073000.wav...: 100%|\u001b[31m██████████\u001b[0m| 39/39 [00:00<00:00, 2818.02it/s]\n",
      "Processing segments for POZO_20230531_062000.wav...: 100%|\u001b[31m██████████\u001b[0m| 39/39 [00:00<00:00, 2755.60it/s]\n",
      "Processing segments for POZO_20230601_060000.wav...: 100%|\u001b[31m██████████\u001b[0m| 39/39 [00:00<00:00, 2736.29it/s]\n",
      "Processing segments for VIL_20230505_070100.wav...: 100%|\u001b[31m██████████\u001b[0m| 39/39 [00:00<00:00, 4470.93it/s]\n",
      "Processing segments for VIL_20230505_071100.wav...: 100%|\u001b[31m██████████\u001b[0m| 39/39 [00:00<00:00, 3607.25it/s]\n",
      "Processing segments for VIL_20230507_070700.wav...: 100%|\u001b[31m██████████\u001b[0m| 39/39 [00:00<00:00, 3924.90it/s]\n",
      "Processing segments for VIL_20230509_071100.wav...: 100%|\u001b[31m██████████\u001b[0m| 39/39 [00:00<00:00, 3602.80it/s]\n",
      "Processing segments for VIL_20230505_070900.wav...: 100%|\u001b[31m██████████\u001b[0m| 38/38 [00:00<00:00, 3825.54it/s]\n",
      "Processing segments for VIL_20230509_070200.wav...: 100%|\u001b[31m██████████\u001b[0m| 39/39 [00:00<00:00, 4467.51it/s]\n",
      "Processing segments for VIL_20230506_071000.wav...: 100%|\u001b[31m██████████\u001b[0m| 39/39 [00:00<00:00, 4016.25it/s]\n",
      "Processing segments for VIL_20230507_070000.wav...: 100%|\u001b[31m██████████\u001b[0m| 38/38 [00:00<00:00, 4233.41it/s]\n",
      "Processing segments for VIL_20230506_070000.wav...: 100%|\u001b[31m██████████\u001b[0m| 39/39 [00:00<00:00, 4350.47it/s]\n",
      "Processing segments for VIL_20230505_070600.wav...: 100%|\u001b[31m██████████\u001b[0m| 39/39 [00:00<00:00, 4440.83it/s]\n",
      "Processing segments for VIL_20230506_070600.wav...: 100%|\u001b[31m██████████\u001b[0m| 39/39 [00:00<00:00, 4318.20it/s]\n",
      "Processing segments for VIL_20230509_071000.wav...: 100%|\u001b[31m██████████\u001b[0m| 39/39 [00:00<00:00, 4279.79it/s]\n",
      "Processing segments for VIL_20230509_070800.wav...: 100%|\u001b[31m██████████\u001b[0m| 39/39 [00:00<00:00, 4127.31it/s]\n",
      "Processing segments for VIL_20230505_071000.wav...: 100%|\u001b[31m██████████\u001b[0m| 39/39 [00:00<00:00, 3977.48it/s]\n",
      "Processing segments for VIL_20230506_070400.wav...: 100%|\u001b[31m██████████\u001b[0m| 39/39 [00:00<00:00, 4045.05it/s]\n",
      "Processing segments for VIL_20230509_070000.wav...: 100%|\u001b[31m██████████\u001b[0m| 39/39 [00:00<00:00, 4551.54it/s]\n",
      "Processing segments for VIL_20230506_070700.wav...: 100%|\u001b[31m██████████\u001b[0m| 39/39 [00:00<00:00, 4309.56it/s]\n",
      "Processing segments for VIL_20230505_070700.wav...: 100%|\u001b[31m██████████\u001b[0m| 39/39 [00:00<00:00, 3691.59it/s]\n",
      "Processing segments for VIL_20230509_070700.wav...: 100%|\u001b[31m██████████\u001b[0m| 39/39 [00:00<00:00, 3940.88it/s]\n",
      "Processing segments for VIL_20230508_070800.wav...: 100%|\u001b[31m██████████\u001b[0m| 39/39 [00:00<00:00, 4301.62it/s]\n",
      "Processing segments for VIL_20230508_071100.wav...: 100%|\u001b[31m██████████\u001b[0m| 39/39 [00:00<00:00, 4323.45it/s]\n",
      "Processing segments for VIL_20230507_070600.wav...: 100%|\u001b[31m██████████\u001b[0m| 39/39 [00:00<00:00, 3598.68it/s]\n",
      "Processing segments for VIL_20230506_071100.wav...: 100%|\u001b[31m██████████\u001b[0m| 39/39 [00:00<00:00, 4322.20it/s]\n",
      "Processing segments for VIL_20230506_070900.wav...: 100%|\u001b[31m██████████\u001b[0m| 39/39 [00:00<00:00, 4576.88it/s]\n",
      "Processing segments for VIL_20230508_070500.wav...: 100%|\u001b[31m██████████\u001b[0m| 39/39 [00:00<00:00, 4364.64it/s]\n",
      "Processing segments for VIL_20230506_070200.wav...: 100%|\u001b[31m██████████\u001b[0m| 39/39 [00:00<00:00, 4386.88it/s]\n",
      "Processing segments for VIL_20230506_070100.wav...: 100%|\u001b[31m██████████\u001b[0m| 39/39 [00:00<00:00, 4465.80it/s]\n",
      "Processing segments for VIL_20230509_070900.wav...: 100%|\u001b[31m██████████\u001b[0m| 39/39 [00:00<00:00, 4074.37it/s]\n",
      "Processing segments for VIL_20230509_070300.wav...: 100%|\u001b[31m██████████\u001b[0m| 39/39 [00:00<00:00, 3885.83it/s]\n",
      "Processing segments for VIL_20230507_070300.wav...: 100%|\u001b[31m██████████\u001b[0m| 39/39 [00:00<00:00, 4234.59it/s]\n",
      "Processing segments for VIL_20230505_070000.wav...: 100%|\u001b[31m██████████\u001b[0m| 39/39 [00:00<00:00, 3718.27it/s]\n",
      "Processing segments for CLH_20230506_051800.wav...: 100%|\u001b[31m██████████\u001b[0m| 39/39 [00:00<00:00, 710.29it/s]\n",
      "Processing segments for CLH_20230505_212000.wav...: 100%|\u001b[31m██████████\u001b[0m| 39/39 [00:00<00:00, 719.18it/s]\n",
      "Processing segments for CLH_20230506_055000.wav...: 100%|\u001b[31m██████████\u001b[0m| 39/39 [00:00<00:00, 701.56it/s]\n",
      "Processing segments for CLH_20230506_052200.wav...: 100%|\u001b[31m██████████\u001b[0m| 39/39 [00:00<00:00, 791.84it/s]\n",
      "Processing segments for CLH_20230505_212600.wav...: 100%|\u001b[31m██████████\u001b[0m| 39/39 [00:00<00:00, 705.83it/s]\n",
      "Processing segments for CLH_20230506_052000.wav...: 100%|\u001b[31m██████████\u001b[0m| 39/39 [00:00<00:00, 788.57it/s]\n",
      "Processing segments for CLH_20230506_051000.wav...: 100%|\u001b[31m██████████\u001b[0m| 39/39 [00:00<00:00, 716.67it/s]\n",
      "Processing segments for CLH_20230505_212200.wav...: 100%|\u001b[31m██████████\u001b[0m| 39/39 [00:00<00:00, 799.74it/s]\n",
      "Processing segments for CLH_20230505_212400.wav...: 100%|\u001b[31m██████████\u001b[0m| 39/39 [00:00<00:00, 686.39it/s]\n",
      "Processing segments for CLH_20230505_212100.wav...: 100%|\u001b[31m██████████\u001b[0m| 39/39 [00:00<00:00, 786.78it/s]\n",
      "Processing segments for CLH_20230506_051600.wav...: 100%|\u001b[31m██████████\u001b[0m| 39/39 [00:00<00:00, 696.29it/s]\n",
      "Processing segments for CLH_20230505_211400.wav...: 100%|\u001b[31m██████████\u001b[0m| 39/39 [00:00<00:00, 776.00it/s]\n",
      "Processing segments for CLH_20230505_211700.wav...: 100%|\u001b[31m██████████\u001b[0m| 39/39 [00:00<00:00, 714.56it/s]\n",
      "Processing segments for CLH_20230506_051400.wav...: 100%|\u001b[31m██████████\u001b[0m| 39/39 [00:00<00:00, 794.53it/s]\n",
      "Processing segments for CLH_20230505_211900.wav...: 100%|\u001b[31m██████████\u001b[0m| 39/39 [00:00<00:00, 701.87it/s]\n",
      "Processing segments for CLH_20230507_051500.wav...: 100%|\u001b[31m██████████\u001b[0m| 39/39 [00:00<00:00, 788.41it/s]\n",
      "Processing segments for CLH_20230506_051300.wav...: 100%|\u001b[31m██████████\u001b[0m| 39/39 [00:00<00:00, 690.53it/s]\n",
      "Processing segments for CLH_20230506_050100.wav...: 100%|\u001b[31m██████████\u001b[0m| 39/39 [00:00<00:00, 793.04it/s]\n",
      "Processing segments for CLH_20230505_212700.wav...: 100%|\u001b[31m██████████\u001b[0m| 39/39 [00:00<00:00, 708.82it/s]\n",
      "Processing segments for CLH_20230505_211600.wav...: 100%|\u001b[31m██████████\u001b[0m| 39/39 [00:00<00:00, 808.63it/s]\n",
      "Processing segments for CLH_20230506_050800.wav...: 100%|\u001b[31m██████████\u001b[0m| 39/39 [00:00<00:00, 701.02it/s]\n",
      "Processing segments for CLH_20230505_211800.wav...: 100%|\u001b[31m██████████\u001b[0m| 39/39 [00:00<00:00, 790.82it/s]\n",
      "Processing segments for CLH_20230506_050400.wav...: 100%|\u001b[31m██████████\u001b[0m| 39/39 [00:00<00:00, 680.74it/s]\n",
      "Processing segments for CLH_20230507_050100.wav...: 100%|\u001b[31m██████████\u001b[0m| 39/39 [00:00<00:00, 791.30it/s]\n",
      "Processing segments for CLH_20230506_050700.wav...: 100%|\u001b[31m██████████\u001b[0m| 39/39 [00:00<00:00, 682.87it/s]\n",
      "Processing segments for CLH_20230506_050600.wav...: 100%|\u001b[31m██████████\u001b[0m| 39/39 [00:00<00:00, 815.71it/s]\n",
      "Processing segments for CLH_20230506_051200.wav...: 100%|\u001b[31m██████████\u001b[0m| 39/39 [00:00<00:00, 673.83it/s]\n",
      "Processing segments for CLH_20230506_050500.wav...: 100%|\u001b[31m██████████\u001b[0m| 39/39 [00:00<00:00, 815.52it/s]\n",
      "Processing segments for CLH_20230505_212500.wav...: 100%|\u001b[31m██████████\u001b[0m| 39/39 [00:00<00:00, 680.64it/s]\n",
      "Processing segments for CLH_20230506_053200.wav...: 100%|\u001b[31m██████████\u001b[0m| 39/39 [00:00<00:00, 806.47it/s]\n",
      "Processing segments for CLH_20230506_050300.wav...: 100%|\u001b[31m██████████\u001b[0m| 39/39 [00:00<00:00, 665.07it/s]\n",
      "Processing segments for CLH_20230506_050900.wav...: 100%|\u001b[31m██████████\u001b[0m| 39/39 [00:00<00:00, 820.51it/s]\n",
      "Processing segments for CLH_20230506_051500.wav...: 100%|\u001b[31m██████████\u001b[0m| 39/39 [00:00<00:00, 671.93it/s]\n",
      "Processing segments for CLH_20230506_054000.wav...: 100%|\u001b[31m██████████\u001b[0m| 39/39 [00:00<00:00, 819.01it/s]\n",
      "Processing segments for CLH_20230506_052800.wav...: 100%|\u001b[31m██████████\u001b[0m| 39/39 [00:00<00:00, 661.02it/s]\n",
      "Processing segments for CLH_20230506_052300.wav...: 100%|\u001b[31m██████████\u001b[0m| 39/39 [00:00<00:00, 802.45it/s]\n",
      "Processing segments for CLH_20230506_050200.wav...: 100%|\u001b[31m██████████\u001b[0m| 39/39 [00:00<00:00, 671.41it/s]\n",
      "Processing segments for CLH_20231126_073600.wav...: 100%|\u001b[31m██████████\u001b[0m| 39/39 [00:00<00:00, 2330.60it/s]\n",
      "Processing segments for DYOM_20230511_060702.wav...: 100%|\u001b[31m██████████\u001b[0m| 37/37 [00:00<00:00, 2313.70it/s]\n",
      "Processing segments for DYOM_20230508_061102.wav...: 100%|\u001b[31m██████████\u001b[0m| 37/37 [00:00<00:00, 2000.53it/s]\n",
      "Processing segments for DYOM_20230511_061602.wav...: 100%|\u001b[31m██████████\u001b[0m| 37/37 [00:00<00:00, 2239.00it/s]\n",
      "Processing segments for DYOM_20230507_061502.wav...: 100%|\u001b[31m██████████\u001b[0m| 37/37 [00:00<00:00, 2334.83it/s]\n",
      "Processing segments for DYOM_20230507_070402.wav...: 100%|\u001b[31m██████████\u001b[0m| 37/37 [00:00<00:00, 2551.53it/s]\n",
      "Processing segments for DYOM_20230508_060000.wav...: 100%|\u001b[31m██████████\u001b[0m| 39/39 [00:00<00:00, 2003.43it/s]\n",
      "Processing segments for DYOM_20230507_072302.wav...: 100%|\u001b[31m██████████\u001b[0m| 37/37 [00:00<00:00, 1696.02it/s]\n",
      "Processing segments for DYOM_20230508_062202.wav...: 100%|\u001b[31m██████████\u001b[0m| 37/37 [00:00<00:00, 2444.23it/s]\n",
      "Processing segments for DYOM_20230507_072202.wav...: 100%|\u001b[31m██████████\u001b[0m| 37/37 [00:00<00:00, 2004.25it/s]\n",
      "Processing segments for DYOM_20230507_071302.wav...: 100%|\u001b[31m██████████\u001b[0m| 37/37 [00:00<00:00, 2463.91it/s]\n",
      "Processing segments for DYOM_20230508_060802.wav...: 100%|\u001b[31m██████████\u001b[0m| 37/37 [00:00<00:00, 2346.91it/s]\n",
      "Processing segments for DYOM_20230507_062502.wav...: 100%|\u001b[31m██████████\u001b[0m| 37/37 [00:00<00:00, 1848.77it/s]\n",
      "Processing segments for DYOM_20230508_080902.wav...: 100%|\u001b[31m██████████\u001b[0m| 37/37 [00:00<00:00, 1636.67it/s]\n",
      "Processing segments for DYOM_20230510_060202.wav...: 100%|\u001b[31m██████████\u001b[0m| 37/37 [00:00<00:00, 2469.91it/s]\n",
      "Processing segments for DYOM_20230507_070302.wav...: 100%|\u001b[31m██████████\u001b[0m| 37/37 [00:00<00:00, 2476.92it/s]\n",
      "Processing segments for DYOM_20230507_071602.wav...: 100%|\u001b[31m██████████\u001b[0m| 37/37 [00:00<00:00, 1853.05it/s]\n",
      "Processing segments for DYOM_20230509_061602.wav...: 100%|\u001b[31m██████████\u001b[0m| 37/37 [00:00<00:00, 2175.53it/s]\n",
      "Processing segments for DYOM_20230507_071202.wav...: 100%|\u001b[31m██████████\u001b[0m| 37/37 [00:00<00:00, 2497.86it/s]\n",
      "Processing segments for DYOM_20230508_062402.wav...: 100%|\u001b[31m██████████\u001b[0m| 37/37 [00:00<00:00, 2274.24it/s]\n",
      "Processing segments for DYOM_20230507_060702.wav...: 100%|\u001b[31m██████████\u001b[0m| 37/37 [00:00<00:00, 2479.42it/s]\n",
      "Processing segments for DYOM_20230507_060102.wav...: 100%|\u001b[31m██████████\u001b[0m| 37/37 [00:00<00:00, 1565.34it/s]\n",
      "Processing segments for DYOM_20230509_060302.wav...: 100%|\u001b[31m██████████\u001b[0m| 37/37 [00:00<00:00, 2070.87it/s]\n",
      "Processing segments for DYOM_20230507_062102.wav...: 100%|\u001b[31m██████████\u001b[0m| 37/37 [00:00<00:00, 1574.58it/s]\n",
      "Processing segments for DYOM_20230507_072102.wav...: 100%|\u001b[31m██████████\u001b[0m| 37/37 [00:00<00:00, 1900.99it/s]\n",
      "Processing segments for DYOM_20230507_060402.wav...: 100%|\u001b[31m██████████\u001b[0m| 37/37 [00:00<00:00, 2300.94it/s]\n",
      "Processing segments for DYOM_20230506_070000.wav...: 100%|\u001b[31m██████████\u001b[0m| 39/39 [00:00<00:00, 1701.51it/s]\n",
      "Processing segments for DYOM_20230512_060402.wav...: 100%|\u001b[31m██████████\u001b[0m| 37/37 [00:00<00:00, 2400.64it/s]\n",
      "Processing segments for DYOM_20230507_060302.wav...: 100%|\u001b[31m██████████\u001b[0m| 37/37 [00:00<00:00, 2279.85it/s]\n",
      "Processing segments for DYOM_20230507_061202.wav...: 100%|\u001b[31m██████████\u001b[0m| 37/37 [00:00<00:00, 1954.84it/s]\n",
      "Processing segments for DYOM_20230508_060902.wav...: 100%|\u001b[31m██████████\u001b[0m| 37/37 [00:00<00:00, 2284.08it/s]\n",
      "Processing segments for DYOM_20230511_060102.wav...: 100%|\u001b[31m██████████\u001b[0m| 37/37 [00:00<00:00, 2382.07it/s]\n",
      "Processing segments for DYOM_20230512_060702.wav...: 100%|\u001b[31m██████████\u001b[0m| 37/37 [00:00<00:00, 2457.43it/s]\n",
      "Processing segments for DYOM_20230508_070302.wav...: 100%|\u001b[31m██████████\u001b[0m| 37/37 [00:00<00:00, 2219.34it/s]\n",
      "Processing segments for DYOM_20230509_061502.wav...: 100%|\u001b[31m██████████\u001b[0m| 37/37 [00:00<00:00, 2041.59it/s]\n",
      "Processing segments for DYOM_20230507_061102.wav...: 100%|\u001b[31m██████████\u001b[0m| 37/37 [00:00<00:00, 2506.04it/s]\n",
      "Processing segments for DYOM_20230507_061302.wav...: 100%|\u001b[31m██████████\u001b[0m| 37/37 [00:00<00:00, 1816.29it/s]\n",
      "Processing segments for DYOM_20230507_062602.wav...: 100%|\u001b[31m██████████\u001b[0m| 37/37 [00:00<00:00, 1703.35it/s]\n",
      "Processing segments for DYOM_20230506_062902.wav...: 100%|\u001b[31m██████████\u001b[0m| 37/37 [00:00<00:00, 2311.26it/s]\n",
      "Processing segments for DYOM_20230508_061002.wav...: 100%|\u001b[31m██████████\u001b[0m| 37/37 [00:00<00:00, 2220.70it/s]\n",
      "Processing segments for DYOM_20230507_070702.wav...: 100%|\u001b[31m██████████\u001b[0m| 37/37 [00:00<00:00, 2522.62it/s]\n",
      "Processing segments for DYOM_20230507_070602.wav...: 100%|\u001b[31m██████████\u001b[0m| 37/37 [00:00<00:00, 2487.80it/s]\n",
      "Processing segments for DYOM_20230507_060502.wav...: 100%|\u001b[31m██████████\u001b[0m| 37/37 [00:00<00:00, 2036.71it/s]\n",
      "Processing segments for DYOM_20230507_062902.wav...: 100%|\u001b[31m██████████\u001b[0m| 37/37 [00:00<00:00, 2225.73it/s]\n",
      "Processing segments for DYOM_20230507_061802.wav...: 100%|\u001b[31m██████████\u001b[0m| 37/37 [00:00<00:00, 1636.62it/s]\n",
      "Processing segments for DYOM_20230507_062802.wav...: 100%|\u001b[31m██████████\u001b[0m| 37/37 [00:00<00:00, 1887.26it/s]\n",
      "Processing segments for DYOM_20230507_070102.wav...: 100%|\u001b[31m██████████\u001b[0m| 37/37 [00:00<00:00, 2450.76it/s]\n",
      "Processing segments for DYOM_20230507_082602.wav...: 100%|\u001b[31m██████████\u001b[0m| 37/37 [00:00<00:00, 2433.50it/s]\n",
      "Processing segments for DYOM_20230508_060702.wav...: 100%|\u001b[31m██████████\u001b[0m| 37/37 [00:00<00:00, 2358.07it/s]\n",
      "Processing segments for DYOM_20230509_060000.wav...: 100%|\u001b[31m██████████\u001b[0m| 39/39 [00:00<00:00, 1521.05it/s]\n",
      "Processing segments for DYOM_20230508_061702.wav...: 100%|\u001b[31m██████████\u001b[0m| 37/37 [00:00<00:00, 2323.82it/s]\n",
      "Processing segments for DYOM_20230507_062402.wav...: 100%|\u001b[31m██████████\u001b[0m| 37/37 [00:00<00:00, 1750.01it/s]\n",
      "Processing segments for DYOM_20230506_062702.wav...: 100%|\u001b[31m██████████\u001b[0m| 37/37 [00:00<00:00, 1792.42it/s]\n",
      "Processing segments for DYOM_20230506_070102.wav...: 100%|\u001b[31m██████████\u001b[0m| 37/37 [00:00<00:00, 1524.21it/s]\n",
      "Processing segments for DYOM_20230509_060102.wav...: 100%|\u001b[31m██████████\u001b[0m| 37/37 [00:00<00:00, 1656.91it/s]\n",
      "Processing segments for DYOM_20230508_072502.wav...: 100%|\u001b[31m██████████\u001b[0m| 37/37 [00:00<00:00, 2456.61it/s]\n",
      "Processing segments for DYOM_20230508_060402.wav...: 100%|\u001b[31m██████████\u001b[0m| 37/37 [00:00<00:00, 2428.97it/s]\n",
      "Processing segments for DYOM_20230507_061702.wav...: 100%|\u001b[31m██████████\u001b[0m| 37/37 [00:00<00:00, 1570.31it/s]\n",
      "Processing segments for DYOM_20230507_060000.wav...: 100%|\u001b[31m██████████\u001b[0m| 39/39 [00:00<00:00, 1963.91it/s]\n",
      "Processing segments for DYOM_20230507_062202.wav...: 100%|\u001b[31m██████████\u001b[0m| 37/37 [00:00<00:00, 1648.91it/s]\n",
      "Processing segments for DYOM_20230507_060202.wav...: 100%|\u001b[31m██████████\u001b[0m| 37/37 [00:00<00:00, 2033.56it/s]\n",
      "Processing segments for DYOM_20230506_081102.wav...: 100%|\u001b[31m██████████\u001b[0m| 37/37 [00:00<00:00, 2390.73it/s]\n",
      "Processing segments for DYOM_20230512_061002.wav...: 100%|\u001b[31m██████████\u001b[0m| 37/37 [00:00<00:00, 2058.05it/s]\n",
      "Processing segments for GLEN_20230520_060005.wav...: 100%|\u001b[31m██████████\u001b[0m| 39/39 [00:00<00:00, 3227.92it/s]\n",
      "Processing segments for GLEN_20230422_060004.wav...: 100%|\u001b[31m██████████\u001b[0m| 39/39 [00:00<00:00, 2945.54it/s]\n",
      "Processing segments for GLEN_20230424_060001.wav...: 100%|\u001b[31m██████████\u001b[0m| 39/39 [00:00<00:00, 3304.60it/s]\n",
      "Processing segments for GLEN_20230505_060001.wav...: 100%|\u001b[31m██████████\u001b[0m| 38/38 [00:00<00:00, 3308.84it/s]\n",
      "Processing segments for GLEN_20230507_060005.wav...: 100%|\u001b[31m██████████\u001b[0m| 38/38 [00:00<00:00, 3334.24it/s]\n",
      "Processing segments for GLEN_20230418_050005.wav...: 100%|\u001b[31m██████████\u001b[0m| 39/39 [00:00<00:00, 3436.65it/s]\n",
      "Processing segments for GLEN_20230518_060004.wav...: 100%|\u001b[31m██████████\u001b[0m| 38/38 [00:00<00:00, 3227.43it/s]\n",
      "Processing segments for GLEN_20230509_060001.wav...: 100%|\u001b[31m██████████\u001b[0m| 38/38 [00:00<00:00, 3361.74it/s]\n",
      "Processing segments for GLEN_20230426_050001.wav...: 100%|\u001b[31m██████████\u001b[0m| 39/39 [00:00<00:00, 3472.92it/s]\n",
      "Processing segments for GLEN_20230418_050004.wav...: 100%|\u001b[31m██████████\u001b[0m| 39/39 [00:00<00:00, 3414.77it/s]\n",
      "Processing segments for GLEN_20230425_050004.wav...: 100%|\u001b[31m██████████\u001b[0m| 39/39 [00:00<00:00, 3309.08it/s]\n",
      "Processing segments for GLEN_20230422_060002.wav...: 100%|\u001b[31m██████████\u001b[0m| 39/39 [00:00<00:00, 3234.75it/s]\n",
      "Processing segments for GLEN_20230418_050003.wav...: 100%|\u001b[31m██████████\u001b[0m| 39/39 [00:00<00:00, 3303.07it/s]\n",
      "Processing segments for MONTEB_20230512_070000.wav...: 100%|\u001b[31m██████████\u001b[0m| 39/39 [00:00<00:00, 292.56it/s]\n",
      "Processing segments for HAR_20220612_065451.wav...: 100%|\u001b[31m██████████\u001b[0m| 39/39 [00:00<00:00, 3832.30it/s]\n",
      "Processing segments for HAR_20220613_130702.wav...: 100%|\u001b[31m██████████\u001b[0m| 39/39 [00:00<00:00, 3875.89it/s]\n",
      "Processing segments for HAR_20220613_070702.wav...: 100%|\u001b[31m██████████\u001b[0m| 39/39 [00:00<00:00, 4192.91it/s]\n",
      "Processing segments for HAR_20220615_070702.wav...: 100%|\u001b[31m██████████\u001b[0m| 39/39 [00:00<00:00, 4217.45it/s]\n",
      "Processing segments for HAR_20220707_070902.wav...: 100%|\u001b[31m██████████\u001b[0m| 39/39 [00:00<00:00, 3940.78it/s]\n",
      "Processing segments for HAR_20220523_064702.wav...: 100%|\u001b[31m██████████\u001b[0m| 39/39 [00:00<00:00, 4119.52it/s]\n",
      "Processing segments for HAR_20220615_130702.wav...: 100%|\u001b[31m██████████\u001b[0m| 39/39 [00:00<00:00, 3999.75it/s]\n",
      "Processing segments for HAR_20220522_065402.wav...: 100%|\u001b[31m██████████\u001b[0m| 39/39 [00:00<00:00, 3965.62it/s]\n",
      "Processing segments for HAR_20220523_125702.wav...: 100%|\u001b[31m██████████\u001b[0m| 39/39 [00:00<00:00, 4010.34it/s]\n",
      "Processing segments for HAR_20220523_065702.wav...: 100%|\u001b[31m██████████\u001b[0m| 39/39 [00:00<00:00, 3959.48it/s]\n",
      "Processing segments for CAT_20210304_064000.wav...: 100%|\u001b[31m██████████\u001b[0m| 39/39 [00:00<00:00, 2568.99it/s]\n",
      "Processing segments for CAT_20210304_065200.wav...: 100%|\u001b[31m██████████\u001b[0m| 39/39 [00:00<00:00, 2616.24it/s]\n",
      "Processing segments for CAT_20210304_065300.wav...: 100%|\u001b[31m██████████\u001b[0m| 39/39 [00:00<00:00, 2662.23it/s]\n",
      "Processing segments for CAT_20210304_065800.wav...: 100%|\u001b[31m██████████\u001b[0m| 39/39 [00:00<00:00, 2620.18it/s]\n",
      "Processing segments for CAT_20210304_070100.wav...: 100%|\u001b[31m██████████\u001b[0m| 39/39 [00:00<00:00, 2681.56it/s]\n",
      "Processing segments for CAT_20210304_063800.wav...: 100%|\u001b[31m██████████\u001b[0m| 39/39 [00:00<00:00, 2656.52it/s]\n",
      "Processing segments for CAT_20210304_064500.wav...: 100%|\u001b[31m██████████\u001b[0m| 39/39 [00:00<00:00, 2586.01it/s]\n",
      "Processing segments for CAT_20210304_063000.wav...: 100%|\u001b[31m██████████\u001b[0m| 39/39 [00:00<00:00, 2578.67it/s]\n",
      "Processing segments for CAT_20210304_065100.wav...: 100%|\u001b[31m██████████\u001b[0m| 39/39 [00:00<00:00, 2517.40it/s]\n",
      "Processing segments for CAT_20210304_070200.wav...: 100%|\u001b[31m██████████\u001b[0m| 39/39 [00:00<00:00, 2593.84it/s]\n",
      "Processing segments for CAT_20210304_063900.wav...: 100%|\u001b[31m██████████\u001b[0m| 39/39 [00:00<00:00, 2602.22it/s]\n",
      "Processing segments for CAT_20210304_063300.wav...: 100%|\u001b[31m██████████\u001b[0m| 39/39 [00:00<00:00, 2592.19it/s]\n",
      "Processing segments for CAT_20210304_063200.wav...: 100%|\u001b[31m██████████\u001b[0m| 39/39 [00:00<00:00, 2539.56it/s]\n",
      "Processing segments for CAT_20210304_064400.wav...: 100%|\u001b[31m██████████\u001b[0m| 39/39 [00:00<00:00, 2434.19it/s]\n",
      "Processing segments for CAT_20210304_070700.wav...: 100%|\u001b[31m██████████\u001b[0m| 39/39 [00:00<00:00, 2624.81it/s]\n",
      "Processing segments for CAT_20210304_065500.wav...: 100%|\u001b[31m██████████\u001b[0m| 39/39 [00:00<00:00, 2563.92it/s]\n",
      "Processing segments for CAT_20210304_065000.wav...: 100%|\u001b[31m██████████\u001b[0m| 39/39 [00:00<00:00, 2562.55it/s]\n",
      "Processing segments for CAT_20210304_070600.wav...: 100%|\u001b[31m██████████\u001b[0m| 39/39 [00:00<00:00, 2547.19it/s]\n",
      "Processing segments for CAT_20210304_070500.wav...: 100%|\u001b[31m██████████\u001b[0m| 39/39 [00:00<00:00, 2576.19it/s]\n",
      "Processing segments for CAT_20210304_064600.wav...: 100%|\u001b[31m██████████\u001b[0m| 39/39 [00:00<00:00, 2503.87it/s]\n",
      "Processing segments for CAT_20210304_063400.wav...: 100%|\u001b[31m██████████\u001b[0m| 39/39 [00:00<00:00, 2645.91it/s]\n",
      "Processing segments for CAT_20210304_064100.wav...: 100%|\u001b[31m██████████\u001b[0m| 39/39 [00:00<00:00, 2665.57it/s]\n",
      "Processing segments for CAT_20210304_064200.wav...: 100%|\u001b[31m██████████\u001b[0m| 39/39 [00:00<00:00, 2301.87it/s]\n",
      "Processing segments for CAT_20210304_065600.wav...: 100%|\u001b[31m██████████\u001b[0m| 39/39 [00:00<00:00, 2407.61it/s]\n",
      "Processing segments for CAT_20210304_072300.wav...: 100%|\u001b[31m██████████\u001b[0m| 39/39 [00:00<00:00, 2475.56it/s]\n",
      "Processing segments for CAT_20210304_063500.wav...: 100%|\u001b[31m██████████\u001b[0m| 39/39 [00:00<00:00, 2657.73it/s]\n",
      "Processing segments for CAT_20210304_070800.wav...: 100%|\u001b[31m██████████\u001b[0m| 39/39 [00:00<00:00, 2454.83it/s]\n",
      "Processing segments for CAT_20210304_064300.wav...: 100%|\u001b[31m██████████\u001b[0m| 39/39 [00:00<00:00, 2384.86it/s]\n",
      "Processing segments for CAT_20210304_063700.wav...: 100%|\u001b[31m██████████\u001b[0m| 39/39 [00:00<00:00, 2313.82it/s]\n",
      "Processing segments for CAT_20210304_065900.wav...: 100%|\u001b[31m██████████\u001b[0m| 39/39 [00:00<00:00, 2504.79it/s]\n",
      "Processing segments for CAT_20210304_070300.wav...: 100%|\u001b[31m██████████\u001b[0m| 39/39 [00:00<00:00, 2657.56it/s]\n",
      "Processing segments for CAT_20210304_072500.wav...: 100%|\u001b[31m██████████\u001b[0m| 39/39 [00:00<00:00, 2576.11it/s]\n",
      "Processing segments for CAT_20210304_063100.wav...: 100%|\u001b[31m██████████\u001b[0m| 39/39 [00:00<00:00, 2703.77it/s]\n",
      "Processing segments for CAT_20210304_072200.wav...: 100%|\u001b[31m██████████\u001b[0m| 39/39 [00:00<00:00, 2584.01it/s]\n",
      "Processing segments for CAT_20210304_064700.wav...: 100%|\u001b[31m██████████\u001b[0m| 39/39 [00:00<00:00, 2666.13it/s]\n",
      "Processing segments for CAT_20210304_065400.wav...: 100%|\u001b[31m██████████\u001b[0m| 39/39 [00:00<00:00, 2652.43it/s]\n",
      "Processing segments for CAT_20210304_070000.wav...: 100%|\u001b[31m██████████\u001b[0m| 39/39 [00:00<00:00, 2312.48it/s]\n",
      "Processing segments for CAT_20210304_064900.wav...: 100%|\u001b[31m██████████\u001b[0m| 39/39 [00:00<00:00, 2587.97it/s]\n",
      "Processing segments for CAT_20210304_065700.wav...: 100%|\u001b[31m██████████\u001b[0m| 39/39 [00:00<00:00, 2462.59it/s]\n",
      "Processing segments for CAT_20210304_064800.wav...: 100%|\u001b[31m██████████\u001b[0m| 39/39 [00:00<00:00, 2523.26it/s]\n",
      "Processing segments for CAT_20210304_063600.wav...: 100%|\u001b[31m██████████\u001b[0m| 39/39 [00:00<00:00, 2637.50it/s]\n",
      "Processing segments for ROTOK_20170228_123901.wav...: 100%|\u001b[31m██████████\u001b[0m| 39/39 [00:00<00:00, 1452.61it/s]\n",
      "Processing segments for ROTOK_20170403_092201.wav...: 100%|\u001b[31m██████████\u001b[0m| 39/39 [00:00<00:00, 1482.77it/s]\n",
      "Processing segments for ROTOK_20170406_105101.wav...: 100%|\u001b[31m██████████\u001b[0m| 39/39 [00:00<00:00, 1523.14it/s]\n",
      "Processing segments for ROTOK_20170402_081601.wav...: 100%|\u001b[31m██████████\u001b[0m| 39/39 [00:00<00:00, 1464.61it/s]\n",
      "Processing segments for ROTOK_20170406_133301.wav...: 100%|\u001b[31m██████████\u001b[0m| 39/39 [00:00<00:00, 1560.01it/s]\n",
      "Processing segments for ROTOK_20170124_104101.wav...: 100%|\u001b[31m██████████\u001b[0m| 39/39 [00:00<00:00, 1495.24it/s]\n",
      "Processing segments for ROTOK_20170406_115201.wav...: 100%|\u001b[31m██████████\u001b[0m| 39/39 [00:00<00:00, 1468.41it/s]\n",
      "Processing segments for ROTOK_20170406_085101.wav...: 100%|\u001b[31m██████████\u001b[0m| 39/39 [00:00<00:00, 1540.43it/s]\n",
      "Processing segments for ROTOK_20170303_100101.wav...: 100%|\u001b[31m██████████\u001b[0m| 39/39 [00:00<00:00, 1559.19it/s]\n",
      "Processing segments for ROTOK_20170302_122301.wav...: 100%|\u001b[31m██████████\u001b[0m| 39/39 [00:00<00:00, 1528.65it/s]\n",
      "Processing segments for ROTOK_20170301_074801.wav...: 100%|\u001b[31m██████████\u001b[0m| 39/39 [00:00<00:00, 1570.42it/s]\n",
      "Processing segments for ROTOK_20170301_115801.wav...: 100%|\u001b[31m██████████\u001b[0m| 39/39 [00:00<00:00, 1559.49it/s]\n",
      "Processing segments for ROTOK_20170402_095001.wav...: 100%|\u001b[31m██████████\u001b[0m| 39/39 [00:00<00:00, 1512.06it/s]\n",
      "Processing segments for SCHF_20230609_081400.wav...: 100%|\u001b[31m██████████\u001b[0m| 39/39 [00:00<00:00, 2268.86it/s]\n",
      "Processing segments for SCHF_20230422_184110.wav...: 100%|\u001b[31m██████████\u001b[0m| 39/39 [00:00<00:00, 2560.50it/s]\n",
      "Processing segments for SCHF_20230423_071910.wav...: 100%|\u001b[31m██████████\u001b[0m| 39/39 [00:00<00:00, 2483.31it/s]\n",
      "Processing segments for SCHF_20230423_143910.wav...: 100%|\u001b[31m██████████\u001b[0m| 39/39 [00:00<00:00, 2431.66it/s]\n",
      "Processing segments for SCHF_20230423_105910.wav...: 100%|\u001b[31m██████████\u001b[0m| 39/39 [00:00<00:00, 2348.81it/s]\n",
      "Processing segments for SCHF_20230609_035000.wav...: 100%|\u001b[31m██████████\u001b[0m| 39/39 [00:00<00:00, 2361.11it/s]\n",
      "Processing segments for SCHF_20230422_194711.wav...: 100%|\u001b[31m██████████\u001b[0m| 39/39 [00:00<00:00, 2410.20it/s]\n",
      "Processing segments for SCHF_20230423_153410.wav...: 100%|\u001b[31m██████████\u001b[0m| 39/39 [00:00<00:00, 2433.72it/s]\n",
      "Processing segments for SCHF_20230423_084710.wav...: 100%|\u001b[31m██████████\u001b[0m| 39/39 [00:00<00:00, 2489.54it/s]\n",
      "Processing segments for SCHF_20230609_204200.wav...: 100%|\u001b[31m██████████\u001b[0m| 39/39 [00:00<00:00, 2419.50it/s]\n",
      "Processing segments for SCHF_20230609_060200.wav...: 100%|\u001b[31m██████████\u001b[0m| 39/39 [00:00<00:00, 2495.54it/s]\n",
      "Processing segments for SCHF_20230423_131110.wav...: 100%|\u001b[31m██████████\u001b[0m| 39/39 [00:00<00:00, 2487.38it/s]\n",
      "Processing segments for SCHF_20230423_190310.wav...: 100%|\u001b[31m██████████\u001b[0m| 39/39 [00:00<00:00, 2507.86it/s]\n",
      "Processing segments for SCHF_20230422_195810.wav...: 100%|\u001b[31m██████████\u001b[0m| 39/39 [00:00<00:00, 2439.35it/s]\n",
      "Processing segments for SCHF_20230609_051800.wav...: 100%|\u001b[31m██████████\u001b[0m| 39/39 [00:00<00:00, 2465.56it/s]\n",
      "Processing segments for SCHF_20230422_173510.wav...: 100%|\u001b[31m██████████\u001b[0m| 39/39 [00:00<00:00, 2442.88it/s]\n",
      "Processing segments for SCHF_20230609_102600.wav...: 100%|\u001b[31m██████████\u001b[0m| 39/39 [00:00<00:00, 2466.31it/s]\n",
      "Processing segments for SCHF_20230422_205310.wav...: 100%|\u001b[31m██████████\u001b[0m| 39/39 [00:00<00:00, 2358.66it/s]\n",
      "Processing segments for SCHF_20230422_101510.wav...: 100%|\u001b[31m██████████\u001b[0m| 39/39 [00:00<00:00, 2477.93it/s]\n",
      "Processing segments for SCHF_20230422_193610.wav...: 100%|\u001b[31m██████████\u001b[0m| 39/39 [00:00<00:00, 2417.93it/s]\n",
      "Processing segments for SCHF_20230609_212600.wav...: 100%|\u001b[31m██████████\u001b[0m| 39/39 [00:00<00:00, 2392.36it/s]\n",
      "Processing segments for SCHF_20230422_080310.wav...: 100%|\u001b[31m██████████\u001b[0m| 39/39 [00:00<00:00, 2488.86it/s]\n",
      "Processing segments for SCHF_20230609_073000.wav...: 100%|\u001b[31m██████████\u001b[0m| 39/39 [00:00<00:00, 2424.38it/s]\n",
      "Processing segments for SCHF_20230428_063510.wav...: 100%|\u001b[31m██████████\u001b[0m| 39/39 [00:00<00:00, 2441.06it/s]\n",
      "Processing segments for SCHF_20230609_085800.wav...: 100%|\u001b[31m██████████\u001b[0m| 39/39 [00:00<00:00, 2408.25it/s]\n",
      "Processing segments for SCHF_20230609_195800.wav...: 100%|\u001b[31m██████████\u001b[0m| 39/39 [00:00<00:00, 2422.55it/s]\n",
      "Processing segments for SCHF_20230422_203110.wav...: 100%|\u001b[31m██████████\u001b[0m| 39/39 [00:00<00:00, 2528.52it/s]\n",
      "Processing segments for SCHF_20230609_094200.wav...: 100%|\u001b[31m██████████\u001b[0m| 39/39 [00:00<00:00, 2556.02it/s]\n",
      "Processing segments for SCHF_20230609_043400.wav...: 100%|\u001b[31m██████████\u001b[0m| 39/39 [00:00<00:00, 2467.42it/s]\n",
      "Processing segments for SCHF_20230423_063510.wav...: 100%|\u001b[31m██████████\u001b[0m| 39/39 [00:00<00:00, 2310.88it/s]\n",
      "Processing segments for SCHF_20230609_064600.wav...: 100%|\u001b[31m██████████\u001b[0m| 39/39 [00:00<00:00, 2418.36it/s]\n",
      "Processing segments for SCHF_20230422_050710.wav...: 100%|\u001b[31m██████████\u001b[0m| 39/39 [00:00<00:00, 2475.19it/s]\n",
      "Processing segments for BOLIN_20230523_110000.wav...: 100%|\u001b[31m██████████\u001b[0m| 39/39 [00:00<00:00, 3488.69it/s]\n",
      "Processing segments for BOLIN_20230523_105000.wav...: 100%|\u001b[31m██████████\u001b[0m| 39/39 [00:00<00:00, 3277.46it/s]\n",
      "Processing segments for BOLIN_20230304_110000.wav...: 100%|\u001b[31m██████████\u001b[0m| 39/39 [00:00<00:00, 3243.53it/s]\n",
      "Processing segments for BOLIN_20230523_074000.wav...: 100%|\u001b[31m██████████\u001b[0m| 39/39 [00:00<00:00, 3396.69it/s]\n",
      "Processing segments for BOLIN_20230523_064000.wav...: 100%|\u001b[31m██████████\u001b[0m| 39/39 [00:00<00:00, 3303.94it/s]\n",
      "Processing segments for KAR_20210426_080010.wav...: 100%|\u001b[31m██████████\u001b[0m| 39/39 [00:00<00:00, 2442.34it/s]\n",
      "Processing segments for KAR_20210421_060002.wav...: 100%|\u001b[31m██████████\u001b[0m| 39/39 [00:00<00:00, 2401.99it/s]\n",
      "Processing segments for KAR_20210521_080001.wav...: 100%|\u001b[31m██████████\u001b[0m| 39/39 [00:00<00:00, 2406.55it/s]\n",
      "Processing segments for KAR_20210521_080005.wav...: 100%|\u001b[31m██████████\u001b[0m| 39/39 [00:00<00:00, 2443.58it/s]\n",
      "Processing segments for KAR_20210521_050006.wav...: 100%|\u001b[31m██████████\u001b[0m| 39/39 [00:00<00:00, 2382.99it/s]\n",
      "Processing segments for KAR_20210421_050002.wav...: 100%|\u001b[31m██████████\u001b[0m| 39/39 [00:00<00:00, 2491.48it/s]\n",
      "Processing segments for KAR_20210426_090002.wav...: 100%|\u001b[31m██████████\u001b[0m| 39/39 [00:00<00:00, 2492.12it/s]\n",
      "Processing segments for KAR_20210426_070000.wav...: 100%|\u001b[31m██████████\u001b[0m| 39/39 [00:00<00:00, 2515.23it/s]\n",
      "Processing segments for KAR_20210521_040009.wav...: 100%|\u001b[31m██████████\u001b[0m| 39/39 [00:00<00:00, 2536.29it/s]\n",
      "Processing segments for KAR_20210521_040000.wav...: 100%|\u001b[31m██████████\u001b[0m| 39/39 [00:00<00:00, 2415.72it/s]\n",
      "Processing segments for KAR_20210521_080009.wav...: 100%|\u001b[31m██████████\u001b[0m| 39/39 [00:00<00:00, 2431.77it/s]\n",
      "Processing segments for KAR_20210426_090013.wav...: 100%|\u001b[31m██████████\u001b[0m| 39/39 [00:00<00:00, 2446.94it/s]\n",
      "Processing segments for KAR_20210426_060013.wav...: 100%|\u001b[31m██████████\u001b[0m| 39/39 [00:00<00:00, 2483.65it/s]\n",
      "Processing segments for KAR_20210426_090001.wav...: 100%|\u001b[31m██████████\u001b[0m| 39/39 [00:00<00:00, 2478.68it/s]\n",
      "Processing segments for KAR_20210521_050010.wav...: 100%|\u001b[31m██████████\u001b[0m| 39/39 [00:00<00:00, 2443.50it/s]\n",
      "Processing segments for KAR_20210521_060010.wav...: 100%|\u001b[31m██████████\u001b[0m| 39/39 [00:00<00:00, 2417.72it/s]\n",
      "Processing segments for KAR_20210426_080000.wav...: 100%|\u001b[31m██████████\u001b[0m| 39/39 [00:00<00:00, 2451.45it/s]\n",
      "Processing segments for KAR_20210521_080002.wav...: 100%|\u001b[31m██████████\u001b[0m| 39/39 [00:00<00:00, 2451.89it/s]\n",
      "Processing segments for KAR_20210421_080011.wav...: 100%|\u001b[31m██████████\u001b[0m| 39/39 [00:00<00:00, 2435.39it/s]\n",
      "Processing segments for KAR_20210521_070014.wav...: 100%|\u001b[31m██████████\u001b[0m| 39/39 [00:00<00:00, 2420.97it/s]\n",
      "Processing segments for KAR_20210521_040001.wav...: 100%|\u001b[31m██████████\u001b[0m| 39/39 [00:00<00:00, 2460.37it/s]\n",
      "Processing segments for KAR_20210426_080006.wav...: 100%|\u001b[31m██████████\u001b[0m| 39/39 [00:00<00:00, 2495.20it/s]\n",
      "Processing segments for KAR_20210426_050006.wav...: 100%|\u001b[31m██████████\u001b[0m| 39/39 [00:00<00:00, 1727.84it/s]\n",
      "Processing segments for KAR_20210521_040006.wav...: 100%|\u001b[31m██████████\u001b[0m| 39/39 [00:00<00:00, 2171.66it/s]\n",
      "Processing segments for KAR_20210426_050001.wav...: 100%|\u001b[31m██████████\u001b[0m| 39/39 [00:00<00:00, 1948.52it/s]\n",
      "Processing segments for KAR_20210426_050013.wav...: 100%|\u001b[31m██████████\u001b[0m| 39/39 [00:00<00:00, 2196.56it/s]\n",
      "Processing segments for KAR_20210426_080001.wav...: 100%|\u001b[31m██████████\u001b[0m| 39/39 [00:00<00:00, 2250.29it/s]\n",
      "Processing segments for KAR_20210421_070011.wav...: 100%|\u001b[31m██████████\u001b[0m| 39/39 [00:00<00:00, 2480.90it/s]\n",
      "Processing segments for KAR_20210521_060001.wav...: 100%|\u001b[31m██████████\u001b[0m| 39/39 [00:00<00:00, 2297.57it/s]\n",
      "Processing segments for HAG_20220603_070000.wav...: 100%|\u001b[31m██████████\u001b[0m| 39/39 [00:00<00:00, 2479.88it/s]\n",
      "Processing segments for HAG_20190620_130001.wav...: 100%|\u001b[31m██████████\u001b[0m| 39/39 [00:00<00:00, 2483.38it/s]\n",
      "Processing segments for HAG_20190618_130000.wav...: 100%|\u001b[31m██████████\u001b[0m| 39/39 [00:00<00:00, 2398.75it/s]\n",
      "Processing segments for HAG_20200528_070016.wav...: 100%|\u001b[31m██████████\u001b[0m| 39/39 [00:00<00:00, 2472.53it/s]\n",
      "Processing segments for HAG_20190422_130000.wav...: 100%|\u001b[31m██████████\u001b[0m| 39/39 [00:00<00:00, 2406.90it/s]\n",
      "Processing segments for HAG_20210518_130100.wav...: 100%|\u001b[31m██████████\u001b[0m| 39/39 [00:00<00:00, 2308.73it/s]\n",
      "Processing segments for HAG_20210609_130004.wav...: 100%|\u001b[31m██████████\u001b[0m| 39/39 [00:00<00:00, 2414.47it/s]\n",
      "Processing segments for HAG_20200529_070011.wav...: 100%|\u001b[31m██████████\u001b[0m| 39/39 [00:00<00:00, 2326.95it/s]\n",
      "Processing segments for HAG_20190425_070007.wav...: 100%|\u001b[31m██████████\u001b[0m| 39/39 [00:00<00:00, 2395.06it/s]\n",
      "Processing segments for HAG_20190618_130040.wav...: 100%|\u001b[31m██████████\u001b[0m| 39/39 [00:00<00:00, 2345.94it/s]\n",
      "Processing segments for HAG_20200528_130016.wav...: 100%|\u001b[31m██████████\u001b[0m| 39/39 [00:00<00:00, 2331.50it/s]\n",
      "Processing segments for HAG_20200528_130015.wav...: 100%|\u001b[31m██████████\u001b[0m| 39/39 [00:00<00:00, 2366.48it/s]\n",
      "Processing segments for HAG_20200528_130005.wav...: 100%|\u001b[31m██████████\u001b[0m| 39/39 [00:00<00:00, 2371.52it/s]\n",
      "Processing segments for HAG_20200528_070060.wav...: 100%|\u001b[31m██████████\u001b[0m| 39/39 [00:00<00:00, 2391.10it/s]\n",
      "Processing segments for HAG_20210505_130000.wav...: 100%|\u001b[31m██████████\u001b[0m| 39/39 [00:00<00:00, 2448.55it/s]\n",
      "Processing segments for HAG_20190619_130012.wav...: 100%|\u001b[31m██████████\u001b[0m| 39/39 [00:00<00:00, 2280.98it/s]\n",
      "Processing segments for HAG_20200529_071100.wav...: 100%|\u001b[31m██████████\u001b[0m| 39/39 [00:00<00:00, 2446.94it/s]\n",
      "Processing segments for HAG_20200529_070010.wav...: 100%|\u001b[31m██████████\u001b[0m| 39/39 [00:00<00:00, 2485.76it/s]\n",
      "Processing segments for HAG_20210518_070100.wav...: 100%|\u001b[31m██████████\u001b[0m| 39/39 [00:00<00:00, 2121.66it/s]\n",
      "Processing segments for HAG_20200529_131500.wav...: 100%|\u001b[31m██████████\u001b[0m| 39/39 [00:00<00:00, 2055.82it/s]\n",
      "Processing segments for HAG_20190617_070011.wav...: 100%|\u001b[31m██████████\u001b[0m| 39/39 [00:00<00:00, 2443.72it/s]\n",
      "Processing segments for HAG_20200528_131100.wav...: 100%|\u001b[31m██████████\u001b[0m| 39/39 [00:00<00:00, 2493.75it/s]\n",
      "Processing segments for HAG_20190617_070008.wav...: 100%|\u001b[31m██████████\u001b[0m| 39/39 [00:00<00:00, 2484.93it/s]\n",
      "Processing segments for HAG_20190423_070000.wav...: 100%|\u001b[31m██████████\u001b[0m| 39/39 [00:00<00:00, 2414.54it/s]\n",
      "Processing segments for HAG_20190522_130070.wav...: 100%|\u001b[31m██████████\u001b[0m| 39/39 [00:00<00:00, 2559.42it/s]\n",
      "Processing segments for HAG_20200528_130003.wav...: 100%|\u001b[31m██████████\u001b[0m| 39/39 [00:00<00:00, 2487.99it/s]\n",
      "Processing segments for HAG_20200527_130000.wav...: 100%|\u001b[31m██████████\u001b[0m| 39/39 [00:00<00:00, 2618.38it/s]\n",
      "Processing segments for HAG_20190619_130005.wav...: 100%|\u001b[31m██████████\u001b[0m| 39/39 [00:00<00:00, 2504.79it/s]\n",
      "Processing segments for HAG_20200528_070017.wav...: 100%|\u001b[31m██████████\u001b[0m| 39/39 [00:00<00:00, 2480.26it/s]\n",
      "Processing segments for HAG_20190618_070000.wav...: 100%|\u001b[31m██████████\u001b[0m| 39/39 [00:00<00:00, 2495.89it/s]\n",
      "Processing segments for HAG_20190423_070002.wav...: 100%|\u001b[31m██████████\u001b[0m| 39/39 [00:00<00:00, 2481.54it/s]\n",
      "Processing segments for HAG_20210609_070004.wav...: 100%|\u001b[31m██████████\u001b[0m| 39/39 [00:00<00:00, 2470.40it/s]\n",
      "Processing segments for HAG_20190620_130000.wav...: 100%|\u001b[31m██████████\u001b[0m| 39/39 [00:00<00:00, 2349.31it/s]\n",
      "Processing segments for HAG_20210518_070000.wav...: 100%|\u001b[31m██████████\u001b[0m| 39/39 [00:00<00:00, 2124.42it/s]\n",
      "Processing segments for HAG_20200528_071000.wav...: 100%|\u001b[31m██████████\u001b[0m| 39/39 [00:00<00:00, 2163.18it/s]\n",
      "Processing segments for HAG_20190424_130000.wav...: 100%|\u001b[31m██████████\u001b[0m| 39/39 [00:00<00:00, 2200.19it/s]\n",
      "Processing segments for HAG_20220615_130000.wav...: 100%|\u001b[31m██████████\u001b[0m| 39/39 [00:00<00:00, 2115.49it/s]\n",
      "Processing segments for HAG_20210609_130000.wav...: 100%|\u001b[31m██████████\u001b[0m| 39/39 [00:00<00:00, 2175.53it/s]\n",
      "Processing segments for HAG_20190617_070000.wav...: 100%|\u001b[31m██████████\u001b[0m| 39/39 [00:00<00:00, 2178.08it/s]\n",
      "Processing segments for HAG_20200528_130007.wav...: 100%|\u001b[31m██████████\u001b[0m| 39/39 [00:00<00:00, 2149.77it/s]\n",
      "Processing segments for HAG_20200528_070100.wav...: 100%|\u001b[31m██████████\u001b[0m| 39/39 [00:00<00:00, 2191.09it/s]\n",
      "Processing segments for HAG_20200529_070001.wav...: 100%|\u001b[31m██████████\u001b[0m| 39/39 [00:00<00:00, 2179.47it/s]\n",
      "Processing segments for HAG_20200529_070018.wav...: 100%|\u001b[31m██████████\u001b[0m| 39/39 [00:00<00:00, 2227.40it/s]\n",
      "Processing segments for HAG_20200528_070009.wav...: 100%|\u001b[31m██████████\u001b[0m| 39/39 [00:00<00:00, 2341.14it/s]\n",
      "Processing segments for HAG_20200528_130006.wav...: 100%|\u001b[31m██████████\u001b[0m| 39/39 [00:00<00:00, 2394.92it/s]\n",
      "Processing segments for HAG_20200529_070008.wav...: 100%|\u001b[31m██████████\u001b[0m| 39/39 [00:00<00:00, 2445.91it/s]\n",
      "Processing segments for HAG_20210504_070000.wav...: 100%|\u001b[31m██████████\u001b[0m| 39/39 [00:00<00:00, 2377.69it/s]\n",
      "Processing segments for HAG_20190514_070000.wav...: 100%|\u001b[31m██████████\u001b[0m| 39/39 [00:00<00:00, 2126.71it/s]\n",
      "Processing segments for HAG_20190513_130000.wav...: 100%|\u001b[31m██████████\u001b[0m| 39/39 [00:00<00:00, 2385.94it/s]\n",
      "Processing segments for HAG_20200529_130000.wav...: 100%|\u001b[31m██████████\u001b[0m| 39/39 [00:00<00:00, 2500.39it/s]\n",
      "Processing segments for HAG_20200529_130040.wav...: 100%|\u001b[31m██████████\u001b[0m| 39/39 [00:00<00:00, 2448.70it/s]\n",
      "Processing segments for HAG_20210609_070000.wav...: 100%|\u001b[31m██████████\u001b[0m| 39/39 [00:00<00:00, 2498.52it/s]\n",
      "Processing segments for HAG_20210503_130000.wav...: 100%|\u001b[31m██████████\u001b[0m| 39/39 [00:00<00:00, 2485.76it/s]\n",
      "Processing segments for HAG_20190421_130000.wav...: 100%|\u001b[31m██████████\u001b[0m| 39/39 [00:00<00:00, 2537.03it/s]\n",
      "Processing segments for HAG_20200529_070003.wav...: 100%|\u001b[31m██████████\u001b[0m| 39/39 [00:00<00:00, 2517.94it/s]\n",
      "Processing segments for HAG_20200528_070000.wav...: 100%|\u001b[31m██████████\u001b[0m| 39/39 [00:00<00:00, 2463.19it/s]\n",
      "Processing segments for HAG_20200528_070015.wav...: 100%|\u001b[31m██████████\u001b[0m| 39/39 [00:00<00:00, 2532.52it/s]\n",
      "Processing segments for HAG_20190522_070070.wav...: 100%|\u001b[31m██████████\u001b[0m| 39/39 [00:00<00:00, 2436.81it/s]\n",
      "Processing segments for HAG_20190422_070000.wav...: 100%|\u001b[31m██████████\u001b[0m| 39/39 [00:00<00:00, 2484.66it/s]\n",
      "Processing segments for HAG_20210521_070030.wav...: 100%|\u001b[31m██████████\u001b[0m| 39/39 [00:00<00:00, 2397.13it/s]\n",
      "Processing segments for HAG_20220615_070000.wav...: 100%|\u001b[31m██████████\u001b[0m| 39/39 [00:00<00:00, 2484.25it/s]\n",
      "Processing segments for HAG_20190618_070030.wav...: 100%|\u001b[31m██████████\u001b[0m| 39/39 [00:00<00:00, 2434.16it/s]\n",
      "Processing segments for HAG_20190619_070012.wav...: 100%|\u001b[31m██████████\u001b[0m| 39/39 [00:00<00:00, 2461.37it/s]\n",
      "Processing segments for HAG_20200529_071000.wav...: 100%|\u001b[31m██████████\u001b[0m| 39/39 [00:00<00:00, 2474.03it/s]\n",
      "Processing segments for HAG_20190618_070040.wav...: 100%|\u001b[31m██████████\u001b[0m| 39/39 [00:00<00:00, 2483.19it/s]\n",
      "Processing segments for HAG_20210609_130005.wav...: 100%|\u001b[31m██████████\u001b[0m| 39/39 [00:00<00:00, 2463.82it/s]\n",
      "Processing segments for HAG_20200528_130050.wav...: 100%|\u001b[31m██████████\u001b[0m| 39/39 [00:00<00:00, 2436.62it/s]\n",
      "Processing segments for HAG_20200528_130100.wav...: 100%|\u001b[31m██████████\u001b[0m| 39/39 [00:00<00:00, 2382.02it/s]\n",
      "Processing segments for HAG_20200528_130002.wav...: 100%|\u001b[31m██████████\u001b[0m| 39/39 [00:00<00:00, 2388.73it/s]\n",
      "Processing segments for HAG_20200529_072000.wav...: 100%|\u001b[31m██████████\u001b[0m| 39/39 [00:00<00:00, 2530.60it/s]\n",
      "Processing segments for HAG_20200528_070004.wav...: 100%|\u001b[31m██████████\u001b[0m| 39/39 [00:00<00:00, 2454.80it/s]\n",
      "Processing segments for HAG_20210505_070000.wav...: 100%|\u001b[31m██████████\u001b[0m| 39/39 [00:00<00:00, 2495.92it/s]\n",
      "Processing segments for HAG_20200529_131100.wav...: 100%|\u001b[31m██████████\u001b[0m| 39/39 [00:00<00:00, 2500.69it/s]\n",
      "Processing segments for HAG_20200529_130018.wav...: 100%|\u001b[31m██████████\u001b[0m| 39/39 [00:00<00:00, 2518.67it/s]\n",
      "Processing segments for HAG_20200528_130004.wav...: 100%|\u001b[31m██████████\u001b[0m| 39/39 [00:00<00:00, 2453.91it/s]\n",
      "Processing segments for HAG_20190619_070005.wav...: 100%|\u001b[31m██████████\u001b[0m| 39/39 [00:00<00:00, 2385.32it/s]\n",
      "Processing segments for HAG_20190422_070020.wav...: 100%|\u001b[31m██████████\u001b[0m| 39/39 [00:00<00:00, 2341.68it/s]\n",
      "Processing segments for HAG_20200528_130001.wav...: 100%|\u001b[31m██████████\u001b[0m| 39/39 [00:00<00:00, 2428.09it/s]\n",
      "Processing segments for HAG_20190620_070000.wav...: 100%|\u001b[31m██████████\u001b[0m| 39/39 [00:00<00:00, 1265.83it/s]\n",
      "Processing segments for HAG_20210503_070000.wav...: 100%|\u001b[31m██████████\u001b[0m| 39/39 [00:00<00:00, 2359.31it/s]\n",
      "Processing segments for HAG_20190423_130000.wav...: 100%|\u001b[31m██████████\u001b[0m| 39/39 [00:00<00:00, 1385.53it/s]\n",
      "Processing segments for HAG_20190424_070000.wav...: 100%|\u001b[31m██████████\u001b[0m| 39/39 [00:00<00:00, 1382.88it/s]\n",
      "Processing segments for HAG_20220617_070000.wav...: 100%|\u001b[31m██████████\u001b[0m| 39/39 [00:00<00:00, 2475.26it/s]\n",
      "Processing segments for HAG_20200529_070006.wav...: 100%|\u001b[31m██████████\u001b[0m| 39/39 [00:00<00:00, 1329.73it/s]\n",
      "Processing segments for HAG_20210520_130030.wav...: 100%|\u001b[31m██████████\u001b[0m| 39/39 [00:00<00:00, 1312.08it/s]\n",
      "Processing segments for HAG_20210504_130000.wav...: 100%|\u001b[31m██████████\u001b[0m| 39/39 [00:00<00:00, 1323.35it/s]\n",
      "Processing segments for HAG_20200529_131000.wav...: 100%|\u001b[31m██████████\u001b[0m| 39/39 [00:00<00:00, 2396.46it/s]\n",
      "Processing segments for HAG_20210609_070005.wav...: 100%|\u001b[31m██████████\u001b[0m| 39/39 [00:00<00:00, 1348.08it/s]\n",
      "Processing segments for SITH_20220322_153009.wav...: 100%|\u001b[31m██████████\u001b[0m| 39/39 [00:00<00:00, 1313.22it/s]\n",
      "Processing segments for SITH_20220430_070005.wav...: 100%|\u001b[31m██████████\u001b[0m| 39/39 [00:00<00:00, 2427.04it/s]\n",
      "Processing segments for SITH_20220322_173004.wav...: 100%|\u001b[31m██████████\u001b[0m| 39/39 [00:00<00:00, 1369.72it/s]\n",
      "Processing segments for SITH_20220415_060009.wav...: 100%|\u001b[31m██████████\u001b[0m| 39/39 [00:00<00:00, 1287.62it/s]\n",
      "Processing segments for SITH_20220329_070003.wav...: 100%|\u001b[31m██████████\u001b[0m| 39/39 [00:00<00:00, 2458.38it/s]\n",
      "Processing segments for SITH_20220430_070003.wav...: 100%|\u001b[31m██████████\u001b[0m| 39/39 [00:00<00:00, 1390.48it/s]\n",
      "Processing segments for SITH_20220329_063002.wav...: 100%|\u001b[31m██████████\u001b[0m| 39/39 [00:00<00:00, 1306.15it/s]\n",
      "Processing segments for SITH_20220329_060010.wav...: 100%|\u001b[31m██████████\u001b[0m| 39/39 [00:00<00:00, 1305.88it/s]\n",
      "Processing segments for SITH_20220430_070004.wav...: 100%|\u001b[31m██████████\u001b[0m| 39/39 [00:00<00:00, 2473.77it/s]\n",
      "Processing segments for SITH_20220322_153002.wav...: 100%|\u001b[31m██████████\u001b[0m| 39/39 [00:00<00:00, 1354.20it/s]\n",
      "Processing segments for SITH_20220322_150001.wav...: 100%|\u001b[31m██████████\u001b[0m| 39/39 [00:00<00:00, 1306.91it/s]\n",
      "Processing segments for SITH_20220322_160006.wav...: 100%|\u001b[31m██████████\u001b[0m| 39/39 [00:00<00:00, 2422.33it/s]\n",
      "Processing segments for SITH_20220329_063005.wav...: 100%|\u001b[31m██████████\u001b[0m| 39/39 [00:00<00:00, 1389.74it/s]\n",
      "Processing segments for SITH_20220329_060009.wav...: 100%|\u001b[31m██████████\u001b[0m| 39/39 [00:00<00:00, 1318.87it/s]\n",
      "Processing segments for SITH_20220329_070006.wav...: 100%|\u001b[31m██████████\u001b[0m| 39/39 [00:00<00:00, 2407.43it/s]\n",
      "Processing segments for SITH_20220415_060007.wav...: 100%|\u001b[31m██████████\u001b[0m| 39/39 [00:00<00:00, 1375.91it/s]\n",
      "Processing segments for SITH_20220322_153003.wav...: 100%|\u001b[31m██████████\u001b[0m| 39/39 [00:00<00:00, 1302.23it/s]\n",
      "Processing segments for SITH_20220322_153005.wav...: 100%|\u001b[31m██████████\u001b[0m| 39/39 [00:00<00:00, 2405.20it/s]\n",
      "Processing segments for SITH_20220322_160008.wav...: 100%|\u001b[31m██████████\u001b[0m| 39/39 [00:00<00:00, 1331.87it/s]\n",
      "Processing segments for SITH_20220329_060001.wav...: 100%|\u001b[31m██████████\u001b[0m| 39/39 [00:00<00:00, 1337.92it/s]\n",
      "Processing segments for SITH_20220329_063001.wav...: 100%|\u001b[31m██████████\u001b[0m| 39/39 [00:00<00:00, 1312.23it/s]\n",
      "Processing segments for SITH_20220329_070001.wav...: 100%|\u001b[31m██████████\u001b[0m| 39/39 [00:00<00:00, 2308.43it/s]\n",
      "Processing segments for SITH_20220322_153001.wav...: 100%|\u001b[31m██████████\u001b[0m| 39/39 [00:00<00:00, 1308.92it/s]\n",
      "Processing segments for SITH_20220329_070010.wav...: 100%|\u001b[31m██████████\u001b[0m| 39/39 [00:00<00:00, 2346.82it/s]\n",
      "Processing segments for SITH_20220322_153007.wav...: 100%|\u001b[31m██████████\u001b[0m| 39/39 [00:00<00:00, 1300.41it/s]\n",
      "Processing segments for SITH_20220329_070002.wav...: 100%|\u001b[31m██████████\u001b[0m| 39/39 [00:00<00:00, 1315.55it/s]\n",
      "Processing segments for SITH_20220329_070009.wav...: 100%|\u001b[31m██████████\u001b[0m| 39/39 [00:00<00:00, 2437.31it/s]\n",
      "Processing segments for SITH_20220430_070002.wav...: 100%|\u001b[31m██████████\u001b[0m| 39/39 [00:00<00:00, 100.11it/s]\n",
      "Processing segments for SITH_20220329_070008.wav...: 100%|\u001b[31m██████████\u001b[0m| 39/39 [00:00<00:00, 2417.47it/s]\n",
      "Processing segments for SITH_20220329_070004.wav...: 100%|\u001b[31m██████████\u001b[0m| 39/39 [00:00<00:00, 2268.04it/s]\n",
      "Processing segments for SITH_20220322_153008.wav...: 100%|\u001b[31m██████████\u001b[0m| 39/39 [00:00<00:00, 2209.82it/s]\n",
      "Processing segments for SITH_20220322_160002.wav...: 100%|\u001b[31m██████████\u001b[0m| 39/39 [00:00<00:00, 2509.02it/s]\n",
      "Processing segments for SITH_20220322_153010.wav...: 100%|\u001b[31m██████████\u001b[0m| 39/39 [00:00<00:00, 2568.38it/s]\n",
      "Processing segments for SITH_20220329_060004.wav...: 100%|\u001b[31m██████████\u001b[0m| 39/39 [00:00<00:00, 2438.40it/s]\n",
      "Processing segments for SITH_20220322_173007.wav...: 100%|\u001b[31m██████████\u001b[0m| 39/39 [00:00<00:00, 2472.50it/s]\n",
      "Processing segments for SITH_20220322_173003.wav...: 100%|\u001b[31m██████████\u001b[0m| 39/39 [00:00<00:00, 2568.51it/s]\n",
      "Processing segments for SITH_20220322_160007.wav...: 100%|\u001b[31m██████████\u001b[0m| 39/39 [00:00<00:00, 2513.60it/s]\n",
      "Processing segments for SITH_20220430_070007.wav...: 100%|\u001b[31m██████████\u001b[0m| 39/39 [00:00<00:00, 2563.43it/s]\n",
      "Processing segments for SITH_20220329_060008.wav...: 100%|\u001b[31m██████████\u001b[0m| 39/39 [00:00<00:00, 2516.08it/s]\n",
      "Processing segments for SITH_20220430_070006.wav...: 100%|\u001b[31m██████████\u001b[0m| 39/39 [00:00<00:00, 1266.68it/s]\n",
      "Processing segments for SITH_20220415_060002.wav...: 100%|\u001b[31m██████████\u001b[0m| 39/39 [00:00<00:00, 738.31it/s]\n",
      "Processing segments for SITH_20220322_173005.wav...: 100%|\u001b[31m██████████\u001b[0m| 39/39 [00:00<00:00, 741.42it/s]\n",
      "Processing segments for SITH_20220329_070005.wav...: 100%|\u001b[31m██████████\u001b[0m| 39/39 [00:00<00:00, 839.23it/s]\n",
      "Processing segments for SITH_20220430_070001.wav...: 100%|\u001b[31m██████████\u001b[0m| 39/39 [00:00<00:00, 739.68it/s]\n",
      "Processing segments for SITH_20220415_060008.wav...: 100%|\u001b[31m██████████\u001b[0m| 39/39 [00:00<00:00, 659.36it/s]\n",
      "Processing segments for SITH_20220322_153004.wav...: 100%|\u001b[31m██████████\u001b[0m| 39/39 [00:00<00:00, 737.73it/s]\n",
      "Processing segments for SITH_20220430_070009.wav...: 100%|\u001b[31m██████████\u001b[0m| 39/39 [00:00<00:00, 824.03it/s]\n",
      "Processing segments for SITH_20220322_160004.wav...: 100%|\u001b[31m██████████\u001b[0m| 39/39 [00:00<00:00, 727.32it/s]\n",
      "Processing segments for SITH_20220329_070007.wav...: 100%|\u001b[31m██████████\u001b[0m| 39/39 [00:00<00:00, 947.87it/s]\n",
      "Processing segments for SITH_20220322_173002.wav...: 100%|\u001b[31m██████████\u001b[0m| 39/39 [00:00<00:00, 591.46it/s]\n",
      "Processing segments for SITH_20220415_060004.wav...: 100%|\u001b[31m██████████\u001b[0m| 39/39 [00:00<00:00, 728.89it/s]\n",
      "Processing segments for SITH_20220322_173001.wav...: 100%|\u001b[31m██████████\u001b[0m| 39/39 [00:00<00:00, 819.37it/s]\n",
      "Processing segments for SITH_20220329_060003.wav...: 100%|\u001b[31m██████████\u001b[0m| 39/39 [00:00<00:00, 683.29it/s]\n",
      "Processing segments for SITH_20220322_150002.wav...: 100%|\u001b[31m██████████\u001b[0m| 39/39 [00:00<00:00, 794.33it/s]\n",
      "Processing segments for SITH_20220322_173006.wav...: 100%|\u001b[31m██████████\u001b[0m| 39/39 [00:00<00:00, 738.95it/s]\n",
      "Processing segments for SITH_20220322_160010.wav...: 100%|\u001b[31m██████████\u001b[0m| 39/39 [00:00<00:00, 1089.72it/s]\n",
      "Processing segments for SITH_20220322_173009.wav...: 100%|\u001b[31m██████████\u001b[0m| 39/39 [00:00<00:00, 738.73it/s]\n",
      "Processing segments for SITH_20220322_160003.wav...: 100%|\u001b[31m██████████\u001b[0m| 39/39 [00:00<00:00, 733.40it/s]\n",
      "Processing segments for SITH_20220322_160009.wav...: 100%|\u001b[31m██████████\u001b[0m| 39/39 [00:00<00:00, 746.24it/s]\n",
      "Processing segments for SITH_20220430_070008.wav...: 100%|\u001b[31m██████████\u001b[0m| 39/39 [00:00<00:00, 740.25it/s]\n",
      "Processing segments for SITH_20220322_160001.wav...: 100%|\u001b[31m██████████\u001b[0m| 39/39 [00:00<00:00, 738.50it/s]\n",
      "Processing segments for SITH_20220322_150007.wav...: 100%|\u001b[31m██████████\u001b[0m| 39/39 [00:00<00:00, 1117.63it/s]\n",
      "Processing segments for SITH_20220329_063006.wav...: 100%|\u001b[31m██████████\u001b[0m| 39/39 [00:00<00:00, 744.29it/s]\n",
      "Processing segments for SITH_20220329_063004.wav...: 100%|\u001b[31m██████████\u001b[0m| 39/39 [00:00<00:00, 740.30it/s]\n",
      "Processing segments for SITH_20220322_153006.wav...: 100%|\u001b[31m██████████\u001b[0m| 39/39 [00:00<00:00, 824.24it/s]\n",
      "Processing segments for NAV_20230316_081100.wav...: 100%|\u001b[31m██████████\u001b[0m| 39/39 [00:00<00:00, 502.79it/s]\n",
      "Processing segments for NAV_20230315_080700.wav...: 100%|\u001b[31m██████████\u001b[0m| 39/39 [00:00<00:00, 732.93it/s]\n",
      "Processing segments for NAV_20230316_080400.wav...: 100%|\u001b[31m██████████\u001b[0m| 39/39 [00:00<00:00, 337.33it/s]\n",
      "Processing segments for NAV_20230319_080000.wav...: 100%|\u001b[31m██████████\u001b[0m| 38/38 [00:00<00:00, 1093.02it/s]\n",
      "Processing segments for NAV_20230317_080800.wav...: 100%|\u001b[31m██████████\u001b[0m| 39/39 [00:00<00:00, 733.07it/s]\n",
      "Processing segments for NAV_20230316_080800.wav...: 100%|\u001b[31m██████████\u001b[0m| 39/39 [00:00<00:00, 744.13it/s]\n",
      "Processing segments for NAV_20230318_080100.wav...: 100%|\u001b[31m██████████\u001b[0m| 39/39 [00:00<00:00, 747.84it/s]\n",
      "Processing segments for NAV_20230317_080300.wav...: 100%|\u001b[31m██████████\u001b[0m| 39/39 [00:00<00:00, 746.40it/s]\n",
      "Processing segments for NAV_20230315_080400.wav...: 100%|\u001b[31m██████████\u001b[0m| 39/39 [00:00<00:00, 744.60it/s]\n",
      "Processing segments for NAV_20230317_080600.wav...: 100%|\u001b[31m██████████\u001b[0m| 39/39 [00:00<00:00, 1088.70it/s]\n",
      "Processing segments for NAV_20230316_080600.wav...: 100%|\u001b[31m██████████\u001b[0m| 39/39 [00:00<00:00, 744.05it/s]\n",
      "Processing segments for NAV_20230316_080300.wav...: 100%|\u001b[31m██████████\u001b[0m| 39/39 [00:00<00:00, 708.26it/s]\n",
      "Processing segments for NAV_20230316_081000.wav...: 100%|\u001b[31m██████████\u001b[0m| 39/39 [00:00<00:00, 745.98it/s]\n",
      "Processing segments for NAV_20230317_080900.wav...: 100%|\u001b[31m██████████\u001b[0m| 39/39 [00:00<00:00, 744.82it/s]\n",
      "Processing segments for NAV_20230318_080500.wav...: 100%|\u001b[31m██████████\u001b[0m| 39/39 [00:00<00:00, 749.54it/s]\n",
      "Processing segments for NAV_20230318_080900.wav...: 100%|\u001b[31m██████████\u001b[0m| 39/39 [00:00<00:00, 544.63it/s]\n",
      "Processing segments for NAV_20230318_081000.wav...: 100%|\u001b[31m██████████\u001b[0m| 39/39 [00:00<00:00, 742.97it/s]\n",
      "Processing segments for NAV_20230316_080500.wav...: 100%|\u001b[31m██████████\u001b[0m| 39/39 [00:00<00:00, 506.43it/s]\n",
      "Processing segments for NAV_20230315_080200.wav...: 100%|\u001b[31m██████████\u001b[0m| 39/39 [00:00<00:00, 750.32it/s]\n",
      "Processing segments for NAV_20230317_080000.wav...: 100%|\u001b[31m██████████\u001b[0m| 39/39 [00:00<00:00, 828.36it/s]\n",
      "Processing segments for NAV_20230319_080900.wav...: 100%|\u001b[31m██████████\u001b[0m| 39/39 [00:00<00:00, 959.22it/s]\n",
      "Processing segments for NAV_20230316_080100.wav...: 100%|\u001b[31m██████████\u001b[0m| 39/39 [00:00<00:00, 401.03it/s]\n",
      "Processing segments for NAV_20230318_080800.wav...: 100%|\u001b[31m██████████\u001b[0m| 39/39 [00:00<00:00, 773.29it/s]\n",
      "Processing segments for NAV_20230315_080300.wav...: 100%|\u001b[31m██████████\u001b[0m| 39/39 [00:00<00:00, 552.83it/s]\n",
      "Processing segments for NAV_20230316_080000.wav...: 100%|\u001b[31m██████████\u001b[0m| 39/39 [00:00<00:00, 554.04it/s]\n",
      "Processing segments for NAV_20230318_080600.wav...: 100%|\u001b[31m██████████\u001b[0m| 39/39 [00:00<00:00, 554.43it/s]\n",
      "Processing segments for NAV_20230315_080900.wav...: 100%|\u001b[31m██████████\u001b[0m| 38/38 [00:00<00:00, 540.77it/s]\n",
      "Processing segments for NAV_20230317_080500.wav...: 100%|\u001b[31m██████████\u001b[0m| 39/39 [00:00<00:00, 556.04it/s]\n",
      "Processing segments for NAV_20230318_081100.wav...: 100%|\u001b[31m██████████\u001b[0m| 39/39 [00:00<00:00, 454.53it/s]\n",
      "Processing segments for NAV_20230316_080200.wav...: 100%|\u001b[31m██████████\u001b[0m| 39/39 [00:00<00:00, 542.04it/s]\n",
      "Processing segments for NAV_20230316_080900.wav...: 100%|\u001b[31m██████████\u001b[0m| 39/39 [00:00<00:00, 560.01it/s]\n",
      "Processing segments for NAV_20230319_080600.wav...: 100%|\u001b[31m██████████\u001b[0m| 39/39 [00:00<00:00, 558.51it/s]\n",
      "Processing segments for NAV_20230319_080300.wav...: 100%|\u001b[31m██████████\u001b[0m| 39/39 [00:00<00:00, 430.42it/s]\n",
      "Processing segments for NAV_20230318_080300.wav...: 100%|\u001b[31m██████████\u001b[0m| 39/39 [00:00<00:00, 559.20it/s]\n",
      "Processing segments for NAV_20230315_080600.wav...: 100%|\u001b[31m██████████\u001b[0m| 39/39 [00:00<00:00, 558.60it/s]\n",
      "Processing segments for NAV_20230315_080500.wav...: 100%|\u001b[31m██████████\u001b[0m| 39/39 [00:00<00:00, 557.72it/s]\n",
      "Processing segments for NAV_20230318_080400.wav...: 100%|\u001b[31m██████████\u001b[0m| 39/39 [00:00<00:00, 557.05it/s]\n",
      "Processing segments for SCHG_20160531_202000.wav...: 100%|\u001b[31m██████████\u001b[0m| 39/39 [00:00<00:00, 558.57it/s]\n",
      "Processing segments for SCHG_20160531_193001.wav...: 100%|\u001b[31m██████████\u001b[0m| 39/39 [00:00<00:00, 559.54it/s]\n",
      "Processing segments for SCHG_20160609_030000.wav...: 100%|\u001b[31m██████████\u001b[0m| 39/39 [00:00<00:00, 558.65it/s]\n",
      "Processing segments for SCHG_20160521_050002.wav...: 100%|\u001b[31m██████████\u001b[0m| 39/39 [00:00<00:00, 557.92it/s]\n",
      "Processing segments for SCHG_20160501_050002.wav...: 100%|\u001b[31m██████████\u001b[0m| 39/39 [00:00<00:00, 558.38it/s]\n",
      "Processing segments for SCHG_20160523_050000.wav...: 100%|\u001b[31m██████████\u001b[0m| 39/39 [00:00<00:00, 556.74it/s]\n",
      "Processing segments for SCHG_20160620_181000.wav...: 100%|\u001b[31m██████████\u001b[0m| 39/39 [00:00<00:00, 561.00it/s]\n",
      "Processing segments for SCHG_20160531_194000.wav...: 100%|\u001b[31m██████████\u001b[0m| 39/39 [00:00<00:00, 560.26it/s]\n",
      "Processing segments for SCHG_20160511_044000.wav...: 100%|\u001b[31m██████████\u001b[0m| 39/39 [00:00<00:00, 105.22it/s]\n",
      "Processing segments for SCHG_20160601_193000.wav...: 100%|\u001b[31m██████████\u001b[0m| 39/39 [00:00<00:00, 2401.11it/s]\n",
      "Processing segments for SCHG_20160511_044001.wav...: 100%|\u001b[31m██████████\u001b[0m| 39/39 [00:00<00:00, 2424.81it/s]\n",
      "Processing segments for SCHG_20160521_050003.wav...: 100%|\u001b[31m██████████\u001b[0m| 39/39 [00:00<00:00, 2474.03it/s]\n",
      "Processing segments for SCHG_20160620_044001.wav...: 100%|\u001b[31m██████████\u001b[0m| 39/39 [00:00<00:00, 2488.37it/s]\n",
      "Processing segments for SCHG_20160609_030003.wav...: 100%|\u001b[31m██████████\u001b[0m| 39/39 [00:00<00:00, 2368.22it/s]\n",
      "Processing segments for SCHG_20160511_183001.wav...: 100%|\u001b[31m██████████\u001b[0m| 39/39 [00:00<00:00, 1048.46it/s]\n",
      "Processing segments for SCHG_20160531_193002.wav...: 100%|\u001b[31m██████████\u001b[0m| 39/39 [00:00<00:00, 561.55it/s]\n",
      "Processing segments for SCHG_20160601_034000.wav...: 100%|\u001b[31m██████████\u001b[0m| 39/39 [00:00<00:00, 560.77it/s]\n",
      "Processing segments for SCHG_20160511_044002.wav...: 100%|\u001b[31m██████████\u001b[0m| 39/39 [00:00<00:00, 562.05it/s]\n",
      "Processing segments for SCHG_20160531_034001.wav...: 100%|\u001b[31m██████████\u001b[0m| 39/39 [00:00<00:00, 560.33it/s]\n",
      "Processing segments for SCHG_20160620_035001.wav...: 100%|\u001b[31m██████████\u001b[0m| 39/39 [00:00<00:00, 561.48it/s]\n",
      "Processing segments for SCHG_20160609_030004.wav...: 100%|\u001b[31m██████████\u001b[0m| 39/39 [00:00<00:00, 562.44it/s]\n",
      "Processing segments for SCHG_20160601_041000.wav...: 100%|\u001b[31m██████████\u001b[0m| 39/39 [00:00<00:00, 561.39it/s]\n",
      "Processing segments for SLOB_20230520_092000.wav...: 100%|\u001b[31m██████████\u001b[0m| 39/39 [00:00<00:00, 42.33it/s]\n",
      "Processing segments for SLOB_20230517_065200.wav...: 100%|\u001b[31m██████████\u001b[0m| 39/39 [00:00<00:00, 41.08it/s]\n",
      "Processing segments for SLOB_20230518_085700.wav...: 100%|\u001b[31m██████████\u001b[0m| 39/39 [00:00<00:00, 43.05it/s]\n",
      "Processing segments for SLOB_20230517_063300.wav...: 100%|\u001b[31m██████████\u001b[0m| 39/39 [00:00<00:00, 43.07it/s]\n",
      "Processing segments for SLOB_20230519_065700.wav...: 100%|\u001b[31m██████████\u001b[0m| 39/39 [00:00<00:00, 42.52it/s]\n",
      "Processing segments for SLOB_20230518_063000.wav...: 100%|\u001b[31m██████████\u001b[0m| 39/39 [00:00<00:00, 43.68it/s]\n",
      "Processing segments for SLOB_20230518_061400.wav...: 100%|\u001b[31m██████████\u001b[0m| 39/39 [00:00<00:00, 43.38it/s]\n",
      "Processing segments for SLOB_20230522_062200.wav...: 100%|\u001b[31m██████████\u001b[0m| 39/39 [00:00<00:00, 44.97it/s]\n",
      "Processing segments for SLOB_20230519_063700.wav...: 100%|\u001b[31m██████████\u001b[0m| 39/39 [00:00<00:00, 42.50it/s]\n",
      "Processing segments for SLOB_20230521_062000.wav...: 100%|\u001b[31m██████████\u001b[0m| 39/39 [00:00<00:00, 44.86it/s]\n",
      "Processing segments for SLOB_20230520_063500.wav...: 100%|\u001b[31m██████████\u001b[0m| 39/39 [00:00<00:00, 43.42it/s]\n",
      "Processing segments for SLOB_20230521_083600.wav...: 100%|\u001b[31m██████████\u001b[0m| 39/39 [00:00<00:00, 44.18it/s]\n",
      "Processing segments for SLOB_20230428_080300.wav...: 100%|\u001b[31m██████████\u001b[0m| 39/39 [00:00<00:00, 42.92it/s]\n",
      "Processing segments for SLOB_20230520_054200.wav...: 100%|\u001b[31m██████████\u001b[0m| 39/39 [00:00<00:00, 44.96it/s]\n",
      "Processing segments for SLOB_20230521_083800.wav...: 100%|\u001b[31m██████████\u001b[0m| 39/39 [00:00<00:00, 42.12it/s]\n",
      "Processing segments for SLOB_20230522_062000.wav...: 100%|\u001b[31m██████████\u001b[0m| 39/39 [00:00<00:00, 44.01it/s]\n",
      "Processing segments for SLOB_20230519_084200.wav...: 100%|\u001b[31m██████████\u001b[0m| 39/39 [00:00<00:00, 43.37it/s]\n",
      "Processing segments for SLOB_20230518_063200.wav...: 100%|\u001b[31m██████████\u001b[0m| 39/39 [00:00<00:00, 44.79it/s]\n",
      "Processing segments for SLOB_20230518_085500.wav...: 100%|\u001b[31m██████████\u001b[0m| 39/39 [00:00<00:00, 43.11it/s]\n",
      "Processing segments for SLOB_20230413_060800.wav...: 100%|\u001b[31m██████████\u001b[0m| 39/39 [00:00<00:00, 44.61it/s]\n",
      "Processing segments for SLOB_20230520_111500.wav...: 100%|\u001b[31m██████████\u001b[0m| 39/39 [00:00<00:00, 42.83it/s]\n",
      "Processing segments for SLOB_20230522_080700.wav...: 100%|\u001b[31m██████████\u001b[0m| 39/39 [00:00<00:00, 44.64it/s]\n",
      "Processing segments for SLOB_20230518_072700.wav...: 100%|\u001b[31m██████████\u001b[0m| 39/39 [00:00<00:00, 42.89it/s]\n",
      "Processing segments for SLOB_20230517_065000.wav...: 100%|\u001b[31m██████████\u001b[0m| 39/39 [00:00<00:00, 44.39it/s]\n",
      "Processing segments for SLOB_20230522_080500.wav...: 100%|\u001b[31m██████████\u001b[0m| 39/39 [00:00<00:00, 41.46it/s]\n",
      "Processing segments for SLOB_20230518_061200.wav...: 100%|\u001b[31m██████████\u001b[0m| 39/39 [00:00<00:00, 43.74it/s]\n",
      "Processing segments for SLOB_20230520_054000.wav...: 100%|\u001b[31m██████████\u001b[0m| 39/39 [00:00<00:00, 42.81it/s]\n",
      "Processing segments for SLOB_20230519_063500.wav...: 100%|\u001b[31m██████████\u001b[0m| 39/39 [00:00<00:00, 44.03it/s]\n",
      "Processing segments for SLOB_20230519_061500.wav...: 100%|\u001b[31m██████████\u001b[0m| 39/39 [00:00<00:00, 42.18it/s]\n",
      "Processing segments for SLOB_20230520_063700.wav...: 100%|\u001b[31m██████████\u001b[0m| 39/39 [00:00<00:00, 44.40it/s]\n",
      "Processing segments for SLOB_20230519_061700.wav...: 100%|\u001b[31m██████████\u001b[0m| 39/39 [00:00<00:00, 43.09it/s]\n",
      "Processing segments for SLOB_20230518_084000.wav...: 100%|\u001b[31m██████████\u001b[0m| 39/39 [00:00<00:00, 44.91it/s]\n",
      "Processing segments for SLOB_20230517_075500.wav...: 100%|\u001b[31m██████████\u001b[0m| 39/39 [00:00<00:00, 42.83it/s]\n",
      "Processing segments for SLOB_20230517_075700.wav...: 100%|\u001b[31m██████████\u001b[0m| 39/39 [00:00<00:00, 44.28it/s]\n",
      "Processing segments for SLOB_20230518_104200.wav...: 100%|\u001b[31m██████████\u001b[0m| 39/39 [00:00<00:00, 42.15it/s]\n",
      "Processing segments for SLOB_20230518_065500.wav...: 100%|\u001b[31m██████████\u001b[0m| 39/39 [00:00<00:00, 44.85it/s]\n",
      "Processing segments for SLOB_20230519_065500.wav...: 100%|\u001b[31m██████████\u001b[0m| 39/39 [00:00<00:00, 43.03it/s]\n",
      "Processing segments for MOPU_20180512_065642.wav...: 100%|\u001b[31m██████████\u001b[0m| 39/39 [00:00<00:00, 1531.05it/s]\n",
      "Processing segments for MOPU_20180512_064142.wav...: 100%|\u001b[31m██████████\u001b[0m| 39/39 [00:00<00:00, 1586.39it/s]\n",
      "Processing segments for MOPU_20180514_101622.wav...: 100%|\u001b[31m██████████\u001b[0m| 39/39 [00:00<00:00, 1542.14it/s]\n",
      "Processing segments for MOPU_20180322_092731.wav...: 100%|\u001b[31m██████████\u001b[0m| 39/39 [00:00<00:00, 1583.12it/s]\n",
      "Processing segments for MOPU_20180514_100322.wav...: 100%|\u001b[31m██████████\u001b[0m| 39/39 [00:00<00:00, 1544.19it/s]\n",
      "Processing segments for MOPU_20180926_070837.wav...: 100%|\u001b[31m██████████\u001b[0m| 39/39 [00:00<00:00, 1584.44it/s]\n",
      "Processing segments for MOPU_20180512_060221.wav...: 100%|\u001b[31m██████████\u001b[0m| 39/39 [00:00<00:00, 1548.15it/s]\n",
      "Processing segments for MOPU_20180512_060231.wav...: 100%|\u001b[31m██████████\u001b[0m| 39/39 [00:00<00:00, 1594.53it/s]\n",
      "Processing segments for MOPU_20180512_060242.wav...: 100%|\u001b[31m██████████\u001b[0m| 39/39 [00:00<00:00, 1573.02it/s]\n",
      "Processing segments for MOPU_20180514_101122.wav...: 100%|\u001b[31m██████████\u001b[0m| 39/39 [00:00<00:00, 1599.61it/s]\n",
      "Processing segments for MOPU_20180511_202131.wav...: 100%|\u001b[31m██████████\u001b[0m| 39/39 [00:00<00:00, 1540.77it/s]\n",
      "Processing segments for MOPU_20180512_064642.wav...: 100%|\u001b[31m██████████\u001b[0m| 39/39 [00:00<00:00, 1605.96it/s]\n",
      "Processing segments for MOPU_20180512_060258.wav...: 100%|\u001b[31m██████████\u001b[0m| 39/39 [00:00<00:00, 1521.58it/s]\n",
      "Processing segments for MOPU_20180322_092706.wav...: 100%|\u001b[31m██████████\u001b[0m| 39/39 [00:00<00:00, 1512.96it/s]\n",
      "Processing segments for MOPU_20180512_060226.wav...: 100%|\u001b[31m██████████\u001b[0m| 39/39 [00:00<00:00, 1582.04it/s]\n",
      "Processing segments for MOPU_20180512_065142.wav...: 100%|\u001b[31m██████████\u001b[0m| 39/39 [00:00<00:00, 1579.15it/s]\n",
      "Processing segments for MOPU_20180512_070242.wav...: 100%|\u001b[31m██████████\u001b[0m| 37/37 [00:00<00:00, 1558.38it/s]\n",
      "Processing segments for MOPU_20180926_070737.wav...: 100%|\u001b[31m██████████\u001b[0m| 39/39 [00:00<00:00, 1546.66it/s]\n",
      "Processing segments for MOPU_20180512_060223.wav...: 100%|\u001b[31m██████████\u001b[0m| 39/39 [00:00<00:00, 1496.53it/s]\n",
      "Processing segments for MOPU_20180926_070637.wav...: 100%|\u001b[31m██████████\u001b[0m| 39/39 [00:00<00:00, 1529.42it/s]\n",
      "Processing segments for MOPU_20180512_060256.wav...: 100%|\u001b[31m██████████\u001b[0m| 39/39 [00:00<00:00, 1502.78it/s]\n",
      "Processing segments for MOPU_20180511_202111.wav...: 100%|\u001b[31m██████████\u001b[0m| 39/39 [00:00<00:00, 1563.89it/s]\n",
      "Processing segments for MOPU_20180511_202106.wav...: 100%|\u001b[31m██████████\u001b[0m| 39/39 [00:00<00:00, 1588.27it/s]\n",
      "Processing segments for BIAL_20210422_051106.wav...: 100%|\u001b[31m██████████\u001b[0m| 39/39 [00:00<00:00, 1839.11it/s]\n",
      "Processing segments for BIAL_20210422_061101.wav...: 100%|\u001b[31m██████████\u001b[0m| 39/39 [00:00<00:00, 2272.89it/s]\n",
      "Processing segments for BIAL_20210522_061804.wav...: 100%|\u001b[31m██████████\u001b[0m| 39/39 [00:00<00:00, 2405.63it/s]\n",
      "Processing segments for BIAL_20210422_071109.wav...: 100%|\u001b[31m██████████\u001b[0m| 39/39 [00:00<00:00, 2392.29it/s]\n",
      "Processing segments for BIAL_20210524_051504.wav...: 100%|\u001b[31m██████████\u001b[0m| 39/39 [00:00<00:00, 2464.90it/s]\n",
      "Processing segments for BIAL_20210426_050304.wav...: 100%|\u001b[31m██████████\u001b[0m| 39/39 [00:00<00:00, 2271.95it/s]\n",
      "Processing segments for BIAL_20210420_081506.wav...: 100%|\u001b[31m██████████\u001b[0m| 39/39 [00:00<00:00, 2092.30it/s]\n",
      "Processing segments for BIAL_20210430_075501.wav...: 100%|\u001b[31m██████████\u001b[0m| 39/39 [00:00<00:00, 2355.77it/s]\n",
      "Processing segments for BIAL_20210429_075701.wav...: 100%|\u001b[31m██████████\u001b[0m| 39/39 [00:00<00:00, 2353.16it/s]\n",
      "Processing segments for BIAL_20210420_051500.wav...: 100%|\u001b[31m██████████\u001b[0m| 39/39 [00:00<00:00, 2371.62it/s]\n",
      "Processing segments for BIAL_20210420_061501.wav...: 100%|\u001b[31m██████████\u001b[0m| 39/39 [00:00<00:00, 2245.31it/s]\n",
      "Processing segments for BIAL_20210519_062201.wav...: 100%|\u001b[31m██████████\u001b[0m| 39/39 [00:00<00:00, 2402.87it/s]\n",
      "Processing segments for BIAL_20210430_045504.wav...: 100%|\u001b[31m██████████\u001b[0m| 39/39 [00:00<00:00, 2264.43it/s]\n",
      "Processing segments for BIAL_20210423_050906.wav...: 100%|\u001b[31m██████████\u001b[0m| 39/39 [00:00<00:00, 1712.05it/s]\n",
      "Processing segments for BIAL_20210522_071804.wav...: 100%|\u001b[31m██████████\u001b[0m| 39/39 [00:00<00:00, 2456.60it/s]\n",
      "Processing segments for BIAL_20210420_061502.wav...: 100%|\u001b[31m██████████\u001b[0m| 39/39 [00:00<00:00, 2319.20it/s]\n",
      "Processing segments for BIAL_20210519_042204.wav...: 100%|\u001b[31m██████████\u001b[0m| 39/39 [00:00<00:00, 2400.76it/s]\n",
      "Processing segments for BIAL_20210423_070904.wav...: 100%|\u001b[31m██████████\u001b[0m| 39/39 [00:00<00:00, 2111.83it/s]\n",
      "Processing segments for BIAL_20210423_060904.wav...: 100%|\u001b[31m██████████\u001b[0m| 39/39 [00:00<00:00, 2126.04it/s]\n",
      "Processing segments for BIAL_20210524_041504.wav...: 100%|\u001b[31m██████████\u001b[0m| 39/39 [00:00<00:00, 2347.22it/s]\n",
      "Processing segments for BIAL_20210426_070304.wav...: 100%|\u001b[31m██████████\u001b[0m| 39/39 [00:00<00:00, 2256.06it/s]\n",
      "Processing segments for BIAL_20210519_062204.wav...: 100%|\u001b[31m██████████\u001b[0m| 39/39 [00:00<00:00, 1988.93it/s]\n",
      "Processing segments for BIAL_20210429_065701.wav...: 100%|\u001b[31m██████████\u001b[0m| 39/39 [00:00<00:00, 2270.09it/s]\n",
      "Processing segments for BIAL_20210423_080905.wav...: 100%|\u001b[31m██████████\u001b[0m| 39/39 [00:00<00:00, 2341.74it/s]\n",
      "Processing segments for BIAL_20210520_072001.wav...: 100%|\u001b[31m██████████\u001b[0m| 39/39 [00:00<00:00, 2260.61it/s]\n",
      "Processing segments for BIAL_20210426_050306.wav...: 100%|\u001b[31m██████████\u001b[0m| 39/39 [00:00<00:00, 1857.99it/s]\n",
      "Processing segments for BIAL_20210518_062301.wav...: 100%|\u001b[31m██████████\u001b[0m| 39/39 [00:00<00:00, 2366.92it/s]\n",
      "Processing segments for BIAL_20210423_050904.wav...: 100%|\u001b[31m██████████\u001b[0m| 39/39 [00:00<00:00, 2315.95it/s]\n",
      "Processing segments for BIAL_20210422_061107.wav...: 100%|\u001b[31m██████████\u001b[0m| 39/39 [00:00<00:00, 2370.14it/s]\n",
      "Processing segments for BIAL_20210519_072201.wav...: 100%|\u001b[31m██████████\u001b[0m| 39/39 [00:00<00:00, 2472.27it/s]\n",
      "Processing segments for BIAL_20210420_071503.wav...: 100%|\u001b[31m██████████\u001b[0m| 39/39 [00:00<00:00, 2196.88it/s]\n",
      "Processing segments for BIAL_20210519_072204.wav...: 100%|\u001b[31m██████████\u001b[0m| 39/39 [00:00<00:00, 2529.15it/s]\n",
      "Processing segments for BIAL_20210518_052304.wav...: 100%|\u001b[31m██████████\u001b[0m| 39/39 [00:00<00:00, 2516.35it/s]\n",
      "Processing segments for BIAL_20210426_060302.wav...: 100%|\u001b[31m██████████\u001b[0m| 39/39 [00:00<00:00, 2493.41it/s]\n",
      "Processing segments for BIAL_20210521_071901.wav...: 100%|\u001b[31m██████████\u001b[0m| 39/39 [00:00<00:00, 2410.73it/s]\n",
      "Processing segments for BIAL_20210429_045701.wav...: 100%|\u001b[31m██████████\u001b[0m| 39/39 [00:00<00:00, 2489.35it/s]\n",
      "Processing segments for BIAL_20210422_081102.wav...: 100%|\u001b[31m██████████\u001b[0m| 39/39 [00:00<00:00, 2463.37it/s]\n",
      "Processing segments for BIAL_20210524_041501.wav...: 100%|\u001b[31m██████████\u001b[0m| 39/39 [00:00<00:00, 2513.45it/s]\n",
      "Processing segments for BIAL_20210426_080304.wav...: 100%|\u001b[31m██████████\u001b[0m| 39/39 [00:00<00:00, 2359.68it/s]\n",
      "Processing segments for BIAL_20210423_060905.wav...: 100%|\u001b[31m██████████\u001b[0m| 39/39 [00:00<00:00, 2035.23it/s]\n",
      "Processing segments for BIAL_20210524_071504.wav...: 100%|\u001b[31m██████████\u001b[0m| 39/39 [00:00<00:00, 1974.03it/s]\n",
      "Processing segments for BIAL_20210524_061504.wav...: 100%|\u001b[31m██████████\u001b[0m| 39/39 [00:00<00:00, 2396.25it/s]\n",
      "Processing segments for BIAL_20210519_042201.wav...: 100%|\u001b[31m██████████\u001b[0m| 39/39 [00:00<00:00, 2327.28it/s]\n",
      "Processing segments for BIAL_20210520_042004.wav...: 100%|\u001b[31m██████████\u001b[0m| 39/39 [00:00<00:00, 2379.21it/s]\n",
      "Processing segments for BIAL_20210519_052201.wav...: 100%|\u001b[31m██████████\u001b[0m| 39/39 [00:00<00:00, 2381.70it/s]\n",
      "Processing segments for BIAL_20210430_065501.wav...: 100%|\u001b[31m██████████\u001b[0m| 39/39 [00:00<00:00, 2329.97it/s]\n",
      "Processing segments for BIAL_20210518_072304.wav...: 100%|\u001b[31m██████████\u001b[0m| 39/39 [00:00<00:00, 2503.07it/s]\n",
      "Processing segments for BIAL_20210420_081505.wav...: 100%|\u001b[31m██████████\u001b[0m| 39/39 [00:00<00:00, 2273.15it/s]\n",
      "Processing segments for BIAL_20210518_042304.wav...: 100%|\u001b[31m██████████\u001b[0m| 39/39 [00:00<00:00, 2568.67it/s]\n",
      "Processing segments for BIAL_20210422_081103.wav...: 100%|\u001b[31m██████████\u001b[0m| 39/39 [00:00<00:00, 2473.77it/s]\n",
      "Processing segments for BIAL_20210426_060301.wav...: 100%|\u001b[31m██████████\u001b[0m| 39/39 [00:00<00:00, 2426.76it/s]\n",
      "Processing segments for BIAL_20210518_072301.wav...: 100%|\u001b[31m██████████\u001b[0m| 39/39 [00:00<00:00, 2407.61it/s]\n",
      "Processing segments for BIAL_20210524_061501.wav...: 100%|\u001b[31m██████████\u001b[0m| 39/39 [00:00<00:00, 2465.56it/s]\n",
      "Processing segments for BIAL_20210423_070906.wav...: 100%|\u001b[31m██████████\u001b[0m| 39/39 [00:00<00:00, 2482.74it/s]\n",
      "Processing segments for BIAL_20210518_052301.wav...: 100%|\u001b[31m██████████\u001b[0m| 39/39 [00:00<00:00, 2519.33it/s]\n",
      "Processing segments for BIAL_20210420_051506.wav...: 100%|\u001b[31m██████████\u001b[0m| 39/39 [00:00<00:00, 1871.11it/s]\n",
      "Processing segments for BIAL_20210422_071108.wav...: 100%|\u001b[31m██████████\u001b[0m| 39/39 [00:00<00:00, 2485.12it/s]\n",
      "Processing segments for BIAL_20210429_045704.wav...: 100%|\u001b[31m██████████\u001b[0m| 39/39 [00:00<00:00, 2410.13it/s]\n",
      "Processing segments for BIAL_20210518_042301.wav...: 100%|\u001b[31m██████████\u001b[0m| 39/39 [00:00<00:00, 1967.83it/s]\n",
      "Processing segments for BIAL_20210422_051104.wav...: 100%|\u001b[31m██████████\u001b[0m| 39/39 [00:00<00:00, 2494.40it/s]\n",
      "Processing segments for BIAL_20210520_052001.wav...: 100%|\u001b[31m██████████\u001b[0m| 39/39 [00:00<00:00, 2532.83it/s]\n",
      "Processing segments for BIAL_20210430_045501.wav...: 100%|\u001b[31m██████████\u001b[0m| 39/39 [00:00<00:00, 2230.92it/s]\n",
      "Processing segments for BIAL_20210520_042001.wav...: 100%|\u001b[31m██████████\u001b[0m| 39/39 [00:00<00:00, 2028.75it/s]\n"
     ]
    }
   ],
   "source": [
    "utils.generate_segments(WABAD_AUDIO_SOURCE, WABAD_SEGMENTS_PATH, true_segments_wabad, audio_info_wabad, generate_None=False)"
   ]
  },
  {
   "cell_type": "code",
   "execution_count": 47,
   "metadata": {},
   "outputs": [
    {
     "data": {
      "text/html": [
       "<div>\n",
       "<style scoped>\n",
       "    .dataframe tbody tr th:only-of-type {\n",
       "        vertical-align: middle;\n",
       "    }\n",
       "\n",
       "    .dataframe tbody tr th {\n",
       "        vertical-align: top;\n",
       "    }\n",
       "\n",
       "    .dataframe thead th {\n",
       "        text-align: right;\n",
       "    }\n",
       "</style>\n",
       "<table border=\"1\" class=\"dataframe\">\n",
       "  <thead>\n",
       "    <tr style=\"text-align: right;\">\n",
       "      <th></th>\n",
       "      <th>Species</th>\n",
       "      <th>Count</th>\n",
       "      <th>Count WABAD FR</th>\n",
       "    </tr>\n",
       "  </thead>\n",
       "  <tbody>\n",
       "    <tr>\n",
       "      <th>4</th>\n",
       "      <td>None</td>\n",
       "      <td>4907</td>\n",
       "      <td>12951</td>\n",
       "    </tr>\n",
       "    <tr>\n",
       "      <th>6</th>\n",
       "      <td>Turdus merula_Eurasian Blackbird</td>\n",
       "      <td>315</td>\n",
       "      <td>8239</td>\n",
       "    </tr>\n",
       "    <tr>\n",
       "      <th>0</th>\n",
       "      <td>Muscicapa striata_Spotted Flycatcher</td>\n",
       "      <td>108</td>\n",
       "      <td>23</td>\n",
       "    </tr>\n",
       "    <tr>\n",
       "      <th>7</th>\n",
       "      <td>Loxia curvirostra_Common Crossbill</td>\n",
       "      <td>52</td>\n",
       "      <td>122</td>\n",
       "    </tr>\n",
       "    <tr>\n",
       "      <th>1</th>\n",
       "      <td>Periparus ater_Coal Tit</td>\n",
       "      <td>28</td>\n",
       "      <td>3661</td>\n",
       "    </tr>\n",
       "    <tr>\n",
       "      <th>8</th>\n",
       "      <td>Dendrocopos major_Great Spotted Woodpecker</td>\n",
       "      <td>25</td>\n",
       "      <td>578</td>\n",
       "    </tr>\n",
       "    <tr>\n",
       "      <th>3</th>\n",
       "      <td>Dryocopus martius_Black Woodpecker</td>\n",
       "      <td>21</td>\n",
       "      <td>112</td>\n",
       "    </tr>\n",
       "    <tr>\n",
       "      <th>9</th>\n",
       "      <td>Lophophanes cristatus_Crested Tit</td>\n",
       "      <td>14</td>\n",
       "      <td>338</td>\n",
       "    </tr>\n",
       "    <tr>\n",
       "      <th>2</th>\n",
       "      <td>Regulus regulus_Goldcrest</td>\n",
       "      <td>12</td>\n",
       "      <td>1086</td>\n",
       "    </tr>\n",
       "    <tr>\n",
       "      <th>5</th>\n",
       "      <td>Certhia familiaris_Eurasian Treecreeper</td>\n",
       "      <td>3</td>\n",
       "      <td>250</td>\n",
       "    </tr>\n",
       "  </tbody>\n",
       "</table>\n",
       "</div>"
      ],
      "text/plain": [
       "                                      Species  Count  Count WABAD FR\n",
       "4                                        None   4907           12951\n",
       "6            Turdus merula_Eurasian Blackbird    315            8239\n",
       "0        Muscicapa striata_Spotted Flycatcher    108              23\n",
       "7          Loxia curvirostra_Common Crossbill     52             122\n",
       "1                     Periparus ater_Coal Tit     28            3661\n",
       "8  Dendrocopos major_Great Spotted Woodpecker     25             578\n",
       "3          Dryocopus martius_Black Woodpecker     21             112\n",
       "9           Lophophanes cristatus_Crested Tit     14             338\n",
       "2                   Regulus regulus_Goldcrest     12            1086\n",
       "5     Certhia familiaris_Eurasian Treecreeper      3             250"
      ]
     },
     "execution_count": 47,
     "metadata": {},
     "output_type": "execute_result"
    }
   ],
   "source": [
    "species_count_wabad_fr = {}\n",
    "for species in os.listdir(WABAD_SEGMENTS_PATH):\n",
    "    species_count_wabad_fr[species] = len(os.listdir(os.path.join(WABAD_SEGMENTS_PATH, species)))\n",
    "\n",
    "species_count_wabad_fr_df = pd.DataFrame(list(species_count_wabad_fr.items()), columns=[\"Species\", \"Count WABAD FR\"])\n",
    "merged_df = pd.merge(species_count_df, species_count_wabad_fr_df, on=\"Species\", how=\"inner\")\n",
    "merged_df.sort_values(by=[\"Count\"], ascending=False)"
   ]
  }
 ],
 "metadata": {
  "kernelspec": {
   "display_name": "myenv",
   "language": "python",
   "name": "python3"
  },
  "language_info": {
   "codemirror_mode": {
    "name": "ipython",
    "version": 3
   },
   "file_extension": ".py",
   "mimetype": "text/x-python",
   "name": "python",
   "nbconvert_exporter": "python",
   "pygments_lexer": "ipython3",
   "version": "3.10.17"
  }
 },
 "nbformat": 4,
 "nbformat_minor": 2
}
