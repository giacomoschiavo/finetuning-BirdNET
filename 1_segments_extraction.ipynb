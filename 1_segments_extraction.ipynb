{
 "cells": [
  {
   "cell_type": "markdown",
   "metadata": {},
   "source": [
    "# Segments Extraction  \n",
    "\n",
    "This notebook extracts annotated audio segments from the official recordings of Tovanella and WABAD using the `Bird_tags_Train.mat` file. Since BirdNET analyzes 3-second clips, all extracted segments follow this duration.  \n",
    "\n",
    "Segments are generated with a 50% overlap, shifting by 1.5 seconds between consecutive clips.  \n",
    "\n",
    "## Extraction Process:\n",
    "1. **`species_dict`**: maps common names to scientific names for all species.  \n",
    "2. **`category_annots.json`** & **`audio_annots.json`**: store segment annotations for each species in every audio file.  \n",
    "3. **`audio_info.json`**: provides total duration and sampling rate for each recording.  \n",
    "4. **`true_segments.json`**: lists the species present in each extracted segment.  \n",
    "\n",
    "Unannotated segments can be included (labeled as `\"None\"`) by enabling `generate_None`, treating them as a non-species class.  \n",
    "\n",
    "For WABAD, a different approach was used due to multiple recording sites—only relevant sites containing the study species were processed.\n"
   ]
  },
  {
   "cell_type": "code",
   "execution_count": 1,
   "metadata": {},
   "outputs": [],
   "source": [
    "import scipy.io\n",
    "import numpy as np\n",
    "import os\n",
    "from pydub import AudioSegment\n",
    "import numpy as np\n",
    "import json\n",
    "from tqdm import tqdm\n",
    "import pandas as pd\n",
    "import csv\n",
    "import librosa"
   ]
  },
  {
   "cell_type": "code",
   "execution_count": 2,
   "metadata": {},
   "outputs": [],
   "source": [
    "DATASET_NAME = 'DATASET_CNN'\n",
    "DATASET_PATH = f'/home/giacomoschiavo/segments/{DATASET_NAME}'\n",
    "AUDIO_SOURCE = '/home/giacomoschiavo/Tovanella'"
   ]
  },
  {
   "cell_type": "code",
   "execution_count": null,
   "metadata": {},
   "outputs": [],
   "source": [
    "# Configuration variable\n",
    "# DATASET_NAME = 'NEW_DATASET_2'                              # name of the dataset (used to save utils file under its name) \n",
    "# DATASET_PATH = f'E:/Giacomo/Tovanella/{DATASET_NAME}'       # path of the dataset\n",
    "# AUDIO_SOURCE = 'E:/Giacomo/Tovanella/Tovanella'             # folder that contains all the audio files"
   ]
  },
  {
   "cell_type": "markdown",
   "metadata": {},
   "source": [
    "# Species Dict\n",
    "Create a dictionary to map the scientific name of a species to its common name"
   ]
  },
  {
   "cell_type": "code",
   "execution_count": 3,
   "metadata": {},
   "outputs": [
    {
     "data": {
      "text/plain": [
       "['Abroscopus albogularis_Rufous-faced Warbler',\n",
       " 'Abroscopus schisticeps_Black-faced Warbler',\n",
       " 'Abroscopus superciliaris_Yellow-bellied Warbler',\n",
       " 'Aburria aburri_Wattled Guan',\n",
       " 'Acanthagenys rufogularis_Spiny-cheeked Honeyeater']"
      ]
     },
     "execution_count": 3,
     "metadata": {},
     "output_type": "execute_result"
    }
   ],
   "source": [
    "from pathlib import Path\n",
    "\n",
    "all_species = Path(\"utils/BirdNET_GLOBAL_6K_V2.4_Labels_en_uk.txt\").read_text(encoding=\"utf-8\").splitlines()\n",
    "all_species[:5]"
   ]
  },
  {
   "cell_type": "code",
   "execution_count": 4,
   "metadata": {},
   "outputs": [
    {
     "data": {
      "text/plain": [
       "'Rufous-faced Warbler'"
      ]
     },
     "execution_count": 4,
     "metadata": {},
     "output_type": "execute_result"
    }
   ],
   "source": [
    "# maps every scientific name to its common name\n",
    "species_dict = {}\n",
    "for specie in all_species:\n",
    "    scientific_name, common_name = specie.split(\"_\")    # <Abroscopus albogularis>_<Rufous-faced Warbler>\n",
    "    species_dict[scientific_name] = common_name\n",
    "\n",
    "species_dict[\"Abroscopus albogularis\"]"
   ]
  },
  {
   "cell_type": "code",
   "execution_count": 5,
   "metadata": {},
   "outputs": [],
   "source": [
    "# export species_dict to json\n",
    "# with open('utils/species_dict_map.json', 'w') as f:\n",
    "#     json.dump(species_dict, f)"
   ]
  },
  {
   "cell_type": "markdown",
   "metadata": {},
   "source": [
    "# Category and Audio Annotation Files: A Deep Dive\n",
    "\n",
    "These files hold invaluable annotation data, offering distinct perspectives on our dataset.\n",
    "\n",
    "**`category_annots.json`**: This file provides a species-centric view. For each species identified, it lists *all* corresponding annotations found across *every* audio recording within the Tovanella folder.\n",
    "\n",
    "**`audio_annots.json`**: In contrast, this file takes an audio-centric approach. For each individual audio file in our collection, it details *all* the annotations present within that specific recording."
   ]
  },
  {
   "cell_type": "code",
   "execution_count": 6,
   "metadata": {},
   "outputs": [
    {
     "name": "stdout",
     "output_type": "stream",
     "text": [
      "0 ['Fringilla_coelebs']\n",
      "1 ['20190621_030000.WAV']\n",
      "2 [[ 6.08474576  1.61016949  1.61016949  6.08474576 42.61703208 45.50069122]]\n",
      "3 [[42.61703208  6.08474576]\n",
      " [42.61703208  1.61016949]\n",
      " [45.50069122  1.61016949]\n",
      " [45.50069122  6.08474576]\n",
      " [42.61703208  6.08474576]]\n",
      "4 [[2]]\n"
     ]
    }
   ],
   "source": [
    "# extract annotations from the given file\n",
    "bird_tags = scipy.io.loadmat('Bird_tags_Train.mat')[\"Bird_tags\"] \n",
    "# visualize an example, showing all the properties\n",
    "for i, prop in enumerate(bird_tags[12][0][0][0]):\n",
    "    print(i, prop)"
   ]
  },
  {
   "cell_type": "code",
   "execution_count": 7,
   "metadata": {},
   "outputs": [],
   "source": [
    "def get_audio_category_annots(bird_tags_filepath, audio_source_path):\n",
    "    bird_tags = scipy.io.loadmat(bird_tags_filepath)[\"Bird_tags\"]\n",
    "    category_annots = {}      # detections grouped by category\n",
    "    audio_annots = {}         # detections grouped by audio\n",
    "    for elem in bird_tags:\n",
    "        tag = elem[0][0][0][0][0]\n",
    "        scientific_name = tag.replace(\"_\", \" \")                 # Fringilla_coelebs -> Fringilla coelebs\n",
    "        common_name = species_dict.get(scientific_name, \"\")     # Fringilla coelebs -> Common Chaffinch\n",
    "        label = \"_\".join([scientific_name, common_name])        # Fringilla coelebs_Common Chaffinch\n",
    "\n",
    "        if not common_name:             # this happens only for non-species class, like \"Wind_\" and \"Vegetation_\"\n",
    "            label = scientific_name     # as they don't have a common name, we use the scientific name as label\n",
    "\n",
    "        file_name = elem[0][0][0][1][0]                         \n",
    "        file_path = os.path.join(audio_source_path, file_name)   # path to the audio file\n",
    "\n",
    "        start_time, end_time = np.array(elem[0][0][0][2]).flatten()[-2:]\n",
    "        duration = end_time - start_time\n",
    "        \n",
    "        if not os.path.exists(file_path):       # do not store if file does not exist \n",
    "            continue\n",
    "        if label not in category_annots:\n",
    "            category_annots[label] = []\n",
    "        if file_name not in audio_annots:\n",
    "            audio_annots[file_name] = []\n",
    "\n",
    "        category_annots[label].append({ \"file_name\": file_name, \"start_time\": start_time, \"duration\": duration, \"label\": label  })\n",
    "        audio_annots[file_name].append({ \"scientific_name\": scientific_name, \"common_name\": common_name, \"start_time\": start_time, \"duration\": duration, \"label\": label })\n",
    "\n",
    "    return category_annots, audio_annots\n"
   ]
  },
  {
   "cell_type": "code",
   "execution_count": 8,
   "metadata": {},
   "outputs": [],
   "source": [
    "category_annots, audio_annots = get_audio_category_annots(\"Bird_tags_Train.mat\", AUDIO_SOURCE)\n",
    "\n",
    "with open(\"utils/category_annots.json\", \"w\") as f:\n",
    "    json.dump(category_annots, f)\n",
    "with open(\"utils/audio_annots.json\", \"w\") as f:\n",
    "    json.dump(audio_annots, f)"
   ]
  },
  {
   "cell_type": "code",
   "execution_count": 9,
   "metadata": {},
   "outputs": [],
   "source": [
    "# creates species list\n",
    "species_list = list(category_annots.keys())"
   ]
  },
  {
   "cell_type": "markdown",
   "metadata": {},
   "source": [
    "# Segments Creation\n",
    "Creates all the segments listed in Category Info"
   ]
  },
  {
   "cell_type": "code",
   "execution_count": 10,
   "metadata": {},
   "outputs": [],
   "source": [
    "# store info about duration and sampling rate of the given audio\n",
    "def generate_audio_info(source_audio_path, audio_annots):\n",
    "    audio_info = {}\n",
    "    audios = list(audio_annots.keys())\n",
    "    for audio in audios:\n",
    "        y, sr = librosa.load(os.path.join(source_audio_path, audio), sr=None)\n",
    "        duration = librosa.get_duration(y=y, sr=sr)\n",
    "        audio_info[audio] = {\"duration\": duration, \"sampling_rate\": sr}\n",
    "    return audio_info"
   ]
  },
  {
   "cell_type": "code",
   "execution_count": 11,
   "metadata": {},
   "outputs": [],
   "source": [
    "# LOAD\n",
    "# with open(\"utils/audio_info.json\") as f:\n",
    "    # audio_info = json.load(f)\n",
    "\n",
    "# SAVE\n",
    "audio_info = generate_audio_info(AUDIO_SOURCE, audio_annots)\n",
    "with open(\"utils/audio_info.json\", \"w\") as f:\n",
    "    json.dump(audio_info, f)"
   ]
  },
  {
   "cell_type": "code",
   "execution_count": 12,
   "metadata": {},
   "outputs": [],
   "source": [
    "# generates the true segments for each audio file\n",
    "def generate_true_segments(audio_annots, audio_info):\n",
    "    true_segments = {}\n",
    "    audios = list(audio_annots.keys())\n",
    "    segment_length = 3.0    # length of each segment \n",
    "    step_size = 1.5         # overlap between segments \n",
    "\n",
    "    for audio in audios:\n",
    "        # load annotations for this audio\n",
    "        all_annotations = audio_annots[audio]               \n",
    "        audio_duration = audio_info[audio][\"duration\"]\n",
    "        true_segments[audio] = {}\n",
    "\n",
    "        # generate all empty segments every 1.5 seconds\n",
    "        segment_start = 0.0\n",
    "        while segment_start + segment_length <= audio_duration:\n",
    "            segm_id = f\"{int(segment_start)}_{int((segment_start % 1) * 10)}\"\n",
    "            true_segments[audio][segm_id] = []      # empty list that will be filled with annotations\n",
    "            segment_start += step_size              # move the segment forward by 1.5s\n",
    "\n",
    "        # assign the annotations to the corresponding segments\n",
    "        for annotation in all_annotations:\n",
    "            start_time = annotation[\"start_time\"]\n",
    "            duration = annotation[\"duration\"]\n",
    "            species = annotation[\"label\"]\n",
    "\n",
    "            # find the time interval where this annotation is present\n",
    "            annotation_end = start_time + duration\n",
    "\n",
    "            # check which segments contain it at least partially\n",
    "            for segment_start_str in true_segments[audio].keys():\n",
    "                segment_start_time = float(segment_start_str.replace(\"_\", \".\"))  # convert from string to float\n",
    "                segment_end_time = segment_start_time + segment_length\n",
    "\n",
    "                # if the annotation falls at least partially within this segment, add it\n",
    "                if not (annotation_end <= segment_start_time or start_time >= segment_end_time):\n",
    "                    if species not in true_segments[audio][segment_start_str]:\n",
    "                        true_segments[audio][segment_start_str].append(species)\n",
    "    return true_segments"
   ]
  },
  {
   "cell_type": "code",
   "execution_count": 13,
   "metadata": {},
   "outputs": [],
   "source": [
    "true_segments = generate_true_segments(audio_annots, audio_info)"
   ]
  },
  {
   "cell_type": "code",
   "execution_count": 14,
   "metadata": {},
   "outputs": [],
   "source": [
    "# SAVE\n",
    "os.makedirs(f'utils/{DATASET_NAME}', exist_ok=True)\n",
    "with open(f'utils/{DATASET_NAME}/true_segments.json', 'w') as f:\n",
    "    json.dump(true_segments, f)"
   ]
  },
  {
   "cell_type": "code",
   "execution_count": 15,
   "metadata": {},
   "outputs": [],
   "source": [
    "# create segment file given a species name\n",
    "def generate_species_segment(segment_audio, species_name, target_path, basename, segm_id):\n",
    "    os.makedirs(os.path.join(target_path, species_name), exist_ok=True)\n",
    "    export_path = os.path.join(\n",
    "        target_path,\n",
    "        species_name, \n",
    "        f\"{basename}_{segm_id}.wav\"\n",
    "    )\n",
    "    if os.path.exists(export_path):\n",
    "        return\n",
    "    segment_audio.export(export_path, format=\"wav\")\n",
    "\n",
    "# generate the audio from the true_segments\n",
    "def generate_segments(audio_source_path, target_path, true_segments, audio_info, generate_None=False):\n",
    "    for audio_path, segms in true_segments.items():     # { <audio_path>.wav: { <segm_id>: [<species>] } }\n",
    "        basename = os.path.splitext(audio_path)[0]      # removes \".wav\"\n",
    "        progress_bar = tqdm(total=len(segms), colour='red', desc=\"Processing segments...\")\n",
    "        print(f\"Elaborating audio {audio_path}...\")\n",
    "        # loads the audio\n",
    "        audio = AudioSegment.from_file(                 \n",
    "                os.path.join(audio_source_path, audio_path),    \n",
    "                format=\"wav\",\n",
    "                frame_rate=audio_info[audio_path][\"sampling_rate\"]\n",
    "            )\n",
    "        for segm_id, species in segms.items():          # <segm_id>: [<species>]\n",
    "            segment_start_time = float(segm_id.replace(\"_\", \".\"))\n",
    "            segment_audio = audio[segment_start_time*1000:segment_start_time*1000 + 3000]\n",
    "            if not species and generate_None:           # if the segment is empty, generate a None segment\n",
    "                generate_species_segment(segment_audio, \"None\", target_path, basename, segm_id)\n",
    "            for sp in species:\n",
    "                generate_species_segment(segment_audio, sp, target_path, basename, segm_id)\n",
    "            progress_bar.update(1)\n",
    "        progress_bar.close()"
   ]
  },
  {
   "cell_type": "code",
   "execution_count": 16,
   "metadata": {},
   "outputs": [],
   "source": [
    "# it takes almost 30 minutes\n",
    "# generate_segments(audio_source_path=AUDIO_SOURCE,\n",
    "#                   target_path=f\"{DATASET_PATH}/train\",\n",
    "#                   true_segments=true_segments,\n",
    "#                   audio_info=audio_info,\n",
    "#                   generate_None=True)"
   ]
  },
  {
   "cell_type": "code",
   "execution_count": 46,
   "metadata": {},
   "outputs": [
    {
     "data": {
      "text/html": [
       "<div>\n",
       "<style scoped>\n",
       "    .dataframe tbody tr th:only-of-type {\n",
       "        vertical-align: middle;\n",
       "    }\n",
       "\n",
       "    .dataframe tbody tr th {\n",
       "        vertical-align: top;\n",
       "    }\n",
       "\n",
       "    .dataframe thead th {\n",
       "        text-align: right;\n",
       "    }\n",
       "</style>\n",
       "<table border=\"1\" class=\"dataframe\">\n",
       "  <thead>\n",
       "    <tr style=\"text-align: right;\">\n",
       "      <th></th>\n",
       "      <th>Species</th>\n",
       "      <th>Count</th>\n",
       "    </tr>\n",
       "  </thead>\n",
       "  <tbody>\n",
       "    <tr>\n",
       "      <th>0</th>\n",
       "      <td>None</td>\n",
       "      <td>11291</td>\n",
       "    </tr>\n",
       "    <tr>\n",
       "      <th>1</th>\n",
       "      <td>Fringilla coelebs_Common Chaffinch</td>\n",
       "      <td>6002</td>\n",
       "    </tr>\n",
       "    <tr>\n",
       "      <th>2</th>\n",
       "      <td>Turdus philomelos_Song Thrush</td>\n",
       "      <td>4317</td>\n",
       "    </tr>\n",
       "    <tr>\n",
       "      <th>3</th>\n",
       "      <td>Sylvia atricapilla_Eurasian Blackcap</td>\n",
       "      <td>3027</td>\n",
       "    </tr>\n",
       "    <tr>\n",
       "      <th>4</th>\n",
       "      <td>Regulus ignicapilla_Common Firecrest</td>\n",
       "      <td>2777</td>\n",
       "    </tr>\n",
       "    <tr>\n",
       "      <th>5</th>\n",
       "      <td>Phylloscopus collybita_Common Chiffchaff</td>\n",
       "      <td>2014</td>\n",
       "    </tr>\n",
       "    <tr>\n",
       "      <th>6</th>\n",
       "      <td>Erithacus rubecula_European Robin</td>\n",
       "      <td>1385</td>\n",
       "    </tr>\n",
       "    <tr>\n",
       "      <th>7</th>\n",
       "      <td>Troglodytes troglodytes_Eurasian Wren</td>\n",
       "      <td>1159</td>\n",
       "    </tr>\n",
       "    <tr>\n",
       "      <th>8</th>\n",
       "      <td>Regulus regulus_Goldcrest</td>\n",
       "      <td>550</td>\n",
       "    </tr>\n",
       "    <tr>\n",
       "      <th>9</th>\n",
       "      <td>Rain</td>\n",
       "      <td>477</td>\n",
       "    </tr>\n",
       "    <tr>\n",
       "      <th>10</th>\n",
       "      <td>Wind</td>\n",
       "      <td>463</td>\n",
       "    </tr>\n",
       "    <tr>\n",
       "      <th>11</th>\n",
       "      <td>Periparus ater_Coal Tit</td>\n",
       "      <td>317</td>\n",
       "    </tr>\n",
       "    <tr>\n",
       "      <th>12</th>\n",
       "      <td>Muscicapa striata_Spotted Flycatcher</td>\n",
       "      <td>256</td>\n",
       "    </tr>\n",
       "    <tr>\n",
       "      <th>13</th>\n",
       "      <td>Vegetation</td>\n",
       "      <td>215</td>\n",
       "    </tr>\n",
       "    <tr>\n",
       "      <th>14</th>\n",
       "      <td>Pecking</td>\n",
       "      <td>180</td>\n",
       "    </tr>\n",
       "    <tr>\n",
       "      <th>15</th>\n",
       "      <td>Turdus merula_Eurasian Blackbird</td>\n",
       "      <td>155</td>\n",
       "    </tr>\n",
       "    <tr>\n",
       "      <th>16</th>\n",
       "      <td>Certhia familiaris_Eurasian Treecreeper</td>\n",
       "      <td>154</td>\n",
       "    </tr>\n",
       "    <tr>\n",
       "      <th>17</th>\n",
       "      <td>Loxia curvirostra_Common Crossbill</td>\n",
       "      <td>148</td>\n",
       "    </tr>\n",
       "    <tr>\n",
       "      <th>18</th>\n",
       "      <td>Lophophanes cristatus_Crested Tit</td>\n",
       "      <td>115</td>\n",
       "    </tr>\n",
       "    <tr>\n",
       "      <th>19</th>\n",
       "      <td>Turdus viscivorus_Mistle Thrush</td>\n",
       "      <td>112</td>\n",
       "    </tr>\n",
       "    <tr>\n",
       "      <th>20</th>\n",
       "      <td>Dryocopus martius_Black Woodpecker</td>\n",
       "      <td>51</td>\n",
       "    </tr>\n",
       "    <tr>\n",
       "      <th>21</th>\n",
       "      <td>Aeroplane</td>\n",
       "      <td>41</td>\n",
       "    </tr>\n",
       "    <tr>\n",
       "      <th>22</th>\n",
       "      <td>Dendrocopos major_Great Spotted Woodpecker</td>\n",
       "      <td>37</td>\n",
       "    </tr>\n",
       "    <tr>\n",
       "      <th>23</th>\n",
       "      <td>Glaucidium passerinum_Eurasian Pygmy-Owl</td>\n",
       "      <td>29</td>\n",
       "    </tr>\n",
       "    <tr>\n",
       "      <th>24</th>\n",
       "      <td>Pyrrhula pyrrhula_Eurasian Bullfinch</td>\n",
       "      <td>29</td>\n",
       "    </tr>\n",
       "    <tr>\n",
       "      <th>25</th>\n",
       "      <td>Insect</td>\n",
       "      <td>13</td>\n",
       "    </tr>\n",
       "    <tr>\n",
       "      <th>26</th>\n",
       "      <td>Phylloscopus trochilus_Willow Warbler</td>\n",
       "      <td>11</td>\n",
       "    </tr>\n",
       "    <tr>\n",
       "      <th>27</th>\n",
       "      <td>Spinus spinus_Eurasian Siskin</td>\n",
       "      <td>9</td>\n",
       "    </tr>\n",
       "    <tr>\n",
       "      <th>28</th>\n",
       "      <td>unknown</td>\n",
       "      <td>8</td>\n",
       "    </tr>\n",
       "    <tr>\n",
       "      <th>29</th>\n",
       "      <td>Poecile palustris_Marsh Tit</td>\n",
       "      <td>3</td>\n",
       "    </tr>\n",
       "    <tr>\n",
       "      <th>30</th>\n",
       "      <td>Bat</td>\n",
       "      <td>3</td>\n",
       "    </tr>\n",
       "    <tr>\n",
       "      <th>31</th>\n",
       "      <td>Prunella modularis_Dunnock</td>\n",
       "      <td>2</td>\n",
       "    </tr>\n",
       "  </tbody>\n",
       "</table>\n",
       "</div>"
      ],
      "text/plain": [
       "                                       Species  Count\n",
       "0                                         None  11291\n",
       "1           Fringilla coelebs_Common Chaffinch   6002\n",
       "2                Turdus philomelos_Song Thrush   4317\n",
       "3         Sylvia atricapilla_Eurasian Blackcap   3027\n",
       "4         Regulus ignicapilla_Common Firecrest   2777\n",
       "5     Phylloscopus collybita_Common Chiffchaff   2014\n",
       "6            Erithacus rubecula_European Robin   1385\n",
       "7        Troglodytes troglodytes_Eurasian Wren   1159\n",
       "8                    Regulus regulus_Goldcrest    550\n",
       "9                                         Rain    477\n",
       "10                                        Wind    463\n",
       "11                     Periparus ater_Coal Tit    317\n",
       "12        Muscicapa striata_Spotted Flycatcher    256\n",
       "13                                  Vegetation    215\n",
       "14                                     Pecking    180\n",
       "15            Turdus merula_Eurasian Blackbird    155\n",
       "16     Certhia familiaris_Eurasian Treecreeper    154\n",
       "17          Loxia curvirostra_Common Crossbill    148\n",
       "18           Lophophanes cristatus_Crested Tit    115\n",
       "19             Turdus viscivorus_Mistle Thrush    112\n",
       "20          Dryocopus martius_Black Woodpecker     51\n",
       "21                                   Aeroplane     41\n",
       "22  Dendrocopos major_Great Spotted Woodpecker     37\n",
       "23    Glaucidium passerinum_Eurasian Pygmy-Owl     29\n",
       "24        Pyrrhula pyrrhula_Eurasian Bullfinch     29\n",
       "25                                      Insect     13\n",
       "26       Phylloscopus trochilus_Willow Warbler     11\n",
       "27               Spinus spinus_Eurasian Siskin      9\n",
       "28                                     unknown      8\n",
       "29                 Poecile palustris_Marsh Tit      3\n",
       "30                                         Bat      3\n",
       "31                  Prunella modularis_Dunnock      2"
      ]
     },
     "execution_count": 46,
     "metadata": {},
     "output_type": "execute_result"
    }
   ],
   "source": [
    "# count segments by species\n",
    "target_path = f\"{DATASET_PATH}/train\"\n",
    "species_count = {species: len(os.listdir(os.path.join(target_path, species))) for species in os.listdir(target_path)}\n",
    "species_count_df = pd.DataFrame(list(species_count.items()), columns=[\"Species\", \"Count\"])\n",
    "species_count_df.sort_values(by=\"Count\", ascending=False).reset_index(drop=True)"
   ]
  },
  {
   "cell_type": "markdown",
   "metadata": {},
   "source": [
    "# WABAD Segments Extraction: A Tailored Approach\n",
    "\n",
    "For the WABAD dataset, a segment extraction strategy similar to the previous one is employed, with key adaptations to address its unique characteristics.\n",
    "\n",
    "Initially, the focus is specifically on the **less represented species**. In this particular analysis, species with **fewer than 750 occurrences** were targeted, while the \"non-species\" class was excluded.\n",
    "\n",
    "Next, the process involves extracting annotations directly from WABAD. This requires referencing a list of specific site datasets to download, located in the `wabad_datasets.txt` file. Once the annotations are gathered, audio segments are created. This follows the **same robust pipeline** used previously: transforming raw category and audio annotations (`category_annots`, `audio_annots`), saving audio details (`audio_info`), and then feeding into the generation of labeled segments (`true_segments`).\n",
    "\n",
    "Finally, given the abundance of unannotated segments (exceeding 10,000 samples of \"None\"), they have been excluded from this analysis."
   ]
  },
  {
   "cell_type": "code",
   "execution_count": 18,
   "metadata": {},
   "outputs": [],
   "source": [
    "# get species from category_info file, filter non-species name\n",
    "species_common_name_list = [species.split(\"_\")[0] for species in list(category_annots.keys()) if len(species.split(\"_\")) > 1]"
   ]
  },
  {
   "cell_type": "code",
   "execution_count": 19,
   "metadata": {},
   "outputs": [
    {
     "data": {
      "text/plain": [
       "['Muscicapa striata',\n",
       " 'Turdus viscivorus',\n",
       " 'Glaucidium passerinum',\n",
       " 'Pyrrhula pyrrhula',\n",
       " 'Periparus ater',\n",
       " 'Prunella modularis',\n",
       " 'Lophophanes cristatus',\n",
       " 'Regulus regulus',\n",
       " 'Turdus merula',\n",
       " 'Certhia familiaris',\n",
       " 'Loxia curvirostra',\n",
       " 'Dendrocopos major',\n",
       " 'Dryocopus martius',\n",
       " 'Phylloscopus trochilus',\n",
       " 'Spinus spinus',\n",
       " 'Poecile palustris']"
      ]
     },
     "execution_count": 19,
     "metadata": {},
     "output_type": "execute_result"
    }
   ],
   "source": [
    "minority_threshold = 750\n",
    "species_to_augment = [species.split(\"_\")[0] for species in species_list if species_count[species] <= minority_threshold if len(species.split(\"_\")) > 1]\n",
    "species_to_augment"
   ]
  },
  {
   "cell_type": "code",
   "execution_count": 20,
   "metadata": {},
   "outputs": [],
   "source": [
    "# 1. Locate site dataset list: `wabad_datasets.txt` in the `utils` folder.\n",
    "# 2. Manually download and extract ALL listed datasets.\n",
    "# 3. Place the extracted datasets into the designated `WABAD` folder.\n",
    "\n",
    "# this is an example of the outcome\n",
    "# E:\\Giacomo\\Tovanella\\WABAD\\BAM\\BAM\\Raven Pro annotations\\BAM_20151116_060801.txt\n",
    "# WABAD_PATH = \"E:/Giacomo/Tovanella/WABAD\"\n",
    "WABAD_PATH = \"/home/giacomoschiavo/WABAD/audio\""
   ]
  },
  {
   "cell_type": "code",
   "execution_count": 39,
   "metadata": {},
   "outputs": [],
   "source": [
    "def extract_wabad_info(folder_path):\n",
    "    # folder_path = \".../WABAD/BIAL/BIAL/Raven Pro annotations\"\n",
    "    audio_info_wabad = {}\n",
    "    category_info_wabad = {}\n",
    "    for txt_file in os.listdir(folder_path):\n",
    "        complete_path = os.path.join(folder_path, txt_file)\n",
    "        with open(complete_path, newline='', encoding='utf-8') as csvfile:\n",
    "            reader = csv.DictReader(csvfile, delimiter='\\t') \n",
    "            for row in reader:\n",
    "                if row[\"Species\"] not in species_to_augment or \"End Time (s)\" not in row:\n",
    "                    continue\n",
    "                file_name = txt_file.replace(\".txt\", \".wav\")\n",
    "                start_time = float(row[\"Begin Time (s)\"])\n",
    "                end_time = float(row[\"End Time (s)\"])\n",
    "                duration = end_time - start_time\n",
    "                common_name = species_dict[row[\"Species\"]]\n",
    "                label = f\"{row['Species']}_{common_name}\"\n",
    "\n",
    "                audio_info_entry = {\n",
    "                    \"scientific_name\": row[\"Species\"],\n",
    "                    \"common_name\": common_name, \n",
    "                    \"start_time\": start_time,\n",
    "                    \"duration\": duration,\n",
    "                    \"label\": label\n",
    "                }\n",
    "                category_info_entry = {\n",
    "                    \"file_name\": file_name,\n",
    "                    \"start_time\": start_time,\n",
    "                    \"duration\": duration,\n",
    "                    \"label\": label\n",
    "                }\n",
    "                \n",
    "                if file_name not in audio_info_wabad:\n",
    "                    audio_info_wabad[file_name] = []\n",
    "                if label not in category_info_wabad:\n",
    "                    category_info_wabad[label] = []\n",
    "                audio_info_wabad[file_name].append(audio_info_entry)\n",
    "                category_info_wabad[label].append(category_info_entry)\n",
    "    return audio_info_wabad, category_info_wabad"
   ]
  },
  {
   "cell_type": "code",
   "execution_count": 40,
   "metadata": {},
   "outputs": [],
   "source": [
    "audio_annots_wabad = {}\n",
    "category_annots_wabad = {}\n",
    "\n",
    "for folder in os.listdir(WABAD_PATH):\n",
    "    if not os.path.isdir(os.path.join(WABAD_PATH, folder)):\n",
    "        continue\n",
    "    annotations = os.path.join(WABAD_PATH, folder, folder, \"Raven Pro annotations\")\n",
    "    audio_info_update, category_info_update = extract_wabad_info(annotations)\n",
    "    for audio in audio_info_update.keys():\n",
    "        if audio not in audio_annots_wabad:\n",
    "            audio_annots_wabad[audio] = []\n",
    "        audio_annots_wabad[audio].extend(audio_info_update[audio])\n",
    "    for category in category_info_update.keys():\n",
    "        if category not in category_annots_wabad:\n",
    "            category_annots_wabad[category] = []\n",
    "        category_annots_wabad[category].extend(category_info_update[category])    \n",
    "\n",
    "with open(\"utils/WABAD/audio_annots_wabad.json\", 'w', encoding='utf-8') as jsonfile:\n",
    "    json.dump(audio_annots_wabad, jsonfile)\n",
    "\n",
    "with open(\"utils/WABAD/category_annots_wabad.json\", 'w', encoding='utf-8') as jsonfile:\n",
    "    json.dump(category_annots_wabad, jsonfile)"
   ]
  },
  {
   "cell_type": "code",
   "execution_count": 23,
   "metadata": {},
   "outputs": [
    {
     "data": {
      "text/html": [
       "<div>\n",
       "<style scoped>\n",
       "    .dataframe tbody tr th:only-of-type {\n",
       "        vertical-align: middle;\n",
       "    }\n",
       "\n",
       "    .dataframe tbody tr th {\n",
       "        vertical-align: top;\n",
       "    }\n",
       "\n",
       "    .dataframe thead th {\n",
       "        text-align: right;\n",
       "    }\n",
       "</style>\n",
       "<table border=\"1\" class=\"dataframe\">\n",
       "  <thead>\n",
       "    <tr style=\"text-align: right;\">\n",
       "      <th></th>\n",
       "      <th>Species</th>\n",
       "      <th>Count</th>\n",
       "      <th>Count WABAD</th>\n",
       "    </tr>\n",
       "  </thead>\n",
       "  <tbody>\n",
       "    <tr>\n",
       "      <th>2</th>\n",
       "      <td>Regulus regulus_Goldcrest</td>\n",
       "      <td>550</td>\n",
       "      <td>437</td>\n",
       "    </tr>\n",
       "    <tr>\n",
       "      <th>1</th>\n",
       "      <td>Periparus ater_Coal Tit</td>\n",
       "      <td>317</td>\n",
       "      <td>768</td>\n",
       "    </tr>\n",
       "    <tr>\n",
       "      <th>0</th>\n",
       "      <td>Muscicapa striata_Spotted Flycatcher</td>\n",
       "      <td>256</td>\n",
       "      <td>117</td>\n",
       "    </tr>\n",
       "    <tr>\n",
       "      <th>8</th>\n",
       "      <td>Turdus merula_Eurasian Blackbird</td>\n",
       "      <td>155</td>\n",
       "      <td>2308</td>\n",
       "    </tr>\n",
       "    <tr>\n",
       "      <th>5</th>\n",
       "      <td>Certhia familiaris_Eurasian Treecreeper</td>\n",
       "      <td>154</td>\n",
       "      <td>96</td>\n",
       "    </tr>\n",
       "    <tr>\n",
       "      <th>9</th>\n",
       "      <td>Loxia curvirostra_Common Crossbill</td>\n",
       "      <td>148</td>\n",
       "      <td>25</td>\n",
       "    </tr>\n",
       "    <tr>\n",
       "      <th>13</th>\n",
       "      <td>Lophophanes cristatus_Crested Tit</td>\n",
       "      <td>115</td>\n",
       "      <td>132</td>\n",
       "    </tr>\n",
       "    <tr>\n",
       "      <th>11</th>\n",
       "      <td>Turdus viscivorus_Mistle Thrush</td>\n",
       "      <td>112</td>\n",
       "      <td>229</td>\n",
       "    </tr>\n",
       "    <tr>\n",
       "      <th>3</th>\n",
       "      <td>Dryocopus martius_Black Woodpecker</td>\n",
       "      <td>51</td>\n",
       "      <td>32</td>\n",
       "    </tr>\n",
       "    <tr>\n",
       "      <th>10</th>\n",
       "      <td>Dendrocopos major_Great Spotted Woodpecker</td>\n",
       "      <td>37</td>\n",
       "      <td>242</td>\n",
       "    </tr>\n",
       "    <tr>\n",
       "      <th>7</th>\n",
       "      <td>Pyrrhula pyrrhula_Eurasian Bullfinch</td>\n",
       "      <td>29</td>\n",
       "      <td>8</td>\n",
       "    </tr>\n",
       "    <tr>\n",
       "      <th>6</th>\n",
       "      <td>Phylloscopus trochilus_Willow Warbler</td>\n",
       "      <td>11</td>\n",
       "      <td>418</td>\n",
       "    </tr>\n",
       "    <tr>\n",
       "      <th>12</th>\n",
       "      <td>Spinus spinus_Eurasian Siskin</td>\n",
       "      <td>9</td>\n",
       "      <td>102</td>\n",
       "    </tr>\n",
       "    <tr>\n",
       "      <th>4</th>\n",
       "      <td>Poecile palustris_Marsh Tit</td>\n",
       "      <td>3</td>\n",
       "      <td>12</td>\n",
       "    </tr>\n",
       "    <tr>\n",
       "      <th>14</th>\n",
       "      <td>Prunella modularis_Dunnock</td>\n",
       "      <td>2</td>\n",
       "      <td>75</td>\n",
       "    </tr>\n",
       "  </tbody>\n",
       "</table>\n",
       "</div>"
      ],
      "text/plain": [
       "                                       Species  Count  Count WABAD\n",
       "2                    Regulus regulus_Goldcrest    550          437\n",
       "1                      Periparus ater_Coal Tit    317          768\n",
       "0         Muscicapa striata_Spotted Flycatcher    256          117\n",
       "8             Turdus merula_Eurasian Blackbird    155         2308\n",
       "5      Certhia familiaris_Eurasian Treecreeper    154           96\n",
       "9           Loxia curvirostra_Common Crossbill    148           25\n",
       "13           Lophophanes cristatus_Crested Tit    115          132\n",
       "11             Turdus viscivorus_Mistle Thrush    112          229\n",
       "3           Dryocopus martius_Black Woodpecker     51           32\n",
       "10  Dendrocopos major_Great Spotted Woodpecker     37          242\n",
       "7         Pyrrhula pyrrhula_Eurasian Bullfinch     29            8\n",
       "6        Phylloscopus trochilus_Willow Warbler     11          418\n",
       "12               Spinus spinus_Eurasian Siskin      9          102\n",
       "4                  Poecile palustris_Marsh Tit      3           12\n",
       "14                  Prunella modularis_Dunnock      2           75"
      ]
     },
     "execution_count": 23,
     "metadata": {},
     "output_type": "execute_result"
    }
   ],
   "source": [
    "# show contribution of WABAD for every species\n",
    "species_count_wabad = {species_name: len(segms) for species_name, segms in category_annots_wabad.items()}\n",
    "species_count_wabad_df = pd.DataFrame(list(species_count_wabad.items()), columns=[\"Species\", \"Count WABAD\"])\n",
    "merged_df = pd.merge(species_count_df, species_count_wabad_df, on=\"Species\", how=\"inner\")\n",
    "merged_df.sort_values(by=[\"Count\"], ascending=False)"
   ]
  },
  {
   "cell_type": "code",
   "execution_count": 34,
   "metadata": {},
   "outputs": [],
   "source": [
    "# move all WABAD audio in a unique folder -> run \"move_files.py\" in the VM\n",
    "WABAD_PATH = \"/home/giacomoschiavo/WABAD/audio\"\n",
    "WABAD_AUDIO_SOURCE = \"/home/giacomoschiavo/WABAD/all_wabad_audio\"\n",
    "# for folder in os.listdir(WABAD_PATH):\n",
    "#     if not os.path.isdir(os.path.join(WABAD_PATH, folder)):\n",
    "#         continue\n",
    "#     # ...\\BAM\\BAM\\Recordings\n",
    "#     folder_path = os.path.join(WABAD_PATH, folder, folder, \"Recordings\")\n",
    "#     all_audio = os.listdir(folder_path)\n",
    "#     for audio in all_audio:\n",
    "#         if audio.upper() in audio_annots_wabad.keys():\n",
    "#             os.rename(\n",
    "#                 os.path.join(folder_path, audio),\n",
    "#                 os.path.join(WABAD_AUDIO_SOURCE, audio)\n",
    "#             )\n",
    "    "
   ]
  },
  {
   "cell_type": "code",
   "execution_count": null,
   "metadata": {},
   "outputs": [],
   "source": [
    "# with open(\"utils/audio_info_wabad.json\") as f:\n",
    "#     audio_info_wabad = json.load(f)\n",
    "\n",
    "audio_info_wabad = generate_audio_info(WABAD_AUDIO_SOURCE, audio_annots_wabad)\n",
    "with open(\"utils/WABAD/audio_info_wabad.json\", \"w\") as f:\n",
    "    json.dump(audio_info_wabad, f)"
   ]
  },
  {
   "cell_type": "code",
   "execution_count": 42,
   "metadata": {},
   "outputs": [],
   "source": [
    "true_segments_wabad = generate_true_segments(audio_annots_wabad, audio_info_wabad)\n",
    "with open(\"utils/WABAD/true_segments_wabad.json\", \"w\") as f:\n",
    "    json.dump(true_segments_wabad, f)"
   ]
  },
  {
   "cell_type": "code",
   "execution_count": 43,
   "metadata": {},
   "outputs": [],
   "source": [
    "# here we generate the segments for WABAD in WABAD_SEGMENTS_PATH folder\n",
    "WABAD_SEGMENTS_PATH = \"/home/giacomoschiavo/WABAD/segments\"\n",
    "os.makedirs(WABAD_SEGMENTS_PATH, exist_ok=True)"
   ]
  },
  {
   "cell_type": "code",
   "execution_count": 44,
   "metadata": {},
   "outputs": [
    {
     "name": "stderr",
     "output_type": "stream",
     "text": [
      "Processing segments...: 100%|\u001b[31m██████████\u001b[0m| 39/39 [00:00<00:00, 9279.96it/s]\n"
     ]
    },
    {
     "name": "stdout",
     "output_type": "stream",
     "text": [
      "Elaborating audio PITI_20220313_070800.wav...\n"
     ]
    },
    {
     "name": "stderr",
     "output_type": "stream",
     "text": [
      "Processing segments...: 100%|\u001b[31m██████████\u001b[0m| 39/39 [00:00<00:00, 5051.19it/s]\n"
     ]
    },
    {
     "name": "stdout",
     "output_type": "stream",
     "text": [
      "Elaborating audio OESF_20230518_060601.wav...\n"
     ]
    },
    {
     "name": "stderr",
     "output_type": "stream",
     "text": [
      "Processing segments...: 100%|\u001b[31m██████████\u001b[0m| 39/39 [00:00<00:00, 7558.00it/s]\n"
     ]
    },
    {
     "name": "stdout",
     "output_type": "stream",
     "text": [
      "Elaborating audio OESF_20230611_144932.wav...\n"
     ]
    },
    {
     "name": "stderr",
     "output_type": "stream",
     "text": [
      "Processing segments...: 100%|\u001b[31m██████████\u001b[0m| 39/39 [00:00<00:00, 6870.13it/s]\n"
     ]
    },
    {
     "name": "stdout",
     "output_type": "stream",
     "text": [
      "Elaborating audio PINA_20220603_082300.wav...\n"
     ]
    },
    {
     "name": "stderr",
     "output_type": "stream",
     "text": [
      "Processing segments...: 100%|\u001b[31m██████████\u001b[0m| 39/39 [00:00<00:00, 3714.89it/s]\n"
     ]
    },
    {
     "name": "stdout",
     "output_type": "stream",
     "text": [
      "Elaborating audio PINA_20220506_073700.wav...\n"
     ]
    },
    {
     "name": "stderr",
     "output_type": "stream",
     "text": [
      "Processing segments...: 100%|\u001b[31m██████████\u001b[0m| 39/39 [00:00<00:00, 4436.13it/s]\n"
     ]
    },
    {
     "name": "stdout",
     "output_type": "stream",
     "text": [
      "Elaborating audio PINA_20220502_083700.wav...\n"
     ]
    },
    {
     "name": "stderr",
     "output_type": "stream",
     "text": [
      "Processing segments...: 100%|\u001b[31m██████████\u001b[0m| 39/39 [00:00<00:00, 6294.60it/s]\n"
     ]
    },
    {
     "name": "stdout",
     "output_type": "stream",
     "text": [
      "Elaborating audio PINA_20220504_070800.wav...\n"
     ]
    },
    {
     "name": "stderr",
     "output_type": "stream",
     "text": [
      "Processing segments...: 100%|\u001b[31m██████████\u001b[0m| 39/39 [00:00<00:00, 2950.80it/s]\n"
     ]
    },
    {
     "name": "stdout",
     "output_type": "stream",
     "text": [
      "Elaborating audio PINA_20220502_083200.wav...\n"
     ]
    },
    {
     "name": "stderr",
     "output_type": "stream",
     "text": [
      "Processing segments...: 100%|\u001b[31m██████████\u001b[0m| 39/39 [00:00<00:00, 3911.38it/s]\n"
     ]
    },
    {
     "name": "stdout",
     "output_type": "stream",
     "text": [
      "Elaborating audio PINA_20220506_074900.wav...\n"
     ]
    },
    {
     "name": "stderr",
     "output_type": "stream",
     "text": [
      "Processing segments...: 100%|\u001b[31m██████████\u001b[0m| 39/39 [00:00<00:00, 2206.01it/s]\n"
     ]
    },
    {
     "name": "stdout",
     "output_type": "stream",
     "text": [
      "Elaborating audio PINA_20220602_063400.wav...\n"
     ]
    },
    {
     "name": "stderr",
     "output_type": "stream",
     "text": [
      "Processing segments...: 100%|\u001b[31m██████████\u001b[0m| 39/39 [00:00<00:00, 2802.05it/s]\n"
     ]
    },
    {
     "name": "stdout",
     "output_type": "stream",
     "text": [
      "Elaborating audio PINA_20220504_071900.wav...\n"
     ]
    },
    {
     "name": "stderr",
     "output_type": "stream",
     "text": [
      "Processing segments...: 100%|\u001b[31m██████████\u001b[0m| 39/39 [00:00<00:00, 5358.11it/s]\n"
     ]
    },
    {
     "name": "stdout",
     "output_type": "stream",
     "text": [
      "Elaborating audio PINA_20220430_081400.wav...\n"
     ]
    },
    {
     "name": "stderr",
     "output_type": "stream",
     "text": [
      "Processing segments...: 100%|\u001b[31m██████████\u001b[0m| 39/39 [00:00<00:00, 2792.43it/s]\n"
     ]
    },
    {
     "name": "stdout",
     "output_type": "stream",
     "text": [
      "Elaborating audio PINA_20220501_084500.wav...\n"
     ]
    },
    {
     "name": "stderr",
     "output_type": "stream",
     "text": [
      "Processing segments...: 100%|\u001b[31m██████████\u001b[0m| 39/39 [00:00<00:00, 2609.98it/s]\n"
     ]
    },
    {
     "name": "stdout",
     "output_type": "stream",
     "text": [
      "Elaborating audio PINA_20220504_071500.wav...\n"
     ]
    },
    {
     "name": "stderr",
     "output_type": "stream",
     "text": [
      "Processing segments...: 100%|\u001b[31m██████████\u001b[0m| 39/39 [00:00<00:00, 3974.00it/s]\n"
     ]
    },
    {
     "name": "stdout",
     "output_type": "stream",
     "text": [
      "Elaborating audio PINA_20220603_081500.wav...\n"
     ]
    },
    {
     "name": "stderr",
     "output_type": "stream",
     "text": [
      "Processing segments...: 100%|\u001b[31m██████████\u001b[0m| 39/39 [00:00<00:00, 2572.18it/s]\n"
     ]
    },
    {
     "name": "stdout",
     "output_type": "stream",
     "text": [
      "Elaborating audio PINA_20220602_062100.wav...\n"
     ]
    },
    {
     "name": "stderr",
     "output_type": "stream",
     "text": [
      "Processing segments...:   0%|\u001b[31m          \u001b[0m| 0/39 [00:00<?, ?it/s]"
     ]
    },
    {
     "name": "stdout",
     "output_type": "stream",
     "text": [
      "Elaborating audio PINA_20220601_074600.wav...\n"
     ]
    },
    {
     "name": "stderr",
     "output_type": "stream",
     "text": [
      "Processing segments...: 100%|\u001b[31m██████████\u001b[0m| 39/39 [00:00<00:00, 2455.09it/s]\n",
      "Processing segments...:   0%|\u001b[31m          \u001b[0m| 0/39 [00:00<?, ?it/s]"
     ]
    },
    {
     "name": "stdout",
     "output_type": "stream",
     "text": [
      "Elaborating audio PINA_20220506_072200.wav...\n"
     ]
    },
    {
     "name": "stderr",
     "output_type": "stream",
     "text": [
      "Processing segments...: 100%|\u001b[31m██████████\u001b[0m| 39/39 [00:00<00:00, 3645.11it/s]\n",
      "Processing segments...:   0%|\u001b[31m          \u001b[0m| 0/39 [00:00<?, ?it/s]"
     ]
    },
    {
     "name": "stdout",
     "output_type": "stream",
     "text": [
      "Elaborating audio PINA_20220504_074800.wav...\n"
     ]
    },
    {
     "name": "stderr",
     "output_type": "stream",
     "text": [
      "Processing segments...: 100%|\u001b[31m██████████\u001b[0m| 39/39 [00:00<00:00, 4857.98it/s]\n",
      "Processing segments...:   0%|\u001b[31m          \u001b[0m| 0/39 [00:00<?, ?it/s]"
     ]
    },
    {
     "name": "stdout",
     "output_type": "stream",
     "text": [
      "Elaborating audio PINA_20220430_081600.wav...\n"
     ]
    },
    {
     "name": "stderr",
     "output_type": "stream",
     "text": [
      "Processing segments...: 100%|\u001b[31m██████████\u001b[0m| 39/39 [00:00<00:00, 6913.69it/s]\n",
      "Processing segments...: 100%|\u001b[31m██████████\u001b[0m| 39/39 [00:00<00:00, 6969.36it/s]"
     ]
    },
    {
     "name": "stdout",
     "output_type": "stream",
     "text": [
      "Elaborating audio PINA_20220602_062800.wav...\n"
     ]
    },
    {
     "name": "stderr",
     "output_type": "stream",
     "text": [
      "\n",
      "Processing segments...:   0%|\u001b[31m          \u001b[0m| 0/39 [00:00<?, ?it/s]"
     ]
    },
    {
     "name": "stdout",
     "output_type": "stream",
     "text": [
      "Elaborating audio PINA_20220506_075200.wav...\n"
     ]
    },
    {
     "name": "stderr",
     "output_type": "stream",
     "text": [
      "Processing segments...: 100%|\u001b[31m██████████\u001b[0m| 39/39 [00:00<00:00, 3457.28it/s]\n",
      "Processing segments...: 100%|\u001b[31m██████████\u001b[0m| 39/39 [00:00<00:00, 8448.83it/s]\n"
     ]
    },
    {
     "name": "stdout",
     "output_type": "stream",
     "text": [
      "Elaborating audio PINA_20220602_061400.wav...\n"
     ]
    },
    {
     "name": "stderr",
     "output_type": "stream",
     "text": [
      "Processing segments...:   0%|\u001b[31m          \u001b[0m| 0/39 [00:00<?, ?it/s]"
     ]
    },
    {
     "name": "stdout",
     "output_type": "stream",
     "text": [
      "Elaborating audio PINA_20220430_084500.wav...\n"
     ]
    },
    {
     "name": "stderr",
     "output_type": "stream",
     "text": [
      "Processing segments...: 100%|\u001b[31m██████████\u001b[0m| 39/39 [00:00<00:00, 3016.26it/s]\n",
      "Processing segments...: 100%|\u001b[31m██████████\u001b[0m| 39/39 [00:00<00:00, 4479.99it/s]\n"
     ]
    },
    {
     "name": "stdout",
     "output_type": "stream",
     "text": [
      "Elaborating audio PINA_20220504_072500.wav...\n"
     ]
    },
    {
     "name": "stderr",
     "output_type": "stream",
     "text": [
      "Processing segments...: 100%|\u001b[31m██████████\u001b[0m| 39/39 [00:00<00:00, 8715.79it/s]\n"
     ]
    },
    {
     "name": "stdout",
     "output_type": "stream",
     "text": [
      "Elaborating audio PINA_20220502_085200.wav...\n"
     ]
    },
    {
     "name": "stderr",
     "output_type": "stream",
     "text": [
      "Processing segments...:   0%|\u001b[31m          \u001b[0m| 0/39 [00:00<?, ?it/s]"
     ]
    },
    {
     "name": "stdout",
     "output_type": "stream",
     "text": [
      "Elaborating audio PINA_20220506_071100.wav...\n"
     ]
    },
    {
     "name": "stderr",
     "output_type": "stream",
     "text": [
      "Processing segments...: 100%|\u001b[31m██████████\u001b[0m| 39/39 [00:00<00:00, 5759.38it/s]\n",
      "Processing segments...:   0%|\u001b[31m          \u001b[0m| 0/39 [00:00<?, ?it/s]"
     ]
    },
    {
     "name": "stdout",
     "output_type": "stream",
     "text": [
      "Elaborating audio PINA_20220603_083500.wav...\n"
     ]
    },
    {
     "name": "stderr",
     "output_type": "stream",
     "text": [
      "Processing segments...: 100%|\u001b[31m██████████\u001b[0m| 39/39 [00:00<00:00, 3664.05it/s]\n",
      "Processing segments...:   0%|\u001b[31m          \u001b[0m| 0/39 [00:00<?, ?it/s]"
     ]
    },
    {
     "name": "stdout",
     "output_type": "stream",
     "text": [
      "Elaborating audio PINA_20220430_083200.wav...\n"
     ]
    },
    {
     "name": "stderr",
     "output_type": "stream",
     "text": [
      "Processing segments...: 100%|\u001b[31m██████████\u001b[0m| 39/39 [00:00<00:00, 4054.68it/s]\n",
      "Processing segments...: 100%|\u001b[31m██████████\u001b[0m| 39/39 [00:00<00:00, 5986.38it/s]\n"
     ]
    },
    {
     "name": "stdout",
     "output_type": "stream",
     "text": [
      "Elaborating audio PINA_20220506_072700.wav...\n"
     ]
    },
    {
     "name": "stderr",
     "output_type": "stream",
     "text": [
      "Processing segments...:   0%|\u001b[31m          \u001b[0m| 0/39 [00:00<?, ?it/s]"
     ]
    },
    {
     "name": "stdout",
     "output_type": "stream",
     "text": [
      "Elaborating audio PINA_20220502_084800.wav...\n"
     ]
    },
    {
     "name": "stderr",
     "output_type": "stream",
     "text": [
      "Processing segments...: 100%|\u001b[31m██████████\u001b[0m| 39/39 [00:00<00:00, 7486.06it/s]\n",
      "Processing segments...: 100%|\u001b[31m██████████\u001b[0m| 39/39 [00:00<00:00, 3378.10it/s]\n"
     ]
    },
    {
     "name": "stdout",
     "output_type": "stream",
     "text": [
      "Elaborating audio PINA_20220504_071100.wav...\n"
     ]
    },
    {
     "name": "stderr",
     "output_type": "stream",
     "text": [
      "Processing segments...:   0%|\u001b[31m          \u001b[0m| 0/38 [00:00<?, ?it/s]"
     ]
    },
    {
     "name": "stdout",
     "output_type": "stream",
     "text": [
      "Elaborating audio PINA_20220506_073400.wav...\n"
     ]
    },
    {
     "name": "stderr",
     "output_type": "stream",
     "text": [
      "Processing segments...: 100%|\u001b[31m██████████\u001b[0m| 38/38 [00:00<00:00, 3548.72it/s]\n",
      "Processing segments...: 100%|\u001b[31m██████████\u001b[0m| 39/39 [00:00<00:00, 3043.48it/s]\n"
     ]
    },
    {
     "name": "stdout",
     "output_type": "stream",
     "text": [
      "Elaborating audio PINA_20220602_075600.wav...\n"
     ]
    },
    {
     "name": "stderr",
     "output_type": "stream",
     "text": [
      "Processing segments...:   0%|\u001b[31m          \u001b[0m| 0/39 [00:00<?, ?it/s]"
     ]
    },
    {
     "name": "stdout",
     "output_type": "stream",
     "text": [
      "Elaborating audio PINA_20220501_082500.wav...\n"
     ]
    },
    {
     "name": "stderr",
     "output_type": "stream",
     "text": [
      "Processing segments...: 100%|\u001b[31m██████████\u001b[0m| 39/39 [00:00<00:00, 3625.40it/s]\n",
      "Processing segments...:   0%|\u001b[31m          \u001b[0m| 0/39 [00:00<?, ?it/s]"
     ]
    },
    {
     "name": "stdout",
     "output_type": "stream",
     "text": [
      "Elaborating audio PINA_20220601_082300.wav...\n"
     ]
    },
    {
     "name": "stderr",
     "output_type": "stream",
     "text": [
      "Processing segments...: 100%|\u001b[31m██████████\u001b[0m| 39/39 [00:00<00:00, 2958.86it/s]\n",
      "Processing segments...: 100%|\u001b[31m██████████\u001b[0m| 39/39 [00:00<00:00, 6383.03it/s]"
     ]
    },
    {
     "name": "stdout",
     "output_type": "stream",
     "text": [
      "Elaborating audio PINA_20220504_072700.wav...\n"
     ]
    },
    {
     "name": "stderr",
     "output_type": "stream",
     "text": [
      "\n",
      "Processing segments...:   0%|\u001b[31m          \u001b[0m| 0/39 [00:00<?, ?it/s]"
     ]
    },
    {
     "name": "stdout",
     "output_type": "stream",
     "text": [
      "Elaborating audio PINA_20220601_084500.wav...\n"
     ]
    },
    {
     "name": "stderr",
     "output_type": "stream",
     "text": [
      "Processing segments...: 100%|\u001b[31m██████████\u001b[0m| 39/39 [00:00<00:00, 3401.56it/s]\n",
      "Processing segments...:   0%|\u001b[31m          \u001b[0m| 0/39 [00:00<?, ?it/s]"
     ]
    },
    {
     "name": "stdout",
     "output_type": "stream",
     "text": [
      "Elaborating audio PINA_20220502_085000.wav...\n"
     ]
    },
    {
     "name": "stderr",
     "output_type": "stream",
     "text": [
      "Processing segments...: 100%|\u001b[31m██████████\u001b[0m| 39/39 [00:00<00:00, 4365.80it/s]\n",
      "Processing segments...:   0%|\u001b[31m          \u001b[0m| 0/39 [00:00<?, ?it/s]"
     ]
    },
    {
     "name": "stdout",
     "output_type": "stream",
     "text": [
      "Elaborating audio PINA_20220506_074500.wav...\n"
     ]
    },
    {
     "name": "stderr",
     "output_type": "stream",
     "text": [
      "Processing segments...: 100%|\u001b[31m██████████\u001b[0m| 39/39 [00:00<00:00, 7350.82it/s]\n",
      "Processing segments...:   0%|\u001b[31m          \u001b[0m| 0/39 [00:00<?, ?it/s]"
     ]
    },
    {
     "name": "stdout",
     "output_type": "stream",
     "text": [
      "Elaborating audio PINA_20220430_080900.wav...\n"
     ]
    },
    {
     "name": "stderr",
     "output_type": "stream",
     "text": [
      "Processing segments...: 100%|\u001b[31m██████████\u001b[0m| 39/39 [00:00<00:00, 2819.68it/s]\n",
      "Processing segments...: 100%|\u001b[31m██████████\u001b[0m| 39/39 [00:00<00:00, 3084.63it/s]"
     ]
    },
    {
     "name": "stdout",
     "output_type": "stream",
     "text": [
      "Elaborating audio PINA_20220430_085600.wav...\n"
     ]
    },
    {
     "name": "stderr",
     "output_type": "stream",
     "text": [
      "\n",
      "Processing segments...:   0%|\u001b[31m          \u001b[0m| 0/39 [00:00<?, ?it/s]"
     ]
    },
    {
     "name": "stdout",
     "output_type": "stream",
     "text": [
      "Elaborating audio PINA_20220501_083200.wav...\n"
     ]
    },
    {
     "name": "stderr",
     "output_type": "stream",
     "text": [
      "Processing segments...: 100%|\u001b[31m██████████\u001b[0m| 39/39 [00:00<00:00, 2956.83it/s]\n",
      "Processing segments...: 100%|\u001b[31m██████████\u001b[0m| 39/39 [00:00<00:00, 5142.99it/s]\n"
     ]
    },
    {
     "name": "stdout",
     "output_type": "stream",
     "text": [
      "Elaborating audio PINA_20220502_080600.wav...\n"
     ]
    },
    {
     "name": "stderr",
     "output_type": "stream",
     "text": [
      "Processing segments...: 100%|\u001b[31m██████████\u001b[0m| 39/39 [00:00<00:00, 4298.68it/s]\n"
     ]
    },
    {
     "name": "stdout",
     "output_type": "stream",
     "text": [
      "Elaborating audio PINA_20220501_085000.wav...\n"
     ]
    },
    {
     "name": "stderr",
     "output_type": "stream",
     "text": [
      "Processing segments...:   0%|\u001b[31m          \u001b[0m| 0/39 [00:00<?, ?it/s]"
     ]
    },
    {
     "name": "stdout",
     "output_type": "stream",
     "text": [
      "Elaborating audio PINA_20220501_082800.wav...\n"
     ]
    },
    {
     "name": "stderr",
     "output_type": "stream",
     "text": [
      "Processing segments...: 100%|\u001b[31m██████████\u001b[0m| 39/39 [00:00<00:00, 4431.56it/s]\n",
      "Processing segments...:   0%|\u001b[31m          \u001b[0m| 0/39 [00:00<?, ?it/s]"
     ]
    },
    {
     "name": "stdout",
     "output_type": "stream",
     "text": [
      "Elaborating audio PINA_20220504_070500.wav...\n"
     ]
    },
    {
     "name": "stderr",
     "output_type": "stream",
     "text": [
      "Processing segments...: 100%|\u001b[31m██████████\u001b[0m| 39/39 [00:00<00:00, 3675.49it/s]\n",
      "Processing segments...:   0%|\u001b[31m          \u001b[0m| 0/39 [00:00<?, ?it/s]"
     ]
    },
    {
     "name": "stdout",
     "output_type": "stream",
     "text": [
      "Elaborating audio PINA_20220504_090000.wav...\n"
     ]
    },
    {
     "name": "stderr",
     "output_type": "stream",
     "text": [
      "Processing segments...: 100%|\u001b[31m██████████\u001b[0m| 39/39 [00:00<00:00, 5037.04it/s]\n",
      "Processing segments...:   0%|\u001b[31m          \u001b[0m| 0/38 [00:00<?, ?it/s]"
     ]
    },
    {
     "name": "stdout",
     "output_type": "stream",
     "text": [
      "Elaborating audio PINA_20220506_071700.wav...\n"
     ]
    },
    {
     "name": "stderr",
     "output_type": "stream",
     "text": [
      "Processing segments...: 100%|\u001b[31m██████████\u001b[0m| 38/38 [00:00<00:00, 2424.71it/s]\n",
      "Processing segments...:   0%|\u001b[31m          \u001b[0m| 0/39 [00:00<?, ?it/s]"
     ]
    },
    {
     "name": "stdout",
     "output_type": "stream",
     "text": [
      "Elaborating audio PINA_20220601_082500.wav...\n"
     ]
    },
    {
     "name": "stderr",
     "output_type": "stream",
     "text": [
      "Processing segments...: 100%|\u001b[31m██████████\u001b[0m| 39/39 [00:00<00:00, 3894.80it/s]\n",
      "Processing segments...:   0%|\u001b[31m          \u001b[0m| 0/39 [00:00<?, ?it/s]"
     ]
    },
    {
     "name": "stdout",
     "output_type": "stream",
     "text": [
      "Elaborating audio PINA_20220501_090300.wav...\n"
     ]
    },
    {
     "name": "stderr",
     "output_type": "stream",
     "text": [
      "Processing segments...: 100%|\u001b[31m██████████\u001b[0m| 39/39 [00:00<00:00, 2423.41it/s]\n",
      "Processing segments...:   0%|\u001b[31m          \u001b[0m| 0/39 [00:00<?, ?it/s]"
     ]
    },
    {
     "name": "stdout",
     "output_type": "stream",
     "text": [
      "Elaborating audio PINA_20220506_073000.wav...\n"
     ]
    },
    {
     "name": "stderr",
     "output_type": "stream",
     "text": [
      "Processing segments...: 100%|\u001b[31m██████████\u001b[0m| 39/39 [00:00<00:00, 6555.18it/s]\n",
      "Processing segments...:   0%|\u001b[31m          \u001b[0m| 0/39 [00:00<?, ?it/s]"
     ]
    },
    {
     "name": "stdout",
     "output_type": "stream",
     "text": [
      "Elaborating audio PINA_20220601_075400.wav...\n"
     ]
    },
    {
     "name": "stderr",
     "output_type": "stream",
     "text": [
      "Processing segments...: 100%|\u001b[31m██████████\u001b[0m| 39/39 [00:00<00:00, 3815.14it/s]\n",
      "Processing segments...:   0%|\u001b[31m          \u001b[0m| 0/38 [00:00<?, ?it/s]"
     ]
    },
    {
     "name": "stdout",
     "output_type": "stream",
     "text": [
      "Elaborating audio PINA_20220603_082900.wav...\n"
     ]
    },
    {
     "name": "stderr",
     "output_type": "stream",
     "text": [
      "Processing segments...: 100%|\u001b[31m██████████\u001b[0m| 38/38 [00:00<00:00, 2959.27it/s]\n",
      "Processing segments...:   0%|\u001b[31m          \u001b[0m| 0/39 [00:00<?, ?it/s]"
     ]
    },
    {
     "name": "stdout",
     "output_type": "stream",
     "text": [
      "Elaborating audio PINA_20220502_090100.wav...\n"
     ]
    },
    {
     "name": "stderr",
     "output_type": "stream",
     "text": [
      "Processing segments...: 100%|\u001b[31m██████████\u001b[0m| 39/39 [00:00<00:00, 3975.55it/s]\n",
      "Processing segments...:   0%|\u001b[31m          \u001b[0m| 0/39 [00:00<?, ?it/s]"
     ]
    },
    {
     "name": "stdout",
     "output_type": "stream",
     "text": [
      "Elaborating audio PINA_20220603_085300.wav...\n"
     ]
    },
    {
     "name": "stderr",
     "output_type": "stream",
     "text": [
      "Processing segments...: 100%|\u001b[31m██████████\u001b[0m| 39/39 [00:00<00:00, 2912.61it/s]\n",
      "Processing segments...: 100%|\u001b[31m██████████\u001b[0m| 39/39 [00:00<00:00, 9763.51it/s]\n"
     ]
    },
    {
     "name": "stdout",
     "output_type": "stream",
     "text": [
      "Elaborating audio COU_20220622_065802.wav...\n"
     ]
    },
    {
     "name": "stderr",
     "output_type": "stream",
     "text": [
      "Processing segments...: 100%|\u001b[31m██████████\u001b[0m| 39/39 [00:00<00:00, 16068.55it/s]"
     ]
    },
    {
     "name": "stdout",
     "output_type": "stream",
     "text": [
      "Elaborating audio COU_20220623_130902.wav...\n"
     ]
    },
    {
     "name": "stderr",
     "output_type": "stream",
     "text": [
      "\n",
      "Processing segments...: 100%|\u001b[31m██████████\u001b[0m| 39/39 [00:00<00:00, 11509.84it/s]\n"
     ]
    },
    {
     "name": "stdout",
     "output_type": "stream",
     "text": [
      "Elaborating audio COU_20220603_064802.wav...\n"
     ]
    },
    {
     "name": "stderr",
     "output_type": "stream",
     "text": [
      "Processing segments...: 100%|\u001b[31m██████████\u001b[0m| 39/39 [00:00<00:00, 8166.64it/s]\n"
     ]
    },
    {
     "name": "stdout",
     "output_type": "stream",
     "text": [
      "Elaborating audio COU_20220628_070602.wav...\n"
     ]
    },
    {
     "name": "stderr",
     "output_type": "stream",
     "text": [
      "Processing segments...:   0%|\u001b[31m          \u001b[0m| 0/39 [00:00<?, ?it/s]"
     ]
    },
    {
     "name": "stdout",
     "output_type": "stream",
     "text": [
      "Elaborating audio COU_20220629_064602.wav...\n"
     ]
    },
    {
     "name": "stderr",
     "output_type": "stream",
     "text": [
      "Processing segments...: 100%|\u001b[31m██████████\u001b[0m| 39/39 [00:00<00:00, 8486.97it/s]\n",
      "Processing segments...: 100%|\u001b[31m██████████\u001b[0m| 39/39 [00:00<00:00, 10162.01it/s]\n"
     ]
    },
    {
     "name": "stdout",
     "output_type": "stream",
     "text": [
      "Elaborating audio COU_20220623_070902.wav...\n"
     ]
    },
    {
     "name": "stderr",
     "output_type": "stream",
     "text": [
      "Processing segments...: 100%|\u001b[31m██████████\u001b[0m| 39/39 [00:00<00:00, 13967.88it/s]\n"
     ]
    },
    {
     "name": "stdout",
     "output_type": "stream",
     "text": [
      "Elaborating audio COU_20220601_065802.wav...\n"
     ]
    },
    {
     "name": "stderr",
     "output_type": "stream",
     "text": [
      "Processing segments...: 100%|\u001b[31m██████████\u001b[0m| 38/38 [00:00<00:00, 8185.27it/s]\n"
     ]
    },
    {
     "name": "stdout",
     "output_type": "stream",
     "text": [
      "Elaborating audio OLIV_20201202_083009.wav...\n"
     ]
    },
    {
     "name": "stderr",
     "output_type": "stream",
     "text": [
      "Processing segments...:   0%|\u001b[31m          \u001b[0m| 0/39 [00:00<?, ?it/s]"
     ]
    },
    {
     "name": "stdout",
     "output_type": "stream",
     "text": [
      "Elaborating audio POZO_20230601_073000.wav...\n"
     ]
    },
    {
     "name": "stderr",
     "output_type": "stream",
     "text": [
      "Processing segments...: 100%|\u001b[31m██████████\u001b[0m| 39/39 [00:00<00:00, 9487.17it/s]\n",
      "Processing segments...: 100%|\u001b[31m██████████\u001b[0m| 39/39 [00:00<00:00, 11976.71it/s]\n"
     ]
    },
    {
     "name": "stdout",
     "output_type": "stream",
     "text": [
      "Elaborating audio POZO_20230601_084000.wav...\n"
     ]
    },
    {
     "name": "stderr",
     "output_type": "stream",
     "text": [
      "Processing segments...:   0%|\u001b[31m          \u001b[0m| 0/39 [00:00<?, ?it/s]"
     ]
    },
    {
     "name": "stdout",
     "output_type": "stream",
     "text": [
      "Elaborating audio POZO_20230531_062000.wav...\n"
     ]
    },
    {
     "name": "stderr",
     "output_type": "stream",
     "text": [
      "Processing segments...: 100%|\u001b[31m██████████\u001b[0m| 39/39 [00:00<00:00, 5571.26it/s]\n",
      "Processing segments...:   0%|\u001b[31m          \u001b[0m| 0/39 [00:00<?, ?it/s]"
     ]
    },
    {
     "name": "stdout",
     "output_type": "stream",
     "text": [
      "Elaborating audio POZO_20230601_060000.wav...\n"
     ]
    },
    {
     "name": "stderr",
     "output_type": "stream",
     "text": [
      "Processing segments...: 100%|\u001b[31m██████████\u001b[0m| 39/39 [00:00<00:00, 12590.66it/s]\n",
      "Processing segments...: 100%|\u001b[31m██████████\u001b[0m| 39/39 [00:00<00:00, 5800.02it/s]\n"
     ]
    },
    {
     "name": "stdout",
     "output_type": "stream",
     "text": [
      "Elaborating audio VIL_20230505_070100.wav...\n"
     ]
    },
    {
     "name": "stderr",
     "output_type": "stream",
     "text": [
      "Processing segments...:   0%|\u001b[31m          \u001b[0m| 0/39 [00:00<?, ?it/s]"
     ]
    },
    {
     "name": "stdout",
     "output_type": "stream",
     "text": [
      "Elaborating audio VIL_20230505_071100.wav...\n"
     ]
    },
    {
     "name": "stderr",
     "output_type": "stream",
     "text": [
      "Processing segments...: 100%|\u001b[31m██████████\u001b[0m| 39/39 [00:00<00:00, 14383.00it/s]\n",
      "Processing segments...: 100%|\u001b[31m██████████\u001b[0m| 39/39 [00:00<00:00, 9152.74it/s]"
     ]
    },
    {
     "name": "stdout",
     "output_type": "stream",
     "text": [
      "Elaborating audio VIL_20230507_070700.wav...\n"
     ]
    },
    {
     "name": "stderr",
     "output_type": "stream",
     "text": [
      "\n",
      "Processing segments...: 100%|\u001b[31m██████████\u001b[0m| 39/39 [00:00<00:00, 19955.82it/s]\n"
     ]
    },
    {
     "name": "stdout",
     "output_type": "stream",
     "text": [
      "Elaborating audio VIL_20230509_071100.wav...\n"
     ]
    },
    {
     "name": "stderr",
     "output_type": "stream",
     "text": [
      "Processing segments...: 100%|\u001b[31m██████████\u001b[0m| 38/38 [00:00<00:00, 8322.47it/s]\n"
     ]
    },
    {
     "name": "stdout",
     "output_type": "stream",
     "text": [
      "Elaborating audio VIL_20230505_070900.wav...\n"
     ]
    },
    {
     "name": "stderr",
     "output_type": "stream",
     "text": [
      "Processing segments...:   0%|\u001b[31m          \u001b[0m| 0/39 [00:00<?, ?it/s]"
     ]
    },
    {
     "name": "stdout",
     "output_type": "stream",
     "text": [
      "Elaborating audio VIL_20230509_070200.wav...\n"
     ]
    },
    {
     "name": "stderr",
     "output_type": "stream",
     "text": [
      "Processing segments...: 100%|\u001b[31m██████████\u001b[0m| 39/39 [00:00<00:00, 4667.12it/s]\n",
      "Processing segments...: 100%|\u001b[31m██████████\u001b[0m| 39/39 [00:00<00:00, 7225.17it/s]"
     ]
    },
    {
     "name": "stdout",
     "output_type": "stream",
     "text": [
      "Elaborating audio VIL_20230506_071000.wav...\n"
     ]
    },
    {
     "name": "stderr",
     "output_type": "stream",
     "text": [
      "\n",
      "Processing segments...: 100%|\u001b[31m██████████\u001b[0m| 38/38 [00:00<00:00, 6012.66it/s]\n"
     ]
    },
    {
     "name": "stdout",
     "output_type": "stream",
     "text": [
      "Elaborating audio VIL_20230507_070000.wav...\n"
     ]
    },
    {
     "name": "stderr",
     "output_type": "stream",
     "text": [
      "Processing segments...:   0%|\u001b[31m          \u001b[0m| 0/39 [00:00<?, ?it/s]"
     ]
    },
    {
     "name": "stdout",
     "output_type": "stream",
     "text": [
      "Elaborating audio VIL_20230506_070000.wav...\n"
     ]
    },
    {
     "name": "stderr",
     "output_type": "stream",
     "text": [
      "Processing segments...: 100%|\u001b[31m██████████\u001b[0m| 39/39 [00:00<00:00, 4909.59it/s]\n",
      "Processing segments...:   0%|\u001b[31m          \u001b[0m| 0/39 [00:00<?, ?it/s]"
     ]
    },
    {
     "name": "stdout",
     "output_type": "stream",
     "text": [
      "Elaborating audio VIL_20230505_070600.wav...\n"
     ]
    },
    {
     "name": "stderr",
     "output_type": "stream",
     "text": [
      "Processing segments...: 100%|\u001b[31m██████████\u001b[0m| 39/39 [00:00<00:00, 5034.40it/s]\n",
      "Processing segments...: 100%|\u001b[31m██████████\u001b[0m| 39/39 [00:00<00:00, 6919.83it/s]\n"
     ]
    },
    {
     "name": "stdout",
     "output_type": "stream",
     "text": [
      "Elaborating audio VIL_20230506_070600.wav...\n"
     ]
    },
    {
     "name": "stderr",
     "output_type": "stream",
     "text": [
      "Processing segments...: 100%|\u001b[31m██████████\u001b[0m| 39/39 [00:00<00:00, 5063.70it/s]\n"
     ]
    },
    {
     "name": "stdout",
     "output_type": "stream",
     "text": [
      "Elaborating audio VIL_20230509_071000.wav...\n"
     ]
    },
    {
     "name": "stderr",
     "output_type": "stream",
     "text": [
      "Processing segments...:   0%|\u001b[31m          \u001b[0m| 0/39 [00:00<?, ?it/s]"
     ]
    },
    {
     "name": "stdout",
     "output_type": "stream",
     "text": [
      "Elaborating audio VIL_20230509_070800.wav...\n"
     ]
    },
    {
     "name": "stderr",
     "output_type": "stream",
     "text": [
      "Processing segments...: 100%|\u001b[31m██████████\u001b[0m| 39/39 [00:00<00:00, 6831.11it/s]\n",
      "Processing segments...: 100%|\u001b[31m██████████\u001b[0m| 39/39 [00:00<00:00, 6540.24it/s]\n"
     ]
    },
    {
     "name": "stdout",
     "output_type": "stream",
     "text": [
      "Elaborating audio VIL_20230505_071000.wav...\n"
     ]
    },
    {
     "name": "stderr",
     "output_type": "stream",
     "text": [
      "Processing segments...:   0%|\u001b[31m          \u001b[0m| 0/39 [00:00<?, ?it/s]"
     ]
    },
    {
     "name": "stdout",
     "output_type": "stream",
     "text": [
      "Elaborating audio VIL_20230506_070400.wav...\n"
     ]
    },
    {
     "name": "stderr",
     "output_type": "stream",
     "text": [
      "Processing segments...: 100%|\u001b[31m██████████\u001b[0m| 39/39 [00:00<00:00, 6204.12it/s]\n",
      "Processing segments...: 100%|\u001b[31m██████████\u001b[0m| 39/39 [00:00<00:00, 4937.75it/s]"
     ]
    },
    {
     "name": "stdout",
     "output_type": "stream",
     "text": [
      "Elaborating audio VIL_20230509_070000.wav...\n"
     ]
    },
    {
     "name": "stderr",
     "output_type": "stream",
     "text": [
      "\n",
      "Processing segments...:   0%|\u001b[31m          \u001b[0m| 0/39 [00:00<?, ?it/s]"
     ]
    },
    {
     "name": "stdout",
     "output_type": "stream",
     "text": [
      "Elaborating audio VIL_20230506_070700.wav...\n"
     ]
    },
    {
     "name": "stderr",
     "output_type": "stream",
     "text": [
      "Processing segments...: 100%|\u001b[31m██████████\u001b[0m| 39/39 [00:00<00:00, 7009.08it/s]\n",
      "Processing segments...:   0%|\u001b[31m          \u001b[0m| 0/39 [00:00<?, ?it/s]"
     ]
    },
    {
     "name": "stdout",
     "output_type": "stream",
     "text": [
      "Elaborating audio VIL_20230505_070700.wav...\n"
     ]
    },
    {
     "name": "stderr",
     "output_type": "stream",
     "text": [
      "Processing segments...: 100%|\u001b[31m██████████\u001b[0m| 39/39 [00:00<00:00, 13147.23it/s]\n",
      "Processing segments...:   0%|\u001b[31m          \u001b[0m| 0/39 [00:00<?, ?it/s]"
     ]
    },
    {
     "name": "stdout",
     "output_type": "stream",
     "text": [
      "Elaborating audio VIL_20230509_070700.wav...\n"
     ]
    },
    {
     "name": "stderr",
     "output_type": "stream",
     "text": [
      "Processing segments...: 100%|\u001b[31m██████████\u001b[0m| 39/39 [00:00<00:00, 6990.81it/s]\n",
      "Processing segments...:   0%|\u001b[31m          \u001b[0m| 0/39 [00:00<?, ?it/s]"
     ]
    },
    {
     "name": "stdout",
     "output_type": "stream",
     "text": [
      "Elaborating audio VIL_20230508_070800.wav...\n"
     ]
    },
    {
     "name": "stderr",
     "output_type": "stream",
     "text": [
      "Processing segments...: 100%|\u001b[31m██████████\u001b[0m| 39/39 [00:00<00:00, 14711.56it/s]\n",
      "Processing segments...:   0%|\u001b[31m          \u001b[0m| 0/39 [00:00<?, ?it/s]"
     ]
    },
    {
     "name": "stdout",
     "output_type": "stream",
     "text": [
      "Elaborating audio VIL_20230508_071100.wav...\n"
     ]
    },
    {
     "name": "stderr",
     "output_type": "stream",
     "text": [
      "Processing segments...: 100%|\u001b[31m██████████\u001b[0m| 39/39 [00:00<00:00, 4704.84it/s]\n",
      "Processing segments...: 100%|\u001b[31m██████████\u001b[0m| 39/39 [00:00<00:00, 18191.49it/s]\n"
     ]
    },
    {
     "name": "stdout",
     "output_type": "stream",
     "text": [
      "Elaborating audio VIL_20230507_070600.wav...\n"
     ]
    },
    {
     "name": "stderr",
     "output_type": "stream",
     "text": [
      "Processing segments...:   0%|\u001b[31m          \u001b[0m| 0/39 [00:00<?, ?it/s]"
     ]
    },
    {
     "name": "stdout",
     "output_type": "stream",
     "text": [
      "Elaborating audio VIL_20230506_071100.wav...\n"
     ]
    },
    {
     "name": "stderr",
     "output_type": "stream",
     "text": [
      "Processing segments...: 100%|\u001b[31m██████████\u001b[0m| 39/39 [00:00<00:00, 5051.35it/s]\n",
      "Processing segments...:   0%|\u001b[31m          \u001b[0m| 0/39 [00:00<?, ?it/s]"
     ]
    },
    {
     "name": "stdout",
     "output_type": "stream",
     "text": [
      "Elaborating audio VIL_20230506_070900.wav...\n"
     ]
    },
    {
     "name": "stderr",
     "output_type": "stream",
     "text": [
      "Processing segments...: 100%|\u001b[31m██████████\u001b[0m| 39/39 [00:00<00:00, 4771.26it/s]\n",
      "Processing segments...: 100%|\u001b[31m██████████\u001b[0m| 39/39 [00:00<00:00, 6173.91it/s]\n"
     ]
    },
    {
     "name": "stdout",
     "output_type": "stream",
     "text": [
      "Elaborating audio VIL_20230508_070500.wav...\n"
     ]
    },
    {
     "name": "stderr",
     "output_type": "stream",
     "text": [
      "Processing segments...:   0%|\u001b[31m          \u001b[0m| 0/39 [00:00<?, ?it/s]"
     ]
    },
    {
     "name": "stdout",
     "output_type": "stream",
     "text": [
      "Elaborating audio VIL_20230506_070200.wav...\n"
     ]
    },
    {
     "name": "stderr",
     "output_type": "stream",
     "text": [
      "Processing segments...: 100%|\u001b[31m██████████\u001b[0m| 39/39 [00:00<00:00, 5252.48it/s]\n",
      "Processing segments...:   0%|\u001b[31m          \u001b[0m| 0/39 [00:00<?, ?it/s]"
     ]
    },
    {
     "name": "stdout",
     "output_type": "stream",
     "text": [
      "Elaborating audio VIL_20230506_070100.wav...\n"
     ]
    },
    {
     "name": "stderr",
     "output_type": "stream",
     "text": [
      "Processing segments...: 100%|\u001b[31m██████████\u001b[0m| 39/39 [00:00<00:00, 4784.38it/s]\n",
      "Processing segments...:   0%|\u001b[31m          \u001b[0m| 0/39 [00:00<?, ?it/s]"
     ]
    },
    {
     "name": "stdout",
     "output_type": "stream",
     "text": [
      "Elaborating audio VIL_20230509_070900.wav...\n"
     ]
    },
    {
     "name": "stderr",
     "output_type": "stream",
     "text": [
      "Processing segments...: 100%|\u001b[31m██████████\u001b[0m| 39/39 [00:00<00:00, 8001.66it/s]\n",
      "Processing segments...:   0%|\u001b[31m          \u001b[0m| 0/39 [00:00<?, ?it/s]"
     ]
    },
    {
     "name": "stdout",
     "output_type": "stream",
     "text": [
      "Elaborating audio VIL_20230509_070300.wav...\n"
     ]
    },
    {
     "name": "stderr",
     "output_type": "stream",
     "text": [
      "Processing segments...: 100%|\u001b[31m██████████\u001b[0m| 39/39 [00:00<00:00, 8184.21it/s]\n",
      "Processing segments...: 100%|\u001b[31m██████████\u001b[0m| 39/39 [00:00<00:00, 12241.10it/s]\n"
     ]
    },
    {
     "name": "stdout",
     "output_type": "stream",
     "text": [
      "Elaborating audio VIL_20230507_070300.wav...\n"
     ]
    },
    {
     "name": "stderr",
     "output_type": "stream",
     "text": [
      "Processing segments...:   0%|\u001b[31m          \u001b[0m| 0/39 [00:00<?, ?it/s]"
     ]
    },
    {
     "name": "stdout",
     "output_type": "stream",
     "text": [
      "Elaborating audio VIL_20230505_070000.wav...\n"
     ]
    },
    {
     "name": "stderr",
     "output_type": "stream",
     "text": [
      "Processing segments...: 100%|\u001b[31m██████████\u001b[0m| 39/39 [00:00<00:00, 10671.14it/s]\n",
      "Processing segments...:   0%|\u001b[31m          \u001b[0m| 0/39 [00:00<?, ?it/s]"
     ]
    },
    {
     "name": "stdout",
     "output_type": "stream",
     "text": [
      "Elaborating audio CLH_20230506_051800.wav...\n"
     ]
    },
    {
     "name": "stderr",
     "output_type": "stream",
     "text": [
      "Processing segments...: 100%|\u001b[31m██████████\u001b[0m| 39/39 [00:00<00:00, 2192.88it/s]\n",
      "Processing segments...:   0%|\u001b[31m          \u001b[0m| 0/39 [00:00<?, ?it/s]"
     ]
    },
    {
     "name": "stdout",
     "output_type": "stream",
     "text": [
      "Elaborating audio CLH_20230505_212000.wav...\n"
     ]
    },
    {
     "name": "stderr",
     "output_type": "stream",
     "text": [
      "Processing segments...: 100%|\u001b[31m██████████\u001b[0m| 39/39 [00:00<00:00, 2292.10it/s]\n",
      "Processing segments...:   0%|\u001b[31m          \u001b[0m| 0/39 [00:00<?, ?it/s]"
     ]
    },
    {
     "name": "stdout",
     "output_type": "stream",
     "text": [
      "Elaborating audio CLH_20230506_055000.wav...\n"
     ]
    },
    {
     "name": "stderr",
     "output_type": "stream",
     "text": [
      "Processing segments...: 100%|\u001b[31m██████████\u001b[0m| 39/39 [00:00<00:00, 2310.58it/s]\n",
      "Processing segments...:   0%|\u001b[31m          \u001b[0m| 0/39 [00:00<?, ?it/s]"
     ]
    },
    {
     "name": "stdout",
     "output_type": "stream",
     "text": [
      "Elaborating audio CLH_20230506_052200.wav...\n"
     ]
    },
    {
     "name": "stderr",
     "output_type": "stream",
     "text": [
      "Processing segments...: 100%|\u001b[31m██████████\u001b[0m| 39/39 [00:00<00:00, 1951.65it/s]\n",
      "Processing segments...:   0%|\u001b[31m          \u001b[0m| 0/39 [00:00<?, ?it/s]"
     ]
    },
    {
     "name": "stdout",
     "output_type": "stream",
     "text": [
      "Elaborating audio CLH_20230505_212600.wav...\n"
     ]
    },
    {
     "name": "stderr",
     "output_type": "stream",
     "text": [
      "Processing segments...: 100%|\u001b[31m██████████\u001b[0m| 39/39 [00:00<00:00, 1987.07it/s]\n",
      "Processing segments...:   0%|\u001b[31m          \u001b[0m| 0/39 [00:00<?, ?it/s]"
     ]
    },
    {
     "name": "stdout",
     "output_type": "stream",
     "text": [
      "Elaborating audio CLH_20230506_052000.wav...\n"
     ]
    },
    {
     "name": "stderr",
     "output_type": "stream",
     "text": [
      "Processing segments...: 100%|\u001b[31m██████████\u001b[0m| 39/39 [00:00<00:00, 2393.10it/s]\n",
      "Processing segments...:   0%|\u001b[31m          \u001b[0m| 0/39 [00:00<?, ?it/s]"
     ]
    },
    {
     "name": "stdout",
     "output_type": "stream",
     "text": [
      "Elaborating audio CLH_20230506_051000.wav...\n"
     ]
    },
    {
     "name": "stderr",
     "output_type": "stream",
     "text": [
      "Processing segments...: 100%|\u001b[31m██████████\u001b[0m| 39/39 [00:00<00:00, 2177.55it/s]\n",
      "Processing segments...:   0%|\u001b[31m          \u001b[0m| 0/39 [00:00<?, ?it/s]"
     ]
    },
    {
     "name": "stdout",
     "output_type": "stream",
     "text": [
      "Elaborating audio CLH_20230505_212200.wav...\n"
     ]
    },
    {
     "name": "stderr",
     "output_type": "stream",
     "text": [
      "Processing segments...: 100%|\u001b[31m██████████\u001b[0m| 39/39 [00:00<00:00, 1566.01it/s]\n",
      "Processing segments...:   0%|\u001b[31m          \u001b[0m| 0/39 [00:00<?, ?it/s]"
     ]
    },
    {
     "name": "stdout",
     "output_type": "stream",
     "text": [
      "Elaborating audio CLH_20230505_212400.wav...\n"
     ]
    },
    {
     "name": "stderr",
     "output_type": "stream",
     "text": [
      "Processing segments...: 100%|\u001b[31m██████████\u001b[0m| 39/39 [00:00<00:00, 2028.60it/s]\n",
      "Processing segments...:   0%|\u001b[31m          \u001b[0m| 0/39 [00:00<?, ?it/s]"
     ]
    },
    {
     "name": "stdout",
     "output_type": "stream",
     "text": [
      "Elaborating audio CLH_20230505_212100.wav...\n"
     ]
    },
    {
     "name": "stderr",
     "output_type": "stream",
     "text": [
      "Processing segments...: 100%|\u001b[31m██████████\u001b[0m| 39/39 [00:00<00:00, 2194.35it/s]\n",
      "Processing segments...:   0%|\u001b[31m          \u001b[0m| 0/39 [00:00<?, ?it/s]"
     ]
    },
    {
     "name": "stdout",
     "output_type": "stream",
     "text": [
      "Elaborating audio CLH_20230506_051600.wav...\n"
     ]
    },
    {
     "name": "stderr",
     "output_type": "stream",
     "text": [
      "Processing segments...: 100%|\u001b[31m██████████\u001b[0m| 39/39 [00:00<00:00, 2372.24it/s]\n",
      "Processing segments...:   0%|\u001b[31m          \u001b[0m| 0/39 [00:00<?, ?it/s]"
     ]
    },
    {
     "name": "stdout",
     "output_type": "stream",
     "text": [
      "Elaborating audio CLH_20230505_211400.wav...\n"
     ]
    },
    {
     "name": "stderr",
     "output_type": "stream",
     "text": [
      "Processing segments...: 100%|\u001b[31m██████████\u001b[0m| 39/39 [00:00<00:00, 1542.50it/s]\n",
      "Processing segments...:   0%|\u001b[31m          \u001b[0m| 0/39 [00:00<?, ?it/s]"
     ]
    },
    {
     "name": "stdout",
     "output_type": "stream",
     "text": [
      "Elaborating audio CLH_20230505_211700.wav...\n"
     ]
    },
    {
     "name": "stderr",
     "output_type": "stream",
     "text": [
      "Processing segments...: 100%|\u001b[31m██████████\u001b[0m| 39/39 [00:00<00:00, 1036.85it/s]\n",
      "Processing segments...:   0%|\u001b[31m          \u001b[0m| 0/39 [00:00<?, ?it/s]"
     ]
    },
    {
     "name": "stdout",
     "output_type": "stream",
     "text": [
      "Elaborating audio CLH_20230506_051400.wav...\n"
     ]
    },
    {
     "name": "stderr",
     "output_type": "stream",
     "text": [
      "Processing segments...: 100%|\u001b[31m██████████\u001b[0m| 39/39 [00:00<00:00, 1888.82it/s]\n",
      "Processing segments...:   0%|\u001b[31m          \u001b[0m| 0/39 [00:00<?, ?it/s]"
     ]
    },
    {
     "name": "stdout",
     "output_type": "stream",
     "text": [
      "Elaborating audio CLH_20230505_211900.wav...\n"
     ]
    },
    {
     "name": "stderr",
     "output_type": "stream",
     "text": [
      "Processing segments...: 100%|\u001b[31m██████████\u001b[0m| 39/39 [00:00<00:00, 1342.68it/s]\n",
      "Processing segments...: 100%|\u001b[31m██████████\u001b[0m| 39/39 [00:00<00:00, 2284.42it/s]\n"
     ]
    },
    {
     "name": "stdout",
     "output_type": "stream",
     "text": [
      "Elaborating audio CLH_20230507_051500.wav...\n"
     ]
    },
    {
     "name": "stderr",
     "output_type": "stream",
     "text": [
      "Processing segments...:   0%|\u001b[31m          \u001b[0m| 0/39 [00:00<?, ?it/s]"
     ]
    },
    {
     "name": "stdout",
     "output_type": "stream",
     "text": [
      "Elaborating audio CLH_20230506_051300.wav...\n"
     ]
    },
    {
     "name": "stderr",
     "output_type": "stream",
     "text": [
      "Processing segments...: 100%|\u001b[31m██████████\u001b[0m| 39/39 [00:00<00:00, 1941.07it/s]\n",
      "Processing segments...:   0%|\u001b[31m          \u001b[0m| 0/39 [00:00<?, ?it/s]"
     ]
    },
    {
     "name": "stdout",
     "output_type": "stream",
     "text": [
      "Elaborating audio CLH_20230506_050100.wav...\n"
     ]
    },
    {
     "name": "stderr",
     "output_type": "stream",
     "text": [
      "Processing segments...: 100%|\u001b[31m██████████\u001b[0m| 39/39 [00:00<00:00, 1271.71it/s]\n",
      "Processing segments...:   0%|\u001b[31m          \u001b[0m| 0/39 [00:00<?, ?it/s]"
     ]
    },
    {
     "name": "stdout",
     "output_type": "stream",
     "text": [
      "Elaborating audio CLH_20230505_212700.wav...\n"
     ]
    },
    {
     "name": "stderr",
     "output_type": "stream",
     "text": [
      "Processing segments...: 100%|\u001b[31m██████████\u001b[0m| 39/39 [00:00<00:00, 1671.91it/s]\n",
      "Processing segments...:   0%|\u001b[31m          \u001b[0m| 0/39 [00:00<?, ?it/s]"
     ]
    },
    {
     "name": "stdout",
     "output_type": "stream",
     "text": [
      "Elaborating audio CLH_20230505_211600.wav...\n"
     ]
    },
    {
     "name": "stderr",
     "output_type": "stream",
     "text": [
      "Processing segments...: 100%|\u001b[31m██████████\u001b[0m| 39/39 [00:00<00:00, 1240.71it/s]\n",
      "Processing segments...:   0%|\u001b[31m          \u001b[0m| 0/39 [00:00<?, ?it/s]"
     ]
    },
    {
     "name": "stdout",
     "output_type": "stream",
     "text": [
      "Elaborating audio CLH_20230506_050800.wav...\n"
     ]
    },
    {
     "name": "stderr",
     "output_type": "stream",
     "text": [
      "Processing segments...: 100%|\u001b[31m██████████\u001b[0m| 39/39 [00:00<00:00, 1313.17it/s]\n",
      "Processing segments...:   0%|\u001b[31m          \u001b[0m| 0/39 [00:00<?, ?it/s]"
     ]
    },
    {
     "name": "stdout",
     "output_type": "stream",
     "text": [
      "Elaborating audio CLH_20230505_211800.wav...\n"
     ]
    },
    {
     "name": "stderr",
     "output_type": "stream",
     "text": [
      "Processing segments...: 100%|\u001b[31m██████████\u001b[0m| 39/39 [00:00<00:00, 1184.48it/s]\n",
      "Processing segments...:   0%|\u001b[31m          \u001b[0m| 0/39 [00:00<?, ?it/s]"
     ]
    },
    {
     "name": "stdout",
     "output_type": "stream",
     "text": [
      "Elaborating audio CLH_20230506_050400.wav...\n"
     ]
    },
    {
     "name": "stderr",
     "output_type": "stream",
     "text": [
      "Processing segments...: 100%|\u001b[31m██████████\u001b[0m| 39/39 [00:00<00:00, 1281.09it/s]\n",
      "Processing segments...:   0%|\u001b[31m          \u001b[0m| 0/39 [00:00<?, ?it/s]"
     ]
    },
    {
     "name": "stdout",
     "output_type": "stream",
     "text": [
      "Elaborating audio CLH_20230507_050100.wav...\n"
     ]
    },
    {
     "name": "stderr",
     "output_type": "stream",
     "text": [
      "Processing segments...: 100%|\u001b[31m██████████\u001b[0m| 39/39 [00:00<00:00, 1433.01it/s]\n",
      "Processing segments...:   0%|\u001b[31m          \u001b[0m| 0/39 [00:00<?, ?it/s]"
     ]
    },
    {
     "name": "stdout",
     "output_type": "stream",
     "text": [
      "Elaborating audio CLH_20230506_050700.wav...\n"
     ]
    },
    {
     "name": "stderr",
     "output_type": "stream",
     "text": [
      "Processing segments...: 100%|\u001b[31m██████████\u001b[0m| 39/39 [00:00<00:00, 1378.80it/s]\n",
      "Processing segments...:   0%|\u001b[31m          \u001b[0m| 0/39 [00:00<?, ?it/s]"
     ]
    },
    {
     "name": "stdout",
     "output_type": "stream",
     "text": [
      "Elaborating audio CLH_20230506_050600.wav...\n"
     ]
    },
    {
     "name": "stderr",
     "output_type": "stream",
     "text": [
      "Processing segments...: 100%|\u001b[31m██████████\u001b[0m| 39/39 [00:00<00:00, 1876.90it/s]\n",
      "Processing segments...:   0%|\u001b[31m          \u001b[0m| 0/39 [00:00<?, ?it/s]"
     ]
    },
    {
     "name": "stdout",
     "output_type": "stream",
     "text": [
      "Elaborating audio CLH_20230506_051200.wav...\n"
     ]
    },
    {
     "name": "stderr",
     "output_type": "stream",
     "text": [
      "Processing segments...: 100%|\u001b[31m██████████\u001b[0m| 39/39 [00:00<00:00, 1719.21it/s]\n",
      "Processing segments...: 100%|\u001b[31m██████████\u001b[0m| 39/39 [00:00<00:00, 1579.65it/s]\n"
     ]
    },
    {
     "name": "stdout",
     "output_type": "stream",
     "text": [
      "Elaborating audio CLH_20230506_050500.wav...\n"
     ]
    },
    {
     "name": "stderr",
     "output_type": "stream",
     "text": [
      "Processing segments...: 100%|\u001b[31m██████████\u001b[0m| 39/39 [00:00<00:00, 1617.04it/s]\n"
     ]
    },
    {
     "name": "stdout",
     "output_type": "stream",
     "text": [
      "Elaborating audio CLH_20230505_212500.wav...\n"
     ]
    },
    {
     "name": "stderr",
     "output_type": "stream",
     "text": [
      "Processing segments...:   0%|\u001b[31m          \u001b[0m| 0/39 [00:00<?, ?it/s]"
     ]
    },
    {
     "name": "stdout",
     "output_type": "stream",
     "text": [
      "Elaborating audio CLH_20230506_053200.wav...\n"
     ]
    },
    {
     "name": "stderr",
     "output_type": "stream",
     "text": [
      "Processing segments...: 100%|\u001b[31m██████████\u001b[0m| 39/39 [00:00<00:00, 2356.72it/s]\n",
      "Processing segments...:   0%|\u001b[31m          \u001b[0m| 0/39 [00:00<?, ?it/s]"
     ]
    },
    {
     "name": "stdout",
     "output_type": "stream",
     "text": [
      "Elaborating audio CLH_20230506_050300.wav...\n"
     ]
    },
    {
     "name": "stderr",
     "output_type": "stream",
     "text": [
      "Processing segments...: 100%|\u001b[31m██████████\u001b[0m| 39/39 [00:00<00:00, 1784.60it/s]\n",
      "Processing segments...:   0%|\u001b[31m          \u001b[0m| 0/39 [00:00<?, ?it/s]"
     ]
    },
    {
     "name": "stdout",
     "output_type": "stream",
     "text": [
      "Elaborating audio CLH_20230506_050900.wav...\n"
     ]
    },
    {
     "name": "stderr",
     "output_type": "stream",
     "text": [
      "Processing segments...: 100%|\u001b[31m██████████\u001b[0m| 39/39 [00:00<00:00, 1332.61it/s]\n",
      "Processing segments...: 100%|\u001b[31m██████████\u001b[0m| 39/39 [00:00<00:00, 1542.42it/s]\n"
     ]
    },
    {
     "name": "stdout",
     "output_type": "stream",
     "text": [
      "Elaborating audio CLH_20230506_051500.wav...\n"
     ]
    },
    {
     "name": "stderr",
     "output_type": "stream",
     "text": [
      "Processing segments...: 100%|\u001b[31m██████████\u001b[0m| 39/39 [00:00<00:00, 1726.34it/s]"
     ]
    },
    {
     "name": "stdout",
     "output_type": "stream",
     "text": [
      "Elaborating audio CLH_20230506_054000.wav...\n"
     ]
    },
    {
     "name": "stderr",
     "output_type": "stream",
     "text": [
      "\n",
      "Processing segments...: 100%|\u001b[31m██████████\u001b[0m| 39/39 [00:00<00:00, 2470.44it/s]\n"
     ]
    },
    {
     "name": "stdout",
     "output_type": "stream",
     "text": [
      "Elaborating audio CLH_20230506_052800.wav...\n"
     ]
    },
    {
     "name": "stderr",
     "output_type": "stream",
     "text": [
      "Processing segments...:   0%|\u001b[31m          \u001b[0m| 0/39 [00:00<?, ?it/s]"
     ]
    },
    {
     "name": "stdout",
     "output_type": "stream",
     "text": [
      "Elaborating audio CLH_20230506_052300.wav...\n"
     ]
    },
    {
     "name": "stderr",
     "output_type": "stream",
     "text": [
      "Processing segments...: 100%|\u001b[31m██████████\u001b[0m| 39/39 [00:00<00:00, 2057.66it/s]\n",
      "Processing segments...:   0%|\u001b[31m          \u001b[0m| 0/39 [00:00<?, ?it/s]"
     ]
    },
    {
     "name": "stdout",
     "output_type": "stream",
     "text": [
      "Elaborating audio CLH_20230506_050200.wav...\n"
     ]
    },
    {
     "name": "stderr",
     "output_type": "stream",
     "text": [
      "Processing segments...: 100%|\u001b[31m██████████\u001b[0m| 39/39 [00:00<00:00, 1218.74it/s]\n",
      "Processing segments...:   0%|\u001b[31m          \u001b[0m| 0/39 [00:00<?, ?it/s]"
     ]
    },
    {
     "name": "stdout",
     "output_type": "stream",
     "text": [
      "Elaborating audio CLH_20231126_073600.wav...\n"
     ]
    },
    {
     "name": "stderr",
     "output_type": "stream",
     "text": [
      "Processing segments...: 100%|\u001b[31m██████████\u001b[0m| 39/39 [00:00<00:00, 5049.01it/s]\n",
      "Processing segments...: 100%|\u001b[31m██████████\u001b[0m| 39/39 [00:00<00:00, 15715.04it/s]\n"
     ]
    },
    {
     "name": "stdout",
     "output_type": "stream",
     "text": [
      "Elaborating audio BAM_20151207_071718.wav...\n"
     ]
    },
    {
     "name": "stderr",
     "output_type": "stream",
     "text": [
      "Processing segments...:   0%|\u001b[31m          \u001b[0m| 0/37 [00:00<?, ?it/s]"
     ]
    },
    {
     "name": "stdout",
     "output_type": "stream",
     "text": [
      "Elaborating audio DYOM_20230511_060702.wav...\n"
     ]
    },
    {
     "name": "stderr",
     "output_type": "stream",
     "text": [
      "Processing segments...: 100%|\u001b[31m██████████\u001b[0m| 37/37 [00:00<00:00, 2757.11it/s]\n",
      "Processing segments...:   0%|\u001b[31m          \u001b[0m| 0/37 [00:00<?, ?it/s]"
     ]
    },
    {
     "name": "stdout",
     "output_type": "stream",
     "text": [
      "Elaborating audio DYOM_20230508_061102.wav...\n"
     ]
    },
    {
     "name": "stderr",
     "output_type": "stream",
     "text": [
      "Processing segments...: 100%|\u001b[31m██████████\u001b[0m| 37/37 [00:00<00:00, 2222.00it/s]\n",
      "Processing segments...: 100%|\u001b[31m██████████\u001b[0m| 37/37 [00:00<00:00, 2821.93it/s]\n"
     ]
    },
    {
     "name": "stdout",
     "output_type": "stream",
     "text": [
      "Elaborating audio DYOM_20230511_061602.wav...\n"
     ]
    },
    {
     "name": "stderr",
     "output_type": "stream",
     "text": [
      "Processing segments...:   0%|\u001b[31m          \u001b[0m| 0/37 [00:00<?, ?it/s]"
     ]
    },
    {
     "name": "stdout",
     "output_type": "stream",
     "text": [
      "Elaborating audio DYOM_20230507_061502.wav...\n"
     ]
    },
    {
     "name": "stderr",
     "output_type": "stream",
     "text": [
      "Processing segments...: 100%|\u001b[31m██████████\u001b[0m| 37/37 [00:00<00:00, 2353.24it/s]\n",
      "Processing segments...: 100%|\u001b[31m██████████\u001b[0m| 37/37 [00:00<00:00, 2724.58it/s]\n"
     ]
    },
    {
     "name": "stdout",
     "output_type": "stream",
     "text": [
      "Elaborating audio DYOM_20230507_070402.wav...\n"
     ]
    },
    {
     "name": "stderr",
     "output_type": "stream",
     "text": [
      "Processing segments...:   0%|\u001b[31m          \u001b[0m| 0/39 [00:00<?, ?it/s]"
     ]
    },
    {
     "name": "stdout",
     "output_type": "stream",
     "text": [
      "Elaborating audio DYOM_20230508_060000.wav...\n"
     ]
    },
    {
     "name": "stderr",
     "output_type": "stream",
     "text": [
      "Processing segments...: 100%|\u001b[31m██████████\u001b[0m| 39/39 [00:00<00:00, 1983.94it/s]\n",
      "Processing segments...:   0%|\u001b[31m          \u001b[0m| 0/37 [00:00<?, ?it/s]"
     ]
    },
    {
     "name": "stdout",
     "output_type": "stream",
     "text": [
      "Elaborating audio DYOM_20230507_072302.wav...\n"
     ]
    },
    {
     "name": "stderr",
     "output_type": "stream",
     "text": [
      "Processing segments...: 100%|\u001b[31m██████████\u001b[0m| 37/37 [00:00<00:00, 1790.14it/s]\n",
      "Processing segments...:   0%|\u001b[31m          \u001b[0m| 0/37 [00:00<?, ?it/s]"
     ]
    },
    {
     "name": "stdout",
     "output_type": "stream",
     "text": [
      "Elaborating audio DYOM_20230508_062202.wav...\n"
     ]
    },
    {
     "name": "stderr",
     "output_type": "stream",
     "text": [
      "Processing segments...: 100%|\u001b[31m██████████\u001b[0m| 37/37 [00:00<00:00, 2654.53it/s]\n",
      "Processing segments...:   0%|\u001b[31m          \u001b[0m| 0/37 [00:00<?, ?it/s]"
     ]
    },
    {
     "name": "stdout",
     "output_type": "stream",
     "text": [
      "Elaborating audio DYOM_20230507_072202.wav...\n"
     ]
    },
    {
     "name": "stderr",
     "output_type": "stream",
     "text": [
      "Processing segments...: 100%|\u001b[31m██████████\u001b[0m| 37/37 [00:00<00:00, 2230.79it/s]\n",
      "Processing segments...: 100%|\u001b[31m██████████\u001b[0m| 37/37 [00:00<00:00, 2982.06it/s]\n"
     ]
    },
    {
     "name": "stdout",
     "output_type": "stream",
     "text": [
      "Elaborating audio DYOM_20230507_071302.wav...\n"
     ]
    },
    {
     "name": "stderr",
     "output_type": "stream",
     "text": [
      "Processing segments...:   0%|\u001b[31m          \u001b[0m| 0/37 [00:00<?, ?it/s]"
     ]
    },
    {
     "name": "stdout",
     "output_type": "stream",
     "text": [
      "Elaborating audio DYOM_20230508_060802.wav...\n"
     ]
    },
    {
     "name": "stderr",
     "output_type": "stream",
     "text": [
      "Processing segments...: 100%|\u001b[31m██████████\u001b[0m| 37/37 [00:00<00:00, 2499.22it/s]\n",
      "Processing segments...:   0%|\u001b[31m          \u001b[0m| 0/37 [00:00<?, ?it/s]"
     ]
    },
    {
     "name": "stdout",
     "output_type": "stream",
     "text": [
      "Elaborating audio DYOM_20230507_062502.wav...\n"
     ]
    },
    {
     "name": "stderr",
     "output_type": "stream",
     "text": [
      "Processing segments...: 100%|\u001b[31m██████████\u001b[0m| 37/37 [00:00<00:00, 2046.08it/s]\n",
      "Processing segments...:   0%|\u001b[31m          \u001b[0m| 0/37 [00:00<?, ?it/s]"
     ]
    },
    {
     "name": "stdout",
     "output_type": "stream",
     "text": [
      "Elaborating audio DYOM_20230508_080902.wav...\n"
     ]
    },
    {
     "name": "stderr",
     "output_type": "stream",
     "text": [
      "Processing segments...: 100%|\u001b[31m██████████\u001b[0m| 37/37 [00:00<00:00, 1803.16it/s]\n",
      "Processing segments...:   0%|\u001b[31m          \u001b[0m| 0/37 [00:00<?, ?it/s]"
     ]
    },
    {
     "name": "stdout",
     "output_type": "stream",
     "text": [
      "Elaborating audio DYOM_20230510_060202.wav...\n"
     ]
    },
    {
     "name": "stderr",
     "output_type": "stream",
     "text": [
      "Processing segments...: 100%|\u001b[31m██████████\u001b[0m| 37/37 [00:00<00:00, 2765.56it/s]\n",
      "Processing segments...:   0%|\u001b[31m          \u001b[0m| 0/37 [00:00<?, ?it/s]"
     ]
    },
    {
     "name": "stdout",
     "output_type": "stream",
     "text": [
      "Elaborating audio DYOM_20230507_070302.wav...\n"
     ]
    },
    {
     "name": "stderr",
     "output_type": "stream",
     "text": [
      "Processing segments...: 100%|\u001b[31m██████████\u001b[0m| 37/37 [00:00<00:00, 3791.21it/s]\n",
      "Processing segments...:   0%|\u001b[31m          \u001b[0m| 0/37 [00:00<?, ?it/s]"
     ]
    },
    {
     "name": "stdout",
     "output_type": "stream",
     "text": [
      "Elaborating audio DYOM_20230507_071602.wav...\n"
     ]
    },
    {
     "name": "stderr",
     "output_type": "stream",
     "text": [
      "Processing segments...: 100%|\u001b[31m██████████\u001b[0m| 37/37 [00:00<00:00, 2110.93it/s]\n",
      "Processing segments...:   0%|\u001b[31m          \u001b[0m| 0/37 [00:00<?, ?it/s]"
     ]
    },
    {
     "name": "stdout",
     "output_type": "stream",
     "text": [
      "Elaborating audio DYOM_20230509_061602.wav...\n"
     ]
    },
    {
     "name": "stderr",
     "output_type": "stream",
     "text": [
      "Processing segments...: 100%|\u001b[31m██████████\u001b[0m| 37/37 [00:00<00:00, 2490.80it/s]\n",
      "Processing segments...:   0%|\u001b[31m          \u001b[0m| 0/37 [00:00<?, ?it/s]"
     ]
    },
    {
     "name": "stdout",
     "output_type": "stream",
     "text": [
      "Elaborating audio DYOM_20230507_071202.wav...\n"
     ]
    },
    {
     "name": "stderr",
     "output_type": "stream",
     "text": [
      "Processing segments...: 100%|\u001b[31m██████████\u001b[0m| 37/37 [00:00<00:00, 2712.72it/s]\n",
      "Processing segments...: 100%|\u001b[31m██████████\u001b[0m| 37/37 [00:00<00:00, 2596.87it/s]"
     ]
    },
    {
     "name": "stdout",
     "output_type": "stream",
     "text": [
      "Elaborating audio DYOM_20230508_062402.wav...\n"
     ]
    },
    {
     "name": "stderr",
     "output_type": "stream",
     "text": [
      "\n",
      "Processing segments...:   0%|\u001b[31m          \u001b[0m| 0/37 [00:00<?, ?it/s]"
     ]
    },
    {
     "name": "stdout",
     "output_type": "stream",
     "text": [
      "Elaborating audio DYOM_20230507_060702.wav...\n"
     ]
    },
    {
     "name": "stderr",
     "output_type": "stream",
     "text": [
      "Processing segments...: 100%|\u001b[31m██████████\u001b[0m| 37/37 [00:00<00:00, 2252.16it/s]\n",
      "Processing segments...:   0%|\u001b[31m          \u001b[0m| 0/37 [00:00<?, ?it/s]"
     ]
    },
    {
     "name": "stdout",
     "output_type": "stream",
     "text": [
      "Elaborating audio DYOM_20230507_060102.wav...\n"
     ]
    },
    {
     "name": "stderr",
     "output_type": "stream",
     "text": [
      "Processing segments...: 100%|\u001b[31m██████████\u001b[0m| 37/37 [00:00<00:00, 1422.19it/s]\n",
      "Processing segments...:   0%|\u001b[31m          \u001b[0m| 0/37 [00:00<?, ?it/s]"
     ]
    },
    {
     "name": "stdout",
     "output_type": "stream",
     "text": [
      "Elaborating audio DYOM_20230509_060302.wav...\n"
     ]
    },
    {
     "name": "stderr",
     "output_type": "stream",
     "text": [
      "Processing segments...: 100%|\u001b[31m██████████\u001b[0m| 37/37 [00:00<00:00, 2055.65it/s]\n",
      "Processing segments...:   0%|\u001b[31m          \u001b[0m| 0/37 [00:00<?, ?it/s]"
     ]
    },
    {
     "name": "stdout",
     "output_type": "stream",
     "text": [
      "Elaborating audio DYOM_20230507_062102.wav...\n"
     ]
    },
    {
     "name": "stderr",
     "output_type": "stream",
     "text": [
      "Processing segments...: 100%|\u001b[31m██████████\u001b[0m| 37/37 [00:00<00:00, 1368.87it/s]\n",
      "Processing segments...:   0%|\u001b[31m          \u001b[0m| 0/37 [00:00<?, ?it/s]"
     ]
    },
    {
     "name": "stdout",
     "output_type": "stream",
     "text": [
      "Elaborating audio DYOM_20230507_072102.wav...\n"
     ]
    },
    {
     "name": "stderr",
     "output_type": "stream",
     "text": [
      "Processing segments...: 100%|\u001b[31m██████████\u001b[0m| 37/37 [00:00<00:00, 1766.10it/s]\n",
      "Processing segments...:   0%|\u001b[31m          \u001b[0m| 0/37 [00:00<?, ?it/s]"
     ]
    },
    {
     "name": "stdout",
     "output_type": "stream",
     "text": [
      "Elaborating audio DYOM_20230507_060402.wav...\n"
     ]
    },
    {
     "name": "stderr",
     "output_type": "stream",
     "text": [
      "Processing segments...: 100%|\u001b[31m██████████\u001b[0m| 37/37 [00:00<00:00, 2612.61it/s]\n",
      "Processing segments...:   0%|\u001b[31m          \u001b[0m| 0/39 [00:00<?, ?it/s]"
     ]
    },
    {
     "name": "stdout",
     "output_type": "stream",
     "text": [
      "Elaborating audio DYOM_20230506_070000.wav...\n"
     ]
    },
    {
     "name": "stderr",
     "output_type": "stream",
     "text": [
      "Processing segments...: 100%|\u001b[31m██████████\u001b[0m| 39/39 [00:00<00:00, 1648.55it/s]\n",
      "Processing segments...:   0%|\u001b[31m          \u001b[0m| 0/37 [00:00<?, ?it/s]"
     ]
    },
    {
     "name": "stdout",
     "output_type": "stream",
     "text": [
      "Elaborating audio DYOM_20230512_060402.wav...\n"
     ]
    },
    {
     "name": "stderr",
     "output_type": "stream",
     "text": [
      "Processing segments...: 100%|\u001b[31m██████████\u001b[0m| 37/37 [00:00<00:00, 3567.73it/s]\n",
      "Processing segments...:   0%|\u001b[31m          \u001b[0m| 0/37 [00:00<?, ?it/s]"
     ]
    },
    {
     "name": "stdout",
     "output_type": "stream",
     "text": [
      "Elaborating audio DYOM_20230507_060302.wav...\n"
     ]
    },
    {
     "name": "stderr",
     "output_type": "stream",
     "text": [
      "Processing segments...: 100%|\u001b[31m██████████\u001b[0m| 37/37 [00:00<00:00, 2476.89it/s]\n",
      "Processing segments...:   0%|\u001b[31m          \u001b[0m| 0/37 [00:00<?, ?it/s]"
     ]
    },
    {
     "name": "stdout",
     "output_type": "stream",
     "text": [
      "Elaborating audio DYOM_20230507_061202.wav...\n"
     ]
    },
    {
     "name": "stderr",
     "output_type": "stream",
     "text": [
      "Processing segments...: 100%|\u001b[31m██████████\u001b[0m| 37/37 [00:00<00:00, 2155.41it/s]\n",
      "Processing segments...:   0%|\u001b[31m          \u001b[0m| 0/37 [00:00<?, ?it/s]"
     ]
    },
    {
     "name": "stdout",
     "output_type": "stream",
     "text": [
      "Elaborating audio DYOM_20230508_060902.wav...\n"
     ]
    },
    {
     "name": "stderr",
     "output_type": "stream",
     "text": [
      "Processing segments...: 100%|\u001b[31m██████████\u001b[0m| 37/37 [00:00<00:00, 2576.05it/s]\n",
      "Processing segments...: 100%|\u001b[31m██████████\u001b[0m| 37/37 [00:00<00:00, 2769.60it/s]\n"
     ]
    },
    {
     "name": "stdout",
     "output_type": "stream",
     "text": [
      "Elaborating audio DYOM_20230511_060102.wav...\n"
     ]
    },
    {
     "name": "stderr",
     "output_type": "stream",
     "text": [
      "Processing segments...:   0%|\u001b[31m          \u001b[0m| 0/37 [00:00<?, ?it/s]"
     ]
    },
    {
     "name": "stdout",
     "output_type": "stream",
     "text": [
      "Elaborating audio DYOM_20230512_060702.wav...\n"
     ]
    },
    {
     "name": "stderr",
     "output_type": "stream",
     "text": [
      "Processing segments...: 100%|\u001b[31m██████████\u001b[0m| 37/37 [00:00<00:00, 2702.84it/s]\n",
      "Processing segments...:   0%|\u001b[31m          \u001b[0m| 0/37 [00:00<?, ?it/s]"
     ]
    },
    {
     "name": "stdout",
     "output_type": "stream",
     "text": [
      "Elaborating audio DYOM_20230508_070302.wav...\n"
     ]
    },
    {
     "name": "stderr",
     "output_type": "stream",
     "text": [
      "Processing segments...: 100%|\u001b[31m██████████\u001b[0m| 37/37 [00:00<00:00, 2499.34it/s]\n",
      "Processing segments...: 100%|\u001b[31m██████████\u001b[0m| 37/37 [00:00<00:00, 2675.95it/s]\n"
     ]
    },
    {
     "name": "stdout",
     "output_type": "stream",
     "text": [
      "Elaborating audio DYOM_20230509_061502.wav...\n"
     ]
    },
    {
     "name": "stderr",
     "output_type": "stream",
     "text": [
      "Processing segments...:   0%|\u001b[31m          \u001b[0m| 0/37 [00:00<?, ?it/s]"
     ]
    },
    {
     "name": "stdout",
     "output_type": "stream",
     "text": [
      "Elaborating audio DYOM_20230507_061102.wav...\n"
     ]
    },
    {
     "name": "stderr",
     "output_type": "stream",
     "text": [
      "Processing segments...: 100%|\u001b[31m██████████\u001b[0m| 37/37 [00:00<00:00, 2749.39it/s]\n",
      "Processing segments...: 100%|\u001b[31m██████████\u001b[0m| 37/37 [00:00<00:00, 2140.10it/s]"
     ]
    },
    {
     "name": "stdout",
     "output_type": "stream",
     "text": [
      "Elaborating audio DYOM_20230507_061302.wav...\n"
     ]
    },
    {
     "name": "stderr",
     "output_type": "stream",
     "text": [
      "\n",
      "Processing segments...:   0%|\u001b[31m          \u001b[0m| 0/37 [00:00<?, ?it/s]"
     ]
    },
    {
     "name": "stdout",
     "output_type": "stream",
     "text": [
      "Elaborating audio DYOM_20230507_062602.wav...\n"
     ]
    },
    {
     "name": "stderr",
     "output_type": "stream",
     "text": [
      "Processing segments...: 100%|\u001b[31m██████████\u001b[0m| 37/37 [00:00<00:00, 1814.17it/s]\n",
      "Processing segments...: 100%|\u001b[31m██████████\u001b[0m| 37/37 [00:00<00:00, 2409.17it/s]\n"
     ]
    },
    {
     "name": "stdout",
     "output_type": "stream",
     "text": [
      "Elaborating audio DYOM_20230506_062902.wav...\n"
     ]
    },
    {
     "name": "stderr",
     "output_type": "stream",
     "text": [
      "Processing segments...:   0%|\u001b[31m          \u001b[0m| 0/37 [00:00<?, ?it/s]"
     ]
    },
    {
     "name": "stdout",
     "output_type": "stream",
     "text": [
      "Elaborating audio DYOM_20230508_061002.wav...\n"
     ]
    },
    {
     "name": "stderr",
     "output_type": "stream",
     "text": [
      "Processing segments...: 100%|\u001b[31m██████████\u001b[0m| 37/37 [00:00<00:00, 2476.81it/s]\n",
      "Processing segments...:   0%|\u001b[31m          \u001b[0m| 0/37 [00:00<?, ?it/s]"
     ]
    },
    {
     "name": "stdout",
     "output_type": "stream",
     "text": [
      "Elaborating audio DYOM_20230507_070702.wav...\n"
     ]
    },
    {
     "name": "stderr",
     "output_type": "stream",
     "text": [
      "Processing segments...: 100%|\u001b[31m██████████\u001b[0m| 37/37 [00:00<00:00, 2739.00it/s]\n",
      "Processing segments...: 100%|\u001b[31m██████████\u001b[0m| 37/37 [00:00<00:00, 2783.21it/s]\n"
     ]
    },
    {
     "name": "stdout",
     "output_type": "stream",
     "text": [
      "Elaborating audio DYOM_20230507_070602.wav...\n"
     ]
    },
    {
     "name": "stderr",
     "output_type": "stream",
     "text": [
      "Processing segments...:   0%|\u001b[31m          \u001b[0m| 0/37 [00:00<?, ?it/s]"
     ]
    },
    {
     "name": "stdout",
     "output_type": "stream",
     "text": [
      "Elaborating audio DYOM_20230507_060502.wav...\n"
     ]
    },
    {
     "name": "stderr",
     "output_type": "stream",
     "text": [
      "Processing segments...: 100%|\u001b[31m██████████\u001b[0m| 37/37 [00:00<00:00, 2174.65it/s]\n",
      "Processing segments...:   0%|\u001b[31m          \u001b[0m| 0/37 [00:00<?, ?it/s]"
     ]
    },
    {
     "name": "stdout",
     "output_type": "stream",
     "text": [
      "Elaborating audio DYOM_20230507_062902.wav...\n"
     ]
    },
    {
     "name": "stderr",
     "output_type": "stream",
     "text": [
      "Processing segments...: 100%|\u001b[31m██████████\u001b[0m| 37/37 [00:00<00:00, 2374.49it/s]\n",
      "Processing segments...:   0%|\u001b[31m          \u001b[0m| 0/37 [00:00<?, ?it/s]"
     ]
    },
    {
     "name": "stdout",
     "output_type": "stream",
     "text": [
      "Elaborating audio DYOM_20230507_061802.wav...\n"
     ]
    },
    {
     "name": "stderr",
     "output_type": "stream",
     "text": [
      "Processing segments...: 100%|\u001b[31m██████████\u001b[0m| 37/37 [00:00<00:00, 1718.62it/s]\n",
      "Processing segments...:   0%|\u001b[31m          \u001b[0m| 0/37 [00:00<?, ?it/s]"
     ]
    },
    {
     "name": "stdout",
     "output_type": "stream",
     "text": [
      "Elaborating audio DYOM_20230507_062802.wav...\n"
     ]
    },
    {
     "name": "stderr",
     "output_type": "stream",
     "text": [
      "Processing segments...: 100%|\u001b[31m██████████\u001b[0m| 37/37 [00:00<00:00, 1976.68it/s]\n",
      "Processing segments...: 100%|\u001b[31m██████████\u001b[0m| 37/37 [00:00<00:00, 3544.10it/s]\n"
     ]
    },
    {
     "name": "stdout",
     "output_type": "stream",
     "text": [
      "Elaborating audio DYOM_20230507_070102.wav...\n"
     ]
    },
    {
     "name": "stderr",
     "output_type": "stream",
     "text": [
      "Processing segments...:   0%|\u001b[31m          \u001b[0m| 0/37 [00:00<?, ?it/s]"
     ]
    },
    {
     "name": "stdout",
     "output_type": "stream",
     "text": [
      "Elaborating audio DYOM_20230507_082602.wav...\n"
     ]
    },
    {
     "name": "stderr",
     "output_type": "stream",
     "text": [
      "Processing segments...: 100%|\u001b[31m██████████\u001b[0m| 37/37 [00:00<00:00, 2625.92it/s]\n",
      "Processing segments...:   0%|\u001b[31m          \u001b[0m| 0/37 [00:00<?, ?it/s]"
     ]
    },
    {
     "name": "stdout",
     "output_type": "stream",
     "text": [
      "Elaborating audio DYOM_20230508_060702.wav...\n"
     ]
    },
    {
     "name": "stderr",
     "output_type": "stream",
     "text": [
      "Processing segments...: 100%|\u001b[31m██████████\u001b[0m| 37/37 [00:00<00:00, 2547.64it/s]\n",
      "Processing segments...:   0%|\u001b[31m          \u001b[0m| 0/39 [00:00<?, ?it/s]"
     ]
    },
    {
     "name": "stdout",
     "output_type": "stream",
     "text": [
      "Elaborating audio DYOM_20230509_060000.wav...\n"
     ]
    },
    {
     "name": "stderr",
     "output_type": "stream",
     "text": [
      "Processing segments...: 100%|\u001b[31m██████████\u001b[0m| 39/39 [00:00<00:00, 1637.71it/s]\n",
      "Processing segments...:   0%|\u001b[31m          \u001b[0m| 0/37 [00:00<?, ?it/s]"
     ]
    },
    {
     "name": "stdout",
     "output_type": "stream",
     "text": [
      "Elaborating audio DYOM_20230508_061702.wav...\n"
     ]
    },
    {
     "name": "stderr",
     "output_type": "stream",
     "text": [
      "Processing segments...: 100%|\u001b[31m██████████\u001b[0m| 37/37 [00:00<00:00, 2557.38it/s]\n",
      "Processing segments...:   0%|\u001b[31m          \u001b[0m| 0/37 [00:00<?, ?it/s]"
     ]
    },
    {
     "name": "stdout",
     "output_type": "stream",
     "text": [
      "Elaborating audio DYOM_20230507_062402.wav...\n"
     ]
    },
    {
     "name": "stderr",
     "output_type": "stream",
     "text": [
      "Processing segments...: 100%|\u001b[31m██████████\u001b[0m| 37/37 [00:00<00:00, 1941.61it/s]\n",
      "Processing segments...:   0%|\u001b[31m          \u001b[0m| 0/37 [00:00<?, ?it/s]"
     ]
    },
    {
     "name": "stdout",
     "output_type": "stream",
     "text": [
      "Elaborating audio DYOM_20230506_062702.wav...\n"
     ]
    },
    {
     "name": "stderr",
     "output_type": "stream",
     "text": [
      "Processing segments...: 100%|\u001b[31m██████████\u001b[0m| 37/37 [00:00<00:00, 1789.17it/s]\n",
      "Processing segments...:   0%|\u001b[31m          \u001b[0m| 0/37 [00:00<?, ?it/s]"
     ]
    },
    {
     "name": "stdout",
     "output_type": "stream",
     "text": [
      "Elaborating audio DYOM_20230506_070102.wav...\n"
     ]
    },
    {
     "name": "stderr",
     "output_type": "stream",
     "text": [
      "Processing segments...: 100%|\u001b[31m██████████\u001b[0m| 37/37 [00:00<00:00, 1613.08it/s]\n",
      "Processing segments...:   0%|\u001b[31m          \u001b[0m| 0/37 [00:00<?, ?it/s]"
     ]
    },
    {
     "name": "stdout",
     "output_type": "stream",
     "text": [
      "Elaborating audio DYOM_20230509_060102.wav...\n"
     ]
    },
    {
     "name": "stderr",
     "output_type": "stream",
     "text": [
      "Processing segments...: 100%|\u001b[31m██████████\u001b[0m| 37/37 [00:00<00:00, 1841.59it/s]\n",
      "Processing segments...:   0%|\u001b[31m          \u001b[0m| 0/37 [00:00<?, ?it/s]"
     ]
    },
    {
     "name": "stdout",
     "output_type": "stream",
     "text": [
      "Elaborating audio DYOM_20230508_072502.wav...\n"
     ]
    },
    {
     "name": "stderr",
     "output_type": "stream",
     "text": [
      "Processing segments...: 100%|\u001b[31m██████████\u001b[0m| 37/37 [00:00<00:00, 5818.87it/s]\n",
      "Processing segments...: 100%|\u001b[31m██████████\u001b[0m| 37/37 [00:00<00:00, 2872.17it/s]\n"
     ]
    },
    {
     "name": "stdout",
     "output_type": "stream",
     "text": [
      "Elaborating audio DYOM_20230508_060402.wav...\n"
     ]
    },
    {
     "name": "stderr",
     "output_type": "stream",
     "text": [
      "Processing segments...:   0%|\u001b[31m          \u001b[0m| 0/37 [00:00<?, ?it/s]"
     ]
    },
    {
     "name": "stdout",
     "output_type": "stream",
     "text": [
      "Elaborating audio DYOM_20230507_061702.wav...\n"
     ]
    },
    {
     "name": "stderr",
     "output_type": "stream",
     "text": [
      "Processing segments...: 100%|\u001b[31m██████████\u001b[0m| 37/37 [00:00<00:00, 1705.84it/s]\n",
      "Processing segments...:   0%|\u001b[31m          \u001b[0m| 0/39 [00:00<?, ?it/s]"
     ]
    },
    {
     "name": "stdout",
     "output_type": "stream",
     "text": [
      "Elaborating audio DYOM_20230507_060000.wav...\n"
     ]
    },
    {
     "name": "stderr",
     "output_type": "stream",
     "text": [
      "Processing segments...: 100%|\u001b[31m██████████\u001b[0m| 39/39 [00:00<00:00, 2101.35it/s]\n",
      "Processing segments...:   0%|\u001b[31m          \u001b[0m| 0/37 [00:00<?, ?it/s]"
     ]
    },
    {
     "name": "stdout",
     "output_type": "stream",
     "text": [
      "Elaborating audio DYOM_20230507_062202.wav...\n"
     ]
    },
    {
     "name": "stderr",
     "output_type": "stream",
     "text": [
      "Processing segments...: 100%|\u001b[31m██████████\u001b[0m| 37/37 [00:00<00:00, 1657.26it/s]\n",
      "Processing segments...:   0%|\u001b[31m          \u001b[0m| 0/37 [00:00<?, ?it/s]"
     ]
    },
    {
     "name": "stdout",
     "output_type": "stream",
     "text": [
      "Elaborating audio DYOM_20230507_060202.wav...\n"
     ]
    },
    {
     "name": "stderr",
     "output_type": "stream",
     "text": [
      "Processing segments...: 100%|\u001b[31m██████████\u001b[0m| 37/37 [00:00<00:00, 1732.12it/s]\n",
      "Processing segments...: 100%|\u001b[31m██████████\u001b[0m| 37/37 [00:00<00:00, 2827.43it/s]\n"
     ]
    },
    {
     "name": "stdout",
     "output_type": "stream",
     "text": [
      "Elaborating audio DYOM_20230506_081102.wav...\n"
     ]
    },
    {
     "name": "stderr",
     "output_type": "stream",
     "text": [
      "Processing segments...:   0%|\u001b[31m          \u001b[0m| 0/37 [00:00<?, ?it/s]"
     ]
    },
    {
     "name": "stdout",
     "output_type": "stream",
     "text": [
      "Elaborating audio DYOM_20230512_061002.wav...\n"
     ]
    },
    {
     "name": "stderr",
     "output_type": "stream",
     "text": [
      "Processing segments...: 100%|\u001b[31m██████████\u001b[0m| 37/37 [00:00<00:00, 2511.48it/s]\n",
      "Processing segments...:   0%|\u001b[31m          \u001b[0m| 0/38 [00:00<?, ?it/s]"
     ]
    },
    {
     "name": "stdout",
     "output_type": "stream",
     "text": [
      "Elaborating audio GLEN_20230501_060002.wav...\n"
     ]
    },
    {
     "name": "stderr",
     "output_type": "stream",
     "text": [
      "Processing segments...: 100%|\u001b[31m██████████\u001b[0m| 38/38 [00:00<00:00, 4674.83it/s]\n",
      "Processing segments...: 100%|\u001b[31m██████████\u001b[0m| 39/39 [00:00<00:00, 4174.08it/s]\n"
     ]
    },
    {
     "name": "stdout",
     "output_type": "stream",
     "text": [
      "Elaborating audio GLEN_20230520_060005.wav...\n"
     ]
    },
    {
     "name": "stderr",
     "output_type": "stream",
     "text": [
      "Processing segments...: 100%|\u001b[31m██████████\u001b[0m| 39/39 [00:00<00:00, 4136.08it/s]\n"
     ]
    },
    {
     "name": "stdout",
     "output_type": "stream",
     "text": [
      "Elaborating audio GLEN_20230425_050002.wav...\n"
     ]
    },
    {
     "name": "stderr",
     "output_type": "stream",
     "text": [
      "Processing segments...:   0%|\u001b[31m          \u001b[0m| 0/39 [00:00<?, ?it/s]"
     ]
    },
    {
     "name": "stdout",
     "output_type": "stream",
     "text": [
      "Elaborating audio GLEN_20230422_060003.wav...\n"
     ]
    },
    {
     "name": "stderr",
     "output_type": "stream",
     "text": [
      "Processing segments...: 100%|\u001b[31m██████████\u001b[0m| 39/39 [00:00<00:00, 3914.00it/s]\n",
      "Processing segments...: 100%|\u001b[31m██████████\u001b[0m| 39/39 [00:00<00:00, 9460.84it/s]\n"
     ]
    },
    {
     "name": "stdout",
     "output_type": "stream",
     "text": [
      "Elaborating audio GLEN_20230418_050001.wav...\n"
     ]
    },
    {
     "name": "stderr",
     "output_type": "stream",
     "text": [
      "Processing segments...:   0%|\u001b[31m          \u001b[0m| 0/39 [00:00<?, ?it/s]"
     ]
    },
    {
     "name": "stdout",
     "output_type": "stream",
     "text": [
      "Elaborating audio GLEN_20230509_060004.wav...\n"
     ]
    },
    {
     "name": "stderr",
     "output_type": "stream",
     "text": [
      "Processing segments...: 100%|\u001b[31m██████████\u001b[0m| 39/39 [00:00<00:00, 4709.58it/s]\n",
      "Processing segments...:   0%|\u001b[31m          \u001b[0m| 0/38 [00:00<?, ?it/s]"
     ]
    },
    {
     "name": "stdout",
     "output_type": "stream",
     "text": [
      "Elaborating audio GLEN_20230514_060001.wav...\n"
     ]
    },
    {
     "name": "stderr",
     "output_type": "stream",
     "text": [
      "Processing segments...: 100%|\u001b[31m██████████\u001b[0m| 38/38 [00:00<00:00, 5133.95it/s]\n",
      "Processing segments...:   0%|\u001b[31m          \u001b[0m| 0/39 [00:00<?, ?it/s]"
     ]
    },
    {
     "name": "stdout",
     "output_type": "stream",
     "text": [
      "Elaborating audio GLEN_20230422_060001.wav...\n"
     ]
    },
    {
     "name": "stderr",
     "output_type": "stream",
     "text": [
      "Processing segments...: 100%|\u001b[31m██████████\u001b[0m| 39/39 [00:00<00:00, 3837.06it/s]\n",
      "Processing segments...: 100%|\u001b[31m██████████\u001b[0m| 39/39 [00:00<00:00, 6864.65it/s]\n"
     ]
    },
    {
     "name": "stdout",
     "output_type": "stream",
     "text": [
      "Elaborating audio GLEN_20230421_050001.wav...\n"
     ]
    },
    {
     "name": "stderr",
     "output_type": "stream",
     "text": [
      "Processing segments...:   0%|\u001b[31m          \u001b[0m| 0/39 [00:00<?, ?it/s]"
     ]
    },
    {
     "name": "stdout",
     "output_type": "stream",
     "text": [
      "Elaborating audio GLEN_20230422_060004.wav...\n"
     ]
    },
    {
     "name": "stderr",
     "output_type": "stream",
     "text": [
      "Processing segments...: 100%|\u001b[31m██████████\u001b[0m| 39/39 [00:00<00:00, 2775.75it/s]\n",
      "Processing segments...: 100%|\u001b[31m██████████\u001b[0m| 39/39 [00:00<00:00, 3591.25it/s]\n"
     ]
    },
    {
     "name": "stdout",
     "output_type": "stream",
     "text": [
      "Elaborating audio GLEN_20230424_060001.wav...\n"
     ]
    },
    {
     "name": "stderr",
     "output_type": "stream",
     "text": [
      "Processing segments...:   0%|\u001b[31m          \u001b[0m| 0/39 [00:00<?, ?it/s]"
     ]
    },
    {
     "name": "stdout",
     "output_type": "stream",
     "text": [
      "Elaborating audio GLEN_20230421_050002.wav...\n"
     ]
    },
    {
     "name": "stderr",
     "output_type": "stream",
     "text": [
      "Processing segments...: 100%|\u001b[31m██████████\u001b[0m| 39/39 [00:00<00:00, 4948.36it/s]\n",
      "Processing segments...: 100%|\u001b[31m██████████\u001b[0m| 38/38 [00:00<00:00, 4949.34it/s]\n"
     ]
    },
    {
     "name": "stdout",
     "output_type": "stream",
     "text": [
      "Elaborating audio GLEN_20230522_060001.wav...\n"
     ]
    },
    {
     "name": "stderr",
     "output_type": "stream",
     "text": [
      "Processing segments...: 100%|\u001b[31m██████████\u001b[0m| 38/38 [00:00<00:00, 4685.55it/s]\n"
     ]
    },
    {
     "name": "stdout",
     "output_type": "stream",
     "text": [
      "Elaborating audio GLEN_20230518_060001.wav...\n"
     ]
    },
    {
     "name": "stderr",
     "output_type": "stream",
     "text": [
      "Processing segments...:   0%|\u001b[31m          \u001b[0m| 0/38 [00:00<?, ?it/s]"
     ]
    },
    {
     "name": "stdout",
     "output_type": "stream",
     "text": [
      "Elaborating audio GLEN_20230415_050005.wav...\n"
     ]
    },
    {
     "name": "stderr",
     "output_type": "stream",
     "text": [
      "Processing segments...: 100%|\u001b[31m██████████\u001b[0m| 38/38 [00:00<00:00, 3390.78it/s]\n",
      "Processing segments...: 100%|\u001b[31m██████████\u001b[0m| 38/38 [00:00<00:00, 5381.67it/s]\n"
     ]
    },
    {
     "name": "stdout",
     "output_type": "stream",
     "text": [
      "Elaborating audio GLEN_20230426_050002.wav...\n"
     ]
    },
    {
     "name": "stderr",
     "output_type": "stream",
     "text": [
      "Processing segments...:   0%|\u001b[31m          \u001b[0m| 0/39 [00:00<?, ?it/s]"
     ]
    },
    {
     "name": "stdout",
     "output_type": "stream",
     "text": [
      "Elaborating audio GLEN_20230505_060003.wav...\n"
     ]
    },
    {
     "name": "stderr",
     "output_type": "stream",
     "text": [
      "Processing segments...: 100%|\u001b[31m██████████\u001b[0m| 39/39 [00:00<00:00, 4564.24it/s]\n",
      "Processing segments...:   0%|\u001b[31m          \u001b[0m| 0/38 [00:00<?, ?it/s]"
     ]
    },
    {
     "name": "stdout",
     "output_type": "stream",
     "text": [
      "Elaborating audio GLEN_20230424_050002.wav...\n"
     ]
    },
    {
     "name": "stderr",
     "output_type": "stream",
     "text": [
      "Processing segments...: 100%|\u001b[31m██████████\u001b[0m| 38/38 [00:00<00:00, 3801.18it/s]\n",
      "Processing segments...: 100%|\u001b[31m██████████\u001b[0m| 38/38 [00:00<00:00, 6141.00it/s]\n"
     ]
    },
    {
     "name": "stdout",
     "output_type": "stream",
     "text": [
      "Elaborating audio GLEN_20230522_060007.wav...\n"
     ]
    },
    {
     "name": "stderr",
     "output_type": "stream",
     "text": [
      "Processing segments...:   0%|\u001b[31m          \u001b[0m| 0/38 [00:00<?, ?it/s]"
     ]
    },
    {
     "name": "stdout",
     "output_type": "stream",
     "text": [
      "Elaborating audio GLEN_20230509_060005.wav...\n"
     ]
    },
    {
     "name": "stderr",
     "output_type": "stream",
     "text": [
      "Processing segments...: 100%|\u001b[31m██████████\u001b[0m| 38/38 [00:00<00:00, 3805.54it/s]\n",
      "Processing segments...:   0%|\u001b[31m          \u001b[0m| 0/38 [00:00<?, ?it/s]"
     ]
    },
    {
     "name": "stdout",
     "output_type": "stream",
     "text": [
      "Elaborating audio GLEN_20230507_060001.wav...\n"
     ]
    },
    {
     "name": "stderr",
     "output_type": "stream",
     "text": [
      "Processing segments...: 100%|\u001b[31m██████████\u001b[0m| 38/38 [00:00<00:00, 5848.29it/s]\n",
      "Processing segments...:   0%|\u001b[31m          \u001b[0m| 0/38 [00:00<?, ?it/s]"
     ]
    },
    {
     "name": "stdout",
     "output_type": "stream",
     "text": [
      "Elaborating audio GLEN_20230418_050002.wav...\n"
     ]
    },
    {
     "name": "stderr",
     "output_type": "stream",
     "text": [
      "Processing segments...: 100%|\u001b[31m██████████\u001b[0m| 38/38 [00:00<00:00, 4467.15it/s]\n",
      "Processing segments...:   0%|\u001b[31m          \u001b[0m| 0/39 [00:00<?, ?it/s]"
     ]
    },
    {
     "name": "stdout",
     "output_type": "stream",
     "text": [
      "Elaborating audio GLEN_20230425_050001.wav...\n"
     ]
    },
    {
     "name": "stderr",
     "output_type": "stream",
     "text": [
      "Processing segments...: 100%|\u001b[31m██████████\u001b[0m| 39/39 [00:00<00:00, 4881.17it/s]\n",
      "Processing segments...:   0%|\u001b[31m          \u001b[0m| 0/38 [00:00<?, ?it/s]"
     ]
    },
    {
     "name": "stdout",
     "output_type": "stream",
     "text": [
      "Elaborating audio GLEN_20230505_060001.wav...\n"
     ]
    },
    {
     "name": "stderr",
     "output_type": "stream",
     "text": [
      "Processing segments...: 100%|\u001b[31m██████████\u001b[0m| 38/38 [00:00<00:00, 3880.12it/s]\n",
      "Processing segments...:   0%|\u001b[31m          \u001b[0m| 0/39 [00:00<?, ?it/s]"
     ]
    },
    {
     "name": "stdout",
     "output_type": "stream",
     "text": [
      "Elaborating audio GLEN_20230518_060005.wav...\n"
     ]
    },
    {
     "name": "stderr",
     "output_type": "stream",
     "text": [
      "Processing segments...: 100%|\u001b[31m██████████\u001b[0m| 39/39 [00:00<00:00, 4780.32it/s]\n",
      "Processing segments...:   0%|\u001b[31m          \u001b[0m| 0/38 [00:00<?, ?it/s]"
     ]
    },
    {
     "name": "stdout",
     "output_type": "stream",
     "text": [
      "Elaborating audio GLEN_20230426_050003.wav...\n"
     ]
    },
    {
     "name": "stderr",
     "output_type": "stream",
     "text": [
      "Processing segments...: 100%|\u001b[31m██████████\u001b[0m| 38/38 [00:00<00:00, 5836.09it/s]\n",
      "Processing segments...:   0%|\u001b[31m          \u001b[0m| 0/39 [00:00<?, ?it/s]"
     ]
    },
    {
     "name": "stdout",
     "output_type": "stream",
     "text": [
      "Elaborating audio GLEN_20230425_050003.wav...\n"
     ]
    },
    {
     "name": "stderr",
     "output_type": "stream",
     "text": [
      "Processing segments...: 100%|\u001b[31m██████████\u001b[0m| 39/39 [00:00<00:00, 3759.03it/s]\n",
      "Processing segments...:   0%|\u001b[31m          \u001b[0m| 0/38 [00:00<?, ?it/s]"
     ]
    },
    {
     "name": "stdout",
     "output_type": "stream",
     "text": [
      "Elaborating audio GLEN_20230507_060005.wav...\n"
     ]
    },
    {
     "name": "stderr",
     "output_type": "stream",
     "text": [
      "Processing segments...: 100%|\u001b[31m██████████\u001b[0m| 38/38 [00:00<00:00, 4536.32it/s]\n",
      "Processing segments...: 100%|\u001b[31m██████████\u001b[0m| 38/38 [00:00<00:00, 5454.04it/s]\n"
     ]
    },
    {
     "name": "stdout",
     "output_type": "stream",
     "text": [
      "Elaborating audio GLEN_20230511_060001.wav...\n"
     ]
    },
    {
     "name": "stderr",
     "output_type": "stream",
     "text": [
      "Processing segments...:   0%|\u001b[31m          \u001b[0m| 0/38 [00:00<?, ?it/s]"
     ]
    },
    {
     "name": "stdout",
     "output_type": "stream",
     "text": [
      "Elaborating audio GLEN_20230415_050002.wav...\n"
     ]
    },
    {
     "name": "stderr",
     "output_type": "stream",
     "text": [
      "Processing segments...: 100%|\u001b[31m██████████\u001b[0m| 38/38 [00:00<00:00, 3480.90it/s]\n",
      "Processing segments...:   0%|\u001b[31m          \u001b[0m| 0/39 [00:00<?, ?it/s]"
     ]
    },
    {
     "name": "stdout",
     "output_type": "stream",
     "text": [
      "Elaborating audio GLEN_20230509_060006.wav...\n"
     ]
    },
    {
     "name": "stderr",
     "output_type": "stream",
     "text": [
      "Processing segments...: 100%|\u001b[31m██████████\u001b[0m| 39/39 [00:00<00:00, 3839.04it/s]\n",
      "Processing segments...:   0%|\u001b[31m          \u001b[0m| 0/39 [00:00<?, ?it/s]"
     ]
    },
    {
     "name": "stdout",
     "output_type": "stream",
     "text": [
      "Elaborating audio GLEN_20230418_050005.wav...\n"
     ]
    },
    {
     "name": "stderr",
     "output_type": "stream",
     "text": [
      "Processing segments...: 100%|\u001b[31m██████████\u001b[0m| 39/39 [00:00<00:00, 2555.90it/s]\n",
      "Processing segments...:   0%|\u001b[31m          \u001b[0m| 0/39 [00:00<?, ?it/s]"
     ]
    },
    {
     "name": "stdout",
     "output_type": "stream",
     "text": [
      "Elaborating audio GLEN_20230501_060005.wav...\n"
     ]
    },
    {
     "name": "stderr",
     "output_type": "stream",
     "text": [
      "Processing segments...: 100%|\u001b[31m██████████\u001b[0m| 39/39 [00:00<00:00, 4574.58it/s]\n",
      "Processing segments...:   0%|\u001b[31m          \u001b[0m| 0/39 [00:00<?, ?it/s]"
     ]
    },
    {
     "name": "stdout",
     "output_type": "stream",
     "text": [
      "Elaborating audio GLEN_20230501_060001.wav...\n"
     ]
    },
    {
     "name": "stderr",
     "output_type": "stream",
     "text": [
      "Processing segments...: 100%|\u001b[31m██████████\u001b[0m| 39/39 [00:00<00:00, 3686.68it/s]\n",
      "Processing segments...:   0%|\u001b[31m          \u001b[0m| 0/38 [00:00<?, ?it/s]"
     ]
    },
    {
     "name": "stdout",
     "output_type": "stream",
     "text": [
      "Elaborating audio GLEN_20230518_060004.wav...\n"
     ]
    },
    {
     "name": "stderr",
     "output_type": "stream",
     "text": [
      "Processing segments...: 100%|\u001b[31m██████████\u001b[0m| 38/38 [00:00<00:00, 5080.93it/s]\n",
      "Processing segments...:   0%|\u001b[31m          \u001b[0m| 0/38 [00:00<?, ?it/s]"
     ]
    },
    {
     "name": "stdout",
     "output_type": "stream",
     "text": [
      "Elaborating audio GLEN_20230518_060002.wav...\n"
     ]
    },
    {
     "name": "stderr",
     "output_type": "stream",
     "text": [
      "Processing segments...: 100%|\u001b[31m██████████\u001b[0m| 38/38 [00:00<00:00, 4938.91it/s]\n",
      "Processing segments...:   0%|\u001b[31m          \u001b[0m| 0/39 [00:00<?, ?it/s]"
     ]
    },
    {
     "name": "stdout",
     "output_type": "stream",
     "text": [
      "Elaborating audio GLEN_20230415_050003.wav...\n"
     ]
    },
    {
     "name": "stderr",
     "output_type": "stream",
     "text": [
      "Processing segments...: 100%|\u001b[31m██████████\u001b[0m| 39/39 [00:00<00:00, 3776.12it/s]\n",
      "Processing segments...: 100%|\u001b[31m██████████\u001b[0m| 39/39 [00:00<00:00, 4006.02it/s]"
     ]
    },
    {
     "name": "stdout",
     "output_type": "stream",
     "text": [
      "Elaborating audio GLEN_20230424_050001.wav...\n"
     ]
    },
    {
     "name": "stderr",
     "output_type": "stream",
     "text": [
      "\n",
      "Processing segments...: 100%|\u001b[31m██████████\u001b[0m| 38/38 [00:00<00:00, 6671.56it/s]"
     ]
    },
    {
     "name": "stdout",
     "output_type": "stream",
     "text": [
      "Elaborating audio GLEN_20230522_060006.wav...\n"
     ]
    },
    {
     "name": "stderr",
     "output_type": "stream",
     "text": [
      "\n",
      "Processing segments...: 100%|\u001b[31m██████████\u001b[0m| 38/38 [00:00<00:00, 8270.64it/s]\n"
     ]
    },
    {
     "name": "stdout",
     "output_type": "stream",
     "text": [
      "Elaborating audio GLEN_20230509_060001.wav...\n"
     ]
    },
    {
     "name": "stderr",
     "output_type": "stream",
     "text": [
      "Processing segments...:   0%|\u001b[31m          \u001b[0m| 0/39 [00:00<?, ?it/s]"
     ]
    },
    {
     "name": "stdout",
     "output_type": "stream",
     "text": [
      "Elaborating audio GLEN_20230426_050001.wav...\n"
     ]
    },
    {
     "name": "stderr",
     "output_type": "stream",
     "text": [
      "Processing segments...: 100%|\u001b[31m██████████\u001b[0m| 39/39 [00:00<00:00, 5422.59it/s]\n",
      "Processing segments...:   0%|\u001b[31m          \u001b[0m| 0/39 [00:00<?, ?it/s]"
     ]
    },
    {
     "name": "stdout",
     "output_type": "stream",
     "text": [
      "Elaborating audio GLEN_20230511_060003.wav...\n"
     ]
    },
    {
     "name": "stderr",
     "output_type": "stream",
     "text": [
      "Processing segments...: 100%|\u001b[31m██████████\u001b[0m| 39/39 [00:00<00:00, 8346.23it/s]\n",
      "Processing segments...:   0%|\u001b[31m          \u001b[0m| 0/39 [00:00<?, ?it/s]"
     ]
    },
    {
     "name": "stdout",
     "output_type": "stream",
     "text": [
      "Elaborating audio GLEN_20230418_050004.wav...\n"
     ]
    },
    {
     "name": "stderr",
     "output_type": "stream",
     "text": [
      "Processing segments...: 100%|\u001b[31m██████████\u001b[0m| 39/39 [00:00<00:00, 3552.18it/s]\n",
      "Processing segments...:   0%|\u001b[31m          \u001b[0m| 0/39 [00:00<?, ?it/s]"
     ]
    },
    {
     "name": "stdout",
     "output_type": "stream",
     "text": [
      "Elaborating audio GLEN_20230425_050004.wav...\n"
     ]
    },
    {
     "name": "stderr",
     "output_type": "stream",
     "text": [
      "Processing segments...: 100%|\u001b[31m██████████\u001b[0m| 39/39 [00:00<00:00, 2517.74it/s]\n",
      "Processing segments...:   0%|\u001b[31m          \u001b[0m| 0/39 [00:00<?, ?it/s]"
     ]
    },
    {
     "name": "stdout",
     "output_type": "stream",
     "text": [
      "Elaborating audio GLEN_20230422_060002.wav...\n"
     ]
    },
    {
     "name": "stderr",
     "output_type": "stream",
     "text": [
      "Processing segments...: 100%|\u001b[31m██████████\u001b[0m| 39/39 [00:00<00:00, 3018.88it/s]\n",
      "Processing segments...:   0%|\u001b[31m          \u001b[0m| 0/38 [00:00<?, ?it/s]"
     ]
    },
    {
     "name": "stdout",
     "output_type": "stream",
     "text": [
      "Elaborating audio GLEN_20230522_060002.wav...\n"
     ]
    },
    {
     "name": "stderr",
     "output_type": "stream",
     "text": [
      "Processing segments...: 100%|\u001b[31m██████████\u001b[0m| 38/38 [00:00<00:00, 6014.02it/s]\n",
      "Processing segments...:   0%|\u001b[31m          \u001b[0m| 0/38 [00:00<?, ?it/s]"
     ]
    },
    {
     "name": "stdout",
     "output_type": "stream",
     "text": [
      "Elaborating audio GLEN_20230511_060005.wav...\n"
     ]
    },
    {
     "name": "stderr",
     "output_type": "stream",
     "text": [
      "Processing segments...: 100%|\u001b[31m██████████\u001b[0m| 38/38 [00:00<00:00, 4400.43it/s]\n",
      "Processing segments...:   0%|\u001b[31m          \u001b[0m| 0/39 [00:00<?, ?it/s]"
     ]
    },
    {
     "name": "stdout",
     "output_type": "stream",
     "text": [
      "Elaborating audio GLEN_20230509_060003.wav...\n"
     ]
    },
    {
     "name": "stderr",
     "output_type": "stream",
     "text": [
      "Processing segments...: 100%|\u001b[31m██████████\u001b[0m| 39/39 [00:00<00:00, 3897.87it/s]\n",
      "Processing segments...:   0%|\u001b[31m          \u001b[0m| 0/38 [00:00<?, ?it/s]"
     ]
    },
    {
     "name": "stdout",
     "output_type": "stream",
     "text": [
      "Elaborating audio GLEN_20230415_050001.wav...\n"
     ]
    },
    {
     "name": "stderr",
     "output_type": "stream",
     "text": [
      "Processing segments...: 100%|\u001b[31m██████████\u001b[0m| 38/38 [00:00<00:00, 4239.15it/s]\n",
      "Processing segments...: 100%|\u001b[31m██████████\u001b[0m| 39/39 [00:00<00:00, 3618.10it/s]"
     ]
    },
    {
     "name": "stdout",
     "output_type": "stream",
     "text": [
      "Elaborating audio GLEN_20230418_050003.wav...\n"
     ]
    },
    {
     "name": "stderr",
     "output_type": "stream",
     "text": [
      "\n",
      "Processing segments...: 100%|\u001b[31m██████████\u001b[0m| 39/39 [00:00<00:00, 5710.52it/s]\n"
     ]
    },
    {
     "name": "stdout",
     "output_type": "stream",
     "text": [
      "Elaborating audio GLEN_20230522_060004.wav...\n"
     ]
    },
    {
     "name": "stderr",
     "output_type": "stream",
     "text": [
      "Processing segments...: 100%|\u001b[31m██████████\u001b[0m| 39/39 [00:00<00:00, 5942.67it/s]\n"
     ]
    },
    {
     "name": "stdout",
     "output_type": "stream",
     "text": [
      "Elaborating audio GLEN_20230424_060002.wav...\n"
     ]
    },
    {
     "name": "stderr",
     "output_type": "stream",
     "text": [
      "Processing segments...: 100%|\u001b[31m██████████\u001b[0m| 38/38 [00:00<00:00, 10279.49it/s]"
     ]
    },
    {
     "name": "stdout",
     "output_type": "stream",
     "text": [
      "Elaborating audio GLEN_20230415_050006.wav...\n"
     ]
    },
    {
     "name": "stderr",
     "output_type": "stream",
     "text": [
      "\n",
      "Processing segments...: 100%|\u001b[31m██████████\u001b[0m| 39/39 [00:00<00:00, 12576.14it/s]\n"
     ]
    },
    {
     "name": "stdout",
     "output_type": "stream",
     "text": [
      "Elaborating audio MONTEB_20230512_070000.wav...\n"
     ]
    },
    {
     "name": "stderr",
     "output_type": "stream",
     "text": [
      "Processing segments...:   0%|\u001b[31m          \u001b[0m| 0/39 [00:00<?, ?it/s]"
     ]
    },
    {
     "name": "stdout",
     "output_type": "stream",
     "text": [
      "Elaborating audio HAR_20220612_065451.wav...\n"
     ]
    },
    {
     "name": "stderr",
     "output_type": "stream",
     "text": [
      "Processing segments...: 100%|\u001b[31m██████████\u001b[0m| 39/39 [00:00<00:00, 5684.52it/s]\n",
      "Processing segments...:   0%|\u001b[31m          \u001b[0m| 0/39 [00:00<?, ?it/s]"
     ]
    },
    {
     "name": "stdout",
     "output_type": "stream",
     "text": [
      "Elaborating audio HAR_20220613_130702.wav...\n"
     ]
    },
    {
     "name": "stderr",
     "output_type": "stream",
     "text": [
      "Processing segments...: 100%|\u001b[31m██████████\u001b[0m| 39/39 [00:00<00:00, 4367.43it/s]\n",
      "Processing segments...:   0%|\u001b[31m          \u001b[0m| 0/39 [00:00<?, ?it/s]"
     ]
    },
    {
     "name": "stdout",
     "output_type": "stream",
     "text": [
      "Elaborating audio HAR_20220613_070702.wav...\n"
     ]
    },
    {
     "name": "stderr",
     "output_type": "stream",
     "text": [
      "Processing segments...: 100%|\u001b[31m██████████\u001b[0m| 39/39 [00:00<00:00, 3958.04it/s]\n",
      "Processing segments...:   0%|\u001b[31m          \u001b[0m| 0/39 [00:00<?, ?it/s]"
     ]
    },
    {
     "name": "stdout",
     "output_type": "stream",
     "text": [
      "Elaborating audio HAR_20220615_070702.wav...\n"
     ]
    },
    {
     "name": "stderr",
     "output_type": "stream",
     "text": [
      "Processing segments...: 100%|\u001b[31m██████████\u001b[0m| 39/39 [00:00<00:00, 4823.31it/s]\n",
      "Processing segments...: 100%|\u001b[31m██████████\u001b[0m| 39/39 [00:00<00:00, 14282.53it/s]"
     ]
    },
    {
     "name": "stdout",
     "output_type": "stream",
     "text": [
      "Elaborating audio HAR_20220707_070902.wav...\n"
     ]
    },
    {
     "name": "stderr",
     "output_type": "stream",
     "text": [
      "\n",
      "Processing segments...:   0%|\u001b[31m          \u001b[0m| 0/39 [00:00<?, ?it/s]"
     ]
    },
    {
     "name": "stdout",
     "output_type": "stream",
     "text": [
      "Elaborating audio HAR_20220523_064702.wav...\n"
     ]
    },
    {
     "name": "stderr",
     "output_type": "stream",
     "text": [
      "Processing segments...: 100%|\u001b[31m██████████\u001b[0m| 39/39 [00:00<00:00, 4113.20it/s]\n",
      "Processing segments...:   0%|\u001b[31m          \u001b[0m| 0/39 [00:00<?, ?it/s]"
     ]
    },
    {
     "name": "stdout",
     "output_type": "stream",
     "text": [
      "Elaborating audio HAR_20220615_130702.wav...\n"
     ]
    },
    {
     "name": "stderr",
     "output_type": "stream",
     "text": [
      "Processing segments...: 100%|\u001b[31m██████████\u001b[0m| 39/39 [00:00<00:00, 11562.72it/s]\n",
      "Processing segments...:   0%|\u001b[31m          \u001b[0m| 0/39 [00:00<?, ?it/s]"
     ]
    },
    {
     "name": "stdout",
     "output_type": "stream",
     "text": [
      "Elaborating audio HAR_20220522_065402.wav...\n"
     ]
    },
    {
     "name": "stderr",
     "output_type": "stream",
     "text": [
      "Processing segments...: 100%|\u001b[31m██████████\u001b[0m| 39/39 [00:00<00:00, 8443.16it/s]\n",
      "Processing segments...:   0%|\u001b[31m          \u001b[0m| 0/39 [00:00<?, ?it/s]"
     ]
    },
    {
     "name": "stdout",
     "output_type": "stream",
     "text": [
      "Elaborating audio HAR_20220523_125702.wav...\n"
     ]
    },
    {
     "name": "stderr",
     "output_type": "stream",
     "text": [
      "Processing segments...: 100%|\u001b[31m██████████\u001b[0m| 39/39 [00:00<00:00, 3322.66it/s]\n",
      "Processing segments...: 100%|\u001b[31m██████████\u001b[0m| 39/39 [00:00<00:00, 5637.51it/s]\n"
     ]
    },
    {
     "name": "stdout",
     "output_type": "stream",
     "text": [
      "Elaborating audio HAR_20220523_065702.wav...\n"
     ]
    },
    {
     "name": "stderr",
     "output_type": "stream",
     "text": [
      "Processing segments...:   0%|\u001b[31m          \u001b[0m| 0/39 [00:00<?, ?it/s]"
     ]
    },
    {
     "name": "stdout",
     "output_type": "stream",
     "text": [
      "Elaborating audio CAT_20210304_064000.wav...\n"
     ]
    },
    {
     "name": "stderr",
     "output_type": "stream",
     "text": [
      "Processing segments...: 100%|\u001b[31m██████████\u001b[0m| 39/39 [00:00<00:00, 2754.53it/s]\n",
      "Processing segments...:   0%|\u001b[31m          \u001b[0m| 0/39 [00:00<?, ?it/s]"
     ]
    },
    {
     "name": "stdout",
     "output_type": "stream",
     "text": [
      "Elaborating audio CAT_20210304_065200.wav...\n"
     ]
    },
    {
     "name": "stderr",
     "output_type": "stream",
     "text": [
      "Processing segments...: 100%|\u001b[31m██████████\u001b[0m| 39/39 [00:00<00:00, 2935.34it/s]\n",
      "Processing segments...:   0%|\u001b[31m          \u001b[0m| 0/39 [00:00<?, ?it/s]"
     ]
    },
    {
     "name": "stdout",
     "output_type": "stream",
     "text": [
      "Elaborating audio CAT_20210304_065300.wav...\n"
     ]
    },
    {
     "name": "stderr",
     "output_type": "stream",
     "text": [
      "Processing segments...: 100%|\u001b[31m██████████\u001b[0m| 39/39 [00:00<00:00, 2855.86it/s]\n",
      "Processing segments...:   0%|\u001b[31m          \u001b[0m| 0/39 [00:00<?, ?it/s]"
     ]
    },
    {
     "name": "stdout",
     "output_type": "stream",
     "text": [
      "Elaborating audio CAT_20210304_065800.wav...\n"
     ]
    },
    {
     "name": "stderr",
     "output_type": "stream",
     "text": [
      "Processing segments...: 100%|\u001b[31m██████████\u001b[0m| 39/39 [00:00<00:00, 3271.56it/s]\n",
      "Processing segments...:   0%|\u001b[31m          \u001b[0m| 0/39 [00:00<?, ?it/s]"
     ]
    },
    {
     "name": "stdout",
     "output_type": "stream",
     "text": [
      "Elaborating audio CAT_20210304_070100.wav...\n"
     ]
    },
    {
     "name": "stderr",
     "output_type": "stream",
     "text": [
      "Processing segments...: 100%|\u001b[31m██████████\u001b[0m| 39/39 [00:00<00:00, 2864.91it/s]\n",
      "Processing segments...:   0%|\u001b[31m          \u001b[0m| 0/39 [00:00<?, ?it/s]"
     ]
    },
    {
     "name": "stdout",
     "output_type": "stream",
     "text": [
      "Elaborating audio CAT_20210304_063800.wav...\n"
     ]
    },
    {
     "name": "stderr",
     "output_type": "stream",
     "text": [
      "Processing segments...: 100%|\u001b[31m██████████\u001b[0m| 39/39 [00:00<00:00, 2836.79it/s]\n",
      "Processing segments...:   0%|\u001b[31m          \u001b[0m| 0/39 [00:00<?, ?it/s]"
     ]
    },
    {
     "name": "stdout",
     "output_type": "stream",
     "text": [
      "Elaborating audio CAT_20210304_064500.wav...\n"
     ]
    },
    {
     "name": "stderr",
     "output_type": "stream",
     "text": [
      "Processing segments...: 100%|\u001b[31m██████████\u001b[0m| 39/39 [00:00<00:00, 2775.09it/s]\n",
      "Processing segments...:   0%|\u001b[31m          \u001b[0m| 0/39 [00:00<?, ?it/s]"
     ]
    },
    {
     "name": "stdout",
     "output_type": "stream",
     "text": [
      "Elaborating audio CAT_20210304_063000.wav...\n"
     ]
    },
    {
     "name": "stderr",
     "output_type": "stream",
     "text": [
      "Processing segments...: 100%|\u001b[31m██████████\u001b[0m| 39/39 [00:00<00:00, 2891.60it/s]\n",
      "Processing segments...:   0%|\u001b[31m          \u001b[0m| 0/39 [00:00<?, ?it/s]"
     ]
    },
    {
     "name": "stdout",
     "output_type": "stream",
     "text": [
      "Elaborating audio CAT_20210304_065100.wav...\n"
     ]
    },
    {
     "name": "stderr",
     "output_type": "stream",
     "text": [
      "Processing segments...: 100%|\u001b[31m██████████\u001b[0m| 39/39 [00:00<00:00, 2815.94it/s]\n",
      "Processing segments...:   0%|\u001b[31m          \u001b[0m| 0/39 [00:00<?, ?it/s]"
     ]
    },
    {
     "name": "stdout",
     "output_type": "stream",
     "text": [
      "Elaborating audio CAT_20210304_070200.wav...\n"
     ]
    },
    {
     "name": "stderr",
     "output_type": "stream",
     "text": [
      "Processing segments...: 100%|\u001b[31m██████████\u001b[0m| 39/39 [00:00<00:00, 2839.35it/s]\n",
      "Processing segments...:   0%|\u001b[31m          \u001b[0m| 0/39 [00:00<?, ?it/s]"
     ]
    },
    {
     "name": "stdout",
     "output_type": "stream",
     "text": [
      "Elaborating audio CAT_20210304_063900.wav...\n"
     ]
    },
    {
     "name": "stderr",
     "output_type": "stream",
     "text": [
      "Processing segments...: 100%|\u001b[31m██████████\u001b[0m| 39/39 [00:00<00:00, 2766.93it/s]\n",
      "Processing segments...:   0%|\u001b[31m          \u001b[0m| 0/39 [00:00<?, ?it/s]"
     ]
    },
    {
     "name": "stdout",
     "output_type": "stream",
     "text": [
      "Elaborating audio CAT_20210304_063300.wav...\n"
     ]
    },
    {
     "name": "stderr",
     "output_type": "stream",
     "text": [
      "Processing segments...: 100%|\u001b[31m██████████\u001b[0m| 39/39 [00:00<00:00, 4286.86it/s]\n",
      "Processing segments...:   0%|\u001b[31m          \u001b[0m| 0/39 [00:00<?, ?it/s]"
     ]
    },
    {
     "name": "stdout",
     "output_type": "stream",
     "text": [
      "Elaborating audio CAT_20210304_063200.wav...\n"
     ]
    },
    {
     "name": "stderr",
     "output_type": "stream",
     "text": [
      "Processing segments...: 100%|\u001b[31m██████████\u001b[0m| 39/39 [00:00<00:00, 2874.48it/s]\n",
      "Processing segments...: 100%|\u001b[31m██████████\u001b[0m| 39/39 [00:00<00:00, 3082.19it/s]\n"
     ]
    },
    {
     "name": "stdout",
     "output_type": "stream",
     "text": [
      "Elaborating audio CAT_20210304_064400.wav...\n"
     ]
    },
    {
     "name": "stderr",
     "output_type": "stream",
     "text": [
      "Processing segments...: 100%|\u001b[31m██████████\u001b[0m| 39/39 [00:00<00:00, 6399.01it/s]\n"
     ]
    },
    {
     "name": "stdout",
     "output_type": "stream",
     "text": [
      "Elaborating audio CAT_20210304_070700.wav...\n"
     ]
    },
    {
     "name": "stderr",
     "output_type": "stream",
     "text": [
      "Processing segments...:   0%|\u001b[31m          \u001b[0m| 0/39 [00:00<?, ?it/s]"
     ]
    },
    {
     "name": "stdout",
     "output_type": "stream",
     "text": [
      "Elaborating audio CAT_20210304_065500.wav...\n"
     ]
    },
    {
     "name": "stderr",
     "output_type": "stream",
     "text": [
      "Processing segments...: 100%|\u001b[31m██████████\u001b[0m| 39/39 [00:00<00:00, 3071.42it/s]\n",
      "Processing segments...:   0%|\u001b[31m          \u001b[0m| 0/39 [00:00<?, ?it/s]"
     ]
    },
    {
     "name": "stdout",
     "output_type": "stream",
     "text": [
      "Elaborating audio CAT_20210304_065000.wav...\n"
     ]
    },
    {
     "name": "stderr",
     "output_type": "stream",
     "text": [
      "Processing segments...: 100%|\u001b[31m██████████\u001b[0m| 39/39 [00:00<00:00, 2884.46it/s]\n",
      "Processing segments...:   0%|\u001b[31m          \u001b[0m| 0/39 [00:00<?, ?it/s]"
     ]
    },
    {
     "name": "stdout",
     "output_type": "stream",
     "text": [
      "Elaborating audio CAT_20210304_070600.wav...\n"
     ]
    },
    {
     "name": "stderr",
     "output_type": "stream",
     "text": [
      "Processing segments...: 100%|\u001b[31m██████████\u001b[0m| 39/39 [00:00<00:00, 3613.06it/s]\n",
      "Processing segments...:   0%|\u001b[31m          \u001b[0m| 0/39 [00:00<?, ?it/s]"
     ]
    },
    {
     "name": "stdout",
     "output_type": "stream",
     "text": [
      "Elaborating audio CAT_20210304_070500.wav...\n"
     ]
    },
    {
     "name": "stderr",
     "output_type": "stream",
     "text": [
      "Processing segments...: 100%|\u001b[31m██████████\u001b[0m| 39/39 [00:00<00:00, 3407.80it/s]\n",
      "Processing segments...:   0%|\u001b[31m          \u001b[0m| 0/39 [00:00<?, ?it/s]"
     ]
    },
    {
     "name": "stdout",
     "output_type": "stream",
     "text": [
      "Elaborating audio CAT_20210304_064600.wav...\n"
     ]
    },
    {
     "name": "stderr",
     "output_type": "stream",
     "text": [
      "Processing segments...: 100%|\u001b[31m██████████\u001b[0m| 39/39 [00:00<00:00, 2882.68it/s]\n",
      "Processing segments...: 100%|\u001b[31m██████████\u001b[0m| 39/39 [00:00<00:00, 3375.24it/s]"
     ]
    },
    {
     "name": "stdout",
     "output_type": "stream",
     "text": [
      "Elaborating audio CAT_20210304_063400.wav...\n"
     ]
    },
    {
     "name": "stderr",
     "output_type": "stream",
     "text": [
      "\n",
      "Processing segments...: 100%|\u001b[31m██████████\u001b[0m| 39/39 [00:00<00:00, 2968.15it/s]"
     ]
    },
    {
     "name": "stdout",
     "output_type": "stream",
     "text": [
      "Elaborating audio CAT_20210304_064100.wav...\n"
     ]
    },
    {
     "name": "stderr",
     "output_type": "stream",
     "text": [
      "\n",
      "Processing segments...: 100%|\u001b[31m██████████\u001b[0m| 39/39 [00:00<00:00, 2951.23it/s]"
     ]
    },
    {
     "name": "stdout",
     "output_type": "stream",
     "text": [
      "Elaborating audio CAT_20210304_064200.wav...\n"
     ]
    },
    {
     "name": "stderr",
     "output_type": "stream",
     "text": [
      "\n",
      "Processing segments...: 100%|\u001b[31m██████████\u001b[0m| 39/39 [00:00<00:00, 3077.84it/s]\n"
     ]
    },
    {
     "name": "stdout",
     "output_type": "stream",
     "text": [
      "Elaborating audio CAT_20210304_065600.wav...\n"
     ]
    },
    {
     "name": "stderr",
     "output_type": "stream",
     "text": [
      "Processing segments...: 100%|\u001b[31m██████████\u001b[0m| 39/39 [00:00<00:00, 7770.18it/s]\n"
     ]
    },
    {
     "name": "stdout",
     "output_type": "stream",
     "text": [
      "Elaborating audio CAT_20210304_072300.wav...\n"
     ]
    },
    {
     "name": "stderr",
     "output_type": "stream",
     "text": [
      "Processing segments...:   0%|\u001b[31m          \u001b[0m| 0/39 [00:00<?, ?it/s]"
     ]
    },
    {
     "name": "stdout",
     "output_type": "stream",
     "text": [
      "Elaborating audio CAT_20210304_063500.wav...\n"
     ]
    },
    {
     "name": "stderr",
     "output_type": "stream",
     "text": [
      "Processing segments...: 100%|\u001b[31m██████████\u001b[0m| 39/39 [00:00<00:00, 2830.90it/s]\n",
      "Processing segments...:   0%|\u001b[31m          \u001b[0m| 0/39 [00:00<?, ?it/s]"
     ]
    },
    {
     "name": "stdout",
     "output_type": "stream",
     "text": [
      "Elaborating audio CAT_20210304_070800.wav...\n"
     ]
    },
    {
     "name": "stderr",
     "output_type": "stream",
     "text": [
      "Processing segments...: 100%|\u001b[31m██████████\u001b[0m| 39/39 [00:00<00:00, 7973.18it/s]\n",
      "Processing segments...: 100%|\u001b[31m██████████\u001b[0m| 39/39 [00:00<00:00, 3054.16it/s]"
     ]
    },
    {
     "name": "stdout",
     "output_type": "stream",
     "text": [
      "Elaborating audio CAT_20210304_064300.wav...\n"
     ]
    },
    {
     "name": "stderr",
     "output_type": "stream",
     "text": [
      "\n",
      "Processing segments...:   0%|\u001b[31m          \u001b[0m| 0/39 [00:00<?, ?it/s]"
     ]
    },
    {
     "name": "stdout",
     "output_type": "stream",
     "text": [
      "Elaborating audio CAT_20210304_063700.wav...\n"
     ]
    },
    {
     "name": "stderr",
     "output_type": "stream",
     "text": [
      "Processing segments...: 100%|\u001b[31m██████████\u001b[0m| 39/39 [00:00<00:00, 2876.14it/s]\n",
      "Processing segments...:   0%|\u001b[31m          \u001b[0m| 0/39 [00:00<?, ?it/s]"
     ]
    },
    {
     "name": "stdout",
     "output_type": "stream",
     "text": [
      "Elaborating audio CAT_20210304_065900.wav...\n"
     ]
    },
    {
     "name": "stderr",
     "output_type": "stream",
     "text": [
      "Processing segments...: 100%|\u001b[31m██████████\u001b[0m| 39/39 [00:00<00:00, 3721.48it/s]\n",
      "Processing segments...:   0%|\u001b[31m          \u001b[0m| 0/39 [00:00<?, ?it/s]"
     ]
    },
    {
     "name": "stdout",
     "output_type": "stream",
     "text": [
      "Elaborating audio CAT_20210304_070300.wav...\n"
     ]
    },
    {
     "name": "stderr",
     "output_type": "stream",
     "text": [
      "Processing segments...: 100%|\u001b[31m██████████\u001b[0m| 39/39 [00:00<00:00, 3987.86it/s]\n",
      "Processing segments...: 100%|\u001b[31m██████████\u001b[0m| 39/39 [00:00<00:00, 11915.64it/s]\n"
     ]
    },
    {
     "name": "stdout",
     "output_type": "stream",
     "text": [
      "Elaborating audio CAT_20210304_072500.wav...\n"
     ]
    },
    {
     "name": "stderr",
     "output_type": "stream",
     "text": [
      "Processing segments...:   0%|\u001b[31m          \u001b[0m| 0/39 [00:00<?, ?it/s]"
     ]
    },
    {
     "name": "stdout",
     "output_type": "stream",
     "text": [
      "Elaborating audio CAT_20210304_063100.wav...\n"
     ]
    },
    {
     "name": "stderr",
     "output_type": "stream",
     "text": [
      "Processing segments...: 100%|\u001b[31m██████████\u001b[0m| 39/39 [00:00<00:00, 2741.19it/s]\n",
      "Processing segments...:   0%|\u001b[31m          \u001b[0m| 0/39 [00:00<?, ?it/s]"
     ]
    },
    {
     "name": "stdout",
     "output_type": "stream",
     "text": [
      "Elaborating audio CAT_20210304_072200.wav...\n"
     ]
    },
    {
     "name": "stderr",
     "output_type": "stream",
     "text": [
      "Processing segments...: 100%|\u001b[31m██████████\u001b[0m| 39/39 [00:00<00:00, 6311.36it/s]\n",
      "Processing segments...:   0%|\u001b[31m          \u001b[0m| 0/39 [00:00<?, ?it/s]"
     ]
    },
    {
     "name": "stdout",
     "output_type": "stream",
     "text": [
      "Elaborating audio CAT_20210304_064700.wav...\n"
     ]
    },
    {
     "name": "stderr",
     "output_type": "stream",
     "text": [
      "Processing segments...: 100%|\u001b[31m██████████\u001b[0m| 39/39 [00:00<00:00, 2783.78it/s]\n",
      "Processing segments...:   0%|\u001b[31m          \u001b[0m| 0/39 [00:00<?, ?it/s]"
     ]
    },
    {
     "name": "stdout",
     "output_type": "stream",
     "text": [
      "Elaborating audio CAT_20210304_065400.wav...\n"
     ]
    },
    {
     "name": "stderr",
     "output_type": "stream",
     "text": [
      "Processing segments...: 100%|\u001b[31m██████████\u001b[0m| 39/39 [00:00<00:00, 3008.99it/s]\n",
      "Processing segments...:   0%|\u001b[31m          \u001b[0m| 0/39 [00:00<?, ?it/s]"
     ]
    },
    {
     "name": "stdout",
     "output_type": "stream",
     "text": [
      "Elaborating audio CAT_20210304_070000.wav...\n"
     ]
    },
    {
     "name": "stderr",
     "output_type": "stream",
     "text": [
      "Processing segments...: 100%|\u001b[31m██████████\u001b[0m| 39/39 [00:00<00:00, 2993.19it/s]\n",
      "Processing segments...:   0%|\u001b[31m          \u001b[0m| 0/39 [00:00<?, ?it/s]"
     ]
    },
    {
     "name": "stdout",
     "output_type": "stream",
     "text": [
      "Elaborating audio CAT_20210304_064900.wav...\n"
     ]
    },
    {
     "name": "stderr",
     "output_type": "stream",
     "text": [
      "Processing segments...: 100%|\u001b[31m██████████\u001b[0m| 39/39 [00:00<00:00, 2977.01it/s]\n",
      "Processing segments...:   0%|\u001b[31m          \u001b[0m| 0/39 [00:00<?, ?it/s]"
     ]
    },
    {
     "name": "stdout",
     "output_type": "stream",
     "text": [
      "Elaborating audio CAT_20210304_065700.wav...\n"
     ]
    },
    {
     "name": "stderr",
     "output_type": "stream",
     "text": [
      "Processing segments...: 100%|\u001b[31m██████████\u001b[0m| 39/39 [00:00<00:00, 3204.77it/s]\n",
      "Processing segments...:   0%|\u001b[31m          \u001b[0m| 0/39 [00:00<?, ?it/s]"
     ]
    },
    {
     "name": "stdout",
     "output_type": "stream",
     "text": [
      "Elaborating audio CAT_20210304_064800.wav...\n"
     ]
    },
    {
     "name": "stderr",
     "output_type": "stream",
     "text": [
      "Processing segments...: 100%|\u001b[31m██████████\u001b[0m| 39/39 [00:00<00:00, 2791.10it/s]\n",
      "Processing segments...: 100%|\u001b[31m██████████\u001b[0m| 39/39 [00:00<00:00, 3047.22it/s]"
     ]
    },
    {
     "name": "stdout",
     "output_type": "stream",
     "text": [
      "Elaborating audio CAT_20210304_063600.wav...\n"
     ]
    },
    {
     "name": "stderr",
     "output_type": "stream",
     "text": [
      "\n",
      "Processing segments...:   0%|\u001b[31m          \u001b[0m| 0/39 [00:00<?, ?it/s]"
     ]
    },
    {
     "name": "stdout",
     "output_type": "stream",
     "text": [
      "Elaborating audio ROTOK_20170228_123901.wav...\n"
     ]
    },
    {
     "name": "stderr",
     "output_type": "stream",
     "text": [
      "Processing segments...: 100%|\u001b[31m██████████\u001b[0m| 39/39 [00:00<00:00, 4476.56it/s]\n",
      "Processing segments...: 100%|\u001b[31m██████████\u001b[0m| 39/39 [00:00<00:00, 4541.81it/s]\n"
     ]
    },
    {
     "name": "stdout",
     "output_type": "stream",
     "text": [
      "Elaborating audio ROTOK_20170403_092201.wav...\n"
     ]
    },
    {
     "name": "stderr",
     "output_type": "stream",
     "text": [
      "Processing segments...: 100%|\u001b[31m██████████\u001b[0m| 39/39 [00:00<00:00, 5123.18it/s]\n"
     ]
    },
    {
     "name": "stdout",
     "output_type": "stream",
     "text": [
      "Elaborating audio ROTOK_20170406_105101.wav...\n"
     ]
    },
    {
     "name": "stderr",
     "output_type": "stream",
     "text": [
      "Processing segments...:   0%|\u001b[31m          \u001b[0m| 0/39 [00:00<?, ?it/s]"
     ]
    },
    {
     "name": "stdout",
     "output_type": "stream",
     "text": [
      "Elaborating audio ROTOK_20170402_081601.wav...\n"
     ]
    },
    {
     "name": "stderr",
     "output_type": "stream",
     "text": [
      "Processing segments...: 100%|\u001b[31m██████████\u001b[0m| 39/39 [00:00<00:00, 4256.96it/s]\n",
      "Processing segments...:   0%|\u001b[31m          \u001b[0m| 0/39 [00:00<?, ?it/s]"
     ]
    },
    {
     "name": "stdout",
     "output_type": "stream",
     "text": [
      "Elaborating audio ROTOK_20170406_133301.wav...\n"
     ]
    },
    {
     "name": "stderr",
     "output_type": "stream",
     "text": [
      "Processing segments...: 100%|\u001b[31m██████████\u001b[0m| 39/39 [00:00<00:00, 4800.81it/s]\n",
      "Processing segments...: 100%|\u001b[31m██████████\u001b[0m| 39/39 [00:00<00:00, 4518.35it/s]"
     ]
    },
    {
     "name": "stdout",
     "output_type": "stream",
     "text": [
      "Elaborating audio ROTOK_20170124_104101.wav...\n"
     ]
    },
    {
     "name": "stderr",
     "output_type": "stream",
     "text": [
      "\n",
      "Processing segments...:   0%|\u001b[31m          \u001b[0m| 0/39 [00:00<?, ?it/s]"
     ]
    },
    {
     "name": "stdout",
     "output_type": "stream",
     "text": [
      "Elaborating audio ROTOK_20170406_115201.wav...\n"
     ]
    },
    {
     "name": "stderr",
     "output_type": "stream",
     "text": [
      "Processing segments...: 100%|\u001b[31m██████████\u001b[0m| 39/39 [00:00<00:00, 4838.15it/s]\n",
      "Processing segments...: 100%|\u001b[31m██████████\u001b[0m| 39/39 [00:00<00:00, 4710.39it/s]"
     ]
    },
    {
     "name": "stdout",
     "output_type": "stream",
     "text": [
      "Elaborating audio ROTOK_20170406_085101.wav...\n"
     ]
    },
    {
     "name": "stderr",
     "output_type": "stream",
     "text": [
      "\n",
      "Processing segments...: 100%|\u001b[31m██████████\u001b[0m| 39/39 [00:00<00:00, 5152.71it/s]"
     ]
    },
    {
     "name": "stdout",
     "output_type": "stream",
     "text": [
      "Elaborating audio ROTOK_20170303_100101.wav...\n"
     ]
    },
    {
     "name": "stderr",
     "output_type": "stream",
     "text": [
      "\n",
      "Processing segments...: 100%|\u001b[31m██████████\u001b[0m| 39/39 [00:00<00:00, 4933.58it/s]\n"
     ]
    },
    {
     "name": "stdout",
     "output_type": "stream",
     "text": [
      "Elaborating audio ROTOK_20170302_122301.wav...\n"
     ]
    },
    {
     "name": "stderr",
     "output_type": "stream",
     "text": [
      "Processing segments...:   0%|\u001b[31m          \u001b[0m| 0/39 [00:00<?, ?it/s]"
     ]
    },
    {
     "name": "stdout",
     "output_type": "stream",
     "text": [
      "Elaborating audio ROTOK_20170301_074801.wav...\n"
     ]
    },
    {
     "name": "stderr",
     "output_type": "stream",
     "text": [
      "Processing segments...: 100%|\u001b[31m██████████\u001b[0m| 39/39 [00:00<00:00, 4571.38it/s]\n",
      "Processing segments...: 100%|\u001b[31m██████████\u001b[0m| 39/39 [00:00<00:00, 4871.87it/s]"
     ]
    },
    {
     "name": "stdout",
     "output_type": "stream",
     "text": [
      "Elaborating audio ROTOK_20170301_115801.wav...\n"
     ]
    },
    {
     "name": "stderr",
     "output_type": "stream",
     "text": [
      "\n",
      "Processing segments...: 100%|\u001b[31m██████████\u001b[0m| 39/39 [00:00<00:00, 5467.91it/s]\n"
     ]
    },
    {
     "name": "stdout",
     "output_type": "stream",
     "text": [
      "Elaborating audio ROTOK_20170402_095001.wav...\n"
     ]
    },
    {
     "name": "stderr",
     "output_type": "stream",
     "text": [
      "Processing segments...:   0%|\u001b[31m          \u001b[0m| 0/39 [00:00<?, ?it/s]"
     ]
    },
    {
     "name": "stdout",
     "output_type": "stream",
     "text": [
      "Elaborating audio SCHF_20230609_081400.wav...\n"
     ]
    },
    {
     "name": "stderr",
     "output_type": "stream",
     "text": [
      "Processing segments...: 100%|\u001b[31m██████████\u001b[0m| 39/39 [00:00<00:00, 2432.57it/s]\n",
      "Processing segments...: 100%|\u001b[31m██████████\u001b[0m| 39/39 [00:00<00:00, 2978.58it/s]"
     ]
    },
    {
     "name": "stdout",
     "output_type": "stream",
     "text": [
      "Elaborating audio SCHF_20230422_184110.wav...\n"
     ]
    },
    {
     "name": "stderr",
     "output_type": "stream",
     "text": [
      "\n",
      "Processing segments...:   0%|\u001b[31m          \u001b[0m| 0/39 [00:00<?, ?it/s]"
     ]
    },
    {
     "name": "stdout",
     "output_type": "stream",
     "text": [
      "Elaborating audio SCHF_20230423_071910.wav...\n"
     ]
    },
    {
     "name": "stderr",
     "output_type": "stream",
     "text": [
      "Processing segments...: 100%|\u001b[31m██████████\u001b[0m| 39/39 [00:00<00:00, 2536.60it/s]\n",
      "Processing segments...: 100%|\u001b[31m██████████\u001b[0m| 39/39 [00:00<00:00, 7519.78it/s]\n"
     ]
    },
    {
     "name": "stdout",
     "output_type": "stream",
     "text": [
      "Elaborating audio SCHF_20230423_143910.wav...\n"
     ]
    },
    {
     "name": "stderr",
     "output_type": "stream",
     "text": [
      "Processing segments...:   0%|\u001b[31m          \u001b[0m| 0/39 [00:00<?, ?it/s]"
     ]
    },
    {
     "name": "stdout",
     "output_type": "stream",
     "text": [
      "Elaborating audio SCHF_20230423_105910.wav...\n"
     ]
    },
    {
     "name": "stderr",
     "output_type": "stream",
     "text": [
      "Processing segments...: 100%|\u001b[31m██████████\u001b[0m| 39/39 [00:00<00:00, 6393.76it/s]\n",
      "Processing segments...:   0%|\u001b[31m          \u001b[0m| 0/39 [00:00<?, ?it/s]"
     ]
    },
    {
     "name": "stdout",
     "output_type": "stream",
     "text": [
      "Elaborating audio SCHF_20230609_035000.wav...\n"
     ]
    },
    {
     "name": "stderr",
     "output_type": "stream",
     "text": [
      "Processing segments...: 100%|\u001b[31m██████████\u001b[0m| 39/39 [00:00<00:00, 2667.39it/s]\n",
      "Processing segments...:   0%|\u001b[31m          \u001b[0m| 0/39 [00:00<?, ?it/s]"
     ]
    },
    {
     "name": "stdout",
     "output_type": "stream",
     "text": [
      "Elaborating audio SCHF_20230422_194711.wav...\n"
     ]
    },
    {
     "name": "stderr",
     "output_type": "stream",
     "text": [
      "Processing segments...: 100%|\u001b[31m██████████\u001b[0m| 39/39 [00:00<00:00, 3029.05it/s]\n",
      "Processing segments...:   0%|\u001b[31m          \u001b[0m| 0/39 [00:00<?, ?it/s]"
     ]
    },
    {
     "name": "stdout",
     "output_type": "stream",
     "text": [
      "Elaborating audio SCHF_20230423_153410.wav...\n"
     ]
    },
    {
     "name": "stderr",
     "output_type": "stream",
     "text": [
      "Processing segments...: 100%|\u001b[31m██████████\u001b[0m| 39/39 [00:00<00:00, 3206.84it/s]\n",
      "Processing segments...:   0%|\u001b[31m          \u001b[0m| 0/39 [00:00<?, ?it/s]"
     ]
    },
    {
     "name": "stdout",
     "output_type": "stream",
     "text": [
      "Elaborating audio SCHF_20230423_084710.wav...\n"
     ]
    },
    {
     "name": "stderr",
     "output_type": "stream",
     "text": [
      "Processing segments...: 100%|\u001b[31m██████████\u001b[0m| 39/39 [00:00<00:00, 3130.26it/s]\n",
      "Processing segments...:   0%|\u001b[31m          \u001b[0m| 0/39 [00:00<?, ?it/s]"
     ]
    },
    {
     "name": "stdout",
     "output_type": "stream",
     "text": [
      "Elaborating audio SCHF_20230609_204200.wav...\n"
     ]
    },
    {
     "name": "stderr",
     "output_type": "stream",
     "text": [
      "Processing segments...: 100%|\u001b[31m██████████\u001b[0m| 39/39 [00:00<00:00, 2837.77it/s]\n",
      "Processing segments...:   0%|\u001b[31m          \u001b[0m| 0/39 [00:00<?, ?it/s]"
     ]
    },
    {
     "name": "stdout",
     "output_type": "stream",
     "text": [
      "Elaborating audio SCHF_20230609_060200.wav...\n"
     ]
    },
    {
     "name": "stderr",
     "output_type": "stream",
     "text": [
      "Processing segments...: 100%|\u001b[31m██████████\u001b[0m| 39/39 [00:00<00:00, 3072.98it/s]\n",
      "Processing segments...:   0%|\u001b[31m          \u001b[0m| 0/39 [00:00<?, ?it/s]"
     ]
    },
    {
     "name": "stdout",
     "output_type": "stream",
     "text": [
      "Elaborating audio SCHF_20230423_131110.wav...\n"
     ]
    },
    {
     "name": "stderr",
     "output_type": "stream",
     "text": [
      "Processing segments...: 100%|\u001b[31m██████████\u001b[0m| 39/39 [00:00<00:00, 2944.43it/s]\n",
      "Processing segments...:   0%|\u001b[31m          \u001b[0m| 0/39 [00:00<?, ?it/s]"
     ]
    },
    {
     "name": "stdout",
     "output_type": "stream",
     "text": [
      "Elaborating audio SCHF_20230423_190310.wav...\n"
     ]
    },
    {
     "name": "stderr",
     "output_type": "stream",
     "text": [
      "Processing segments...: 100%|\u001b[31m██████████\u001b[0m| 39/39 [00:00<00:00, 5030.22it/s]\n",
      "Processing segments...:   0%|\u001b[31m          \u001b[0m| 0/39 [00:00<?, ?it/s]"
     ]
    },
    {
     "name": "stdout",
     "output_type": "stream",
     "text": [
      "Elaborating audio SCHF_20230422_195810.wav...\n"
     ]
    },
    {
     "name": "stderr",
     "output_type": "stream",
     "text": [
      "Processing segments...: 100%|\u001b[31m██████████\u001b[0m| 39/39 [00:00<00:00, 3475.65it/s]\n",
      "Processing segments...:   0%|\u001b[31m          \u001b[0m| 0/39 [00:00<?, ?it/s]"
     ]
    },
    {
     "name": "stdout",
     "output_type": "stream",
     "text": [
      "Elaborating audio SCHF_20230609_051800.wav...\n"
     ]
    },
    {
     "name": "stderr",
     "output_type": "stream",
     "text": [
      "Processing segments...: 100%|\u001b[31m██████████\u001b[0m| 39/39 [00:00<00:00, 3257.16it/s]\n",
      "Processing segments...: 100%|\u001b[31m██████████\u001b[0m| 39/39 [00:00<00:00, 6443.12it/s]"
     ]
    },
    {
     "name": "stdout",
     "output_type": "stream",
     "text": [
      "Elaborating audio SCHF_20230422_173510.wav...\n"
     ]
    },
    {
     "name": "stderr",
     "output_type": "stream",
     "text": [
      "\n",
      "Processing segments...: 100%|\u001b[31m██████████\u001b[0m| 39/39 [00:00<00:00, 3180.22it/s]"
     ]
    },
    {
     "name": "stdout",
     "output_type": "stream",
     "text": [
      "Elaborating audio SCHF_20230609_102600.wav...\n"
     ]
    },
    {
     "name": "stderr",
     "output_type": "stream",
     "text": [
      "\n",
      "Processing segments...: 100%|\u001b[31m██████████\u001b[0m| 39/39 [00:00<00:00, 3265.35it/s]\n"
     ]
    },
    {
     "name": "stdout",
     "output_type": "stream",
     "text": [
      "Elaborating audio SCHF_20230422_205310.wav...\n"
     ]
    },
    {
     "name": "stderr",
     "output_type": "stream",
     "text": [
      "Processing segments...:   0%|\u001b[31m          \u001b[0m| 0/39 [00:00<?, ?it/s]"
     ]
    },
    {
     "name": "stdout",
     "output_type": "stream",
     "text": [
      "Elaborating audio SCHF_20230422_101510.wav...\n"
     ]
    },
    {
     "name": "stderr",
     "output_type": "stream",
     "text": [
      "Processing segments...: 100%|\u001b[31m██████████\u001b[0m| 39/39 [00:00<00:00, 2671.27it/s]\n",
      "Processing segments...:   0%|\u001b[31m          \u001b[0m| 0/39 [00:00<?, ?it/s]"
     ]
    },
    {
     "name": "stdout",
     "output_type": "stream",
     "text": [
      "Elaborating audio SCHF_20230422_193610.wav...\n"
     ]
    },
    {
     "name": "stderr",
     "output_type": "stream",
     "text": [
      "Processing segments...: 100%|\u001b[31m██████████\u001b[0m| 39/39 [00:00<00:00, 3783.98it/s]\n",
      "Processing segments...:   0%|\u001b[31m          \u001b[0m| 0/39 [00:00<?, ?it/s]"
     ]
    },
    {
     "name": "stdout",
     "output_type": "stream",
     "text": [
      "Elaborating audio SCHF_20230609_212600.wav...\n"
     ]
    },
    {
     "name": "stderr",
     "output_type": "stream",
     "text": [
      "Processing segments...: 100%|\u001b[31m██████████\u001b[0m| 39/39 [00:00<00:00, 3549.94it/s]\n",
      "Processing segments...:   0%|\u001b[31m          \u001b[0m| 0/39 [00:00<?, ?it/s]"
     ]
    },
    {
     "name": "stdout",
     "output_type": "stream",
     "text": [
      "Elaborating audio SCHF_20230422_080310.wav...\n"
     ]
    },
    {
     "name": "stderr",
     "output_type": "stream",
     "text": [
      "Processing segments...: 100%|\u001b[31m██████████\u001b[0m| 39/39 [00:00<00:00, 3266.59it/s]\n",
      "Processing segments...:   0%|\u001b[31m          \u001b[0m| 0/39 [00:00<?, ?it/s]"
     ]
    },
    {
     "name": "stdout",
     "output_type": "stream",
     "text": [
      "Elaborating audio SCHF_20230609_073000.wav...\n"
     ]
    },
    {
     "name": "stderr",
     "output_type": "stream",
     "text": [
      "Processing segments...: 100%|\u001b[31m██████████\u001b[0m| 39/39 [00:00<00:00, 2909.55it/s]\n",
      "Processing segments...:   0%|\u001b[31m          \u001b[0m| 0/39 [00:00<?, ?it/s]"
     ]
    },
    {
     "name": "stdout",
     "output_type": "stream",
     "text": [
      "Elaborating audio SCHF_20230428_063510.wav...\n"
     ]
    },
    {
     "name": "stderr",
     "output_type": "stream",
     "text": [
      "Processing segments...: 100%|\u001b[31m██████████\u001b[0m| 39/39 [00:00<00:00, 3902.24it/s]\n",
      "Processing segments...: 100%|\u001b[31m██████████\u001b[0m| 39/39 [00:00<00:00, 3958.42it/s]"
     ]
    },
    {
     "name": "stdout",
     "output_type": "stream",
     "text": [
      "Elaborating audio SCHF_20230609_085800.wav...\n"
     ]
    },
    {
     "name": "stderr",
     "output_type": "stream",
     "text": [
      "\n",
      "Processing segments...: 100%|\u001b[31m██████████\u001b[0m| 39/39 [00:00<00:00, 7156.89it/s]\n"
     ]
    },
    {
     "name": "stdout",
     "output_type": "stream",
     "text": [
      "Elaborating audio SCHF_20230609_195800.wav...\n"
     ]
    },
    {
     "name": "stderr",
     "output_type": "stream",
     "text": [
      "Processing segments...:   0%|\u001b[31m          \u001b[0m| 0/39 [00:00<?, ?it/s]"
     ]
    },
    {
     "name": "stdout",
     "output_type": "stream",
     "text": [
      "Elaborating audio SCHF_20230422_203110.wav...\n"
     ]
    },
    {
     "name": "stderr",
     "output_type": "stream",
     "text": [
      "Processing segments...: 100%|\u001b[31m██████████\u001b[0m| 39/39 [00:00<00:00, 7457.39it/s]\n",
      "Processing segments...: 100%|\u001b[31m██████████\u001b[0m| 39/39 [00:00<00:00, 3782.50it/s]\n"
     ]
    },
    {
     "name": "stdout",
     "output_type": "stream",
     "text": [
      "Elaborating audio SCHF_20230609_094200.wav...\n"
     ]
    },
    {
     "name": "stderr",
     "output_type": "stream",
     "text": [
      "Processing segments...:   0%|\u001b[31m          \u001b[0m| 0/39 [00:00<?, ?it/s]"
     ]
    },
    {
     "name": "stdout",
     "output_type": "stream",
     "text": [
      "Elaborating audio SCHF_20230609_043400.wav...\n"
     ]
    },
    {
     "name": "stderr",
     "output_type": "stream",
     "text": [
      "Processing segments...: 100%|\u001b[31m██████████\u001b[0m| 39/39 [00:00<00:00, 3184.80it/s]\n",
      "Processing segments...: 100%|\u001b[31m██████████\u001b[0m| 39/39 [00:00<00:00, 4148.88it/s]"
     ]
    },
    {
     "name": "stdout",
     "output_type": "stream",
     "text": [
      "Elaborating audio SCHF_20230423_063510.wav...\n"
     ]
    },
    {
     "name": "stderr",
     "output_type": "stream",
     "text": [
      "\n",
      "Processing segments...:   0%|\u001b[31m          \u001b[0m| 0/39 [00:00<?, ?it/s]"
     ]
    },
    {
     "name": "stdout",
     "output_type": "stream",
     "text": [
      "Elaborating audio SCHF_20230609_064600.wav...\n"
     ]
    },
    {
     "name": "stderr",
     "output_type": "stream",
     "text": [
      "Processing segments...: 100%|\u001b[31m██████████\u001b[0m| 39/39 [00:00<00:00, 2839.30it/s]\n",
      "Processing segments...: 100%|\u001b[31m██████████\u001b[0m| 39/39 [00:00<00:00, 8549.07it/s]"
     ]
    },
    {
     "name": "stdout",
     "output_type": "stream",
     "text": [
      "Elaborating audio SCHF_20230422_165110.wav...\n"
     ]
    },
    {
     "name": "stderr",
     "output_type": "stream",
     "text": [
      "\n",
      "Processing segments...: 100%|\u001b[31m██████████\u001b[0m| 39/39 [00:00<00:00, 3799.01it/s]\n"
     ]
    },
    {
     "name": "stdout",
     "output_type": "stream",
     "text": [
      "Elaborating audio SCHF_20230422_050710.wav...\n"
     ]
    },
    {
     "name": "stderr",
     "output_type": "stream",
     "text": [
      "Processing segments...: 100%|\u001b[31m██████████\u001b[0m| 39/39 [00:00<00:00, 10103.01it/s]\n"
     ]
    },
    {
     "name": "stdout",
     "output_type": "stream",
     "text": [
      "Elaborating audio CB_20180525_061005.wav...\n"
     ]
    },
    {
     "name": "stderr",
     "output_type": "stream",
     "text": [
      "Processing segments...: 100%|\u001b[31m██████████\u001b[0m| 39/39 [00:00<00:00, 9123.14it/s]\n"
     ]
    },
    {
     "name": "stdout",
     "output_type": "stream",
     "text": [
      "Elaborating audio BOLIN_20230523_110000.wav...\n"
     ]
    },
    {
     "name": "stderr",
     "output_type": "stream",
     "text": [
      "Processing segments...:   0%|\u001b[31m          \u001b[0m| 0/39 [00:00<?, ?it/s]"
     ]
    },
    {
     "name": "stdout",
     "output_type": "stream",
     "text": [
      "Elaborating audio BOLIN_20230523_105000.wav...\n"
     ]
    },
    {
     "name": "stderr",
     "output_type": "stream",
     "text": [
      "Processing segments...: 100%|\u001b[31m██████████\u001b[0m| 39/39 [00:00<00:00, 7949.93it/s]\n",
      "Processing segments...: 100%|\u001b[31m██████████\u001b[0m| 39/39 [00:00<00:00, 13969.07it/s]\n"
     ]
    },
    {
     "name": "stdout",
     "output_type": "stream",
     "text": [
      "Elaborating audio BOLIN_20230304_110000.wav...\n"
     ]
    },
    {
     "name": "stderr",
     "output_type": "stream",
     "text": [
      "Processing segments...:   0%|\u001b[31m          \u001b[0m| 0/39 [00:00<?, ?it/s]"
     ]
    },
    {
     "name": "stdout",
     "output_type": "stream",
     "text": [
      "Elaborating audio BOLIN_20230523_074000.wav...\n"
     ]
    },
    {
     "name": "stderr",
     "output_type": "stream",
     "text": [
      "Processing segments...: 100%|\u001b[31m██████████\u001b[0m| 39/39 [00:00<00:00, 5553.48it/s]\n",
      "Processing segments...: 100%|\u001b[31m██████████\u001b[0m| 39/39 [00:00<00:00, 7864.32it/s]\n"
     ]
    },
    {
     "name": "stdout",
     "output_type": "stream",
     "text": [
      "Elaborating audio BOLIN_20230523_064000.wav...\n"
     ]
    },
    {
     "name": "stderr",
     "output_type": "stream",
     "text": [
      "Processing segments...:   0%|\u001b[31m          \u001b[0m| 0/39 [00:00<?, ?it/s]"
     ]
    },
    {
     "name": "stdout",
     "output_type": "stream",
     "text": [
      "Elaborating audio KAR_20210521_080000.wav...\n"
     ]
    },
    {
     "name": "stderr",
     "output_type": "stream",
     "text": [
      "Processing segments...: 100%|\u001b[31m██████████\u001b[0m| 39/39 [00:00<00:00, 6334.83it/s]\n",
      "Processing segments...:   0%|\u001b[31m          \u001b[0m| 0/39 [00:00<?, ?it/s]"
     ]
    },
    {
     "name": "stdout",
     "output_type": "stream",
     "text": [
      "Elaborating audio KAR_20210426_080010.wav...\n"
     ]
    },
    {
     "name": "stderr",
     "output_type": "stream",
     "text": [
      "Processing segments...: 100%|\u001b[31m██████████\u001b[0m| 39/39 [00:00<00:00, 3548.71it/s]\n",
      "Processing segments...: 100%|\u001b[31m██████████\u001b[0m| 39/39 [00:00<00:00, 5149.95it/s]"
     ]
    },
    {
     "name": "stdout",
     "output_type": "stream",
     "text": [
      "Elaborating audio KAR_20210426_090010.wav...\n"
     ]
    },
    {
     "name": "stderr",
     "output_type": "stream",
     "text": [
      "\n",
      "Processing segments...: 100%|\u001b[31m██████████\u001b[0m| 39/39 [00:00<00:00, 4739.60it/s]\n"
     ]
    },
    {
     "name": "stdout",
     "output_type": "stream",
     "text": [
      "Elaborating audio KAR_20210521_070006.wav...\n"
     ]
    },
    {
     "name": "stderr",
     "output_type": "stream",
     "text": [
      "Processing segments...:   0%|\u001b[31m          \u001b[0m| 0/39 [00:00<?, ?it/s]"
     ]
    },
    {
     "name": "stdout",
     "output_type": "stream",
     "text": [
      "Elaborating audio KAR_20210521_060007.wav...\n"
     ]
    },
    {
     "name": "stderr",
     "output_type": "stream",
     "text": [
      "Processing segments...: 100%|\u001b[31m██████████\u001b[0m| 39/39 [00:00<00:00, 5862.17it/s]\n",
      "Processing segments...:   0%|\u001b[31m          \u001b[0m| 0/39 [00:00<?, ?it/s]"
     ]
    },
    {
     "name": "stdout",
     "output_type": "stream",
     "text": [
      "Elaborating audio KAR_20210421_060002.wav...\n"
     ]
    },
    {
     "name": "stderr",
     "output_type": "stream",
     "text": [
      "Processing segments...: 100%|\u001b[31m██████████\u001b[0m| 39/39 [00:00<00:00, 2805.17it/s]\n",
      "Processing segments...:   0%|\u001b[31m          \u001b[0m| 0/39 [00:00<?, ?it/s]"
     ]
    },
    {
     "name": "stdout",
     "output_type": "stream",
     "text": [
      "Elaborating audio KAR_20210521_050007.wav...\n"
     ]
    },
    {
     "name": "stderr",
     "output_type": "stream",
     "text": [
      "Processing segments...: 100%|\u001b[31m██████████\u001b[0m| 39/39 [00:00<00:00, 2766.83it/s]\n",
      "Processing segments...:   0%|\u001b[31m          \u001b[0m| 0/39 [00:00<?, ?it/s]"
     ]
    },
    {
     "name": "stdout",
     "output_type": "stream",
     "text": [
      "Elaborating audio KAR_20210521_080001.wav...\n"
     ]
    },
    {
     "name": "stderr",
     "output_type": "stream",
     "text": [
      "Processing segments...: 100%|\u001b[31m██████████\u001b[0m| 39/39 [00:00<00:00, 3659.05it/s]\n",
      "Processing segments...:   0%|\u001b[31m          \u001b[0m| 0/39 [00:00<?, ?it/s]"
     ]
    },
    {
     "name": "stdout",
     "output_type": "stream",
     "text": [
      "Elaborating audio KAR_20210521_080005.wav...\n"
     ]
    },
    {
     "name": "stderr",
     "output_type": "stream",
     "text": [
      "Processing segments...: 100%|\u001b[31m██████████\u001b[0m| 39/39 [00:00<00:00, 7765.39it/s]\n",
      "Processing segments...:   0%|\u001b[31m          \u001b[0m| 0/39 [00:00<?, ?it/s]"
     ]
    },
    {
     "name": "stdout",
     "output_type": "stream",
     "text": [
      "Elaborating audio KAR_20210521_050006.wav...\n"
     ]
    },
    {
     "name": "stderr",
     "output_type": "stream",
     "text": [
      "Processing segments...: 100%|\u001b[31m██████████\u001b[0m| 39/39 [00:00<00:00, 2683.23it/s]\n",
      "Processing segments...:   0%|\u001b[31m          \u001b[0m| 0/39 [00:00<?, ?it/s]"
     ]
    },
    {
     "name": "stdout",
     "output_type": "stream",
     "text": [
      "Elaborating audio KAR_20210421_050002.wav...\n"
     ]
    },
    {
     "name": "stderr",
     "output_type": "stream",
     "text": [
      "Processing segments...: 100%|\u001b[31m██████████\u001b[0m| 39/39 [00:00<00:00, 4739.05it/s]\n",
      "Processing segments...: 100%|\u001b[31m██████████\u001b[0m| 39/39 [00:00<00:00, 9156.84it/s]\n"
     ]
    },
    {
     "name": "stdout",
     "output_type": "stream",
     "text": [
      "Elaborating audio KAR_20210426_090002.wav...\n"
     ]
    },
    {
     "name": "stderr",
     "output_type": "stream",
     "text": [
      "Processing segments...:   0%|\u001b[31m          \u001b[0m| 0/39 [00:00<?, ?it/s]"
     ]
    },
    {
     "name": "stdout",
     "output_type": "stream",
     "text": [
      "Elaborating audio KAR_20210426_060007.wav...\n"
     ]
    },
    {
     "name": "stderr",
     "output_type": "stream",
     "text": [
      "Processing segments...: 100%|\u001b[31m██████████\u001b[0m| 39/39 [00:00<00:00, 2861.45it/s]\n",
      "Processing segments...: 100%|\u001b[31m██████████\u001b[0m| 39/39 [00:00<00:00, 7173.52it/s]"
     ]
    },
    {
     "name": "stdout",
     "output_type": "stream",
     "text": [
      "Elaborating audio KAR_20210426_050010.wav...\n"
     ]
    },
    {
     "name": "stderr",
     "output_type": "stream",
     "text": [
      "\n",
      "Processing segments...:   0%|\u001b[31m          \u001b[0m| 0/39 [00:00<?, ?it/s]"
     ]
    },
    {
     "name": "stdout",
     "output_type": "stream",
     "text": [
      "Elaborating audio KAR_20210426_070012.wav...\n"
     ]
    },
    {
     "name": "stderr",
     "output_type": "stream",
     "text": [
      "Processing segments...: 100%|\u001b[31m██████████\u001b[0m| 39/39 [00:00<00:00, 5604.86it/s]\n",
      "Processing segments...:   0%|\u001b[31m          \u001b[0m| 0/39 [00:00<?, ?it/s]"
     ]
    },
    {
     "name": "stdout",
     "output_type": "stream",
     "text": [
      "Elaborating audio KAR_20210521_050002.wav...\n"
     ]
    },
    {
     "name": "stderr",
     "output_type": "stream",
     "text": [
      "Processing segments...: 100%|\u001b[31m██████████\u001b[0m| 39/39 [00:00<00:00, 2689.05it/s]\n",
      "Processing segments...: 100%|\u001b[31m██████████\u001b[0m| 39/39 [00:00<00:00, 10281.45it/s]\n"
     ]
    },
    {
     "name": "stdout",
     "output_type": "stream",
     "text": [
      "Elaborating audio KAR_20210521_060012.wav...\n"
     ]
    },
    {
     "name": "stderr",
     "output_type": "stream",
     "text": [
      "Processing segments...: 100%|\u001b[31m██████████\u001b[0m| 39/39 [00:00<00:00, 5992.08it/s]"
     ]
    },
    {
     "name": "stdout",
     "output_type": "stream",
     "text": [
      "Elaborating audio KAR_20210426_070000.wav...\n"
     ]
    },
    {
     "name": "stderr",
     "output_type": "stream",
     "text": [
      "\n",
      "Processing segments...:   0%|\u001b[31m          \u001b[0m| 0/39 [00:00<?, ?it/s]"
     ]
    },
    {
     "name": "stdout",
     "output_type": "stream",
     "text": [
      "Elaborating audio KAR_20210521_040009.wav...\n"
     ]
    },
    {
     "name": "stderr",
     "output_type": "stream",
     "text": [
      "Processing segments...: 100%|\u001b[31m██████████\u001b[0m| 39/39 [00:00<00:00, 5105.11it/s]\n",
      "Processing segments...:   0%|\u001b[31m          \u001b[0m| 0/39 [00:00<?, ?it/s]"
     ]
    },
    {
     "name": "stdout",
     "output_type": "stream",
     "text": [
      "Elaborating audio KAR_20210521_040000.wav...\n"
     ]
    },
    {
     "name": "stderr",
     "output_type": "stream",
     "text": [
      "Processing segments...: 100%|\u001b[31m██████████\u001b[0m| 39/39 [00:00<00:00, 2726.57it/s]\n",
      "Processing segments...:   0%|\u001b[31m          \u001b[0m| 0/39 [00:00<?, ?it/s]"
     ]
    },
    {
     "name": "stdout",
     "output_type": "stream",
     "text": [
      "Elaborating audio KAR_20210426_070010.wav...\n"
     ]
    },
    {
     "name": "stderr",
     "output_type": "stream",
     "text": [
      "Processing segments...: 100%|\u001b[31m██████████\u001b[0m| 39/39 [00:00<00:00, 3776.12it/s]\n",
      "Processing segments...:   0%|\u001b[31m          \u001b[0m| 0/39 [00:00<?, ?it/s]"
     ]
    },
    {
     "name": "stdout",
     "output_type": "stream",
     "text": [
      "Elaborating audio KAR_20210521_040007.wav...\n"
     ]
    },
    {
     "name": "stderr",
     "output_type": "stream",
     "text": [
      "Processing segments...: 100%|\u001b[31m██████████\u001b[0m| 39/39 [00:00<00:00, 7681.88it/s]\n",
      "Processing segments...:   0%|\u001b[31m          \u001b[0m| 0/39 [00:00<?, ?it/s]"
     ]
    },
    {
     "name": "stdout",
     "output_type": "stream",
     "text": [
      "Elaborating audio KAR_20210521_070005.wav...\n"
     ]
    },
    {
     "name": "stderr",
     "output_type": "stream",
     "text": [
      "Processing segments...: 100%|\u001b[31m██████████\u001b[0m| 39/39 [00:00<00:00, 6759.69it/s]\n",
      "Processing segments...: 100%|\u001b[31m██████████\u001b[0m| 39/39 [00:00<00:00, 5047.61it/s]\n"
     ]
    },
    {
     "name": "stdout",
     "output_type": "stream",
     "text": [
      "Elaborating audio KAR_20210521_040010.wav...\n"
     ]
    },
    {
     "name": "stderr",
     "output_type": "stream",
     "text": [
      "Processing segments...:   0%|\u001b[31m          \u001b[0m| 0/39 [00:00<?, ?it/s]"
     ]
    },
    {
     "name": "stdout",
     "output_type": "stream",
     "text": [
      "Elaborating audio KAR_20210521_080009.wav...\n"
     ]
    },
    {
     "name": "stderr",
     "output_type": "stream",
     "text": [
      "Processing segments...: 100%|\u001b[31m██████████\u001b[0m| 39/39 [00:00<00:00, 4190.33it/s]\n",
      "Processing segments...:   0%|\u001b[31m          \u001b[0m| 0/39 [00:00<?, ?it/s]"
     ]
    },
    {
     "name": "stdout",
     "output_type": "stream",
     "text": [
      "Elaborating audio KAR_20210426_090013.wav...\n"
     ]
    },
    {
     "name": "stderr",
     "output_type": "stream",
     "text": [
      "Processing segments...: 100%|\u001b[31m██████████\u001b[0m| 39/39 [00:00<00:00, 3688.84it/s]\n",
      "Processing segments...:   0%|\u001b[31m          \u001b[0m| 0/39 [00:00<?, ?it/s]"
     ]
    },
    {
     "name": "stdout",
     "output_type": "stream",
     "text": [
      "Elaborating audio KAR_20210426_060013.wav...\n"
     ]
    },
    {
     "name": "stderr",
     "output_type": "stream",
     "text": [
      "Processing segments...: 100%|\u001b[31m██████████\u001b[0m| 39/39 [00:00<00:00, 2951.18it/s]\n",
      "Processing segments...: 100%|\u001b[31m██████████\u001b[0m| 39/39 [00:00<00:00, 9181.00it/s]\n"
     ]
    },
    {
     "name": "stdout",
     "output_type": "stream",
     "text": [
      "Elaborating audio KAR_20210426_090001.wav...\n"
     ]
    },
    {
     "name": "stderr",
     "output_type": "stream",
     "text": [
      "Processing segments...: 100%|\u001b[31m██████████\u001b[0m| 39/39 [00:00<00:00, 6289.76it/s]\n"
     ]
    },
    {
     "name": "stdout",
     "output_type": "stream",
     "text": [
      "Elaborating audio KAR_20210521_050010.wav...\n"
     ]
    },
    {
     "name": "stderr",
     "output_type": "stream",
     "text": [
      "Processing segments...: 100%|\u001b[31m██████████\u001b[0m| 39/39 [00:00<00:00, 3895.73it/s]"
     ]
    },
    {
     "name": "stdout",
     "output_type": "stream",
     "text": [
      "Elaborating audio KAR_20210521_050005.wav...\n"
     ]
    },
    {
     "name": "stderr",
     "output_type": "stream",
     "text": [
      "\n",
      "Processing segments...:   0%|\u001b[31m          \u001b[0m| 0/39 [00:00<?, ?it/s]"
     ]
    },
    {
     "name": "stdout",
     "output_type": "stream",
     "text": [
      "Elaborating audio KAR_20210421_090002.wav...\n"
     ]
    },
    {
     "name": "stderr",
     "output_type": "stream",
     "text": [
      "Processing segments...: 100%|\u001b[31m██████████\u001b[0m| 39/39 [00:00<00:00, 6115.29it/s]\n",
      "Processing segments...: 100%|\u001b[31m██████████\u001b[0m| 39/39 [00:00<00:00, 4740.15it/s]\n"
     ]
    },
    {
     "name": "stdout",
     "output_type": "stream",
     "text": [
      "Elaborating audio KAR_20210521_080012.wav...\n"
     ]
    },
    {
     "name": "stderr",
     "output_type": "stream",
     "text": [
      "Processing segments...:   0%|\u001b[31m          \u001b[0m| 0/39 [00:00<?, ?it/s]"
     ]
    },
    {
     "name": "stdout",
     "output_type": "stream",
     "text": [
      "Elaborating audio KAR_20210521_060010.wav...\n"
     ]
    },
    {
     "name": "stderr",
     "output_type": "stream",
     "text": [
      "Processing segments...: 100%|\u001b[31m██████████\u001b[0m| 39/39 [00:00<00:00, 1878.80it/s]\n",
      "Processing segments...: 100%|\u001b[31m██████████\u001b[0m| 39/39 [00:00<00:00, 6352.29it/s]\n"
     ]
    },
    {
     "name": "stdout",
     "output_type": "stream",
     "text": [
      "Elaborating audio KAR_20210426_060012.wav...\n"
     ]
    },
    {
     "name": "stderr",
     "output_type": "stream",
     "text": [
      "Processing segments...:   0%|\u001b[31m          \u001b[0m| 0/39 [00:00<?, ?it/s]"
     ]
    },
    {
     "name": "stdout",
     "output_type": "stream",
     "text": [
      "Elaborating audio KAR_20210521_070010.wav...\n"
     ]
    },
    {
     "name": "stderr",
     "output_type": "stream",
     "text": [
      "Processing segments...: 100%|\u001b[31m██████████\u001b[0m| 39/39 [00:00<00:00, 4994.59it/s]\n",
      "Processing segments...:   0%|\u001b[31m          \u001b[0m| 0/39 [00:00<?, ?it/s]"
     ]
    },
    {
     "name": "stdout",
     "output_type": "stream",
     "text": [
      "Elaborating audio KAR_20210426_090007.wav...\n"
     ]
    },
    {
     "name": "stderr",
     "output_type": "stream",
     "text": [
      "Processing segments...: 100%|\u001b[31m██████████\u001b[0m| 39/39 [00:00<00:00, 2985.38it/s]\n",
      "Processing segments...:   0%|\u001b[31m          \u001b[0m| 0/39 [00:00<?, ?it/s]"
     ]
    },
    {
     "name": "stdout",
     "output_type": "stream",
     "text": [
      "Elaborating audio KAR_20210426_080000.wav...\n"
     ]
    },
    {
     "name": "stderr",
     "output_type": "stream",
     "text": [
      "Processing segments...: 100%|\u001b[31m██████████\u001b[0m| 39/39 [00:00<00:00, 8609.81it/s]\n",
      "Processing segments...: 100%|\u001b[31m██████████\u001b[0m| 39/39 [00:00<00:00, 3845.54it/s]\n"
     ]
    },
    {
     "name": "stdout",
     "output_type": "stream",
     "text": [
      "Elaborating audio KAR_20210521_080002.wav...\n"
     ]
    },
    {
     "name": "stderr",
     "output_type": "stream",
     "text": [
      "Processing segments...:   0%|\u001b[31m          \u001b[0m| 0/39 [00:00<?, ?it/s]"
     ]
    },
    {
     "name": "stdout",
     "output_type": "stream",
     "text": [
      "Elaborating audio KAR_20210521_070007.wav...\n"
     ]
    },
    {
     "name": "stderr",
     "output_type": "stream",
     "text": [
      "Processing segments...: 100%|\u001b[31m██████████\u001b[0m| 39/39 [00:00<00:00, 5323.93it/s]\n",
      "Processing segments...:   0%|\u001b[31m          \u001b[0m| 0/39 [00:00<?, ?it/s]"
     ]
    },
    {
     "name": "stdout",
     "output_type": "stream",
     "text": [
      "Elaborating audio KAR_20210426_070006.wav...\n"
     ]
    },
    {
     "name": "stderr",
     "output_type": "stream",
     "text": [
      "Processing segments...: 100%|\u001b[31m██████████\u001b[0m| 39/39 [00:00<00:00, 5423.67it/s]\n",
      "Processing segments...:   0%|\u001b[31m          \u001b[0m| 0/39 [00:00<?, ?it/s]"
     ]
    },
    {
     "name": "stdout",
     "output_type": "stream",
     "text": [
      "Elaborating audio KAR_20210421_080011.wav...\n"
     ]
    },
    {
     "name": "stderr",
     "output_type": "stream",
     "text": [
      "Processing segments...: 100%|\u001b[31m██████████\u001b[0m| 39/39 [00:00<00:00, 3255.86it/s]\n",
      "Processing segments...:   0%|\u001b[31m          \u001b[0m| 0/39 [00:00<?, ?it/s]"
     ]
    },
    {
     "name": "stdout",
     "output_type": "stream",
     "text": [
      "Elaborating audio KAR_20210521_080010.wav...\n"
     ]
    },
    {
     "name": "stderr",
     "output_type": "stream",
     "text": [
      "Processing segments...: 100%|\u001b[31m██████████\u001b[0m| 39/39 [00:00<00:00, 4461.42it/s]\n",
      "Processing segments...: 100%|\u001b[31m██████████\u001b[0m| 39/39 [00:00<00:00, 8566.53it/s]"
     ]
    },
    {
     "name": "stdout",
     "output_type": "stream",
     "text": [
      "Elaborating audio KAR_20210426_070007.wav...\n"
     ]
    },
    {
     "name": "stderr",
     "output_type": "stream",
     "text": [
      "\n",
      "Processing segments...: 100%|\u001b[31m██████████\u001b[0m| 39/39 [00:00<00:00, 10129.29it/s]\n"
     ]
    },
    {
     "name": "stdout",
     "output_type": "stream",
     "text": [
      "Elaborating audio KAR_20210521_070014.wav...\n"
     ]
    },
    {
     "name": "stderr",
     "output_type": "stream",
     "text": [
      "Processing segments...:   0%|\u001b[31m          \u001b[0m| 0/39 [00:00<?, ?it/s]"
     ]
    },
    {
     "name": "stdout",
     "output_type": "stream",
     "text": [
      "Elaborating audio KAR_20210521_040001.wav...\n"
     ]
    },
    {
     "name": "stderr",
     "output_type": "stream",
     "text": [
      "Processing segments...: 100%|\u001b[31m██████████\u001b[0m| 39/39 [00:00<00:00, 1649.75it/s]\n",
      "Processing segments...:   0%|\u001b[31m          \u001b[0m| 0/39 [00:00<?, ?it/s]"
     ]
    },
    {
     "name": "stdout",
     "output_type": "stream",
     "text": [
      "Elaborating audio KAR_20210426_080006.wav...\n"
     ]
    },
    {
     "name": "stderr",
     "output_type": "stream",
     "text": [
      "Processing segments...: 100%|\u001b[31m██████████\u001b[0m| 39/39 [00:00<00:00, 2356.28it/s]\n",
      "Processing segments...:   0%|\u001b[31m          \u001b[0m| 0/39 [00:00<?, ?it/s]"
     ]
    },
    {
     "name": "stdout",
     "output_type": "stream",
     "text": [
      "Elaborating audio KAR_20210426_060006.wav...\n"
     ]
    },
    {
     "name": "stderr",
     "output_type": "stream",
     "text": [
      "Processing segments...: 100%|\u001b[31m██████████\u001b[0m| 39/39 [00:00<00:00, 8911.90it/s]\n",
      "Processing segments...:   0%|\u001b[31m          \u001b[0m| 0/39 [00:00<?, ?it/s]"
     ]
    },
    {
     "name": "stdout",
     "output_type": "stream",
     "text": [
      "Elaborating audio KAR_20210521_050003.wav...\n"
     ]
    },
    {
     "name": "stderr",
     "output_type": "stream",
     "text": [
      "Processing segments...: 100%|\u001b[31m██████████\u001b[0m| 39/39 [00:00<00:00, 4819.19it/s]\n",
      "Processing segments...:   0%|\u001b[31m          \u001b[0m| 0/39 [00:00<?, ?it/s]"
     ]
    },
    {
     "name": "stdout",
     "output_type": "stream",
     "text": [
      "Elaborating audio KAR_20210421_050011.wav...\n"
     ]
    },
    {
     "name": "stderr",
     "output_type": "stream",
     "text": [
      "Processing segments...: 100%|\u001b[31m██████████\u001b[0m| 39/39 [00:00<00:00, 2186.37it/s]\n",
      "Processing segments...: 100%|\u001b[31m██████████\u001b[0m| 39/39 [00:00<00:00, 8531.23it/s]\n"
     ]
    },
    {
     "name": "stdout",
     "output_type": "stream",
     "text": [
      "Elaborating audio KAR_20210426_050006.wav...\n"
     ]
    },
    {
     "name": "stderr",
     "output_type": "stream",
     "text": [
      "Processing segments...:   0%|\u001b[31m          \u001b[0m| 0/39 [00:00<?, ?it/s]"
     ]
    },
    {
     "name": "stdout",
     "output_type": "stream",
     "text": [
      "Elaborating audio KAR_20210426_080002.wav...\n"
     ]
    },
    {
     "name": "stderr",
     "output_type": "stream",
     "text": [
      "Processing segments...: 100%|\u001b[31m██████████\u001b[0m| 39/39 [00:00<00:00, 3915.88it/s]\n",
      "Processing segments...:   0%|\u001b[31m          \u001b[0m| 0/39 [00:00<?, ?it/s]"
     ]
    },
    {
     "name": "stdout",
     "output_type": "stream",
     "text": [
      "Elaborating audio KAR_20210521_060005.wav...\n"
     ]
    },
    {
     "name": "stderr",
     "output_type": "stream",
     "text": [
      "Processing segments...: 100%|\u001b[31m██████████\u001b[0m| 39/39 [00:00<00:00, 2812.98it/s]\n",
      "Processing segments...:   0%|\u001b[31m          \u001b[0m| 0/39 [00:00<?, ?it/s]"
     ]
    },
    {
     "name": "stdout",
     "output_type": "stream",
     "text": [
      "Elaborating audio KAR_20210521_040006.wav...\n"
     ]
    },
    {
     "name": "stderr",
     "output_type": "stream",
     "text": [
      "Processing segments...: 100%|\u001b[31m██████████\u001b[0m| 39/39 [00:00<00:00, 1711.37it/s]\n",
      "Processing segments...:   0%|\u001b[31m          \u001b[0m| 0/39 [00:00<?, ?it/s]"
     ]
    },
    {
     "name": "stdout",
     "output_type": "stream",
     "text": [
      "Elaborating audio KAR_20210521_040002.wav...\n"
     ]
    },
    {
     "name": "stderr",
     "output_type": "stream",
     "text": [
      "Processing segments...: 100%|\u001b[31m██████████\u001b[0m| 39/39 [00:00<00:00, 4615.11it/s]\n",
      "Processing segments...: 100%|\u001b[31m██████████\u001b[0m| 39/39 [00:00<00:00, 5120.13it/s]\n"
     ]
    },
    {
     "name": "stdout",
     "output_type": "stream",
     "text": [
      "Elaborating audio KAR_20210521_060002.wav...\n"
     ]
    },
    {
     "name": "stderr",
     "output_type": "stream",
     "text": [
      "Processing segments...: 100%|\u001b[31m██████████\u001b[0m| 39/39 [00:00<00:00, 4112.99it/s]\n"
     ]
    },
    {
     "name": "stdout",
     "output_type": "stream",
     "text": [
      "Elaborating audio KAR_20210521_080007.wav...\n"
     ]
    },
    {
     "name": "stderr",
     "output_type": "stream",
     "text": [
      "Processing segments...:   0%|\u001b[31m          \u001b[0m| 0/39 [00:00<?, ?it/s]"
     ]
    },
    {
     "name": "stdout",
     "output_type": "stream",
     "text": [
      "Elaborating audio KAR_20210426_050001.wav...\n"
     ]
    },
    {
     "name": "stderr",
     "output_type": "stream",
     "text": [
      "Processing segments...: 100%|\u001b[31m██████████\u001b[0m| 39/39 [00:00<00:00, 2345.00it/s]\n",
      "Processing segments...:   0%|\u001b[31m          \u001b[0m| 0/39 [00:00<?, ?it/s]"
     ]
    },
    {
     "name": "stdout",
     "output_type": "stream",
     "text": [
      "Elaborating audio KAR_20210521_060000.wav...\n"
     ]
    },
    {
     "name": "stderr",
     "output_type": "stream",
     "text": [
      "Processing segments...: 100%|\u001b[31m██████████\u001b[0m| 39/39 [00:00<00:00, 4250.10it/s]\n",
      "Processing segments...: 100%|\u001b[31m██████████\u001b[0m| 39/39 [00:00<00:00, 3904.38it/s]\n"
     ]
    },
    {
     "name": "stdout",
     "output_type": "stream",
     "text": [
      "Elaborating audio KAR_20210426_050013.wav...\n"
     ]
    },
    {
     "name": "stderr",
     "output_type": "stream",
     "text": [
      "Processing segments...: 100%|\u001b[31m██████████\u001b[0m| 39/39 [00:00<00:00, 5044.03it/s]\n"
     ]
    },
    {
     "name": "stdout",
     "output_type": "stream",
     "text": [
      "Elaborating audio KAR_20210426_080001.wav...\n"
     ]
    },
    {
     "name": "stderr",
     "output_type": "stream",
     "text": [
      "Processing segments...: 100%|\u001b[31m██████████\u001b[0m| 39/39 [00:00<00:00, 6826.55it/s]\n"
     ]
    },
    {
     "name": "stdout",
     "output_type": "stream",
     "text": [
      "Elaborating audio KAR_20210426_050005.wav...\n"
     ]
    },
    {
     "name": "stderr",
     "output_type": "stream",
     "text": [
      "Processing segments...: 100%|\u001b[31m██████████\u001b[0m| 39/39 [00:00<00:00, 5278.07it/s]\n"
     ]
    },
    {
     "name": "stdout",
     "output_type": "stream",
     "text": [
      "Elaborating audio KAR_20210521_050009.wav...\n"
     ]
    },
    {
     "name": "stderr",
     "output_type": "stream",
     "text": [
      "Processing segments...:   0%|\u001b[31m          \u001b[0m| 0/39 [00:00<?, ?it/s]"
     ]
    },
    {
     "name": "stdout",
     "output_type": "stream",
     "text": [
      "Elaborating audio KAR_20210421_070011.wav...\n"
     ]
    },
    {
     "name": "stderr",
     "output_type": "stream",
     "text": [
      "Processing segments...: 100%|\u001b[31m██████████\u001b[0m| 39/39 [00:00<00:00, 2748.51it/s]\n",
      "Processing segments...:   0%|\u001b[31m          \u001b[0m| 0/39 [00:00<?, ?it/s]"
     ]
    },
    {
     "name": "stdout",
     "output_type": "stream",
     "text": [
      "Elaborating audio KAR_20210521_060001.wav...\n"
     ]
    },
    {
     "name": "stderr",
     "output_type": "stream",
     "text": [
      "Processing segments...: 100%|\u001b[31m██████████\u001b[0m| 39/39 [00:00<00:00, 1880.53it/s]\n",
      "Processing segments...:   0%|\u001b[31m          \u001b[0m| 0/39 [00:00<?, ?it/s]"
     ]
    },
    {
     "name": "stdout",
     "output_type": "stream",
     "text": [
      "Elaborating audio KAR_20210421_090011.wav...\n"
     ]
    },
    {
     "name": "stderr",
     "output_type": "stream",
     "text": [
      "Processing segments...: 100%|\u001b[31m██████████\u001b[0m| 39/39 [00:00<00:00, 5622.20it/s]\n",
      "Processing segments...: 100%|\u001b[31m██████████\u001b[0m| 39/39 [00:00<00:00, 7356.11it/s]\n"
     ]
    },
    {
     "name": "stdout",
     "output_type": "stream",
     "text": [
      "Elaborating audio KAR_20210521_050001.wav...\n"
     ]
    },
    {
     "name": "stderr",
     "output_type": "stream",
     "text": [
      "Processing segments...:   0%|\u001b[31m          \u001b[0m| 0/39 [00:00<?, ?it/s]"
     ]
    },
    {
     "name": "stdout",
     "output_type": "stream",
     "text": [
      "Elaborating audio KAR_20210521_080006.wav...\n"
     ]
    },
    {
     "name": "stderr",
     "output_type": "stream",
     "text": [
      "Processing segments...: 100%|\u001b[31m██████████\u001b[0m| 39/39 [00:00<00:00, 2108.45it/s]\n",
      "Processing segments...: 100%|\u001b[31m██████████\u001b[0m| 39/39 [00:00<00:00, 5587.82it/s]\n"
     ]
    },
    {
     "name": "stdout",
     "output_type": "stream",
     "text": [
      "Elaborating audio KAR_20210426_060010.wav...\n"
     ]
    },
    {
     "name": "stderr",
     "output_type": "stream",
     "text": [
      "Processing segments...:   0%|\u001b[31m          \u001b[0m| 0/39 [00:00<?, ?it/s]"
     ]
    },
    {
     "name": "stdout",
     "output_type": "stream",
     "text": [
      "Elaborating audio HAG_20220603_070000.wav...\n"
     ]
    },
    {
     "name": "stderr",
     "output_type": "stream",
     "text": [
      "Processing segments...: 100%|\u001b[31m██████████\u001b[0m| 39/39 [00:00<00:00, 3245.53it/s]\n",
      "Processing segments...: 100%|\u001b[31m██████████\u001b[0m| 39/39 [00:00<00:00, 5860.90it/s]\n"
     ]
    },
    {
     "name": "stdout",
     "output_type": "stream",
     "text": [
      "Elaborating audio HAG_20190620_130001.wav...\n"
     ]
    },
    {
     "name": "stderr",
     "output_type": "stream",
     "text": [
      "Processing segments...: 100%|\u001b[31m██████████\u001b[0m| 39/39 [00:00<00:00, 5239.69it/s]"
     ]
    },
    {
     "name": "stdout",
     "output_type": "stream",
     "text": [
      "Elaborating audio HAG_20190618_130000.wav...\n"
     ]
    },
    {
     "name": "stderr",
     "output_type": "stream",
     "text": [
      "\n",
      "Processing segments...:   0%|\u001b[31m          \u001b[0m| 0/39 [00:00<?, ?it/s]"
     ]
    },
    {
     "name": "stdout",
     "output_type": "stream",
     "text": [
      "Elaborating audio HAG_20200528_070016.wav...\n"
     ]
    },
    {
     "name": "stderr",
     "output_type": "stream",
     "text": [
      "Processing segments...: 100%|\u001b[31m██████████\u001b[0m| 39/39 [00:00<00:00, 3536.97it/s]\n",
      "Processing segments...: 100%|\u001b[31m██████████\u001b[0m| 39/39 [00:00<00:00, 4167.06it/s]\n"
     ]
    },
    {
     "name": "stdout",
     "output_type": "stream",
     "text": [
      "Elaborating audio HAG_20190422_130000.wav...\n"
     ]
    },
    {
     "name": "stderr",
     "output_type": "stream",
     "text": [
      "Processing segments...:   0%|\u001b[31m          \u001b[0m| 0/39 [00:00<?, ?it/s]"
     ]
    },
    {
     "name": "stdout",
     "output_type": "stream",
     "text": [
      "Elaborating audio HAG_20210518_130100.wav...\n"
     ]
    },
    {
     "name": "stderr",
     "output_type": "stream",
     "text": [
      "Processing segments...: 100%|\u001b[31m██████████\u001b[0m| 39/39 [00:00<00:00, 6000.21it/s]\n",
      "Processing segments...: 100%|\u001b[31m██████████\u001b[0m| 39/39 [00:00<00:00, 6949.23it/s]\n"
     ]
    },
    {
     "name": "stdout",
     "output_type": "stream",
     "text": [
      "Elaborating audio HAG_20210609_130004.wav...\n"
     ]
    },
    {
     "name": "stderr",
     "output_type": "stream",
     "text": [
      "Processing segments...: 100%|\u001b[31m██████████\u001b[0m| 39/39 [00:00<00:00, 3639.03it/s]"
     ]
    },
    {
     "name": "stdout",
     "output_type": "stream",
     "text": [
      "Elaborating audio HAG_20200529_070011.wav...\n"
     ]
    },
    {
     "name": "stderr",
     "output_type": "stream",
     "text": [
      "\n",
      "Processing segments...: 100%|\u001b[31m██████████\u001b[0m| 39/39 [00:00<00:00, 7402.05it/s]\n"
     ]
    },
    {
     "name": "stdout",
     "output_type": "stream",
     "text": [
      "Elaborating audio HAG_20190425_070007.wav...\n"
     ]
    },
    {
     "name": "stderr",
     "output_type": "stream",
     "text": [
      "Processing segments...:   0%|\u001b[31m          \u001b[0m| 0/39 [00:00<?, ?it/s]"
     ]
    },
    {
     "name": "stdout",
     "output_type": "stream",
     "text": [
      "Elaborating audio HAG_20190618_130040.wav...\n"
     ]
    },
    {
     "name": "stderr",
     "output_type": "stream",
     "text": [
      "Processing segments...: 100%|\u001b[31m██████████\u001b[0m| 39/39 [00:00<00:00, 6546.26it/s]\n",
      "Processing segments...:   0%|\u001b[31m          \u001b[0m| 0/39 [00:00<?, ?it/s]"
     ]
    },
    {
     "name": "stdout",
     "output_type": "stream",
     "text": [
      "Elaborating audio HAG_20200528_130016.wav...\n"
     ]
    },
    {
     "name": "stderr",
     "output_type": "stream",
     "text": [
      "Processing segments...: 100%|\u001b[31m██████████\u001b[0m| 39/39 [00:00<00:00, 3680.62it/s]\n",
      "Processing segments...: 100%|\u001b[31m██████████\u001b[0m| 39/39 [00:00<00:00, 5808.67it/s]\n"
     ]
    },
    {
     "name": "stdout",
     "output_type": "stream",
     "text": [
      "Elaborating audio HAG_20200528_130015.wav...\n"
     ]
    },
    {
     "name": "stderr",
     "output_type": "stream",
     "text": [
      "Processing segments...:   0%|\u001b[31m          \u001b[0m| 0/39 [00:00<?, ?it/s]"
     ]
    },
    {
     "name": "stdout",
     "output_type": "stream",
     "text": [
      "Elaborating audio HAG_20200528_130005.wav...\n"
     ]
    },
    {
     "name": "stderr",
     "output_type": "stream",
     "text": [
      "Processing segments...: 100%|\u001b[31m██████████\u001b[0m| 39/39 [00:00<00:00, 3285.09it/s]\n",
      "Processing segments...: 100%|\u001b[31m██████████\u001b[0m| 39/39 [00:00<00:00, 9410.22it/s]\n"
     ]
    },
    {
     "name": "stdout",
     "output_type": "stream",
     "text": [
      "Elaborating audio HAG_20200528_070060.wav...\n"
     ]
    },
    {
     "name": "stderr",
     "output_type": "stream",
     "text": [
      "Processing segments...:   0%|\u001b[31m          \u001b[0m| 0/39 [00:00<?, ?it/s]"
     ]
    },
    {
     "name": "stdout",
     "output_type": "stream",
     "text": [
      "Elaborating audio HAG_20210505_130000.wav...\n"
     ]
    },
    {
     "name": "stderr",
     "output_type": "stream",
     "text": [
      "Processing segments...: 100%|\u001b[31m██████████\u001b[0m| 39/39 [00:00<00:00, 2721.58it/s]\n",
      "Processing segments...:   0%|\u001b[31m          \u001b[0m| 0/39 [00:00<?, ?it/s]"
     ]
    },
    {
     "name": "stdout",
     "output_type": "stream",
     "text": [
      "Elaborating audio HAG_20190619_130012.wav...\n"
     ]
    },
    {
     "name": "stderr",
     "output_type": "stream",
     "text": [
      "Processing segments...: 100%|\u001b[31m██████████\u001b[0m| 39/39 [00:00<00:00, 8519.68it/s]\n",
      "Processing segments...:   0%|\u001b[31m          \u001b[0m| 0/39 [00:00<?, ?it/s]"
     ]
    },
    {
     "name": "stdout",
     "output_type": "stream",
     "text": [
      "Elaborating audio HAG_20200529_071100.wav...\n"
     ]
    },
    {
     "name": "stderr",
     "output_type": "stream",
     "text": [
      "Processing segments...: 100%|\u001b[31m██████████\u001b[0m| 39/39 [00:00<00:00, 8052.07it/s]\n",
      "Processing segments...: 100%|\u001b[31m██████████\u001b[0m| 39/39 [00:00<00:00, 9460.84it/s]\n"
     ]
    },
    {
     "name": "stdout",
     "output_type": "stream",
     "text": [
      "Elaborating audio HAG_20200529_070010.wav...\n"
     ]
    },
    {
     "name": "stderr",
     "output_type": "stream",
     "text": [
      "Processing segments...:   0%|\u001b[31m          \u001b[0m| 0/39 [00:00<?, ?it/s]"
     ]
    },
    {
     "name": "stdout",
     "output_type": "stream",
     "text": [
      "Elaborating audio HAG_20210518_070100.wav...\n"
     ]
    },
    {
     "name": "stderr",
     "output_type": "stream",
     "text": [
      "Processing segments...: 100%|\u001b[31m██████████\u001b[0m| 39/39 [00:00<00:00, 3403.90it/s]\n",
      "Processing segments...:   0%|\u001b[31m          \u001b[0m| 0/39 [00:00<?, ?it/s]"
     ]
    },
    {
     "name": "stdout",
     "output_type": "stream",
     "text": [
      "Elaborating audio HAG_20200529_131500.wav...\n"
     ]
    },
    {
     "name": "stderr",
     "output_type": "stream",
     "text": [
      "Processing segments...: 100%|\u001b[31m██████████\u001b[0m| 39/39 [00:00<00:00, 2360.81it/s]\n",
      "Processing segments...: 100%|\u001b[31m██████████\u001b[0m| 39/39 [00:00<00:00, 5938.35it/s]\n"
     ]
    },
    {
     "name": "stdout",
     "output_type": "stream",
     "text": [
      "Elaborating audio HAG_20190617_070011.wav...\n"
     ]
    },
    {
     "name": "stderr",
     "output_type": "stream",
     "text": [
      "Processing segments...: 100%|\u001b[31m██████████\u001b[0m| 39/39 [00:00<00:00, 8649.88it/s]\n"
     ]
    },
    {
     "name": "stdout",
     "output_type": "stream",
     "text": [
      "Elaborating audio HAG_20200528_131100.wav...\n"
     ]
    },
    {
     "name": "stderr",
     "output_type": "stream",
     "text": [
      "Processing segments...:   0%|\u001b[31m          \u001b[0m| 0/39 [00:00<?, ?it/s]"
     ]
    },
    {
     "name": "stdout",
     "output_type": "stream",
     "text": [
      "Elaborating audio HAG_20190617_070008.wav...\n"
     ]
    },
    {
     "name": "stderr",
     "output_type": "stream",
     "text": [
      "Processing segments...: 100%|\u001b[31m██████████\u001b[0m| 39/39 [00:00<00:00, 7503.92it/s]\n",
      "Processing segments...: 100%|\u001b[31m██████████\u001b[0m| 39/39 [00:00<00:00, 7490.86it/s]\n"
     ]
    },
    {
     "name": "stdout",
     "output_type": "stream",
     "text": [
      "Elaborating audio HAG_20190423_070000.wav...\n"
     ]
    },
    {
     "name": "stderr",
     "output_type": "stream",
     "text": [
      "Processing segments...:   0%|\u001b[31m          \u001b[0m| 0/39 [00:00<?, ?it/s]"
     ]
    },
    {
     "name": "stdout",
     "output_type": "stream",
     "text": [
      "Elaborating audio HAG_20190522_130070.wav...\n"
     ]
    },
    {
     "name": "stderr",
     "output_type": "stream",
     "text": [
      "Processing segments...: 100%|\u001b[31m██████████\u001b[0m| 39/39 [00:00<00:00, 3528.58it/s]\n",
      "Processing segments...: 100%|\u001b[31m██████████\u001b[0m| 39/39 [00:00<00:00, 7202.58it/s]\n"
     ]
    },
    {
     "name": "stdout",
     "output_type": "stream",
     "text": [
      "Elaborating audio HAG_20200528_130003.wav...\n"
     ]
    },
    {
     "name": "stderr",
     "output_type": "stream",
     "text": [
      "Processing segments...:   0%|\u001b[31m          \u001b[0m| 0/39 [00:00<?, ?it/s]"
     ]
    },
    {
     "name": "stdout",
     "output_type": "stream",
     "text": [
      "Elaborating audio HAG_20200527_130000.wav...\n"
     ]
    },
    {
     "name": "stderr",
     "output_type": "stream",
     "text": [
      "Processing segments...: 100%|\u001b[31m██████████\u001b[0m| 39/39 [00:00<00:00, 3173.68it/s]\n",
      "Processing segments...:   0%|\u001b[31m          \u001b[0m| 0/39 [00:00<?, ?it/s]"
     ]
    },
    {
     "name": "stdout",
     "output_type": "stream",
     "text": [
      "Elaborating audio HAG_20190619_130005.wav...\n"
     ]
    },
    {
     "name": "stderr",
     "output_type": "stream",
     "text": [
      "Processing segments...: 100%|\u001b[31m██████████\u001b[0m| 39/39 [00:00<00:00, 4919.63it/s]\n",
      "Processing segments...: 100%|\u001b[31m██████████\u001b[0m| 39/39 [00:00<00:00, 8469.39it/s]"
     ]
    },
    {
     "name": "stdout",
     "output_type": "stream",
     "text": [
      "Elaborating audio HAG_20190619_070000.wav...\n"
     ]
    },
    {
     "name": "stderr",
     "output_type": "stream",
     "text": [
      "\n",
      "Processing segments...:   0%|\u001b[31m          \u001b[0m| 0/39 [00:00<?, ?it/s]"
     ]
    },
    {
     "name": "stdout",
     "output_type": "stream",
     "text": [
      "Elaborating audio HAG_20200528_070017.wav...\n"
     ]
    },
    {
     "name": "stderr",
     "output_type": "stream",
     "text": [
      "Processing segments...: 100%|\u001b[31m██████████\u001b[0m| 39/39 [00:00<00:00, 3888.79it/s]\n",
      "Processing segments...:   0%|\u001b[31m          \u001b[0m| 0/39 [00:00<?, ?it/s]"
     ]
    },
    {
     "name": "stdout",
     "output_type": "stream",
     "text": [
      "Elaborating audio HAG_20190618_070000.wav...\n"
     ]
    },
    {
     "name": "stderr",
     "output_type": "stream",
     "text": [
      "Processing segments...: 100%|\u001b[31m██████████\u001b[0m| 39/39 [00:00<00:00, 4681.28it/s]\n",
      "Processing segments...:   0%|\u001b[31m          \u001b[0m| 0/39 [00:00<?, ?it/s]"
     ]
    },
    {
     "name": "stdout",
     "output_type": "stream",
     "text": [
      "Elaborating audio HAG_20190423_070002.wav...\n"
     ]
    },
    {
     "name": "stderr",
     "output_type": "stream",
     "text": [
      "Processing segments...: 100%|\u001b[31m██████████\u001b[0m| 39/39 [00:00<00:00, 2664.22it/s]\n",
      "Processing segments...:   0%|\u001b[31m          \u001b[0m| 0/39 [00:00<?, ?it/s]"
     ]
    },
    {
     "name": "stdout",
     "output_type": "stream",
     "text": [
      "Elaborating audio HAG_20200528_130060.wav...\n"
     ]
    },
    {
     "name": "stderr",
     "output_type": "stream",
     "text": [
      "Processing segments...: 100%|\u001b[31m██████████\u001b[0m| 39/39 [00:00<00:00, 5651.92it/s]\n",
      "Processing segments...: 100%|\u001b[31m██████████\u001b[0m| 39/39 [00:00<00:00, 8016.95it/s]\n"
     ]
    },
    {
     "name": "stdout",
     "output_type": "stream",
     "text": [
      "Elaborating audio HAG_20210609_070004.wav...\n"
     ]
    },
    {
     "name": "stderr",
     "output_type": "stream",
     "text": [
      "Processing segments...: 100%|\u001b[31m██████████\u001b[0m| 39/39 [00:00<00:00, 5444.43it/s]\n"
     ]
    },
    {
     "name": "stdout",
     "output_type": "stream",
     "text": [
      "Elaborating audio HAG_20190620_130000.wav...\n"
     ]
    },
    {
     "name": "stderr",
     "output_type": "stream",
     "text": [
      "Processing segments...: 100%|\u001b[31m██████████\u001b[0m| 39/39 [00:00<00:00, 9342.50it/s]\n"
     ]
    },
    {
     "name": "stdout",
     "output_type": "stream",
     "text": [
      "Elaborating audio HAG_20210518_070000.wav...\n"
     ]
    },
    {
     "name": "stderr",
     "output_type": "stream",
     "text": [
      "Processing segments...:   0%|\u001b[31m          \u001b[0m| 0/39 [00:00<?, ?it/s]"
     ]
    },
    {
     "name": "stdout",
     "output_type": "stream",
     "text": [
      "Elaborating audio HAG_20200528_071000.wav...\n"
     ]
    },
    {
     "name": "stderr",
     "output_type": "stream",
     "text": [
      "Processing segments...: 100%|\u001b[31m██████████\u001b[0m| 39/39 [00:00<00:00, 5040.76it/s]\n",
      "Processing segments...:   0%|\u001b[31m          \u001b[0m| 0/39 [00:00<?, ?it/s]"
     ]
    },
    {
     "name": "stdout",
     "output_type": "stream",
     "text": [
      "Elaborating audio HAG_20190424_130000.wav...\n"
     ]
    },
    {
     "name": "stderr",
     "output_type": "stream",
     "text": [
      "Processing segments...: 100%|\u001b[31m██████████\u001b[0m| 39/39 [00:00<00:00, 5128.48it/s]\n",
      "Processing segments...:   0%|\u001b[31m          \u001b[0m| 0/39 [00:00<?, ?it/s]"
     ]
    },
    {
     "name": "stdout",
     "output_type": "stream",
     "text": [
      "Elaborating audio HAG_20220615_130000.wav...\n"
     ]
    },
    {
     "name": "stderr",
     "output_type": "stream",
     "text": [
      "Processing segments...: 100%|\u001b[31m██████████\u001b[0m| 39/39 [00:00<00:00, 4160.17it/s]\n",
      "Processing segments...: 100%|\u001b[31m██████████\u001b[0m| 39/39 [00:00<00:00, 3007.55it/s]"
     ]
    },
    {
     "name": "stdout",
     "output_type": "stream",
     "text": [
      "Elaborating audio HAG_20210609_130000.wav...\n"
     ]
    },
    {
     "name": "stderr",
     "output_type": "stream",
     "text": [
      "\n",
      "Processing segments...:   0%|\u001b[31m          \u001b[0m| 0/39 [00:00<?, ?it/s]"
     ]
    },
    {
     "name": "stdout",
     "output_type": "stream",
     "text": [
      "Elaborating audio HAG_20190617_070000.wav...\n"
     ]
    },
    {
     "name": "stderr",
     "output_type": "stream",
     "text": [
      "Processing segments...: 100%|\u001b[31m██████████\u001b[0m| 39/39 [00:00<00:00, 2917.70it/s]\n",
      "Processing segments...: 100%|\u001b[31m██████████\u001b[0m| 39/39 [00:00<00:00, 8977.93it/s]\n"
     ]
    },
    {
     "name": "stdout",
     "output_type": "stream",
     "text": [
      "Elaborating audio HAG_20200528_130007.wav...\n"
     ]
    },
    {
     "name": "stderr",
     "output_type": "stream",
     "text": [
      "Processing segments...:   0%|\u001b[31m          \u001b[0m| 0/39 [00:00<?, ?it/s]"
     ]
    },
    {
     "name": "stdout",
     "output_type": "stream",
     "text": [
      "Elaborating audio HAG_20200528_070100.wav...\n"
     ]
    },
    {
     "name": "stderr",
     "output_type": "stream",
     "text": [
      "Processing segments...: 100%|\u001b[31m██████████\u001b[0m| 39/39 [00:00<00:00, 3031.02it/s]\n",
      "Processing segments...:   0%|\u001b[31m          \u001b[0m| 0/39 [00:00<?, ?it/s]"
     ]
    },
    {
     "name": "stdout",
     "output_type": "stream",
     "text": [
      "Elaborating audio HAG_20200529_070001.wav...\n"
     ]
    },
    {
     "name": "stderr",
     "output_type": "stream",
     "text": [
      "Processing segments...: 100%|\u001b[31m██████████\u001b[0m| 39/39 [00:00<00:00, 3433.55it/s]\n",
      "Processing segments...: 100%|\u001b[31m██████████\u001b[0m| 39/39 [00:00<00:00, 3702.70it/s]\n"
     ]
    },
    {
     "name": "stdout",
     "output_type": "stream",
     "text": [
      "Elaborating audio HAG_20200529_070018.wav...\n"
     ]
    },
    {
     "name": "stderr",
     "output_type": "stream",
     "text": [
      "Processing segments...:   0%|\u001b[31m          \u001b[0m| 0/39 [00:00<?, ?it/s]"
     ]
    },
    {
     "name": "stdout",
     "output_type": "stream",
     "text": [
      "Elaborating audio HAG_20200528_070009.wav...\n"
     ]
    },
    {
     "name": "stderr",
     "output_type": "stream",
     "text": [
      "Processing segments...: 100%|\u001b[31m██████████\u001b[0m| 39/39 [00:00<00:00, 2850.28it/s]\n",
      "Processing segments...:   0%|\u001b[31m          \u001b[0m| 0/39 [00:00<?, ?it/s]"
     ]
    },
    {
     "name": "stdout",
     "output_type": "stream",
     "text": [
      "Elaborating audio HAG_20200528_130006.wav...\n"
     ]
    },
    {
     "name": "stderr",
     "output_type": "stream",
     "text": [
      "Processing segments...: 100%|\u001b[31m██████████\u001b[0m| 39/39 [00:00<00:00, 6748.82it/s]\n",
      "Processing segments...:   0%|\u001b[31m          \u001b[0m| 0/39 [00:00<?, ?it/s]"
     ]
    },
    {
     "name": "stdout",
     "output_type": "stream",
     "text": [
      "Elaborating audio HAG_20200529_070008.wav...\n"
     ]
    },
    {
     "name": "stderr",
     "output_type": "stream",
     "text": [
      "Processing segments...: 100%|\u001b[31m██████████\u001b[0m| 39/39 [00:00<00:00, 3977.19it/s]\n",
      "Processing segments...:   0%|\u001b[31m          \u001b[0m| 0/39 [00:00<?, ?it/s]"
     ]
    },
    {
     "name": "stdout",
     "output_type": "stream",
     "text": [
      "Elaborating audio HAG_20210504_070000.wav...\n"
     ]
    },
    {
     "name": "stderr",
     "output_type": "stream",
     "text": [
      "Processing segments...: 100%|\u001b[31m██████████\u001b[0m| 39/39 [00:00<00:00, 3706.47it/s]\n",
      "Processing segments...:   0%|\u001b[31m          \u001b[0m| 0/39 [00:00<?, ?it/s]"
     ]
    },
    {
     "name": "stdout",
     "output_type": "stream",
     "text": [
      "Elaborating audio HAG_20190514_070000.wav...\n"
     ]
    },
    {
     "name": "stderr",
     "output_type": "stream",
     "text": [
      "Processing segments...: 100%|\u001b[31m██████████\u001b[0m| 39/39 [00:00<00:00, 2125.24it/s]\n",
      "Processing segments...:   0%|\u001b[31m          \u001b[0m| 0/39 [00:00<?, ?it/s]"
     ]
    },
    {
     "name": "stdout",
     "output_type": "stream",
     "text": [
      "Elaborating audio HAG_20190513_130000.wav...\n"
     ]
    },
    {
     "name": "stderr",
     "output_type": "stream",
     "text": [
      "Processing segments...: 100%|\u001b[31m██████████\u001b[0m| 39/39 [00:00<00:00, 7354.46it/s]\n",
      "Processing segments...:   0%|\u001b[31m          \u001b[0m| 0/39 [00:00<?, ?it/s]"
     ]
    },
    {
     "name": "stdout",
     "output_type": "stream",
     "text": [
      "Elaborating audio HAG_20200529_130000.wav...\n"
     ]
    },
    {
     "name": "stderr",
     "output_type": "stream",
     "text": [
      "Processing segments...: 100%|\u001b[31m██████████\u001b[0m| 39/39 [00:00<00:00, 3225.88it/s]\n",
      "Processing segments...:   0%|\u001b[31m          \u001b[0m| 0/39 [00:00<?, ?it/s]"
     ]
    },
    {
     "name": "stdout",
     "output_type": "stream",
     "text": [
      "Elaborating audio HAG_20200529_130040.wav...\n"
     ]
    },
    {
     "name": "stderr",
     "output_type": "stream",
     "text": [
      "Processing segments...: 100%|\u001b[31m██████████\u001b[0m| 39/39 [00:00<00:00, 4088.73it/s]\n",
      "Processing segments...:   0%|\u001b[31m          \u001b[0m| 0/39 [00:00<?, ?it/s]"
     ]
    },
    {
     "name": "stdout",
     "output_type": "stream",
     "text": [
      "Elaborating audio HAG_20210609_070000.wav...\n"
     ]
    },
    {
     "name": "stderr",
     "output_type": "stream",
     "text": [
      "Processing segments...: 100%|\u001b[31m██████████\u001b[0m| 39/39 [00:00<00:00, 3562.86it/s]\n",
      "Processing segments...: 100%|\u001b[31m██████████\u001b[0m| 39/39 [00:00<00:00, 8975.47it/s]\n"
     ]
    },
    {
     "name": "stdout",
     "output_type": "stream",
     "text": [
      "Elaborating audio HAG_20200529_130011.wav...\n"
     ]
    },
    {
     "name": "stderr",
     "output_type": "stream",
     "text": [
      "Processing segments...:   0%|\u001b[31m          \u001b[0m| 0/39 [00:00<?, ?it/s]"
     ]
    },
    {
     "name": "stdout",
     "output_type": "stream",
     "text": [
      "Elaborating audio HAG_20210503_130000.wav...\n"
     ]
    },
    {
     "name": "stderr",
     "output_type": "stream",
     "text": [
      "Processing segments...: 100%|\u001b[31m██████████\u001b[0m| 39/39 [00:00<00:00, 6610.81it/s]\n",
      "Processing segments...: 100%|\u001b[31m██████████\u001b[0m| 39/39 [00:00<00:00, 5160.84it/s]\n"
     ]
    },
    {
     "name": "stdout",
     "output_type": "stream",
     "text": [
      "Elaborating audio HAG_20190421_130000.wav...\n"
     ]
    },
    {
     "name": "stderr",
     "output_type": "stream",
     "text": [
      "Processing segments...:   0%|\u001b[31m          \u001b[0m| 0/39 [00:00<?, ?it/s]"
     ]
    },
    {
     "name": "stdout",
     "output_type": "stream",
     "text": [
      "Elaborating audio HAG_20200529_070003.wav...\n"
     ]
    },
    {
     "name": "stderr",
     "output_type": "stream",
     "text": [
      "Processing segments...: 100%|\u001b[31m██████████\u001b[0m| 39/39 [00:00<00:00, 6643.56it/s]\n",
      "Processing segments...: 100%|\u001b[31m██████████\u001b[0m| 39/39 [00:00<00:00, 6964.61it/s]\n"
     ]
    },
    {
     "name": "stdout",
     "output_type": "stream",
     "text": [
      "Elaborating audio HAG_20200528_070000.wav...\n"
     ]
    },
    {
     "name": "stderr",
     "output_type": "stream",
     "text": [
      "Processing segments...:   0%|\u001b[31m          \u001b[0m| 0/39 [00:00<?, ?it/s]"
     ]
    },
    {
     "name": "stdout",
     "output_type": "stream",
     "text": [
      "Elaborating audio HAG_20200528_070015.wav...\n"
     ]
    },
    {
     "name": "stderr",
     "output_type": "stream",
     "text": [
      "Processing segments...: 100%|\u001b[31m██████████\u001b[0m| 39/39 [00:00<00:00, 8139.82it/s]\n",
      "Processing segments...:   0%|\u001b[31m          \u001b[0m| 0/39 [00:00<?, ?it/s]"
     ]
    },
    {
     "name": "stdout",
     "output_type": "stream",
     "text": [
      "Elaborating audio HAG_20190522_070070.wav...\n"
     ]
    },
    {
     "name": "stderr",
     "output_type": "stream",
     "text": [
      "Processing segments...: 100%|\u001b[31m██████████\u001b[0m| 39/39 [00:00<00:00, 5529.08it/s]\n",
      "Processing segments...: 100%|\u001b[31m██████████\u001b[0m| 39/39 [00:00<00:00, 6663.59it/s]\n"
     ]
    },
    {
     "name": "stdout",
     "output_type": "stream",
     "text": [
      "Elaborating audio HAG_20190422_070000.wav...\n"
     ]
    },
    {
     "name": "stderr",
     "output_type": "stream",
     "text": [
      "Processing segments...:   0%|\u001b[31m          \u001b[0m| 0/39 [00:00<?, ?it/s]"
     ]
    },
    {
     "name": "stdout",
     "output_type": "stream",
     "text": [
      "Elaborating audio HAG_20210521_070030.wav...\n"
     ]
    },
    {
     "name": "stderr",
     "output_type": "stream",
     "text": [
      "Processing segments...: 100%|\u001b[31m██████████\u001b[0m| 39/39 [00:00<00:00, 8310.62it/s]\n",
      "Processing segments...: 100%|\u001b[31m██████████\u001b[0m| 39/39 [00:00<00:00, 10321.67it/s]\n"
     ]
    },
    {
     "name": "stdout",
     "output_type": "stream",
     "text": [
      "Elaborating audio HAG_20220615_070000.wav...\n"
     ]
    },
    {
     "name": "stderr",
     "output_type": "stream",
     "text": [
      "Processing segments...:   0%|\u001b[31m          \u001b[0m| 0/39 [00:00<?, ?it/s]"
     ]
    },
    {
     "name": "stdout",
     "output_type": "stream",
     "text": [
      "Elaborating audio HAG_20190618_070030.wav...\n"
     ]
    },
    {
     "name": "stderr",
     "output_type": "stream",
     "text": [
      "Processing segments...: 100%|\u001b[31m██████████\u001b[0m| 39/39 [00:00<00:00, 3152.40it/s]\n",
      "Processing segments...:   0%|\u001b[31m          \u001b[0m| 0/39 [00:00<?, ?it/s]"
     ]
    },
    {
     "name": "stdout",
     "output_type": "stream",
     "text": [
      "Elaborating audio HAG_20190619_070012.wav...\n"
     ]
    },
    {
     "name": "stderr",
     "output_type": "stream",
     "text": [
      "Processing segments...: 100%|\u001b[31m██████████\u001b[0m| 39/39 [00:00<00:00, 4162.07it/s]\n",
      "Processing segments...: 100%|\u001b[31m██████████\u001b[0m| 39/39 [00:00<00:00, 9847.56it/s]\n"
     ]
    },
    {
     "name": "stdout",
     "output_type": "stream",
     "text": [
      "Elaborating audio HAG_20200529_071000.wav...\n"
     ]
    },
    {
     "name": "stderr",
     "output_type": "stream",
     "text": [
      "Processing segments...: 100%|\u001b[31m██████████\u001b[0m| 39/39 [00:00<00:00, 9730.41it/s]\n"
     ]
    },
    {
     "name": "stdout",
     "output_type": "stream",
     "text": [
      "Elaborating audio HAG_20190618_070040.wav...\n"
     ]
    },
    {
     "name": "stderr",
     "output_type": "stream",
     "text": [
      "Processing segments...:   0%|\u001b[31m          \u001b[0m| 0/39 [00:00<?, ?it/s]"
     ]
    },
    {
     "name": "stdout",
     "output_type": "stream",
     "text": [
      "Elaborating audio HAG_20210609_130005.wav...\n"
     ]
    },
    {
     "name": "stderr",
     "output_type": "stream",
     "text": [
      "Processing segments...: 100%|\u001b[31m██████████\u001b[0m| 39/39 [00:00<00:00, 3985.04it/s]\n",
      "Processing segments...:   0%|\u001b[31m          \u001b[0m| 0/39 [00:00<?, ?it/s]"
     ]
    },
    {
     "name": "stdout",
     "output_type": "stream",
     "text": [
      "Elaborating audio HAG_20200528_130050.wav...\n"
     ]
    },
    {
     "name": "stderr",
     "output_type": "stream",
     "text": [
      "Processing segments...: 100%|\u001b[31m██████████\u001b[0m| 39/39 [00:00<00:00, 7856.01it/s]\n",
      "Processing segments...:   0%|\u001b[31m          \u001b[0m| 0/39 [00:00<?, ?it/s]"
     ]
    },
    {
     "name": "stdout",
     "output_type": "stream",
     "text": [
      "Elaborating audio HAG_20200528_130100.wav...\n"
     ]
    },
    {
     "name": "stderr",
     "output_type": "stream",
     "text": [
      "Processing segments...: 100%|\u001b[31m██████████\u001b[0m| 39/39 [00:00<00:00, 3524.85it/s]\n",
      "Processing segments...: 100%|\u001b[31m██████████\u001b[0m| 39/39 [00:00<00:00, 5598.91it/s]\n"
     ]
    },
    {
     "name": "stdout",
     "output_type": "stream",
     "text": [
      "Elaborating audio HAG_20200528_130002.wav...\n"
     ]
    },
    {
     "name": "stderr",
     "output_type": "stream",
     "text": [
      "Processing segments...:   0%|\u001b[31m          \u001b[0m| 0/39 [00:00<?, ?it/s]"
     ]
    },
    {
     "name": "stdout",
     "output_type": "stream",
     "text": [
      "Elaborating audio HAG_20200529_072000.wav...\n"
     ]
    },
    {
     "name": "stderr",
     "output_type": "stream",
     "text": [
      "Processing segments...: 100%|\u001b[31m██████████\u001b[0m| 39/39 [00:00<00:00, 3160.44it/s]\n",
      "Processing segments...: 100%|\u001b[31m██████████\u001b[0m| 39/39 [00:00<00:00, 9635.83it/s]\n"
     ]
    },
    {
     "name": "stdout",
     "output_type": "stream",
     "text": [
      "Elaborating audio HAG_20200528_070004.wav...\n"
     ]
    },
    {
     "name": "stderr",
     "output_type": "stream",
     "text": [
      "Processing segments...:   0%|\u001b[31m          \u001b[0m| 0/39 [00:00<?, ?it/s]"
     ]
    },
    {
     "name": "stdout",
     "output_type": "stream",
     "text": [
      "Elaborating audio HAG_20210505_070000.wav...\n"
     ]
    },
    {
     "name": "stderr",
     "output_type": "stream",
     "text": [
      "Processing segments...: 100%|\u001b[31m██████████\u001b[0m| 39/39 [00:00<00:00, 4075.59it/s]\n",
      "Processing segments...: 100%|\u001b[31m██████████\u001b[0m| 39/39 [00:00<00:00, 6738.53it/s]\n"
     ]
    },
    {
     "name": "stdout",
     "output_type": "stream",
     "text": [
      "Elaborating audio HAG_20200529_131100.wav...\n"
     ]
    },
    {
     "name": "stderr",
     "output_type": "stream",
     "text": [
      "Processing segments...: 100%|\u001b[31m██████████\u001b[0m| 39/39 [00:00<00:00, 4555.85it/s]\n"
     ]
    },
    {
     "name": "stdout",
     "output_type": "stream",
     "text": [
      "Elaborating audio HAG_20200529_130018.wav...\n"
     ]
    },
    {
     "name": "stderr",
     "output_type": "stream",
     "text": [
      "Processing segments...:   0%|\u001b[31m          \u001b[0m| 0/39 [00:00<?, ?it/s]"
     ]
    },
    {
     "name": "stdout",
     "output_type": "stream",
     "text": [
      "Elaborating audio HAG_20200528_130004.wav...\n"
     ]
    },
    {
     "name": "stderr",
     "output_type": "stream",
     "text": [
      "Processing segments...: 100%|\u001b[31m██████████\u001b[0m| 39/39 [00:00<00:00, 8576.41it/s]\n",
      "Processing segments...:   0%|\u001b[31m          \u001b[0m| 0/39 [00:00<?, ?it/s]"
     ]
    },
    {
     "name": "stdout",
     "output_type": "stream",
     "text": [
      "Elaborating audio HAG_20190619_070005.wav...\n"
     ]
    },
    {
     "name": "stderr",
     "output_type": "stream",
     "text": [
      "Processing segments...: 100%|\u001b[31m██████████\u001b[0m| 39/39 [00:00<00:00, 5203.85it/s]\n",
      "Processing segments...:   0%|\u001b[31m          \u001b[0m| 0/39 [00:00<?, ?it/s]"
     ]
    },
    {
     "name": "stdout",
     "output_type": "stream",
     "text": [
      "Elaborating audio HAG_20190422_070020.wav...\n"
     ]
    },
    {
     "name": "stderr",
     "output_type": "stream",
     "text": [
      "Processing segments...: 100%|\u001b[31m██████████\u001b[0m| 39/39 [00:00<00:00, 2578.47it/s]\n",
      "Processing segments...:   0%|\u001b[31m          \u001b[0m| 0/39 [00:00<?, ?it/s]"
     ]
    },
    {
     "name": "stdout",
     "output_type": "stream",
     "text": [
      "Elaborating audio HAG_20200528_130001.wav...\n"
     ]
    },
    {
     "name": "stderr",
     "output_type": "stream",
     "text": [
      "Processing segments...: 100%|\u001b[31m██████████\u001b[0m| 39/39 [00:00<00:00, 3589.36it/s]\n",
      "Processing segments...:   0%|\u001b[31m          \u001b[0m| 0/39 [00:00<?, ?it/s]"
     ]
    },
    {
     "name": "stdout",
     "output_type": "stream",
     "text": [
      "Elaborating audio HAG_20190620_070000.wav...\n"
     ]
    },
    {
     "name": "stderr",
     "output_type": "stream",
     "text": [
      "Processing segments...: 100%|\u001b[31m██████████\u001b[0m| 39/39 [00:00<00:00, 5302.53it/s]\n",
      "Processing segments...:   0%|\u001b[31m          \u001b[0m| 0/39 [00:00<?, ?it/s]"
     ]
    },
    {
     "name": "stdout",
     "output_type": "stream",
     "text": [
      "Elaborating audio HAG_20200529_070000.wav...\n"
     ]
    },
    {
     "name": "stderr",
     "output_type": "stream",
     "text": [
      "Processing segments...: 100%|\u001b[31m██████████\u001b[0m| 39/39 [00:00<00:00, 4608.61it/s]\n",
      "Processing segments...:   0%|\u001b[31m          \u001b[0m| 0/39 [00:00<?, ?it/s]"
     ]
    },
    {
     "name": "stdout",
     "output_type": "stream",
     "text": [
      "Elaborating audio HAG_20210503_070000.wav...\n"
     ]
    },
    {
     "name": "stderr",
     "output_type": "stream",
     "text": [
      "Processing segments...: 100%|\u001b[31m██████████\u001b[0m| 39/39 [00:00<00:00, 5647.43it/s]\n",
      "Processing segments...:   0%|\u001b[31m          \u001b[0m| 0/39 [00:00<?, ?it/s]"
     ]
    },
    {
     "name": "stdout",
     "output_type": "stream",
     "text": [
      "Elaborating audio HAG_20190423_130000.wav...\n"
     ]
    },
    {
     "name": "stderr",
     "output_type": "stream",
     "text": [
      "Processing segments...: 100%|\u001b[31m██████████\u001b[0m| 39/39 [00:00<00:00, 2407.50it/s]\n",
      "Processing segments...: 100%|\u001b[31m██████████\u001b[0m| 39/39 [00:00<00:00, 9207.35it/s]\n"
     ]
    },
    {
     "name": "stdout",
     "output_type": "stream",
     "text": [
      "Elaborating audio HAG_20190424_070000.wav...\n"
     ]
    },
    {
     "name": "stderr",
     "output_type": "stream",
     "text": [
      "Processing segments...:   0%|\u001b[31m          \u001b[0m| 0/39 [00:00<?, ?it/s]"
     ]
    },
    {
     "name": "stdout",
     "output_type": "stream",
     "text": [
      "Elaborating audio HAG_20220617_070000.wav...\n"
     ]
    },
    {
     "name": "stderr",
     "output_type": "stream",
     "text": [
      "Processing segments...: 100%|\u001b[31m██████████\u001b[0m| 39/39 [00:00<00:00, 4350.47it/s]\n",
      "Processing segments...:   0%|\u001b[31m          \u001b[0m| 0/39 [00:00<?, ?it/s]"
     ]
    },
    {
     "name": "stdout",
     "output_type": "stream",
     "text": [
      "Elaborating audio HAG_20200529_070006.wav...\n"
     ]
    },
    {
     "name": "stderr",
     "output_type": "stream",
     "text": [
      "Processing segments...: 100%|\u001b[31m██████████\u001b[0m| 39/39 [00:00<00:00, 6045.01it/s]\n",
      "Processing segments...:   0%|\u001b[31m          \u001b[0m| 0/39 [00:00<?, ?it/s]"
     ]
    },
    {
     "name": "stdout",
     "output_type": "stream",
     "text": [
      "Elaborating audio HAG_20210520_130030.wav...\n"
     ]
    },
    {
     "name": "stderr",
     "output_type": "stream",
     "text": [
      "Processing segments...: 100%|\u001b[31m██████████\u001b[0m| 39/39 [00:00<00:00, 5688.68it/s]\n",
      "Processing segments...:   0%|\u001b[31m          \u001b[0m| 0/39 [00:00<?, ?it/s]"
     ]
    },
    {
     "name": "stdout",
     "output_type": "stream",
     "text": [
      "Elaborating audio HAG_20210504_130000.wav...\n"
     ]
    },
    {
     "name": "stderr",
     "output_type": "stream",
     "text": [
      "Processing segments...: 100%|\u001b[31m██████████\u001b[0m| 39/39 [00:00<00:00, 4780.74it/s]\n",
      "Processing segments...: 100%|\u001b[31m██████████\u001b[0m| 39/39 [00:00<00:00, 6470.13it/s]\n"
     ]
    },
    {
     "name": "stdout",
     "output_type": "stream",
     "text": [
      "Elaborating audio HAG_20200529_131000.wav...\n"
     ]
    },
    {
     "name": "stderr",
     "output_type": "stream",
     "text": [
      "Processing segments...:   0%|\u001b[31m          \u001b[0m| 0/39 [00:00<?, ?it/s]"
     ]
    },
    {
     "name": "stdout",
     "output_type": "stream",
     "text": [
      "Elaborating audio HAG_20210609_070005.wav...\n"
     ]
    },
    {
     "name": "stderr",
     "output_type": "stream",
     "text": [
      "Processing segments...: 100%|\u001b[31m██████████\u001b[0m| 39/39 [00:00<00:00, 6038.31it/s]\n",
      "Processing segments...:   0%|\u001b[31m          \u001b[0m| 0/39 [00:00<?, ?it/s]"
     ]
    },
    {
     "name": "stdout",
     "output_type": "stream",
     "text": [
      "Elaborating audio SITH_20220322_153009.wav...\n"
     ]
    },
    {
     "name": "stderr",
     "output_type": "stream",
     "text": [
      "Processing segments...: 100%|\u001b[31m██████████\u001b[0m| 39/39 [00:00<00:00, 4464.58it/s]\n",
      "Processing segments...:   0%|\u001b[31m          \u001b[0m| 0/39 [00:00<?, ?it/s]"
     ]
    },
    {
     "name": "stdout",
     "output_type": "stream",
     "text": [
      "Elaborating audio SITH_20220430_070005.wav...\n"
     ]
    },
    {
     "name": "stderr",
     "output_type": "stream",
     "text": [
      "Processing segments...: 100%|\u001b[31m██████████\u001b[0m| 39/39 [00:00<00:00, 4707.55it/s]\n",
      "Processing segments...: 100%|\u001b[31m██████████\u001b[0m| 39/39 [00:00<00:00, 3627.49it/s]"
     ]
    },
    {
     "name": "stdout",
     "output_type": "stream",
     "text": [
      "Elaborating audio SITH_20220322_173004.wav...\n"
     ]
    },
    {
     "name": "stderr",
     "output_type": "stream",
     "text": [
      "\n",
      "Processing segments...:   0%|\u001b[31m          \u001b[0m| 0/39 [00:00<?, ?it/s]"
     ]
    },
    {
     "name": "stdout",
     "output_type": "stream",
     "text": [
      "Elaborating audio SITH_20220415_060009.wav...\n"
     ]
    },
    {
     "name": "stderr",
     "output_type": "stream",
     "text": [
      "Processing segments...: 100%|\u001b[31m██████████\u001b[0m| 39/39 [00:00<00:00, 5355.31it/s]\n",
      "Processing segments...: 100%|\u001b[31m██████████\u001b[0m| 39/39 [00:00<00:00, 9111.45it/s]\n"
     ]
    },
    {
     "name": "stdout",
     "output_type": "stream",
     "text": [
      "Elaborating audio SITH_20220329_070003.wav...\n"
     ]
    },
    {
     "name": "stderr",
     "output_type": "stream",
     "text": [
      "Processing segments...:   0%|\u001b[31m          \u001b[0m| 0/39 [00:00<?, ?it/s]"
     ]
    },
    {
     "name": "stdout",
     "output_type": "stream",
     "text": [
      "Elaborating audio SITH_20220430_070003.wav...\n"
     ]
    },
    {
     "name": "stderr",
     "output_type": "stream",
     "text": [
      "Processing segments...: 100%|\u001b[31m██████████\u001b[0m| 39/39 [00:00<00:00, 3330.64it/s]\n",
      "Processing segments...:   0%|\u001b[31m          \u001b[0m| 0/39 [00:00<?, ?it/s]"
     ]
    },
    {
     "name": "stdout",
     "output_type": "stream",
     "text": [
      "Elaborating audio SITH_20220329_063002.wav...\n"
     ]
    },
    {
     "name": "stderr",
     "output_type": "stream",
     "text": [
      "Processing segments...: 100%|\u001b[31m██████████\u001b[0m| 39/39 [00:00<00:00, 8445.34it/s]\n",
      "Processing segments...: 100%|\u001b[31m██████████\u001b[0m| 39/39 [00:00<00:00, 6808.37it/s]\n"
     ]
    },
    {
     "name": "stdout",
     "output_type": "stream",
     "text": [
      "Elaborating audio SITH_20220329_060010.wav...\n"
     ]
    },
    {
     "name": "stderr",
     "output_type": "stream",
     "text": [
      "Processing segments...:   0%|\u001b[31m          \u001b[0m| 0/39 [00:00<?, ?it/s]"
     ]
    },
    {
     "name": "stdout",
     "output_type": "stream",
     "text": [
      "Elaborating audio SITH_20220430_070004.wav...\n"
     ]
    },
    {
     "name": "stderr",
     "output_type": "stream",
     "text": [
      "Processing segments...: 100%|\u001b[31m██████████\u001b[0m| 39/39 [00:00<00:00, 3442.08it/s]\n",
      "Processing segments...:   0%|\u001b[31m          \u001b[0m| 0/39 [00:00<?, ?it/s]"
     ]
    },
    {
     "name": "stdout",
     "output_type": "stream",
     "text": [
      "Elaborating audio SITH_20220322_153002.wav...\n"
     ]
    },
    {
     "name": "stderr",
     "output_type": "stream",
     "text": [
      "Processing segments...: 100%|\u001b[31m██████████\u001b[0m| 39/39 [00:00<00:00, 5017.26it/s]\n",
      "Processing segments...:   0%|\u001b[31m          \u001b[0m| 0/39 [00:00<?, ?it/s]"
     ]
    },
    {
     "name": "stdout",
     "output_type": "stream",
     "text": [
      "Elaborating audio SITH_20220322_150001.wav...\n"
     ]
    },
    {
     "name": "stderr",
     "output_type": "stream",
     "text": [
      "Processing segments...: 100%|\u001b[31m██████████\u001b[0m| 39/39 [00:00<00:00, 5300.13it/s]\n",
      "Processing segments...:   0%|\u001b[31m          \u001b[0m| 0/39 [00:00<?, ?it/s]"
     ]
    },
    {
     "name": "stdout",
     "output_type": "stream",
     "text": [
      "Elaborating audio SITH_20220322_160006.wav...\n"
     ]
    },
    {
     "name": "stderr",
     "output_type": "stream",
     "text": [
      "Processing segments...: 100%|\u001b[31m██████████\u001b[0m| 39/39 [00:00<00:00, 6848.85it/s]\n",
      "Processing segments...: 100%|\u001b[31m██████████\u001b[0m| 39/39 [00:00<00:00, 9425.40it/s]\n"
     ]
    },
    {
     "name": "stdout",
     "output_type": "stream",
     "text": [
      "Elaborating audio SITH_20220329_063005.wav...\n"
     ]
    },
    {
     "name": "stderr",
     "output_type": "stream",
     "text": [
      "Processing segments...:   0%|\u001b[31m          \u001b[0m| 0/39 [00:00<?, ?it/s]"
     ]
    },
    {
     "name": "stdout",
     "output_type": "stream",
     "text": [
      "Elaborating audio SITH_20220329_060009.wav...\n"
     ]
    },
    {
     "name": "stderr",
     "output_type": "stream",
     "text": [
      "Processing segments...: 100%|\u001b[31m██████████\u001b[0m| 39/39 [00:00<00:00, 9636.40it/s]\n",
      "Processing segments...: 100%|\u001b[31m██████████\u001b[0m| 39/39 [00:00<00:00, 9666.58it/s]\n"
     ]
    },
    {
     "name": "stdout",
     "output_type": "stream",
     "text": [
      "Elaborating audio SITH_20220329_070006.wav...\n"
     ]
    },
    {
     "name": "stderr",
     "output_type": "stream",
     "text": [
      "Processing segments...: 100%|\u001b[31m██████████\u001b[0m| 39/39 [00:00<00:00, 8518.79it/s]\n"
     ]
    },
    {
     "name": "stdout",
     "output_type": "stream",
     "text": [
      "Elaborating audio SITH_20220415_060007.wav...\n"
     ]
    },
    {
     "name": "stderr",
     "output_type": "stream",
     "text": [
      "Processing segments...:   0%|\u001b[31m          \u001b[0m| 0/39 [00:00<?, ?it/s]"
     ]
    },
    {
     "name": "stdout",
     "output_type": "stream",
     "text": [
      "Elaborating audio SITH_20220322_153003.wav...\n"
     ]
    },
    {
     "name": "stderr",
     "output_type": "stream",
     "text": [
      "Processing segments...: 100%|\u001b[31m██████████\u001b[0m| 39/39 [00:00<00:00, 4678.73it/s]\n",
      "Processing segments...:   0%|\u001b[31m          \u001b[0m| 0/39 [00:00<?, ?it/s]"
     ]
    },
    {
     "name": "stdout",
     "output_type": "stream",
     "text": [
      "Elaborating audio SITH_20220322_153005.wav...\n"
     ]
    },
    {
     "name": "stderr",
     "output_type": "stream",
     "text": [
      "Processing segments...: 100%|\u001b[31m██████████\u001b[0m| 39/39 [00:00<00:00, 4248.11it/s]\n",
      "Processing segments...:   0%|\u001b[31m          \u001b[0m| 0/39 [00:00<?, ?it/s]"
     ]
    },
    {
     "name": "stdout",
     "output_type": "stream",
     "text": [
      "Elaborating audio SITH_20220322_160008.wav...\n"
     ]
    },
    {
     "name": "stderr",
     "output_type": "stream",
     "text": [
      "Processing segments...: 100%|\u001b[31m██████████\u001b[0m| 39/39 [00:00<00:00, 4122.01it/s]\n",
      "Processing segments...:   0%|\u001b[31m          \u001b[0m| 0/39 [00:00<?, ?it/s]"
     ]
    },
    {
     "name": "stdout",
     "output_type": "stream",
     "text": [
      "Elaborating audio SITH_20220329_060001.wav...\n"
     ]
    },
    {
     "name": "stderr",
     "output_type": "stream",
     "text": [
      "Processing segments...: 100%|\u001b[31m██████████\u001b[0m| 39/39 [00:00<00:00, 7398.03it/s]\n",
      "Processing segments...:   0%|\u001b[31m          \u001b[0m| 0/39 [00:00<?, ?it/s]"
     ]
    },
    {
     "name": "stdout",
     "output_type": "stream",
     "text": [
      "Elaborating audio SITH_20220329_063001.wav...\n"
     ]
    },
    {
     "name": "stderr",
     "output_type": "stream",
     "text": [
      "Processing segments...: 100%|\u001b[31m██████████\u001b[0m| 39/39 [00:00<00:00, 5514.17it/s]\n",
      "Processing segments...: 100%|\u001b[31m██████████\u001b[0m| 39/39 [00:00<00:00, 10047.16it/s]\n"
     ]
    },
    {
     "name": "stdout",
     "output_type": "stream",
     "text": [
      "Elaborating audio SITH_20220329_070001.wav...\n"
     ]
    },
    {
     "name": "stderr",
     "output_type": "stream",
     "text": [
      "Processing segments...: 100%|\u001b[31m██████████\u001b[0m| 39/39 [00:00<00:00, 9980.35it/s]\n"
     ]
    },
    {
     "name": "stdout",
     "output_type": "stream",
     "text": [
      "Elaborating audio SITH_20220322_153001.wav...\n"
     ]
    },
    {
     "name": "stderr",
     "output_type": "stream",
     "text": [
      "Processing segments...:   0%|\u001b[31m          \u001b[0m| 0/39 [00:00<?, ?it/s]"
     ]
    },
    {
     "name": "stdout",
     "output_type": "stream",
     "text": [
      "Elaborating audio SITH_20220329_070010.wav...\n"
     ]
    },
    {
     "name": "stderr",
     "output_type": "stream",
     "text": [
      "Processing segments...: 100%|\u001b[31m██████████\u001b[0m| 39/39 [00:00<00:00, 5331.92it/s]\n",
      "Processing segments...:   0%|\u001b[31m          \u001b[0m| 0/39 [00:00<?, ?it/s]"
     ]
    },
    {
     "name": "stdout",
     "output_type": "stream",
     "text": [
      "Elaborating audio SITH_20220322_153007.wav...\n"
     ]
    },
    {
     "name": "stderr",
     "output_type": "stream",
     "text": [
      "Processing segments...: 100%|\u001b[31m██████████\u001b[0m| 39/39 [00:00<00:00, 4142.68it/s]\n",
      "Processing segments...:   0%|\u001b[31m          \u001b[0m| 0/39 [00:00<?, ?it/s]"
     ]
    },
    {
     "name": "stdout",
     "output_type": "stream",
     "text": [
      "Elaborating audio SITH_20220329_070002.wav...\n"
     ]
    },
    {
     "name": "stderr",
     "output_type": "stream",
     "text": [
      "Processing segments...: 100%|\u001b[31m██████████\u001b[0m| 39/39 [00:00<00:00, 4152.04it/s]\n",
      "Processing segments...:   0%|\u001b[31m          \u001b[0m| 0/39 [00:00<?, ?it/s]"
     ]
    },
    {
     "name": "stdout",
     "output_type": "stream",
     "text": [
      "Elaborating audio SITH_20220329_070009.wav...\n"
     ]
    },
    {
     "name": "stderr",
     "output_type": "stream",
     "text": [
      "Processing segments...: 100%|\u001b[31m██████████\u001b[0m| 39/39 [00:00<00:00, 5884.10it/s]\n",
      "Processing segments...:   0%|\u001b[31m          \u001b[0m| 0/39 [00:00<?, ?it/s]"
     ]
    },
    {
     "name": "stdout",
     "output_type": "stream",
     "text": [
      "Elaborating audio SITH_20220430_070002.wav...\n"
     ]
    },
    {
     "name": "stderr",
     "output_type": "stream",
     "text": [
      "Processing segments...: 100%|\u001b[31m██████████\u001b[0m| 39/39 [00:00<00:00, 5366.38it/s]\n",
      "Processing segments...:   0%|\u001b[31m          \u001b[0m| 0/39 [00:00<?, ?it/s]"
     ]
    },
    {
     "name": "stdout",
     "output_type": "stream",
     "text": [
      "Elaborating audio SITH_20220329_070008.wav...\n"
     ]
    },
    {
     "name": "stderr",
     "output_type": "stream",
     "text": [
      "Processing segments...: 100%|\u001b[31m██████████\u001b[0m| 39/39 [00:00<00:00, 9151.72it/s]\n",
      "Processing segments...: 100%|\u001b[31m██████████\u001b[0m| 39/39 [00:00<00:00, 10921.21it/s]\n"
     ]
    },
    {
     "name": "stdout",
     "output_type": "stream",
     "text": [
      "Elaborating audio SITH_20220329_070004.wav...\n"
     ]
    },
    {
     "name": "stderr",
     "output_type": "stream",
     "text": [
      "Processing segments...:   0%|\u001b[31m          \u001b[0m| 0/39 [00:00<?, ?it/s]"
     ]
    },
    {
     "name": "stdout",
     "output_type": "stream",
     "text": [
      "Elaborating audio SITH_20220322_153008.wav...\n"
     ]
    },
    {
     "name": "stderr",
     "output_type": "stream",
     "text": [
      "Processing segments...: 100%|\u001b[31m██████████\u001b[0m| 39/39 [00:00<00:00, 3396.13it/s]\n",
      "Processing segments...:   0%|\u001b[31m          \u001b[0m| 0/39 [00:00<?, ?it/s]"
     ]
    },
    {
     "name": "stdout",
     "output_type": "stream",
     "text": [
      "Elaborating audio SITH_20220322_160002.wav...\n"
     ]
    },
    {
     "name": "stderr",
     "output_type": "stream",
     "text": [
      "Processing segments...: 100%|\u001b[31m██████████\u001b[0m| 39/39 [00:00<00:00, 3694.00it/s]\n",
      "Processing segments...:   0%|\u001b[31m          \u001b[0m| 0/39 [00:00<?, ?it/s]"
     ]
    },
    {
     "name": "stdout",
     "output_type": "stream",
     "text": [
      "Elaborating audio SITH_20220322_153010.wav...\n"
     ]
    },
    {
     "name": "stderr",
     "output_type": "stream",
     "text": [
      "Processing segments...: 100%|\u001b[31m██████████\u001b[0m| 39/39 [00:00<00:00, 3312.50it/s]\n",
      "Processing segments...:   0%|\u001b[31m          \u001b[0m| 0/39 [00:00<?, ?it/s]"
     ]
    },
    {
     "name": "stdout",
     "output_type": "stream",
     "text": [
      "Elaborating audio SITH_20220329_060004.wav...\n"
     ]
    },
    {
     "name": "stderr",
     "output_type": "stream",
     "text": [
      "Processing segments...: 100%|\u001b[31m██████████\u001b[0m| 39/39 [00:00<00:00, 4863.18it/s]\n",
      "Processing segments...:   0%|\u001b[31m          \u001b[0m| 0/39 [00:00<?, ?it/s]"
     ]
    },
    {
     "name": "stdout",
     "output_type": "stream",
     "text": [
      "Elaborating audio SITH_20220322_173007.wav...\n"
     ]
    },
    {
     "name": "stderr",
     "output_type": "stream",
     "text": [
      "Processing segments...: 100%|\u001b[31m██████████\u001b[0m| 39/39 [00:00<00:00, 4163.56it/s]\n",
      "Processing segments...:   0%|\u001b[31m          \u001b[0m| 0/39 [00:00<?, ?it/s]"
     ]
    },
    {
     "name": "stdout",
     "output_type": "stream",
     "text": [
      "Elaborating audio SITH_20220322_173003.wav...\n"
     ]
    },
    {
     "name": "stderr",
     "output_type": "stream",
     "text": [
      "Processing segments...: 100%|\u001b[31m██████████\u001b[0m| 39/39 [00:00<00:00, 4751.30it/s]\n",
      "Processing segments...:   0%|\u001b[31m          \u001b[0m| 0/39 [00:00<?, ?it/s]"
     ]
    },
    {
     "name": "stdout",
     "output_type": "stream",
     "text": [
      "Elaborating audio SITH_20220322_160007.wav...\n"
     ]
    },
    {
     "name": "stderr",
     "output_type": "stream",
     "text": [
      "Processing segments...: 100%|\u001b[31m██████████\u001b[0m| 39/39 [00:00<00:00, 3302.94it/s]\n",
      "Processing segments...:   0%|\u001b[31m          \u001b[0m| 0/39 [00:00<?, ?it/s]"
     ]
    },
    {
     "name": "stdout",
     "output_type": "stream",
     "text": [
      "Elaborating audio SITH_20220430_070007.wav...\n"
     ]
    },
    {
     "name": "stderr",
     "output_type": "stream",
     "text": [
      "Processing segments...: 100%|\u001b[31m██████████\u001b[0m| 39/39 [00:00<00:00, 4171.95it/s]\n",
      "Processing segments...: 100%|\u001b[31m██████████\u001b[0m| 39/39 [00:00<00:00, 7718.85it/s]\n"
     ]
    },
    {
     "name": "stdout",
     "output_type": "stream",
     "text": [
      "Elaborating audio SITH_20220329_060008.wav...\n"
     ]
    },
    {
     "name": "stderr",
     "output_type": "stream",
     "text": [
      "Processing segments...: 100%|\u001b[31m██████████\u001b[0m| 39/39 [00:00<00:00, 4183.04it/s]\n"
     ]
    },
    {
     "name": "stdout",
     "output_type": "stream",
     "text": [
      "Elaborating audio SITH_20220430_070006.wav...\n"
     ]
    },
    {
     "name": "stderr",
     "output_type": "stream",
     "text": [
      "Processing segments...:   0%|\u001b[31m          \u001b[0m| 0/39 [00:00<?, ?it/s]"
     ]
    },
    {
     "name": "stdout",
     "output_type": "stream",
     "text": [
      "Elaborating audio SITH_20220415_060002.wav...\n"
     ]
    },
    {
     "name": "stderr",
     "output_type": "stream",
     "text": [
      "Processing segments...: 100%|\u001b[31m██████████\u001b[0m| 39/39 [00:00<00:00, 10104.26it/s]\n",
      "Processing segments...:   0%|\u001b[31m          \u001b[0m| 0/39 [00:00<?, ?it/s]"
     ]
    },
    {
     "name": "stdout",
     "output_type": "stream",
     "text": [
      "Elaborating audio SITH_20220322_173005.wav...\n"
     ]
    },
    {
     "name": "stderr",
     "output_type": "stream",
     "text": [
      "Processing segments...: 100%|\u001b[31m██████████\u001b[0m| 39/39 [00:00<00:00, 3133.92it/s]\n",
      "Processing segments...:   0%|\u001b[31m          \u001b[0m| 0/39 [00:00<?, ?it/s]"
     ]
    },
    {
     "name": "stdout",
     "output_type": "stream",
     "text": [
      "Elaborating audio SITH_20220329_070005.wav...\n"
     ]
    },
    {
     "name": "stderr",
     "output_type": "stream",
     "text": [
      "Processing segments...: 100%|\u001b[31m██████████\u001b[0m| 39/39 [00:00<00:00, 6323.07it/s]\n",
      "Processing segments...: 100%|\u001b[31m██████████\u001b[0m| 39/39 [00:00<00:00, 8053.26it/s]\n"
     ]
    },
    {
     "name": "stdout",
     "output_type": "stream",
     "text": [
      "Elaborating audio SITH_20220430_070001.wav...\n"
     ]
    },
    {
     "name": "stderr",
     "output_type": "stream",
     "text": [
      "Processing segments...:   0%|\u001b[31m          \u001b[0m| 0/39 [00:00<?, ?it/s]"
     ]
    },
    {
     "name": "stdout",
     "output_type": "stream",
     "text": [
      "Elaborating audio SITH_20220415_060008.wav...\n"
     ]
    },
    {
     "name": "stderr",
     "output_type": "stream",
     "text": [
      "Processing segments...: 100%|\u001b[31m██████████\u001b[0m| 39/39 [00:00<00:00, 6103.42it/s]\n",
      "Processing segments...:   0%|\u001b[31m          \u001b[0m| 0/39 [00:00<?, ?it/s]"
     ]
    },
    {
     "name": "stdout",
     "output_type": "stream",
     "text": [
      "Elaborating audio SITH_20220322_153004.wav...\n"
     ]
    },
    {
     "name": "stderr",
     "output_type": "stream",
     "text": [
      "Processing segments...: 100%|\u001b[31m██████████\u001b[0m| 39/39 [00:00<00:00, 5465.71it/s]\n",
      "Processing segments...:   0%|\u001b[31m          \u001b[0m| 0/39 [00:00<?, ?it/s]"
     ]
    },
    {
     "name": "stdout",
     "output_type": "stream",
     "text": [
      "Elaborating audio SITH_20220430_070009.wav...\n"
     ]
    },
    {
     "name": "stderr",
     "output_type": "stream",
     "text": [
      "Processing segments...: 100%|\u001b[31m██████████\u001b[0m| 39/39 [00:00<00:00, 4842.73it/s]\n",
      "Processing segments...: 100%|\u001b[31m██████████\u001b[0m| 39/39 [00:00<00:00, 7253.04it/s]"
     ]
    },
    {
     "name": "stdout",
     "output_type": "stream",
     "text": [
      "Elaborating audio SITH_20220322_160004.wav...\n"
     ]
    },
    {
     "name": "stderr",
     "output_type": "stream",
     "text": [
      "\n",
      "Processing segments...: 100%|\u001b[31m██████████\u001b[0m| 39/39 [00:00<00:00, 5045.74it/s]"
     ]
    },
    {
     "name": "stdout",
     "output_type": "stream",
     "text": [
      "Elaborating audio SITH_20220329_070007.wav...\n"
     ]
    },
    {
     "name": "stderr",
     "output_type": "stream",
     "text": [
      "\n",
      "Processing segments...:   0%|\u001b[31m          \u001b[0m| 0/39 [00:00<?, ?it/s]"
     ]
    },
    {
     "name": "stdout",
     "output_type": "stream",
     "text": [
      "Elaborating audio SITH_20220322_173002.wav...\n"
     ]
    },
    {
     "name": "stderr",
     "output_type": "stream",
     "text": [
      "Processing segments...: 100%|\u001b[31m██████████\u001b[0m| 39/39 [00:00<00:00, 4875.64it/s]\n",
      "Processing segments...: 100%|\u001b[31m██████████\u001b[0m| 39/39 [00:00<00:00, 8887.69it/s]\n"
     ]
    },
    {
     "name": "stdout",
     "output_type": "stream",
     "text": [
      "Elaborating audio SITH_20220415_060004.wav...\n"
     ]
    },
    {
     "name": "stderr",
     "output_type": "stream",
     "text": [
      "Processing segments...: 100%|\u001b[31m██████████\u001b[0m| 39/39 [00:00<00:00, 5928.45it/s]"
     ]
    },
    {
     "name": "stdout",
     "output_type": "stream",
     "text": [
      "Elaborating audio SITH_20220322_173001.wav...\n"
     ]
    },
    {
     "name": "stderr",
     "output_type": "stream",
     "text": [
      "\n",
      "Processing segments...: 100%|\u001b[31m██████████\u001b[0m| 39/39 [00:00<00:00, 5528.33it/s]\n"
     ]
    },
    {
     "name": "stdout",
     "output_type": "stream",
     "text": [
      "Elaborating audio SITH_20220329_060003.wav...\n"
     ]
    },
    {
     "name": "stderr",
     "output_type": "stream",
     "text": [
      "Processing segments...:   0%|\u001b[31m          \u001b[0m| 0/39 [00:00<?, ?it/s]"
     ]
    },
    {
     "name": "stdout",
     "output_type": "stream",
     "text": [
      "Elaborating audio SITH_20220322_150002.wav...\n"
     ]
    },
    {
     "name": "stderr",
     "output_type": "stream",
     "text": [
      "Processing segments...: 100%|\u001b[31m██████████\u001b[0m| 39/39 [00:00<00:00, 8135.77it/s]\n",
      "Processing segments...: 100%|\u001b[31m██████████\u001b[0m| 39/39 [00:00<00:00, 4881.46it/s]"
     ]
    },
    {
     "name": "stdout",
     "output_type": "stream",
     "text": [
      "Elaborating audio SITH_20220322_173006.wav...\n"
     ]
    },
    {
     "name": "stderr",
     "output_type": "stream",
     "text": [
      "\n",
      "Processing segments...:   0%|\u001b[31m          \u001b[0m| 0/39 [00:00<?, ?it/s]"
     ]
    },
    {
     "name": "stdout",
     "output_type": "stream",
     "text": [
      "Elaborating audio SITH_20220322_160010.wav...\n"
     ]
    },
    {
     "name": "stderr",
     "output_type": "stream",
     "text": [
      "Processing segments...: 100%|\u001b[31m██████████\u001b[0m| 39/39 [00:00<00:00, 3680.46it/s]\n",
      "Processing segments...: 100%|\u001b[31m██████████\u001b[0m| 39/39 [00:00<00:00, 7653.12it/s]\n"
     ]
    },
    {
     "name": "stdout",
     "output_type": "stream",
     "text": [
      "Elaborating audio SITH_20220322_173009.wav...\n"
     ]
    },
    {
     "name": "stderr",
     "output_type": "stream",
     "text": [
      "Processing segments...:   0%|\u001b[31m          \u001b[0m| 0/39 [00:00<?, ?it/s]"
     ]
    },
    {
     "name": "stdout",
     "output_type": "stream",
     "text": [
      "Elaborating audio SITH_20220322_160003.wav...\n"
     ]
    },
    {
     "name": "stderr",
     "output_type": "stream",
     "text": [
      "Processing segments...: 100%|\u001b[31m██████████\u001b[0m| 39/39 [00:00<00:00, 3588.49it/s]\n",
      "Processing segments...: 100%|\u001b[31m██████████\u001b[0m| 39/39 [00:00<00:00, 8706.04it/s]\n"
     ]
    },
    {
     "name": "stdout",
     "output_type": "stream",
     "text": [
      "Elaborating audio SITH_20220322_160009.wav...\n"
     ]
    },
    {
     "name": "stderr",
     "output_type": "stream",
     "text": [
      "Processing segments...:   0%|\u001b[31m          \u001b[0m| 0/39 [00:00<?, ?it/s]"
     ]
    },
    {
     "name": "stdout",
     "output_type": "stream",
     "text": [
      "Elaborating audio SITH_20220430_070008.wav...\n"
     ]
    },
    {
     "name": "stderr",
     "output_type": "stream",
     "text": [
      "Processing segments...: 100%|\u001b[31m██████████\u001b[0m| 39/39 [00:00<00:00, 3771.33it/s]\n",
      "Processing segments...:   0%|\u001b[31m          \u001b[0m| 0/39 [00:00<?, ?it/s]"
     ]
    },
    {
     "name": "stdout",
     "output_type": "stream",
     "text": [
      "Elaborating audio SITH_20220322_160001.wav...\n"
     ]
    },
    {
     "name": "stderr",
     "output_type": "stream",
     "text": [
      "Processing segments...: 100%|\u001b[31m██████████\u001b[0m| 39/39 [00:00<00:00, 3032.42it/s]\n",
      "Processing segments...: 100%|\u001b[31m██████████\u001b[0m| 39/39 [00:00<00:00, 10832.97it/s]\n"
     ]
    },
    {
     "name": "stdout",
     "output_type": "stream",
     "text": [
      "Elaborating audio SITH_20220322_150007.wav...\n"
     ]
    },
    {
     "name": "stderr",
     "output_type": "stream",
     "text": [
      "Processing segments...:   0%|\u001b[31m          \u001b[0m| 0/39 [00:00<?, ?it/s]"
     ]
    },
    {
     "name": "stdout",
     "output_type": "stream",
     "text": [
      "Elaborating audio SITH_20220329_063006.wav...\n"
     ]
    },
    {
     "name": "stderr",
     "output_type": "stream",
     "text": [
      "Processing segments...: 100%|\u001b[31m██████████\u001b[0m| 39/39 [00:00<00:00, 7475.45it/s]\n",
      "Processing segments...:   0%|\u001b[31m          \u001b[0m| 0/39 [00:00<?, ?it/s]"
     ]
    },
    {
     "name": "stdout",
     "output_type": "stream",
     "text": [
      "Elaborating audio SITH_20220329_063004.wav...\n"
     ]
    },
    {
     "name": "stderr",
     "output_type": "stream",
     "text": [
      "Processing segments...: 100%|\u001b[31m██████████\u001b[0m| 39/39 [00:00<00:00, 7873.78it/s]\n",
      "Processing segments...: 100%|\u001b[31m██████████\u001b[0m| 39/39 [00:00<00:00, 5217.46it/s]"
     ]
    },
    {
     "name": "stdout",
     "output_type": "stream",
     "text": [
      "Elaborating audio SITH_20220322_153006.wav...\n"
     ]
    },
    {
     "name": "stderr",
     "output_type": "stream",
     "text": [
      "\n",
      "Processing segments...:   0%|\u001b[31m          \u001b[0m| 0/39 [00:00<?, ?it/s]"
     ]
    },
    {
     "name": "stdout",
     "output_type": "stream",
     "text": [
      "Elaborating audio NAV_20230316_081100.wav...\n"
     ]
    },
    {
     "name": "stderr",
     "output_type": "stream",
     "text": [
      "Processing segments...: 100%|\u001b[31m██████████\u001b[0m| 39/39 [00:00<00:00, 2006.67it/s]\n",
      "Processing segments...: 100%|\u001b[31m██████████\u001b[0m| 39/39 [00:00<00:00, 8444.47it/s]\n"
     ]
    },
    {
     "name": "stdout",
     "output_type": "stream",
     "text": [
      "Elaborating audio NAV_20230315_080700.wav...\n"
     ]
    },
    {
     "name": "stderr",
     "output_type": "stream",
     "text": [
      "Processing segments...:   0%|\u001b[31m          \u001b[0m| 0/39 [00:00<?, ?it/s]"
     ]
    },
    {
     "name": "stdout",
     "output_type": "stream",
     "text": [
      "Elaborating audio NAV_20230316_080400.wav...\n"
     ]
    },
    {
     "name": "stderr",
     "output_type": "stream",
     "text": [
      "Processing segments...: 100%|\u001b[31m██████████\u001b[0m| 39/39 [00:00<00:00, 1437.60it/s]\n",
      "Processing segments...: 100%|\u001b[31m██████████\u001b[0m| 38/38 [00:00<00:00, 8500.00it/s]\n"
     ]
    },
    {
     "name": "stdout",
     "output_type": "stream",
     "text": [
      "Elaborating audio NAV_20230319_080000.wav...\n"
     ]
    },
    {
     "name": "stderr",
     "output_type": "stream",
     "text": [
      "Processing segments...:   0%|\u001b[31m          \u001b[0m| 0/39 [00:00<?, ?it/s]"
     ]
    },
    {
     "name": "stdout",
     "output_type": "stream",
     "text": [
      "Elaborating audio NAV_20230317_080800.wav...\n"
     ]
    },
    {
     "name": "stderr",
     "output_type": "stream",
     "text": [
      "Processing segments...: 100%|\u001b[31m██████████\u001b[0m| 39/39 [00:00<00:00, 2693.62it/s]\n",
      "Processing segments...:   0%|\u001b[31m          \u001b[0m| 0/39 [00:00<?, ?it/s]"
     ]
    },
    {
     "name": "stdout",
     "output_type": "stream",
     "text": [
      "Elaborating audio NAV_20230316_080800.wav...\n"
     ]
    },
    {
     "name": "stderr",
     "output_type": "stream",
     "text": [
      "Processing segments...: 100%|\u001b[31m██████████\u001b[0m| 39/39 [00:00<00:00, 2808.20it/s]\n",
      "Processing segments...:   0%|\u001b[31m          \u001b[0m| 0/39 [00:00<?, ?it/s]"
     ]
    },
    {
     "name": "stdout",
     "output_type": "stream",
     "text": [
      "Elaborating audio NAV_20230318_080100.wav...\n"
     ]
    },
    {
     "name": "stderr",
     "output_type": "stream",
     "text": [
      "Processing segments...: 100%|\u001b[31m██████████\u001b[0m| 39/39 [00:00<00:00, 2654.92it/s]\n",
      "Processing segments...: 100%|\u001b[31m██████████\u001b[0m| 39/39 [00:00<00:00, 8700.02it/s]\n"
     ]
    },
    {
     "name": "stdout",
     "output_type": "stream",
     "text": [
      "Elaborating audio NAV_20230317_080300.wav...\n"
     ]
    },
    {
     "name": "stderr",
     "output_type": "stream",
     "text": [
      "Processing segments...:   0%|\u001b[31m          \u001b[0m| 0/39 [00:00<?, ?it/s]"
     ]
    },
    {
     "name": "stdout",
     "output_type": "stream",
     "text": [
      "Elaborating audio NAV_20230315_080400.wav...\n"
     ]
    },
    {
     "name": "stderr",
     "output_type": "stream",
     "text": [
      "Processing segments...: 100%|\u001b[31m██████████\u001b[0m| 39/39 [00:00<00:00, 4430.48it/s]\n",
      "Processing segments...: 100%|\u001b[31m██████████\u001b[0m| 39/39 [00:00<00:00, 8219.58it/s]\n"
     ]
    },
    {
     "name": "stdout",
     "output_type": "stream",
     "text": [
      "Elaborating audio NAV_20230317_080600.wav...\n"
     ]
    },
    {
     "name": "stderr",
     "output_type": "stream",
     "text": [
      "Processing segments...:   0%|\u001b[31m          \u001b[0m| 0/39 [00:00<?, ?it/s]"
     ]
    },
    {
     "name": "stdout",
     "output_type": "stream",
     "text": [
      "Elaborating audio NAV_20230316_080600.wav...\n"
     ]
    },
    {
     "name": "stderr",
     "output_type": "stream",
     "text": [
      "Processing segments...: 100%|\u001b[31m██████████\u001b[0m| 39/39 [00:00<00:00, 6729.38it/s]\n",
      "Processing segments...:   0%|\u001b[31m          \u001b[0m| 0/39 [00:00<?, ?it/s]"
     ]
    },
    {
     "name": "stdout",
     "output_type": "stream",
     "text": [
      "Elaborating audio NAV_20230316_080300.wav...\n"
     ]
    },
    {
     "name": "stderr",
     "output_type": "stream",
     "text": [
      "Processing segments...: 100%|\u001b[31m██████████\u001b[0m| 39/39 [00:00<00:00, 2602.67it/s]\n",
      "Processing segments...: 100%|\u001b[31m██████████\u001b[0m| 39/39 [00:00<00:00, 4918.16it/s]\n"
     ]
    },
    {
     "name": "stdout",
     "output_type": "stream",
     "text": [
      "Elaborating audio NAV_20230316_081000.wav...\n"
     ]
    },
    {
     "name": "stderr",
     "output_type": "stream",
     "text": [
      "Processing segments...:   0%|\u001b[31m          \u001b[0m| 0/39 [00:00<?, ?it/s]"
     ]
    },
    {
     "name": "stdout",
     "output_type": "stream",
     "text": [
      "Elaborating audio NAV_20230317_080900.wav...\n"
     ]
    },
    {
     "name": "stderr",
     "output_type": "stream",
     "text": [
      "Processing segments...: 100%|\u001b[31m██████████\u001b[0m| 39/39 [00:00<00:00, 8187.49it/s]\n",
      "Processing segments...:   0%|\u001b[31m          \u001b[0m| 0/39 [00:00<?, ?it/s]"
     ]
    },
    {
     "name": "stdout",
     "output_type": "stream",
     "text": [
      "Elaborating audio NAV_20230318_080500.wav...\n"
     ]
    },
    {
     "name": "stderr",
     "output_type": "stream",
     "text": [
      "Processing segments...: 100%|\u001b[31m██████████\u001b[0m| 39/39 [00:00<00:00, 8557.57it/s]\n",
      "Processing segments...:   0%|\u001b[31m          \u001b[0m| 0/39 [00:00<?, ?it/s]"
     ]
    },
    {
     "name": "stdout",
     "output_type": "stream",
     "text": [
      "Elaborating audio NAV_20230318_080900.wav...\n"
     ]
    },
    {
     "name": "stderr",
     "output_type": "stream",
     "text": [
      "Processing segments...: 100%|\u001b[31m██████████\u001b[0m| 39/39 [00:00<00:00, 1940.43it/s]\n",
      "Processing segments...: 100%|\u001b[31m██████████\u001b[0m| 39/39 [00:00<00:00, 2880.20it/s]\n"
     ]
    },
    {
     "name": "stdout",
     "output_type": "stream",
     "text": [
      "Elaborating audio NAV_20230318_081000.wav...\n"
     ]
    },
    {
     "name": "stderr",
     "output_type": "stream",
     "text": [
      "Processing segments...:   0%|\u001b[31m          \u001b[0m| 0/39 [00:00<?, ?it/s]"
     ]
    },
    {
     "name": "stdout",
     "output_type": "stream",
     "text": [
      "Elaborating audio NAV_20230316_080500.wav...\n"
     ]
    },
    {
     "name": "stderr",
     "output_type": "stream",
     "text": [
      "Processing segments...: 100%|\u001b[31m██████████\u001b[0m| 39/39 [00:00<00:00, 1439.30it/s]\n",
      "Processing segments...: 100%|\u001b[31m██████████\u001b[0m| 39/39 [00:00<00:00, 9093.22it/s]\n"
     ]
    },
    {
     "name": "stdout",
     "output_type": "stream",
     "text": [
      "Elaborating audio NAV_20230315_080200.wav...\n"
     ]
    },
    {
     "name": "stderr",
     "output_type": "stream",
     "text": [
      "Processing segments...:   0%|\u001b[31m          \u001b[0m| 0/39 [00:00<?, ?it/s]"
     ]
    },
    {
     "name": "stdout",
     "output_type": "stream",
     "text": [
      "Elaborating audio NAV_20230317_080000.wav...\n"
     ]
    },
    {
     "name": "stderr",
     "output_type": "stream",
     "text": [
      "Processing segments...: 100%|\u001b[31m██████████\u001b[0m| 39/39 [00:00<00:00, 4805.04it/s]\n",
      "Processing segments...: 100%|\u001b[31m██████████\u001b[0m| 39/39 [00:00<00:00, 10091.79it/s]\n"
     ]
    },
    {
     "name": "stdout",
     "output_type": "stream",
     "text": [
      "Elaborating audio NAV_20230319_080900.wav...\n"
     ]
    },
    {
     "name": "stderr",
     "output_type": "stream",
     "text": [
      "Processing segments...:   0%|\u001b[31m          \u001b[0m| 0/39 [00:00<?, ?it/s]"
     ]
    },
    {
     "name": "stdout",
     "output_type": "stream",
     "text": [
      "Elaborating audio NAV_20230316_080100.wav...\n"
     ]
    },
    {
     "name": "stderr",
     "output_type": "stream",
     "text": [
      "Processing segments...: 100%|\u001b[31m██████████\u001b[0m| 39/39 [00:00<00:00, 1782.07it/s]\n",
      "Processing segments...:   0%|\u001b[31m          \u001b[0m| 0/39 [00:00<?, ?it/s]"
     ]
    },
    {
     "name": "stdout",
     "output_type": "stream",
     "text": [
      "Elaborating audio NAV_20230318_080800.wav...\n"
     ]
    },
    {
     "name": "stderr",
     "output_type": "stream",
     "text": [
      "Processing segments...: 100%|\u001b[31m██████████\u001b[0m| 39/39 [00:00<00:00, 3389.79it/s]\n",
      "Processing segments...: 100%|\u001b[31m██████████\u001b[0m| 39/39 [00:00<00:00, 9324.39it/s]\n"
     ]
    },
    {
     "name": "stdout",
     "output_type": "stream",
     "text": [
      "Elaborating audio NAV_20230315_080300.wav...\n"
     ]
    },
    {
     "name": "stderr",
     "output_type": "stream",
     "text": [
      "Processing segments...: 100%|\u001b[31m██████████\u001b[0m| 39/39 [00:00<00:00, 8250.26it/s]\n"
     ]
    },
    {
     "name": "stdout",
     "output_type": "stream",
     "text": [
      "Elaborating audio NAV_20230316_080700.wav...\n"
     ]
    },
    {
     "name": "stderr",
     "output_type": "stream",
     "text": [
      "Processing segments...:   0%|\u001b[31m          \u001b[0m| 0/39 [00:00<?, ?it/s]"
     ]
    },
    {
     "name": "stdout",
     "output_type": "stream",
     "text": [
      "Elaborating audio NAV_20230316_080000.wav...\n"
     ]
    },
    {
     "name": "stderr",
     "output_type": "stream",
     "text": [
      "Processing segments...: 100%|\u001b[31m██████████\u001b[0m| 39/39 [00:00<00:00, 2487.69it/s]\n",
      "Processing segments...: 100%|\u001b[31m██████████\u001b[0m| 39/39 [00:00<00:00, 9799.19it/s]\n"
     ]
    },
    {
     "name": "stdout",
     "output_type": "stream",
     "text": [
      "Elaborating audio NAV_20230318_080600.wav...\n"
     ]
    },
    {
     "name": "stderr",
     "output_type": "stream",
     "text": [
      "Processing segments...:   0%|\u001b[31m          \u001b[0m| 0/38 [00:00<?, ?it/s]"
     ]
    },
    {
     "name": "stdout",
     "output_type": "stream",
     "text": [
      "Elaborating audio NAV_20230315_080900.wav...\n"
     ]
    },
    {
     "name": "stderr",
     "output_type": "stream",
     "text": [
      "Processing segments...: 100%|\u001b[31m██████████\u001b[0m| 38/38 [00:00<00:00, 9420.95it/s]\n",
      "Processing segments...: 100%|\u001b[31m██████████\u001b[0m| 39/39 [00:00<00:00, 5196.91it/s]\n"
     ]
    },
    {
     "name": "stdout",
     "output_type": "stream",
     "text": [
      "Elaborating audio NAV_20230317_080500.wav...\n"
     ]
    },
    {
     "name": "stderr",
     "output_type": "stream",
     "text": [
      "Processing segments...:   0%|\u001b[31m          \u001b[0m| 0/39 [00:00<?, ?it/s]"
     ]
    },
    {
     "name": "stdout",
     "output_type": "stream",
     "text": [
      "Elaborating audio NAV_20230318_081100.wav...\n"
     ]
    },
    {
     "name": "stderr",
     "output_type": "stream",
     "text": [
      "Processing segments...: 100%|\u001b[31m██████████\u001b[0m| 39/39 [00:00<00:00, 4351.63it/s]\n",
      "Processing segments...:   0%|\u001b[31m          \u001b[0m| 0/39 [00:00<?, ?it/s]"
     ]
    },
    {
     "name": "stdout",
     "output_type": "stream",
     "text": [
      "Elaborating audio NAV_20230316_080200.wav...\n"
     ]
    },
    {
     "name": "stderr",
     "output_type": "stream",
     "text": [
      "Processing segments...: 100%|\u001b[31m██████████\u001b[0m| 39/39 [00:00<00:00, 2023.38it/s]\n",
      "Processing segments...: 100%|\u001b[31m██████████\u001b[0m| 39/39 [00:00<00:00, 8419.26it/s]\n"
     ]
    },
    {
     "name": "stdout",
     "output_type": "stream",
     "text": [
      "Elaborating audio NAV_20230316_080900.wav...\n"
     ]
    },
    {
     "name": "stderr",
     "output_type": "stream",
     "text": [
      "Processing segments...: 100%|\u001b[31m██████████\u001b[0m| 39/39 [00:00<00:00, 5900.65it/s]\n"
     ]
    },
    {
     "name": "stdout",
     "output_type": "stream",
     "text": [
      "Elaborating audio NAV_20230319_080600.wav...\n"
     ]
    },
    {
     "name": "stderr",
     "output_type": "stream",
     "text": [
      "Processing segments...:   0%|\u001b[31m          \u001b[0m| 0/39 [00:00<?, ?it/s]"
     ]
    },
    {
     "name": "stdout",
     "output_type": "stream",
     "text": [
      "Elaborating audio NAV_20230319_080300.wav...\n"
     ]
    },
    {
     "name": "stderr",
     "output_type": "stream",
     "text": [
      "Processing segments...: 100%|\u001b[31m██████████\u001b[0m| 39/39 [00:00<00:00, 3449.92it/s]\n",
      "Processing segments...:   0%|\u001b[31m          \u001b[0m| 0/39 [00:00<?, ?it/s]"
     ]
    },
    {
     "name": "stdout",
     "output_type": "stream",
     "text": [
      "Elaborating audio NAV_20230318_080300.wav...\n"
     ]
    },
    {
     "name": "stderr",
     "output_type": "stream",
     "text": [
      "Processing segments...: 100%|\u001b[31m██████████\u001b[0m| 39/39 [00:00<00:00, 4198.29it/s]\n",
      "Processing segments...: 100%|\u001b[31m██████████\u001b[0m| 39/39 [00:00<00:00, 10172.12it/s]\n"
     ]
    },
    {
     "name": "stdout",
     "output_type": "stream",
     "text": [
      "Elaborating audio NAV_20230315_080600.wav...\n"
     ]
    },
    {
     "name": "stderr",
     "output_type": "stream",
     "text": [
      "Processing segments...: 100%|\u001b[31m██████████\u001b[0m| 39/39 [00:00<00:00, 9545.86it/s]\n"
     ]
    },
    {
     "name": "stdout",
     "output_type": "stream",
     "text": [
      "Elaborating audio NAV_20230315_080500.wav...\n"
     ]
    },
    {
     "name": "stderr",
     "output_type": "stream",
     "text": [
      "Processing segments...: 100%|\u001b[31m██████████\u001b[0m| 39/39 [00:00<00:00, 5806.40it/s]\n"
     ]
    },
    {
     "name": "stdout",
     "output_type": "stream",
     "text": [
      "Elaborating audio NAV_20230318_080400.wav...\n"
     ]
    },
    {
     "name": "stderr",
     "output_type": "stream",
     "text": [
      "Processing segments...:   0%|\u001b[31m          \u001b[0m| 0/39 [00:00<?, ?it/s]"
     ]
    },
    {
     "name": "stdout",
     "output_type": "stream",
     "text": [
      "Elaborating audio FEU_20190613_065100.wav...\n"
     ]
    },
    {
     "name": "stderr",
     "output_type": "stream",
     "text": [
      "Processing segments...: 100%|\u001b[31m██████████\u001b[0m| 39/39 [00:00<00:00, 5770.15it/s]\n",
      "Processing segments...:   0%|\u001b[31m          \u001b[0m| 0/39 [00:00<?, ?it/s]"
     ]
    },
    {
     "name": "stdout",
     "output_type": "stream",
     "text": [
      "Elaborating audio FEU_20190608_070100.wav...\n"
     ]
    },
    {
     "name": "stderr",
     "output_type": "stream",
     "text": [
      "Processing segments...: 100%|\u001b[31m██████████\u001b[0m| 39/39 [00:00<00:00, 2942.26it/s]\n",
      "Processing segments...: 100%|\u001b[31m██████████\u001b[0m| 39/39 [00:00<00:00, 5434.48it/s]\n"
     ]
    },
    {
     "name": "stdout",
     "output_type": "stream",
     "text": [
      "Elaborating audio FEU_20190608_045701.wav...\n"
     ]
    },
    {
     "name": "stderr",
     "output_type": "stream",
     "text": [
      "Processing segments...:   0%|\u001b[31m          \u001b[0m| 0/39 [00:00<?, ?it/s]"
     ]
    },
    {
     "name": "stdout",
     "output_type": "stream",
     "text": [
      "Elaborating audio FEU_20190613_042900.wav...\n"
     ]
    },
    {
     "name": "stderr",
     "output_type": "stream",
     "text": [
      "Processing segments...: 100%|\u001b[31m██████████\u001b[0m| 39/39 [00:00<00:00, 2258.58it/s]\n",
      "Processing segments...: 100%|\u001b[31m██████████\u001b[0m| 39/39 [00:00<00:00, 4671.38it/s]"
     ]
    },
    {
     "name": "stdout",
     "output_type": "stream",
     "text": [
      "Elaborating audio SCHG_20160531_202000.wav...\n"
     ]
    },
    {
     "name": "stderr",
     "output_type": "stream",
     "text": [
      "\n",
      "Processing segments...:   0%|\u001b[31m          \u001b[0m| 0/39 [00:00<?, ?it/s]"
     ]
    },
    {
     "name": "stdout",
     "output_type": "stream",
     "text": [
      "Elaborating audio SCHG_20160511_183002.wav...\n"
     ]
    },
    {
     "name": "stderr",
     "output_type": "stream",
     "text": [
      "Processing segments...: 100%|\u001b[31m██████████\u001b[0m| 39/39 [00:00<00:00, 5866.58it/s]\n",
      "Processing segments...:   0%|\u001b[31m          \u001b[0m| 0/39 [00:00<?, ?it/s]"
     ]
    },
    {
     "name": "stdout",
     "output_type": "stream",
     "text": [
      "Elaborating audio SCHG_20160501_034004.wav...\n"
     ]
    },
    {
     "name": "stderr",
     "output_type": "stream",
     "text": [
      "Processing segments...: 100%|\u001b[31m██████████\u001b[0m| 39/39 [00:00<00:00, 5035.64it/s]\n",
      "Processing segments...:   0%|\u001b[31m          \u001b[0m| 0/39 [00:00<?, ?it/s]"
     ]
    },
    {
     "name": "stdout",
     "output_type": "stream",
     "text": [
      "Elaborating audio SCHG_20160521_035002.wav...\n"
     ]
    },
    {
     "name": "stderr",
     "output_type": "stream",
     "text": [
      "Processing segments...: 100%|\u001b[31m██████████\u001b[0m| 39/39 [00:00<00:00, 3239.81it/s]\n",
      "Processing segments...:   0%|\u001b[31m          \u001b[0m| 0/39 [00:00<?, ?it/s]"
     ]
    },
    {
     "name": "stdout",
     "output_type": "stream",
     "text": [
      "Elaborating audio SCHG_20160531_193001.wav...\n"
     ]
    },
    {
     "name": "stderr",
     "output_type": "stream",
     "text": [
      "Processing segments...: 100%|\u001b[31m██████████\u001b[0m| 39/39 [00:00<00:00, 3692.84it/s]\n",
      "Processing segments...:   0%|\u001b[31m          \u001b[0m| 0/39 [00:00<?, ?it/s]"
     ]
    },
    {
     "name": "stdout",
     "output_type": "stream",
     "text": [
      "Elaborating audio SCHG_20160609_030000.wav...\n"
     ]
    },
    {
     "name": "stderr",
     "output_type": "stream",
     "text": [
      "Processing segments...: 100%|\u001b[31m██████████\u001b[0m| 39/39 [00:00<00:00, 7021.11it/s]\n",
      "Processing segments...:   0%|\u001b[31m          \u001b[0m| 0/39 [00:00<?, ?it/s]"
     ]
    },
    {
     "name": "stdout",
     "output_type": "stream",
     "text": [
      "Elaborating audio SCHG_20160521_050002.wav...\n"
     ]
    },
    {
     "name": "stderr",
     "output_type": "stream",
     "text": [
      "Processing segments...: 100%|\u001b[31m██████████\u001b[0m| 39/39 [00:00<00:00, 4159.85it/s]\n",
      "Processing segments...: 100%|\u001b[31m██████████\u001b[0m| 39/39 [00:00<00:00, 7371.36it/s]\n"
     ]
    },
    {
     "name": "stdout",
     "output_type": "stream",
     "text": [
      "Elaborating audio SCHG_20160620_044002.wav...\n"
     ]
    },
    {
     "name": "stderr",
     "output_type": "stream",
     "text": [
      "Processing segments...: 100%|\u001b[31m██████████\u001b[0m| 39/39 [00:00<00:00, 8912.87it/s]\n"
     ]
    },
    {
     "name": "stdout",
     "output_type": "stream",
     "text": [
      "Elaborating audio SCHG_20160501_050002.wav...\n"
     ]
    },
    {
     "name": "stderr",
     "output_type": "stream",
     "text": [
      "Processing segments...:   0%|\u001b[31m          \u001b[0m| 0/39 [00:00<?, ?it/s]"
     ]
    },
    {
     "name": "stdout",
     "output_type": "stream",
     "text": [
      "Elaborating audio SCHG_20160523_050000.wav...\n"
     ]
    },
    {
     "name": "stderr",
     "output_type": "stream",
     "text": [
      "Processing segments...: 100%|\u001b[31m██████████\u001b[0m| 39/39 [00:00<00:00, 5679.00it/s]\n",
      "Processing segments...:   0%|\u001b[31m          \u001b[0m| 0/39 [00:00<?, ?it/s]"
     ]
    },
    {
     "name": "stdout",
     "output_type": "stream",
     "text": [
      "Elaborating audio SCHG_20160620_181000.wav...\n"
     ]
    },
    {
     "name": "stderr",
     "output_type": "stream",
     "text": [
      "Processing segments...: 100%|\u001b[31m██████████\u001b[0m| 39/39 [00:00<00:00, 5653.29it/s]\n",
      "Processing segments...:   0%|\u001b[31m          \u001b[0m| 0/39 [00:00<?, ?it/s]"
     ]
    },
    {
     "name": "stdout",
     "output_type": "stream",
     "text": [
      "Elaborating audio SCHG_20160531_194000.wav...\n"
     ]
    },
    {
     "name": "stderr",
     "output_type": "stream",
     "text": [
      "Processing segments...: 100%|\u001b[31m██████████\u001b[0m| 39/39 [00:00<00:00, 3374.69it/s]\n",
      "Processing segments...:   0%|\u001b[31m          \u001b[0m| 0/39 [00:00<?, ?it/s]"
     ]
    },
    {
     "name": "stdout",
     "output_type": "stream",
     "text": [
      "Elaborating audio SCHG_20160511_044000.wav...\n"
     ]
    },
    {
     "name": "stderr",
     "output_type": "stream",
     "text": [
      "Processing segments...: 100%|\u001b[31m██████████\u001b[0m| 39/39 [00:00<00:00, 3230.08it/s]\n",
      "Processing segments...:   0%|\u001b[31m          \u001b[0m| 0/39 [00:00<?, ?it/s]"
     ]
    },
    {
     "name": "stdout",
     "output_type": "stream",
     "text": [
      "Elaborating audio SCHG_20160601_193000.wav...\n"
     ]
    },
    {
     "name": "stderr",
     "output_type": "stream",
     "text": [
      "Processing segments...: 100%|\u001b[31m██████████\u001b[0m| 39/39 [00:00<00:00, 4109.69it/s]\n",
      "Processing segments...: 100%|\u001b[31m██████████\u001b[0m| 39/39 [00:00<00:00, 5719.31it/s]"
     ]
    },
    {
     "name": "stdout",
     "output_type": "stream",
     "text": [
      "Elaborating audio SCHG_20160511_044001.wav...\n"
     ]
    },
    {
     "name": "stderr",
     "output_type": "stream",
     "text": [
      "\n",
      "Processing segments...:   0%|\u001b[31m          \u001b[0m| 0/39 [00:00<?, ?it/s]"
     ]
    },
    {
     "name": "stdout",
     "output_type": "stream",
     "text": [
      "Elaborating audio SCHG_20160521_050003.wav...\n"
     ]
    },
    {
     "name": "stderr",
     "output_type": "stream",
     "text": [
      "Processing segments...: 100%|\u001b[31m██████████\u001b[0m| 39/39 [00:00<00:00, 2980.37it/s]\n",
      "Processing segments...: 100%|\u001b[31m██████████\u001b[0m| 39/39 [00:00<00:00, 9171.22it/s]\n"
     ]
    },
    {
     "name": "stdout",
     "output_type": "stream",
     "text": [
      "Elaborating audio SCHG_20160620_044000.wav...\n"
     ]
    },
    {
     "name": "stderr",
     "output_type": "stream",
     "text": [
      "Processing segments...:   0%|\u001b[31m          \u001b[0m| 0/39 [00:00<?, ?it/s]"
     ]
    },
    {
     "name": "stdout",
     "output_type": "stream",
     "text": [
      "Elaborating audio SCHG_20160531_041000.wav...\n"
     ]
    },
    {
     "name": "stderr",
     "output_type": "stream",
     "text": [
      "Processing segments...: 100%|\u001b[31m██████████\u001b[0m| 39/39 [00:00<00:00, 7048.64it/s]\n",
      "Processing segments...:   0%|\u001b[31m          \u001b[0m| 0/39 [00:00<?, ?it/s]"
     ]
    },
    {
     "name": "stdout",
     "output_type": "stream",
     "text": [
      "Elaborating audio SCHG_20160521_050004.wav...\n"
     ]
    },
    {
     "name": "stderr",
     "output_type": "stream",
     "text": [
      "Processing segments...: 100%|\u001b[31m██████████\u001b[0m| 39/39 [00:00<00:00, 5881.13it/s]\n",
      "Processing segments...: 100%|\u001b[31m██████████\u001b[0m| 39/39 [00:00<00:00, 7908.04it/s]\n"
     ]
    },
    {
     "name": "stdout",
     "output_type": "stream",
     "text": [
      "Elaborating audio SCHG_20160620_044001.wav...\n"
     ]
    },
    {
     "name": "stderr",
     "output_type": "stream",
     "text": [
      "Processing segments...:   0%|\u001b[31m          \u001b[0m| 0/39 [00:00<?, ?it/s]"
     ]
    },
    {
     "name": "stdout",
     "output_type": "stream",
     "text": [
      "Elaborating audio SCHG_20160609_030003.wav...\n"
     ]
    },
    {
     "name": "stderr",
     "output_type": "stream",
     "text": [
      "Processing segments...: 100%|\u001b[31m██████████\u001b[0m| 39/39 [00:00<00:00, 4079.55it/s]\n",
      "Processing segments...:   0%|\u001b[31m          \u001b[0m| 0/39 [00:00<?, ?it/s]"
     ]
    },
    {
     "name": "stdout",
     "output_type": "stream",
     "text": [
      "Elaborating audio SCHG_20160511_183001.wav...\n"
     ]
    },
    {
     "name": "stderr",
     "output_type": "stream",
     "text": [
      "Processing segments...: 100%|\u001b[31m██████████\u001b[0m| 39/39 [00:00<00:00, 4372.92it/s]\n",
      "Processing segments...:   0%|\u001b[31m          \u001b[0m| 0/39 [00:00<?, ?it/s]"
     ]
    },
    {
     "name": "stdout",
     "output_type": "stream",
     "text": [
      "Elaborating audio SCHG_20160531_193002.wav...\n"
     ]
    },
    {
     "name": "stderr",
     "output_type": "stream",
     "text": [
      "Processing segments...: 100%|\u001b[31m██████████\u001b[0m| 39/39 [00:00<00:00, 2969.66it/s]\n",
      "Processing segments...:   0%|\u001b[31m          \u001b[0m| 0/39 [00:00<?, ?it/s]"
     ]
    },
    {
     "name": "stdout",
     "output_type": "stream",
     "text": [
      "Elaborating audio SCHG_20160601_034000.wav...\n"
     ]
    },
    {
     "name": "stderr",
     "output_type": "stream",
     "text": [
      "Processing segments...: 100%|\u001b[31m██████████\u001b[0m| 39/39 [00:00<00:00, 3199.25it/s]\n",
      "Processing segments...: 100%|\u001b[31m██████████\u001b[0m| 39/39 [00:00<00:00, 4125.96it/s]"
     ]
    },
    {
     "name": "stdout",
     "output_type": "stream",
     "text": [
      "Elaborating audio SCHG_20160531_193000.wav...\n"
     ]
    },
    {
     "name": "stderr",
     "output_type": "stream",
     "text": [
      "\n",
      "Processing segments...:   0%|\u001b[31m          \u001b[0m| 0/39 [00:00<?, ?it/s]"
     ]
    },
    {
     "name": "stdout",
     "output_type": "stream",
     "text": [
      "Elaborating audio SCHG_20160511_044002.wav...\n"
     ]
    },
    {
     "name": "stderr",
     "output_type": "stream",
     "text": [
      "Processing segments...: 100%|\u001b[31m██████████\u001b[0m| 39/39 [00:00<00:00, 2944.54it/s]\n",
      "Processing segments...:   0%|\u001b[31m          \u001b[0m| 0/39 [00:00<?, ?it/s]"
     ]
    },
    {
     "name": "stdout",
     "output_type": "stream",
     "text": [
      "Elaborating audio SCHG_20160521_035001.wav...\n"
     ]
    },
    {
     "name": "stderr",
     "output_type": "stream",
     "text": [
      "Processing segments...: 100%|\u001b[31m██████████\u001b[0m| 39/39 [00:00<00:00, 3381.73it/s]\n",
      "Processing segments...:   0%|\u001b[31m          \u001b[0m| 0/39 [00:00<?, ?it/s]"
     ]
    },
    {
     "name": "stdout",
     "output_type": "stream",
     "text": [
      "Elaborating audio SCHG_20160531_034001.wav...\n"
     ]
    },
    {
     "name": "stderr",
     "output_type": "stream",
     "text": [
      "Processing segments...: 100%|\u001b[31m██████████\u001b[0m| 39/39 [00:00<00:00, 3747.32it/s]\n",
      "Processing segments...:   0%|\u001b[31m          \u001b[0m| 0/39 [00:00<?, ?it/s]"
     ]
    },
    {
     "name": "stdout",
     "output_type": "stream",
     "text": [
      "Elaborating audio SCHG_20160620_035001.wav...\n"
     ]
    },
    {
     "name": "stderr",
     "output_type": "stream",
     "text": [
      "Processing segments...: 100%|\u001b[31m██████████\u001b[0m| 39/39 [00:00<00:00, 5463.16it/s]\n",
      "Processing segments...: 100%|\u001b[31m██████████\u001b[0m| 39/39 [00:00<00:00, 9530.29it/s]\n"
     ]
    },
    {
     "name": "stdout",
     "output_type": "stream",
     "text": [
      "Elaborating audio SCHG_20160609_053000.wav...\n"
     ]
    },
    {
     "name": "stderr",
     "output_type": "stream",
     "text": [
      "Processing segments...:   0%|\u001b[31m          \u001b[0m| 0/39 [00:00<?, ?it/s]"
     ]
    },
    {
     "name": "stdout",
     "output_type": "stream",
     "text": [
      "Elaborating audio SCHG_20160531_041001.wav...\n"
     ]
    },
    {
     "name": "stderr",
     "output_type": "stream",
     "text": [
      "Processing segments...: 100%|\u001b[31m██████████\u001b[0m| 39/39 [00:00<00:00, 3852.06it/s]\n",
      "Processing segments...:   0%|\u001b[31m          \u001b[0m| 0/39 [00:00<?, ?it/s]"
     ]
    },
    {
     "name": "stdout",
     "output_type": "stream",
     "text": [
      "Elaborating audio SCHG_20160609_030004.wav...\n"
     ]
    },
    {
     "name": "stderr",
     "output_type": "stream",
     "text": [
      "Processing segments...: 100%|\u001b[31m██████████\u001b[0m| 39/39 [00:00<00:00, 3107.78it/s]\n",
      "Processing segments...:   0%|\u001b[31m          \u001b[0m| 0/39 [00:00<?, ?it/s]"
     ]
    },
    {
     "name": "stdout",
     "output_type": "stream",
     "text": [
      "Elaborating audio SCHG_20160511_183004.wav...\n"
     ]
    },
    {
     "name": "stderr",
     "output_type": "stream",
     "text": [
      "Processing segments...: 100%|\u001b[31m██████████\u001b[0m| 39/39 [00:00<00:00, 2724.12it/s]\n",
      "Processing segments...: 100%|\u001b[31m██████████\u001b[0m| 39/39 [00:00<00:00, 3522.73it/s]"
     ]
    },
    {
     "name": "stdout",
     "output_type": "stream",
     "text": [
      "Elaborating audio SCHG_20160501_034001.wav...\n"
     ]
    },
    {
     "name": "stderr",
     "output_type": "stream",
     "text": [
      "\n",
      "Processing segments...:   0%|\u001b[31m          \u001b[0m| 0/39 [00:00<?, ?it/s]"
     ]
    },
    {
     "name": "stdout",
     "output_type": "stream",
     "text": [
      "Elaborating audio SCHG_20160511_023001.wav...\n"
     ]
    },
    {
     "name": "stderr",
     "output_type": "stream",
     "text": [
      "Processing segments...: 100%|\u001b[31m██████████\u001b[0m| 39/39 [00:00<00:00, 2885.53it/s]\n",
      "Processing segments...:   0%|\u001b[31m          \u001b[0m| 0/39 [00:00<?, ?it/s]"
     ]
    },
    {
     "name": "stdout",
     "output_type": "stream",
     "text": [
      "Elaborating audio SCHG_20160601_041000.wav...\n"
     ]
    },
    {
     "name": "stderr",
     "output_type": "stream",
     "text": [
      "Processing segments...: 100%|\u001b[31m██████████\u001b[0m| 39/39 [00:00<00:00, 4500.33it/s]\n",
      "Processing segments...:   0%|\u001b[31m          \u001b[0m| 0/39 [00:00<?, ?it/s]"
     ]
    },
    {
     "name": "stdout",
     "output_type": "stream",
     "text": [
      "Elaborating audio SCHG_20160511_044004.wav...\n"
     ]
    },
    {
     "name": "stderr",
     "output_type": "stream",
     "text": [
      "Processing segments...: 100%|\u001b[31m██████████\u001b[0m| 39/39 [00:00<00:00, 7444.83it/s]\n",
      "Processing segments...:   0%|\u001b[31m          \u001b[0m| 0/39 [00:00<?, ?it/s]"
     ]
    },
    {
     "name": "stdout",
     "output_type": "stream",
     "text": [
      "Elaborating audio SLOB_20230520_092000.wav...\n"
     ]
    },
    {
     "name": "stderr",
     "output_type": "stream",
     "text": [
      "Processing segments...: 100%|\u001b[31m██████████\u001b[0m| 39/39 [00:00<00:00, 41.11it/s]\n",
      "Processing segments...:   0%|\u001b[31m          \u001b[0m| 0/39 [00:00<?, ?it/s]"
     ]
    },
    {
     "name": "stdout",
     "output_type": "stream",
     "text": [
      "Elaborating audio SLOB_20230517_065200.wav...\n"
     ]
    },
    {
     "name": "stderr",
     "output_type": "stream",
     "text": [
      "Processing segments...: 100%|\u001b[31m██████████\u001b[0m| 39/39 [00:00<00:00, 41.50it/s]\n",
      "Processing segments...:   0%|\u001b[31m          \u001b[0m| 0/39 [00:00<?, ?it/s]"
     ]
    },
    {
     "name": "stdout",
     "output_type": "stream",
     "text": [
      "Elaborating audio SLOB_20230518_085700.wav...\n"
     ]
    },
    {
     "name": "stderr",
     "output_type": "stream",
     "text": [
      "Processing segments...: 100%|\u001b[31m██████████\u001b[0m| 39/39 [00:00<00:00, 42.64it/s]\n",
      "Processing segments...:   0%|\u001b[31m          \u001b[0m| 0/39 [00:00<?, ?it/s]"
     ]
    },
    {
     "name": "stdout",
     "output_type": "stream",
     "text": [
      "Elaborating audio SLOB_20230517_063300.wav...\n"
     ]
    },
    {
     "name": "stderr",
     "output_type": "stream",
     "text": [
      "Processing segments...: 100%|\u001b[31m██████████\u001b[0m| 39/39 [00:00<00:00, 43.08it/s]\n",
      "Processing segments...:   0%|\u001b[31m          \u001b[0m| 0/39 [00:00<?, ?it/s]"
     ]
    },
    {
     "name": "stdout",
     "output_type": "stream",
     "text": [
      "Elaborating audio SLOB_20230519_065700.wav...\n"
     ]
    },
    {
     "name": "stderr",
     "output_type": "stream",
     "text": [
      "Processing segments...: 100%|\u001b[31m██████████\u001b[0m| 39/39 [00:00<00:00, 42.84it/s]\n",
      "Processing segments...:   0%|\u001b[31m          \u001b[0m| 0/39 [00:00<?, ?it/s]"
     ]
    },
    {
     "name": "stdout",
     "output_type": "stream",
     "text": [
      "Elaborating audio SLOB_20230518_063000.wav...\n"
     ]
    },
    {
     "name": "stderr",
     "output_type": "stream",
     "text": [
      "Processing segments...: 100%|\u001b[31m██████████\u001b[0m| 39/39 [00:00<00:00, 42.74it/s]\n",
      "Processing segments...:   0%|\u001b[31m          \u001b[0m| 0/39 [00:00<?, ?it/s]"
     ]
    },
    {
     "name": "stdout",
     "output_type": "stream",
     "text": [
      "Elaborating audio SLOB_20230518_061400.wav...\n"
     ]
    },
    {
     "name": "stderr",
     "output_type": "stream",
     "text": [
      "Processing segments...: 100%|\u001b[31m██████████\u001b[0m| 39/39 [00:00<00:00, 42.85it/s]\n",
      "Processing segments...:   0%|\u001b[31m          \u001b[0m| 0/39 [00:00<?, ?it/s]"
     ]
    },
    {
     "name": "stdout",
     "output_type": "stream",
     "text": [
      "Elaborating audio SLOB_20230522_062200.wav...\n"
     ]
    },
    {
     "name": "stderr",
     "output_type": "stream",
     "text": [
      "Processing segments...: 100%|\u001b[31m██████████\u001b[0m| 39/39 [00:00<00:00, 41.15it/s]\n",
      "Processing segments...:   0%|\u001b[31m          \u001b[0m| 0/39 [00:00<?, ?it/s]"
     ]
    },
    {
     "name": "stdout",
     "output_type": "stream",
     "text": [
      "Elaborating audio SLOB_20230519_063700.wav...\n"
     ]
    },
    {
     "name": "stderr",
     "output_type": "stream",
     "text": [
      "Processing segments...: 100%|\u001b[31m██████████\u001b[0m| 39/39 [00:00<00:00, 42.10it/s]\n",
      "Processing segments...:   0%|\u001b[31m          \u001b[0m| 0/39 [00:00<?, ?it/s]"
     ]
    },
    {
     "name": "stdout",
     "output_type": "stream",
     "text": [
      "Elaborating audio SLOB_20230521_062000.wav...\n"
     ]
    },
    {
     "name": "stderr",
     "output_type": "stream",
     "text": [
      "Processing segments...: 100%|\u001b[31m██████████\u001b[0m| 39/39 [00:00<00:00, 42.46it/s]\n",
      "Processing segments...:   0%|\u001b[31m          \u001b[0m| 0/39 [00:00<?, ?it/s]"
     ]
    },
    {
     "name": "stdout",
     "output_type": "stream",
     "text": [
      "Elaborating audio SLOB_20230520_063500.wav...\n"
     ]
    },
    {
     "name": "stderr",
     "output_type": "stream",
     "text": [
      "Processing segments...: 100%|\u001b[31m██████████\u001b[0m| 39/39 [00:00<00:00, 41.86it/s]\n",
      "Processing segments...:   0%|\u001b[31m          \u001b[0m| 0/39 [00:00<?, ?it/s]"
     ]
    },
    {
     "name": "stdout",
     "output_type": "stream",
     "text": [
      "Elaborating audio SLOB_20230521_083600.wav...\n"
     ]
    },
    {
     "name": "stderr",
     "output_type": "stream",
     "text": [
      "Processing segments...: 100%|\u001b[31m██████████\u001b[0m| 39/39 [00:00<00:00, 42.25it/s]\n",
      "Processing segments...:   0%|\u001b[31m          \u001b[0m| 0/39 [00:00<?, ?it/s]"
     ]
    },
    {
     "name": "stdout",
     "output_type": "stream",
     "text": [
      "Elaborating audio SLOB_20230428_080300.wav...\n"
     ]
    },
    {
     "name": "stderr",
     "output_type": "stream",
     "text": [
      "Processing segments...: 100%|\u001b[31m██████████\u001b[0m| 39/39 [00:00<00:00, 41.33it/s]\n",
      "Processing segments...:   0%|\u001b[31m          \u001b[0m| 0/39 [00:00<?, ?it/s]"
     ]
    },
    {
     "name": "stdout",
     "output_type": "stream",
     "text": [
      "Elaborating audio SLOB_20230520_054200.wav...\n"
     ]
    },
    {
     "name": "stderr",
     "output_type": "stream",
     "text": [
      "Processing segments...: 100%|\u001b[31m██████████\u001b[0m| 39/39 [00:00<00:00, 41.00it/s]\n",
      "Processing segments...:   0%|\u001b[31m          \u001b[0m| 0/39 [00:00<?, ?it/s]"
     ]
    },
    {
     "name": "stdout",
     "output_type": "stream",
     "text": [
      "Elaborating audio SLOB_20230521_083800.wav...\n"
     ]
    },
    {
     "name": "stderr",
     "output_type": "stream",
     "text": [
      "Processing segments...: 100%|\u001b[31m██████████\u001b[0m| 39/39 [00:00<00:00, 41.25it/s]\n",
      "Processing segments...:   0%|\u001b[31m          \u001b[0m| 0/39 [00:00<?, ?it/s]"
     ]
    },
    {
     "name": "stdout",
     "output_type": "stream",
     "text": [
      "Elaborating audio SLOB_20230522_062000.wav...\n"
     ]
    },
    {
     "name": "stderr",
     "output_type": "stream",
     "text": [
      "Processing segments...: 100%|\u001b[31m██████████\u001b[0m| 39/39 [00:00<00:00, 40.00it/s]\n",
      "Processing segments...:   0%|\u001b[31m          \u001b[0m| 0/39 [00:00<?, ?it/s]"
     ]
    },
    {
     "name": "stdout",
     "output_type": "stream",
     "text": [
      "Elaborating audio SLOB_20230519_084200.wav...\n"
     ]
    },
    {
     "name": "stderr",
     "output_type": "stream",
     "text": [
      "Processing segments...: 100%|\u001b[31m██████████\u001b[0m| 39/39 [00:00<00:00, 41.69it/s]\n",
      "Processing segments...:   0%|\u001b[31m          \u001b[0m| 0/39 [00:00<?, ?it/s]"
     ]
    },
    {
     "name": "stdout",
     "output_type": "stream",
     "text": [
      "Elaborating audio SLOB_20230518_063200.wav...\n"
     ]
    },
    {
     "name": "stderr",
     "output_type": "stream",
     "text": [
      "Processing segments...: 100%|\u001b[31m██████████\u001b[0m| 39/39 [00:00<00:00, 40.41it/s]\n",
      "Processing segments...:   0%|\u001b[31m          \u001b[0m| 0/39 [00:00<?, ?it/s]"
     ]
    },
    {
     "name": "stdout",
     "output_type": "stream",
     "text": [
      "Elaborating audio SLOB_20230518_085500.wav...\n"
     ]
    },
    {
     "name": "stderr",
     "output_type": "stream",
     "text": [
      "Processing segments...: 100%|\u001b[31m██████████\u001b[0m| 39/39 [00:00<00:00, 41.87it/s]\n",
      "Processing segments...:   0%|\u001b[31m          \u001b[0m| 0/39 [00:00<?, ?it/s]"
     ]
    },
    {
     "name": "stdout",
     "output_type": "stream",
     "text": [
      "Elaborating audio SLOB_20230413_060800.wav...\n"
     ]
    },
    {
     "name": "stderr",
     "output_type": "stream",
     "text": [
      "Processing segments...: 100%|\u001b[31m██████████\u001b[0m| 39/39 [00:00<00:00, 42.39it/s]\n",
      "Processing segments...:   0%|\u001b[31m          \u001b[0m| 0/39 [00:00<?, ?it/s]"
     ]
    },
    {
     "name": "stdout",
     "output_type": "stream",
     "text": [
      "Elaborating audio SLOB_20230520_111500.wav...\n"
     ]
    },
    {
     "name": "stderr",
     "output_type": "stream",
     "text": [
      "Processing segments...: 100%|\u001b[31m██████████\u001b[0m| 39/39 [00:00<00:00, 42.64it/s]\n",
      "Processing segments...:   0%|\u001b[31m          \u001b[0m| 0/39 [00:00<?, ?it/s]"
     ]
    },
    {
     "name": "stdout",
     "output_type": "stream",
     "text": [
      "Elaborating audio SLOB_20230522_080700.wav...\n"
     ]
    },
    {
     "name": "stderr",
     "output_type": "stream",
     "text": [
      "Processing segments...: 100%|\u001b[31m██████████\u001b[0m| 39/39 [00:00<00:00, 41.53it/s]\n",
      "Processing segments...:   0%|\u001b[31m          \u001b[0m| 0/39 [00:00<?, ?it/s]"
     ]
    },
    {
     "name": "stdout",
     "output_type": "stream",
     "text": [
      "Elaborating audio SLOB_20230518_072700.wav...\n"
     ]
    },
    {
     "name": "stderr",
     "output_type": "stream",
     "text": [
      "Processing segments...: 100%|\u001b[31m██████████\u001b[0m| 39/39 [00:00<00:00, 41.90it/s]\n",
      "Processing segments...:   0%|\u001b[31m          \u001b[0m| 0/39 [00:00<?, ?it/s]"
     ]
    },
    {
     "name": "stdout",
     "output_type": "stream",
     "text": [
      "Elaborating audio SLOB_20230517_065000.wav...\n"
     ]
    },
    {
     "name": "stderr",
     "output_type": "stream",
     "text": [
      "Processing segments...: 100%|\u001b[31m██████████\u001b[0m| 39/39 [00:00<00:00, 41.76it/s]\n",
      "Processing segments...:   0%|\u001b[31m          \u001b[0m| 0/39 [00:00<?, ?it/s]"
     ]
    },
    {
     "name": "stdout",
     "output_type": "stream",
     "text": [
      "Elaborating audio SLOB_20230522_080500.wav...\n"
     ]
    },
    {
     "name": "stderr",
     "output_type": "stream",
     "text": [
      "Processing segments...: 100%|\u001b[31m██████████\u001b[0m| 39/39 [00:00<00:00, 41.34it/s]\n",
      "Processing segments...:   0%|\u001b[31m          \u001b[0m| 0/39 [00:00<?, ?it/s]"
     ]
    },
    {
     "name": "stdout",
     "output_type": "stream",
     "text": [
      "Elaborating audio SLOB_20230518_061200.wav...\n"
     ]
    },
    {
     "name": "stderr",
     "output_type": "stream",
     "text": [
      "Processing segments...: 100%|\u001b[31m██████████\u001b[0m| 39/39 [00:00<00:00, 39.92it/s]\n",
      "Processing segments...:   0%|\u001b[31m          \u001b[0m| 0/39 [00:00<?, ?it/s]"
     ]
    },
    {
     "name": "stdout",
     "output_type": "stream",
     "text": [
      "Elaborating audio SLOB_20230520_054000.wav...\n"
     ]
    },
    {
     "name": "stderr",
     "output_type": "stream",
     "text": [
      "Processing segments...: 100%|\u001b[31m██████████\u001b[0m| 39/39 [00:00<00:00, 41.92it/s]\n",
      "Processing segments...:   0%|\u001b[31m          \u001b[0m| 0/39 [00:00<?, ?it/s]"
     ]
    },
    {
     "name": "stdout",
     "output_type": "stream",
     "text": [
      "Elaborating audio SLOB_20230519_063500.wav...\n"
     ]
    },
    {
     "name": "stderr",
     "output_type": "stream",
     "text": [
      "Processing segments...: 100%|\u001b[31m██████████\u001b[0m| 39/39 [00:00<00:00, 42.01it/s]\n",
      "Processing segments...:   0%|\u001b[31m          \u001b[0m| 0/39 [00:00<?, ?it/s]"
     ]
    },
    {
     "name": "stdout",
     "output_type": "stream",
     "text": [
      "Elaborating audio SLOB_20230519_061500.wav...\n"
     ]
    },
    {
     "name": "stderr",
     "output_type": "stream",
     "text": [
      "Processing segments...: 100%|\u001b[31m██████████\u001b[0m| 39/39 [00:00<00:00, 41.48it/s]\n",
      "Processing segments...:   0%|\u001b[31m          \u001b[0m| 0/39 [00:00<?, ?it/s]"
     ]
    },
    {
     "name": "stdout",
     "output_type": "stream",
     "text": [
      "Elaborating audio SLOB_20230520_063700.wav...\n"
     ]
    },
    {
     "name": "stderr",
     "output_type": "stream",
     "text": [
      "Processing segments...: 100%|\u001b[31m██████████\u001b[0m| 39/39 [00:00<00:00, 41.93it/s]\n",
      "Processing segments...:   0%|\u001b[31m          \u001b[0m| 0/39 [00:00<?, ?it/s]"
     ]
    },
    {
     "name": "stdout",
     "output_type": "stream",
     "text": [
      "Elaborating audio SLOB_20230519_061700.wav...\n"
     ]
    },
    {
     "name": "stderr",
     "output_type": "stream",
     "text": [
      "Processing segments...: 100%|\u001b[31m██████████\u001b[0m| 39/39 [00:00<00:00, 41.18it/s]\n",
      "Processing segments...:   0%|\u001b[31m          \u001b[0m| 0/39 [00:00<?, ?it/s]"
     ]
    },
    {
     "name": "stdout",
     "output_type": "stream",
     "text": [
      "Elaborating audio SLOB_20230413_055300.wav...\n"
     ]
    },
    {
     "name": "stderr",
     "output_type": "stream",
     "text": [
      "Processing segments...: 100%|\u001b[31m██████████\u001b[0m| 39/39 [00:00<00:00, 41.81it/s]\n",
      "Processing segments...:   0%|\u001b[31m          \u001b[0m| 0/39 [00:00<?, ?it/s]"
     ]
    },
    {
     "name": "stdout",
     "output_type": "stream",
     "text": [
      "Elaborating audio SLOB_20230518_084000.wav...\n"
     ]
    },
    {
     "name": "stderr",
     "output_type": "stream",
     "text": [
      "Processing segments...: 100%|\u001b[31m██████████\u001b[0m| 39/39 [00:00<00:00, 41.66it/s]\n",
      "Processing segments...:   0%|\u001b[31m          \u001b[0m| 0/39 [00:00<?, ?it/s]"
     ]
    },
    {
     "name": "stdout",
     "output_type": "stream",
     "text": [
      "Elaborating audio SLOB_20230517_075500.wav...\n"
     ]
    },
    {
     "name": "stderr",
     "output_type": "stream",
     "text": [
      "Processing segments...: 100%|\u001b[31m██████████\u001b[0m| 39/39 [00:00<00:00, 40.17it/s]\n",
      "Processing segments...:   0%|\u001b[31m          \u001b[0m| 0/39 [00:00<?, ?it/s]"
     ]
    },
    {
     "name": "stdout",
     "output_type": "stream",
     "text": [
      "Elaborating audio SLOB_20230517_075700.wav...\n"
     ]
    },
    {
     "name": "stderr",
     "output_type": "stream",
     "text": [
      "Processing segments...: 100%|\u001b[31m██████████\u001b[0m| 39/39 [00:00<00:00, 41.65it/s]\n",
      "Processing segments...:   0%|\u001b[31m          \u001b[0m| 0/39 [00:00<?, ?it/s]"
     ]
    },
    {
     "name": "stdout",
     "output_type": "stream",
     "text": [
      "Elaborating audio SLOB_20230518_104200.wav...\n"
     ]
    },
    {
     "name": "stderr",
     "output_type": "stream",
     "text": [
      "Processing segments...: 100%|\u001b[31m██████████\u001b[0m| 39/39 [00:00<00:00, 42.80it/s]\n",
      "Processing segments...:   0%|\u001b[31m          \u001b[0m| 0/39 [00:00<?, ?it/s]"
     ]
    },
    {
     "name": "stdout",
     "output_type": "stream",
     "text": [
      "Elaborating audio SLOB_20230518_065500.wav...\n"
     ]
    },
    {
     "name": "stderr",
     "output_type": "stream",
     "text": [
      "Processing segments...: 100%|\u001b[31m██████████\u001b[0m| 39/39 [00:00<00:00, 43.35it/s]\n",
      "Processing segments...:   0%|\u001b[31m          \u001b[0m| 0/39 [00:00<?, ?it/s]"
     ]
    },
    {
     "name": "stdout",
     "output_type": "stream",
     "text": [
      "Elaborating audio SLOB_20230519_065500.wav...\n"
     ]
    },
    {
     "name": "stderr",
     "output_type": "stream",
     "text": [
      "Processing segments...: 100%|\u001b[31m██████████\u001b[0m| 39/39 [00:00<00:00, 41.72it/s]\n",
      "Processing segments...: 100%|\u001b[31m██████████\u001b[0m| 39/39 [00:00<00:00, 3305.40it/s]\n"
     ]
    },
    {
     "name": "stdout",
     "output_type": "stream",
     "text": [
      "Elaborating audio MOPU_20180512_065642.wav...\n"
     ]
    },
    {
     "name": "stderr",
     "output_type": "stream",
     "text": [
      "Processing segments...: 100%|\u001b[31m██████████\u001b[0m| 39/39 [00:00<00:00, 4067.99it/s]\n"
     ]
    },
    {
     "name": "stdout",
     "output_type": "stream",
     "text": [
      "Elaborating audio MOPU_20180512_064142.wav...\n"
     ]
    },
    {
     "name": "stderr",
     "output_type": "stream",
     "text": [
      "Processing segments...: 100%|\u001b[31m██████████\u001b[0m| 39/39 [00:00<00:00, 3819.41it/s]\n"
     ]
    },
    {
     "name": "stdout",
     "output_type": "stream",
     "text": [
      "Elaborating audio MOPU_20180511_152131.wav...\n"
     ]
    },
    {
     "name": "stderr",
     "output_type": "stream",
     "text": [
      "Processing segments...: 100%|\u001b[31m██████████\u001b[0m| 39/39 [00:00<00:00, 4822.74it/s]\n"
     ]
    },
    {
     "name": "stdout",
     "output_type": "stream",
     "text": [
      "Elaborating audio MOPU_20180514_101622.wav...\n"
     ]
    },
    {
     "name": "stderr",
     "output_type": "stream",
     "text": [
      "Processing segments...: 100%|\u001b[31m██████████\u001b[0m| 39/39 [00:00<00:00, 4576.76it/s]\n"
     ]
    },
    {
     "name": "stdout",
     "output_type": "stream",
     "text": [
      "Elaborating audio MOPU_20180322_092731.wav...\n"
     ]
    },
    {
     "name": "stderr",
     "output_type": "stream",
     "text": [
      "Processing segments...: 100%|\u001b[31m██████████\u001b[0m| 39/39 [00:00<00:00, 5001.77it/s]\n"
     ]
    },
    {
     "name": "stdout",
     "output_type": "stream",
     "text": [
      "Elaborating audio MOPU_20180514_100322.wav...\n"
     ]
    },
    {
     "name": "stderr",
     "output_type": "stream",
     "text": [
      "Processing segments...: 100%|\u001b[31m██████████\u001b[0m| 39/39 [00:00<00:00, 5240.86it/s]\n"
     ]
    },
    {
     "name": "stdout",
     "output_type": "stream",
     "text": [
      "Elaborating audio MOPU_20180926_070837.wav...\n"
     ]
    },
    {
     "name": "stderr",
     "output_type": "stream",
     "text": [
      "Processing segments...: 100%|\u001b[31m██████████\u001b[0m| 39/39 [00:00<00:00, 1752.96it/s]\n"
     ]
    },
    {
     "name": "stdout",
     "output_type": "stream",
     "text": [
      "Elaborating audio MOPU_20180512_060221.wav...\n"
     ]
    },
    {
     "name": "stderr",
     "output_type": "stream",
     "text": [
      "Processing segments...: 100%|\u001b[31m██████████\u001b[0m| 39/39 [00:00<00:00, 1687.41it/s]\n"
     ]
    },
    {
     "name": "stdout",
     "output_type": "stream",
     "text": [
      "Elaborating audio MOPU_20180512_060231.wav...\n"
     ]
    },
    {
     "name": "stderr",
     "output_type": "stream",
     "text": [
      "Processing segments...: 100%|\u001b[31m██████████\u001b[0m| 39/39 [00:00<00:00, 2271.79it/s]\n"
     ]
    },
    {
     "name": "stdout",
     "output_type": "stream",
     "text": [
      "Elaborating audio MOPU_20180512_060242.wav...\n"
     ]
    },
    {
     "name": "stderr",
     "output_type": "stream",
     "text": [
      "Processing segments...: 100%|\u001b[31m██████████\u001b[0m| 39/39 [00:00<00:00, 4771.40it/s]\n"
     ]
    },
    {
     "name": "stdout",
     "output_type": "stream",
     "text": [
      "Elaborating audio MOPU_20180514_101122.wav...\n"
     ]
    },
    {
     "name": "stderr",
     "output_type": "stream",
     "text": [
      "Processing segments...: 100%|\u001b[31m██████████\u001b[0m| 39/39 [00:00<00:00, 2529.85it/s]\n"
     ]
    },
    {
     "name": "stdout",
     "output_type": "stream",
     "text": [
      "Elaborating audio MOPU_20180511_202131.wav...\n"
     ]
    },
    {
     "name": "stderr",
     "output_type": "stream",
     "text": [
      "Processing segments...: 100%|\u001b[31m██████████\u001b[0m| 39/39 [00:00<00:00, 4456.80it/s]\n"
     ]
    },
    {
     "name": "stdout",
     "output_type": "stream",
     "text": [
      "Elaborating audio MOPU_20180511_152101.wav...\n"
     ]
    },
    {
     "name": "stderr",
     "output_type": "stream",
     "text": [
      "Processing segments...: 100%|\u001b[31m██████████\u001b[0m| 39/39 [00:00<00:00, 3618.02it/s]\n"
     ]
    },
    {
     "name": "stdout",
     "output_type": "stream",
     "text": [
      "Elaborating audio MOPU_20180512_064642.wav...\n"
     ]
    },
    {
     "name": "stderr",
     "output_type": "stream",
     "text": [
      "Processing segments...:   0%|\u001b[31m          \u001b[0m| 0/39 [00:00<?, ?it/s]"
     ]
    },
    {
     "name": "stdout",
     "output_type": "stream",
     "text": [
      "Elaborating audio MOPU_20180512_060258.wav...\n"
     ]
    },
    {
     "name": "stderr",
     "output_type": "stream",
     "text": [
      "Processing segments...: 100%|\u001b[31m██████████\u001b[0m| 39/39 [00:00<00:00, 3218.64it/s]\n",
      "Processing segments...:   0%|\u001b[31m          \u001b[0m| 0/39 [00:00<?, ?it/s]"
     ]
    },
    {
     "name": "stdout",
     "output_type": "stream",
     "text": [
      "Elaborating audio MOPU_20180322_092706.wav...\n"
     ]
    },
    {
     "name": "stderr",
     "output_type": "stream",
     "text": [
      "Processing segments...: 100%|\u001b[31m██████████\u001b[0m| 39/39 [00:00<00:00, 5206.83it/s]\n",
      "Processing segments...:   0%|\u001b[31m          \u001b[0m| 0/39 [00:00<?, ?it/s]"
     ]
    },
    {
     "name": "stdout",
     "output_type": "stream",
     "text": [
      "Elaborating audio MOPU_20180512_060226.wav...\n"
     ]
    },
    {
     "name": "stderr",
     "output_type": "stream",
     "text": [
      "Processing segments...: 100%|\u001b[31m██████████\u001b[0m| 39/39 [00:00<00:00, 1694.19it/s]\n",
      "Processing segments...:   0%|\u001b[31m          \u001b[0m| 0/39 [00:00<?, ?it/s]"
     ]
    },
    {
     "name": "stdout",
     "output_type": "stream",
     "text": [
      "Elaborating audio MOPU_20180512_065142.wav...\n"
     ]
    },
    {
     "name": "stderr",
     "output_type": "stream",
     "text": [
      "Processing segments...: 100%|\u001b[31m██████████\u001b[0m| 39/39 [00:00<00:00, 4306.38it/s]\n",
      "Processing segments...:   0%|\u001b[31m          \u001b[0m| 0/37 [00:00<?, ?it/s]"
     ]
    },
    {
     "name": "stdout",
     "output_type": "stream",
     "text": [
      "Elaborating audio MOPU_20180512_070242.wav...\n"
     ]
    },
    {
     "name": "stderr",
     "output_type": "stream",
     "text": [
      "Processing segments...: 100%|\u001b[31m██████████\u001b[0m| 37/37 [00:00<00:00, 4079.74it/s]\n",
      "Processing segments...:   0%|\u001b[31m          \u001b[0m| 0/39 [00:00<?, ?it/s]"
     ]
    },
    {
     "name": "stdout",
     "output_type": "stream",
     "text": [
      "Elaborating audio MOPU_20180926_070737.wav...\n"
     ]
    },
    {
     "name": "stderr",
     "output_type": "stream",
     "text": [
      "Processing segments...: 100%|\u001b[31m██████████\u001b[0m| 39/39 [00:00<00:00, 5428.53it/s]\n",
      "Processing segments...:   0%|\u001b[31m          \u001b[0m| 0/39 [00:00<?, ?it/s]"
     ]
    },
    {
     "name": "stdout",
     "output_type": "stream",
     "text": [
      "Elaborating audio MOPU_20180512_060223.wav...\n"
     ]
    },
    {
     "name": "stderr",
     "output_type": "stream",
     "text": [
      "Processing segments...: 100%|\u001b[31m██████████\u001b[0m| 39/39 [00:00<00:00, 1690.01it/s]\n",
      "Processing segments...:   0%|\u001b[31m          \u001b[0m| 0/39 [00:00<?, ?it/s]"
     ]
    },
    {
     "name": "stdout",
     "output_type": "stream",
     "text": [
      "Elaborating audio MOPU_20180926_070637.wav...\n"
     ]
    },
    {
     "name": "stderr",
     "output_type": "stream",
     "text": [
      "Processing segments...: 100%|\u001b[31m██████████\u001b[0m| 39/39 [00:00<00:00, 4700.65it/s]\n",
      "Processing segments...: 100%|\u001b[31m██████████\u001b[0m| 39/39 [00:00<00:00, 2648.31it/s]\n"
     ]
    },
    {
     "name": "stdout",
     "output_type": "stream",
     "text": [
      "Elaborating audio MOPU_20180512_060256.wav...\n"
     ]
    },
    {
     "name": "stderr",
     "output_type": "stream",
     "text": [
      "Processing segments...: 100%|\u001b[31m██████████\u001b[0m| 39/39 [00:00<00:00, 2506.98it/s]\n"
     ]
    },
    {
     "name": "stdout",
     "output_type": "stream",
     "text": [
      "Elaborating audio MOPU_20180511_202111.wav...\n"
     ]
    },
    {
     "name": "stderr",
     "output_type": "stream",
     "text": [
      "Processing segments...:   0%|\u001b[31m          \u001b[0m| 0/39 [00:00<?, ?it/s]"
     ]
    },
    {
     "name": "stdout",
     "output_type": "stream",
     "text": [
      "Elaborating audio MOPU_20180511_202106.wav...\n"
     ]
    },
    {
     "name": "stderr",
     "output_type": "stream",
     "text": [
      "Processing segments...: 100%|\u001b[31m██████████\u001b[0m| 39/39 [00:00<00:00, 1938.70it/s]\n",
      "Processing segments...:   0%|\u001b[31m          \u001b[0m| 0/39 [00:00<?, ?it/s]"
     ]
    },
    {
     "name": "stdout",
     "output_type": "stream",
     "text": [
      "Elaborating audio BIAL_20210422_051106.wav...\n"
     ]
    },
    {
     "name": "stderr",
     "output_type": "stream",
     "text": [
      "Processing segments...: 100%|\u001b[31m██████████\u001b[0m| 39/39 [00:00<00:00, 1937.74it/s]\n",
      "Processing segments...:   0%|\u001b[31m          \u001b[0m| 0/39 [00:00<?, ?it/s]"
     ]
    },
    {
     "name": "stdout",
     "output_type": "stream",
     "text": [
      "Elaborating audio BIAL_20210422_061101.wav...\n"
     ]
    },
    {
     "name": "stderr",
     "output_type": "stream",
     "text": [
      "Processing segments...: 100%|\u001b[31m██████████\u001b[0m| 39/39 [00:00<00:00, 2288.03it/s]\n",
      "Processing segments...:   0%|\u001b[31m          \u001b[0m| 0/39 [00:00<?, ?it/s]"
     ]
    },
    {
     "name": "stdout",
     "output_type": "stream",
     "text": [
      "Elaborating audio BIAL_20210522_061804.wav...\n"
     ]
    },
    {
     "name": "stderr",
     "output_type": "stream",
     "text": [
      "Processing segments...: 100%|\u001b[31m██████████\u001b[0m| 39/39 [00:00<00:00, 4512.62it/s]\n",
      "Processing segments...:   0%|\u001b[31m          \u001b[0m| 0/39 [00:00<?, ?it/s]"
     ]
    },
    {
     "name": "stdout",
     "output_type": "stream",
     "text": [
      "Elaborating audio BIAL_20210422_071109.wav...\n"
     ]
    },
    {
     "name": "stderr",
     "output_type": "stream",
     "text": [
      "Processing segments...: 100%|\u001b[31m██████████\u001b[0m| 39/39 [00:00<00:00, 6436.27it/s]\n",
      "Processing segments...: 100%|\u001b[31m██████████\u001b[0m| 39/39 [00:00<00:00, 4699.70it/s]\n"
     ]
    },
    {
     "name": "stdout",
     "output_type": "stream",
     "text": [
      "Elaborating audio BIAL_20210524_051504.wav...\n"
     ]
    },
    {
     "name": "stderr",
     "output_type": "stream",
     "text": [
      "Processing segments...:   0%|\u001b[31m          \u001b[0m| 0/39 [00:00<?, ?it/s]"
     ]
    },
    {
     "name": "stdout",
     "output_type": "stream",
     "text": [
      "Elaborating audio BIAL_20210426_050304.wav...\n"
     ]
    },
    {
     "name": "stderr",
     "output_type": "stream",
     "text": [
      "Processing segments...: 100%|\u001b[31m██████████\u001b[0m| 39/39 [00:00<00:00, 2569.15it/s]\n",
      "Processing segments...:   0%|\u001b[31m          \u001b[0m| 0/39 [00:00<?, ?it/s]"
     ]
    },
    {
     "name": "stdout",
     "output_type": "stream",
     "text": [
      "Elaborating audio BIAL_20210420_081506.wav...\n"
     ]
    },
    {
     "name": "stderr",
     "output_type": "stream",
     "text": [
      "Processing segments...: 100%|\u001b[31m██████████\u001b[0m| 39/39 [00:00<00:00, 2502.80it/s]\n",
      "Processing segments...:   0%|\u001b[31m          \u001b[0m| 0/39 [00:00<?, ?it/s]"
     ]
    },
    {
     "name": "stdout",
     "output_type": "stream",
     "text": [
      "Elaborating audio BIAL_20210430_075501.wav...\n"
     ]
    },
    {
     "name": "stderr",
     "output_type": "stream",
     "text": [
      "Processing segments...: 100%|\u001b[31m██████████\u001b[0m| 39/39 [00:00<00:00, 5216.80it/s]\n",
      "Processing segments...: 100%|\u001b[31m██████████\u001b[0m| 39/39 [00:00<00:00, 3545.02it/s]\n"
     ]
    },
    {
     "name": "stdout",
     "output_type": "stream",
     "text": [
      "Elaborating audio BIAL_20210429_075701.wav...\n"
     ]
    },
    {
     "name": "stderr",
     "output_type": "stream",
     "text": [
      "Processing segments...: 100%|\u001b[31m██████████\u001b[0m| 39/39 [00:00<00:00, 4849.48it/s]"
     ]
    },
    {
     "name": "stdout",
     "output_type": "stream",
     "text": [
      "Elaborating audio BIAL_20210420_051500.wav...\n"
     ]
    },
    {
     "name": "stderr",
     "output_type": "stream",
     "text": [
      "\n",
      "Processing segments...:   0%|\u001b[31m          \u001b[0m| 0/39 [00:00<?, ?it/s]"
     ]
    },
    {
     "name": "stdout",
     "output_type": "stream",
     "text": [
      "Elaborating audio BIAL_20210420_061501.wav...\n"
     ]
    },
    {
     "name": "stderr",
     "output_type": "stream",
     "text": [
      "Processing segments...: 100%|\u001b[31m██████████\u001b[0m| 39/39 [00:00<00:00, 3890.91it/s]\n",
      "Processing segments...: 100%|\u001b[31m██████████\u001b[0m| 39/39 [00:00<00:00, 4089.24it/s]\n"
     ]
    },
    {
     "name": "stdout",
     "output_type": "stream",
     "text": [
      "Elaborating audio BIAL_20210519_062201.wav...\n"
     ]
    },
    {
     "name": "stderr",
     "output_type": "stream",
     "text": [
      "Processing segments...:   0%|\u001b[31m          \u001b[0m| 0/39 [00:00<?, ?it/s]"
     ]
    },
    {
     "name": "stdout",
     "output_type": "stream",
     "text": [
      "Elaborating audio BIAL_20210430_045504.wav...\n"
     ]
    },
    {
     "name": "stderr",
     "output_type": "stream",
     "text": [
      "Processing segments...: 100%|\u001b[31m██████████\u001b[0m| 39/39 [00:00<00:00, 2559.70it/s]\n",
      "Processing segments...:   0%|\u001b[31m          \u001b[0m| 0/39 [00:00<?, ?it/s]"
     ]
    },
    {
     "name": "stdout",
     "output_type": "stream",
     "text": [
      "Elaborating audio BIAL_20210423_050906.wav...\n"
     ]
    },
    {
     "name": "stderr",
     "output_type": "stream",
     "text": [
      "Processing segments...: 100%|\u001b[31m██████████\u001b[0m| 39/39 [00:00<00:00, 1956.60it/s]\n",
      "Processing segments...:   0%|\u001b[31m          \u001b[0m| 0/39 [00:00<?, ?it/s]"
     ]
    },
    {
     "name": "stdout",
     "output_type": "stream",
     "text": [
      "Elaborating audio BIAL_20210522_071804.wav...\n"
     ]
    },
    {
     "name": "stderr",
     "output_type": "stream",
     "text": [
      "Processing segments...: 100%|\u001b[31m██████████\u001b[0m| 39/39 [00:00<00:00, 7464.20it/s]\n",
      "Processing segments...: 100%|\u001b[31m██████████\u001b[0m| 39/39 [00:00<00:00, 2743.21it/s]\n"
     ]
    },
    {
     "name": "stdout",
     "output_type": "stream",
     "text": [
      "Elaborating audio BIAL_20210420_061502.wav...\n"
     ]
    },
    {
     "name": "stderr",
     "output_type": "stream",
     "text": [
      "Processing segments...:   0%|\u001b[31m          \u001b[0m| 0/39 [00:00<?, ?it/s]"
     ]
    },
    {
     "name": "stdout",
     "output_type": "stream",
     "text": [
      "Elaborating audio BIAL_20210519_042204.wav...\n"
     ]
    },
    {
     "name": "stderr",
     "output_type": "stream",
     "text": [
      "Processing segments...: 100%|\u001b[31m██████████\u001b[0m| 39/39 [00:00<00:00, 3142.71it/s]\n",
      "Processing segments...:   0%|\u001b[31m          \u001b[0m| 0/39 [00:00<?, ?it/s]"
     ]
    },
    {
     "name": "stdout",
     "output_type": "stream",
     "text": [
      "Elaborating audio BIAL_20210423_070904.wav...\n"
     ]
    },
    {
     "name": "stderr",
     "output_type": "stream",
     "text": [
      "Processing segments...: 100%|\u001b[31m██████████\u001b[0m| 39/39 [00:00<00:00, 2573.52it/s]\n",
      "Processing segments...:   0%|\u001b[31m          \u001b[0m| 0/39 [00:00<?, ?it/s]"
     ]
    },
    {
     "name": "stdout",
     "output_type": "stream",
     "text": [
      "Elaborating audio BIAL_20210423_060904.wav...\n"
     ]
    },
    {
     "name": "stderr",
     "output_type": "stream",
     "text": [
      "Processing segments...: 100%|\u001b[31m██████████\u001b[0m| 39/39 [00:00<00:00, 3001.65it/s]\n",
      "Processing segments...:   0%|\u001b[31m          \u001b[0m| 0/39 [00:00<?, ?it/s]"
     ]
    },
    {
     "name": "stdout",
     "output_type": "stream",
     "text": [
      "Elaborating audio BIAL_20210524_041504.wav...\n"
     ]
    },
    {
     "name": "stderr",
     "output_type": "stream",
     "text": [
      "Processing segments...: 100%|\u001b[31m██████████\u001b[0m| 39/39 [00:00<00:00, 5298.75it/s]\n",
      "Processing segments...: 100%|\u001b[31m██████████\u001b[0m| 39/39 [00:00<00:00, 6250.11it/s]\n"
     ]
    },
    {
     "name": "stdout",
     "output_type": "stream",
     "text": [
      "Elaborating audio BIAL_20210426_070304.wav...\n"
     ]
    },
    {
     "name": "stderr",
     "output_type": "stream",
     "text": [
      "Processing segments...:   0%|\u001b[31m          \u001b[0m| 0/39 [00:00<?, ?it/s]"
     ]
    },
    {
     "name": "stdout",
     "output_type": "stream",
     "text": [
      "Elaborating audio BIAL_20210519_062204.wav...\n"
     ]
    },
    {
     "name": "stderr",
     "output_type": "stream",
     "text": [
      "Processing segments...: 100%|\u001b[31m██████████\u001b[0m| 39/39 [00:00<00:00, 2722.80it/s]\n",
      "Processing segments...:   0%|\u001b[31m          \u001b[0m| 0/39 [00:00<?, ?it/s]"
     ]
    },
    {
     "name": "stdout",
     "output_type": "stream",
     "text": [
      "Elaborating audio BIAL_20210429_065701.wav...\n"
     ]
    },
    {
     "name": "stderr",
     "output_type": "stream",
     "text": [
      "Processing segments...: 100%|\u001b[31m██████████\u001b[0m| 39/39 [00:00<00:00, 3427.08it/s]\n",
      "Processing segments...: 100%|\u001b[31m██████████\u001b[0m| 39/39 [00:00<00:00, 4581.88it/s]\n"
     ]
    },
    {
     "name": "stdout",
     "output_type": "stream",
     "text": [
      "Elaborating audio BIAL_20210423_080905.wav...\n"
     ]
    },
    {
     "name": "stderr",
     "output_type": "stream",
     "text": [
      "Processing segments...:   0%|\u001b[31m          \u001b[0m| 0/39 [00:00<?, ?it/s]"
     ]
    },
    {
     "name": "stdout",
     "output_type": "stream",
     "text": [
      "Elaborating audio BIAL_20210520_072001.wav...\n"
     ]
    },
    {
     "name": "stderr",
     "output_type": "stream",
     "text": [
      "Processing segments...: 100%|\u001b[31m██████████\u001b[0m| 39/39 [00:00<00:00, 7177.93it/s]\n",
      "Processing segments...:   0%|\u001b[31m          \u001b[0m| 0/39 [00:00<?, ?it/s]"
     ]
    },
    {
     "name": "stdout",
     "output_type": "stream",
     "text": [
      "Elaborating audio BIAL_20210426_050306.wav...\n"
     ]
    },
    {
     "name": "stderr",
     "output_type": "stream",
     "text": [
      "Processing segments...: 100%|\u001b[31m██████████\u001b[0m| 39/39 [00:00<00:00, 2364.42it/s]\n",
      "Processing segments...: 100%|\u001b[31m██████████\u001b[0m| 39/39 [00:00<00:00, 8792.14it/s]\n"
     ]
    },
    {
     "name": "stdout",
     "output_type": "stream",
     "text": [
      "Elaborating audio BIAL_20210518_062301.wav...\n"
     ]
    },
    {
     "name": "stderr",
     "output_type": "stream",
     "text": [
      "Processing segments...:   0%|\u001b[31m          \u001b[0m| 0/39 [00:00<?, ?it/s]"
     ]
    },
    {
     "name": "stdout",
     "output_type": "stream",
     "text": [
      "Elaborating audio BIAL_20210423_050904.wav...\n"
     ]
    },
    {
     "name": "stderr",
     "output_type": "stream",
     "text": [
      "Processing segments...: 100%|\u001b[31m██████████\u001b[0m| 39/39 [00:00<00:00, 3279.76it/s]\n",
      "Processing segments...:   0%|\u001b[31m          \u001b[0m| 0/39 [00:00<?, ?it/s]"
     ]
    },
    {
     "name": "stdout",
     "output_type": "stream",
     "text": [
      "Elaborating audio BIAL_20210422_061107.wav...\n"
     ]
    },
    {
     "name": "stderr",
     "output_type": "stream",
     "text": [
      "Processing segments...: 100%|\u001b[31m██████████\u001b[0m| 39/39 [00:00<00:00, 2580.05it/s]\n",
      "Processing segments...: 100%|\u001b[31m██████████\u001b[0m| 39/39 [00:00<00:00, 3779.00it/s]\n"
     ]
    },
    {
     "name": "stdout",
     "output_type": "stream",
     "text": [
      "Elaborating audio BIAL_20210519_072201.wav...\n"
     ]
    },
    {
     "name": "stderr",
     "output_type": "stream",
     "text": [
      "Processing segments...:   0%|\u001b[31m          \u001b[0m| 0/39 [00:00<?, ?it/s]"
     ]
    },
    {
     "name": "stdout",
     "output_type": "stream",
     "text": [
      "Elaborating audio BIAL_20210420_071503.wav...\n"
     ]
    },
    {
     "name": "stderr",
     "output_type": "stream",
     "text": [
      "Processing segments...: 100%|\u001b[31m██████████\u001b[0m| 39/39 [00:00<00:00, 3260.21it/s]\n",
      "Processing segments...: 100%|\u001b[31m██████████\u001b[0m| 39/39 [00:00<00:00, 6252.74it/s]\n"
     ]
    },
    {
     "name": "stdout",
     "output_type": "stream",
     "text": [
      "Elaborating audio BIAL_20210519_072204.wav...\n"
     ]
    },
    {
     "name": "stderr",
     "output_type": "stream",
     "text": [
      "Processing segments...:   0%|\u001b[31m          \u001b[0m| 0/39 [00:00<?, ?it/s]"
     ]
    },
    {
     "name": "stdout",
     "output_type": "stream",
     "text": [
      "Elaborating audio BIAL_20210518_052304.wav...\n"
     ]
    },
    {
     "name": "stderr",
     "output_type": "stream",
     "text": [
      "Processing segments...: 100%|\u001b[31m██████████\u001b[0m| 39/39 [00:00<00:00, 3850.52it/s]\n",
      "Processing segments...:   0%|\u001b[31m          \u001b[0m| 0/39 [00:00<?, ?it/s]"
     ]
    },
    {
     "name": "stdout",
     "output_type": "stream",
     "text": [
      "Elaborating audio BIAL_20210426_060302.wav...\n"
     ]
    },
    {
     "name": "stderr",
     "output_type": "stream",
     "text": [
      "Processing segments...: 100%|\u001b[31m██████████\u001b[0m| 39/39 [00:00<00:00, 3086.67it/s]\n",
      "Processing segments...: 100%|\u001b[31m██████████\u001b[0m| 39/39 [00:00<00:00, 9053.46it/s]\n"
     ]
    },
    {
     "name": "stdout",
     "output_type": "stream",
     "text": [
      "Elaborating audio BIAL_20210521_071901.wav...\n"
     ]
    },
    {
     "name": "stderr",
     "output_type": "stream",
     "text": [
      "Processing segments...:   0%|\u001b[31m          \u001b[0m| 0/39 [00:00<?, ?it/s]"
     ]
    },
    {
     "name": "stdout",
     "output_type": "stream",
     "text": [
      "Elaborating audio BIAL_20210429_045701.wav...\n"
     ]
    },
    {
     "name": "stderr",
     "output_type": "stream",
     "text": [
      "Processing segments...: 100%|\u001b[31m██████████\u001b[0m| 39/39 [00:00<00:00, 3535.29it/s]\n",
      "Processing segments...:   0%|\u001b[31m          \u001b[0m| 0/39 [00:00<?, ?it/s]"
     ]
    },
    {
     "name": "stdout",
     "output_type": "stream",
     "text": [
      "Elaborating audio BIAL_20210422_081102.wav...\n"
     ]
    },
    {
     "name": "stderr",
     "output_type": "stream",
     "text": [
      "Processing segments...: 100%|\u001b[31m██████████\u001b[0m| 39/39 [00:00<00:00, 2745.33it/s]\n",
      "Processing segments...:   0%|\u001b[31m          \u001b[0m| 0/39 [00:00<?, ?it/s]"
     ]
    },
    {
     "name": "stdout",
     "output_type": "stream",
     "text": [
      "Elaborating audio BIAL_20210524_041501.wav...\n"
     ]
    },
    {
     "name": "stderr",
     "output_type": "stream",
     "text": [
      "Processing segments...: 100%|\u001b[31m██████████\u001b[0m| 39/39 [00:00<00:00, 4377.72it/s]\n",
      "Processing segments...: 100%|\u001b[31m██████████\u001b[0m| 39/39 [00:00<00:00, 6666.31it/s]\n"
     ]
    },
    {
     "name": "stdout",
     "output_type": "stream",
     "text": [
      "Elaborating audio BIAL_20210425_050506.wav...\n"
     ]
    },
    {
     "name": "stderr",
     "output_type": "stream",
     "text": [
      "Processing segments...:   0%|\u001b[31m          \u001b[0m| 0/39 [00:00<?, ?it/s]"
     ]
    },
    {
     "name": "stdout",
     "output_type": "stream",
     "text": [
      "Elaborating audio BIAL_20210426_080304.wav...\n"
     ]
    },
    {
     "name": "stderr",
     "output_type": "stream",
     "text": [
      "Processing segments...: 100%|\u001b[31m██████████\u001b[0m| 39/39 [00:00<00:00, 8192.41it/s]\n",
      "Processing segments...:   0%|\u001b[31m          \u001b[0m| 0/39 [00:00<?, ?it/s]"
     ]
    },
    {
     "name": "stdout",
     "output_type": "stream",
     "text": [
      "Elaborating audio BIAL_20210423_060905.wav...\n"
     ]
    },
    {
     "name": "stderr",
     "output_type": "stream",
     "text": [
      "Processing segments...: 100%|\u001b[31m██████████\u001b[0m| 39/39 [00:00<00:00, 1841.43it/s]\n",
      "Processing segments...:   0%|\u001b[31m          \u001b[0m| 0/39 [00:00<?, ?it/s]"
     ]
    },
    {
     "name": "stdout",
     "output_type": "stream",
     "text": [
      "Elaborating audio BIAL_20210524_071504.wav...\n"
     ]
    },
    {
     "name": "stderr",
     "output_type": "stream",
     "text": [
      "Processing segments...: 100%|\u001b[31m██████████\u001b[0m| 39/39 [00:00<00:00, 2578.83it/s]\n",
      "Processing segments...:   0%|\u001b[31m          \u001b[0m| 0/39 [00:00<?, ?it/s]"
     ]
    },
    {
     "name": "stdout",
     "output_type": "stream",
     "text": [
      "Elaborating audio BIAL_20210524_061504.wav...\n"
     ]
    },
    {
     "name": "stderr",
     "output_type": "stream",
     "text": [
      "Processing segments...: 100%|\u001b[31m██████████\u001b[0m| 39/39 [00:00<00:00, 5648.80it/s]\n",
      "Processing segments...:   0%|\u001b[31m          \u001b[0m| 0/39 [00:00<?, ?it/s]"
     ]
    },
    {
     "name": "stdout",
     "output_type": "stream",
     "text": [
      "Elaborating audio BIAL_20210519_042201.wav...\n"
     ]
    },
    {
     "name": "stderr",
     "output_type": "stream",
     "text": [
      "Processing segments...: 100%|\u001b[31m██████████\u001b[0m| 39/39 [00:00<00:00, 4033.48it/s]\n",
      "Processing segments...:   0%|\u001b[31m          \u001b[0m| 0/39 [00:00<?, ?it/s]"
     ]
    },
    {
     "name": "stdout",
     "output_type": "stream",
     "text": [
      "Elaborating audio BIAL_20210520_042004.wav...\n"
     ]
    },
    {
     "name": "stderr",
     "output_type": "stream",
     "text": [
      "Processing segments...: 100%|\u001b[31m██████████\u001b[0m| 39/39 [00:00<00:00, 5989.01it/s]\n",
      "Processing segments...: 100%|\u001b[31m██████████\u001b[0m| 39/39 [00:00<00:00, 4566.15it/s]\n"
     ]
    },
    {
     "name": "stdout",
     "output_type": "stream",
     "text": [
      "Elaborating audio BIAL_20210519_052201.wav...\n"
     ]
    },
    {
     "name": "stderr",
     "output_type": "stream",
     "text": [
      "Processing segments...:   0%|\u001b[31m          \u001b[0m| 0/39 [00:00<?, ?it/s]"
     ]
    },
    {
     "name": "stdout",
     "output_type": "stream",
     "text": [
      "Elaborating audio BIAL_20210430_065501.wav...\n"
     ]
    },
    {
     "name": "stderr",
     "output_type": "stream",
     "text": [
      "Processing segments...: 100%|\u001b[31m██████████\u001b[0m| 39/39 [00:00<00:00, 6883.14it/s]\n",
      "Processing segments...:   0%|\u001b[31m          \u001b[0m| 0/39 [00:00<?, ?it/s]"
     ]
    },
    {
     "name": "stdout",
     "output_type": "stream",
     "text": [
      "Elaborating audio BIAL_20210518_072304.wav...\n"
     ]
    },
    {
     "name": "stderr",
     "output_type": "stream",
     "text": [
      "Processing segments...: 100%|\u001b[31m██████████\u001b[0m| 39/39 [00:00<00:00, 3608.28it/s]\n",
      "Processing segments...:   0%|\u001b[31m          \u001b[0m| 0/39 [00:00<?, ?it/s]"
     ]
    },
    {
     "name": "stdout",
     "output_type": "stream",
     "text": [
      "Elaborating audio BIAL_20210420_081505.wav...\n"
     ]
    },
    {
     "name": "stderr",
     "output_type": "stream",
     "text": [
      "Processing segments...: 100%|\u001b[31m██████████\u001b[0m| 39/39 [00:00<00:00, 2546.12it/s]\n",
      "Processing segments...: 100%|\u001b[31m██████████\u001b[0m| 39/39 [00:00<00:00, 5006.97it/s]\n"
     ]
    },
    {
     "name": "stdout",
     "output_type": "stream",
     "text": [
      "Elaborating audio BIAL_20210518_042304.wav...\n"
     ]
    },
    {
     "name": "stderr",
     "output_type": "stream",
     "text": [
      "Processing segments...: 100%|\u001b[31m██████████\u001b[0m| 39/39 [00:00<00:00, 2634.44it/s]"
     ]
    },
    {
     "name": "stdout",
     "output_type": "stream",
     "text": [
      "Elaborating audio BIAL_20210422_081103.wav...\n"
     ]
    },
    {
     "name": "stderr",
     "output_type": "stream",
     "text": [
      "\n",
      "Processing segments...:   0%|\u001b[31m          \u001b[0m| 0/39 [00:00<?, ?it/s]"
     ]
    },
    {
     "name": "stdout",
     "output_type": "stream",
     "text": [
      "Elaborating audio BIAL_20210426_060301.wav...\n"
     ]
    },
    {
     "name": "stderr",
     "output_type": "stream",
     "text": [
      "Processing segments...: 100%|\u001b[31m██████████\u001b[0m| 39/39 [00:00<00:00, 2819.48it/s]\n",
      "Processing segments...:   0%|\u001b[31m          \u001b[0m| 0/39 [00:00<?, ?it/s]"
     ]
    },
    {
     "name": "stdout",
     "output_type": "stream",
     "text": [
      "Elaborating audio BIAL_20210518_072301.wav...\n"
     ]
    },
    {
     "name": "stderr",
     "output_type": "stream",
     "text": [
      "Processing segments...: 100%|\u001b[31m██████████\u001b[0m| 39/39 [00:00<00:00, 6323.07it/s]\n",
      "Processing segments...:   0%|\u001b[31m          \u001b[0m| 0/39 [00:00<?, ?it/s]"
     ]
    },
    {
     "name": "stdout",
     "output_type": "stream",
     "text": [
      "Elaborating audio BIAL_20210524_061501.wav...\n"
     ]
    },
    {
     "name": "stderr",
     "output_type": "stream",
     "text": [
      "Processing segments...: 100%|\u001b[31m██████████\u001b[0m| 39/39 [00:00<00:00, 3156.05it/s]\n",
      "Processing segments...:   0%|\u001b[31m          \u001b[0m| 0/39 [00:00<?, ?it/s]"
     ]
    },
    {
     "name": "stdout",
     "output_type": "stream",
     "text": [
      "Elaborating audio BIAL_20210423_070906.wav...\n"
     ]
    },
    {
     "name": "stderr",
     "output_type": "stream",
     "text": [
      "Processing segments...: 100%|\u001b[31m██████████\u001b[0m| 39/39 [00:00<00:00, 4585.48it/s]\n",
      "Processing segments...:   0%|\u001b[31m          \u001b[0m| 0/39 [00:00<?, ?it/s]"
     ]
    },
    {
     "name": "stdout",
     "output_type": "stream",
     "text": [
      "Elaborating audio BIAL_20210429_055705.wav...\n"
     ]
    },
    {
     "name": "stderr",
     "output_type": "stream",
     "text": [
      "Processing segments...: 100%|\u001b[31m██████████\u001b[0m| 39/39 [00:00<00:00, 4661.27it/s]\n",
      "Processing segments...: 100%|\u001b[31m██████████\u001b[0m| 39/39 [00:00<00:00, 3137.10it/s]\n"
     ]
    },
    {
     "name": "stdout",
     "output_type": "stream",
     "text": [
      "Elaborating audio BIAL_20210518_052301.wav...\n"
     ]
    },
    {
     "name": "stderr",
     "output_type": "stream",
     "text": [
      "Processing segments...:   0%|\u001b[31m          \u001b[0m| 0/39 [00:00<?, ?it/s]"
     ]
    },
    {
     "name": "stdout",
     "output_type": "stream",
     "text": [
      "Elaborating audio BIAL_20210420_051506.wav...\n"
     ]
    },
    {
     "name": "stderr",
     "output_type": "stream",
     "text": [
      "Processing segments...: 100%|\u001b[31m██████████\u001b[0m| 39/39 [00:00<00:00, 2124.50it/s]\n",
      "Processing segments...:   0%|\u001b[31m          \u001b[0m| 0/39 [00:00<?, ?it/s]"
     ]
    },
    {
     "name": "stdout",
     "output_type": "stream",
     "text": [
      "Elaborating audio BIAL_20210422_071108.wav...\n"
     ]
    },
    {
     "name": "stderr",
     "output_type": "stream",
     "text": [
      "Processing segments...: 100%|\u001b[31m██████████\u001b[0m| 39/39 [00:00<00:00, 2435.25it/s]\n",
      "Processing segments...:   0%|\u001b[31m          \u001b[0m| 0/39 [00:00<?, ?it/s]"
     ]
    },
    {
     "name": "stdout",
     "output_type": "stream",
     "text": [
      "Elaborating audio BIAL_20210429_045704.wav...\n"
     ]
    },
    {
     "name": "stderr",
     "output_type": "stream",
     "text": [
      "Processing segments...: 100%|\u001b[31m██████████\u001b[0m| 39/39 [00:00<00:00, 2779.53it/s]\n",
      "Processing segments...: 100%|\u001b[31m██████████\u001b[0m| 39/39 [00:00<00:00, 9374.09it/s]\n"
     ]
    },
    {
     "name": "stdout",
     "output_type": "stream",
     "text": [
      "Elaborating audio BIAL_20210519_052204.wav...\n"
     ]
    },
    {
     "name": "stderr",
     "output_type": "stream",
     "text": [
      "Processing segments...:   0%|\u001b[31m          \u001b[0m| 0/39 [00:00<?, ?it/s]"
     ]
    },
    {
     "name": "stdout",
     "output_type": "stream",
     "text": [
      "Elaborating audio BIAL_20210518_042301.wav...\n"
     ]
    },
    {
     "name": "stderr",
     "output_type": "stream",
     "text": [
      "Processing segments...: 100%|\u001b[31m██████████\u001b[0m| 39/39 [00:00<00:00, 2288.06it/s]\n",
      "Processing segments...:   0%|\u001b[31m          \u001b[0m| 0/39 [00:00<?, ?it/s]"
     ]
    },
    {
     "name": "stdout",
     "output_type": "stream",
     "text": [
      "Elaborating audio BIAL_20210422_051104.wav...\n"
     ]
    },
    {
     "name": "stderr",
     "output_type": "stream",
     "text": [
      "Processing segments...: 100%|\u001b[31m██████████\u001b[0m| 39/39 [00:00<00:00, 2231.16it/s]\n",
      "Processing segments...:   0%|\u001b[31m          \u001b[0m| 0/39 [00:00<?, ?it/s]"
     ]
    },
    {
     "name": "stdout",
     "output_type": "stream",
     "text": [
      "Elaborating audio BIAL_20210520_052001.wav...\n"
     ]
    },
    {
     "name": "stderr",
     "output_type": "stream",
     "text": [
      "Processing segments...: 100%|\u001b[31m██████████\u001b[0m| 39/39 [00:00<00:00, 9895.22it/s]\n",
      "Processing segments...:   0%|\u001b[31m          \u001b[0m| 0/39 [00:00<?, ?it/s]"
     ]
    },
    {
     "name": "stdout",
     "output_type": "stream",
     "text": [
      "Elaborating audio BIAL_20210430_045501.wav...\n"
     ]
    },
    {
     "name": "stderr",
     "output_type": "stream",
     "text": [
      "Processing segments...: 100%|\u001b[31m██████████\u001b[0m| 39/39 [00:00<00:00, 3455.02it/s]\n",
      "Processing segments...: 100%|\u001b[31m██████████\u001b[0m| 39/39 [00:00<00:00, 4106.08it/s]"
     ]
    },
    {
     "name": "stdout",
     "output_type": "stream",
     "text": [
      "Elaborating audio BIAL_20210520_042001.wav...\n"
     ]
    },
    {
     "name": "stderr",
     "output_type": "stream",
     "text": [
      "\n",
      "Processing segments...: 100%|\u001b[31m██████████\u001b[0m| 39/39 [00:00<00:00, 6857.46it/s]"
     ]
    },
    {
     "name": "stdout",
     "output_type": "stream",
     "text": [
      "Elaborating audio BIAL_20210520_052004.wav...\n"
     ]
    },
    {
     "name": "stderr",
     "output_type": "stream",
     "text": [
      "\n"
     ]
    }
   ],
   "source": [
    "generate_segments(WABAD_AUDIO_SOURCE, WABAD_SEGMENTS_PATH, true_segments_wabad, audio_info_wabad, generate_None=False)"
   ]
  },
  {
   "cell_type": "code",
   "execution_count": 47,
   "metadata": {},
   "outputs": [
    {
     "data": {
      "text/html": [
       "<div>\n",
       "<style scoped>\n",
       "    .dataframe tbody tr th:only-of-type {\n",
       "        vertical-align: middle;\n",
       "    }\n",
       "\n",
       "    .dataframe tbody tr th {\n",
       "        vertical-align: top;\n",
       "    }\n",
       "\n",
       "    .dataframe thead th {\n",
       "        text-align: right;\n",
       "    }\n",
       "</style>\n",
       "<table border=\"1\" class=\"dataframe\">\n",
       "  <thead>\n",
       "    <tr style=\"text-align: right;\">\n",
       "      <th></th>\n",
       "      <th>Species</th>\n",
       "      <th>Count</th>\n",
       "      <th>Count WABAD FR</th>\n",
       "    </tr>\n",
       "  </thead>\n",
       "  <tbody>\n",
       "    <tr>\n",
       "      <th>2</th>\n",
       "      <td>Regulus regulus_Goldcrest</td>\n",
       "      <td>550</td>\n",
       "      <td>1198</td>\n",
       "    </tr>\n",
       "    <tr>\n",
       "      <th>1</th>\n",
       "      <td>Periparus ater_Coal Tit</td>\n",
       "      <td>317</td>\n",
       "      <td>3698</td>\n",
       "    </tr>\n",
       "    <tr>\n",
       "      <th>0</th>\n",
       "      <td>Muscicapa striata_Spotted Flycatcher</td>\n",
       "      <td>256</td>\n",
       "      <td>158</td>\n",
       "    </tr>\n",
       "    <tr>\n",
       "      <th>8</th>\n",
       "      <td>Turdus merula_Eurasian Blackbird</td>\n",
       "      <td>155</td>\n",
       "      <td>8318</td>\n",
       "    </tr>\n",
       "    <tr>\n",
       "      <th>5</th>\n",
       "      <td>Certhia familiaris_Eurasian Treecreeper</td>\n",
       "      <td>154</td>\n",
       "      <td>258</td>\n",
       "    </tr>\n",
       "    <tr>\n",
       "      <th>9</th>\n",
       "      <td>Loxia curvirostra_Common Crossbill</td>\n",
       "      <td>148</td>\n",
       "      <td>125</td>\n",
       "    </tr>\n",
       "    <tr>\n",
       "      <th>13</th>\n",
       "      <td>Lophophanes cristatus_Crested Tit</td>\n",
       "      <td>115</td>\n",
       "      <td>359</td>\n",
       "    </tr>\n",
       "    <tr>\n",
       "      <th>11</th>\n",
       "      <td>Turdus viscivorus_Mistle Thrush</td>\n",
       "      <td>112</td>\n",
       "      <td>769</td>\n",
       "    </tr>\n",
       "    <tr>\n",
       "      <th>3</th>\n",
       "      <td>Dryocopus martius_Black Woodpecker</td>\n",
       "      <td>51</td>\n",
       "      <td>112</td>\n",
       "    </tr>\n",
       "    <tr>\n",
       "      <th>10</th>\n",
       "      <td>Dendrocopos major_Great Spotted Woodpecker</td>\n",
       "      <td>37</td>\n",
       "      <td>638</td>\n",
       "    </tr>\n",
       "    <tr>\n",
       "      <th>7</th>\n",
       "      <td>Pyrrhula pyrrhula_Eurasian Bullfinch</td>\n",
       "      <td>29</td>\n",
       "      <td>29</td>\n",
       "    </tr>\n",
       "    <tr>\n",
       "      <th>6</th>\n",
       "      <td>Phylloscopus trochilus_Willow Warbler</td>\n",
       "      <td>11</td>\n",
       "      <td>1572</td>\n",
       "    </tr>\n",
       "    <tr>\n",
       "      <th>12</th>\n",
       "      <td>Spinus spinus_Eurasian Siskin</td>\n",
       "      <td>9</td>\n",
       "      <td>632</td>\n",
       "    </tr>\n",
       "    <tr>\n",
       "      <th>4</th>\n",
       "      <td>Poecile palustris_Marsh Tit</td>\n",
       "      <td>3</td>\n",
       "      <td>31</td>\n",
       "    </tr>\n",
       "    <tr>\n",
       "      <th>14</th>\n",
       "      <td>Prunella modularis_Dunnock</td>\n",
       "      <td>2</td>\n",
       "      <td>270</td>\n",
       "    </tr>\n",
       "  </tbody>\n",
       "</table>\n",
       "</div>"
      ],
      "text/plain": [
       "                                       Species  Count  Count WABAD FR\n",
       "2                    Regulus regulus_Goldcrest    550            1198\n",
       "1                      Periparus ater_Coal Tit    317            3698\n",
       "0         Muscicapa striata_Spotted Flycatcher    256             158\n",
       "8             Turdus merula_Eurasian Blackbird    155            8318\n",
       "5      Certhia familiaris_Eurasian Treecreeper    154             258\n",
       "9           Loxia curvirostra_Common Crossbill    148             125\n",
       "13           Lophophanes cristatus_Crested Tit    115             359\n",
       "11             Turdus viscivorus_Mistle Thrush    112             769\n",
       "3           Dryocopus martius_Black Woodpecker     51             112\n",
       "10  Dendrocopos major_Great Spotted Woodpecker     37             638\n",
       "7         Pyrrhula pyrrhula_Eurasian Bullfinch     29              29\n",
       "6        Phylloscopus trochilus_Willow Warbler     11            1572\n",
       "12               Spinus spinus_Eurasian Siskin      9             632\n",
       "4                  Poecile palustris_Marsh Tit      3              31\n",
       "14                  Prunella modularis_Dunnock      2             270"
      ]
     },
     "execution_count": 47,
     "metadata": {},
     "output_type": "execute_result"
    }
   ],
   "source": [
    "species_count_wabad_fr = {}\n",
    "for species in os.listdir(WABAD_SEGMENTS_PATH):\n",
    "    species_count_wabad_fr[species] = len(os.listdir(os.path.join(WABAD_SEGMENTS_PATH, species)))\n",
    "\n",
    "species_count_wabad_fr_df = pd.DataFrame(list(species_count_wabad_fr.items()), columns=[\"Species\", \"Count WABAD FR\"])\n",
    "merged_df = pd.merge(species_count_df, species_count_wabad_fr_df, on=\"Species\", how=\"inner\")\n",
    "merged_df.sort_values(by=[\"Count\"], ascending=False)"
   ]
  }
 ],
 "metadata": {
  "kernelspec": {
   "display_name": "myenv",
   "language": "python",
   "name": "python3"
  },
  "language_info": {
   "codemirror_mode": {
    "name": "ipython",
    "version": 3
   },
   "file_extension": ".py",
   "mimetype": "text/x-python",
   "name": "python",
   "nbconvert_exporter": "python",
   "pygments_lexer": "ipython3",
   "version": "3.9.21"
  }
 },
 "nbformat": 4,
 "nbformat_minor": 2
}
