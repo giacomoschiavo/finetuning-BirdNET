{
 "cells": [
  {
   "cell_type": "code",
   "execution_count": 1,
   "metadata": {},
   "outputs": [],
   "source": [
    "import os\n",
    "import numpy as np"
   ]
  },
  {
   "cell_type": "code",
   "execution_count": 12,
   "metadata": {},
   "outputs": [],
   "source": [
    "root = \"D:\\\\Giacomo\\\\master_thesis\\\\audio\"\n",
    "train_test_split = 0.8\n",
    "final_train_folder = \"D:\\\\Giacomo\\\\master_thesis\\\\train\"\n",
    "final_test_folder = \"D:\\\\Giacomo\\\\master_thesis\\\\test\"\n",
    "os.makedirs(os.path.join(final_train_folder), exist_ok=True)\n",
    "os.makedirs(os.path.join(final_test_folder), exist_ok=True)"
   ]
  },
  {
   "cell_type": "code",
   "execution_count": null,
   "metadata": {},
   "outputs": [],
   "source": [
    "# get list of files inside a folder\n",
    "main_folders = os.listdir(root)\n",
    "main_folders"
   ]
  },
  {
   "cell_type": "code",
   "execution_count": 15,
   "metadata": {},
   "outputs": [],
   "source": [
    "for folder in main_folders:\n",
    "    all_files = os.listdir(os.path.join(root, folder))\n",
    "    all_files = np.random.permutation(all_files)\n",
    "    split_index = int(len(all_files) * train_test_split)\n",
    "    train_files = all_files[:split_index]\n",
    "    test_files = all_files[split_index:]\n",
    "    \n",
    "    os.makedirs(os.path.join(final_train_folder), exist_ok=True)\n",
    "    for file in train_files:\n",
    "        os.makedirs(os.path.join(final_train_folder, folder), exist_ok=True)\n",
    "        os.rename(os.path.join(root, folder, file), os.path.join(final_train_folder, folder, file))\n",
    "\n",
    "    os.makedirs(os.path.join(final_test_folder), exist_ok=True)\n",
    "    for file in test_files:\n",
    "        os.makedirs(os.path.join(final_test_folder, folder), exist_ok=True)\n",
    "        os.rename(os.path.join(root, folder, file), os.path.join(final_test_folder, folder, file))"
   ]
  }
 ],
 "metadata": {
  "kernelspec": {
   "display_name": "Python 3",
   "language": "python",
   "name": "python3"
  },
  "language_info": {
   "codemirror_mode": {
    "name": "ipython",
    "version": 3
   },
   "file_extension": ".py",
   "mimetype": "text/x-python",
   "name": "python",
   "nbconvert_exporter": "python",
   "pygments_lexer": "ipython3",
   "version": "3.10.0"
  }
 },
 "nbformat": 4,
 "nbformat_minor": 2
}
